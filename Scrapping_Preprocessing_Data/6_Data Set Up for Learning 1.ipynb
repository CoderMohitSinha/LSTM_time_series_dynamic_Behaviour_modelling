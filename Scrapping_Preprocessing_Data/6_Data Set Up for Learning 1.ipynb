{
 "cells": [
  {
   "cell_type": "markdown",
   "metadata": {},
   "source": [
    "# Data for Learning"
   ]
  },
  {
   "cell_type": "code",
   "execution_count": 333,
   "metadata": {
    "collapsed": true
   },
   "outputs": [],
   "source": [
    "import pandas as pd # import pandas\n",
    "import numpy as np\n",
    "import matplotlib.pyplot as plt\n",
    "import seaborn as sns\n",
    "%matplotlib inline"
   ]
  },
  {
   "cell_type": "code",
   "execution_count": 336,
   "metadata": {
    "collapsed": false
   },
   "outputs": [
    {
     "name": "stdout",
     "output_type": "stream",
     "text": [
      "/Users/Seychelles/Desktop/GoogleTensorflow/Data_Collector/CSV_file_from_2007_to_2017\n"
     ]
    }
   ],
   "source": [
    "%cd CSV_file_from_2007_to_2017"
   ]
  },
  {
   "cell_type": "code",
   "execution_count": 337,
   "metadata": {
    "collapsed": false
   },
   "outputs": [],
   "source": [
    "df_n = pd.read_csv(\"test.csv\") #load data set saved from previous ops\n"
   ]
  },
  {
   "cell_type": "code",
   "execution_count": 338,
   "metadata": {
    "collapsed": true
   },
   "outputs": [],
   "source": [
    "df_n['PM10']= pd.to_numeric(df_n['PM10']) # Convert PM_10 column to Numeric Values"
   ]
  },
  {
   "cell_type": "code",
   "execution_count": 339,
   "metadata": {
    "collapsed": false
   },
   "outputs": [
    {
     "data": {
      "text/plain": [
       "1      NaN\n",
       "2    61.67\n",
       "Name: PM10, dtype: float64"
      ]
     },
     "execution_count": 339,
     "metadata": {},
     "output_type": "execute_result"
    }
   ],
   "source": [
    "df_n['PM10'].replace('NaN', np.nan)[1:3] #replace NAn with zero np.nan"
   ]
  },
  {
   "cell_type": "code",
   "execution_count": 340,
   "metadata": {
    "collapsed": false
   },
   "outputs": [
    {
     "data": {
      "text/html": [
       "<div>\n",
       "<table border=\"1\" class=\"dataframe\">\n",
       "  <thead>\n",
       "    <tr style=\"text-align: right;\">\n",
       "      <th></th>\n",
       "      <th>Unnamed: 0</th>\n",
       "      <th>date</th>\n",
       "      <th>Lat</th>\n",
       "      <th>Lon</th>\n",
       "      <th>PM10</th>\n",
       "      <th>NAME</th>\n",
       "    </tr>\n",
       "  </thead>\n",
       "  <tbody>\n",
       "    <tr>\n",
       "      <th>1</th>\n",
       "      <td>1</td>\n",
       "      <td>2007-01-26 10:00:00</td>\n",
       "      <td>42.0036</td>\n",
       "      <td>21.4636</td>\n",
       "      <td>NaN</td>\n",
       "      <td>Gazi Baba</td>\n",
       "    </tr>\n",
       "  </tbody>\n",
       "</table>\n",
       "</div>"
      ],
      "text/plain": [
       "   Unnamed: 0                 date      Lat      Lon  PM10       NAME\n",
       "1           1  2007-01-26 10:00:00  42.0036  21.4636   NaN  Gazi Baba"
      ]
     },
     "execution_count": 340,
     "metadata": {},
     "output_type": "execute_result"
    }
   ],
   "source": [
    "df_n[1:2]"
   ]
  },
  {
   "cell_type": "code",
   "execution_count": 341,
   "metadata": {
    "collapsed": true
   },
   "outputs": [],
   "source": [
    "df_n.date= pd.to_datetime(df_n.date)  # CONVER TO DATE TIME "
   ]
  },
  {
   "cell_type": "code",
   "execution_count": 342,
   "metadata": {
    "collapsed": false
   },
   "outputs": [
    {
     "data": {
      "text/html": [
       "<div>\n",
       "<table border=\"1\" class=\"dataframe\">\n",
       "  <thead>\n",
       "    <tr style=\"text-align: right;\">\n",
       "      <th></th>\n",
       "      <th>Unnamed: 0</th>\n",
       "      <th>date</th>\n",
       "      <th>Lat</th>\n",
       "      <th>Lon</th>\n",
       "      <th>PM10</th>\n",
       "      <th>NAME</th>\n",
       "    </tr>\n",
       "  </thead>\n",
       "  <tbody>\n",
       "    <tr>\n",
       "      <th>0</th>\n",
       "      <td>0</td>\n",
       "      <td>2007-01-26 10:00:00</td>\n",
       "      <td>41.9925</td>\n",
       "      <td>21.423611</td>\n",
       "      <td>NaN</td>\n",
       "      <td>Centar</td>\n",
       "    </tr>\n",
       "    <tr>\n",
       "      <th>1</th>\n",
       "      <td>1</td>\n",
       "      <td>2007-01-26 10:00:00</td>\n",
       "      <td>42.0036</td>\n",
       "      <td>21.463600</td>\n",
       "      <td>NaN</td>\n",
       "      <td>Gazi Baba</td>\n",
       "    </tr>\n",
       "  </tbody>\n",
       "</table>\n",
       "</div>"
      ],
      "text/plain": [
       "   Unnamed: 0                date      Lat        Lon  PM10       NAME\n",
       "0           0 2007-01-26 10:00:00  41.9925  21.423611   NaN     Centar\n",
       "1           1 2007-01-26 10:00:00  42.0036  21.463600   NaN  Gazi Baba"
      ]
     },
     "execution_count": 342,
     "metadata": {},
     "output_type": "execute_result"
    }
   ],
   "source": [
    "df_n[0:2] # "
   ]
  },
  {
   "cell_type": "code",
   "execution_count": 343,
   "metadata": {
    "collapsed": true
   },
   "outputs": [],
   "source": [
    "df_n.drop(['Lat','Lon','NAME','Unnamed: 0'], axis = 1, inplace = True, errors = 'ignore')\n",
    "#drop non useful columns"
   ]
  },
  {
   "cell_type": "code",
   "execution_count": 344,
   "metadata": {
    "collapsed": true
   },
   "outputs": [],
   "source": [
    "df_n.date= pd.to_datetime(df_n.date)  # Convert to dat time"
   ]
  },
  {
   "cell_type": "code",
   "execution_count": 345,
   "metadata": {
    "collapsed": true
   },
   "outputs": [],
   "source": [
    "df_n.sort_values(by='date',ascending=True,inplace=True) # sort data sets"
   ]
  },
  {
   "cell_type": "code",
   "execution_count": 346,
   "metadata": {
    "collapsed": false
   },
   "outputs": [
    {
     "data": {
      "text/html": [
       "<div>\n",
       "<table border=\"1\" class=\"dataframe\">\n",
       "  <thead>\n",
       "    <tr style=\"text-align: right;\">\n",
       "      <th></th>\n",
       "      <th>date</th>\n",
       "      <th>PM10</th>\n",
       "    </tr>\n",
       "  </thead>\n",
       "  <tbody>\n",
       "    <tr>\n",
       "      <th>9414</th>\n",
       "      <td>2007-01-02</td>\n",
       "      <td>NaN</td>\n",
       "    </tr>\n",
       "    <tr>\n",
       "      <th>9408</th>\n",
       "      <td>2007-01-02</td>\n",
       "      <td>NaN</td>\n",
       "    </tr>\n",
       "    <tr>\n",
       "      <th>9411</th>\n",
       "      <td>2007-01-02</td>\n",
       "      <td>NaN</td>\n",
       "    </tr>\n",
       "    <tr>\n",
       "      <th>9412</th>\n",
       "      <td>2007-01-02</td>\n",
       "      <td>204.92</td>\n",
       "    </tr>\n",
       "  </tbody>\n",
       "</table>\n",
       "</div>"
      ],
      "text/plain": [
       "           date    PM10\n",
       "9414 2007-01-02     NaN\n",
       "9408 2007-01-02     NaN\n",
       "9411 2007-01-02     NaN\n",
       "9412 2007-01-02  204.92"
      ]
     },
     "execution_count": 346,
     "metadata": {},
     "output_type": "execute_result"
    }
   ],
   "source": [
    "df_n[0:4]"
   ]
  },
  {
   "cell_type": "code",
   "execution_count": null,
   "metadata": {
    "collapsed": false
   },
   "outputs": [],
   "source": []
  },
  {
   "cell_type": "code",
   "execution_count": 347,
   "metadata": {
    "collapsed": true
   },
   "outputs": [],
   "source": [
    "df_n = df_n.reset_index(drop=True) # reset index"
   ]
  },
  {
   "cell_type": "code",
   "execution_count": 348,
   "metadata": {
    "collapsed": false
   },
   "outputs": [
    {
     "data": {
      "text/html": [
       "<div>\n",
       "<table border=\"1\" class=\"dataframe\">\n",
       "  <thead>\n",
       "    <tr style=\"text-align: right;\">\n",
       "      <th></th>\n",
       "      <th>date</th>\n",
       "      <th>PM10</th>\n",
       "    </tr>\n",
       "  </thead>\n",
       "  <tbody>\n",
       "    <tr>\n",
       "      <th>0</th>\n",
       "      <td>2007-01-02</td>\n",
       "      <td>NaN</td>\n",
       "    </tr>\n",
       "    <tr>\n",
       "      <th>1</th>\n",
       "      <td>2007-01-02</td>\n",
       "      <td>NaN</td>\n",
       "    </tr>\n",
       "    <tr>\n",
       "      <th>2</th>\n",
       "      <td>2007-01-02</td>\n",
       "      <td>NaN</td>\n",
       "    </tr>\n",
       "    <tr>\n",
       "      <th>3</th>\n",
       "      <td>2007-01-02</td>\n",
       "      <td>204.92</td>\n",
       "    </tr>\n",
       "    <tr>\n",
       "      <th>4</th>\n",
       "      <td>2007-01-02</td>\n",
       "      <td>NaN</td>\n",
       "    </tr>\n",
       "  </tbody>\n",
       "</table>\n",
       "</div>"
      ],
      "text/plain": [
       "        date    PM10\n",
       "0 2007-01-02     NaN\n",
       "1 2007-01-02     NaN\n",
       "2 2007-01-02     NaN\n",
       "3 2007-01-02  204.92\n",
       "4 2007-01-02     NaN"
      ]
     },
     "execution_count": 348,
     "metadata": {},
     "output_type": "execute_result"
    }
   ],
   "source": [
    "df_n[0:5]"
   ]
  },
  {
   "cell_type": "code",
   "execution_count": 13,
   "metadata": {
    "collapsed": true
   },
   "outputs": [],
   "source": [
    "#df_n.set_index('date',inplace=True); # set index as date \n",
    "#del df_n.index.name  # delete index name"
   ]
  },
  {
   "cell_type": "markdown",
   "metadata": {},
   "source": [
    "<p> Count the Null Values present</p>"
   ]
  },
  {
   "cell_type": "code",
   "execution_count": 349,
   "metadata": {
    "collapsed": false
   },
   "outputs": [
    {
     "data": {
      "text/plain": [
       "date    False\n",
       "PM10     True\n",
       "dtype: bool"
      ]
     },
     "execution_count": 349,
     "metadata": {},
     "output_type": "execute_result"
    }
   ],
   "source": [
    "df_n.isnull().any() # date has no null value while PM10 has null value"
   ]
  },
  {
   "cell_type": "code",
   "execution_count": 350,
   "metadata": {
    "collapsed": false
   },
   "outputs": [
    {
     "data": {
      "text/plain": [
       "date         0\n",
       "PM10    255713\n",
       "dtype: int64"
      ]
     },
     "execution_count": 350,
     "metadata": {},
     "output_type": "execute_result"
    }
   ],
   "source": [
    "df_n.isnull().sum() # null value counts"
   ]
  },
  {
   "cell_type": "markdown",
   "metadata": {},
   "source": [
    "<p><b> Define Function to Make column with -1 for Nan and 1 for Numeric Values</b></p>\n",
    "<p> Always we define a function to Normalize and Standardize data sets <p>"
   ]
  },
  {
   "cell_type": "code",
   "execution_count": 351,
   "metadata": {
    "collapsed": false
   },
   "outputs": [],
   "source": [
    "\n",
    "def Make_Indicator_Column_For_Nan(x):\n",
    "    if (np.isnan(x)):\n",
    "        val = -1\n",
    "    else:\n",
    "        val = 1\n",
    "    return val\n",
    "\n",
    "def Normalize(x):\n",
    "    x = (x - x.mean())/(x.max()-x.min())\n",
    "    return(x);\n",
    "\n",
    "def first_difference(x):\n",
    "    difference = x - x.shift(1);\n",
    "    return (difference);\n",
    "\n",
    "def Standardize(x):\n",
    "    x = (x - x.mean())/x.std()\n",
    "    return(x);\n",
    "\n",
    "def recover(original_PandasSeries,differenced_PandasSeries):\n",
    "    '''\n",
    "    Using the diffreence data set , we need to recover the initial \n",
    "    set, this function does that:\n",
    "    Input: Differenced pandas series\n",
    "           Original Series \n",
    "    Output: Compute the original\n",
    "    \n",
    "    The aim is that when we make prediction with the differenced \n",
    "    data sets we should be able to convert to original set.\n",
    "    '''\n",
    "    i= 0;\n",
    "    c = len(original_PandasSeries);\n",
    "    recovered_set =[];\n",
    "    #print(b)\n",
    "    for k in range(0,c):\n",
    "        if (k ==0):\n",
    "            temp = a[k];\n",
    "            recovered_set.append(temp);\n",
    "        else:\n",
    "            i=i+1;\n",
    "            temp = original_PandasSeries[k-1]+ differenced_PandasSeries[i];\n",
    "            recovered_set.append(temp);\n",
    "    recovered_setArray=np.array(recovered_set);\n",
    "    return (recovered_setArray)        \n",
    "\n",
    "\n",
    "#d[\"recovered_set\"] = recovered # add to data set\n",
    "#Or use differece differenced_PandasSeries + differenced_PandasSeries.shift(1)"
   ]
  },
  {
   "cell_type": "markdown",
   "metadata": {
    "collapsed": false
   },
   "source": [
    "<p> Apply the function Above </p>"
   ]
  },
  {
   "cell_type": "code",
   "execution_count": 352,
   "metadata": {
    "collapsed": true
   },
   "outputs": [],
   "source": [
    "df_n['PM10_null_pointers']=df_n.PM10.apply(Make_Indicator_Column_For_Nan)"
   ]
  },
  {
   "cell_type": "code",
   "execution_count": 353,
   "metadata": {
    "collapsed": false
   },
   "outputs": [
    {
     "data": {
      "text/html": [
       "<div>\n",
       "<table border=\"1\" class=\"dataframe\">\n",
       "  <thead>\n",
       "    <tr style=\"text-align: right;\">\n",
       "      <th></th>\n",
       "      <th>date</th>\n",
       "      <th>PM10</th>\n",
       "      <th>PM10_null_pointers</th>\n",
       "    </tr>\n",
       "  </thead>\n",
       "  <tbody>\n",
       "    <tr>\n",
       "      <th>1</th>\n",
       "      <td>2007-01-02</td>\n",
       "      <td>NaN</td>\n",
       "      <td>-1</td>\n",
       "    </tr>\n",
       "    <tr>\n",
       "      <th>2</th>\n",
       "      <td>2007-01-02</td>\n",
       "      <td>NaN</td>\n",
       "      <td>-1</td>\n",
       "    </tr>\n",
       "  </tbody>\n",
       "</table>\n",
       "</div>"
      ],
      "text/plain": [
       "        date  PM10  PM10_null_pointers\n",
       "1 2007-01-02   NaN                  -1\n",
       "2 2007-01-02   NaN                  -1"
      ]
     },
     "execution_count": 353,
     "metadata": {},
     "output_type": "execute_result"
    }
   ],
   "source": [
    "df_n[1:3]"
   ]
  },
  {
   "cell_type": "code",
   "execution_count": 354,
   "metadata": {
    "collapsed": true
   },
   "outputs": [],
   "source": [
    "df_Normalized = df_n.copy(deep=True)  #Normalized"
   ]
  },
  {
   "cell_type": "code",
   "execution_count": 355,
   "metadata": {
    "collapsed": true
   },
   "outputs": [],
   "source": [
    "df_Standardized = df_n.copy(deep=True) # Standardized"
   ]
  },
  {
   "cell_type": "code",
   "execution_count": 356,
   "metadata": {
    "collapsed": true
   },
   "outputs": [],
   "source": [
    "df_Normalized.PM10 = Normalize(df_Normalized.PM10) #Normalize"
   ]
  },
  {
   "cell_type": "code",
   "execution_count": 357,
   "metadata": {
    "collapsed": true
   },
   "outputs": [],
   "source": [
    "df_Standardized.PM10 = Standardize(df_Standardized.PM10) #Standardize"
   ]
  },
  {
   "cell_type": "code",
   "execution_count": 358,
   "metadata": {
    "collapsed": false
   },
   "outputs": [
    {
     "data": {
      "text/html": [
       "<div>\n",
       "<table border=\"1\" class=\"dataframe\">\n",
       "  <thead>\n",
       "    <tr style=\"text-align: right;\">\n",
       "      <th></th>\n",
       "      <th>date</th>\n",
       "      <th>PM10</th>\n",
       "      <th>PM10_null_pointers</th>\n",
       "    </tr>\n",
       "  </thead>\n",
       "  <tbody>\n",
       "    <tr>\n",
       "      <th>0</th>\n",
       "      <td>2007-01-02</td>\n",
       "      <td>NaN</td>\n",
       "      <td>-1</td>\n",
       "    </tr>\n",
       "    <tr>\n",
       "      <th>1</th>\n",
       "      <td>2007-01-02</td>\n",
       "      <td>NaN</td>\n",
       "      <td>-1</td>\n",
       "    </tr>\n",
       "    <tr>\n",
       "      <th>2</th>\n",
       "      <td>2007-01-02</td>\n",
       "      <td>NaN</td>\n",
       "      <td>-1</td>\n",
       "    </tr>\n",
       "    <tr>\n",
       "      <th>3</th>\n",
       "      <td>2007-01-02</td>\n",
       "      <td>0.118376</td>\n",
       "      <td>1</td>\n",
       "    </tr>\n",
       "    <tr>\n",
       "      <th>4</th>\n",
       "      <td>2007-01-02</td>\n",
       "      <td>NaN</td>\n",
       "      <td>-1</td>\n",
       "    </tr>\n",
       "  </tbody>\n",
       "</table>\n",
       "</div>"
      ],
      "text/plain": [
       "        date      PM10  PM10_null_pointers\n",
       "0 2007-01-02       NaN                  -1\n",
       "1 2007-01-02       NaN                  -1\n",
       "2 2007-01-02       NaN                  -1\n",
       "3 2007-01-02  0.118376                   1\n",
       "4 2007-01-02       NaN                  -1"
      ]
     },
     "execution_count": 358,
     "metadata": {},
     "output_type": "execute_result"
    }
   ],
   "source": [
    "df_Normalized.head()"
   ]
  },
  {
   "cell_type": "code",
   "execution_count": 359,
   "metadata": {
    "collapsed": false
   },
   "outputs": [
    {
     "data": {
      "text/html": [
       "<div>\n",
       "<table border=\"1\" class=\"dataframe\">\n",
       "  <thead>\n",
       "    <tr style=\"text-align: right;\">\n",
       "      <th></th>\n",
       "      <th>date</th>\n",
       "      <th>PM10</th>\n",
       "      <th>PM10_null_pointers</th>\n",
       "    </tr>\n",
       "  </thead>\n",
       "  <tbody>\n",
       "    <tr>\n",
       "      <th>0</th>\n",
       "      <td>2007-01-02</td>\n",
       "      <td>NaN</td>\n",
       "      <td>-1</td>\n",
       "    </tr>\n",
       "    <tr>\n",
       "      <th>1</th>\n",
       "      <td>2007-01-02</td>\n",
       "      <td>NaN</td>\n",
       "      <td>-1</td>\n",
       "    </tr>\n",
       "    <tr>\n",
       "      <th>2</th>\n",
       "      <td>2007-01-02</td>\n",
       "      <td>NaN</td>\n",
       "      <td>-1</td>\n",
       "    </tr>\n",
       "    <tr>\n",
       "      <th>3</th>\n",
       "      <td>2007-01-02</td>\n",
       "      <td>1.499629</td>\n",
       "      <td>1</td>\n",
       "    </tr>\n",
       "    <tr>\n",
       "      <th>4</th>\n",
       "      <td>2007-01-02</td>\n",
       "      <td>NaN</td>\n",
       "      <td>-1</td>\n",
       "    </tr>\n",
       "  </tbody>\n",
       "</table>\n",
       "</div>"
      ],
      "text/plain": [
       "        date      PM10  PM10_null_pointers\n",
       "0 2007-01-02       NaN                  -1\n",
       "1 2007-01-02       NaN                  -1\n",
       "2 2007-01-02       NaN                  -1\n",
       "3 2007-01-02  1.499629                   1\n",
       "4 2007-01-02       NaN                  -1"
      ]
     },
     "execution_count": 359,
     "metadata": {},
     "output_type": "execute_result"
    }
   ],
   "source": [
    "df_Standardized.head()"
   ]
  },
  {
   "cell_type": "markdown",
   "metadata": {},
   "source": [
    "<p> <b> Differenced Data      </b> </p>"
   ]
  },
  {
   "cell_type": "code",
   "execution_count": 365,
   "metadata": {
    "collapsed": true
   },
   "outputs": [],
   "source": [
    "df_differenced = df_Normalized.copy(deep=True)"
   ]
  },
  {
   "cell_type": "code",
   "execution_count": 366,
   "metadata": {
    "collapsed": true
   },
   "outputs": [],
   "source": [
    "df_differenced.fillna(0,inplace=True)   #fill na to compute first difference "
   ]
  },
  {
   "cell_type": "code",
   "execution_count": 367,
   "metadata": {
    "collapsed": true
   },
   "outputs": [],
   "source": [
    "df_differenced.PM10 = first_difference(df_differenced.PM10) # first Difference"
   ]
  },
  {
   "cell_type": "code",
   "execution_count": 368,
   "metadata": {
    "collapsed": false
   },
   "outputs": [
    {
     "data": {
      "text/plain": [
       "date                  0\n",
       "PM10                  1\n",
       "PM10_null_pointers    0\n",
       "dtype: int64"
      ]
     },
     "execution_count": 368,
     "metadata": {},
     "output_type": "execute_result"
    }
   ],
   "source": [
    "df_differenced.isnull().sum()"
   ]
  },
  {
   "cell_type": "code",
   "execution_count": 369,
   "metadata": {
    "collapsed": true
   },
   "outputs": [],
   "source": [
    "df_differenced.fillna(0,inplace=True)   #fill na to compute first difference "
   ]
  },
  {
   "cell_type": "code",
   "execution_count": 370,
   "metadata": {
    "collapsed": false
   },
   "outputs": [
    {
     "data": {
      "text/html": [
       "<div>\n",
       "<table border=\"1\" class=\"dataframe\">\n",
       "  <thead>\n",
       "    <tr style=\"text-align: right;\">\n",
       "      <th></th>\n",
       "      <th>date</th>\n",
       "      <th>PM10</th>\n",
       "      <th>PM10_null_pointers</th>\n",
       "    </tr>\n",
       "  </thead>\n",
       "  <tbody>\n",
       "    <tr>\n",
       "      <th>2340</th>\n",
       "      <td>2007-01-10 22:00:00</td>\n",
       "      <td>0.006117</td>\n",
       "      <td>-1</td>\n",
       "    </tr>\n",
       "    <tr>\n",
       "      <th>2341</th>\n",
       "      <td>2007-01-10 22:00:00</td>\n",
       "      <td>0.016462</td>\n",
       "      <td>1</td>\n",
       "    </tr>\n",
       "    <tr>\n",
       "      <th>2342</th>\n",
       "      <td>2007-01-10 22:00:00</td>\n",
       "      <td>-0.016462</td>\n",
       "      <td>-1</td>\n",
       "    </tr>\n",
       "    <tr>\n",
       "      <th>2343</th>\n",
       "      <td>2007-01-10 22:00:00</td>\n",
       "      <td>0.000000</td>\n",
       "      <td>-1</td>\n",
       "    </tr>\n",
       "    <tr>\n",
       "      <th>2344</th>\n",
       "      <td>2007-01-10 22:00:00</td>\n",
       "      <td>0.000000</td>\n",
       "      <td>-1</td>\n",
       "    </tr>\n",
       "    <tr>\n",
       "      <th>2345</th>\n",
       "      <td>2007-01-10 23:00:00</td>\n",
       "      <td>0.000000</td>\n",
       "      <td>-1</td>\n",
       "    </tr>\n",
       "    <tr>\n",
       "      <th>2346</th>\n",
       "      <td>2007-01-10 23:00:00</td>\n",
       "      <td>0.000000</td>\n",
       "      <td>-1</td>\n",
       "    </tr>\n",
       "    <tr>\n",
       "      <th>2347</th>\n",
       "      <td>2007-01-10 23:00:00</td>\n",
       "      <td>0.002336</td>\n",
       "      <td>1</td>\n",
       "    </tr>\n",
       "    <tr>\n",
       "      <th>2348</th>\n",
       "      <td>2007-01-10 23:00:00</td>\n",
       "      <td>-0.002336</td>\n",
       "      <td>-1</td>\n",
       "    </tr>\n",
       "    <tr>\n",
       "      <th>2349</th>\n",
       "      <td>2007-01-10 23:00:00</td>\n",
       "      <td>0.043752</td>\n",
       "      <td>1</td>\n",
       "    </tr>\n",
       "  </tbody>\n",
       "</table>\n",
       "</div>"
      ],
      "text/plain": [
       "                    date      PM10  PM10_null_pointers\n",
       "2340 2007-01-10 22:00:00  0.006117                  -1\n",
       "2341 2007-01-10 22:00:00  0.016462                   1\n",
       "2342 2007-01-10 22:00:00 -0.016462                  -1\n",
       "2343 2007-01-10 22:00:00  0.000000                  -1\n",
       "2344 2007-01-10 22:00:00  0.000000                  -1\n",
       "2345 2007-01-10 23:00:00  0.000000                  -1\n",
       "2346 2007-01-10 23:00:00  0.000000                  -1\n",
       "2347 2007-01-10 23:00:00  0.002336                   1\n",
       "2348 2007-01-10 23:00:00 -0.002336                  -1\n",
       "2349 2007-01-10 23:00:00  0.043752                   1"
      ]
     },
     "execution_count": 370,
     "metadata": {},
     "output_type": "execute_result"
    }
   ],
   "source": [
    "df_differenced[2340:2350]"
   ]
  },
  {
   "cell_type": "markdown",
   "metadata": {},
   "source": [
    "# Import Additional feature sets"
   ]
  },
  {
   "cell_type": "code",
   "execution_count": 8,
   "metadata": {
    "collapsed": false
   },
   "outputs": [
    {
     "name": "stdout",
     "output_type": "stream",
     "text": [
      "Cov_nonstationary.png               Var_nonstationary.png\r\n",
      "EasternRegion_CO_airpointers.csv    WesternRegion_CO_airpointers.csv\r\n",
      "EasternRegion_NO2_airpointers.csv   WesternRegion_NO2_airpointers.csv\r\n",
      "EasternRegion_O3_airpointers.csv    WesternRegion_O3_airpointers.csv\r\n",
      "EasternRegion_PM10_airpointers.csv  WesternRegion_PM10_airpointers.csv\r\n",
      "EasternRegion_PM25_airpointers.csv  WesternRegion_PM25_airpointers.csv\r\n",
      "EasternRegion_SO2_airpointers.csv   WesternRegion_SO2_airpointers.csv\r\n",
      "ImpurityList_with_Indicator         data.xlsx\r\n",
      "Mean_nonstationary.png              newfile.xlsx\r\n",
      "SkopjeRegion_CO_airpointers.csv     outfile\r\n",
      "SkopjeRegion_NO2_airpointers.csv    outfile1\r\n",
      "SkopjeRegion_O3_airpointers.csv     processed_with_columns_droped.csv\r\n",
      "SkopjeRegion_PM10_airpointers.csv   raw_processed.csv\r\n",
      "SkopjeRegion_PM25_airpointers.csv   test.csv\r\n",
      "SkopjeRegion_SO2_airpointers.csv\r\n"
     ]
    }
   ],
   "source": [
    "%ls\n"
   ]
  },
  {
   "cell_type": "code",
   "execution_count": 951,
   "metadata": {
    "collapsed": true
   },
   "outputs": [],
   "source": [
    "# Import Data sets"
   ]
  },
  {
   "cell_type": "code",
   "execution_count": 144,
   "metadata": {
    "collapsed": true
   },
   "outputs": [],
   "source": [
    "df_CO = pd.read_csv('SkopjeRegion_CO_airpointers.csv');\n",
    "df_NO2 = pd.read_csv('SkopjeRegion_NO2_airpointers.csv');\n",
    "df_O3 = pd.read_csv('SkopjeRegion_O3_airpointers.csv');\n",
    "df_SO3 = pd.read_csv('SkopjeRegion_SO2_airpointers.csv');\n",
    "df_PM25 = pd.read_csv('SkopjeRegion_PM25_airpointers.csv');"
   ]
  },
  {
   "cell_type": "code",
   "execution_count": 145,
   "metadata": {
    "collapsed": false
   },
   "outputs": [],
   "source": [
    "ImpurityList = [df_CO,df_NO2,df_O3,df_PM25] #create data set list"
   ]
  },
  {
   "cell_type": "code",
   "execution_count": 146,
   "metadata": {
    "collapsed": false
   },
   "outputs": [],
   "source": [
    "# Preprocess data set \n",
    "\n",
    "def preprocess(FrameList):\n",
    "    '''\n",
    "    Input:\n",
    "         List of Dataframes\n",
    "    Output:\n",
    "         List of data frames with 4 dropped columns and renamed\n",
    "    '''\n",
    "    \n",
    "    \n",
    "    for i in range(0,len(FrameList)):\n",
    "        print(i)\n",
    "        column_name=FrameList[i].columns[0]\n",
    "        column_replace = FrameList[i].columns[0][18:-5]\n",
    "        print (column_replace)\n",
    "        FrameList[i] = FrameList[i].rename(columns = {column_name:'x'});\n",
    "        FrameList[i]=pd.DataFrame(FrameList[i].x.str.split(';',5).tolist(),columns = ['date','Lat','Lon',column_replace,'NAME'])\n",
    "        FrameList[i].drop(['Lat','Lon','NAME'], axis = 1, inplace = True, errors = 'ignore')\n",
    "    return (FrameList);\n",
    "    "
   ]
  },
  {
   "cell_type": "code",
   "execution_count": 116,
   "metadata": {
    "collapsed": false
   },
   "outputs": [
    {
     "name": "stdout",
     "output_type": "stream",
     "text": [
      "0\n",
      "CO\n",
      "1\n",
      "NO2\n",
      "2\n",
      "O3\n",
      "3\n",
      "PM25\n"
     ]
    }
   ],
   "source": [
    "# Apply function on List\n",
    "DataFrameList = preprocess(ImpurityList);"
   ]
  },
  {
   "cell_type": "code",
   "execution_count": 147,
   "metadata": {
    "collapsed": false
   },
   "outputs": [
    {
     "name": "stdout",
     "output_type": "stream",
     "text": [
      "CO\n",
      "NO2\n",
      "O3\n",
      "PM25\n"
     ]
    }
   ],
   "source": [
    "# Add Indicator for other variables for the impurity\n",
    "for i in range(0,len(DataFrameList)):\n",
    "    l= DataFrameList[i].columns[1]\n",
    "    print(l)\n",
    "    DataFrameList[i][str(l)]= pd.to_numeric(DataFrameList[i][str(l)]) #\n",
    "    DataFrameList[i][str(l)].replace('NaN', np.NaN) #replace NAn with zero np.nan\n",
    "    DataFrameList[i][str(l)+' indicators']= DataFrameList[i][str(l)].apply(Make_Indicator_Column_For_Nan)\n",
    "    \n",
    "    "
   ]
  },
  {
   "cell_type": "code",
   "execution_count": 117,
   "metadata": {
    "collapsed": false
   },
   "outputs": [
    {
     "data": {
      "text/html": [
       "<div>\n",
       "<table border=\"1\" class=\"dataframe\">\n",
       "  <thead>\n",
       "    <tr style=\"text-align: right;\">\n",
       "      <th></th>\n",
       "      <th>date</th>\n",
       "      <th>CO</th>\n",
       "    </tr>\n",
       "  </thead>\n",
       "  <tbody>\n",
       "    <tr>\n",
       "      <th>0</th>\n",
       "      <td>26.01.2007 10</td>\n",
       "      <td>0.49</td>\n",
       "    </tr>\n",
       "    <tr>\n",
       "      <th>1</th>\n",
       "      <td>26.01.2007 10</td>\n",
       "      <td>0.78</td>\n",
       "    </tr>\n",
       "    <tr>\n",
       "      <th>2</th>\n",
       "      <td>26.01.2007 10</td>\n",
       "      <td>1.02</td>\n",
       "    </tr>\n",
       "    <tr>\n",
       "      <th>3</th>\n",
       "      <td>26.01.2007 10</td>\n",
       "      <td>0.91</td>\n",
       "    </tr>\n",
       "    <tr>\n",
       "      <th>4</th>\n",
       "      <td>26.01.2007 10</td>\n",
       "      <td>1.00</td>\n",
       "    </tr>\n",
       "  </tbody>\n",
       "</table>\n",
       "</div>"
      ],
      "text/plain": [
       "            date    CO\n",
       "0  26.01.2007 10  0.49\n",
       "1  26.01.2007 10  0.78\n",
       "2  26.01.2007 10  1.02\n",
       "3  26.01.2007 10  0.91\n",
       "4  26.01.2007 10  1.00"
      ]
     },
     "execution_count": 117,
     "metadata": {},
     "output_type": "execute_result"
    }
   ],
   "source": [
    "DataFrameList[0][0:5]"
   ]
  },
  {
   "cell_type": "markdown",
   "metadata": {},
   "source": [
    "<p> Same data set with pickle</p>"
   ]
  },
  {
   "cell_type": "code",
   "execution_count": 17,
   "metadata": {
    "collapsed": false
   },
   "outputs": [],
   "source": [
    "import pickle as pick\n",
    "with open('ImpurityList_with_Indicator', 'wb') as fp:\n",
    "    pick.dump(DataFrameList, fp)"
   ]
  },
  {
   "cell_type": "code",
   "execution_count": null,
   "metadata": {
    "collapsed": false
   },
   "outputs": [],
   "source": [
    "import pickle as pick\n",
    "with open ('ImpurityList_with_Indicator', 'rb') as fp:\n",
    "    DataFrameList= pick.load(fp)"
   ]
  },
  {
   "cell_type": "code",
   "execution_count": 148,
   "metadata": {
    "collapsed": false
   },
   "outputs": [],
   "source": [
    "# Copy data set to define Normalized and Stabdardized sets\n",
    "import copy\n",
    "NewDataFrameListNormalized=copy.deepcopy(DataFrameList)\n",
    "NewDataFrameListStandardized=copy.deepcopy(DataFrameList)"
   ]
  },
  {
   "cell_type": "code",
   "execution_count": 151,
   "metadata": {
    "collapsed": false
   },
   "outputs": [
    {
     "data": {
      "text/html": [
       "<div>\n",
       "<table border=\"1\" class=\"dataframe\">\n",
       "  <thead>\n",
       "    <tr style=\"text-align: right;\">\n",
       "      <th></th>\n",
       "      <th>date</th>\n",
       "      <th>CO</th>\n",
       "      <th>CO indicators</th>\n",
       "    </tr>\n",
       "  </thead>\n",
       "  <tbody>\n",
       "    <tr>\n",
       "      <th>0</th>\n",
       "      <td>26.01.2007 10</td>\n",
       "      <td>0.49</td>\n",
       "      <td>1</td>\n",
       "    </tr>\n",
       "    <tr>\n",
       "      <th>1</th>\n",
       "      <td>26.01.2007 10</td>\n",
       "      <td>0.78</td>\n",
       "      <td>1</td>\n",
       "    </tr>\n",
       "    <tr>\n",
       "      <th>2</th>\n",
       "      <td>26.01.2007 10</td>\n",
       "      <td>1.02</td>\n",
       "      <td>1</td>\n",
       "    </tr>\n",
       "    <tr>\n",
       "      <th>3</th>\n",
       "      <td>26.01.2007 10</td>\n",
       "      <td>0.91</td>\n",
       "      <td>1</td>\n",
       "    </tr>\n",
       "    <tr>\n",
       "      <th>4</th>\n",
       "      <td>26.01.2007 10</td>\n",
       "      <td>1.00</td>\n",
       "      <td>1</td>\n",
       "    </tr>\n",
       "    <tr>\n",
       "      <th>5</th>\n",
       "      <td>26.01.2007 10</td>\n",
       "      <td>NaN</td>\n",
       "      <td>-1</td>\n",
       "    </tr>\n",
       "    <tr>\n",
       "      <th>6</th>\n",
       "      <td>26.01.2007 10</td>\n",
       "      <td>NaN</td>\n",
       "      <td>-1</td>\n",
       "    </tr>\n",
       "    <tr>\n",
       "      <th>7</th>\n",
       "      <td>15.01.2007 01</td>\n",
       "      <td>3.44</td>\n",
       "      <td>1</td>\n",
       "    </tr>\n",
       "  </tbody>\n",
       "</table>\n",
       "</div>"
      ],
      "text/plain": [
       "            date    CO  CO indicators\n",
       "0  26.01.2007 10  0.49              1\n",
       "1  26.01.2007 10  0.78              1\n",
       "2  26.01.2007 10  1.02              1\n",
       "3  26.01.2007 10  0.91              1\n",
       "4  26.01.2007 10  1.00              1\n",
       "5  26.01.2007 10   NaN             -1\n",
       "6  26.01.2007 10   NaN             -1\n",
       "7  15.01.2007 01  3.44              1"
      ]
     },
     "execution_count": 151,
     "metadata": {},
     "output_type": "execute_result"
    }
   ],
   "source": [
    "NewDataFrameListNormalized[0][0:8]"
   ]
  },
  {
   "cell_type": "code",
   "execution_count": 152,
   "metadata": {
    "collapsed": false
   },
   "outputs": [
    {
     "data": {
      "text/html": [
       "<div>\n",
       "<table border=\"1\" class=\"dataframe\">\n",
       "  <thead>\n",
       "    <tr style=\"text-align: right;\">\n",
       "      <th></th>\n",
       "      <th>date</th>\n",
       "      <th>CO</th>\n",
       "      <th>CO indicators</th>\n",
       "    </tr>\n",
       "  </thead>\n",
       "  <tbody>\n",
       "    <tr>\n",
       "      <th>0</th>\n",
       "      <td>26.01.2007 10</td>\n",
       "      <td>0.49</td>\n",
       "      <td>1</td>\n",
       "    </tr>\n",
       "    <tr>\n",
       "      <th>1</th>\n",
       "      <td>26.01.2007 10</td>\n",
       "      <td>0.78</td>\n",
       "      <td>1</td>\n",
       "    </tr>\n",
       "    <tr>\n",
       "      <th>2</th>\n",
       "      <td>26.01.2007 10</td>\n",
       "      <td>1.02</td>\n",
       "      <td>1</td>\n",
       "    </tr>\n",
       "    <tr>\n",
       "      <th>3</th>\n",
       "      <td>26.01.2007 10</td>\n",
       "      <td>0.91</td>\n",
       "      <td>1</td>\n",
       "    </tr>\n",
       "    <tr>\n",
       "      <th>4</th>\n",
       "      <td>26.01.2007 10</td>\n",
       "      <td>1.00</td>\n",
       "      <td>1</td>\n",
       "    </tr>\n",
       "    <tr>\n",
       "      <th>5</th>\n",
       "      <td>26.01.2007 10</td>\n",
       "      <td>NaN</td>\n",
       "      <td>-1</td>\n",
       "    </tr>\n",
       "    <tr>\n",
       "      <th>6</th>\n",
       "      <td>26.01.2007 10</td>\n",
       "      <td>NaN</td>\n",
       "      <td>-1</td>\n",
       "    </tr>\n",
       "    <tr>\n",
       "      <th>7</th>\n",
       "      <td>15.01.2007 01</td>\n",
       "      <td>3.44</td>\n",
       "      <td>1</td>\n",
       "    </tr>\n",
       "  </tbody>\n",
       "</table>\n",
       "</div>"
      ],
      "text/plain": [
       "            date    CO  CO indicators\n",
       "0  26.01.2007 10  0.49              1\n",
       "1  26.01.2007 10  0.78              1\n",
       "2  26.01.2007 10  1.02              1\n",
       "3  26.01.2007 10  0.91              1\n",
       "4  26.01.2007 10  1.00              1\n",
       "5  26.01.2007 10   NaN             -1\n",
       "6  26.01.2007 10   NaN             -1\n",
       "7  15.01.2007 01  3.44              1"
      ]
     },
     "execution_count": 152,
     "metadata": {},
     "output_type": "execute_result"
    }
   ],
   "source": [
    "NewDataFrameListStandardized[0][0:8]"
   ]
  },
  {
   "cell_type": "code",
   "execution_count": 153,
   "metadata": {
    "collapsed": false
   },
   "outputs": [],
   "source": [
    "def datePreprocess(List):\n",
    "    for i in range(0,len(List)):\n",
    "        l = List[i].columns[0]\n",
    "        print(l)\n",
    "        #NewDataFrameListStandardized[i][str(l)] = Standardize(NewDataFrameListStandardized[i][str(l)]) #Normalize\n",
    "        List[i][str(l)]= pd.to_datetime(List[i][str(l)])  # Convert to dat time\n",
    "        List[i].sort_values(by=str(l),ascending=True,inplace=True) # sort data sets\n",
    "        List[i] = List[i].reset_index(drop=True) # reset index\n",
    "    return (List)  "
   ]
  },
  {
   "cell_type": "code",
   "execution_count": null,
   "metadata": {
    "collapsed": true
   },
   "outputs": [],
   "source": []
  },
  {
   "cell_type": "code",
   "execution_count": 99,
   "metadata": {
    "collapsed": true
   },
   "outputs": [],
   "source": []
  },
  {
   "cell_type": "code",
   "execution_count": 154,
   "metadata": {
    "collapsed": false
   },
   "outputs": [
    {
     "name": "stdout",
     "output_type": "stream",
     "text": [
      "date\n",
      "date\n",
      "date\n",
      "date\n"
     ]
    }
   ],
   "source": [
    "NewDataFrameListNormalized_1 = datePreprocess(NewDataFrameListNormalized)"
   ]
  },
  {
   "cell_type": "code",
   "execution_count": 155,
   "metadata": {
    "collapsed": false
   },
   "outputs": [
    {
     "name": "stdout",
     "output_type": "stream",
     "text": [
      "date\n",
      "date\n",
      "date\n",
      "date\n"
     ]
    }
   ],
   "source": [
    "NewDataFrameListStandardized_2 = datePreprocess(NewDataFrameListStandardized)"
   ]
  },
  {
   "cell_type": "code",
   "execution_count": 156,
   "metadata": {
    "collapsed": false
   },
   "outputs": [
    {
     "data": {
      "text/html": [
       "<div>\n",
       "<table border=\"1\" class=\"dataframe\">\n",
       "  <thead>\n",
       "    <tr style=\"text-align: right;\">\n",
       "      <th></th>\n",
       "      <th>date</th>\n",
       "      <th>CO</th>\n",
       "      <th>CO indicators</th>\n",
       "    </tr>\n",
       "  </thead>\n",
       "  <tbody>\n",
       "    <tr>\n",
       "      <th>0</th>\n",
       "      <td>2007-01-02</td>\n",
       "      <td>NaN</td>\n",
       "      <td>-1</td>\n",
       "    </tr>\n",
       "    <tr>\n",
       "      <th>1</th>\n",
       "      <td>2007-01-02</td>\n",
       "      <td>3.33</td>\n",
       "      <td>1</td>\n",
       "    </tr>\n",
       "    <tr>\n",
       "      <th>2</th>\n",
       "      <td>2007-01-02</td>\n",
       "      <td>4.13</td>\n",
       "      <td>1</td>\n",
       "    </tr>\n",
       "    <tr>\n",
       "      <th>3</th>\n",
       "      <td>2007-01-02</td>\n",
       "      <td>2.73</td>\n",
       "      <td>1</td>\n",
       "    </tr>\n",
       "    <tr>\n",
       "      <th>4</th>\n",
       "      <td>2007-01-02</td>\n",
       "      <td>NaN</td>\n",
       "      <td>-1</td>\n",
       "    </tr>\n",
       "  </tbody>\n",
       "</table>\n",
       "</div>"
      ],
      "text/plain": [
       "        date    CO  CO indicators\n",
       "0 2007-01-02   NaN             -1\n",
       "1 2007-01-02  3.33              1\n",
       "2 2007-01-02  4.13              1\n",
       "3 2007-01-02  2.73              1\n",
       "4 2007-01-02   NaN             -1"
      ]
     },
     "execution_count": 156,
     "metadata": {},
     "output_type": "execute_result"
    }
   ],
   "source": [
    "NewDataFrameListStandardized_2[0][0:5]"
   ]
  },
  {
   "cell_type": "code",
   "execution_count": 157,
   "metadata": {
    "collapsed": false
   },
   "outputs": [
    {
     "data": {
      "text/html": [
       "<div>\n",
       "<table border=\"1\" class=\"dataframe\">\n",
       "  <thead>\n",
       "    <tr style=\"text-align: right;\">\n",
       "      <th></th>\n",
       "      <th>date</th>\n",
       "      <th>CO</th>\n",
       "      <th>CO indicators</th>\n",
       "    </tr>\n",
       "  </thead>\n",
       "  <tbody>\n",
       "    <tr>\n",
       "      <th>0</th>\n",
       "      <td>2007-01-02</td>\n",
       "      <td>NaN</td>\n",
       "      <td>-1</td>\n",
       "    </tr>\n",
       "    <tr>\n",
       "      <th>1</th>\n",
       "      <td>2007-01-02</td>\n",
       "      <td>3.33</td>\n",
       "      <td>1</td>\n",
       "    </tr>\n",
       "    <tr>\n",
       "      <th>2</th>\n",
       "      <td>2007-01-02</td>\n",
       "      <td>4.13</td>\n",
       "      <td>1</td>\n",
       "    </tr>\n",
       "    <tr>\n",
       "      <th>3</th>\n",
       "      <td>2007-01-02</td>\n",
       "      <td>2.73</td>\n",
       "      <td>1</td>\n",
       "    </tr>\n",
       "    <tr>\n",
       "      <th>4</th>\n",
       "      <td>2007-01-02</td>\n",
       "      <td>NaN</td>\n",
       "      <td>-1</td>\n",
       "    </tr>\n",
       "  </tbody>\n",
       "</table>\n",
       "</div>"
      ],
      "text/plain": [
       "        date    CO  CO indicators\n",
       "0 2007-01-02   NaN             -1\n",
       "1 2007-01-02  3.33              1\n",
       "2 2007-01-02  4.13              1\n",
       "3 2007-01-02  2.73              1\n",
       "4 2007-01-02   NaN             -1"
      ]
     },
     "execution_count": 157,
     "metadata": {},
     "output_type": "execute_result"
    }
   ],
   "source": [
    "NewDataFrameListNormalized_1[0][0:5]"
   ]
  },
  {
   "cell_type": "code",
   "execution_count": 167,
   "metadata": {
    "collapsed": false
   },
   "outputs": [
    {
     "data": {
      "text/plain": [
       "4707627528"
      ]
     },
     "execution_count": 167,
     "metadata": {},
     "output_type": "execute_result"
    }
   ],
   "source": [
    "id(NewDataFrameListNormalized)"
   ]
  },
  {
   "cell_type": "code",
   "execution_count": 168,
   "metadata": {
    "collapsed": false
   },
   "outputs": [
    {
     "data": {
      "text/plain": [
       "4707631688"
      ]
     },
     "execution_count": 168,
     "metadata": {},
     "output_type": "execute_result"
    }
   ],
   "source": [
    "id(NewDataFrameListStandardized)"
   ]
  },
  {
   "cell_type": "code",
   "execution_count": 161,
   "metadata": {
    "collapsed": true
   },
   "outputs": [],
   "source": [
    "import pickle as pick\n",
    "with open('ImpurityList_Normalized', 'wb') as fp:\n",
    "    pick.dump(NewDataFrameListNormalized_1, fp)"
   ]
  },
  {
   "cell_type": "code",
   "execution_count": 160,
   "metadata": {
    "collapsed": true
   },
   "outputs": [],
   "source": [
    "with open('ImpurityList_Standardized', 'wb') as fp:\n",
    "    pick.dump(NewDataFrameListStandardized_2, fp)"
   ]
  },
  {
   "cell_type": "code",
   "execution_count": 162,
   "metadata": {
    "collapsed": false
   },
   "outputs": [],
   "source": [
    "NewDataFrameListNormalized_1[0]['CO'] =Normalize(NewDataFrameListNormalized[0]['CO'])\n",
    "NewDataFrameListNormalized_1[1]['NO2']=Normalize(NewDataFrameListNormalized[1]['NO2'])\n",
    "NewDataFrameListNormalized_1[2]['O3']=Normalize(NewDataFrameListNormalized[2]['O3'])\n",
    "NewDataFrameListNormalized_1[3]['PM5']=Normalize(NewDataFrameListNormalized[3]['PM25'])"
   ]
  },
  {
   "cell_type": "code",
   "execution_count": 163,
   "metadata": {
    "collapsed": false
   },
   "outputs": [],
   "source": [
    "NewDataFrameListStandardized_2[0]['CO'] =Standardize(NewDataFrameListNormalized[0]['CO'])\n",
    "NewDataFrameListStandardized_2[1]['NO2']=Standardize(NewDataFrameListNormalized[1]['NO2'])\n",
    "NewDataFrameListStandardized_2[2]['O3']=Standardize(NewDataFrameListNormalized[2]['O3'])\n",
    "NewDataFrameListStandardized_2[3]['PM25']=Standardize(NewDataFrameListNormalized[3]['PM25'])"
   ]
  },
  {
   "cell_type": "code",
   "execution_count": 164,
   "metadata": {
    "collapsed": false
   },
   "outputs": [
    {
     "data": {
      "text/plain": [
       "0         NaN\n",
       "1    0.044527\n",
       "2    0.058631\n",
       "3    0.033949\n",
       "4         NaN\n",
       "Name: CO, dtype: float64"
      ]
     },
     "execution_count": 164,
     "metadata": {},
     "output_type": "execute_result"
    }
   ],
   "source": [
    "NewDataFrameListNormalized_1[0]['CO'][0:5] #Normalize"
   ]
  },
  {
   "cell_type": "code",
   "execution_count": 166,
   "metadata": {
    "collapsed": false
   },
   "outputs": [
    {
     "data": {
      "text/plain": [
       "0         NaN\n",
       "1    1.460885\n",
       "2    1.923636\n",
       "3    1.113822\n",
       "4         NaN\n",
       "Name: CO, dtype: float64"
      ]
     },
     "execution_count": 166,
     "metadata": {},
     "output_type": "execute_result"
    }
   ],
   "source": [
    "NewDataFrameListStandardized_2[0]['CO'][0:5]"
   ]
  },
  {
   "cell_type": "markdown",
   "metadata": {
    "collapsed": false
   },
   "source": [
    "#These functions also does the Normalization. I used the syntax above for Clarificatio\n",
    "\n",
    "for i in range(0,len(NewDataFrameListNormalized)):\n",
    "        l = NewDataFrameListNormalized[i].columns[1];\n",
    "        #print(l)\n",
    "        NewDataFrameListNormalized[i][str(l)] = Normalize(NewDataFrameListNormalized[i][str(l)]); #Normalize"
   ]
  },
  {
   "cell_type": "markdown",
   "metadata": {
    "collapsed": false
   },
   "source": [
    "#These functions also does the Standardization. I used the syntax above for Clarificatio\n",
    "\n",
    "for i in range(0,len(NewDataFrameListStandardized)):\n",
    "        l = NewDataFrameListStandardized[i].columns[1];\n",
    "        #print(l)\n",
    "        NewDataFrameListStandardized[i][str(l)] = Standardize(NewDataFrameListStandardized[i][str(l)]); \n",
    "        #Standardize\n",
    "  "
   ]
  },
  {
   "cell_type": "code",
   "execution_count": 214,
   "metadata": {
    "collapsed": false
   },
   "outputs": [
    {
     "data": {
      "text/html": [
       "<div>\n",
       "<table border=\"1\" class=\"dataframe\">\n",
       "  <thead>\n",
       "    <tr style=\"text-align: right;\">\n",
       "      <th></th>\n",
       "      <th>date</th>\n",
       "      <th>PM25</th>\n",
       "      <th>PM25 indicators</th>\n",
       "    </tr>\n",
       "  </thead>\n",
       "  <tbody>\n",
       "    <tr>\n",
       "      <th>1</th>\n",
       "      <td>2007-01-02</td>\n",
       "      <td>NaN</td>\n",
       "      <td>-1</td>\n",
       "    </tr>\n",
       "    <tr>\n",
       "      <th>2</th>\n",
       "      <td>2007-01-02</td>\n",
       "      <td>NaN</td>\n",
       "      <td>-1</td>\n",
       "    </tr>\n",
       "  </tbody>\n",
       "</table>\n",
       "</div>"
      ],
      "text/plain": [
       "        date  PM25  PM25 indicators\n",
       "1 2007-01-02   NaN               -1\n",
       "2 2007-01-02   NaN               -1"
      ]
     },
     "execution_count": 214,
     "metadata": {},
     "output_type": "execute_result"
    }
   ],
   "source": [
    "NewDataFrameListStandardized_2[3][1:3]"
   ]
  },
  {
   "cell_type": "markdown",
   "metadata": {},
   "source": [
    "# Combining data sets\n"
   ]
  },
  {
   "cell_type": "markdown",
   "metadata": {},
   "source": [
    "<p><b> Stabdardized Data set  </b></p>"
   ]
  },
  {
   "cell_type": "code",
   "execution_count": 256,
   "metadata": {
    "collapsed": false
   },
   "outputs": [
    {
     "data": {
      "text/plain": [
       "date                  datetime64[ns]\n",
       "PM10                         float64\n",
       "PM10_null_pointers             int64\n",
       "dtype: object"
      ]
     },
     "execution_count": 256,
     "metadata": {},
     "output_type": "execute_result"
    }
   ],
   "source": [
    "df_Standardized.dtypes"
   ]
  },
  {
   "cell_type": "code",
   "execution_count": 255,
   "metadata": {
    "collapsed": false
   },
   "outputs": [
    {
     "data": {
      "text/html": [
       "<div>\n",
       "<table border=\"1\" class=\"dataframe\">\n",
       "  <thead>\n",
       "    <tr style=\"text-align: right;\">\n",
       "      <th></th>\n",
       "      <th>date</th>\n",
       "      <th>PM10</th>\n",
       "      <th>PM10_null_pointers</th>\n",
       "    </tr>\n",
       "  </thead>\n",
       "  <tbody>\n",
       "    <tr>\n",
       "      <th>0</th>\n",
       "      <td>2007-01-02</td>\n",
       "      <td>NaN</td>\n",
       "      <td>-1</td>\n",
       "    </tr>\n",
       "    <tr>\n",
       "      <th>1</th>\n",
       "      <td>2007-01-02</td>\n",
       "      <td>NaN</td>\n",
       "      <td>-1</td>\n",
       "    </tr>\n",
       "    <tr>\n",
       "      <th>2</th>\n",
       "      <td>2007-01-02</td>\n",
       "      <td>NaN</td>\n",
       "      <td>-1</td>\n",
       "    </tr>\n",
       "    <tr>\n",
       "      <th>3</th>\n",
       "      <td>2007-01-02</td>\n",
       "      <td>1.499629</td>\n",
       "      <td>1</td>\n",
       "    </tr>\n",
       "    <tr>\n",
       "      <th>4</th>\n",
       "      <td>2007-01-02</td>\n",
       "      <td>NaN</td>\n",
       "      <td>-1</td>\n",
       "    </tr>\n",
       "  </tbody>\n",
       "</table>\n",
       "</div>"
      ],
      "text/plain": [
       "        date      PM10  PM10_null_pointers\n",
       "0 2007-01-02       NaN                  -1\n",
       "1 2007-01-02       NaN                  -1\n",
       "2 2007-01-02       NaN                  -1\n",
       "3 2007-01-02  1.499629                   1\n",
       "4 2007-01-02       NaN                  -1"
      ]
     },
     "execution_count": 255,
     "metadata": {},
     "output_type": "execute_result"
    }
   ],
   "source": [
    "df_Standardized.head()"
   ]
  },
  {
   "cell_type": "code",
   "execution_count": 257,
   "metadata": {
    "collapsed": false
   },
   "outputs": [],
   "source": [
    "df_Standardized['CO'] = NewDataFrameListStandardized_2[0]['CO']\n",
    "df_Standardized['CO_null_pointers'] = NewDataFrameListStandardized_2[0]['CO indicators']"
   ]
  },
  {
   "cell_type": "code",
   "execution_count": 258,
   "metadata": {
    "collapsed": false
   },
   "outputs": [
    {
     "data": {
      "text/html": [
       "<div>\n",
       "<table border=\"1\" class=\"dataframe\">\n",
       "  <thead>\n",
       "    <tr style=\"text-align: right;\">\n",
       "      <th></th>\n",
       "      <th>date</th>\n",
       "      <th>PM10</th>\n",
       "      <th>PM10_null_pointers</th>\n",
       "      <th>CO</th>\n",
       "      <th>CO_null_pointers</th>\n",
       "    </tr>\n",
       "  </thead>\n",
       "  <tbody>\n",
       "    <tr>\n",
       "      <th>0</th>\n",
       "      <td>2007-01-02</td>\n",
       "      <td>NaN</td>\n",
       "      <td>-1</td>\n",
       "      <td>NaN</td>\n",
       "      <td>-1</td>\n",
       "    </tr>\n",
       "    <tr>\n",
       "      <th>1</th>\n",
       "      <td>2007-01-02</td>\n",
       "      <td>NaN</td>\n",
       "      <td>-1</td>\n",
       "      <td>1.460885</td>\n",
       "      <td>1</td>\n",
       "    </tr>\n",
       "    <tr>\n",
       "      <th>2</th>\n",
       "      <td>2007-01-02</td>\n",
       "      <td>NaN</td>\n",
       "      <td>-1</td>\n",
       "      <td>1.923636</td>\n",
       "      <td>1</td>\n",
       "    </tr>\n",
       "    <tr>\n",
       "      <th>3</th>\n",
       "      <td>2007-01-02</td>\n",
       "      <td>1.499629</td>\n",
       "      <td>1</td>\n",
       "      <td>1.113822</td>\n",
       "      <td>1</td>\n",
       "    </tr>\n",
       "    <tr>\n",
       "      <th>4</th>\n",
       "      <td>2007-01-02</td>\n",
       "      <td>NaN</td>\n",
       "      <td>-1</td>\n",
       "      <td>NaN</td>\n",
       "      <td>-1</td>\n",
       "    </tr>\n",
       "  </tbody>\n",
       "</table>\n",
       "</div>"
      ],
      "text/plain": [
       "        date      PM10  PM10_null_pointers        CO  CO_null_pointers\n",
       "0 2007-01-02       NaN                  -1       NaN                -1\n",
       "1 2007-01-02       NaN                  -1  1.460885                 1\n",
       "2 2007-01-02       NaN                  -1  1.923636                 1\n",
       "3 2007-01-02  1.499629                   1  1.113822                 1\n",
       "4 2007-01-02       NaN                  -1       NaN                -1"
      ]
     },
     "execution_count": 258,
     "metadata": {},
     "output_type": "execute_result"
    }
   ],
   "source": [
    "df_Standardized.head()"
   ]
  },
  {
   "cell_type": "code",
   "execution_count": 259,
   "metadata": {
    "collapsed": true
   },
   "outputs": [],
   "source": [
    "df_Standardized['NO2'] = NewDataFrameListStandardized_2[1]['NO2']\n",
    "df_Standardized['NO2_null_pointers'] = NewDataFrameListStandardized_2[1]['NO2 indicators']"
   ]
  },
  {
   "cell_type": "code",
   "execution_count": 260,
   "metadata": {
    "collapsed": false
   },
   "outputs": [
    {
     "data": {
      "text/html": [
       "<div>\n",
       "<table border=\"1\" class=\"dataframe\">\n",
       "  <thead>\n",
       "    <tr style=\"text-align: right;\">\n",
       "      <th></th>\n",
       "      <th>date</th>\n",
       "      <th>PM10</th>\n",
       "      <th>PM10_null_pointers</th>\n",
       "      <th>CO</th>\n",
       "      <th>CO_null_pointers</th>\n",
       "      <th>NO2</th>\n",
       "      <th>NO2_null_pointers</th>\n",
       "    </tr>\n",
       "  </thead>\n",
       "  <tbody>\n",
       "    <tr>\n",
       "      <th>1</th>\n",
       "      <td>2007-01-02</td>\n",
       "      <td>NaN</td>\n",
       "      <td>-1</td>\n",
       "      <td>1.460885</td>\n",
       "      <td>1</td>\n",
       "      <td>NaN</td>\n",
       "      <td>-1</td>\n",
       "    </tr>\n",
       "  </tbody>\n",
       "</table>\n",
       "</div>"
      ],
      "text/plain": [
       "        date  PM10  PM10_null_pointers        CO  CO_null_pointers  NO2  \\\n",
       "1 2007-01-02   NaN                  -1  1.460885                 1  NaN   \n",
       "\n",
       "   NO2_null_pointers  \n",
       "1                 -1  "
      ]
     },
     "execution_count": 260,
     "metadata": {},
     "output_type": "execute_result"
    }
   ],
   "source": [
    "df_Standardized[1:2]"
   ]
  },
  {
   "cell_type": "code",
   "execution_count": 261,
   "metadata": {
    "collapsed": true
   },
   "outputs": [],
   "source": [
    "df_Standardized['O3'] = NewDataFrameListStandardized_2[2]['O3']\n",
    "df_Standardized['O3_null_pointers'] = NewDataFrameListStandardized_2[2]['O3 indicators']"
   ]
  },
  {
   "cell_type": "markdown",
   "metadata": {},
   "source": [
    "df_Standardized.drop(['O3'], axis = 1, inplace = True, errors = 'ignore')"
   ]
  },
  {
   "cell_type": "code",
   "execution_count": 262,
   "metadata": {
    "collapsed": false
   },
   "outputs": [
    {
     "data": {
      "text/html": [
       "<div>\n",
       "<table border=\"1\" class=\"dataframe\">\n",
       "  <thead>\n",
       "    <tr style=\"text-align: right;\">\n",
       "      <th></th>\n",
       "      <th>date</th>\n",
       "      <th>PM10</th>\n",
       "      <th>PM10_null_pointers</th>\n",
       "      <th>CO</th>\n",
       "      <th>CO_null_pointers</th>\n",
       "      <th>NO2</th>\n",
       "      <th>NO2_null_pointers</th>\n",
       "      <th>O3</th>\n",
       "      <th>O3_null_pointers</th>\n",
       "    </tr>\n",
       "  </thead>\n",
       "  <tbody>\n",
       "    <tr>\n",
       "      <th>1</th>\n",
       "      <td>2007-01-02</td>\n",
       "      <td>NaN</td>\n",
       "      <td>-1</td>\n",
       "      <td>1.460885</td>\n",
       "      <td>1</td>\n",
       "      <td>NaN</td>\n",
       "      <td>-1</td>\n",
       "      <td>NaN</td>\n",
       "      <td>-1</td>\n",
       "    </tr>\n",
       "    <tr>\n",
       "      <th>2</th>\n",
       "      <td>2007-01-02</td>\n",
       "      <td>NaN</td>\n",
       "      <td>-1</td>\n",
       "      <td>1.923636</td>\n",
       "      <td>1</td>\n",
       "      <td>NaN</td>\n",
       "      <td>-1</td>\n",
       "      <td>NaN</td>\n",
       "      <td>-1</td>\n",
       "    </tr>\n",
       "  </tbody>\n",
       "</table>\n",
       "</div>"
      ],
      "text/plain": [
       "        date  PM10  PM10_null_pointers        CO  CO_null_pointers  NO2  \\\n",
       "1 2007-01-02   NaN                  -1  1.460885                 1  NaN   \n",
       "2 2007-01-02   NaN                  -1  1.923636                 1  NaN   \n",
       "\n",
       "   NO2_null_pointers  O3  O3_null_pointers  \n",
       "1                 -1 NaN                -1  \n",
       "2                 -1 NaN                -1  "
      ]
     },
     "execution_count": 262,
     "metadata": {},
     "output_type": "execute_result"
    }
   ],
   "source": [
    "df_Standardized[1:3]"
   ]
  },
  {
   "cell_type": "code",
   "execution_count": 263,
   "metadata": {
    "collapsed": true
   },
   "outputs": [],
   "source": [
    "df_Standardized['PM25'] = NewDataFrameListStandardized_2[3]['PM25']\n",
    "df_Standardized['PM25_null_pointers'] = NewDataFrameListStandardized_2[3]['PM25 indicators']"
   ]
  },
  {
   "cell_type": "code",
   "execution_count": 264,
   "metadata": {
    "collapsed": false
   },
   "outputs": [
    {
     "data": {
      "text/html": [
       "<div>\n",
       "<table border=\"1\" class=\"dataframe\">\n",
       "  <thead>\n",
       "    <tr style=\"text-align: right;\">\n",
       "      <th></th>\n",
       "      <th>date</th>\n",
       "      <th>PM10</th>\n",
       "      <th>PM10_null_pointers</th>\n",
       "      <th>CO</th>\n",
       "      <th>CO_null_pointers</th>\n",
       "      <th>NO2</th>\n",
       "      <th>NO2_null_pointers</th>\n",
       "      <th>O3</th>\n",
       "      <th>O3_null_pointers</th>\n",
       "      <th>PM25</th>\n",
       "      <th>PM25_null_pointers</th>\n",
       "    </tr>\n",
       "  </thead>\n",
       "  <tbody>\n",
       "    <tr>\n",
       "      <th>1</th>\n",
       "      <td>2007-01-02</td>\n",
       "      <td>NaN</td>\n",
       "      <td>-1</td>\n",
       "      <td>1.460885</td>\n",
       "      <td>1</td>\n",
       "      <td>NaN</td>\n",
       "      <td>-1</td>\n",
       "      <td>NaN</td>\n",
       "      <td>-1</td>\n",
       "      <td>NaN</td>\n",
       "      <td>-1</td>\n",
       "    </tr>\n",
       "    <tr>\n",
       "      <th>2</th>\n",
       "      <td>2007-01-02</td>\n",
       "      <td>NaN</td>\n",
       "      <td>-1</td>\n",
       "      <td>1.923636</td>\n",
       "      <td>1</td>\n",
       "      <td>NaN</td>\n",
       "      <td>-1</td>\n",
       "      <td>NaN</td>\n",
       "      <td>-1</td>\n",
       "      <td>NaN</td>\n",
       "      <td>-1</td>\n",
       "    </tr>\n",
       "    <tr>\n",
       "      <th>3</th>\n",
       "      <td>2007-01-02</td>\n",
       "      <td>1.499629</td>\n",
       "      <td>1</td>\n",
       "      <td>1.113822</td>\n",
       "      <td>1</td>\n",
       "      <td>1.412657</td>\n",
       "      <td>1</td>\n",
       "      <td>-0.839846</td>\n",
       "      <td>1</td>\n",
       "      <td>NaN</td>\n",
       "      <td>-1</td>\n",
       "    </tr>\n",
       "  </tbody>\n",
       "</table>\n",
       "</div>"
      ],
      "text/plain": [
       "        date      PM10  PM10_null_pointers        CO  CO_null_pointers  \\\n",
       "1 2007-01-02       NaN                  -1  1.460885                 1   \n",
       "2 2007-01-02       NaN                  -1  1.923636                 1   \n",
       "3 2007-01-02  1.499629                   1  1.113822                 1   \n",
       "\n",
       "        NO2  NO2_null_pointers        O3  O3_null_pointers  PM25  \\\n",
       "1       NaN                 -1       NaN                -1   NaN   \n",
       "2       NaN                 -1       NaN                -1   NaN   \n",
       "3  1.412657                  1 -0.839846                 1   NaN   \n",
       "\n",
       "   PM25_null_pointers  \n",
       "1                  -1  \n",
       "2                  -1  \n",
       "3                  -1  "
      ]
     },
     "execution_count": 264,
     "metadata": {},
     "output_type": "execute_result"
    }
   ],
   "source": [
    "df_Standardized[1:4]"
   ]
  },
  {
   "cell_type": "markdown",
   "metadata": {},
   "source": [
    "<p><b> Normalized Data set  </b></p>"
   ]
  },
  {
   "cell_type": "code",
   "execution_count": 265,
   "metadata": {
    "collapsed": false
   },
   "outputs": [
    {
     "data": {
      "text/html": [
       "<div>\n",
       "<table border=\"1\" class=\"dataframe\">\n",
       "  <thead>\n",
       "    <tr style=\"text-align: right;\">\n",
       "      <th></th>\n",
       "      <th>date</th>\n",
       "      <th>PM10</th>\n",
       "      <th>PM10_null_pointers</th>\n",
       "    </tr>\n",
       "  </thead>\n",
       "  <tbody>\n",
       "    <tr>\n",
       "      <th>1</th>\n",
       "      <td>2007-01-02</td>\n",
       "      <td>NaN</td>\n",
       "      <td>-1</td>\n",
       "    </tr>\n",
       "    <tr>\n",
       "      <th>2</th>\n",
       "      <td>2007-01-02</td>\n",
       "      <td>NaN</td>\n",
       "      <td>-1</td>\n",
       "    </tr>\n",
       "  </tbody>\n",
       "</table>\n",
       "</div>"
      ],
      "text/plain": [
       "        date  PM10  PM10_null_pointers\n",
       "1 2007-01-02   NaN                  -1\n",
       "2 2007-01-02   NaN                  -1"
      ]
     },
     "execution_count": 265,
     "metadata": {},
     "output_type": "execute_result"
    }
   ],
   "source": [
    "df_Normalized[1:3]"
   ]
  },
  {
   "cell_type": "code",
   "execution_count": 266,
   "metadata": {
    "collapsed": true
   },
   "outputs": [],
   "source": [
    "df_Normalized['CO'] = NewDataFrameListNormalized_1[0]['CO']\n",
    "df_Normalized['CO_null_pointers'] = NewDataFrameListNormalized_1[0]['CO indicators']"
   ]
  },
  {
   "cell_type": "code",
   "execution_count": 267,
   "metadata": {
    "collapsed": false
   },
   "outputs": [
    {
     "data": {
      "text/html": [
       "<div>\n",
       "<table border=\"1\" class=\"dataframe\">\n",
       "  <thead>\n",
       "    <tr style=\"text-align: right;\">\n",
       "      <th></th>\n",
       "      <th>date</th>\n",
       "      <th>PM10</th>\n",
       "      <th>PM10_null_pointers</th>\n",
       "      <th>CO</th>\n",
       "      <th>CO_null_pointers</th>\n",
       "    </tr>\n",
       "  </thead>\n",
       "  <tbody>\n",
       "    <tr>\n",
       "      <th>1</th>\n",
       "      <td>2007-01-02</td>\n",
       "      <td>NaN</td>\n",
       "      <td>-1</td>\n",
       "      <td>0.044527</td>\n",
       "      <td>1</td>\n",
       "    </tr>\n",
       "  </tbody>\n",
       "</table>\n",
       "</div>"
      ],
      "text/plain": [
       "        date  PM10  PM10_null_pointers        CO  CO_null_pointers\n",
       "1 2007-01-02   NaN                  -1  0.044527                 1"
      ]
     },
     "execution_count": 267,
     "metadata": {},
     "output_type": "execute_result"
    }
   ],
   "source": [
    "df_Normalized[1:2]"
   ]
  },
  {
   "cell_type": "code",
   "execution_count": 268,
   "metadata": {
    "collapsed": true
   },
   "outputs": [],
   "source": [
    "df_Normalized['NO2'] = NewDataFrameListNormalized_1[1]['NO2']\n",
    "df_Normalized['NO2_null_pointers'] = NewDataFrameListNormalized_1[1]['NO2 indicators']"
   ]
  },
  {
   "cell_type": "code",
   "execution_count": 269,
   "metadata": {
    "collapsed": false
   },
   "outputs": [
    {
     "data": {
      "text/html": [
       "<div>\n",
       "<table border=\"1\" class=\"dataframe\">\n",
       "  <thead>\n",
       "    <tr style=\"text-align: right;\">\n",
       "      <th></th>\n",
       "      <th>date</th>\n",
       "      <th>PM10</th>\n",
       "      <th>PM10_null_pointers</th>\n",
       "      <th>CO</th>\n",
       "      <th>CO_null_pointers</th>\n",
       "      <th>NO2</th>\n",
       "      <th>NO2_null_pointers</th>\n",
       "    </tr>\n",
       "  </thead>\n",
       "  <tbody>\n",
       "    <tr>\n",
       "      <th>1</th>\n",
       "      <td>2007-01-02</td>\n",
       "      <td>NaN</td>\n",
       "      <td>-1</td>\n",
       "      <td>0.044527</td>\n",
       "      <td>1</td>\n",
       "      <td>NaN</td>\n",
       "      <td>-1</td>\n",
       "    </tr>\n",
       "  </tbody>\n",
       "</table>\n",
       "</div>"
      ],
      "text/plain": [
       "        date  PM10  PM10_null_pointers        CO  CO_null_pointers  NO2  \\\n",
       "1 2007-01-02   NaN                  -1  0.044527                 1  NaN   \n",
       "\n",
       "   NO2_null_pointers  \n",
       "1                 -1  "
      ]
     },
     "execution_count": 269,
     "metadata": {},
     "output_type": "execute_result"
    }
   ],
   "source": [
    "df_Normalized[1:2]"
   ]
  },
  {
   "cell_type": "code",
   "execution_count": 270,
   "metadata": {
    "collapsed": false
   },
   "outputs": [],
   "source": [
    "df_Normalized['O3'] = NewDataFrameListNormalized_1[2]['O3']\n",
    "df_Normalized['O3_null_pointers'] = NewDataFrameListNormalized_1[2]['O3 indicators']"
   ]
  },
  {
   "cell_type": "code",
   "execution_count": 271,
   "metadata": {
    "collapsed": false
   },
   "outputs": [
    {
     "data": {
      "text/html": [
       "<div>\n",
       "<table border=\"1\" class=\"dataframe\">\n",
       "  <thead>\n",
       "    <tr style=\"text-align: right;\">\n",
       "      <th></th>\n",
       "      <th>date</th>\n",
       "      <th>PM10</th>\n",
       "      <th>PM10_null_pointers</th>\n",
       "      <th>CO</th>\n",
       "      <th>CO_null_pointers</th>\n",
       "      <th>NO2</th>\n",
       "      <th>NO2_null_pointers</th>\n",
       "      <th>O3</th>\n",
       "      <th>O3_null_pointers</th>\n",
       "    </tr>\n",
       "  </thead>\n",
       "  <tbody>\n",
       "    <tr>\n",
       "      <th>1</th>\n",
       "      <td>2007-01-02</td>\n",
       "      <td>NaN</td>\n",
       "      <td>-1</td>\n",
       "      <td>0.044527</td>\n",
       "      <td>1</td>\n",
       "      <td>NaN</td>\n",
       "      <td>-1</td>\n",
       "      <td>NaN</td>\n",
       "      <td>-1</td>\n",
       "    </tr>\n",
       "    <tr>\n",
       "      <th>2</th>\n",
       "      <td>2007-01-02</td>\n",
       "      <td>NaN</td>\n",
       "      <td>-1</td>\n",
       "      <td>0.058631</td>\n",
       "      <td>1</td>\n",
       "      <td>NaN</td>\n",
       "      <td>-1</td>\n",
       "      <td>NaN</td>\n",
       "      <td>-1</td>\n",
       "    </tr>\n",
       "  </tbody>\n",
       "</table>\n",
       "</div>"
      ],
      "text/plain": [
       "        date  PM10  PM10_null_pointers        CO  CO_null_pointers  NO2  \\\n",
       "1 2007-01-02   NaN                  -1  0.044527                 1  NaN   \n",
       "2 2007-01-02   NaN                  -1  0.058631                 1  NaN   \n",
       "\n",
       "   NO2_null_pointers  O3  O3_null_pointers  \n",
       "1                 -1 NaN                -1  \n",
       "2                 -1 NaN                -1  "
      ]
     },
     "execution_count": 271,
     "metadata": {},
     "output_type": "execute_result"
    }
   ],
   "source": [
    "df_Normalized[1:3]"
   ]
  },
  {
   "cell_type": "code",
   "execution_count": 272,
   "metadata": {
    "collapsed": true
   },
   "outputs": [],
   "source": [
    "df_Normalized['PM25'] = NewDataFrameListNormalized_1[3]['PM25']\n",
    "df_Normalized['PM25_null_pointers'] = NewDataFrameListNormalized_1[3]['PM25 indicators']"
   ]
  },
  {
   "cell_type": "code",
   "execution_count": 273,
   "metadata": {
    "collapsed": false
   },
   "outputs": [
    {
     "data": {
      "text/html": [
       "<div>\n",
       "<table border=\"1\" class=\"dataframe\">\n",
       "  <thead>\n",
       "    <tr style=\"text-align: right;\">\n",
       "      <th></th>\n",
       "      <th>date</th>\n",
       "      <th>PM10</th>\n",
       "      <th>PM10_null_pointers</th>\n",
       "      <th>CO</th>\n",
       "      <th>CO_null_pointers</th>\n",
       "      <th>NO2</th>\n",
       "      <th>NO2_null_pointers</th>\n",
       "      <th>O3</th>\n",
       "      <th>O3_null_pointers</th>\n",
       "      <th>PM25</th>\n",
       "      <th>PM25_null_pointers</th>\n",
       "    </tr>\n",
       "  </thead>\n",
       "  <tbody>\n",
       "    <tr>\n",
       "      <th>1</th>\n",
       "      <td>2007-01-02</td>\n",
       "      <td>NaN</td>\n",
       "      <td>-1</td>\n",
       "      <td>0.044527</td>\n",
       "      <td>1</td>\n",
       "      <td>NaN</td>\n",
       "      <td>-1</td>\n",
       "      <td>NaN</td>\n",
       "      <td>-1</td>\n",
       "      <td>NaN</td>\n",
       "      <td>-1</td>\n",
       "    </tr>\n",
       "    <tr>\n",
       "      <th>2</th>\n",
       "      <td>2007-01-02</td>\n",
       "      <td>NaN</td>\n",
       "      <td>-1</td>\n",
       "      <td>0.058631</td>\n",
       "      <td>1</td>\n",
       "      <td>NaN</td>\n",
       "      <td>-1</td>\n",
       "      <td>NaN</td>\n",
       "      <td>-1</td>\n",
       "      <td>NaN</td>\n",
       "      <td>-1</td>\n",
       "    </tr>\n",
       "    <tr>\n",
       "      <th>3</th>\n",
       "      <td>2007-01-02</td>\n",
       "      <td>0.118376</td>\n",
       "      <td>1</td>\n",
       "      <td>0.033949</td>\n",
       "      <td>1</td>\n",
       "      <td>0.013418</td>\n",
       "      <td>1</td>\n",
       "      <td>-0.081297</td>\n",
       "      <td>1</td>\n",
       "      <td>NaN</td>\n",
       "      <td>-1</td>\n",
       "    </tr>\n",
       "  </tbody>\n",
       "</table>\n",
       "</div>"
      ],
      "text/plain": [
       "        date      PM10  PM10_null_pointers        CO  CO_null_pointers  \\\n",
       "1 2007-01-02       NaN                  -1  0.044527                 1   \n",
       "2 2007-01-02       NaN                  -1  0.058631                 1   \n",
       "3 2007-01-02  0.118376                   1  0.033949                 1   \n",
       "\n",
       "        NO2  NO2_null_pointers        O3  O3_null_pointers  PM25  \\\n",
       "1       NaN                 -1       NaN                -1   NaN   \n",
       "2       NaN                 -1       NaN                -1   NaN   \n",
       "3  0.013418                  1 -0.081297                 1   NaN   \n",
       "\n",
       "   PM25_null_pointers  \n",
       "1                  -1  \n",
       "2                  -1  \n",
       "3                  -1  "
      ]
     },
     "execution_count": 273,
     "metadata": {},
     "output_type": "execute_result"
    }
   ],
   "source": [
    "df_Normalized[1:4]"
   ]
  },
  {
   "cell_type": "markdown",
   "metadata": {},
   "source": [
    "<p><b> Differenced Data set  </b></p>"
   ]
  },
  {
   "cell_type": "code",
   "execution_count": 274,
   "metadata": {
    "collapsed": true
   },
   "outputs": [],
   "source": [
    "df_differenced_full = df_Normalized.copy(deep=True)"
   ]
  },
  {
   "cell_type": "code",
   "execution_count": 277,
   "metadata": {
    "collapsed": false
   },
   "outputs": [
    {
     "data": {
      "text/html": [
       "<div>\n",
       "<table border=\"1\" class=\"dataframe\">\n",
       "  <thead>\n",
       "    <tr style=\"text-align: right;\">\n",
       "      <th></th>\n",
       "      <th>date</th>\n",
       "      <th>PM10</th>\n",
       "      <th>PM10_null_pointers</th>\n",
       "      <th>CO</th>\n",
       "      <th>CO_null_pointers</th>\n",
       "      <th>NO2</th>\n",
       "      <th>NO2_null_pointers</th>\n",
       "      <th>O3</th>\n",
       "      <th>O3_null_pointers</th>\n",
       "      <th>PM25</th>\n",
       "      <th>PM25_null_pointers</th>\n",
       "    </tr>\n",
       "  </thead>\n",
       "  <tbody>\n",
       "    <tr>\n",
       "      <th>1</th>\n",
       "      <td>2007-01-02</td>\n",
       "      <td>NaN</td>\n",
       "      <td>-1</td>\n",
       "      <td>0.044527</td>\n",
       "      <td>1</td>\n",
       "      <td>NaN</td>\n",
       "      <td>-1</td>\n",
       "      <td>NaN</td>\n",
       "      <td>-1</td>\n",
       "      <td>NaN</td>\n",
       "      <td>-1</td>\n",
       "    </tr>\n",
       "    <tr>\n",
       "      <th>2</th>\n",
       "      <td>2007-01-02</td>\n",
       "      <td>NaN</td>\n",
       "      <td>-1</td>\n",
       "      <td>0.058631</td>\n",
       "      <td>1</td>\n",
       "      <td>NaN</td>\n",
       "      <td>-1</td>\n",
       "      <td>NaN</td>\n",
       "      <td>-1</td>\n",
       "      <td>NaN</td>\n",
       "      <td>-1</td>\n",
       "    </tr>\n",
       "  </tbody>\n",
       "</table>\n",
       "</div>"
      ],
      "text/plain": [
       "        date  PM10  PM10_null_pointers        CO  CO_null_pointers  NO2  \\\n",
       "1 2007-01-02   NaN                  -1  0.044527                 1  NaN   \n",
       "2 2007-01-02   NaN                  -1  0.058631                 1  NaN   \n",
       "\n",
       "   NO2_null_pointers  O3  O3_null_pointers  PM25  PM25_null_pointers  \n",
       "1                 -1 NaN                -1   NaN                  -1  \n",
       "2                 -1 NaN                -1   NaN                  -1  "
      ]
     },
     "execution_count": 277,
     "metadata": {},
     "output_type": "execute_result"
    }
   ],
   "source": [
    "df_differenced_full[1:3]"
   ]
  },
  {
   "cell_type": "code",
   "execution_count": 278,
   "metadata": {
    "collapsed": true
   },
   "outputs": [],
   "source": [
    "df_differenced_full.fillna(0,inplace=True)   #fill na to compute first difference "
   ]
  },
  {
   "cell_type": "code",
   "execution_count": 279,
   "metadata": {
    "collapsed": true
   },
   "outputs": [],
   "source": [
    "df_differenced_full.PM10 = first_difference(df_differenced_full.PM10) # first Difference PM10"
   ]
  },
  {
   "cell_type": "code",
   "execution_count": 280,
   "metadata": {
    "collapsed": true
   },
   "outputs": [],
   "source": [
    "df_differenced_full.CO = first_difference(df_differenced_full.CO) # first difference CO"
   ]
  },
  {
   "cell_type": "code",
   "execution_count": 281,
   "metadata": {
    "collapsed": true
   },
   "outputs": [],
   "source": [
    "df_differenced_full.NO2 =  first_difference(df_differenced_full.NO2) # first difference NO2"
   ]
  },
  {
   "cell_type": "code",
   "execution_count": 282,
   "metadata": {
    "collapsed": true
   },
   "outputs": [],
   "source": [
    "df_differenced_full.O3 =  first_difference(df_differenced_full.O3) # first difference O3"
   ]
  },
  {
   "cell_type": "code",
   "execution_count": 283,
   "metadata": {
    "collapsed": true
   },
   "outputs": [],
   "source": [
    "df_differenced_full.PM25=  first_difference(df_differenced_full.PM25) # first difference O3"
   ]
  },
  {
   "cell_type": "code",
   "execution_count": 284,
   "metadata": {
    "collapsed": false
   },
   "outputs": [
    {
     "data": {
      "text/html": [
       "<div>\n",
       "<table border=\"1\" class=\"dataframe\">\n",
       "  <thead>\n",
       "    <tr style=\"text-align: right;\">\n",
       "      <th></th>\n",
       "      <th>date</th>\n",
       "      <th>PM10</th>\n",
       "      <th>PM10_null_pointers</th>\n",
       "      <th>CO</th>\n",
       "      <th>CO_null_pointers</th>\n",
       "      <th>NO2</th>\n",
       "      <th>NO2_null_pointers</th>\n",
       "      <th>O3</th>\n",
       "      <th>O3_null_pointers</th>\n",
       "      <th>PM25</th>\n",
       "      <th>PM25_null_pointers</th>\n",
       "    </tr>\n",
       "  </thead>\n",
       "  <tbody>\n",
       "    <tr>\n",
       "      <th>1</th>\n",
       "      <td>2007-01-02</td>\n",
       "      <td>0.000000</td>\n",
       "      <td>-1</td>\n",
       "      <td>0.044527</td>\n",
       "      <td>1</td>\n",
       "      <td>0.000000</td>\n",
       "      <td>-1</td>\n",
       "      <td>0.000000</td>\n",
       "      <td>-1</td>\n",
       "      <td>0.0</td>\n",
       "      <td>-1</td>\n",
       "    </tr>\n",
       "    <tr>\n",
       "      <th>2</th>\n",
       "      <td>2007-01-02</td>\n",
       "      <td>0.000000</td>\n",
       "      <td>-1</td>\n",
       "      <td>0.014104</td>\n",
       "      <td>1</td>\n",
       "      <td>0.000000</td>\n",
       "      <td>-1</td>\n",
       "      <td>0.000000</td>\n",
       "      <td>-1</td>\n",
       "      <td>0.0</td>\n",
       "      <td>-1</td>\n",
       "    </tr>\n",
       "    <tr>\n",
       "      <th>3</th>\n",
       "      <td>2007-01-02</td>\n",
       "      <td>0.118376</td>\n",
       "      <td>1</td>\n",
       "      <td>-0.024683</td>\n",
       "      <td>1</td>\n",
       "      <td>0.013418</td>\n",
       "      <td>1</td>\n",
       "      <td>-0.081297</td>\n",
       "      <td>1</td>\n",
       "      <td>0.0</td>\n",
       "      <td>-1</td>\n",
       "    </tr>\n",
       "    <tr>\n",
       "      <th>4</th>\n",
       "      <td>2007-01-02</td>\n",
       "      <td>-0.118376</td>\n",
       "      <td>-1</td>\n",
       "      <td>-0.033949</td>\n",
       "      <td>-1</td>\n",
       "      <td>-0.003065</td>\n",
       "      <td>1</td>\n",
       "      <td>0.081297</td>\n",
       "      <td>-1</td>\n",
       "      <td>0.0</td>\n",
       "      <td>-1</td>\n",
       "    </tr>\n",
       "  </tbody>\n",
       "</table>\n",
       "</div>"
      ],
      "text/plain": [
       "        date      PM10  PM10_null_pointers        CO  CO_null_pointers  \\\n",
       "1 2007-01-02  0.000000                  -1  0.044527                 1   \n",
       "2 2007-01-02  0.000000                  -1  0.014104                 1   \n",
       "3 2007-01-02  0.118376                   1 -0.024683                 1   \n",
       "4 2007-01-02 -0.118376                  -1 -0.033949                -1   \n",
       "\n",
       "        NO2  NO2_null_pointers        O3  O3_null_pointers  PM25  \\\n",
       "1  0.000000                 -1  0.000000                -1   0.0   \n",
       "2  0.000000                 -1  0.000000                -1   0.0   \n",
       "3  0.013418                  1 -0.081297                 1   0.0   \n",
       "4 -0.003065                  1  0.081297                -1   0.0   \n",
       "\n",
       "   PM25_null_pointers  \n",
       "1                  -1  \n",
       "2                  -1  \n",
       "3                  -1  \n",
       "4                  -1  "
      ]
     },
     "execution_count": 284,
     "metadata": {},
     "output_type": "execute_result"
    }
   ],
   "source": [
    "df_differenced_full[1:5]"
   ]
  },
  {
   "cell_type": "code",
   "execution_count": 286,
   "metadata": {
    "collapsed": true
   },
   "outputs": [],
   "source": [
    "import pickle as pick\n",
    "with open('difference_full', 'wb') as fp:\n",
    "    pick.dump(df_differenced_full, fp)"
   ]
  },
  {
   "cell_type": "code",
   "execution_count": 285,
   "metadata": {
    "collapsed": true
   },
   "outputs": [],
   "source": [
    "import pickle as pick\n",
    "with open('Normalized_full', 'wb') as fp:\n",
    "    pick.dump(df_Normalized, fp)"
   ]
  },
  {
   "cell_type": "code",
   "execution_count": 287,
   "metadata": {
    "collapsed": true
   },
   "outputs": [],
   "source": [
    "import pickle as pick\n",
    "with open('Standardized_full', 'wb') as fp:\n",
    "    pick.dump(df_Standardized, fp)"
   ]
  },
  {
   "cell_type": "code",
   "execution_count": 297,
   "metadata": {
    "collapsed": false
   },
   "outputs": [],
   "source": [
    "with open ('featureset_0', 'rb') as fp:\n",
    "    itemlist = pick.load(fp)"
   ]
  },
  {
   "cell_type": "code",
   "execution_count": 306,
   "metadata": {
    "collapsed": false
   },
   "outputs": [
    {
     "data": {
      "text/html": [
       "<div>\n",
       "<table border=\"1\" class=\"dataframe\">\n",
       "  <thead>\n",
       "    <tr style=\"text-align: right;\">\n",
       "      <th></th>\n",
       "      <th></th>\n",
       "      <th>Actual</th>\n",
       "      <th>Average</th>\n",
       "      <th>Record</th>\n",
       "      <th>month</th>\n",
       "      <th>year</th>\n",
       "      <th>day</th>\n",
       "      <th>date</th>\n",
       "    </tr>\n",
       "  </thead>\n",
       "  <tbody>\n",
       "    <tr>\n",
       "      <th>0</th>\n",
       "      <td>Temperature</td>\n",
       "      <td>NaN</td>\n",
       "      <td>NaN</td>\n",
       "      <td>NaN</td>\n",
       "      <td>3</td>\n",
       "      <td>2011</td>\n",
       "      <td>7</td>\n",
       "      <td>2011/3/7/</td>\n",
       "    </tr>\n",
       "    <tr>\n",
       "      <th>1</th>\n",
       "      <td>Mean Temperature</td>\n",
       "      <td>1 °C</td>\n",
       "      <td>-</td>\n",
       "      <td>NaN</td>\n",
       "      <td>3</td>\n",
       "      <td>2011</td>\n",
       "      <td>7</td>\n",
       "      <td>2011/3/7/</td>\n",
       "    </tr>\n",
       "    <tr>\n",
       "      <th>2</th>\n",
       "      <td>Max Temperature</td>\n",
       "      <td>3 °C</td>\n",
       "      <td>15 °C</td>\n",
       "      <td>- ()</td>\n",
       "      <td>3</td>\n",
       "      <td>2011</td>\n",
       "      <td>7</td>\n",
       "      <td>2011/3/7/</td>\n",
       "    </tr>\n",
       "    <tr>\n",
       "      <th>3</th>\n",
       "      <td>Min Temperature</td>\n",
       "      <td>-1 °C</td>\n",
       "      <td>3 °C</td>\n",
       "      <td>- ()</td>\n",
       "      <td>3</td>\n",
       "      <td>2011</td>\n",
       "      <td>7</td>\n",
       "      <td>2011/3/7/</td>\n",
       "    </tr>\n",
       "    <tr>\n",
       "      <th>4</th>\n",
       "      <td>Degree Days</td>\n",
       "      <td>NaN</td>\n",
       "      <td>NaN</td>\n",
       "      <td>NaN</td>\n",
       "      <td>3</td>\n",
       "      <td>2011</td>\n",
       "      <td>7</td>\n",
       "      <td>2011/3/7/</td>\n",
       "    </tr>\n",
       "    <tr>\n",
       "      <th>5</th>\n",
       "      <td>Heating Degree Days</td>\n",
       "      <td>32</td>\n",
       "      <td>NaN</td>\n",
       "      <td>NaN</td>\n",
       "      <td>3</td>\n",
       "      <td>2011</td>\n",
       "      <td>7</td>\n",
       "      <td>2011/3/7/</td>\n",
       "    </tr>\n",
       "    <tr>\n",
       "      <th>6</th>\n",
       "      <td>Moisture</td>\n",
       "      <td>NaN</td>\n",
       "      <td>NaN</td>\n",
       "      <td>NaN</td>\n",
       "      <td>3</td>\n",
       "      <td>2011</td>\n",
       "      <td>7</td>\n",
       "      <td>2011/3/7/</td>\n",
       "    </tr>\n",
       "    <tr>\n",
       "      <th>7</th>\n",
       "      <td>Dew Point</td>\n",
       "      <td>-9 °C</td>\n",
       "      <td>NaN</td>\n",
       "      <td>NaN</td>\n",
       "      <td>3</td>\n",
       "      <td>2011</td>\n",
       "      <td>7</td>\n",
       "      <td>2011/3/7/</td>\n",
       "    </tr>\n",
       "    <tr>\n",
       "      <th>8</th>\n",
       "      <td>Average Humidity</td>\n",
       "      <td>46</td>\n",
       "      <td>NaN</td>\n",
       "      <td>NaN</td>\n",
       "      <td>3</td>\n",
       "      <td>2011</td>\n",
       "      <td>7</td>\n",
       "      <td>2011/3/7/</td>\n",
       "    </tr>\n",
       "    <tr>\n",
       "      <th>9</th>\n",
       "      <td>Maximum Humidity</td>\n",
       "      <td>60</td>\n",
       "      <td>NaN</td>\n",
       "      <td>NaN</td>\n",
       "      <td>3</td>\n",
       "      <td>2011</td>\n",
       "      <td>7</td>\n",
       "      <td>2011/3/7/</td>\n",
       "    </tr>\n",
       "    <tr>\n",
       "      <th>10</th>\n",
       "      <td>Minimum Humidity</td>\n",
       "      <td>27</td>\n",
       "      <td>NaN</td>\n",
       "      <td>NaN</td>\n",
       "      <td>3</td>\n",
       "      <td>2011</td>\n",
       "      <td>7</td>\n",
       "      <td>2011/3/7/</td>\n",
       "    </tr>\n",
       "    <tr>\n",
       "      <th>11</th>\n",
       "      <td>Precipitation</td>\n",
       "      <td>NaN</td>\n",
       "      <td>NaN</td>\n",
       "      <td>NaN</td>\n",
       "      <td>3</td>\n",
       "      <td>2011</td>\n",
       "      <td>7</td>\n",
       "      <td>2011/3/7/</td>\n",
       "    </tr>\n",
       "    <tr>\n",
       "      <th>12</th>\n",
       "      <td>Precipitation</td>\n",
       "      <td>0.0 mm</td>\n",
       "      <td>1.2 mm</td>\n",
       "      <td>- ()</td>\n",
       "      <td>3</td>\n",
       "      <td>2011</td>\n",
       "      <td>7</td>\n",
       "      <td>2011/3/7/</td>\n",
       "    </tr>\n",
       "    <tr>\n",
       "      <th>13</th>\n",
       "      <td>Sea Level Pressure</td>\n",
       "      <td>NaN</td>\n",
       "      <td>NaN</td>\n",
       "      <td>NaN</td>\n",
       "      <td>3</td>\n",
       "      <td>2011</td>\n",
       "      <td>7</td>\n",
       "      <td>2011/3/7/</td>\n",
       "    </tr>\n",
       "    <tr>\n",
       "      <th>14</th>\n",
       "      <td>Sea Level Pressure</td>\n",
       "      <td>1022.73 hPa</td>\n",
       "      <td>NaN</td>\n",
       "      <td>NaN</td>\n",
       "      <td>3</td>\n",
       "      <td>2011</td>\n",
       "      <td>7</td>\n",
       "      <td>2011/3/7/</td>\n",
       "    </tr>\n",
       "    <tr>\n",
       "      <th>15</th>\n",
       "      <td>Wind</td>\n",
       "      <td>NaN</td>\n",
       "      <td>NaN</td>\n",
       "      <td>NaN</td>\n",
       "      <td>3</td>\n",
       "      <td>2011</td>\n",
       "      <td>7</td>\n",
       "      <td>2011/3/7/</td>\n",
       "    </tr>\n",
       "    <tr>\n",
       "      <th>16</th>\n",
       "      <td>Wind Speed</td>\n",
       "      <td>18 km/h  ()</td>\n",
       "      <td>NaN</td>\n",
       "      <td>NaN</td>\n",
       "      <td>3</td>\n",
       "      <td>2011</td>\n",
       "      <td>7</td>\n",
       "      <td>2011/3/7/</td>\n",
       "    </tr>\n",
       "    <tr>\n",
       "      <th>17</th>\n",
       "      <td>Max Wind Speed</td>\n",
       "      <td>37 km/h</td>\n",
       "      <td>NaN</td>\n",
       "      <td>NaN</td>\n",
       "      <td>3</td>\n",
       "      <td>2011</td>\n",
       "      <td>7</td>\n",
       "      <td>2011/3/7/</td>\n",
       "    </tr>\n",
       "    <tr>\n",
       "      <th>18</th>\n",
       "      <td>Max Gust Speed</td>\n",
       "      <td>57 km/h</td>\n",
       "      <td>NaN</td>\n",
       "      <td>NaN</td>\n",
       "      <td>3</td>\n",
       "      <td>2011</td>\n",
       "      <td>7</td>\n",
       "      <td>2011/3/7/</td>\n",
       "    </tr>\n",
       "    <tr>\n",
       "      <th>19</th>\n",
       "      <td>Visibility</td>\n",
       "      <td>12.0 kilometers</td>\n",
       "      <td>NaN</td>\n",
       "      <td>NaN</td>\n",
       "      <td>3</td>\n",
       "      <td>2011</td>\n",
       "      <td>7</td>\n",
       "      <td>2011/3/7/</td>\n",
       "    </tr>\n",
       "    <tr>\n",
       "      <th>20</th>\n",
       "      <td>Events</td>\n",
       "      <td>NaN</td>\n",
       "      <td>NaN</td>\n",
       "      <td>NaN</td>\n",
       "      <td>3</td>\n",
       "      <td>2011</td>\n",
       "      <td>7</td>\n",
       "      <td>2011/3/7/</td>\n",
       "    </tr>\n",
       "  </tbody>\n",
       "</table>\n",
       "</div>"
      ],
      "text/plain": [
       "                                  Actual Average  Record   month  year  day  \\\n",
       "0           Temperature              NaN      NaN     NaN      3  2011    7   \n",
       "1      Mean Temperature             1 °C        -     NaN      3  2011    7   \n",
       "2       Max Temperature             3 °C    15 °C    - ()      3  2011    7   \n",
       "3       Min Temperature            -1 °C     3 °C    - ()      3  2011    7   \n",
       "4           Degree Days              NaN      NaN     NaN      3  2011    7   \n",
       "5   Heating Degree Days               32      NaN     NaN      3  2011    7   \n",
       "6              Moisture              NaN      NaN     NaN      3  2011    7   \n",
       "7             Dew Point            -9 °C      NaN     NaN      3  2011    7   \n",
       "8      Average Humidity               46      NaN     NaN      3  2011    7   \n",
       "9      Maximum Humidity               60      NaN     NaN      3  2011    7   \n",
       "10     Minimum Humidity               27      NaN     NaN      3  2011    7   \n",
       "11        Precipitation              NaN      NaN     NaN      3  2011    7   \n",
       "12        Precipitation           0.0 mm   1.2 mm    - ()      3  2011    7   \n",
       "13   Sea Level Pressure              NaN      NaN     NaN      3  2011    7   \n",
       "14   Sea Level Pressure      1022.73 hPa      NaN     NaN      3  2011    7   \n",
       "15                 Wind              NaN      NaN     NaN      3  2011    7   \n",
       "16           Wind Speed      18 km/h  ()      NaN     NaN      3  2011    7   \n",
       "17       Max Wind Speed          37 km/h      NaN     NaN      3  2011    7   \n",
       "18       Max Gust Speed          57 km/h      NaN     NaN      3  2011    7   \n",
       "19           Visibility  12.0 kilometers      NaN     NaN      3  2011    7   \n",
       "20               Events              NaN      NaN     NaN      3  2011    7   \n",
       "\n",
       "         date  \n",
       "0   2011/3/7/  \n",
       "1   2011/3/7/  \n",
       "2   2011/3/7/  \n",
       "3   2011/3/7/  \n",
       "4   2011/3/7/  \n",
       "5   2011/3/7/  \n",
       "6   2011/3/7/  \n",
       "7   2011/3/7/  \n",
       "8   2011/3/7/  \n",
       "9   2011/3/7/  \n",
       "10  2011/3/7/  \n",
       "11  2011/3/7/  \n",
       "12  2011/3/7/  \n",
       "13  2011/3/7/  \n",
       "14  2011/3/7/  \n",
       "15  2011/3/7/  \n",
       "16  2011/3/7/  \n",
       "17  2011/3/7/  \n",
       "18  2011/3/7/  \n",
       "19  2011/3/7/  \n",
       "20  2011/3/7/  "
      ]
     },
     "execution_count": 306,
     "metadata": {},
     "output_type": "execute_result"
    }
   ],
   "source": [
    "itemlist[2300] # we need to add this to data sets"
   ]
  },
  {
   "cell_type": "code",
   "execution_count": 944,
   "metadata": {
    "collapsed": true
   },
   "outputs": [],
   "source": [
    "  "
   ]
  },
  {
   "cell_type": "code",
   "execution_count": 947,
   "metadata": {
    "collapsed": false
   },
   "outputs": [],
   "source": []
  },
  {
   "cell_type": "code",
   "execution_count": 948,
   "metadata": {
    "collapsed": true
   },
   "outputs": [],
   "source": []
  }
 ],
 "metadata": {
  "anaconda-cloud": {},
  "kernelspec": {
   "display_name": "Python [default]",
   "language": "python",
   "name": "python3"
  },
  "language_info": {
   "codemirror_mode": {
    "name": "ipython",
    "version": 3
   },
   "file_extension": ".py",
   "mimetype": "text/x-python",
   "name": "python",
   "nbconvert_exporter": "python",
   "pygments_lexer": "ipython3",
   "version": "3.5.2"
  }
 },
 "nbformat": 4,
 "nbformat_minor": 1
}
