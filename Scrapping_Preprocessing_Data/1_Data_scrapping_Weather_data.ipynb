{
 "cells": [
  {
   "cell_type": "markdown",
   "metadata": {},
   "source": [
    "## Data Crawling For Weather Data."
   ]
  },
  {
   "cell_type": "markdown",
   "metadata": {},
   "source": [
    "<p> We do bit of web crawling using web data to get weather data. This data will be added to our feature sets to enable the model learn weather dependencies of impurity values. We will crawl data from weather underground using beautiful soup.</p>"
   ]
  },
  {
   "cell_type": "code",
   "execution_count": 1,
   "metadata": {
    "collapsed": true
   },
   "outputs": [],
   "source": [
    "import pandas as pd # import pnadas"
   ]
  },
  {
   "cell_type": "code",
   "execution_count": 2,
   "metadata": {
    "collapsed": false
   },
   "outputs": [],
   "source": [
    "from bs4 import BeautifulSoup # import beautiful soup\n",
    "import urllib  # import urllib"
   ]
  },
  {
   "cell_type": "markdown",
   "metadata": {},
   "source": [
    "### Scrapping With Pandas."
   ]
  },
  {
   "cell_type": "code",
   "execution_count": 3,
   "metadata": {
    "collapsed": false
   },
   "outputs": [],
   "source": [
    "# WE use pandas to have a view of how the data looks like on the site\n",
    "# this basically imports table.\n",
    "pandas_scrappers_1 = pd.read_html(\"https://www.wunderground.com/history/airport/LWSK/2000/2/30/DailyHistory.html?req_city=Skopje-zajceprid&req_state=09&req_statename=Macedonia&reqdb.zip=00000&reqdb.magic=1&reqdb.wmo=13588\")"
   ]
  },
  {
   "cell_type": "code",
   "execution_count": 4,
   "metadata": {
    "collapsed": false
   },
   "outputs": [
    {
     "data": {
      "text/html": [
       "<div>\n",
       "<table border=\"1\" class=\"dataframe\">\n",
       "  <thead>\n",
       "    <tr style=\"text-align: right;\">\n",
       "      <th></th>\n",
       "      <th>Mar. 01, 2000</th>\n",
       "      <th>Rise</th>\n",
       "      <th>Set</th>\n",
       "    </tr>\n",
       "  </thead>\n",
       "  <tbody>\n",
       "    <tr>\n",
       "      <th>0</th>\n",
       "      <td>Actual Time</td>\n",
       "      <td>6:08 AM CET</td>\n",
       "      <td>5:23 PM CET</td>\n",
       "    </tr>\n",
       "    <tr>\n",
       "      <th>1</th>\n",
       "      <td>Civil Twilight</td>\n",
       "      <td>5:40 AM CET</td>\n",
       "      <td>5:51 PM CET</td>\n",
       "    </tr>\n",
       "    <tr>\n",
       "      <th>2</th>\n",
       "      <td>Nautical Twilight</td>\n",
       "      <td>5:08 AM CET</td>\n",
       "      <td>6:24 PM CET</td>\n",
       "    </tr>\n",
       "    <tr>\n",
       "      <th>3</th>\n",
       "      <td>Astronomical Twilight</td>\n",
       "      <td>4:35 AM CET</td>\n",
       "      <td>6:56 PM CET</td>\n",
       "    </tr>\n",
       "  </tbody>\n",
       "</table>\n",
       "</div>"
      ],
      "text/plain": [
       "           Mar. 01, 2000         Rise          Set\n",
       "0            Actual Time  6:08 AM CET  5:23 PM CET\n",
       "1         Civil Twilight  5:40 AM CET  5:51 PM CET\n",
       "2      Nautical Twilight  5:08 AM CET  6:24 PM CET\n",
       "3  Astronomical Twilight  4:35 AM CET  6:56 PM CET"
      ]
     },
     "execution_count": 4,
     "metadata": {},
     "output_type": "execute_result"
    }
   ],
   "source": [
    "\n",
    "#View the data\n",
    "pandas_scrappers_1[0]"
   ]
  },
  {
   "cell_type": "markdown",
   "metadata": {
    "collapsed": true
   },
   "source": [
    "<p> Our aim would be to do web crawling to receive all historical data as above </p>"
   ]
  },
  {
   "cell_type": "markdown",
   "metadata": {},
   "source": [
    "# WEB SCRAPPING."
   ]
  },
  {
   "cell_type": "code",
   "execution_count": 5,
   "metadata": {
    "collapsed": false
   },
   "outputs": [],
   "source": [
    "url = urllib.request.Request('https://www.wunderground.com/history/airport/LWSK/') # make request"
   ]
  },
  {
   "cell_type": "code",
   "execution_count": 6,
   "metadata": {
    "collapsed": false
   },
   "outputs": [],
   "source": [
    "opener = urllib.request.build_opener() # build an opener for web request"
   ]
  },
  {
   "cell_type": "code",
   "execution_count": 7,
   "metadata": {
    "collapsed": false
   },
   "outputs": [],
   "source": [
    "url_open = opener.open(url) # open connection"
   ]
  },
  {
   "cell_type": "code",
   "execution_count": 8,
   "metadata": {
    "collapsed": false
   },
   "outputs": [],
   "source": [
    "soup = BeautifulSoup(url_open,'lxml') # use beautiful soup to import data in lxml format."
   ]
  },
  {
   "cell_type": "markdown",
   "metadata": {},
   "source": [
    "print (soup.prettify()); # run this to see how the website content looks like. Take time to analyse the output."
   ]
  },
  {
   "cell_type": "code",
   "execution_count": 9,
   "metadata": {
    "collapsed": false
   },
   "outputs": [],
   "source": [
    "tbl = soup.find('table') # we can find all tables in the import"
   ]
  },
  {
   "cell_type": "code",
   "execution_count": 10,
   "metadata": {
    "collapsed": false
   },
   "outputs": [],
   "source": [
    "tags =soup.findAll(\"div\", class_=\"date-selector\") # or find a paricular div"
   ]
  },
  {
   "cell_type": "code",
   "execution_count": 11,
   "metadata": {
    "collapsed": false
   },
   "outputs": [
    {
     "data": {
      "text/plain": [
       "[<div class=\"date-selector\">\n",
       " <select class=\"month form-select\" name=\"month\">\n",
       " <option value=\"1\">January</option>\n",
       " <option value=\"2\">February</option>\n",
       " <option selected=\"selected\" value=\"3\">March</option>\n",
       " <option value=\"4\">April</option>\n",
       " <option value=\"5\">May</option>\n",
       " <option value=\"6\">June</option>\n",
       " <option value=\"7\">July</option>\n",
       " <option value=\"8\">August</option>\n",
       " <option value=\"9\">September</option>\n",
       " <option value=\"10\">October</option>\n",
       " <option value=\"11\">November</option>\n",
       " <option value=\"12\">December</option>\n",
       " </select>\n",
       " <select class=\"day form-select\" name=\"day\">\n",
       " <option>1</option>\n",
       " <option>2</option>\n",
       " <option>3</option>\n",
       " <option>4</option>\n",
       " <option>5</option>\n",
       " <option>6</option>\n",
       " <option>7</option>\n",
       " <option>8</option>\n",
       " <option>9</option>\n",
       " <option>10</option>\n",
       " <option>11</option>\n",
       " <option>12</option>\n",
       " <option>13</option>\n",
       " <option>14</option>\n",
       " <option>15</option>\n",
       " <option>16</option>\n",
       " <option>17</option>\n",
       " <option>18</option>\n",
       " <option>19</option>\n",
       " <option>20</option>\n",
       " <option>21</option>\n",
       " <option>22</option>\n",
       " <option>23</option>\n",
       " <option>24</option>\n",
       " <option>25</option>\n",
       " <option selected=\"selected\">26</option>\n",
       " <option>27</option>\n",
       " <option>28</option>\n",
       " <option>29</option>\n",
       " <option>30</option>\n",
       " <option>31</option>\n",
       " </select>\n",
       " <select class=\"year form-select\" name=\"year\">\n",
       " <option selected=\"selected\">2017</option>\n",
       " <option>2016</option>\n",
       " <option>2015</option>\n",
       " <option>2014</option>\n",
       " <option>2013</option>\n",
       " <option>2012</option>\n",
       " <option>2011</option>\n",
       " <option>2010</option>\n",
       " <option>2009</option>\n",
       " <option>2008</option>\n",
       " <option>2007</option>\n",
       " <option>2006</option>\n",
       " <option>2005</option>\n",
       " <option>2004</option>\n",
       " <option>2003</option>\n",
       " <option>2002</option>\n",
       " <option>2001</option>\n",
       " <option>2000</option>\n",
       " <option>1999</option>\n",
       " <option>1998</option>\n",
       " <option>1997</option>\n",
       " </select>\n",
       " </div>]"
      ]
     },
     "execution_count": 11,
     "metadata": {},
     "output_type": "execute_result"
    }
   ],
   "source": [
    "tags"
   ]
  },
  {
   "cell_type": "code",
   "execution_count": 12,
   "metadata": {
    "collapsed": true
   },
   "outputs": [],
   "source": [
    "# From the above we observe that only the select elements give access to different element in the table\n",
    "# we try to extract that now.\n",
    "select_options=soup.findAll(\"select\")\n"
   ]
  },
  {
   "cell_type": "code",
   "execution_count": 13,
   "metadata": {
    "collapsed": false
   },
   "outputs": [
    {
     "name": "stdout",
     "output_type": "stream",
     "text": [
      "[['month', 'form-select'], 'month']\n",
      "month\n",
      "[['day', 'form-select'], 'day']\n",
      "day\n",
      "[['year', 'form-select'], 'year']\n",
      "year\n",
      "[['month'], 'month']\n",
      "month\n",
      "[['day'], 'day']\n",
      "day\n"
     ]
    }
   ],
   "source": [
    "#We extract the main items in the select options.[years, month, day]\n",
    "\n",
    "selected_index=0;\n",
    "main_selection_items = []\n",
    "for option in select_options:\n",
    "            v = list(option.attrs.values())  # return list of main items \n",
    "            print(v)\n",
    "            main_selection_items.append(str(v[-1]))\n",
    "            print(v[-1])\n",
    "del main_selection_items[:2]; "
   ]
  },
  {
   "cell_type": "code",
   "execution_count": 14,
   "metadata": {
    "collapsed": false
   },
   "outputs": [
    {
     "data": {
      "text/plain": [
       "['year', 'month', 'day']"
      ]
     },
     "execution_count": 14,
     "metadata": {},
     "output_type": "execute_result"
    }
   ],
   "source": [
    "main_selection_items"
   ]
  },
  {
   "cell_type": "code",
   "execution_count": null,
   "metadata": {
    "collapsed": true
   },
   "outputs": [],
   "source": [
    "# To each of this we append the years present and the month and the days \n",
    "# we make use of the NAvigableSte"
   ]
  },
  {
   "cell_type": "code",
   "execution_count": 15,
   "metadata": {
    "collapsed": false
   },
   "outputs": [],
   "source": [
    "from bs4 import NavigableString;\n",
    "from bs4 import Tag;\n",
    "\n",
    "for counter, ee in enumerate(select_options):\n",
    "    if counter ==0:\n",
    "           main_selection_items[1]=[]\n",
    "        #print(vk[1]) \n",
    "           for kkk in ee.children:\n",
    "                 # print(kkk)  \n",
    "                    if isinstance(kkk, NavigableString):\n",
    "                        continue\n",
    "                    if isinstance(kkk, Tag):\n",
    "                        main_selection_items[1].append(kkk['value'])\n",
    "                    \n",
    "    elif counter ==1:\n",
    "        main_selection_items[2]=[]\n",
    "        for i in ee.children:\n",
    "            #print(i)\n",
    "            if isinstance(i, NavigableString):\n",
    "                continue\n",
    "            if isinstance(i, Tag):\n",
    "                main_selection_items[2].append(i.text)\n",
    "        \n",
    "      \n",
    "            \n",
    "    elif counter ==2:\n",
    "        \n",
    "        main_selection_items[0]=[];\n",
    "        for y in ee.children:\n",
    "            if isinstance(y, NavigableString): \n",
    "                continue\n",
    "            if isinstance(y, Tag):\n",
    "                main_selection_items[0].append(y.text) \n",
    "    else:\n",
    "        break;\n"
   ]
  },
  {
   "cell_type": "code",
   "execution_count": 16,
   "metadata": {
    "collapsed": false
   },
   "outputs": [
    {
     "data": {
      "text/plain": [
       "['2017',\n",
       " '2016',\n",
       " '2015',\n",
       " '2014',\n",
       " '2013',\n",
       " '2012',\n",
       " '2011',\n",
       " '2010',\n",
       " '2009',\n",
       " '2008',\n",
       " '2007',\n",
       " '2006',\n",
       " '2005',\n",
       " '2004',\n",
       " '2003',\n",
       " '2002',\n",
       " '2001',\n",
       " '2000',\n",
       " '1999',\n",
       " '1998',\n",
       " '1997']"
      ]
     },
     "execution_count": 16,
     "metadata": {},
     "output_type": "execute_result"
    }
   ],
   "source": [
    "main_selection_items[0] # see sample from extracted options"
   ]
  },
  {
   "cell_type": "code",
   "execution_count": 17,
   "metadata": {
    "collapsed": false
   },
   "outputs": [],
   "source": [
    "url1=\"https://www.wunderground.com/history/airport/LWSK/\"\n",
    "#url2=\"2000/2/30\"\n",
    "year= \"\"\n",
    "month=\"\"\n",
    "day = \"\"\n",
    "url2=\"'\"+str(year)+\"/\"+str(month)+str(day)+\"/\"+\"'\"\n",
    "url3=\"/DailyHistory.html?req_city=Skopje-zajceprid&req_state=09&req_statename=Macedonia&reqdb.zip=00000&reqdb.magic=1&reqdb.wmo=13588\"\n",
    "chunks_0=[]\n",
    "chunks_1=[]\n",
    "for yy in main_selection_items[0]:\n",
    "    #print(yy)\n",
    "    \n",
    "        for mm in main_selection_items[1]:\n",
    "            #print(dd)\n",
    "            for dd in main_selection_items[2]:\n",
    "            #if yy == \"2016\":\n",
    "            #print(mm)\n",
    "                year = yy\n",
    "                month = mm\n",
    "                day=dd\n",
    "                url2=str(year)+\"/\"+str(month)+\"/\"+str(day)+\"/\"\n",
    "                #url2=\"'\"+year+\"/\"+month+\"/\"+day+\"/\"+\"'\"\n",
    "                #print (url2)\n",
    "                \n",
    "                pandas_scrapper = pd.read_html(url1+url2+url3)\n",
    "                date = pd.to_datetime(url2,errors='coerce')\n",
    "                month_ = (date.month)\n",
    "                year_ = (date.year)\n",
    "                day_ = (date.day)\n",
    "                #print (date.year)\n",
    "                \n",
    "                #print(type(month_))\n",
    "                \n",
    "                #print(type(date.day))\n",
    "                #print(pandas_scrapper)\n",
    "                pandas_scrapper[0]['month'] = month_\n",
    "                pandas_scrapper[0]['year'] = year_\n",
    "                pandas_scrapper[0]['day'] = day_\n",
    "                pandas_scrapper[0]['date'] = url2\n",
    "                \n",
    "                pandas_scrapper[1]['month'] = month_\n",
    "                pandas_scrapper[1]['year'] = year_\n",
    "                pandas_scrapper[1]['day'] = day_\n",
    "                pandas_scrapper[1]['date'] = url2\n",
    "                \n",
    "                pandas_scrapper_first  = pandas_scrapper[0].copy(deep=True)\n",
    "                \n",
    "                pandas_scrapper_second  = pandas_scrapper[1].copy(deep=True)\n",
    "                #break\n",
    "                #pandas_scrapper.set_index('date')\n",
    "                #print(year);print(month);print(day)\n",
    "                chunks_0.append(pandas_scrapper_first)\n",
    "                chunks_1.append(pandas_scrapper_second)\n",
    "        #final = pd.concat(chunks, axis=0) \n",
    "        #final_ = pd.concat(chunks1, axis=0)\n",
    "                #else:\n",
    "    #else:\n",
    "        #continue;\n",
    "            "
   ]
  },
  {
   "cell_type": "code",
   "execution_count": 18,
   "metadata": {
    "collapsed": false
   },
   "outputs": [
    {
     "data": {
      "text/html": [
       "<div>\n",
       "<table border=\"1\" class=\"dataframe\">\n",
       "  <thead>\n",
       "    <tr style=\"text-align: right;\">\n",
       "      <th></th>\n",
       "      <th>0</th>\n",
       "      <th>1</th>\n",
       "      <th>month</th>\n",
       "      <th>year</th>\n",
       "      <th>day</th>\n",
       "      <th>date</th>\n",
       "    </tr>\n",
       "  </thead>\n",
       "  <tbody>\n",
       "    <tr>\n",
       "      <th>0</th>\n",
       "      <td>T = Trace of Precipitation, MM = Missing Value</td>\n",
       "      <td>Source: Averaged Metar Reports</td>\n",
       "      <td>1</td>\n",
       "      <td>2017</td>\n",
       "      <td>4</td>\n",
       "      <td>2017/1/4/</td>\n",
       "    </tr>\n",
       "  </tbody>\n",
       "</table>\n",
       "</div>"
      ],
      "text/plain": [
       "                                                0  \\\n",
       "0  T = Trace of Precipitation, MM = Missing Value   \n",
       "\n",
       "                                1  month  year  day       date  \n",
       "0  Source: Averaged Metar Reports      1  2017    4  2017/1/4/  "
      ]
     },
     "execution_count": 18,
     "metadata": {},
     "output_type": "execute_result"
    }
   ],
   "source": [
    "chunks_1[3]"
   ]
  },
  {
   "cell_type": "code",
   "execution_count": 26,
   "metadata": {
    "collapsed": false
   },
   "outputs": [
    {
     "data": {
      "text/html": [
       "<div>\n",
       "<table border=\"1\" class=\"dataframe\">\n",
       "  <thead>\n",
       "    <tr style=\"text-align: right;\">\n",
       "      <th></th>\n",
       "      <th></th>\n",
       "      <th>Actual</th>\n",
       "      <th>Average</th>\n",
       "      <th>Record</th>\n",
       "      <th>month</th>\n",
       "      <th>year</th>\n",
       "      <th>day</th>\n",
       "      <th>date</th>\n",
       "    </tr>\n",
       "  </thead>\n",
       "  <tbody>\n",
       "    <tr>\n",
       "      <th>0</th>\n",
       "      <td>Temperature</td>\n",
       "      <td>NaN</td>\n",
       "      <td>NaN</td>\n",
       "      <td>NaN</td>\n",
       "      <td>1</td>\n",
       "      <td>2017</td>\n",
       "      <td>4</td>\n",
       "      <td>2017/1/4/</td>\n",
       "    </tr>\n",
       "    <tr>\n",
       "      <th>1</th>\n",
       "      <td>Mean Temperature</td>\n",
       "      <td>0 °C</td>\n",
       "      <td>-</td>\n",
       "      <td>NaN</td>\n",
       "      <td>1</td>\n",
       "      <td>2017</td>\n",
       "      <td>4</td>\n",
       "      <td>2017/1/4/</td>\n",
       "    </tr>\n",
       "    <tr>\n",
       "      <th>2</th>\n",
       "      <td>Max Temperature</td>\n",
       "      <td>6 °C</td>\n",
       "      <td>5 °C</td>\n",
       "      <td>- ()</td>\n",
       "      <td>1</td>\n",
       "      <td>2017</td>\n",
       "      <td>4</td>\n",
       "      <td>2017/1/4/</td>\n",
       "    </tr>\n",
       "    <tr>\n",
       "      <th>3</th>\n",
       "      <td>Min Temperature</td>\n",
       "      <td>-6 °C</td>\n",
       "      <td>-3 °C</td>\n",
       "      <td>- ()</td>\n",
       "      <td>1</td>\n",
       "      <td>2017</td>\n",
       "      <td>4</td>\n",
       "      <td>2017/1/4/</td>\n",
       "    </tr>\n",
       "    <tr>\n",
       "      <th>4</th>\n",
       "      <td>Degree Days</td>\n",
       "      <td>NaN</td>\n",
       "      <td>NaN</td>\n",
       "      <td>NaN</td>\n",
       "      <td>1</td>\n",
       "      <td>2017</td>\n",
       "      <td>4</td>\n",
       "      <td>2017/1/4/</td>\n",
       "    </tr>\n",
       "  </tbody>\n",
       "</table>\n",
       "</div>"
      ],
      "text/plain": [
       "                    Actual Average  Record   month  year  day       date\n",
       "0       Temperature    NaN      NaN     NaN      1  2017    4  2017/1/4/\n",
       "1  Mean Temperature   0 °C        -     NaN      1  2017    4  2017/1/4/\n",
       "2   Max Temperature   6 °C     5 °C    - ()      1  2017    4  2017/1/4/\n",
       "3   Min Temperature  -6 °C    -3 °C    - ()      1  2017    4  2017/1/4/\n",
       "4       Degree Days    NaN      NaN     NaN      1  2017    4  2017/1/4/"
      ]
     },
     "execution_count": 26,
     "metadata": {},
     "output_type": "execute_result"
    }
   ],
   "source": [
    "chunks_0[3].head()"
   ]
  },
  {
   "cell_type": "code",
   "execution_count": null,
   "metadata": {
    "collapsed": true
   },
   "outputs": [],
   "source": []
  },
  {
   "cell_type": "code",
   "execution_count": 1017,
   "metadata": {
    "collapsed": false
   },
   "outputs": [
    {
     "name": "stdout",
     "output_type": "stream",
     "text": [
      "2017\n"
     ]
    }
   ],
   "source": []
  },
  {
   "cell_type": "code",
   "execution_count": 25,
   "metadata": {
    "collapsed": false
   },
   "outputs": [
    {
     "name": "stdout",
     "output_type": "stream",
     "text": [
      "8\n",
      "Index([' ', 'Actual', 'Average ', 'Record ', 'month', 'year', 'day', 'date'], dtype='object')\n",
      "\n",
      "\n",
      "8\n",
      "Index([' ', 'Actual', 'Average ', 'Record ', 'month', 'year', 'day', 'date'], dtype='object')\n",
      "\n",
      "\n",
      "8\n",
      "Index([' ', 'Actual', 'Average ', 'Record ', 'month', 'year', 'day', 'date'], dtype='object')\n",
      "\n",
      "\n",
      "8\n",
      "Index([' ', 'Actual', 'Average ', 'Record ', 'month', 'year', 'day', 'date'], dtype='object')\n",
      "\n",
      "\n",
      "8\n",
      "Index([' ', 'Actual', 'Average ', 'Record ', 'month', 'year', 'day', 'date'], dtype='object')\n",
      "\n",
      "\n"
     ]
    }
   ],
   "source": [
    "# View Column Headers\n",
    "count =0 \n",
    "for i in range(0,len(chunks_0)):\n",
    "    if count<5:\n",
    "        print (len(chunks_0[i].columns))\n",
    "        print (chunks_0[i].columns)\n",
    "        print('\\n')\n",
    "        count = count+1"
   ]
  },
  {
   "cell_type": "markdown",
   "metadata": {
    "collapsed": false
   },
   "source": [
    "# Save Scrapped Data with pickle\n"
   ]
  },
  {
   "cell_type": "code",
   "execution_count": 1,
   "metadata": {
    "collapsed": true
   },
   "outputs": [],
   "source": [
    "import pickle as pick"
   ]
  },
  {
   "cell_type": "code",
   "execution_count": 38,
   "metadata": {
    "collapsed": false
   },
   "outputs": [],
   "source": [
    "with open('featureset_0', 'wb') as fp:\n",
    "    pick.dump(chunks_0, fp)"
   ]
  },
  {
   "cell_type": "code",
   "execution_count": 39,
   "metadata": {
    "collapsed": false
   },
   "outputs": [],
   "source": [
    "with open('featureset_1', 'wb') as fp:\n",
    "    pick.dump(chunks_1, fp)"
   ]
  },
  {
   "cell_type": "code",
   "execution_count": 2,
   "metadata": {
    "collapsed": false
   },
   "outputs": [],
   "source": [
    "# load data set using pickle again\n",
    "\n",
    "with open ('featureset_0', 'rb') as fp:\n",
    "    itemlist = pick.load(fp)"
   ]
  },
  {
   "cell_type": "code",
   "execution_count": 41,
   "metadata": {
    "collapsed": false
   },
   "outputs": [
    {
     "data": {
      "text/plain": [
       "True"
      ]
     },
     "execution_count": 41,
     "metadata": {},
     "output_type": "execute_result"
    }
   ],
   "source": [
    "#test length with the chunks_0\n",
    "len(itemlist) == len(chunks_0)"
   ]
  },
  {
   "cell_type": "markdown",
   "metadata": {},
   "source": [
    "<p> On inspection the data set look the same. </p>"
   ]
  },
  {
   "cell_type": "code",
   "execution_count": 43,
   "metadata": {
    "collapsed": false
   },
   "outputs": [
    {
     "data": {
      "text/html": [
       "<div>\n",
       "<table border=\"1\" class=\"dataframe\">\n",
       "  <thead>\n",
       "    <tr style=\"text-align: right;\">\n",
       "      <th></th>\n",
       "      <th></th>\n",
       "      <th>Actual</th>\n",
       "      <th>Average</th>\n",
       "      <th>Record</th>\n",
       "      <th>month</th>\n",
       "      <th>year</th>\n",
       "      <th>day</th>\n",
       "      <th>date</th>\n",
       "    </tr>\n",
       "  </thead>\n",
       "  <tbody>\n",
       "    <tr>\n",
       "      <th>0</th>\n",
       "      <td>Temperature</td>\n",
       "      <td>NaN</td>\n",
       "      <td>NaN</td>\n",
       "      <td>NaN</td>\n",
       "      <td>1</td>\n",
       "      <td>2017</td>\n",
       "      <td>1</td>\n",
       "      <td>2017/1/1/</td>\n",
       "    </tr>\n",
       "    <tr>\n",
       "      <th>1</th>\n",
       "      <td>Mean Temperature</td>\n",
       "      <td>-4 °C</td>\n",
       "      <td>-</td>\n",
       "      <td>NaN</td>\n",
       "      <td>1</td>\n",
       "      <td>2017</td>\n",
       "      <td>1</td>\n",
       "      <td>2017/1/1/</td>\n",
       "    </tr>\n",
       "    <tr>\n",
       "      <th>2</th>\n",
       "      <td>Max Temperature</td>\n",
       "      <td>3 °C</td>\n",
       "      <td>4 °C</td>\n",
       "      <td>- ()</td>\n",
       "      <td>1</td>\n",
       "      <td>2017</td>\n",
       "      <td>1</td>\n",
       "      <td>2017/1/1/</td>\n",
       "    </tr>\n",
       "    <tr>\n",
       "      <th>3</th>\n",
       "      <td>Min Temperature</td>\n",
       "      <td>-10 °C</td>\n",
       "      <td>-3 °C</td>\n",
       "      <td>- ()</td>\n",
       "      <td>1</td>\n",
       "      <td>2017</td>\n",
       "      <td>1</td>\n",
       "      <td>2017/1/1/</td>\n",
       "    </tr>\n",
       "    <tr>\n",
       "      <th>4</th>\n",
       "      <td>Degree Days</td>\n",
       "      <td>NaN</td>\n",
       "      <td>NaN</td>\n",
       "      <td>NaN</td>\n",
       "      <td>1</td>\n",
       "      <td>2017</td>\n",
       "      <td>1</td>\n",
       "      <td>2017/1/1/</td>\n",
       "    </tr>\n",
       "  </tbody>\n",
       "</table>\n",
       "</div>"
      ],
      "text/plain": [
       "                     Actual Average  Record   month  year  day       date\n",
       "0       Temperature     NaN      NaN     NaN      1  2017    1  2017/1/1/\n",
       "1  Mean Temperature   -4 °C        -     NaN      1  2017    1  2017/1/1/\n",
       "2   Max Temperature    3 °C     4 °C    - ()      1  2017    1  2017/1/1/\n",
       "3   Min Temperature  -10 °C    -3 °C    - ()      1  2017    1  2017/1/1/\n",
       "4       Degree Days     NaN      NaN     NaN      1  2017    1  2017/1/1/"
      ]
     },
     "execution_count": 43,
     "metadata": {},
     "output_type": "execute_result"
    }
   ],
   "source": [
    "itemlist[0].head() # "
   ]
  },
  {
   "cell_type": "code",
   "execution_count": 45,
   "metadata": {
    "collapsed": false
   },
   "outputs": [
    {
     "data": {
      "text/html": [
       "<div>\n",
       "<table border=\"1\" class=\"dataframe\">\n",
       "  <thead>\n",
       "    <tr style=\"text-align: right;\">\n",
       "      <th></th>\n",
       "      <th></th>\n",
       "      <th>Actual</th>\n",
       "      <th>Average</th>\n",
       "      <th>Record</th>\n",
       "      <th>month</th>\n",
       "      <th>year</th>\n",
       "      <th>day</th>\n",
       "      <th>date</th>\n",
       "    </tr>\n",
       "  </thead>\n",
       "  <tbody>\n",
       "    <tr>\n",
       "      <th>0</th>\n",
       "      <td>Temperature</td>\n",
       "      <td>NaN</td>\n",
       "      <td>NaN</td>\n",
       "      <td>NaN</td>\n",
       "      <td>1</td>\n",
       "      <td>2017</td>\n",
       "      <td>1</td>\n",
       "      <td>2017/1/1/</td>\n",
       "    </tr>\n",
       "    <tr>\n",
       "      <th>1</th>\n",
       "      <td>Mean Temperature</td>\n",
       "      <td>-4 °C</td>\n",
       "      <td>-</td>\n",
       "      <td>NaN</td>\n",
       "      <td>1</td>\n",
       "      <td>2017</td>\n",
       "      <td>1</td>\n",
       "      <td>2017/1/1/</td>\n",
       "    </tr>\n",
       "    <tr>\n",
       "      <th>2</th>\n",
       "      <td>Max Temperature</td>\n",
       "      <td>3 °C</td>\n",
       "      <td>4 °C</td>\n",
       "      <td>- ()</td>\n",
       "      <td>1</td>\n",
       "      <td>2017</td>\n",
       "      <td>1</td>\n",
       "      <td>2017/1/1/</td>\n",
       "    </tr>\n",
       "    <tr>\n",
       "      <th>3</th>\n",
       "      <td>Min Temperature</td>\n",
       "      <td>-10 °C</td>\n",
       "      <td>-3 °C</td>\n",
       "      <td>- ()</td>\n",
       "      <td>1</td>\n",
       "      <td>2017</td>\n",
       "      <td>1</td>\n",
       "      <td>2017/1/1/</td>\n",
       "    </tr>\n",
       "    <tr>\n",
       "      <th>4</th>\n",
       "      <td>Degree Days</td>\n",
       "      <td>NaN</td>\n",
       "      <td>NaN</td>\n",
       "      <td>NaN</td>\n",
       "      <td>1</td>\n",
       "      <td>2017</td>\n",
       "      <td>1</td>\n",
       "      <td>2017/1/1/</td>\n",
       "    </tr>\n",
       "  </tbody>\n",
       "</table>\n",
       "</div>"
      ],
      "text/plain": [
       "                     Actual Average  Record   month  year  day       date\n",
       "0       Temperature     NaN      NaN     NaN      1  2017    1  2017/1/1/\n",
       "1  Mean Temperature   -4 °C        -     NaN      1  2017    1  2017/1/1/\n",
       "2   Max Temperature    3 °C     4 °C    - ()      1  2017    1  2017/1/1/\n",
       "3   Min Temperature  -10 °C    -3 °C    - ()      1  2017    1  2017/1/1/\n",
       "4       Degree Days     NaN      NaN     NaN      1  2017    1  2017/1/1/"
      ]
     },
     "execution_count": 45,
     "metadata": {},
     "output_type": "execute_result"
    }
   ],
   "source": [
    "chunks_0[0].head()"
   ]
  },
  {
   "cell_type": "code",
   "execution_count": 46,
   "metadata": {
    "collapsed": true
   },
   "outputs": [],
   "source": [
    "with open ('featureset_1', 'rb') as fp:\n",
    "    itemlist_1 = pick.load(fp)"
   ]
  },
  {
   "cell_type": "code",
   "execution_count": 47,
   "metadata": {
    "collapsed": false
   },
   "outputs": [
    {
     "data": {
      "text/plain": [
       "True"
      ]
     },
     "execution_count": 47,
     "metadata": {},
     "output_type": "execute_result"
    }
   ],
   "source": [
    "len(itemlist_1 )== len(chunks_1)"
   ]
  },
  {
   "cell_type": "code",
   "execution_count": null,
   "metadata": {
    "collapsed": true
   },
   "outputs": [],
   "source": []
  },
  {
   "cell_type": "code",
   "execution_count": null,
   "metadata": {
    "collapsed": true
   },
   "outputs": [],
   "source": []
  },
  {
   "cell_type": "markdown",
   "metadata": {},
   "source": [
    "# Load Impurities data"
   ]
  },
  {
   "cell_type": "code",
   "execution_count": 3,
   "metadata": {
    "collapsed": false
   },
   "outputs": [
    {
     "data": {
      "text/plain": [
       "'/Users/Seychelles/Desktop/GoogleTensorflow/Data_Collector'"
      ]
     },
     "execution_count": 3,
     "metadata": {},
     "output_type": "execute_result"
    }
   ],
   "source": [
    "# Data import \n",
    "%pwd"
   ]
  },
  {
   "cell_type": "code",
   "execution_count": 4,
   "metadata": {
    "collapsed": false
   },
   "outputs": [
    {
     "name": "stdout",
     "output_type": "stream",
     "text": [
      "/Users/Seychelles/Desktop/GoogleTensorflow/Data_Collector/CSV_file_from_2007_to_2017\n"
     ]
    }
   ],
   "source": [
    "%cd CSV_file_from_2007_to_2017"
   ]
  },
  {
   "cell_type": "code",
   "execution_count": 5,
   "metadata": {
    "collapsed": true
   },
   "outputs": [],
   "source": [
    "import pandas as pd"
   ]
  },
  {
   "cell_type": "code",
   "execution_count": 70,
   "metadata": {
    "collapsed": false
   },
   "outputs": [],
   "source": [
    "pollution_PM = pd.read_csv(\"SkopjeRegion_PM10_airpointers.csv\") #load data set"
   ]
  },
  {
   "cell_type": "code",
   "execution_count": 71,
   "metadata": {
    "collapsed": false
   },
   "outputs": [
    {
     "data": {
      "text/html": [
       "<div>\n",
       "<table border=\"1\" class=\"dataframe\">\n",
       "  <thead>\n",
       "    <tr style=\"text-align: right;\">\n",
       "      <th></th>\n",
       "      <th>DATE_TIME;LAT;LON;PM10;NAME</th>\n",
       "    </tr>\n",
       "  </thead>\n",
       "  <tbody>\n",
       "    <tr>\n",
       "      <th>626495</th>\n",
       "      <td>14.12.2016 09;42.006667;21.386944;79.07;Karpos</td>\n",
       "    </tr>\n",
       "    <tr>\n",
       "      <th>626496</th>\n",
       "      <td>14.12.2016 09;41.977821;21.464474;110.39;Lisice</td>\n",
       "    </tr>\n",
       "    <tr>\n",
       "      <th>626497</th>\n",
       "      <td>14.12.2016 09;41.999200;21.440800;72.11;Rektorat</td>\n",
       "    </tr>\n",
       "    <tr>\n",
       "      <th>626498</th>\n",
       "      <td>14.12.2016 09;42.015800;21.650600;;Mrsevci</td>\n",
       "    </tr>\n",
       "    <tr>\n",
       "      <th>626499</th>\n",
       "      <td>14.12.2016 09;41.987500;21.652500;59.73;Miladi...</td>\n",
       "    </tr>\n",
       "  </tbody>\n",
       "</table>\n",
       "</div>"
      ],
      "text/plain": [
       "                              DATE_TIME;LAT;LON;PM10;NAME\n",
       "626495     14.12.2016 09;42.006667;21.386944;79.07;Karpos\n",
       "626496    14.12.2016 09;41.977821;21.464474;110.39;Lisice\n",
       "626497   14.12.2016 09;41.999200;21.440800;72.11;Rektorat\n",
       "626498         14.12.2016 09;42.015800;21.650600;;Mrsevci\n",
       "626499  14.12.2016 09;41.987500;21.652500;59.73;Miladi..."
      ]
     },
     "execution_count": 71,
     "metadata": {},
     "output_type": "execute_result"
    }
   ],
   "source": [
    "# View Data\n",
    "pollution_PM.tail()"
   ]
  },
  {
   "cell_type": "code",
   "execution_count": 72,
   "metadata": {
    "collapsed": true
   },
   "outputs": [],
   "source": [
    "pollution_PM=pollution_PM.rename(columns = {'DATE_TIME;LAT;LON;PM10;NAME':'pm10'})\n",
    "# change the column name to something simplecolumn name to facilitate \n",
    "# This will facilitate separation of columns into various components."
   ]
  },
  {
   "cell_type": "code",
   "execution_count": 73,
   "metadata": {
    "collapsed": false
   },
   "outputs": [
    {
     "data": {
      "text/plain": [
       "dtype('O')"
      ]
     },
     "execution_count": 73,
     "metadata": {},
     "output_type": "execute_result"
    }
   ],
   "source": [
    "pollution_PM.columns.dtype # The columns are all of object type"
   ]
  },
  {
   "cell_type": "code",
   "execution_count": 74,
   "metadata": {
    "collapsed": false
   },
   "outputs": [
    {
     "data": {
      "text/html": [
       "<div>\n",
       "<table border=\"1\" class=\"dataframe\">\n",
       "  <thead>\n",
       "    <tr style=\"text-align: right;\">\n",
       "      <th></th>\n",
       "      <th>pm10</th>\n",
       "    </tr>\n",
       "  </thead>\n",
       "  <tbody>\n",
       "    <tr>\n",
       "      <th>626495</th>\n",
       "      <td>14.12.2016 09;42.006667;21.386944;79.07;Karpos</td>\n",
       "    </tr>\n",
       "    <tr>\n",
       "      <th>626496</th>\n",
       "      <td>14.12.2016 09;41.977821;21.464474;110.39;Lisice</td>\n",
       "    </tr>\n",
       "    <tr>\n",
       "      <th>626497</th>\n",
       "      <td>14.12.2016 09;41.999200;21.440800;72.11;Rektorat</td>\n",
       "    </tr>\n",
       "    <tr>\n",
       "      <th>626498</th>\n",
       "      <td>14.12.2016 09;42.015800;21.650600;;Mrsevci</td>\n",
       "    </tr>\n",
       "    <tr>\n",
       "      <th>626499</th>\n",
       "      <td>14.12.2016 09;41.987500;21.652500;59.73;Miladi...</td>\n",
       "    </tr>\n",
       "  </tbody>\n",
       "</table>\n",
       "</div>"
      ],
      "text/plain": [
       "                                                     pm10\n",
       "626495     14.12.2016 09;42.006667;21.386944;79.07;Karpos\n",
       "626496    14.12.2016 09;41.977821;21.464474;110.39;Lisice\n",
       "626497   14.12.2016 09;41.999200;21.440800;72.11;Rektorat\n",
       "626498         14.12.2016 09;42.015800;21.650600;;Mrsevci\n",
       "626499  14.12.2016 09;41.987500;21.652500;59.73;Miladi..."
      ]
     },
     "execution_count": 74,
     "metadata": {},
     "output_type": "execute_result"
    }
   ],
   "source": [
    "pollution_PM.tail()"
   ]
  },
  {
   "cell_type": "markdown",
   "metadata": {},
   "source": [
    "<p> Seperate columns here </p>"
   ]
  },
  {
   "cell_type": "code",
   "execution_count": 75,
   "metadata": {
    "collapsed": false
   },
   "outputs": [],
   "source": [
    "df_ = pd.DataFrame(pollution_PM.pm10.str.split(';',4).tolist(),columns = ['date','Lat','Lon','PM10','NAME'])"
   ]
  },
  {
   "cell_type": "code",
   "execution_count": 76,
   "metadata": {
    "collapsed": false
   },
   "outputs": [
    {
     "data": {
      "text/html": [
       "<div>\n",
       "<table border=\"1\" class=\"dataframe\">\n",
       "  <thead>\n",
       "    <tr style=\"text-align: right;\">\n",
       "      <th></th>\n",
       "      <th>date</th>\n",
       "      <th>Lat</th>\n",
       "      <th>Lon</th>\n",
       "      <th>PM10</th>\n",
       "      <th>NAME</th>\n",
       "    </tr>\n",
       "  </thead>\n",
       "  <tbody>\n",
       "    <tr>\n",
       "      <th>1</th>\n",
       "      <td>26.01.2007 10</td>\n",
       "      <td>42.003600</td>\n",
       "      <td>21.463600</td>\n",
       "      <td></td>\n",
       "      <td>Gazi Baba</td>\n",
       "    </tr>\n",
       "    <tr>\n",
       "      <th>2</th>\n",
       "      <td>26.01.2007 10</td>\n",
       "      <td>42.006667</td>\n",
       "      <td>21.386944</td>\n",
       "      <td>61.67</td>\n",
       "      <td>Karpos</td>\n",
       "    </tr>\n",
       "    <tr>\n",
       "      <th>3</th>\n",
       "      <td>26.01.2007 10</td>\n",
       "      <td>41.977821</td>\n",
       "      <td>21.464474</td>\n",
       "      <td></td>\n",
       "      <td>Lisice</td>\n",
       "    </tr>\n",
       "    <tr>\n",
       "      <th>4</th>\n",
       "      <td>26.01.2007 10</td>\n",
       "      <td>41.999200</td>\n",
       "      <td>21.440800</td>\n",
       "      <td>95.57</td>\n",
       "      <td>Rektorat</td>\n",
       "    </tr>\n",
       "    <tr>\n",
       "      <th>5</th>\n",
       "      <td>26.01.2007 10</td>\n",
       "      <td>42.015800</td>\n",
       "      <td>21.650600</td>\n",
       "      <td></td>\n",
       "      <td>Mrsevci</td>\n",
       "    </tr>\n",
       "    <tr>\n",
       "      <th>6</th>\n",
       "      <td>26.01.2007 10</td>\n",
       "      <td>41.987500</td>\n",
       "      <td>21.652500</td>\n",
       "      <td></td>\n",
       "      <td>Miladinovci</td>\n",
       "    </tr>\n",
       "    <tr>\n",
       "      <th>7</th>\n",
       "      <td>15.01.2007 01</td>\n",
       "      <td>41.992500</td>\n",
       "      <td>21.423611</td>\n",
       "      <td></td>\n",
       "      <td>Centar</td>\n",
       "    </tr>\n",
       "    <tr>\n",
       "      <th>8</th>\n",
       "      <td>15.01.2007 01</td>\n",
       "      <td>42.003600</td>\n",
       "      <td>21.463600</td>\n",
       "      <td></td>\n",
       "      <td>Gazi Baba</td>\n",
       "    </tr>\n",
       "    <tr>\n",
       "      <th>9</th>\n",
       "      <td>15.01.2007 01</td>\n",
       "      <td>42.006667</td>\n",
       "      <td>21.386944</td>\n",
       "      <td>298.28</td>\n",
       "      <td>Karpos</td>\n",
       "    </tr>\n",
       "    <tr>\n",
       "      <th>10</th>\n",
       "      <td>15.01.2007 01</td>\n",
       "      <td>41.977821</td>\n",
       "      <td>21.464474</td>\n",
       "      <td></td>\n",
       "      <td>Lisice</td>\n",
       "    </tr>\n",
       "    <tr>\n",
       "      <th>11</th>\n",
       "      <td>15.01.2007 01</td>\n",
       "      <td>41.999200</td>\n",
       "      <td>21.440800</td>\n",
       "      <td>399.11</td>\n",
       "      <td>Rektorat</td>\n",
       "    </tr>\n",
       "    <tr>\n",
       "      <th>12</th>\n",
       "      <td>15.01.2007 01</td>\n",
       "      <td>42.015800</td>\n",
       "      <td>21.650600</td>\n",
       "      <td></td>\n",
       "      <td>Mrsevci</td>\n",
       "    </tr>\n",
       "    <tr>\n",
       "      <th>13</th>\n",
       "      <td>15.01.2007 01</td>\n",
       "      <td>41.987500</td>\n",
       "      <td>21.652500</td>\n",
       "      <td></td>\n",
       "      <td>Miladinovci</td>\n",
       "    </tr>\n",
       "    <tr>\n",
       "      <th>14</th>\n",
       "      <td>15.01.2007 00</td>\n",
       "      <td>41.992500</td>\n",
       "      <td>21.423611</td>\n",
       "      <td></td>\n",
       "      <td>Centar</td>\n",
       "    </tr>\n",
       "    <tr>\n",
       "      <th>15</th>\n",
       "      <td>15.01.2007 00</td>\n",
       "      <td>42.003600</td>\n",
       "      <td>21.463600</td>\n",
       "      <td></td>\n",
       "      <td>Gazi Baba</td>\n",
       "    </tr>\n",
       "    <tr>\n",
       "      <th>16</th>\n",
       "      <td>15.01.2007 00</td>\n",
       "      <td>42.006667</td>\n",
       "      <td>21.386944</td>\n",
       "      <td>289.51</td>\n",
       "      <td>Karpos</td>\n",
       "    </tr>\n",
       "    <tr>\n",
       "      <th>17</th>\n",
       "      <td>15.01.2007 00</td>\n",
       "      <td>41.977821</td>\n",
       "      <td>21.464474</td>\n",
       "      <td></td>\n",
       "      <td>Lisice</td>\n",
       "    </tr>\n",
       "    <tr>\n",
       "      <th>18</th>\n",
       "      <td>15.01.2007 00</td>\n",
       "      <td>41.999200</td>\n",
       "      <td>21.440800</td>\n",
       "      <td>454.60</td>\n",
       "      <td>Rektorat</td>\n",
       "    </tr>\n",
       "    <tr>\n",
       "      <th>19</th>\n",
       "      <td>15.01.2007 00</td>\n",
       "      <td>42.015800</td>\n",
       "      <td>21.650600</td>\n",
       "      <td></td>\n",
       "      <td>Mrsevci</td>\n",
       "    </tr>\n",
       "    <tr>\n",
       "      <th>20</th>\n",
       "      <td>15.01.2007 00</td>\n",
       "      <td>41.987500</td>\n",
       "      <td>21.652500</td>\n",
       "      <td></td>\n",
       "      <td>Miladinovci</td>\n",
       "    </tr>\n",
       "    <tr>\n",
       "      <th>21</th>\n",
       "      <td>15.01.2007 03</td>\n",
       "      <td>41.992500</td>\n",
       "      <td>21.423611</td>\n",
       "      <td></td>\n",
       "      <td>Centar</td>\n",
       "    </tr>\n",
       "    <tr>\n",
       "      <th>22</th>\n",
       "      <td>15.01.2007 03</td>\n",
       "      <td>42.003600</td>\n",
       "      <td>21.463600</td>\n",
       "      <td></td>\n",
       "      <td>Gazi Baba</td>\n",
       "    </tr>\n",
       "    <tr>\n",
       "      <th>23</th>\n",
       "      <td>15.01.2007 03</td>\n",
       "      <td>42.006667</td>\n",
       "      <td>21.386944</td>\n",
       "      <td>252.17</td>\n",
       "      <td>Karpos</td>\n",
       "    </tr>\n",
       "    <tr>\n",
       "      <th>24</th>\n",
       "      <td>15.01.2007 03</td>\n",
       "      <td>41.977821</td>\n",
       "      <td>21.464474</td>\n",
       "      <td></td>\n",
       "      <td>Lisice</td>\n",
       "    </tr>\n",
       "    <tr>\n",
       "      <th>25</th>\n",
       "      <td>15.01.2007 03</td>\n",
       "      <td>41.999200</td>\n",
       "      <td>21.440800</td>\n",
       "      <td>342.17</td>\n",
       "      <td>Rektorat</td>\n",
       "    </tr>\n",
       "    <tr>\n",
       "      <th>26</th>\n",
       "      <td>15.01.2007 03</td>\n",
       "      <td>42.015800</td>\n",
       "      <td>21.650600</td>\n",
       "      <td></td>\n",
       "      <td>Mrsevci</td>\n",
       "    </tr>\n",
       "    <tr>\n",
       "      <th>27</th>\n",
       "      <td>15.01.2007 03</td>\n",
       "      <td>41.987500</td>\n",
       "      <td>21.652500</td>\n",
       "      <td></td>\n",
       "      <td>Miladinovci</td>\n",
       "    </tr>\n",
       "    <tr>\n",
       "      <th>28</th>\n",
       "      <td>15.01.2007 02</td>\n",
       "      <td>41.992500</td>\n",
       "      <td>21.423611</td>\n",
       "      <td></td>\n",
       "      <td>Centar</td>\n",
       "    </tr>\n",
       "    <tr>\n",
       "      <th>29</th>\n",
       "      <td>15.01.2007 02</td>\n",
       "      <td>42.003600</td>\n",
       "      <td>21.463600</td>\n",
       "      <td></td>\n",
       "      <td>Gazi Baba</td>\n",
       "    </tr>\n",
       "  </tbody>\n",
       "</table>\n",
       "</div>"
      ],
      "text/plain": [
       "             date        Lat        Lon    PM10         NAME\n",
       "1   26.01.2007 10  42.003600  21.463600            Gazi Baba\n",
       "2   26.01.2007 10  42.006667  21.386944   61.67       Karpos\n",
       "3   26.01.2007 10  41.977821  21.464474               Lisice\n",
       "4   26.01.2007 10  41.999200  21.440800   95.57     Rektorat\n",
       "5   26.01.2007 10  42.015800  21.650600              Mrsevci\n",
       "6   26.01.2007 10  41.987500  21.652500          Miladinovci\n",
       "7   15.01.2007 01  41.992500  21.423611               Centar\n",
       "8   15.01.2007 01  42.003600  21.463600            Gazi Baba\n",
       "9   15.01.2007 01  42.006667  21.386944  298.28       Karpos\n",
       "10  15.01.2007 01  41.977821  21.464474               Lisice\n",
       "11  15.01.2007 01  41.999200  21.440800  399.11     Rektorat\n",
       "12  15.01.2007 01  42.015800  21.650600              Mrsevci\n",
       "13  15.01.2007 01  41.987500  21.652500          Miladinovci\n",
       "14  15.01.2007 00  41.992500  21.423611               Centar\n",
       "15  15.01.2007 00  42.003600  21.463600            Gazi Baba\n",
       "16  15.01.2007 00  42.006667  21.386944  289.51       Karpos\n",
       "17  15.01.2007 00  41.977821  21.464474               Lisice\n",
       "18  15.01.2007 00  41.999200  21.440800  454.60     Rektorat\n",
       "19  15.01.2007 00  42.015800  21.650600              Mrsevci\n",
       "20  15.01.2007 00  41.987500  21.652500          Miladinovci\n",
       "21  15.01.2007 03  41.992500  21.423611               Centar\n",
       "22  15.01.2007 03  42.003600  21.463600            Gazi Baba\n",
       "23  15.01.2007 03  42.006667  21.386944  252.17       Karpos\n",
       "24  15.01.2007 03  41.977821  21.464474               Lisice\n",
       "25  15.01.2007 03  41.999200  21.440800  342.17     Rektorat\n",
       "26  15.01.2007 03  42.015800  21.650600              Mrsevci\n",
       "27  15.01.2007 03  41.987500  21.652500          Miladinovci\n",
       "28  15.01.2007 02  41.992500  21.423611               Centar\n",
       "29  15.01.2007 02  42.003600  21.463600            Gazi Baba"
      ]
     },
     "execution_count": 76,
     "metadata": {},
     "output_type": "execute_result"
    }
   ],
   "source": [
    "df_[1:30]"
   ]
  }
 ],
 "metadata": {
  "anaconda-cloud": {},
  "kernelspec": {
   "display_name": "Python [conda env:seychelles]",
   "language": "python",
   "name": "conda-env-seychelles-py"
  },
  "language_info": {
   "codemirror_mode": {
    "name": "ipython",
    "version": 3
   },
   "file_extension": ".py",
   "mimetype": "text/x-python",
   "name": "python",
   "nbconvert_exporter": "python",
   "pygments_lexer": "ipython3",
   "version": "3.5.2"
  }
 },
 "nbformat": 4,
 "nbformat_minor": 1
}
