{
 "cells": [
  {
   "cell_type": "markdown",
   "metadata": {},
   "source": [
    "# Data for Learning"
   ]
  },
  {
   "cell_type": "code",
   "execution_count": 146,
   "metadata": {
    "collapsed": true
   },
   "outputs": [],
   "source": [
    "import pandas as pd # import pandas\n",
    "import numpy as np\n",
    "import matplotlib.pyplot as plt\n",
    "import seaborn as sns\n",
    "%matplotlib inline"
   ]
  },
  {
   "cell_type": "code",
   "execution_count": 147,
   "metadata": {
    "collapsed": false
   },
   "outputs": [
    {
     "name": "stdout",
     "output_type": "stream",
     "text": [
      "[Errno 2] No such file or directory: 'CSV_file_from_2007_to_2017'\n",
      "/Users/Seychelles/Desktop/GoogleTensorflow/Data_Collector/CSV_file_from_2007_to_2017\n"
     ]
    }
   ],
   "source": [
    "%cd CSV_file_from_2007_to_2017"
   ]
  },
  {
   "cell_type": "code",
   "execution_count": 148,
   "metadata": {
    "collapsed": false
   },
   "outputs": [],
   "source": [
    "df_n = pd.read_csv(\"test.csv\") #load data set saved from previous ops\n"
   ]
  },
  {
   "cell_type": "code",
   "execution_count": 149,
   "metadata": {
    "collapsed": true
   },
   "outputs": [],
   "source": [
    "df_n['PM10']= pd.to_numeric(df_n['PM10']) # Convert PM_10 column to Numeric Values"
   ]
  },
  {
   "cell_type": "code",
   "execution_count": 150,
   "metadata": {
    "collapsed": false
   },
   "outputs": [
    {
     "name": "stdout",
     "output_type": "stream",
     "text": [
      "Number of zero values reported in PM10 readings:  27\n"
     ]
    }
   ],
   "source": [
    "zeros=(df_n.PM10 == 0).sum(axis=0)\n",
    "print(\"Number of zero values reported in PM10 readings: \", zeros)\n",
    "#No zeros in the frame"
   ]
  },
  {
   "cell_type": "code",
   "execution_count": 151,
   "metadata": {
    "collapsed": false
   },
   "outputs": [
    {
     "name": "stdout",
     "output_type": "stream",
     "text": [
      "Number of negative values reported in PM10 readings:  0\n"
     ]
    }
   ],
   "source": [
    "negativeValues = (df_n.PM10 <0).sum(axis=0)#No negative values in the frame\n",
    "print(\"Number of negative values reported in PM10 readings: \", negativeValues)"
   ]
  },
  {
   "cell_type": "code",
   "execution_count": 152,
   "metadata": {
    "collapsed": false
   },
   "outputs": [
    {
     "data": {
      "text/plain": [
       "1      NaN\n",
       "2    61.67\n",
       "Name: PM10, dtype: float64"
      ]
     },
     "execution_count": 152,
     "metadata": {},
     "output_type": "execute_result"
    }
   ],
   "source": [
    "df_n['PM10'].replace('NaN', np.nan)[1:3] #replace NAn with zero np.nan"
   ]
  },
  {
   "cell_type": "code",
   "execution_count": 153,
   "metadata": {
    "collapsed": false
   },
   "outputs": [
    {
     "data": {
      "text/html": [
       "<div>\n",
       "<table border=\"1\" class=\"dataframe\">\n",
       "  <thead>\n",
       "    <tr style=\"text-align: right;\">\n",
       "      <th></th>\n",
       "      <th>Unnamed: 0</th>\n",
       "      <th>date</th>\n",
       "      <th>Lat</th>\n",
       "      <th>Lon</th>\n",
       "      <th>PM10</th>\n",
       "      <th>NAME</th>\n",
       "    </tr>\n",
       "  </thead>\n",
       "  <tbody>\n",
       "    <tr>\n",
       "      <th>1</th>\n",
       "      <td>1</td>\n",
       "      <td>2007-01-26 10:00:00</td>\n",
       "      <td>42.0036</td>\n",
       "      <td>21.4636</td>\n",
       "      <td>NaN</td>\n",
       "      <td>Gazi Baba</td>\n",
       "    </tr>\n",
       "  </tbody>\n",
       "</table>\n",
       "</div>"
      ],
      "text/plain": [
       "   Unnamed: 0                 date      Lat      Lon  PM10       NAME\n",
       "1           1  2007-01-26 10:00:00  42.0036  21.4636   NaN  Gazi Baba"
      ]
     },
     "execution_count": 153,
     "metadata": {},
     "output_type": "execute_result"
    }
   ],
   "source": [
    "df_n[1:2]"
   ]
  },
  {
   "cell_type": "code",
   "execution_count": 202,
   "metadata": {
    "collapsed": true
   },
   "outputs": [],
   "source": [
    "df_n.date= pd.to_datetime(df_n.date)  # CONVER TO DATE TIME "
   ]
  },
  {
   "cell_type": "code",
   "execution_count": 203,
   "metadata": {
    "collapsed": false
   },
   "outputs": [
    {
     "data": {
      "text/html": [
       "<div>\n",
       "<table border=\"1\" class=\"dataframe\">\n",
       "  <thead>\n",
       "    <tr style=\"text-align: right;\">\n",
       "      <th></th>\n",
       "      <th>Unnamed: 0</th>\n",
       "      <th>date</th>\n",
       "      <th>Lat</th>\n",
       "      <th>Lon</th>\n",
       "      <th>PM10</th>\n",
       "      <th>NAME</th>\n",
       "    </tr>\n",
       "  </thead>\n",
       "  <tbody>\n",
       "    <tr>\n",
       "      <th>0</th>\n",
       "      <td>0</td>\n",
       "      <td>2007-01-26 10:00:00</td>\n",
       "      <td>41.9925</td>\n",
       "      <td>21.423611</td>\n",
       "      <td>NaN</td>\n",
       "      <td>Centar</td>\n",
       "    </tr>\n",
       "    <tr>\n",
       "      <th>1</th>\n",
       "      <td>1</td>\n",
       "      <td>2007-01-26 10:00:00</td>\n",
       "      <td>42.0036</td>\n",
       "      <td>21.463600</td>\n",
       "      <td>NaN</td>\n",
       "      <td>Gazi Baba</td>\n",
       "    </tr>\n",
       "  </tbody>\n",
       "</table>\n",
       "</div>"
      ],
      "text/plain": [
       "   Unnamed: 0                date      Lat        Lon  PM10       NAME\n",
       "0           0 2007-01-26 10:00:00  41.9925  21.423611   NaN     Centar\n",
       "1           1 2007-01-26 10:00:00  42.0036  21.463600   NaN  Gazi Baba"
      ]
     },
     "execution_count": 203,
     "metadata": {},
     "output_type": "execute_result"
    }
   ],
   "source": [
    "df_n[0:2] # "
   ]
  },
  {
   "cell_type": "code",
   "execution_count": 154,
   "metadata": {
    "collapsed": true
   },
   "outputs": [],
   "source": [
    "df_n.drop(['Lat','Lon','Unnamed: 0'], axis = 1, inplace = True, errors = 'ignore')\n",
    "#drop non useful columns"
   ]
  },
  {
   "cell_type": "code",
   "execution_count": 155,
   "metadata": {
    "collapsed": true
   },
   "outputs": [],
   "source": [
    "df_n.date= pd.to_datetime(df_n.date)  # Convert to dat time"
   ]
  },
  {
   "cell_type": "code",
   "execution_count": 156,
   "metadata": {
    "collapsed": true
   },
   "outputs": [],
   "source": [
    "df_n.sort_values(by='date',ascending=True,inplace=True) # sort data sets"
   ]
  },
  {
   "cell_type": "code",
   "execution_count": 158,
   "metadata": {
    "collapsed": false
   },
   "outputs": [
    {
     "data": {
      "text/html": [
       "<div>\n",
       "<table border=\"1\" class=\"dataframe\">\n",
       "  <thead>\n",
       "    <tr style=\"text-align: right;\">\n",
       "      <th></th>\n",
       "      <th>date</th>\n",
       "      <th>PM10</th>\n",
       "      <th>NAME</th>\n",
       "    </tr>\n",
       "  </thead>\n",
       "  <tbody>\n",
       "    <tr>\n",
       "      <th>9414</th>\n",
       "      <td>2007-01-02</td>\n",
       "      <td>NaN</td>\n",
       "      <td>Miladinovci</td>\n",
       "    </tr>\n",
       "    <tr>\n",
       "      <th>9408</th>\n",
       "      <td>2007-01-02</td>\n",
       "      <td>NaN</td>\n",
       "      <td>Centar</td>\n",
       "    </tr>\n",
       "    <tr>\n",
       "      <th>9411</th>\n",
       "      <td>2007-01-02</td>\n",
       "      <td>NaN</td>\n",
       "      <td>Lisice</td>\n",
       "    </tr>\n",
       "    <tr>\n",
       "      <th>9412</th>\n",
       "      <td>2007-01-02</td>\n",
       "      <td>204.92</td>\n",
       "      <td>Rektorat</td>\n",
       "    </tr>\n",
       "  </tbody>\n",
       "</table>\n",
       "</div>"
      ],
      "text/plain": [
       "           date    PM10         NAME\n",
       "9414 2007-01-02     NaN  Miladinovci\n",
       "9408 2007-01-02     NaN       Centar\n",
       "9411 2007-01-02     NaN       Lisice\n",
       "9412 2007-01-02  204.92     Rektorat"
      ]
     },
     "execution_count": 158,
     "metadata": {},
     "output_type": "execute_result"
    }
   ],
   "source": [
    "df_n[0:4]"
   ]
  },
  {
   "cell_type": "code",
   "execution_count": null,
   "metadata": {
    "collapsed": false
   },
   "outputs": [],
   "source": []
  },
  {
   "cell_type": "code",
   "execution_count": 159,
   "metadata": {
    "collapsed": true
   },
   "outputs": [],
   "source": [
    "df_n = df_n.reset_index(drop=True) # reset index"
   ]
  },
  {
   "cell_type": "code",
   "execution_count": 160,
   "metadata": {
    "collapsed": false
   },
   "outputs": [
    {
     "data": {
      "text/html": [
       "<div>\n",
       "<table border=\"1\" class=\"dataframe\">\n",
       "  <thead>\n",
       "    <tr style=\"text-align: right;\">\n",
       "      <th></th>\n",
       "      <th>date</th>\n",
       "      <th>PM10</th>\n",
       "      <th>NAME</th>\n",
       "    </tr>\n",
       "  </thead>\n",
       "  <tbody>\n",
       "    <tr>\n",
       "      <th>0</th>\n",
       "      <td>2007-01-02</td>\n",
       "      <td>NaN</td>\n",
       "      <td>Miladinovci</td>\n",
       "    </tr>\n",
       "    <tr>\n",
       "      <th>1</th>\n",
       "      <td>2007-01-02</td>\n",
       "      <td>NaN</td>\n",
       "      <td>Centar</td>\n",
       "    </tr>\n",
       "    <tr>\n",
       "      <th>2</th>\n",
       "      <td>2007-01-02</td>\n",
       "      <td>NaN</td>\n",
       "      <td>Lisice</td>\n",
       "    </tr>\n",
       "    <tr>\n",
       "      <th>3</th>\n",
       "      <td>2007-01-02</td>\n",
       "      <td>204.92</td>\n",
       "      <td>Rektorat</td>\n",
       "    </tr>\n",
       "    <tr>\n",
       "      <th>4</th>\n",
       "      <td>2007-01-02</td>\n",
       "      <td>NaN</td>\n",
       "      <td>Mrsevci</td>\n",
       "    </tr>\n",
       "  </tbody>\n",
       "</table>\n",
       "</div>"
      ],
      "text/plain": [
       "        date    PM10         NAME\n",
       "0 2007-01-02     NaN  Miladinovci\n",
       "1 2007-01-02     NaN       Centar\n",
       "2 2007-01-02     NaN       Lisice\n",
       "3 2007-01-02  204.92     Rektorat\n",
       "4 2007-01-02     NaN      Mrsevci"
      ]
     },
     "execution_count": 160,
     "metadata": {},
     "output_type": "execute_result"
    }
   ],
   "source": [
    "df_n[0:5]"
   ]
  },
  {
   "cell_type": "code",
   "execution_count": 13,
   "metadata": {
    "collapsed": true
   },
   "outputs": [],
   "source": [
    "#df_n.set_index('date',inplace=True); # set index as date \n",
    "#del df_n.index.name  # delete index name"
   ]
  },
  {
   "cell_type": "markdown",
   "metadata": {},
   "source": [
    "<p> Count the Null Values present</p>"
   ]
  },
  {
   "cell_type": "code",
   "execution_count": 161,
   "metadata": {
    "collapsed": false
   },
   "outputs": [
    {
     "data": {
      "text/plain": [
       "date    False\n",
       "PM10     True\n",
       "NAME    False\n",
       "dtype: bool"
      ]
     },
     "execution_count": 161,
     "metadata": {},
     "output_type": "execute_result"
    }
   ],
   "source": [
    "df_n.isnull().any() # date has no null value while PM10 has null value"
   ]
  },
  {
   "cell_type": "code",
   "execution_count": 162,
   "metadata": {
    "collapsed": false
   },
   "outputs": [
    {
     "data": {
      "text/plain": [
       "date         0\n",
       "PM10    255713\n",
       "NAME         0\n",
       "dtype: int64"
      ]
     },
     "execution_count": 162,
     "metadata": {},
     "output_type": "execute_result"
    }
   ],
   "source": [
    "df_n.isnull().sum() # null value counts"
   ]
  },
  {
   "cell_type": "code",
   "execution_count": 163,
   "metadata": {
    "collapsed": false
   },
   "outputs": [
    {
     "data": {
      "text/plain": [
       "date    datetime64[ns]\n",
       "PM10           float64\n",
       "NAME            object\n",
       "dtype: object"
      ]
     },
     "execution_count": 163,
     "metadata": {},
     "output_type": "execute_result"
    }
   ],
   "source": [
    "df_n.dtypes"
   ]
  },
  {
   "cell_type": "markdown",
   "metadata": {},
   "source": [
    "<p><b> Define Function to Make column with -1 for Nan and 1 for Numeric Values</b></p>\n",
    "<p> Always we define a function to Normalize and Standardize data sets <p>"
   ]
  },
  {
   "cell_type": "code",
   "execution_count": 164,
   "metadata": {
    "collapsed": false
   },
   "outputs": [],
   "source": [
    "\n",
    "def Make_Indicator_Column_For_Nan(x):\n",
    "    if (np.isnan(x)):\n",
    "        val = 0\n",
    "    else:\n",
    "        val = 1\n",
    "    return val\n",
    "\n",
    "def Normalize(x):\n",
    "    x = (x - x.mean())/(x.max()-x.min())\n",
    "    return(x);\n",
    "\n",
    "def first_difference(x):\n",
    "    difference = x - x.shift(1);\n",
    "    return (difference);\n",
    "\n",
    "def Standardize(x):\n",
    "    x = (x - x.mean())/x.std()\n",
    "    return(x);\n",
    "\n",
    "def recover(original_PandasSeries,differenced_PandasSeries):\n",
    "    '''\n",
    "    Using the diffreence data set , we need to recover the initial \n",
    "    set, this function does that:\n",
    "    Input: Differenced pandas series\n",
    "           Original Series \n",
    "    Output: Compute the original\n",
    "    \n",
    "    The aim is that when we make prediction with the differenced \n",
    "    data sets we should be able to convert to original set.\n",
    "    '''\n",
    "    i= 0;\n",
    "    c = len(original_PandasSeries);\n",
    "    recovered_set =[];\n",
    "    #print(b)\n",
    "    for k in range(0,c):\n",
    "        if (k ==0):\n",
    "            temp = a[k];\n",
    "            recovered_set.append(temp);\n",
    "        else:\n",
    "            i=i+1;\n",
    "            temp = original_PandasSeries[k-1]+ differenced_PandasSeries[i];\n",
    "            recovered_set.append(temp);\n",
    "    recovered_setArray=np.array(recovered_set);\n",
    "    return (recovered_setArray)        \n",
    "\n",
    "\n",
    "#d[\"recovered_set\"] = recovered # add to data set\n",
    "#Or use differece differenced_PandasSeries + differenced_PandasSeries.shift(1)"
   ]
  },
  {
   "cell_type": "markdown",
   "metadata": {
    "collapsed": false
   },
   "source": [
    "<p> Apply the function Above </p>"
   ]
  },
  {
   "cell_type": "code",
   "execution_count": 165,
   "metadata": {
    "collapsed": true
   },
   "outputs": [],
   "source": [
    "df_n['PM10_null_pointers']=df_n.PM10.apply(Make_Indicator_Column_For_Nan)"
   ]
  },
  {
   "cell_type": "code",
   "execution_count": 166,
   "metadata": {
    "collapsed": false
   },
   "outputs": [
    {
     "data": {
      "text/html": [
       "<div>\n",
       "<table border=\"1\" class=\"dataframe\">\n",
       "  <thead>\n",
       "    <tr style=\"text-align: right;\">\n",
       "      <th></th>\n",
       "      <th>date</th>\n",
       "      <th>PM10</th>\n",
       "      <th>NAME</th>\n",
       "      <th>PM10_null_pointers</th>\n",
       "    </tr>\n",
       "  </thead>\n",
       "  <tbody>\n",
       "    <tr>\n",
       "      <th>1</th>\n",
       "      <td>2007-01-02</td>\n",
       "      <td>NaN</td>\n",
       "      <td>Centar</td>\n",
       "      <td>0</td>\n",
       "    </tr>\n",
       "    <tr>\n",
       "      <th>2</th>\n",
       "      <td>2007-01-02</td>\n",
       "      <td>NaN</td>\n",
       "      <td>Lisice</td>\n",
       "      <td>0</td>\n",
       "    </tr>\n",
       "  </tbody>\n",
       "</table>\n",
       "</div>"
      ],
      "text/plain": [
       "        date  PM10    NAME  PM10_null_pointers\n",
       "1 2007-01-02   NaN  Centar                   0\n",
       "2 2007-01-02   NaN  Lisice                   0"
      ]
     },
     "execution_count": 166,
     "metadata": {},
     "output_type": "execute_result"
    }
   ],
   "source": [
    "df_n[1:3]"
   ]
  },
  {
   "cell_type": "code",
   "execution_count": 167,
   "metadata": {
    "collapsed": true
   },
   "outputs": [],
   "source": [
    "df_Normalized = df_n.copy(deep=True)  #Normalized"
   ]
  },
  {
   "cell_type": "code",
   "execution_count": 168,
   "metadata": {
    "collapsed": true
   },
   "outputs": [],
   "source": [
    "df_Standardized = df_n.copy(deep=True) # Standardized"
   ]
  },
  {
   "cell_type": "code",
   "execution_count": 169,
   "metadata": {
    "collapsed": true
   },
   "outputs": [],
   "source": [
    "df_Normalized.PM10 = Normalize(df_Normalized.PM10) #Normalize"
   ]
  },
  {
   "cell_type": "code",
   "execution_count": 170,
   "metadata": {
    "collapsed": true
   },
   "outputs": [],
   "source": [
    "df_Standardized.PM10 = Standardize(df_Standardized.PM10) #Standardize"
   ]
  },
  {
   "cell_type": "code",
   "execution_count": 171,
   "metadata": {
    "collapsed": false
   },
   "outputs": [
    {
     "data": {
      "text/html": [
       "<div>\n",
       "<table border=\"1\" class=\"dataframe\">\n",
       "  <thead>\n",
       "    <tr style=\"text-align: right;\">\n",
       "      <th></th>\n",
       "      <th>date</th>\n",
       "      <th>PM10</th>\n",
       "      <th>NAME</th>\n",
       "      <th>PM10_null_pointers</th>\n",
       "    </tr>\n",
       "  </thead>\n",
       "  <tbody>\n",
       "    <tr>\n",
       "      <th>0</th>\n",
       "      <td>2007-01-02</td>\n",
       "      <td>NaN</td>\n",
       "      <td>Miladinovci</td>\n",
       "      <td>0</td>\n",
       "    </tr>\n",
       "    <tr>\n",
       "      <th>1</th>\n",
       "      <td>2007-01-02</td>\n",
       "      <td>NaN</td>\n",
       "      <td>Centar</td>\n",
       "      <td>0</td>\n",
       "    </tr>\n",
       "    <tr>\n",
       "      <th>2</th>\n",
       "      <td>2007-01-02</td>\n",
       "      <td>NaN</td>\n",
       "      <td>Lisice</td>\n",
       "      <td>0</td>\n",
       "    </tr>\n",
       "    <tr>\n",
       "      <th>3</th>\n",
       "      <td>2007-01-02</td>\n",
       "      <td>0.118376</td>\n",
       "      <td>Rektorat</td>\n",
       "      <td>1</td>\n",
       "    </tr>\n",
       "    <tr>\n",
       "      <th>4</th>\n",
       "      <td>2007-01-02</td>\n",
       "      <td>NaN</td>\n",
       "      <td>Mrsevci</td>\n",
       "      <td>0</td>\n",
       "    </tr>\n",
       "  </tbody>\n",
       "</table>\n",
       "</div>"
      ],
      "text/plain": [
       "        date      PM10         NAME  PM10_null_pointers\n",
       "0 2007-01-02       NaN  Miladinovci                   0\n",
       "1 2007-01-02       NaN       Centar                   0\n",
       "2 2007-01-02       NaN       Lisice                   0\n",
       "3 2007-01-02  0.118376     Rektorat                   1\n",
       "4 2007-01-02       NaN      Mrsevci                   0"
      ]
     },
     "execution_count": 171,
     "metadata": {},
     "output_type": "execute_result"
    }
   ],
   "source": [
    "df_Normalized.head()"
   ]
  },
  {
   "cell_type": "code",
   "execution_count": 172,
   "metadata": {
    "collapsed": false
   },
   "outputs": [
    {
     "data": {
      "text/html": [
       "<div>\n",
       "<table border=\"1\" class=\"dataframe\">\n",
       "  <thead>\n",
       "    <tr style=\"text-align: right;\">\n",
       "      <th></th>\n",
       "      <th>date</th>\n",
       "      <th>PM10</th>\n",
       "      <th>NAME</th>\n",
       "      <th>PM10_null_pointers</th>\n",
       "    </tr>\n",
       "  </thead>\n",
       "  <tbody>\n",
       "    <tr>\n",
       "      <th>0</th>\n",
       "      <td>2007-01-02</td>\n",
       "      <td>NaN</td>\n",
       "      <td>Miladinovci</td>\n",
       "      <td>0</td>\n",
       "    </tr>\n",
       "    <tr>\n",
       "      <th>1</th>\n",
       "      <td>2007-01-02</td>\n",
       "      <td>NaN</td>\n",
       "      <td>Centar</td>\n",
       "      <td>0</td>\n",
       "    </tr>\n",
       "    <tr>\n",
       "      <th>2</th>\n",
       "      <td>2007-01-02</td>\n",
       "      <td>NaN</td>\n",
       "      <td>Lisice</td>\n",
       "      <td>0</td>\n",
       "    </tr>\n",
       "    <tr>\n",
       "      <th>3</th>\n",
       "      <td>2007-01-02</td>\n",
       "      <td>1.499629</td>\n",
       "      <td>Rektorat</td>\n",
       "      <td>1</td>\n",
       "    </tr>\n",
       "    <tr>\n",
       "      <th>4</th>\n",
       "      <td>2007-01-02</td>\n",
       "      <td>NaN</td>\n",
       "      <td>Mrsevci</td>\n",
       "      <td>0</td>\n",
       "    </tr>\n",
       "  </tbody>\n",
       "</table>\n",
       "</div>"
      ],
      "text/plain": [
       "        date      PM10         NAME  PM10_null_pointers\n",
       "0 2007-01-02       NaN  Miladinovci                   0\n",
       "1 2007-01-02       NaN       Centar                   0\n",
       "2 2007-01-02       NaN       Lisice                   0\n",
       "3 2007-01-02  1.499629     Rektorat                   1\n",
       "4 2007-01-02       NaN      Mrsevci                   0"
      ]
     },
     "execution_count": 172,
     "metadata": {},
     "output_type": "execute_result"
    }
   ],
   "source": [
    "df_Standardized.head()"
   ]
  },
  {
   "cell_type": "markdown",
   "metadata": {},
   "source": [
    "<p> <b> Differenced Data      </b> </p>"
   ]
  },
  {
   "cell_type": "code",
   "execution_count": 173,
   "metadata": {
    "collapsed": true
   },
   "outputs": [],
   "source": [
    "df_differenced = df_Normalized.copy(deep=True)"
   ]
  },
  {
   "cell_type": "code",
   "execution_count": 174,
   "metadata": {
    "collapsed": true
   },
   "outputs": [],
   "source": [
    "df_differenced.fillna(0,inplace=True)   #fill na to compute first difference "
   ]
  },
  {
   "cell_type": "code",
   "execution_count": 175,
   "metadata": {
    "collapsed": true
   },
   "outputs": [],
   "source": [
    "df_differenced.PM10 = first_difference(df_differenced.PM10) # first Difference"
   ]
  },
  {
   "cell_type": "code",
   "execution_count": 176,
   "metadata": {
    "collapsed": false
   },
   "outputs": [
    {
     "data": {
      "text/plain": [
       "date                  0\n",
       "PM10                  1\n",
       "NAME                  0\n",
       "PM10_null_pointers    0\n",
       "dtype: int64"
      ]
     },
     "execution_count": 176,
     "metadata": {},
     "output_type": "execute_result"
    }
   ],
   "source": [
    "df_differenced.isnull().sum()"
   ]
  },
  {
   "cell_type": "code",
   "execution_count": 177,
   "metadata": {
    "collapsed": true
   },
   "outputs": [],
   "source": [
    "df_differenced.fillna(0,inplace=True)   #fill na to compute first difference "
   ]
  },
  {
   "cell_type": "code",
   "execution_count": 178,
   "metadata": {
    "collapsed": false
   },
   "outputs": [
    {
     "data": {
      "text/html": [
       "<div>\n",
       "<table border=\"1\" class=\"dataframe\">\n",
       "  <thead>\n",
       "    <tr style=\"text-align: right;\">\n",
       "      <th></th>\n",
       "      <th>date</th>\n",
       "      <th>PM10</th>\n",
       "      <th>NAME</th>\n",
       "      <th>PM10_null_pointers</th>\n",
       "    </tr>\n",
       "  </thead>\n",
       "  <tbody>\n",
       "    <tr>\n",
       "      <th>2340</th>\n",
       "      <td>2007-01-10 22:00:00</td>\n",
       "      <td>0.006117</td>\n",
       "      <td>Lisice</td>\n",
       "      <td>0</td>\n",
       "    </tr>\n",
       "    <tr>\n",
       "      <th>2341</th>\n",
       "      <td>2007-01-10 22:00:00</td>\n",
       "      <td>0.016462</td>\n",
       "      <td>Rektorat</td>\n",
       "      <td>1</td>\n",
       "    </tr>\n",
       "    <tr>\n",
       "      <th>2342</th>\n",
       "      <td>2007-01-10 22:00:00</td>\n",
       "      <td>-0.016462</td>\n",
       "      <td>Mrsevci</td>\n",
       "      <td>0</td>\n",
       "    </tr>\n",
       "    <tr>\n",
       "      <th>2343</th>\n",
       "      <td>2007-01-10 22:00:00</td>\n",
       "      <td>0.000000</td>\n",
       "      <td>Miladinovci</td>\n",
       "      <td>0</td>\n",
       "    </tr>\n",
       "    <tr>\n",
       "      <th>2344</th>\n",
       "      <td>2007-01-10 22:00:00</td>\n",
       "      <td>0.000000</td>\n",
       "      <td>Centar</td>\n",
       "      <td>0</td>\n",
       "    </tr>\n",
       "    <tr>\n",
       "      <th>2345</th>\n",
       "      <td>2007-01-10 23:00:00</td>\n",
       "      <td>0.000000</td>\n",
       "      <td>Centar</td>\n",
       "      <td>0</td>\n",
       "    </tr>\n",
       "    <tr>\n",
       "      <th>2346</th>\n",
       "      <td>2007-01-10 23:00:00</td>\n",
       "      <td>0.000000</td>\n",
       "      <td>Gazi Baba</td>\n",
       "      <td>0</td>\n",
       "    </tr>\n",
       "    <tr>\n",
       "      <th>2347</th>\n",
       "      <td>2007-01-10 23:00:00</td>\n",
       "      <td>0.002336</td>\n",
       "      <td>Karpos</td>\n",
       "      <td>1</td>\n",
       "    </tr>\n",
       "    <tr>\n",
       "      <th>2348</th>\n",
       "      <td>2007-01-10 23:00:00</td>\n",
       "      <td>-0.002336</td>\n",
       "      <td>Lisice</td>\n",
       "      <td>0</td>\n",
       "    </tr>\n",
       "    <tr>\n",
       "      <th>2349</th>\n",
       "      <td>2007-01-10 23:00:00</td>\n",
       "      <td>0.043752</td>\n",
       "      <td>Rektorat</td>\n",
       "      <td>1</td>\n",
       "    </tr>\n",
       "  </tbody>\n",
       "</table>\n",
       "</div>"
      ],
      "text/plain": [
       "                    date      PM10         NAME  PM10_null_pointers\n",
       "2340 2007-01-10 22:00:00  0.006117       Lisice                   0\n",
       "2341 2007-01-10 22:00:00  0.016462     Rektorat                   1\n",
       "2342 2007-01-10 22:00:00 -0.016462      Mrsevci                   0\n",
       "2343 2007-01-10 22:00:00  0.000000  Miladinovci                   0\n",
       "2344 2007-01-10 22:00:00  0.000000       Centar                   0\n",
       "2345 2007-01-10 23:00:00  0.000000       Centar                   0\n",
       "2346 2007-01-10 23:00:00  0.000000    Gazi Baba                   0\n",
       "2347 2007-01-10 23:00:00  0.002336       Karpos                   1\n",
       "2348 2007-01-10 23:00:00 -0.002336       Lisice                   0\n",
       "2349 2007-01-10 23:00:00  0.043752     Rektorat                   1"
      ]
     },
     "execution_count": 178,
     "metadata": {},
     "output_type": "execute_result"
    }
   ],
   "source": [
    "df_differenced[2340:2350]"
   ]
  },
  {
   "cell_type": "markdown",
   "metadata": {},
   "source": [
    "# Import Additional feature sets"
   ]
  },
  {
   "cell_type": "code",
   "execution_count": 179,
   "metadata": {
    "collapsed": false
   },
   "outputs": [
    {
     "name": "stdout",
     "output_type": "stream",
     "text": [
      "All_data.csv                        SkopjeRegion_SO2_airpointers.csv\r\n",
      "Cov_nonstationary.png               Standardized_full\r\n",
      "EasternRegion_CO_airpointers.csv    Var_nonstationary.png\r\n",
      "EasternRegion_NO2_airpointers.csv   WesternRegion_CO_airpointers.csv\r\n",
      "EasternRegion_O3_airpointers.csv    WesternRegion_NO2_airpointers.csv\r\n",
      "EasternRegion_PM10_airpointers.csv  WesternRegion_O3_airpointers.csv\r\n",
      "EasternRegion_PM25_airpointers.csv  WesternRegion_PM10_airpointers.csv\r\n",
      "EasternRegion_SO2_airpointers.csv   WesternRegion_PM25_airpointers.csv\r\n",
      "ImpurityList_Normalized             WesternRegion_SO2_airpointers.csv\r\n",
      "ImpurityList_Standardized           data.xlsx\r\n",
      "ImpurityList_with_Indicator         difference_full\r\n",
      "Mean_nonstationary.png              newfile.xlsx\r\n",
      "Normalized_full                     outfile\r\n",
      "SkopjeRegion_CO_airpointers.csv     outfile1\r\n",
      "SkopjeRegion_NO2_airpointers.csv    processed_with_columns_droped.csv\r\n",
      "SkopjeRegion_O3_airpointers.csv     raw_processed.csv\r\n",
      "SkopjeRegion_PM10_airpointers.csv   test.csv\r\n",
      "SkopjeRegion_PM25_airpointers.csv\r\n"
     ]
    }
   ],
   "source": [
    "%ls\n"
   ]
  },
  {
   "cell_type": "code",
   "execution_count": 228,
   "metadata": {
    "collapsed": true
   },
   "outputs": [],
   "source": [
    "# Import Data sets"
   ]
  },
  {
   "cell_type": "code",
   "execution_count": 180,
   "metadata": {
    "collapsed": true
   },
   "outputs": [],
   "source": [
    "df_CO = pd.read_csv('SkopjeRegion_CO_airpointers.csv');\n",
    "df_NO2 = pd.read_csv('SkopjeRegion_NO2_airpointers.csv');\n",
    "df_O3 = pd.read_csv('SkopjeRegion_O3_airpointers.csv');\n",
    "df_SO3 = pd.read_csv('SkopjeRegion_SO2_airpointers.csv');\n",
    "df_PM25 = pd.read_csv('SkopjeRegion_PM25_airpointers.csv');"
   ]
  },
  {
   "cell_type": "code",
   "execution_count": 181,
   "metadata": {
    "collapsed": false
   },
   "outputs": [],
   "source": [
    "ImpurityList = [df_CO,df_NO2,df_O3,df_PM25] #create data set list"
   ]
  },
  {
   "cell_type": "code",
   "execution_count": 182,
   "metadata": {
    "collapsed": false
   },
   "outputs": [],
   "source": [
    "# Preprocess data set \n",
    "\n",
    "def preprocess(FrameList):\n",
    "    '''\n",
    "    Input:\n",
    "         List of Dataframes\n",
    "    Output:\n",
    "         List of data frames with 4 dropped columns and renamed\n",
    "    '''\n",
    "    \n",
    "    \n",
    "    for i in range(0,len(FrameList)):\n",
    "        print(i)\n",
    "        column_name=FrameList[i].columns[0]\n",
    "        column_replace = FrameList[i].columns[0][18:-5]\n",
    "        print (column_replace)\n",
    "        FrameList[i] = FrameList[i].rename(columns = {column_name:'x'});\n",
    "        FrameList[i]=pd.DataFrame(FrameList[i].x.str.split(';',5).tolist(),columns = ['date','Lat','Lon',column_replace,'NAME'])\n",
    "        FrameList[i].drop(['Lat','Lon','NAME'], axis = 1, inplace = True, errors = 'ignore')\n",
    "    return (FrameList);\n",
    "    "
   ]
  },
  {
   "cell_type": "code",
   "execution_count": 183,
   "metadata": {
    "collapsed": false
   },
   "outputs": [
    {
     "name": "stdout",
     "output_type": "stream",
     "text": [
      "0\n",
      "CO\n",
      "1\n",
      "NO2\n",
      "2\n",
      "O3\n",
      "3\n",
      "PM25\n"
     ]
    }
   ],
   "source": [
    "# Apply function on List\n",
    "DataFrameList = preprocess(ImpurityList);"
   ]
  },
  {
   "cell_type": "code",
   "execution_count": 184,
   "metadata": {
    "collapsed": false
   },
   "outputs": [
    {
     "name": "stdout",
     "output_type": "stream",
     "text": [
      "CO\n",
      "NO2\n",
      "O3\n",
      "PM25\n"
     ]
    }
   ],
   "source": [
    "# Add Indicator for other variables for the impurity\n",
    "for i in range(0,len(DataFrameList)):\n",
    "    l= DataFrameList[i].columns[1]\n",
    "    print(l)\n",
    "    DataFrameList[i][str(l)]= pd.to_numeric(DataFrameList[i][str(l)]) #\n",
    "    DataFrameList[i][str(l)].replace('NaN', np.NaN) #replace NAn with zero np.nan\n",
    "    DataFrameList[i][str(l)+' indicators']= DataFrameList[i][str(l)].apply(Make_Indicator_Column_For_Nan)\n",
    "    \n",
    "    "
   ]
  },
  {
   "cell_type": "code",
   "execution_count": 185,
   "metadata": {
    "collapsed": false
   },
   "outputs": [
    {
     "data": {
      "text/html": [
       "<div>\n",
       "<table border=\"1\" class=\"dataframe\">\n",
       "  <thead>\n",
       "    <tr style=\"text-align: right;\">\n",
       "      <th></th>\n",
       "      <th>date</th>\n",
       "      <th>CO</th>\n",
       "      <th>CO indicators</th>\n",
       "    </tr>\n",
       "  </thead>\n",
       "  <tbody>\n",
       "    <tr>\n",
       "      <th>0</th>\n",
       "      <td>26.01.2007 10</td>\n",
       "      <td>0.49</td>\n",
       "      <td>1</td>\n",
       "    </tr>\n",
       "    <tr>\n",
       "      <th>1</th>\n",
       "      <td>26.01.2007 10</td>\n",
       "      <td>0.78</td>\n",
       "      <td>1</td>\n",
       "    </tr>\n",
       "    <tr>\n",
       "      <th>2</th>\n",
       "      <td>26.01.2007 10</td>\n",
       "      <td>1.02</td>\n",
       "      <td>1</td>\n",
       "    </tr>\n",
       "    <tr>\n",
       "      <th>3</th>\n",
       "      <td>26.01.2007 10</td>\n",
       "      <td>0.91</td>\n",
       "      <td>1</td>\n",
       "    </tr>\n",
       "    <tr>\n",
       "      <th>4</th>\n",
       "      <td>26.01.2007 10</td>\n",
       "      <td>1.00</td>\n",
       "      <td>1</td>\n",
       "    </tr>\n",
       "  </tbody>\n",
       "</table>\n",
       "</div>"
      ],
      "text/plain": [
       "            date    CO  CO indicators\n",
       "0  26.01.2007 10  0.49              1\n",
       "1  26.01.2007 10  0.78              1\n",
       "2  26.01.2007 10  1.02              1\n",
       "3  26.01.2007 10  0.91              1\n",
       "4  26.01.2007 10  1.00              1"
      ]
     },
     "execution_count": 185,
     "metadata": {},
     "output_type": "execute_result"
    }
   ],
   "source": [
    "DataFrameList[0][0:5]"
   ]
  },
  {
   "cell_type": "markdown",
   "metadata": {},
   "source": [
    "<p> Same data set with pickle</p>"
   ]
  },
  {
   "cell_type": "code",
   "execution_count": 186,
   "metadata": {
    "collapsed": false
   },
   "outputs": [],
   "source": [
    "import pickle as pick\n",
    "with open('ImpurityList_with_Indicator', 'wb') as fp:\n",
    "    pick.dump(DataFrameList, fp)"
   ]
  },
  {
   "cell_type": "code",
   "execution_count": 187,
   "metadata": {
    "collapsed": false
   },
   "outputs": [],
   "source": [
    "import pickle as pick\n",
    "with open ('ImpurityList_with_Indicator', 'rb') as fp:\n",
    "    DataFrameList= pick.load(fp)"
   ]
  },
  {
   "cell_type": "code",
   "execution_count": 188,
   "metadata": {
    "collapsed": false
   },
   "outputs": [],
   "source": [
    "# Copy data set to define Normalized and Stabdardized sets\n",
    "import copy\n",
    "NewDataFrameListNormalized=copy.deepcopy(DataFrameList)\n",
    "NewDataFrameListStandardized=copy.deepcopy(DataFrameList)"
   ]
  },
  {
   "cell_type": "code",
   "execution_count": 189,
   "metadata": {
    "collapsed": false
   },
   "outputs": [
    {
     "data": {
      "text/html": [
       "<div>\n",
       "<table border=\"1\" class=\"dataframe\">\n",
       "  <thead>\n",
       "    <tr style=\"text-align: right;\">\n",
       "      <th></th>\n",
       "      <th>date</th>\n",
       "      <th>CO</th>\n",
       "      <th>CO indicators</th>\n",
       "    </tr>\n",
       "  </thead>\n",
       "  <tbody>\n",
       "    <tr>\n",
       "      <th>0</th>\n",
       "      <td>26.01.2007 10</td>\n",
       "      <td>0.49</td>\n",
       "      <td>1</td>\n",
       "    </tr>\n",
       "    <tr>\n",
       "      <th>1</th>\n",
       "      <td>26.01.2007 10</td>\n",
       "      <td>0.78</td>\n",
       "      <td>1</td>\n",
       "    </tr>\n",
       "    <tr>\n",
       "      <th>2</th>\n",
       "      <td>26.01.2007 10</td>\n",
       "      <td>1.02</td>\n",
       "      <td>1</td>\n",
       "    </tr>\n",
       "    <tr>\n",
       "      <th>3</th>\n",
       "      <td>26.01.2007 10</td>\n",
       "      <td>0.91</td>\n",
       "      <td>1</td>\n",
       "    </tr>\n",
       "    <tr>\n",
       "      <th>4</th>\n",
       "      <td>26.01.2007 10</td>\n",
       "      <td>1.00</td>\n",
       "      <td>1</td>\n",
       "    </tr>\n",
       "    <tr>\n",
       "      <th>5</th>\n",
       "      <td>26.01.2007 10</td>\n",
       "      <td>NaN</td>\n",
       "      <td>0</td>\n",
       "    </tr>\n",
       "    <tr>\n",
       "      <th>6</th>\n",
       "      <td>26.01.2007 10</td>\n",
       "      <td>NaN</td>\n",
       "      <td>0</td>\n",
       "    </tr>\n",
       "    <tr>\n",
       "      <th>7</th>\n",
       "      <td>15.01.2007 01</td>\n",
       "      <td>3.44</td>\n",
       "      <td>1</td>\n",
       "    </tr>\n",
       "  </tbody>\n",
       "</table>\n",
       "</div>"
      ],
      "text/plain": [
       "            date    CO  CO indicators\n",
       "0  26.01.2007 10  0.49              1\n",
       "1  26.01.2007 10  0.78              1\n",
       "2  26.01.2007 10  1.02              1\n",
       "3  26.01.2007 10  0.91              1\n",
       "4  26.01.2007 10  1.00              1\n",
       "5  26.01.2007 10   NaN              0\n",
       "6  26.01.2007 10   NaN              0\n",
       "7  15.01.2007 01  3.44              1"
      ]
     },
     "execution_count": 189,
     "metadata": {},
     "output_type": "execute_result"
    }
   ],
   "source": [
    "NewDataFrameListNormalized[0][0:8]"
   ]
  },
  {
   "cell_type": "code",
   "execution_count": 190,
   "metadata": {
    "collapsed": false
   },
   "outputs": [
    {
     "data": {
      "text/html": [
       "<div>\n",
       "<table border=\"1\" class=\"dataframe\">\n",
       "  <thead>\n",
       "    <tr style=\"text-align: right;\">\n",
       "      <th></th>\n",
       "      <th>date</th>\n",
       "      <th>CO</th>\n",
       "      <th>CO indicators</th>\n",
       "    </tr>\n",
       "  </thead>\n",
       "  <tbody>\n",
       "    <tr>\n",
       "      <th>0</th>\n",
       "      <td>26.01.2007 10</td>\n",
       "      <td>0.49</td>\n",
       "      <td>1</td>\n",
       "    </tr>\n",
       "    <tr>\n",
       "      <th>1</th>\n",
       "      <td>26.01.2007 10</td>\n",
       "      <td>0.78</td>\n",
       "      <td>1</td>\n",
       "    </tr>\n",
       "    <tr>\n",
       "      <th>2</th>\n",
       "      <td>26.01.2007 10</td>\n",
       "      <td>1.02</td>\n",
       "      <td>1</td>\n",
       "    </tr>\n",
       "    <tr>\n",
       "      <th>3</th>\n",
       "      <td>26.01.2007 10</td>\n",
       "      <td>0.91</td>\n",
       "      <td>1</td>\n",
       "    </tr>\n",
       "    <tr>\n",
       "      <th>4</th>\n",
       "      <td>26.01.2007 10</td>\n",
       "      <td>1.00</td>\n",
       "      <td>1</td>\n",
       "    </tr>\n",
       "    <tr>\n",
       "      <th>5</th>\n",
       "      <td>26.01.2007 10</td>\n",
       "      <td>NaN</td>\n",
       "      <td>0</td>\n",
       "    </tr>\n",
       "    <tr>\n",
       "      <th>6</th>\n",
       "      <td>26.01.2007 10</td>\n",
       "      <td>NaN</td>\n",
       "      <td>0</td>\n",
       "    </tr>\n",
       "    <tr>\n",
       "      <th>7</th>\n",
       "      <td>15.01.2007 01</td>\n",
       "      <td>3.44</td>\n",
       "      <td>1</td>\n",
       "    </tr>\n",
       "  </tbody>\n",
       "</table>\n",
       "</div>"
      ],
      "text/plain": [
       "            date    CO  CO indicators\n",
       "0  26.01.2007 10  0.49              1\n",
       "1  26.01.2007 10  0.78              1\n",
       "2  26.01.2007 10  1.02              1\n",
       "3  26.01.2007 10  0.91              1\n",
       "4  26.01.2007 10  1.00              1\n",
       "5  26.01.2007 10   NaN              0\n",
       "6  26.01.2007 10   NaN              0\n",
       "7  15.01.2007 01  3.44              1"
      ]
     },
     "execution_count": 190,
     "metadata": {},
     "output_type": "execute_result"
    }
   ],
   "source": [
    "NewDataFrameListStandardized[0][0:8]"
   ]
  },
  {
   "cell_type": "code",
   "execution_count": 191,
   "metadata": {
    "collapsed": false
   },
   "outputs": [],
   "source": [
    "def datePreprocess(List):\n",
    "    for i in range(0,len(List)):\n",
    "        l = List[i].columns[0]\n",
    "        print(l)\n",
    "        #NewDataFrameListStandardized[i][str(l)] = Standardize(NewDataFrameListStandardized[i][str(l)]) #Normalize\n",
    "        List[i][str(l)]= pd.to_datetime(List[i][str(l)])  # Convert to dat time\n",
    "        List[i].sort_values(by=str(l),ascending=True,inplace=True) # sort data sets\n",
    "        List[i] = List[i].reset_index(drop=True) # reset index\n",
    "    return (List)  "
   ]
  },
  {
   "cell_type": "code",
   "execution_count": null,
   "metadata": {
    "collapsed": true
   },
   "outputs": [],
   "source": []
  },
  {
   "cell_type": "code",
   "execution_count": 99,
   "metadata": {
    "collapsed": true
   },
   "outputs": [],
   "source": []
  },
  {
   "cell_type": "code",
   "execution_count": 192,
   "metadata": {
    "collapsed": false
   },
   "outputs": [
    {
     "name": "stdout",
     "output_type": "stream",
     "text": [
      "date\n",
      "date\n",
      "date\n",
      "date\n"
     ]
    }
   ],
   "source": [
    "NewDataFrameListNormalized_1 = datePreprocess(NewDataFrameListNormalized)"
   ]
  },
  {
   "cell_type": "code",
   "execution_count": 193,
   "metadata": {
    "collapsed": false
   },
   "outputs": [],
   "source": [
    "NewDataFrameListStandardized_2 =copy.deepcopy(NewDataFrameListNormalized_1)"
   ]
  },
  {
   "cell_type": "code",
   "execution_count": 194,
   "metadata": {
    "collapsed": false
   },
   "outputs": [
    {
     "data": {
      "text/html": [
       "<div>\n",
       "<table border=\"1\" class=\"dataframe\">\n",
       "  <thead>\n",
       "    <tr style=\"text-align: right;\">\n",
       "      <th></th>\n",
       "      <th>date</th>\n",
       "      <th>CO</th>\n",
       "      <th>CO indicators</th>\n",
       "    </tr>\n",
       "  </thead>\n",
       "  <tbody>\n",
       "    <tr>\n",
       "      <th>0</th>\n",
       "      <td>2007-01-02</td>\n",
       "      <td>NaN</td>\n",
       "      <td>0</td>\n",
       "    </tr>\n",
       "    <tr>\n",
       "      <th>1</th>\n",
       "      <td>2007-01-02</td>\n",
       "      <td>3.33</td>\n",
       "      <td>1</td>\n",
       "    </tr>\n",
       "    <tr>\n",
       "      <th>2</th>\n",
       "      <td>2007-01-02</td>\n",
       "      <td>4.13</td>\n",
       "      <td>1</td>\n",
       "    </tr>\n",
       "    <tr>\n",
       "      <th>3</th>\n",
       "      <td>2007-01-02</td>\n",
       "      <td>2.73</td>\n",
       "      <td>1</td>\n",
       "    </tr>\n",
       "    <tr>\n",
       "      <th>4</th>\n",
       "      <td>2007-01-02</td>\n",
       "      <td>NaN</td>\n",
       "      <td>0</td>\n",
       "    </tr>\n",
       "  </tbody>\n",
       "</table>\n",
       "</div>"
      ],
      "text/plain": [
       "        date    CO  CO indicators\n",
       "0 2007-01-02   NaN              0\n",
       "1 2007-01-02  3.33              1\n",
       "2 2007-01-02  4.13              1\n",
       "3 2007-01-02  2.73              1\n",
       "4 2007-01-02   NaN              0"
      ]
     },
     "execution_count": 194,
     "metadata": {},
     "output_type": "execute_result"
    }
   ],
   "source": [
    "NewDataFrameListStandardized_2[0][0:5]"
   ]
  },
  {
   "cell_type": "code",
   "execution_count": 195,
   "metadata": {
    "collapsed": false
   },
   "outputs": [
    {
     "data": {
      "text/html": [
       "<div>\n",
       "<table border=\"1\" class=\"dataframe\">\n",
       "  <thead>\n",
       "    <tr style=\"text-align: right;\">\n",
       "      <th></th>\n",
       "      <th>date</th>\n",
       "      <th>CO</th>\n",
       "      <th>CO indicators</th>\n",
       "    </tr>\n",
       "  </thead>\n",
       "  <tbody>\n",
       "    <tr>\n",
       "      <th>0</th>\n",
       "      <td>2007-01-02</td>\n",
       "      <td>NaN</td>\n",
       "      <td>0</td>\n",
       "    </tr>\n",
       "    <tr>\n",
       "      <th>1</th>\n",
       "      <td>2007-01-02</td>\n",
       "      <td>3.33</td>\n",
       "      <td>1</td>\n",
       "    </tr>\n",
       "    <tr>\n",
       "      <th>2</th>\n",
       "      <td>2007-01-02</td>\n",
       "      <td>4.13</td>\n",
       "      <td>1</td>\n",
       "    </tr>\n",
       "    <tr>\n",
       "      <th>3</th>\n",
       "      <td>2007-01-02</td>\n",
       "      <td>2.73</td>\n",
       "      <td>1</td>\n",
       "    </tr>\n",
       "    <tr>\n",
       "      <th>4</th>\n",
       "      <td>2007-01-02</td>\n",
       "      <td>NaN</td>\n",
       "      <td>0</td>\n",
       "    </tr>\n",
       "  </tbody>\n",
       "</table>\n",
       "</div>"
      ],
      "text/plain": [
       "        date    CO  CO indicators\n",
       "0 2007-01-02   NaN              0\n",
       "1 2007-01-02  3.33              1\n",
       "2 2007-01-02  4.13              1\n",
       "3 2007-01-02  2.73              1\n",
       "4 2007-01-02   NaN              0"
      ]
     },
     "execution_count": 195,
     "metadata": {},
     "output_type": "execute_result"
    }
   ],
   "source": [
    "NewDataFrameListNormalized_1[0][0:5]"
   ]
  },
  {
   "cell_type": "code",
   "execution_count": 196,
   "metadata": {
    "collapsed": false
   },
   "outputs": [
    {
     "data": {
      "text/plain": [
       "5053735176"
      ]
     },
     "execution_count": 196,
     "metadata": {},
     "output_type": "execute_result"
    }
   ],
   "source": [
    "id(NewDataFrameListNormalized)"
   ]
  },
  {
   "cell_type": "code",
   "execution_count": 197,
   "metadata": {
    "collapsed": false
   },
   "outputs": [
    {
     "data": {
      "text/plain": [
       "6068237192"
      ]
     },
     "execution_count": 197,
     "metadata": {},
     "output_type": "execute_result"
    }
   ],
   "source": [
    "id(NewDataFrameListStandardized)"
   ]
  },
  {
   "cell_type": "code",
   "execution_count": 198,
   "metadata": {
    "collapsed": true
   },
   "outputs": [],
   "source": [
    "import pickle as pick\n",
    "with open('ImpurityList_Normalized', 'wb') as fp:\n",
    "    pick.dump(NewDataFrameListNormalized_1, fp)"
   ]
  },
  {
   "cell_type": "code",
   "execution_count": 160,
   "metadata": {
    "collapsed": true
   },
   "outputs": [],
   "source": [
    "with open('ImpurityList_Standardized', 'wb') as fp:\n",
    "    pick.dump(NewDataFrameListStandardized_2, fp)"
   ]
  },
  {
   "cell_type": "code",
   "execution_count": null,
   "metadata": {
    "collapsed": true
   },
   "outputs": [],
   "source": []
  },
  {
   "cell_type": "code",
   "execution_count": null,
   "metadata": {
    "collapsed": true
   },
   "outputs": [],
   "source": [
    "with open ('featureset_0', 'rb') as fp:\n",
    "    itemlist = pick.load(fp)"
   ]
  },
  {
   "cell_type": "code",
   "execution_count": 199,
   "metadata": {
    "collapsed": false
   },
   "outputs": [],
   "source": [
    "NewDataFrameListNormalized_1[0]['CO'] =Normalize(NewDataFrameListNormalized[0]['CO'])\n",
    "NewDataFrameListNormalized_1[1]['NO2']=Normalize(NewDataFrameListNormalized[1]['NO2'])\n",
    "NewDataFrameListNormalized_1[2]['O3']=Normalize(NewDataFrameListNormalized[2]['O3'])\n",
    "NewDataFrameListNormalized_1[3]['PM5']=Normalize(NewDataFrameListNormalized[3]['PM25'])"
   ]
  },
  {
   "cell_type": "code",
   "execution_count": 200,
   "metadata": {
    "collapsed": false
   },
   "outputs": [],
   "source": [
    "NewDataFrameListStandardized_2[0]['CO'] =Standardize(NewDataFrameListNormalized[0]['CO'])\n",
    "NewDataFrameListStandardized_2[1]['NO2']=Standardize(NewDataFrameListNormalized[1]['NO2'])\n",
    "NewDataFrameListStandardized_2[2]['O3']=Standardize(NewDataFrameListNormalized[2]['O3'])\n",
    "NewDataFrameListStandardized_2[3]['PM25']=Standardize(NewDataFrameListNormalized[3]['PM25'])"
   ]
  },
  {
   "cell_type": "code",
   "execution_count": 201,
   "metadata": {
    "collapsed": false
   },
   "outputs": [
    {
     "data": {
      "text/plain": [
       "0         NaN\n",
       "1    0.044527\n",
       "2    0.058631\n",
       "3    0.033949\n",
       "4         NaN\n",
       "Name: CO, dtype: float64"
      ]
     },
     "execution_count": 201,
     "metadata": {},
     "output_type": "execute_result"
    }
   ],
   "source": [
    "NewDataFrameListNormalized_1[0]['CO'][0:5] #Normalize"
   ]
  },
  {
   "cell_type": "code",
   "execution_count": 202,
   "metadata": {
    "collapsed": false
   },
   "outputs": [
    {
     "data": {
      "text/plain": [
       "0         NaN\n",
       "1    1.460885\n",
       "2    1.923636\n",
       "3    1.113822\n",
       "4         NaN\n",
       "Name: CO, dtype: float64"
      ]
     },
     "execution_count": 202,
     "metadata": {},
     "output_type": "execute_result"
    }
   ],
   "source": [
    "NewDataFrameListStandardized_2[0]['CO'][0:5]"
   ]
  },
  {
   "cell_type": "markdown",
   "metadata": {
    "collapsed": false
   },
   "source": [
    "#These functions also does the Normalization. I used the syntax above for Clarificatio\n",
    "\n",
    "for i in range(0,len(NewDataFrameListNormalized)):\n",
    "        l = NewDataFrameListNormalized[i].columns[1];\n",
    "        #print(l)\n",
    "        NewDataFrameListNormalized[i][str(l)] = Normalize(NewDataFrameListNormalized[i][str(l)]); #Normalize"
   ]
  },
  {
   "cell_type": "markdown",
   "metadata": {
    "collapsed": false
   },
   "source": [
    "#These functions also does the Standardization. I used the syntax above for Clarificatio\n",
    "\n",
    "for i in range(0,len(NewDataFrameListStandardized)):\n",
    "        l = NewDataFrameListStandardized[i].columns[1];\n",
    "        #print(l)\n",
    "        NewDataFrameListStandardized[i][str(l)] = Standardize(NewDataFrameListStandardized[i][str(l)]); \n",
    "        #Standardize\n",
    "  "
   ]
  },
  {
   "cell_type": "code",
   "execution_count": 214,
   "metadata": {
    "collapsed": false
   },
   "outputs": [
    {
     "data": {
      "text/html": [
       "<div>\n",
       "<table border=\"1\" class=\"dataframe\">\n",
       "  <thead>\n",
       "    <tr style=\"text-align: right;\">\n",
       "      <th></th>\n",
       "      <th>date</th>\n",
       "      <th>PM25</th>\n",
       "      <th>PM25 indicators</th>\n",
       "    </tr>\n",
       "  </thead>\n",
       "  <tbody>\n",
       "    <tr>\n",
       "      <th>1</th>\n",
       "      <td>2007-01-02</td>\n",
       "      <td>NaN</td>\n",
       "      <td>-1</td>\n",
       "    </tr>\n",
       "    <tr>\n",
       "      <th>2</th>\n",
       "      <td>2007-01-02</td>\n",
       "      <td>NaN</td>\n",
       "      <td>-1</td>\n",
       "    </tr>\n",
       "  </tbody>\n",
       "</table>\n",
       "</div>"
      ],
      "text/plain": [
       "        date  PM25  PM25 indicators\n",
       "1 2007-01-02   NaN               -1\n",
       "2 2007-01-02   NaN               -1"
      ]
     },
     "execution_count": 214,
     "metadata": {},
     "output_type": "execute_result"
    }
   ],
   "source": [
    "NewDataFrameListStandardized_2[3][1:3]"
   ]
  },
  {
   "cell_type": "markdown",
   "metadata": {},
   "source": [
    "# Combining data sets\n"
   ]
  },
  {
   "cell_type": "markdown",
   "metadata": {},
   "source": [
    "<p><b> Stabdardized Data set  </b></p>"
   ]
  },
  {
   "cell_type": "code",
   "execution_count": 203,
   "metadata": {
    "collapsed": false
   },
   "outputs": [
    {
     "data": {
      "text/plain": [
       "date                  datetime64[ns]\n",
       "PM10                         float64\n",
       "NAME                          object\n",
       "PM10_null_pointers             int64\n",
       "dtype: object"
      ]
     },
     "execution_count": 203,
     "metadata": {},
     "output_type": "execute_result"
    }
   ],
   "source": [
    "df_Standardized.dtypes"
   ]
  },
  {
   "cell_type": "code",
   "execution_count": 204,
   "metadata": {
    "collapsed": false
   },
   "outputs": [
    {
     "data": {
      "text/html": [
       "<div>\n",
       "<table border=\"1\" class=\"dataframe\">\n",
       "  <thead>\n",
       "    <tr style=\"text-align: right;\">\n",
       "      <th></th>\n",
       "      <th>date</th>\n",
       "      <th>PM10</th>\n",
       "      <th>NAME</th>\n",
       "      <th>PM10_null_pointers</th>\n",
       "    </tr>\n",
       "  </thead>\n",
       "  <tbody>\n",
       "    <tr>\n",
       "      <th>0</th>\n",
       "      <td>2007-01-02</td>\n",
       "      <td>NaN</td>\n",
       "      <td>Miladinovci</td>\n",
       "      <td>0</td>\n",
       "    </tr>\n",
       "    <tr>\n",
       "      <th>1</th>\n",
       "      <td>2007-01-02</td>\n",
       "      <td>NaN</td>\n",
       "      <td>Centar</td>\n",
       "      <td>0</td>\n",
       "    </tr>\n",
       "    <tr>\n",
       "      <th>2</th>\n",
       "      <td>2007-01-02</td>\n",
       "      <td>NaN</td>\n",
       "      <td>Lisice</td>\n",
       "      <td>0</td>\n",
       "    </tr>\n",
       "    <tr>\n",
       "      <th>3</th>\n",
       "      <td>2007-01-02</td>\n",
       "      <td>1.499629</td>\n",
       "      <td>Rektorat</td>\n",
       "      <td>1</td>\n",
       "    </tr>\n",
       "    <tr>\n",
       "      <th>4</th>\n",
       "      <td>2007-01-02</td>\n",
       "      <td>NaN</td>\n",
       "      <td>Mrsevci</td>\n",
       "      <td>0</td>\n",
       "    </tr>\n",
       "  </tbody>\n",
       "</table>\n",
       "</div>"
      ],
      "text/plain": [
       "        date      PM10         NAME  PM10_null_pointers\n",
       "0 2007-01-02       NaN  Miladinovci                   0\n",
       "1 2007-01-02       NaN       Centar                   0\n",
       "2 2007-01-02       NaN       Lisice                   0\n",
       "3 2007-01-02  1.499629     Rektorat                   1\n",
       "4 2007-01-02       NaN      Mrsevci                   0"
      ]
     },
     "execution_count": 204,
     "metadata": {},
     "output_type": "execute_result"
    }
   ],
   "source": [
    "df_Standardized.head()"
   ]
  },
  {
   "cell_type": "code",
   "execution_count": 205,
   "metadata": {
    "collapsed": false
   },
   "outputs": [],
   "source": [
    "df_Standardized['CO'] = NewDataFrameListStandardized_2[0]['CO']\n",
    "df_Standardized['CO_null_pointers'] = NewDataFrameListStandardized_2[0]['CO indicators']"
   ]
  },
  {
   "cell_type": "code",
   "execution_count": 206,
   "metadata": {
    "collapsed": false
   },
   "outputs": [
    {
     "data": {
      "text/html": [
       "<div>\n",
       "<table border=\"1\" class=\"dataframe\">\n",
       "  <thead>\n",
       "    <tr style=\"text-align: right;\">\n",
       "      <th></th>\n",
       "      <th>date</th>\n",
       "      <th>PM10</th>\n",
       "      <th>NAME</th>\n",
       "      <th>PM10_null_pointers</th>\n",
       "      <th>CO</th>\n",
       "      <th>CO_null_pointers</th>\n",
       "    </tr>\n",
       "  </thead>\n",
       "  <tbody>\n",
       "    <tr>\n",
       "      <th>0</th>\n",
       "      <td>2007-01-02</td>\n",
       "      <td>NaN</td>\n",
       "      <td>Miladinovci</td>\n",
       "      <td>0</td>\n",
       "      <td>NaN</td>\n",
       "      <td>0</td>\n",
       "    </tr>\n",
       "    <tr>\n",
       "      <th>1</th>\n",
       "      <td>2007-01-02</td>\n",
       "      <td>NaN</td>\n",
       "      <td>Centar</td>\n",
       "      <td>0</td>\n",
       "      <td>1.460885</td>\n",
       "      <td>1</td>\n",
       "    </tr>\n",
       "    <tr>\n",
       "      <th>2</th>\n",
       "      <td>2007-01-02</td>\n",
       "      <td>NaN</td>\n",
       "      <td>Lisice</td>\n",
       "      <td>0</td>\n",
       "      <td>1.923636</td>\n",
       "      <td>1</td>\n",
       "    </tr>\n",
       "    <tr>\n",
       "      <th>3</th>\n",
       "      <td>2007-01-02</td>\n",
       "      <td>1.499629</td>\n",
       "      <td>Rektorat</td>\n",
       "      <td>1</td>\n",
       "      <td>1.113822</td>\n",
       "      <td>1</td>\n",
       "    </tr>\n",
       "    <tr>\n",
       "      <th>4</th>\n",
       "      <td>2007-01-02</td>\n",
       "      <td>NaN</td>\n",
       "      <td>Mrsevci</td>\n",
       "      <td>0</td>\n",
       "      <td>NaN</td>\n",
       "      <td>0</td>\n",
       "    </tr>\n",
       "  </tbody>\n",
       "</table>\n",
       "</div>"
      ],
      "text/plain": [
       "        date      PM10         NAME  PM10_null_pointers        CO  \\\n",
       "0 2007-01-02       NaN  Miladinovci                   0       NaN   \n",
       "1 2007-01-02       NaN       Centar                   0  1.460885   \n",
       "2 2007-01-02       NaN       Lisice                   0  1.923636   \n",
       "3 2007-01-02  1.499629     Rektorat                   1  1.113822   \n",
       "4 2007-01-02       NaN      Mrsevci                   0       NaN   \n",
       "\n",
       "   CO_null_pointers  \n",
       "0                 0  \n",
       "1                 1  \n",
       "2                 1  \n",
       "3                 1  \n",
       "4                 0  "
      ]
     },
     "execution_count": 206,
     "metadata": {},
     "output_type": "execute_result"
    }
   ],
   "source": [
    "df_Standardized.head()"
   ]
  },
  {
   "cell_type": "code",
   "execution_count": 207,
   "metadata": {
    "collapsed": true
   },
   "outputs": [],
   "source": [
    "df_Standardized['NO2'] = NewDataFrameListStandardized_2[1]['NO2']\n",
    "df_Standardized['NO2_null_pointers'] = NewDataFrameListStandardized_2[1]['NO2 indicators']"
   ]
  },
  {
   "cell_type": "code",
   "execution_count": 208,
   "metadata": {
    "collapsed": false
   },
   "outputs": [
    {
     "data": {
      "text/html": [
       "<div>\n",
       "<table border=\"1\" class=\"dataframe\">\n",
       "  <thead>\n",
       "    <tr style=\"text-align: right;\">\n",
       "      <th></th>\n",
       "      <th>date</th>\n",
       "      <th>PM10</th>\n",
       "      <th>NAME</th>\n",
       "      <th>PM10_null_pointers</th>\n",
       "      <th>CO</th>\n",
       "      <th>CO_null_pointers</th>\n",
       "      <th>NO2</th>\n",
       "      <th>NO2_null_pointers</th>\n",
       "    </tr>\n",
       "  </thead>\n",
       "  <tbody>\n",
       "    <tr>\n",
       "      <th>1</th>\n",
       "      <td>2007-01-02</td>\n",
       "      <td>NaN</td>\n",
       "      <td>Centar</td>\n",
       "      <td>0</td>\n",
       "      <td>1.460885</td>\n",
       "      <td>1</td>\n",
       "      <td>NaN</td>\n",
       "      <td>0</td>\n",
       "    </tr>\n",
       "  </tbody>\n",
       "</table>\n",
       "</div>"
      ],
      "text/plain": [
       "        date  PM10    NAME  PM10_null_pointers        CO  CO_null_pointers  \\\n",
       "1 2007-01-02   NaN  Centar                   0  1.460885                 1   \n",
       "\n",
       "   NO2  NO2_null_pointers  \n",
       "1  NaN                  0  "
      ]
     },
     "execution_count": 208,
     "metadata": {},
     "output_type": "execute_result"
    }
   ],
   "source": [
    "df_Standardized[1:2]"
   ]
  },
  {
   "cell_type": "code",
   "execution_count": 209,
   "metadata": {
    "collapsed": true
   },
   "outputs": [],
   "source": [
    "df_Standardized['O3'] = NewDataFrameListStandardized_2[2]['O3']\n",
    "df_Standardized['O3_null_pointers'] = NewDataFrameListStandardized_2[2]['O3 indicators']"
   ]
  },
  {
   "cell_type": "markdown",
   "metadata": {},
   "source": [
    "df_Standardized.drop(['O3'], axis = 1, inplace = True, errors = 'ignore')"
   ]
  },
  {
   "cell_type": "code",
   "execution_count": 210,
   "metadata": {
    "collapsed": false
   },
   "outputs": [
    {
     "data": {
      "text/html": [
       "<div>\n",
       "<table border=\"1\" class=\"dataframe\">\n",
       "  <thead>\n",
       "    <tr style=\"text-align: right;\">\n",
       "      <th></th>\n",
       "      <th>date</th>\n",
       "      <th>PM10</th>\n",
       "      <th>NAME</th>\n",
       "      <th>PM10_null_pointers</th>\n",
       "      <th>CO</th>\n",
       "      <th>CO_null_pointers</th>\n",
       "      <th>NO2</th>\n",
       "      <th>NO2_null_pointers</th>\n",
       "      <th>O3</th>\n",
       "      <th>O3_null_pointers</th>\n",
       "    </tr>\n",
       "  </thead>\n",
       "  <tbody>\n",
       "    <tr>\n",
       "      <th>1</th>\n",
       "      <td>2007-01-02</td>\n",
       "      <td>NaN</td>\n",
       "      <td>Centar</td>\n",
       "      <td>0</td>\n",
       "      <td>1.460885</td>\n",
       "      <td>1</td>\n",
       "      <td>NaN</td>\n",
       "      <td>0</td>\n",
       "      <td>NaN</td>\n",
       "      <td>0</td>\n",
       "    </tr>\n",
       "    <tr>\n",
       "      <th>2</th>\n",
       "      <td>2007-01-02</td>\n",
       "      <td>NaN</td>\n",
       "      <td>Lisice</td>\n",
       "      <td>0</td>\n",
       "      <td>1.923636</td>\n",
       "      <td>1</td>\n",
       "      <td>NaN</td>\n",
       "      <td>0</td>\n",
       "      <td>NaN</td>\n",
       "      <td>0</td>\n",
       "    </tr>\n",
       "  </tbody>\n",
       "</table>\n",
       "</div>"
      ],
      "text/plain": [
       "        date  PM10    NAME  PM10_null_pointers        CO  CO_null_pointers  \\\n",
       "1 2007-01-02   NaN  Centar                   0  1.460885                 1   \n",
       "2 2007-01-02   NaN  Lisice                   0  1.923636                 1   \n",
       "\n",
       "   NO2  NO2_null_pointers  O3  O3_null_pointers  \n",
       "1  NaN                  0 NaN                 0  \n",
       "2  NaN                  0 NaN                 0  "
      ]
     },
     "execution_count": 210,
     "metadata": {},
     "output_type": "execute_result"
    }
   ],
   "source": [
    "df_Standardized[1:3]"
   ]
  },
  {
   "cell_type": "code",
   "execution_count": 211,
   "metadata": {
    "collapsed": true
   },
   "outputs": [],
   "source": [
    "df_Standardized['PM25'] = NewDataFrameListStandardized_2[3]['PM25']\n",
    "df_Standardized['PM25_null_pointers'] = NewDataFrameListStandardized_2[3]['PM25 indicators']"
   ]
  },
  {
   "cell_type": "code",
   "execution_count": 212,
   "metadata": {
    "collapsed": false
   },
   "outputs": [
    {
     "data": {
      "text/html": [
       "<div>\n",
       "<table border=\"1\" class=\"dataframe\">\n",
       "  <thead>\n",
       "    <tr style=\"text-align: right;\">\n",
       "      <th></th>\n",
       "      <th>date</th>\n",
       "      <th>PM10</th>\n",
       "      <th>NAME</th>\n",
       "      <th>PM10_null_pointers</th>\n",
       "      <th>CO</th>\n",
       "      <th>CO_null_pointers</th>\n",
       "      <th>NO2</th>\n",
       "      <th>NO2_null_pointers</th>\n",
       "      <th>O3</th>\n",
       "      <th>O3_null_pointers</th>\n",
       "      <th>PM25</th>\n",
       "      <th>PM25_null_pointers</th>\n",
       "    </tr>\n",
       "  </thead>\n",
       "  <tbody>\n",
       "    <tr>\n",
       "      <th>1</th>\n",
       "      <td>2007-01-02</td>\n",
       "      <td>NaN</td>\n",
       "      <td>Centar</td>\n",
       "      <td>0</td>\n",
       "      <td>1.460885</td>\n",
       "      <td>1</td>\n",
       "      <td>NaN</td>\n",
       "      <td>0</td>\n",
       "      <td>NaN</td>\n",
       "      <td>0</td>\n",
       "      <td>NaN</td>\n",
       "      <td>0</td>\n",
       "    </tr>\n",
       "    <tr>\n",
       "      <th>2</th>\n",
       "      <td>2007-01-02</td>\n",
       "      <td>NaN</td>\n",
       "      <td>Lisice</td>\n",
       "      <td>0</td>\n",
       "      <td>1.923636</td>\n",
       "      <td>1</td>\n",
       "      <td>NaN</td>\n",
       "      <td>0</td>\n",
       "      <td>NaN</td>\n",
       "      <td>0</td>\n",
       "      <td>NaN</td>\n",
       "      <td>0</td>\n",
       "    </tr>\n",
       "    <tr>\n",
       "      <th>3</th>\n",
       "      <td>2007-01-02</td>\n",
       "      <td>1.499629</td>\n",
       "      <td>Rektorat</td>\n",
       "      <td>1</td>\n",
       "      <td>1.113822</td>\n",
       "      <td>1</td>\n",
       "      <td>1.412657</td>\n",
       "      <td>1</td>\n",
       "      <td>-0.839846</td>\n",
       "      <td>1</td>\n",
       "      <td>NaN</td>\n",
       "      <td>0</td>\n",
       "    </tr>\n",
       "  </tbody>\n",
       "</table>\n",
       "</div>"
      ],
      "text/plain": [
       "        date      PM10      NAME  PM10_null_pointers        CO  \\\n",
       "1 2007-01-02       NaN    Centar                   0  1.460885   \n",
       "2 2007-01-02       NaN    Lisice                   0  1.923636   \n",
       "3 2007-01-02  1.499629  Rektorat                   1  1.113822   \n",
       "\n",
       "   CO_null_pointers       NO2  NO2_null_pointers        O3  O3_null_pointers  \\\n",
       "1                 1       NaN                  0       NaN                 0   \n",
       "2                 1       NaN                  0       NaN                 0   \n",
       "3                 1  1.412657                  1 -0.839846                 1   \n",
       "\n",
       "   PM25  PM25_null_pointers  \n",
       "1   NaN                   0  \n",
       "2   NaN                   0  \n",
       "3   NaN                   0  "
      ]
     },
     "execution_count": 212,
     "metadata": {},
     "output_type": "execute_result"
    }
   ],
   "source": [
    "df_Standardized[1:4]"
   ]
  },
  {
   "cell_type": "markdown",
   "metadata": {},
   "source": [
    "<p><b> Normalized Data set  </b></p>"
   ]
  },
  {
   "cell_type": "code",
   "execution_count": 213,
   "metadata": {
    "collapsed": false
   },
   "outputs": [
    {
     "data": {
      "text/html": [
       "<div>\n",
       "<table border=\"1\" class=\"dataframe\">\n",
       "  <thead>\n",
       "    <tr style=\"text-align: right;\">\n",
       "      <th></th>\n",
       "      <th>date</th>\n",
       "      <th>PM10</th>\n",
       "      <th>NAME</th>\n",
       "      <th>PM10_null_pointers</th>\n",
       "    </tr>\n",
       "  </thead>\n",
       "  <tbody>\n",
       "    <tr>\n",
       "      <th>1</th>\n",
       "      <td>2007-01-02</td>\n",
       "      <td>NaN</td>\n",
       "      <td>Centar</td>\n",
       "      <td>0</td>\n",
       "    </tr>\n",
       "    <tr>\n",
       "      <th>2</th>\n",
       "      <td>2007-01-02</td>\n",
       "      <td>NaN</td>\n",
       "      <td>Lisice</td>\n",
       "      <td>0</td>\n",
       "    </tr>\n",
       "  </tbody>\n",
       "</table>\n",
       "</div>"
      ],
      "text/plain": [
       "        date  PM10    NAME  PM10_null_pointers\n",
       "1 2007-01-02   NaN  Centar                   0\n",
       "2 2007-01-02   NaN  Lisice                   0"
      ]
     },
     "execution_count": 213,
     "metadata": {},
     "output_type": "execute_result"
    }
   ],
   "source": [
    "df_Normalized[1:3]"
   ]
  },
  {
   "cell_type": "code",
   "execution_count": 214,
   "metadata": {
    "collapsed": true
   },
   "outputs": [],
   "source": [
    "df_Normalized['CO'] = NewDataFrameListNormalized_1[0]['CO']\n",
    "df_Normalized['CO_null_pointers'] = NewDataFrameListNormalized_1[0]['CO indicators']"
   ]
  },
  {
   "cell_type": "code",
   "execution_count": 215,
   "metadata": {
    "collapsed": false
   },
   "outputs": [
    {
     "data": {
      "text/html": [
       "<div>\n",
       "<table border=\"1\" class=\"dataframe\">\n",
       "  <thead>\n",
       "    <tr style=\"text-align: right;\">\n",
       "      <th></th>\n",
       "      <th>date</th>\n",
       "      <th>PM10</th>\n",
       "      <th>NAME</th>\n",
       "      <th>PM10_null_pointers</th>\n",
       "      <th>CO</th>\n",
       "      <th>CO_null_pointers</th>\n",
       "    </tr>\n",
       "  </thead>\n",
       "  <tbody>\n",
       "    <tr>\n",
       "      <th>1</th>\n",
       "      <td>2007-01-02</td>\n",
       "      <td>NaN</td>\n",
       "      <td>Centar</td>\n",
       "      <td>0</td>\n",
       "      <td>0.044527</td>\n",
       "      <td>1</td>\n",
       "    </tr>\n",
       "  </tbody>\n",
       "</table>\n",
       "</div>"
      ],
      "text/plain": [
       "        date  PM10    NAME  PM10_null_pointers        CO  CO_null_pointers\n",
       "1 2007-01-02   NaN  Centar                   0  0.044527                 1"
      ]
     },
     "execution_count": 215,
     "metadata": {},
     "output_type": "execute_result"
    }
   ],
   "source": [
    "df_Normalized[1:2]"
   ]
  },
  {
   "cell_type": "code",
   "execution_count": 216,
   "metadata": {
    "collapsed": true
   },
   "outputs": [],
   "source": [
    "df_Normalized['NO2'] = NewDataFrameListNormalized_1[1]['NO2']\n",
    "df_Normalized['NO2_null_pointers'] = NewDataFrameListNormalized_1[1]['NO2 indicators']"
   ]
  },
  {
   "cell_type": "code",
   "execution_count": 217,
   "metadata": {
    "collapsed": false
   },
   "outputs": [
    {
     "data": {
      "text/html": [
       "<div>\n",
       "<table border=\"1\" class=\"dataframe\">\n",
       "  <thead>\n",
       "    <tr style=\"text-align: right;\">\n",
       "      <th></th>\n",
       "      <th>date</th>\n",
       "      <th>PM10</th>\n",
       "      <th>NAME</th>\n",
       "      <th>PM10_null_pointers</th>\n",
       "      <th>CO</th>\n",
       "      <th>CO_null_pointers</th>\n",
       "      <th>NO2</th>\n",
       "      <th>NO2_null_pointers</th>\n",
       "    </tr>\n",
       "  </thead>\n",
       "  <tbody>\n",
       "    <tr>\n",
       "      <th>1</th>\n",
       "      <td>2007-01-02</td>\n",
       "      <td>NaN</td>\n",
       "      <td>Centar</td>\n",
       "      <td>0</td>\n",
       "      <td>0.044527</td>\n",
       "      <td>1</td>\n",
       "      <td>NaN</td>\n",
       "      <td>0</td>\n",
       "    </tr>\n",
       "  </tbody>\n",
       "</table>\n",
       "</div>"
      ],
      "text/plain": [
       "        date  PM10    NAME  PM10_null_pointers        CO  CO_null_pointers  \\\n",
       "1 2007-01-02   NaN  Centar                   0  0.044527                 1   \n",
       "\n",
       "   NO2  NO2_null_pointers  \n",
       "1  NaN                  0  "
      ]
     },
     "execution_count": 217,
     "metadata": {},
     "output_type": "execute_result"
    }
   ],
   "source": [
    "df_Normalized[1:2]"
   ]
  },
  {
   "cell_type": "code",
   "execution_count": 218,
   "metadata": {
    "collapsed": false
   },
   "outputs": [],
   "source": [
    "df_Normalized['O3'] = NewDataFrameListNormalized_1[2]['O3']\n",
    "df_Normalized['O3_null_pointers'] = NewDataFrameListNormalized_1[2]['O3 indicators']"
   ]
  },
  {
   "cell_type": "code",
   "execution_count": 219,
   "metadata": {
    "collapsed": false
   },
   "outputs": [
    {
     "data": {
      "text/html": [
       "<div>\n",
       "<table border=\"1\" class=\"dataframe\">\n",
       "  <thead>\n",
       "    <tr style=\"text-align: right;\">\n",
       "      <th></th>\n",
       "      <th>date</th>\n",
       "      <th>PM10</th>\n",
       "      <th>NAME</th>\n",
       "      <th>PM10_null_pointers</th>\n",
       "      <th>CO</th>\n",
       "      <th>CO_null_pointers</th>\n",
       "      <th>NO2</th>\n",
       "      <th>NO2_null_pointers</th>\n",
       "      <th>O3</th>\n",
       "      <th>O3_null_pointers</th>\n",
       "    </tr>\n",
       "  </thead>\n",
       "  <tbody>\n",
       "    <tr>\n",
       "      <th>1</th>\n",
       "      <td>2007-01-02</td>\n",
       "      <td>NaN</td>\n",
       "      <td>Centar</td>\n",
       "      <td>0</td>\n",
       "      <td>0.044527</td>\n",
       "      <td>1</td>\n",
       "      <td>NaN</td>\n",
       "      <td>0</td>\n",
       "      <td>NaN</td>\n",
       "      <td>0</td>\n",
       "    </tr>\n",
       "    <tr>\n",
       "      <th>2</th>\n",
       "      <td>2007-01-02</td>\n",
       "      <td>NaN</td>\n",
       "      <td>Lisice</td>\n",
       "      <td>0</td>\n",
       "      <td>0.058631</td>\n",
       "      <td>1</td>\n",
       "      <td>NaN</td>\n",
       "      <td>0</td>\n",
       "      <td>NaN</td>\n",
       "      <td>0</td>\n",
       "    </tr>\n",
       "  </tbody>\n",
       "</table>\n",
       "</div>"
      ],
      "text/plain": [
       "        date  PM10    NAME  PM10_null_pointers        CO  CO_null_pointers  \\\n",
       "1 2007-01-02   NaN  Centar                   0  0.044527                 1   \n",
       "2 2007-01-02   NaN  Lisice                   0  0.058631                 1   \n",
       "\n",
       "   NO2  NO2_null_pointers  O3  O3_null_pointers  \n",
       "1  NaN                  0 NaN                 0  \n",
       "2  NaN                  0 NaN                 0  "
      ]
     },
     "execution_count": 219,
     "metadata": {},
     "output_type": "execute_result"
    }
   ],
   "source": [
    "df_Normalized[1:3]"
   ]
  },
  {
   "cell_type": "code",
   "execution_count": 220,
   "metadata": {
    "collapsed": true
   },
   "outputs": [],
   "source": [
    "df_Normalized['PM25'] = NewDataFrameListNormalized_1[3]['PM25']\n",
    "df_Normalized['PM25_null_pointers'] = NewDataFrameListNormalized_1[3]['PM25 indicators']"
   ]
  },
  {
   "cell_type": "code",
   "execution_count": 221,
   "metadata": {
    "collapsed": false
   },
   "outputs": [
    {
     "data": {
      "text/html": [
       "<div>\n",
       "<table border=\"1\" class=\"dataframe\">\n",
       "  <thead>\n",
       "    <tr style=\"text-align: right;\">\n",
       "      <th></th>\n",
       "      <th>date</th>\n",
       "      <th>PM10</th>\n",
       "      <th>NAME</th>\n",
       "      <th>PM10_null_pointers</th>\n",
       "      <th>CO</th>\n",
       "      <th>CO_null_pointers</th>\n",
       "      <th>NO2</th>\n",
       "      <th>NO2_null_pointers</th>\n",
       "      <th>O3</th>\n",
       "      <th>O3_null_pointers</th>\n",
       "      <th>PM25</th>\n",
       "      <th>PM25_null_pointers</th>\n",
       "    </tr>\n",
       "  </thead>\n",
       "  <tbody>\n",
       "    <tr>\n",
       "      <th>1</th>\n",
       "      <td>2007-01-02</td>\n",
       "      <td>NaN</td>\n",
       "      <td>Centar</td>\n",
       "      <td>0</td>\n",
       "      <td>0.044527</td>\n",
       "      <td>1</td>\n",
       "      <td>NaN</td>\n",
       "      <td>0</td>\n",
       "      <td>NaN</td>\n",
       "      <td>0</td>\n",
       "      <td>NaN</td>\n",
       "      <td>0</td>\n",
       "    </tr>\n",
       "    <tr>\n",
       "      <th>2</th>\n",
       "      <td>2007-01-02</td>\n",
       "      <td>NaN</td>\n",
       "      <td>Lisice</td>\n",
       "      <td>0</td>\n",
       "      <td>0.058631</td>\n",
       "      <td>1</td>\n",
       "      <td>NaN</td>\n",
       "      <td>0</td>\n",
       "      <td>NaN</td>\n",
       "      <td>0</td>\n",
       "      <td>NaN</td>\n",
       "      <td>0</td>\n",
       "    </tr>\n",
       "    <tr>\n",
       "      <th>3</th>\n",
       "      <td>2007-01-02</td>\n",
       "      <td>0.118376</td>\n",
       "      <td>Rektorat</td>\n",
       "      <td>1</td>\n",
       "      <td>0.033949</td>\n",
       "      <td>1</td>\n",
       "      <td>0.013418</td>\n",
       "      <td>1</td>\n",
       "      <td>-0.081297</td>\n",
       "      <td>1</td>\n",
       "      <td>NaN</td>\n",
       "      <td>0</td>\n",
       "    </tr>\n",
       "  </tbody>\n",
       "</table>\n",
       "</div>"
      ],
      "text/plain": [
       "        date      PM10      NAME  PM10_null_pointers        CO  \\\n",
       "1 2007-01-02       NaN    Centar                   0  0.044527   \n",
       "2 2007-01-02       NaN    Lisice                   0  0.058631   \n",
       "3 2007-01-02  0.118376  Rektorat                   1  0.033949   \n",
       "\n",
       "   CO_null_pointers       NO2  NO2_null_pointers        O3  O3_null_pointers  \\\n",
       "1                 1       NaN                  0       NaN                 0   \n",
       "2                 1       NaN                  0       NaN                 0   \n",
       "3                 1  0.013418                  1 -0.081297                 1   \n",
       "\n",
       "   PM25  PM25_null_pointers  \n",
       "1   NaN                   0  \n",
       "2   NaN                   0  \n",
       "3   NaN                   0  "
      ]
     },
     "execution_count": 221,
     "metadata": {},
     "output_type": "execute_result"
    }
   ],
   "source": [
    "df_Normalized[1:4]"
   ]
  },
  {
   "cell_type": "markdown",
   "metadata": {},
   "source": [
    "<p><b> Differenced Data set  </b></p>"
   ]
  },
  {
   "cell_type": "code",
   "execution_count": 222,
   "metadata": {
    "collapsed": true
   },
   "outputs": [],
   "source": [
    "df_differenced_full = df_Normalized.copy(deep=True)"
   ]
  },
  {
   "cell_type": "code",
   "execution_count": 223,
   "metadata": {
    "collapsed": false
   },
   "outputs": [
    {
     "data": {
      "text/html": [
       "<div>\n",
       "<table border=\"1\" class=\"dataframe\">\n",
       "  <thead>\n",
       "    <tr style=\"text-align: right;\">\n",
       "      <th></th>\n",
       "      <th>date</th>\n",
       "      <th>PM10</th>\n",
       "      <th>NAME</th>\n",
       "      <th>PM10_null_pointers</th>\n",
       "      <th>CO</th>\n",
       "      <th>CO_null_pointers</th>\n",
       "      <th>NO2</th>\n",
       "      <th>NO2_null_pointers</th>\n",
       "      <th>O3</th>\n",
       "      <th>O3_null_pointers</th>\n",
       "      <th>PM25</th>\n",
       "      <th>PM25_null_pointers</th>\n",
       "    </tr>\n",
       "  </thead>\n",
       "  <tbody>\n",
       "    <tr>\n",
       "      <th>1</th>\n",
       "      <td>2007-01-02</td>\n",
       "      <td>NaN</td>\n",
       "      <td>Centar</td>\n",
       "      <td>0</td>\n",
       "      <td>0.044527</td>\n",
       "      <td>1</td>\n",
       "      <td>NaN</td>\n",
       "      <td>0</td>\n",
       "      <td>NaN</td>\n",
       "      <td>0</td>\n",
       "      <td>NaN</td>\n",
       "      <td>0</td>\n",
       "    </tr>\n",
       "    <tr>\n",
       "      <th>2</th>\n",
       "      <td>2007-01-02</td>\n",
       "      <td>NaN</td>\n",
       "      <td>Lisice</td>\n",
       "      <td>0</td>\n",
       "      <td>0.058631</td>\n",
       "      <td>1</td>\n",
       "      <td>NaN</td>\n",
       "      <td>0</td>\n",
       "      <td>NaN</td>\n",
       "      <td>0</td>\n",
       "      <td>NaN</td>\n",
       "      <td>0</td>\n",
       "    </tr>\n",
       "  </tbody>\n",
       "</table>\n",
       "</div>"
      ],
      "text/plain": [
       "        date  PM10    NAME  PM10_null_pointers        CO  CO_null_pointers  \\\n",
       "1 2007-01-02   NaN  Centar                   0  0.044527                 1   \n",
       "2 2007-01-02   NaN  Lisice                   0  0.058631                 1   \n",
       "\n",
       "   NO2  NO2_null_pointers  O3  O3_null_pointers  PM25  PM25_null_pointers  \n",
       "1  NaN                  0 NaN                 0   NaN                   0  \n",
       "2  NaN                  0 NaN                 0   NaN                   0  "
      ]
     },
     "execution_count": 223,
     "metadata": {},
     "output_type": "execute_result"
    }
   ],
   "source": [
    "df_differenced_full[1:3]"
   ]
  },
  {
   "cell_type": "code",
   "execution_count": 224,
   "metadata": {
    "collapsed": true
   },
   "outputs": [],
   "source": [
    "df_differenced_full.fillna(0,inplace=True)   #fill na to compute first difference "
   ]
  },
  {
   "cell_type": "code",
   "execution_count": 225,
   "metadata": {
    "collapsed": true
   },
   "outputs": [],
   "source": [
    "df_differenced_full.PM10 = first_difference(df_differenced_full.PM10) # first Difference PM10"
   ]
  },
  {
   "cell_type": "code",
   "execution_count": 226,
   "metadata": {
    "collapsed": true
   },
   "outputs": [],
   "source": [
    "df_differenced_full.CO = first_difference(df_differenced_full.CO) # first difference CO"
   ]
  },
  {
   "cell_type": "code",
   "execution_count": 227,
   "metadata": {
    "collapsed": true
   },
   "outputs": [],
   "source": [
    "df_differenced_full.NO2 =  first_difference(df_differenced_full.NO2) # first difference NO2"
   ]
  },
  {
   "cell_type": "code",
   "execution_count": 228,
   "metadata": {
    "collapsed": true
   },
   "outputs": [],
   "source": [
    "df_differenced_full.O3 =  first_difference(df_differenced_full.O3) # first difference O3"
   ]
  },
  {
   "cell_type": "code",
   "execution_count": 229,
   "metadata": {
    "collapsed": true
   },
   "outputs": [],
   "source": [
    "df_differenced_full.PM25=  first_difference(df_differenced_full.PM25) # first difference O3"
   ]
  },
  {
   "cell_type": "code",
   "execution_count": 230,
   "metadata": {
    "collapsed": false
   },
   "outputs": [
    {
     "data": {
      "text/html": [
       "<div>\n",
       "<table border=\"1\" class=\"dataframe\">\n",
       "  <thead>\n",
       "    <tr style=\"text-align: right;\">\n",
       "      <th></th>\n",
       "      <th>date</th>\n",
       "      <th>PM10</th>\n",
       "      <th>NAME</th>\n",
       "      <th>PM10_null_pointers</th>\n",
       "      <th>CO</th>\n",
       "      <th>CO_null_pointers</th>\n",
       "      <th>NO2</th>\n",
       "      <th>NO2_null_pointers</th>\n",
       "      <th>O3</th>\n",
       "      <th>O3_null_pointers</th>\n",
       "      <th>PM25</th>\n",
       "      <th>PM25_null_pointers</th>\n",
       "    </tr>\n",
       "  </thead>\n",
       "  <tbody>\n",
       "    <tr>\n",
       "      <th>1</th>\n",
       "      <td>2007-01-02</td>\n",
       "      <td>0.000000</td>\n",
       "      <td>Centar</td>\n",
       "      <td>0</td>\n",
       "      <td>0.044527</td>\n",
       "      <td>1</td>\n",
       "      <td>0.000000</td>\n",
       "      <td>0</td>\n",
       "      <td>0.000000</td>\n",
       "      <td>0</td>\n",
       "      <td>0.0</td>\n",
       "      <td>0</td>\n",
       "    </tr>\n",
       "    <tr>\n",
       "      <th>2</th>\n",
       "      <td>2007-01-02</td>\n",
       "      <td>0.000000</td>\n",
       "      <td>Lisice</td>\n",
       "      <td>0</td>\n",
       "      <td>0.014104</td>\n",
       "      <td>1</td>\n",
       "      <td>0.000000</td>\n",
       "      <td>0</td>\n",
       "      <td>0.000000</td>\n",
       "      <td>0</td>\n",
       "      <td>0.0</td>\n",
       "      <td>0</td>\n",
       "    </tr>\n",
       "    <tr>\n",
       "      <th>3</th>\n",
       "      <td>2007-01-02</td>\n",
       "      <td>0.118376</td>\n",
       "      <td>Rektorat</td>\n",
       "      <td>1</td>\n",
       "      <td>-0.024683</td>\n",
       "      <td>1</td>\n",
       "      <td>0.013418</td>\n",
       "      <td>1</td>\n",
       "      <td>-0.081297</td>\n",
       "      <td>1</td>\n",
       "      <td>0.0</td>\n",
       "      <td>0</td>\n",
       "    </tr>\n",
       "    <tr>\n",
       "      <th>4</th>\n",
       "      <td>2007-01-02</td>\n",
       "      <td>-0.118376</td>\n",
       "      <td>Mrsevci</td>\n",
       "      <td>0</td>\n",
       "      <td>-0.033949</td>\n",
       "      <td>0</td>\n",
       "      <td>-0.003065</td>\n",
       "      <td>1</td>\n",
       "      <td>0.081297</td>\n",
       "      <td>0</td>\n",
       "      <td>0.0</td>\n",
       "      <td>0</td>\n",
       "    </tr>\n",
       "  </tbody>\n",
       "</table>\n",
       "</div>"
      ],
      "text/plain": [
       "        date      PM10      NAME  PM10_null_pointers        CO  \\\n",
       "1 2007-01-02  0.000000    Centar                   0  0.044527   \n",
       "2 2007-01-02  0.000000    Lisice                   0  0.014104   \n",
       "3 2007-01-02  0.118376  Rektorat                   1 -0.024683   \n",
       "4 2007-01-02 -0.118376   Mrsevci                   0 -0.033949   \n",
       "\n",
       "   CO_null_pointers       NO2  NO2_null_pointers        O3  O3_null_pointers  \\\n",
       "1                 1  0.000000                  0  0.000000                 0   \n",
       "2                 1  0.000000                  0  0.000000                 0   \n",
       "3                 1  0.013418                  1 -0.081297                 1   \n",
       "4                 0 -0.003065                  1  0.081297                 0   \n",
       "\n",
       "   PM25  PM25_null_pointers  \n",
       "1   0.0                   0  \n",
       "2   0.0                   0  \n",
       "3   0.0                   0  \n",
       "4   0.0                   0  "
      ]
     },
     "execution_count": 230,
     "metadata": {},
     "output_type": "execute_result"
    }
   ],
   "source": [
    "df_differenced_full[1:5]"
   ]
  },
  {
   "cell_type": "code",
   "execution_count": 231,
   "metadata": {
    "collapsed": true
   },
   "outputs": [],
   "source": [
    "import pickle as pick\n",
    "with open('difference_full', 'wb') as fp:\n",
    "    pick.dump(df_differenced_full, fp)"
   ]
  },
  {
   "cell_type": "code",
   "execution_count": 232,
   "metadata": {
    "collapsed": true
   },
   "outputs": [],
   "source": [
    "import pickle as pick\n",
    "with open('Normalized_full', 'wb') as fp:\n",
    "    pick.dump(df_Normalized, fp)"
   ]
  },
  {
   "cell_type": "code",
   "execution_count": 233,
   "metadata": {
    "collapsed": true
   },
   "outputs": [],
   "source": [
    "import pickle as pick\n",
    "with open('Standardized_full', 'wb') as fp:\n",
    "    pick.dump(df_Standardized, fp)"
   ]
  },
  {
   "cell_type": "code",
   "execution_count": 297,
   "metadata": {
    "collapsed": false
   },
   "outputs": [],
   "source": [
    "with open ('featureset_0', 'rb') as fp:\n",
    "    itemlist = pick.load(fp)"
   ]
  },
  {
   "cell_type": "code",
   "execution_count": 6,
   "metadata": {
    "collapsed": false
   },
   "outputs": [
    {
     "data": {
      "text/plain": [
       "'/Users/Seychelles/Desktop/GoogleTensorflow/Data_Collector'"
      ]
     },
     "execution_count": 6,
     "metadata": {},
     "output_type": "execute_result"
    }
   ],
   "source": [
    "%pwd"
   ]
  },
  {
   "cell_type": "code",
   "execution_count": 7,
   "metadata": {
    "collapsed": false
   },
   "outputs": [
    {
     "name": "stdout",
     "output_type": "stream",
     "text": [
      "/Users/Seychelles/Desktop/GoogleTensorflow/Data_Collector/CSV_file_from_2007_to_2017\n"
     ]
    }
   ],
   "source": [
    "% cd CSV_file_from_2007_to_2017/"
   ]
  },
  {
   "cell_type": "code",
   "execution_count": 5,
   "metadata": {
    "collapsed": true
   },
   "outputs": [],
   "source": [
    "import pickle as pick\n"
   ]
  },
  {
   "cell_type": "code",
   "execution_count": 234,
   "metadata": {
    "collapsed": false
   },
   "outputs": [],
   "source": [
    "# load data set using pickle again\n",
    "\n",
    "with open ('Standardized_full', 'rb') as fp:\n",
    "    itemlist = pick.load(fp)"
   ]
  },
  {
   "cell_type": "code",
   "execution_count": 236,
   "metadata": {
    "collapsed": false
   },
   "outputs": [
    {
     "data": {
      "text/html": [
       "<div>\n",
       "<table border=\"1\" class=\"dataframe\">\n",
       "  <thead>\n",
       "    <tr style=\"text-align: right;\">\n",
       "      <th></th>\n",
       "      <th>date</th>\n",
       "      <th>PM10</th>\n",
       "      <th>NAME</th>\n",
       "      <th>PM10_null_pointers</th>\n",
       "      <th>CO</th>\n",
       "      <th>CO_null_pointers</th>\n",
       "      <th>NO2</th>\n",
       "      <th>NO2_null_pointers</th>\n",
       "      <th>O3</th>\n",
       "      <th>O3_null_pointers</th>\n",
       "      <th>PM25</th>\n",
       "      <th>PM25_null_pointers</th>\n",
       "    </tr>\n",
       "  </thead>\n",
       "  <tbody>\n",
       "    <tr>\n",
       "      <th>1</th>\n",
       "      <td>2007-01-02</td>\n",
       "      <td>NaN</td>\n",
       "      <td>Centar</td>\n",
       "      <td>0</td>\n",
       "      <td>1.460885</td>\n",
       "      <td>1</td>\n",
       "      <td>NaN</td>\n",
       "      <td>0</td>\n",
       "      <td>NaN</td>\n",
       "      <td>0</td>\n",
       "      <td>NaN</td>\n",
       "      <td>0</td>\n",
       "    </tr>\n",
       "  </tbody>\n",
       "</table>\n",
       "</div>"
      ],
      "text/plain": [
       "        date  PM10    NAME  PM10_null_pointers        CO  CO_null_pointers  \\\n",
       "1 2007-01-02   NaN  Centar                   0  1.460885                 1   \n",
       "\n",
       "   NO2  NO2_null_pointers  O3  O3_null_pointers  PM25  PM25_null_pointers  \n",
       "1  NaN                  0 NaN                 0   NaN                   0  "
      ]
     },
     "execution_count": 236,
     "metadata": {},
     "output_type": "execute_result"
    }
   ],
   "source": [
    "itemlist[1:2]"
   ]
  },
  {
   "cell_type": "code",
   "execution_count": 237,
   "metadata": {
    "collapsed": true
   },
   "outputs": [],
   "source": [
    "PM10 = itemlist.PM10.copy(deep=True)"
   ]
  },
  {
   "cell_type": "code",
   "execution_count": 238,
   "metadata": {
    "collapsed": false
   },
   "outputs": [],
   "source": [
    "PM10.fillna(0,inplace=True)"
   ]
  },
  {
   "cell_type": "code",
   "execution_count": null,
   "metadata": {
    "collapsed": false
   },
   "outputs": [],
   "source": []
  },
  {
   "cell_type": "markdown",
   "metadata": {},
   "source": [
    "# PM10  Transformation"
   ]
  },
  {
   "cell_type": "markdown",
   "metadata": {},
   "source": [
    "We plot histogram of PM10 before standardization and we can observe that there are no zero values initially. We have a total 27 zeros and 25513 Nan. It is this value that contribite to the spike at zero.\n"
   ]
  },
  {
   "cell_type": "code",
   "execution_count": 239,
   "metadata": {
    "collapsed": false
   },
   "outputs": [
    {
     "data": {
      "text/plain": [
       "<matplotlib.text.Text at 0x169b145f8>"
      ]
     },
     "execution_count": 239,
     "metadata": {},
     "output_type": "execute_result"
    },
    {
     "data": {
      "image/png": "[encoded data removed]",
      "text/plain": [
       "<matplotlib.figure.Figure at 0x15cc21828>"
      ]
     },
     "metadata": {},
     "output_type": "display_data"
    }
   ],
   "source": [
    "fig, ax = plt.subplots()\n",
    "df_n.PM10.hist(ax=ax,bins=2000,color='blue',bottom=0.1)\n",
    "ax.set_yscale('log')\n",
    "#ax.set_yscale('log')\n",
    "#ax.set_xscale('log')\n",
    "\n",
    "plt.title(\"Histogram Plot PM10 With logScale on x-axis without Standardization\")\n",
    "plt.ylabel(\"Frequency\")\n",
    "plt.xlabel(\"Impurity Values\")\n"
   ]
  },
  {
   "cell_type": "code",
   "execution_count": 69,
   "metadata": {
    "collapsed": false
   },
   "outputs": [
    {
     "data": {
      "text/plain": [
       "<matplotlib.text.Text at 0x157cbf160>"
      ]
     },
     "execution_count": 69,
     "metadata": {},
     "output_type": "execute_result"
    },
    {
     "data": {
      "image/png": "[encoded data removed]",
      "text/plain": [
       "<matplotlib.figure.Figure at 0x1579c3588>"
      ]
     },
     "metadata": {},
     "output_type": "display_data"
    }
   ],
   "source": [
    "fig, ax = plt.subplots()\n",
    "df_n.PM10.hist(ax=ax,bins=2000,color='blue',bottom=0.1)\n",
    "ax.set_yscale('log')\n",
    "#ax.set_yscale('log')\n",
    "ax.set_xscale('log')\n",
    "\n",
    "plt.title(\"Histogram Plot PM10 With logScale on x-axis without Standardization\")\n",
    "plt.ylabel(\"Frequency\")\n",
    "plt.xlabel(\"Impurity Values\")"
   ]
  },
  {
   "cell_type": "code",
   "execution_count": 70,
   "metadata": {
    "collapsed": false
   },
   "outputs": [
    {
     "data": {
      "text/plain": [
       "<matplotlib.text.Text at 0x15b73bcc0>"
      ]
     },
     "execution_count": 70,
     "metadata": {},
     "output_type": "execute_result"
    },
    {
     "data": {
      "image/png": "[encoded data removed]",
      "text/plain": [
       "<matplotlib.figure.Figure at 0x157cbc2e8>"
      ]
     },
     "metadata": {},
     "output_type": "display_data"
    }
   ],
   "source": [
    "fig, ax = plt.subplots()\n",
    "df_n.PM10.hist(ax=ax,bins=200,color='blue',bottom=0.1)\n",
    "ax.set_yscale('log')\n",
    "#ax.set_yscale('log')\n",
    "ax.set_xscale('log')\n",
    "\n",
    "plt.title(\"Histogram Plot PM10 With logScale on x-axis without Standardization\")\n",
    "plt.ylabel(\"Frequency\")\n",
    "plt.xlabel(\"Impurity Values\")"
   ]
  },
  {
   "cell_type": "markdown",
   "metadata": {},
   "source": [
    "<p><b> PM10 after standardization </b> </p>"
   ]
  },
  {
   "cell_type": "code",
   "execution_count": 68,
   "metadata": {
    "collapsed": false
   },
   "outputs": [
    {
     "data": {
      "text/plain": [
       "<matplotlib.text.Text at 0x15236f6a0>"
      ]
     },
     "execution_count": 68,
     "metadata": {},
     "output_type": "execute_result"
    },
    {
     "data": {
      "image/png": "[encoded data removed]",
      "text/plain": [
       "<matplotlib.figure.Figure at 0x1523810b8>"
      ]
     },
     "metadata": {},
     "output_type": "display_data"
    }
   ],
   "source": [
    "fig, ax = plt.subplots()\n",
    "PM10.hist(ax=ax,bins=2000,color='blue',bottom=0.1)\n",
    "ax.set_yscale('log')\n",
    "#ax.set_yscale('log')\n",
    "#ax.set_xscale('log')\n",
    "\n",
    "plt.title(\"Histogram Plot PM10 With logScale on x-axis after Standardization\")\n",
    "plt.ylabel(\"Frequency\")\n",
    "plt.xlabel(\"Impurity Values\")"
   ]
  },
  {
   "cell_type": "code",
   "execution_count": 72,
   "metadata": {
    "collapsed": false
   },
   "outputs": [
    {
     "data": {
      "text/plain": [
       "<matplotlib.text.Text at 0x15bf769e8>"
      ]
     },
     "execution_count": 72,
     "metadata": {},
     "output_type": "execute_result"
    },
    {
     "data": {
      "image/png": "[encoded data removed]",
      "text/plain": [
       "<matplotlib.figure.Figure at 0x15d779c18>"
      ]
     },
     "metadata": {},
     "output_type": "display_data"
    }
   ],
   "source": [
    "fig, ax = plt.subplots()\n",
    "df_n.PM10.hist(ax=ax,bins=2000,color='blue',bottom=0.1)\n",
    "ax.set_yscale('log')\n",
    "ax.set_xscale('log')\n",
    "plt.title(\"Histogram Plot PM10 With logScale on x-axis After Standardization\")\n",
    "plt.ylabel(\"Frequency\")\n",
    "plt.xlabel(\"Impurity Values\")\n"
   ]
  },
  {
   "cell_type": "markdown",
   "metadata": {},
   "source": [
    "<p><b> Inverse Hyperbolic Function </b></p>"
   ]
  },
  {
   "cell_type": "markdown",
   "metadata": {},
   "source": [
    "<p> We apply Inverse Hyperbolic transformation</p>"
   ]
  },
  {
   "cell_type": "code",
   "execution_count": 329,
   "metadata": {
    "collapsed": false
   },
   "outputs": [],
   "source": [
    "PM10_=PM10.apply(np.arcsinh)"
   ]
  },
  {
   "cell_type": "code",
   "execution_count": 335,
   "metadata": {
    "collapsed": false
   },
   "outputs": [
    {
     "data": {
      "text/plain": [
       "<matplotlib.text.Text at 0x1d696e080>"
      ]
     },
     "execution_count": 335,
     "metadata": {},
     "output_type": "execute_result"
    },
    {
     "data": {
      "image/png": "[encoded data removed]",
      "text/plain": [
       "<matplotlib.figure.Figure at 0x13ddc0e48>"
      ]
     },
     "metadata": {},
     "output_type": "display_data"
    }
   ],
   "source": [
    "import gc;\n",
    "gc.collect();\n",
    "fig, ax = plt.subplots()\n",
    "PM10_.hist(ax=ax,bins=2000,color='blue',bottom=0.1)\n",
    "ax.set_yscale('log')\n",
    "#ax.set_yscale('log')\n",
    "#ax.set_xscale('log')\n",
    "\n",
    "plt.title(\"Histogram Plot PM10 With logScale on x-axis after Standardization\")\n",
    "plt.ylabel(\"Frequency\")\n",
    "plt.xlabel(\"Impurity Values\")"
   ]
  },
  {
   "cell_type": "code",
   "execution_count": 336,
   "metadata": {
    "collapsed": false,
    "scrolled": true
   },
   "outputs": [
    {
     "data": {
      "text/plain": [
       "<matplotlib.text.Text at 0x196cae860>"
      ]
     },
     "execution_count": 336,
     "metadata": {},
     "output_type": "execute_result"
    },
    {
     "data": {
      "image/png": "[encoded data removed]",
      "text/plain": [
       "<matplotlib.figure.Figure at 0x196ca0c18>"
      ]
     },
     "metadata": {},
     "output_type": "display_data"
    }
   ],
   "source": [
    "\n",
    "fig, ax = plt.subplots()\n",
    "PM10_.hist(ax=ax,bins='auto',color='blue',bottom=0.01)\n",
    "ax.set_yscale('log')\n",
    "#ax.set_yscale('log')\n",
    "ax.set_xscale('log')\n",
    "\n",
    "plt.title(\"Histogram Plot PM10 With logScale on x-axis after Standardization\")\n",
    "plt.ylabel(\"Frequency\")\n",
    "plt.xlabel(\"Impurity Values\")"
   ]
  },
  {
   "cell_type": "markdown",
   "metadata": {},
   "source": [
    "<p><b> Box Cox Transformation </b></p>"
   ]
  },
  {
   "cell_type": "markdown",
   "metadata": {
    "collapsed": true
   },
   "source": [
    "<p> We have to get the required parameters for Box cos Transformation </p>\n",
    "<p> Before this we note that Box cox does not work when we have zeros as values</p>\n",
    "<p> We therefore make use of extended Box Cos. We first test the pandas library </p>\n",
    "Reference: Extended Box Cox : https://www.ime.usp.br/~abe/lista/pdfm9cJKUmFZp.pdf"
   ]
  },
  {
   "cell_type": "code",
   "execution_count": 49,
   "metadata": {
    "collapsed": true
   },
   "outputs": [],
   "source": [
    "from scipy import stats"
   ]
  },
  {
   "cell_type": "code",
   "execution_count": 52,
   "metadata": {
    "collapsed": true
   },
   "outputs": [],
   "source": [
    "y, lmax_mle = stats.boxcox(PM10+0.9)"
   ]
  },
  {
   "cell_type": "code",
   "execution_count": 53,
   "metadata": {
    "collapsed": true
   },
   "outputs": [],
   "source": [
    "lmax_pearsonr = stats.boxcox_normmax(PM10+0.9)"
   ]
  },
  {
   "cell_type": "code",
   "execution_count": 54,
   "metadata": {
    "collapsed": false
   },
   "outputs": [
    {
     "data": {
      "text/plain": [
       "0.20521243338784251"
      ]
     },
     "execution_count": 54,
     "metadata": {},
     "output_type": "execute_result"
    }
   ],
   "source": [
    "lmax_mle"
   ]
  },
  {
   "cell_type": "code",
   "execution_count": 55,
   "metadata": {
    "collapsed": false
   },
   "outputs": [
    {
     "data": {
      "text/plain": [
       "0.16758180933394051"
      ]
     },
     "execution_count": 55,
     "metadata": {},
     "output_type": "execute_result"
    }
   ],
   "source": [
    "lmax_pearsonr"
   ]
  },
  {
   "cell_type": "code",
   "execution_count": 56,
   "metadata": {
    "collapsed": false
   },
   "outputs": [
    {
     "data": {
      "text/plain": [
       "array([ 0.00100555,  0.03995181])"
      ]
     },
     "execution_count": 56,
     "metadata": {},
     "output_type": "execute_result"
    }
   ],
   "source": [
    "stats.boxcox_normmax(PM10+1, method='all')"
   ]
  },
  {
   "cell_type": "code",
   "execution_count": 57,
   "metadata": {
    "collapsed": false
   },
   "outputs": [
    {
     "data": {
      "text/plain": [
       "<matplotlib.lines.Line2D at 0x119d89710>"
      ]
     },
     "execution_count": 57,
     "metadata": {},
     "output_type": "execute_result"
    },
    {
     "data": {
      "image/png": "[encoded data removed]",
      "text/plain": [
       "<matplotlib.figure.Figure at 0x120971710>"
      ]
     },
     "metadata": {},
     "output_type": "display_data"
    }
   ],
   "source": [
    "fig = plt.figure()\n",
    "ax = fig.add_subplot(111)\n",
    "prob = stats.boxcox_normplot(PM10.values+1, -0.01,0.05, plot=ax)\n",
    "# prob = stats.boxcox_normplot(x, -10, 10, plot=ax)\n",
    "ax.axvline(lmax_mle, color='r')\n",
    "ax.axvline(lmax_pearsonr, color='g', ls='--')\n"
   ]
  },
  {
   "cell_type": "code",
   "execution_count": null,
   "metadata": {
    "collapsed": true
   },
   "outputs": [],
   "source": []
  },
  {
   "cell_type": "markdown",
   "metadata": {},
   "source": [
    "Extended Box Cox : https://www.ime.usp.br/~abe/lista/pdfm9cJKUmFZp.pdf"
   ]
  },
  {
   "cell_type": "code",
   "execution_count": 58,
   "metadata": {
    "collapsed": true
   },
   "outputs": [],
   "source": [
    "def funct(vec):\n",
    "    '''\n",
    "    Extended Box Cox when there are negative values\n",
    "    '''\n",
    "    lambda_1=0.20521243338784251;\n",
    "    lambda_2=0.9; # choose lamda3 so that \n",
    "   \n",
    "    vec=vec+lambda_2\n",
    "    p1=(pow(vec,lambda_1)-1)/lambda_1\n",
    "        #print(p1)\n",
    "        #print(p1)\n",
    "        #print(p)\n",
    "        #pp.append(p1)\n",
    "   \n",
    "    return (p1)   "
   ]
  },
  {
   "cell_type": "code",
   "execution_count": 59,
   "metadata": {
    "collapsed": false
   },
   "outputs": [],
   "source": [
    "PM10_2=PM10.apply(funct)"
   ]
  },
  {
   "cell_type": "code",
   "execution_count": null,
   "metadata": {
    "collapsed": false
   },
   "outputs": [],
   "source": []
  },
  {
   "cell_type": "code",
   "execution_count": 337,
   "metadata": {
    "collapsed": false
   },
   "outputs": [
    {
     "data": {
      "image/png": "[encoded data removed]",
      "text/plain": [
       "<matplotlib.figure.Figure at 0x199b49eb8>"
      ]
     },
     "metadata": {},
     "output_type": "display_data"
    }
   ],
   "source": [
    "fig, ax = plt.subplots()\n",
    "PM10_2.hist(ax=ax,bins=200,color='blue',bottom=0.1)\n",
    "ax.set_yscale('log')\n",
    "#ax.set_yscale('log')\n",
    "#ax.set_xscale('log')\n",
    "#plt.hist(PM10_cox, bins='auto')  # plt.hist passes it's arguments to np.histogram\n",
    "\n",
    "plt.title(\"Histogram Plot PM10 With logScale on x-axis after Standardization\")\n",
    "plt.ylabel(\"Frequency\")\n",
    "plt.xlabel(\"Impurity Values\")\n",
    "plt.show()"
   ]
  },
  {
   "cell_type": "markdown",
   "metadata": {},
   "source": [
    "# Try Another parameter in the Cox Box"
   ]
  },
  {
   "cell_type": "code",
   "execution_count": 298,
   "metadata": {
    "collapsed": true
   },
   "outputs": [],
   "source": [
    "def funct2(vec):\n",
    "    '''\n",
    "    Extended Box Cox when there are negative values\n",
    "    '''\n",
    "    lambda_1=0.199951808712472593;\n",
    "    lambda_2=0.9; # choose lamda3 so that \n",
    "   \n",
    "    vec=vec+lambda_2\n",
    "    p1=(pow(vec,lambda_1)-1)/lambda_1\n",
    "        #print(p1)\n",
    "        #print(p1)\n",
    "        #print(p)\n",
    "        #pp.append(p1)\n",
    "   \n",
    "    return (p1)   "
   ]
  },
  {
   "cell_type": "code",
   "execution_count": 299,
   "metadata": {
    "collapsed": true
   },
   "outputs": [],
   "source": [
    "PM10_4=PM10.apply(funct2)"
   ]
  },
  {
   "cell_type": "code",
   "execution_count": 287,
   "metadata": {
    "collapsed": true
   },
   "outputs": [],
   "source": [
    "ys, lmax_mles = stats.boxcox(PM10+1)"
   ]
  },
  {
   "cell_type": "code",
   "execution_count": 288,
   "metadata": {
    "collapsed": true
   },
   "outputs": [],
   "source": [
    "lmax_pearsonrs = stats.boxcox_normmax(PM10+1)"
   ]
  },
  {
   "cell_type": "code",
   "execution_count": 73,
   "metadata": {
    "collapsed": false
   },
   "outputs": [
    {
     "data": {
      "text/plain": [
       "0.039951808712472593"
      ]
     },
     "execution_count": 73,
     "metadata": {},
     "output_type": "execute_result"
    }
   ],
   "source": [
    "lmax_mles"
   ]
  },
  {
   "cell_type": "code",
   "execution_count": 338,
   "metadata": {
    "collapsed": false
   },
   "outputs": [
    {
     "data": {
      "image/png": "[encoded data removed]",
      "text/plain": [
       "<matplotlib.figure.Figure at 0x1977fccc0>"
      ]
     },
     "metadata": {},
     "output_type": "display_data"
    }
   ],
   "source": [
    "fig, ax = plt.subplots()\n",
    "PM10_4.hist(ax=ax,bins=200,color='blue',bottom=0.1)\n",
    "ax.set_yscale('log')\n",
    "#ax.set_yscale('log')\n",
    "#ax.set_xscale('log')\n",
    "#plt.hist(PM10_cox, bins='auto')  # plt.hist passes it's arguments to np.histogram\n",
    "\n",
    "plt.title(\"Histogram Plot PM10 With logScale on x-axis after Standardization\")\n",
    "plt.ylabel(\"Frequency\")\n",
    "plt.xlabel(\"Impurity Values\")\n",
    "plt.show()"
   ]
  },
  {
   "cell_type": "markdown",
   "metadata": {},
   "source": [
    "# Data Sets for MAchine Learning"
   ]
  },
  {
   "cell_type": "markdown",
   "metadata": {},
   "source": [
    "<p> We prepare data having date and PM10 values as first set. Then we add other impurity information information and see the gain in information. After this, we add weather information and again see the impact.   </p>\n",
    "    1. Datasets (PM10+date)\n",
    "    2. Datasets (PM10+date+other impurities)\n",
    "    3. Datasets (PM10 + date+ other impurities + weather information)"
   ]
  },
  {
   "cell_type": "code",
   "execution_count": 240,
   "metadata": {
    "collapsed": false
   },
   "outputs": [
    {
     "data": {
      "text/plain": [
       "Index(['date', 'PM10', 'NAME', 'PM10_null_pointers', 'CO', 'CO_null_pointers',\n",
       "       'NO2', 'NO2_null_pointers', 'O3', 'O3_null_pointers', 'PM25',\n",
       "       'PM25_null_pointers'],\n",
       "      dtype='object')"
      ]
     },
     "execution_count": 240,
     "metadata": {},
     "output_type": "execute_result"
    }
   ],
   "source": [
    "itemlist.columns"
   ]
  },
  {
   "cell_type": "code",
   "execution_count": 241,
   "metadata": {
    "collapsed": false
   },
   "outputs": [
    {
     "data": {
      "text/plain": [
       "date                  datetime64[ns]\n",
       "PM10                         float64\n",
       "NAME                          object\n",
       "PM10_null_pointers             int64\n",
       "CO                           float64\n",
       "CO_null_pointers               int64\n",
       "NO2                          float64\n",
       "NO2_null_pointers              int64\n",
       "O3                           float64\n",
       "O3_null_pointers               int64\n",
       "PM25                         float64\n",
       "PM25_null_pointers             int64\n",
       "dtype: object"
      ]
     },
     "execution_count": 241,
     "metadata": {},
     "output_type": "execute_result"
    }
   ],
   "source": [
    "itemlist.dtypes # see data types"
   ]
  },
  {
   "cell_type": "code",
   "execution_count": 242,
   "metadata": {
    "collapsed": true
   },
   "outputs": [],
   "source": [
    "#get the months and day values\n",
    "temp = pd.DatetimeIndex(itemlist['date'])\n",
    "#pandas['date'] = temp.date\n",
    "itemlist['time'] = temp.time\n",
    "itemlist['month'] = temp.month\n",
    "itemlist['day'] = temp.day"
   ]
  },
  {
   "cell_type": "code",
   "execution_count": 108,
   "metadata": {
    "collapsed": false
   },
   "outputs": [
    {
     "data": {
      "text/html": [
       "<div>\n",
       "<table border=\"1\" class=\"dataframe\">\n",
       "  <thead>\n",
       "    <tr style=\"text-align: right;\">\n",
       "      <th></th>\n",
       "      <th>date</th>\n",
       "      <th>PM10</th>\n",
       "      <th>PM10_null_pointers</th>\n",
       "      <th>CO</th>\n",
       "      <th>CO_null_pointers</th>\n",
       "      <th>NO2</th>\n",
       "      <th>NO2_null_pointers</th>\n",
       "      <th>O3</th>\n",
       "      <th>O3_null_pointers</th>\n",
       "      <th>PM25</th>\n",
       "      <th>PM25_null_pointers</th>\n",
       "      <th>time</th>\n",
       "      <th>month</th>\n",
       "      <th>day</th>\n",
       "    </tr>\n",
       "  </thead>\n",
       "  <tbody>\n",
       "    <tr>\n",
       "      <th>1</th>\n",
       "      <td>2007-01-02</td>\n",
       "      <td>NaN</td>\n",
       "      <td>-1</td>\n",
       "      <td>1.460885</td>\n",
       "      <td>1</td>\n",
       "      <td>NaN</td>\n",
       "      <td>-1</td>\n",
       "      <td>NaN</td>\n",
       "      <td>-1</td>\n",
       "      <td>NaN</td>\n",
       "      <td>-1</td>\n",
       "      <td>00:00:00</td>\n",
       "      <td>1</td>\n",
       "      <td>2</td>\n",
       "    </tr>\n",
       "    <tr>\n",
       "      <th>2</th>\n",
       "      <td>2007-01-02</td>\n",
       "      <td>NaN</td>\n",
       "      <td>-1</td>\n",
       "      <td>1.923636</td>\n",
       "      <td>1</td>\n",
       "      <td>NaN</td>\n",
       "      <td>-1</td>\n",
       "      <td>NaN</td>\n",
       "      <td>-1</td>\n",
       "      <td>NaN</td>\n",
       "      <td>-1</td>\n",
       "      <td>00:00:00</td>\n",
       "      <td>1</td>\n",
       "      <td>2</td>\n",
       "    </tr>\n",
       "    <tr>\n",
       "      <th>3</th>\n",
       "      <td>2007-01-02</td>\n",
       "      <td>1.499629</td>\n",
       "      <td>1</td>\n",
       "      <td>1.113822</td>\n",
       "      <td>1</td>\n",
       "      <td>1.412657</td>\n",
       "      <td>1</td>\n",
       "      <td>-0.839846</td>\n",
       "      <td>1</td>\n",
       "      <td>NaN</td>\n",
       "      <td>-1</td>\n",
       "      <td>00:00:00</td>\n",
       "      <td>1</td>\n",
       "      <td>2</td>\n",
       "    </tr>\n",
       "    <tr>\n",
       "      <th>4</th>\n",
       "      <td>2007-01-02</td>\n",
       "      <td>NaN</td>\n",
       "      <td>-1</td>\n",
       "      <td>NaN</td>\n",
       "      <td>-1</td>\n",
       "      <td>1.090017</td>\n",
       "      <td>1</td>\n",
       "      <td>NaN</td>\n",
       "      <td>-1</td>\n",
       "      <td>NaN</td>\n",
       "      <td>-1</td>\n",
       "      <td>00:00:00</td>\n",
       "      <td>1</td>\n",
       "      <td>2</td>\n",
       "    </tr>\n",
       "    <tr>\n",
       "      <th>5</th>\n",
       "      <td>2007-01-02</td>\n",
       "      <td>NaN</td>\n",
       "      <td>-1</td>\n",
       "      <td>0.963428</td>\n",
       "      <td>1</td>\n",
       "      <td>NaN</td>\n",
       "      <td>-1</td>\n",
       "      <td>NaN</td>\n",
       "      <td>-1</td>\n",
       "      <td>NaN</td>\n",
       "      <td>-1</td>\n",
       "      <td>00:00:00</td>\n",
       "      <td>1</td>\n",
       "      <td>2</td>\n",
       "    </tr>\n",
       "    <tr>\n",
       "      <th>6</th>\n",
       "      <td>2007-01-02</td>\n",
       "      <td>NaN</td>\n",
       "      <td>-1</td>\n",
       "      <td>1.460885</td>\n",
       "      <td>1</td>\n",
       "      <td>NaN</td>\n",
       "      <td>-1</td>\n",
       "      <td>NaN</td>\n",
       "      <td>-1</td>\n",
       "      <td>NaN</td>\n",
       "      <td>-1</td>\n",
       "      <td>00:00:00</td>\n",
       "      <td>1</td>\n",
       "      <td>2</td>\n",
       "    </tr>\n",
       "    <tr>\n",
       "      <th>7</th>\n",
       "      <td>2007-01-02</td>\n",
       "      <td>0.950396</td>\n",
       "      <td>1</td>\n",
       "      <td>0.332930</td>\n",
       "      <td>1</td>\n",
       "      <td>NaN</td>\n",
       "      <td>-1</td>\n",
       "      <td>-0.094688</td>\n",
       "      <td>1</td>\n",
       "      <td>NaN</td>\n",
       "      <td>-1</td>\n",
       "      <td>00:00:00</td>\n",
       "      <td>1</td>\n",
       "      <td>2</td>\n",
       "    </tr>\n",
       "    <tr>\n",
       "      <th>8</th>\n",
       "      <td>2007-01-02</td>\n",
       "      <td>1.499629</td>\n",
       "      <td>1</td>\n",
       "      <td>1.113822</td>\n",
       "      <td>1</td>\n",
       "      <td>1.412657</td>\n",
       "      <td>1</td>\n",
       "      <td>-0.839846</td>\n",
       "      <td>1</td>\n",
       "      <td>NaN</td>\n",
       "      <td>-1</td>\n",
       "      <td>00:00:00</td>\n",
       "      <td>1</td>\n",
       "      <td>2</td>\n",
       "    </tr>\n",
       "    <tr>\n",
       "      <th>9</th>\n",
       "      <td>2007-01-02</td>\n",
       "      <td>NaN</td>\n",
       "      <td>-1</td>\n",
       "      <td>NaN</td>\n",
       "      <td>-1</td>\n",
       "      <td>NaN</td>\n",
       "      <td>-1</td>\n",
       "      <td>NaN</td>\n",
       "      <td>-1</td>\n",
       "      <td>NaN</td>\n",
       "      <td>-1</td>\n",
       "      <td>00:00:00</td>\n",
       "      <td>1</td>\n",
       "      <td>2</td>\n",
       "    </tr>\n",
       "  </tbody>\n",
       "</table>\n",
       "</div>"
      ],
      "text/plain": [
       "        date      PM10  PM10_null_pointers        CO  CO_null_pointers  \\\n",
       "1 2007-01-02       NaN                  -1  1.460885                 1   \n",
       "2 2007-01-02       NaN                  -1  1.923636                 1   \n",
       "3 2007-01-02  1.499629                   1  1.113822                 1   \n",
       "4 2007-01-02       NaN                  -1       NaN                -1   \n",
       "5 2007-01-02       NaN                  -1  0.963428                 1   \n",
       "6 2007-01-02       NaN                  -1  1.460885                 1   \n",
       "7 2007-01-02  0.950396                   1  0.332930                 1   \n",
       "8 2007-01-02  1.499629                   1  1.113822                 1   \n",
       "9 2007-01-02       NaN                  -1       NaN                -1   \n",
       "\n",
       "        NO2  NO2_null_pointers        O3  O3_null_pointers  PM25  \\\n",
       "1       NaN                 -1       NaN                -1   NaN   \n",
       "2       NaN                 -1       NaN                -1   NaN   \n",
       "3  1.412657                  1 -0.839846                 1   NaN   \n",
       "4  1.090017                  1       NaN                -1   NaN   \n",
       "5       NaN                 -1       NaN                -1   NaN   \n",
       "6       NaN                 -1       NaN                -1   NaN   \n",
       "7       NaN                 -1 -0.094688                 1   NaN   \n",
       "8  1.412657                  1 -0.839846                 1   NaN   \n",
       "9       NaN                 -1       NaN                -1   NaN   \n",
       "\n",
       "   PM25_null_pointers      time  month  day  \n",
       "1                  -1  00:00:00      1    2  \n",
       "2                  -1  00:00:00      1    2  \n",
       "3                  -1  00:00:00      1    2  \n",
       "4                  -1  00:00:00      1    2  \n",
       "5                  -1  00:00:00      1    2  \n",
       "6                  -1  00:00:00      1    2  \n",
       "7                  -1  00:00:00      1    2  \n",
       "8                  -1  00:00:00      1    2  \n",
       "9                  -1  00:00:00      1    2  "
      ]
     },
     "execution_count": 108,
     "metadata": {},
     "output_type": "execute_result"
    }
   ],
   "source": [
    "itemlist[1:10]"
   ]
  },
  {
   "cell_type": "code",
   "execution_count": 244,
   "metadata": {
    "collapsed": true
   },
   "outputs": [],
   "source": [
    "itemlist['hour'] = pd.to_datetime(itemlist['time'].astype(str), format='%H:%M:%S').dt.hour #extract hour"
   ]
  },
  {
   "cell_type": "code",
   "execution_count": 245,
   "metadata": {
    "collapsed": false
   },
   "outputs": [
    {
     "data": {
      "text/html": [
       "<div>\n",
       "<table border=\"1\" class=\"dataframe\">\n",
       "  <thead>\n",
       "    <tr style=\"text-align: right;\">\n",
       "      <th></th>\n",
       "      <th>date</th>\n",
       "      <th>PM10</th>\n",
       "      <th>NAME</th>\n",
       "      <th>PM10_null_pointers</th>\n",
       "      <th>CO</th>\n",
       "      <th>CO_null_pointers</th>\n",
       "      <th>NO2</th>\n",
       "      <th>NO2_null_pointers</th>\n",
       "      <th>O3</th>\n",
       "      <th>O3_null_pointers</th>\n",
       "      <th>PM25</th>\n",
       "      <th>PM25_null_pointers</th>\n",
       "      <th>time</th>\n",
       "      <th>month</th>\n",
       "      <th>day</th>\n",
       "      <th>hour</th>\n",
       "    </tr>\n",
       "  </thead>\n",
       "  <tbody>\n",
       "    <tr>\n",
       "      <th>1</th>\n",
       "      <td>2007-01-02</td>\n",
       "      <td>NaN</td>\n",
       "      <td>Centar</td>\n",
       "      <td>0</td>\n",
       "      <td>1.460885</td>\n",
       "      <td>1</td>\n",
       "      <td>NaN</td>\n",
       "      <td>0</td>\n",
       "      <td>NaN</td>\n",
       "      <td>0</td>\n",
       "      <td>NaN</td>\n",
       "      <td>0</td>\n",
       "      <td>00:00:00</td>\n",
       "      <td>1</td>\n",
       "      <td>2</td>\n",
       "      <td>0</td>\n",
       "    </tr>\n",
       "  </tbody>\n",
       "</table>\n",
       "</div>"
      ],
      "text/plain": [
       "        date  PM10    NAME  PM10_null_pointers        CO  CO_null_pointers  \\\n",
       "1 2007-01-02   NaN  Centar                   0  1.460885                 1   \n",
       "\n",
       "   NO2  NO2_null_pointers  O3  O3_null_pointers  PM25  PM25_null_pointers  \\\n",
       "1  NaN                  0 NaN                 0   NaN                   0   \n",
       "\n",
       "       time  month  day  hour  \n",
       "1  00:00:00      1    2     0  "
      ]
     },
     "execution_count": 245,
     "metadata": {},
     "output_type": "execute_result"
    }
   ],
   "source": [
    "itemlist[1:2]"
   ]
  },
  {
   "cell_type": "code",
   "execution_count": 246,
   "metadata": {
    "collapsed": false
   },
   "outputs": [],
   "source": [
    "itemlist['daysInterval']=itemlist['date'] - itemlist['date'].shift() # we use to learn the non uniformities in transition"
   ]
  },
  {
   "cell_type": "code",
   "execution_count": 247,
   "metadata": {
    "collapsed": true
   },
   "outputs": [],
   "source": [
    "itemlist.daysInterval.fillna(0,inplace=True); #fill Na "
   ]
  },
  {
   "cell_type": "code",
   "execution_count": 248,
   "metadata": {
    "collapsed": false
   },
   "outputs": [
    {
     "data": {
      "text/html": [
       "<div>\n",
       "<table border=\"1\" class=\"dataframe\">\n",
       "  <thead>\n",
       "    <tr style=\"text-align: right;\">\n",
       "      <th></th>\n",
       "      <th>date</th>\n",
       "      <th>PM10</th>\n",
       "      <th>NAME</th>\n",
       "      <th>PM10_null_pointers</th>\n",
       "      <th>CO</th>\n",
       "      <th>CO_null_pointers</th>\n",
       "      <th>NO2</th>\n",
       "      <th>NO2_null_pointers</th>\n",
       "      <th>O3</th>\n",
       "      <th>O3_null_pointers</th>\n",
       "      <th>PM25</th>\n",
       "      <th>PM25_null_pointers</th>\n",
       "      <th>time</th>\n",
       "      <th>month</th>\n",
       "      <th>day</th>\n",
       "      <th>hour</th>\n",
       "      <th>daysInterval</th>\n",
       "    </tr>\n",
       "  </thead>\n",
       "  <tbody>\n",
       "    <tr>\n",
       "      <th>1</th>\n",
       "      <td>2007-01-02</td>\n",
       "      <td>NaN</td>\n",
       "      <td>Centar</td>\n",
       "      <td>0</td>\n",
       "      <td>1.460885</td>\n",
       "      <td>1</td>\n",
       "      <td>NaN</td>\n",
       "      <td>0</td>\n",
       "      <td>NaN</td>\n",
       "      <td>0</td>\n",
       "      <td>NaN</td>\n",
       "      <td>0</td>\n",
       "      <td>00:00:00</td>\n",
       "      <td>1</td>\n",
       "      <td>2</td>\n",
       "      <td>0</td>\n",
       "      <td>0 days</td>\n",
       "    </tr>\n",
       "  </tbody>\n",
       "</table>\n",
       "</div>"
      ],
      "text/plain": [
       "        date  PM10    NAME  PM10_null_pointers        CO  CO_null_pointers  \\\n",
       "1 2007-01-02   NaN  Centar                   0  1.460885                 1   \n",
       "\n",
       "   NO2  NO2_null_pointers  O3  O3_null_pointers  PM25  PM25_null_pointers  \\\n",
       "1  NaN                  0 NaN                 0   NaN                   0   \n",
       "\n",
       "       time  month  day  hour  daysInterval  \n",
       "1  00:00:00      1    2     0        0 days  "
      ]
     },
     "execution_count": 248,
     "metadata": {},
     "output_type": "execute_result"
    }
   ],
   "source": [
    "itemlist[1:2]"
   ]
  },
  {
   "cell_type": "code",
   "execution_count": 249,
   "metadata": {
    "collapsed": true
   },
   "outputs": [],
   "source": [
    "itemlist['days_interval'] = itemlist.daysInterval.dt.days #extract days from the interval. we will also extract hours"
   ]
  },
  {
   "cell_type": "code",
   "execution_count": 250,
   "metadata": {
    "collapsed": true
   },
   "outputs": [],
   "source": [
    "itemlist['hour_interval'] = itemlist.daysInterval.dt.components.hours # extract the hours from the data set\n"
   ]
  },
  {
   "cell_type": "code",
   "execution_count": 252,
   "metadata": {
    "collapsed": false
   },
   "outputs": [
    {
     "data": {
      "text/html": [
       "<div>\n",
       "<table border=\"1\" class=\"dataframe\">\n",
       "  <thead>\n",
       "    <tr style=\"text-align: right;\">\n",
       "      <th></th>\n",
       "      <th>date</th>\n",
       "      <th>PM10</th>\n",
       "      <th>NAME</th>\n",
       "      <th>PM10_null_pointers</th>\n",
       "      <th>CO</th>\n",
       "      <th>CO_null_pointers</th>\n",
       "      <th>NO2</th>\n",
       "      <th>NO2_null_pointers</th>\n",
       "      <th>O3</th>\n",
       "      <th>O3_null_pointers</th>\n",
       "      <th>PM25</th>\n",
       "      <th>PM25_null_pointers</th>\n",
       "      <th>time</th>\n",
       "      <th>month</th>\n",
       "      <th>day</th>\n",
       "      <th>hour</th>\n",
       "      <th>daysInterval</th>\n",
       "      <th>days_interval</th>\n",
       "      <th>hour_interval</th>\n",
       "    </tr>\n",
       "  </thead>\n",
       "  <tbody>\n",
       "    <tr>\n",
       "      <th>0</th>\n",
       "      <td>2007-01-02</td>\n",
       "      <td>NaN</td>\n",
       "      <td>Miladinovci</td>\n",
       "      <td>0</td>\n",
       "      <td>NaN</td>\n",
       "      <td>0</td>\n",
       "      <td>NaN</td>\n",
       "      <td>0</td>\n",
       "      <td>NaN</td>\n",
       "      <td>0</td>\n",
       "      <td>NaN</td>\n",
       "      <td>0</td>\n",
       "      <td>00:00:00</td>\n",
       "      <td>1</td>\n",
       "      <td>2</td>\n",
       "      <td>0</td>\n",
       "      <td>0 days</td>\n",
       "      <td>0</td>\n",
       "      <td>0</td>\n",
       "    </tr>\n",
       "    <tr>\n",
       "      <th>1</th>\n",
       "      <td>2007-01-02</td>\n",
       "      <td>NaN</td>\n",
       "      <td>Centar</td>\n",
       "      <td>0</td>\n",
       "      <td>1.460885</td>\n",
       "      <td>1</td>\n",
       "      <td>NaN</td>\n",
       "      <td>0</td>\n",
       "      <td>NaN</td>\n",
       "      <td>0</td>\n",
       "      <td>NaN</td>\n",
       "      <td>0</td>\n",
       "      <td>00:00:00</td>\n",
       "      <td>1</td>\n",
       "      <td>2</td>\n",
       "      <td>0</td>\n",
       "      <td>0 days</td>\n",
       "      <td>0</td>\n",
       "      <td>0</td>\n",
       "    </tr>\n",
       "    <tr>\n",
       "      <th>2</th>\n",
       "      <td>2007-01-02</td>\n",
       "      <td>NaN</td>\n",
       "      <td>Lisice</td>\n",
       "      <td>0</td>\n",
       "      <td>1.923636</td>\n",
       "      <td>1</td>\n",
       "      <td>NaN</td>\n",
       "      <td>0</td>\n",
       "      <td>NaN</td>\n",
       "      <td>0</td>\n",
       "      <td>NaN</td>\n",
       "      <td>0</td>\n",
       "      <td>00:00:00</td>\n",
       "      <td>1</td>\n",
       "      <td>2</td>\n",
       "      <td>0</td>\n",
       "      <td>0 days</td>\n",
       "      <td>0</td>\n",
       "      <td>0</td>\n",
       "    </tr>\n",
       "    <tr>\n",
       "      <th>3</th>\n",
       "      <td>2007-01-02</td>\n",
       "      <td>1.499629</td>\n",
       "      <td>Rektorat</td>\n",
       "      <td>1</td>\n",
       "      <td>1.113822</td>\n",
       "      <td>1</td>\n",
       "      <td>1.412657</td>\n",
       "      <td>1</td>\n",
       "      <td>-0.839846</td>\n",
       "      <td>1</td>\n",
       "      <td>NaN</td>\n",
       "      <td>0</td>\n",
       "      <td>00:00:00</td>\n",
       "      <td>1</td>\n",
       "      <td>2</td>\n",
       "      <td>0</td>\n",
       "      <td>0 days</td>\n",
       "      <td>0</td>\n",
       "      <td>0</td>\n",
       "    </tr>\n",
       "    <tr>\n",
       "      <th>4</th>\n",
       "      <td>2007-01-02</td>\n",
       "      <td>NaN</td>\n",
       "      <td>Mrsevci</td>\n",
       "      <td>0</td>\n",
       "      <td>NaN</td>\n",
       "      <td>0</td>\n",
       "      <td>1.090017</td>\n",
       "      <td>1</td>\n",
       "      <td>NaN</td>\n",
       "      <td>0</td>\n",
       "      <td>NaN</td>\n",
       "      <td>0</td>\n",
       "      <td>00:00:00</td>\n",
       "      <td>1</td>\n",
       "      <td>2</td>\n",
       "      <td>0</td>\n",
       "      <td>0 days</td>\n",
       "      <td>0</td>\n",
       "      <td>0</td>\n",
       "    </tr>\n",
       "  </tbody>\n",
       "</table>\n",
       "</div>"
      ],
      "text/plain": [
       "        date      PM10         NAME  PM10_null_pointers        CO  \\\n",
       "0 2007-01-02       NaN  Miladinovci                   0       NaN   \n",
       "1 2007-01-02       NaN       Centar                   0  1.460885   \n",
       "2 2007-01-02       NaN       Lisice                   0  1.923636   \n",
       "3 2007-01-02  1.499629     Rektorat                   1  1.113822   \n",
       "4 2007-01-02       NaN      Mrsevci                   0       NaN   \n",
       "\n",
       "   CO_null_pointers       NO2  NO2_null_pointers        O3  O3_null_pointers  \\\n",
       "0                 0       NaN                  0       NaN                 0   \n",
       "1                 1       NaN                  0       NaN                 0   \n",
       "2                 1       NaN                  0       NaN                 0   \n",
       "3                 1  1.412657                  1 -0.839846                 1   \n",
       "4                 0  1.090017                  1       NaN                 0   \n",
       "\n",
       "   PM25  PM25_null_pointers      time  month  day  hour  daysInterval  \\\n",
       "0   NaN                   0  00:00:00      1    2     0        0 days   \n",
       "1   NaN                   0  00:00:00      1    2     0        0 days   \n",
       "2   NaN                   0  00:00:00      1    2     0        0 days   \n",
       "3   NaN                   0  00:00:00      1    2     0        0 days   \n",
       "4   NaN                   0  00:00:00      1    2     0        0 days   \n",
       "\n",
       "   days_interval  hour_interval  \n",
       "0              0              0  \n",
       "1              0              0  \n",
       "2              0              0  \n",
       "3              0              0  \n",
       "4              0              0  "
      ]
     },
     "execution_count": 252,
     "metadata": {},
     "output_type": "execute_result"
    }
   ],
   "source": [
    "itemlist.head()"
   ]
  },
  {
   "cell_type": "code",
   "execution_count": 251,
   "metadata": {
    "collapsed": false
   },
   "outputs": [
    {
     "data": {
      "text/plain": [
       "626500"
      ]
     },
     "execution_count": 251,
     "metadata": {},
     "output_type": "execute_result"
    }
   ],
   "source": [
    "(itemlist.days_interval == 0).sum(axis=0)# we confirm that there is no gap in days in the reading. This should be dropped"
   ]
  },
  {
   "cell_type": "markdown",
   "metadata": {},
   "source": [
    "# Encode Names in the Data Frame\n",
    "<p> This is done using pandas data frame dummy variables. </p>"
   ]
  },
  {
   "cell_type": "code",
   "execution_count": 253,
   "metadata": {
    "collapsed": true
   },
   "outputs": [],
   "source": [
    "one_hot = pd.get_dummies(itemlist['NAME'])\n"
   ]
  },
  {
   "cell_type": "code",
   "execution_count": 256,
   "metadata": {
    "collapsed": false
   },
   "outputs": [
    {
     "data": {
      "text/html": [
       "<div>\n",
       "<table border=\"1\" class=\"dataframe\">\n",
       "  <thead>\n",
       "    <tr style=\"text-align: right;\">\n",
       "      <th></th>\n",
       "      <th>Centar</th>\n",
       "      <th>Gazi Baba</th>\n",
       "      <th>Karpos</th>\n",
       "      <th>Lisice</th>\n",
       "      <th>Miladinovci</th>\n",
       "      <th>Mrsevci</th>\n",
       "      <th>Rektorat</th>\n",
       "    </tr>\n",
       "  </thead>\n",
       "  <tbody>\n",
       "    <tr>\n",
       "      <th>1</th>\n",
       "      <td>1.0</td>\n",
       "      <td>0.0</td>\n",
       "      <td>0.0</td>\n",
       "      <td>0.0</td>\n",
       "      <td>0.0</td>\n",
       "      <td>0.0</td>\n",
       "      <td>0.0</td>\n",
       "    </tr>\n",
       "    <tr>\n",
       "      <th>2</th>\n",
       "      <td>0.0</td>\n",
       "      <td>0.0</td>\n",
       "      <td>0.0</td>\n",
       "      <td>1.0</td>\n",
       "      <td>0.0</td>\n",
       "      <td>0.0</td>\n",
       "      <td>0.0</td>\n",
       "    </tr>\n",
       "    <tr>\n",
       "      <th>3</th>\n",
       "      <td>0.0</td>\n",
       "      <td>0.0</td>\n",
       "      <td>0.0</td>\n",
       "      <td>0.0</td>\n",
       "      <td>0.0</td>\n",
       "      <td>0.0</td>\n",
       "      <td>1.0</td>\n",
       "    </tr>\n",
       "    <tr>\n",
       "      <th>4</th>\n",
       "      <td>0.0</td>\n",
       "      <td>0.0</td>\n",
       "      <td>0.0</td>\n",
       "      <td>0.0</td>\n",
       "      <td>0.0</td>\n",
       "      <td>1.0</td>\n",
       "      <td>0.0</td>\n",
       "    </tr>\n",
       "  </tbody>\n",
       "</table>\n",
       "</div>"
      ],
      "text/plain": [
       "   Centar  Gazi Baba  Karpos  Lisice  Miladinovci  Mrsevci  Rektorat\n",
       "1     1.0        0.0     0.0     0.0          0.0      0.0       0.0\n",
       "2     0.0        0.0     0.0     1.0          0.0      0.0       0.0\n",
       "3     0.0        0.0     0.0     0.0          0.0      0.0       1.0\n",
       "4     0.0        0.0     0.0     0.0          0.0      1.0       0.0"
      ]
     },
     "execution_count": 256,
     "metadata": {},
     "output_type": "execute_result"
    }
   ],
   "source": [
    "one_hot[1:5]"
   ]
  },
  {
   "cell_type": "code",
   "execution_count": 257,
   "metadata": {
    "collapsed": true
   },
   "outputs": [],
   "source": [
    "itemlist_ = itemlist.copy(deep=True);"
   ]
  },
  {
   "cell_type": "code",
   "execution_count": 258,
   "metadata": {
    "collapsed": true
   },
   "outputs": [],
   "source": [
    "itemlist_ = itemlist_.join(one_hot);"
   ]
  },
  {
   "cell_type": "code",
   "execution_count": 260,
   "metadata": {
    "collapsed": false
   },
   "outputs": [],
   "source": [
    "# drop the names \n",
    "# drop the date\n",
    "# And drop the dayInterval\n",
    "# And drop days_interval"
   ]
  },
  {
   "cell_type": "code",
   "execution_count": 268,
   "metadata": {
    "collapsed": false
   },
   "outputs": [],
   "source": [
    "from pandas import ExcelWriter\n",
    "writer = ExcelWriter('DataList.xlsx')\n",
    "itemlist_.to_excel(writer,'Sheet1')\n",
    "#itemlist.to_excel(writer,'Sheet2')\n",
    "writer.save()\n"
   ]
  },
  {
   "cell_type": "code",
   "execution_count": 269,
   "metadata": {
    "collapsed": true
   },
   "outputs": [],
   "source": [
    "itemlist_.to_csv('ItemListWithDummy.csv')"
   ]
  },
  {
   "cell_type": "code",
   "execution_count": 270,
   "metadata": {
    "collapsed": true
   },
   "outputs": [],
   "source": [
    "itemlist.to_csv('ItemListNoDummy.csv')"
   ]
  },
  {
   "cell_type": "markdown",
   "metadata": {},
   "source": [
    "# Datasets (PM10+date)"
   ]
  },
  {
   "cell_type": "code",
   "execution_count": 310,
   "metadata": {
    "collapsed": false
   },
   "outputs": [],
   "source": [
    "DateTimeDataSet = itemlist_.filter(['PM10','PM10_null_pointers','month','day','hour','hour_interval'], axis=1)"
   ]
  },
  {
   "cell_type": "code",
   "execution_count": 311,
   "metadata": {
    "collapsed": false
   },
   "outputs": [
    {
     "data": {
      "text/html": [
       "<div>\n",
       "<table border=\"1\" class=\"dataframe\">\n",
       "  <thead>\n",
       "    <tr style=\"text-align: right;\">\n",
       "      <th></th>\n",
       "      <th>PM10</th>\n",
       "      <th>PM10_null_pointers</th>\n",
       "      <th>month</th>\n",
       "      <th>day</th>\n",
       "      <th>hour</th>\n",
       "      <th>hour_interval</th>\n",
       "    </tr>\n",
       "  </thead>\n",
       "  <tbody>\n",
       "    <tr>\n",
       "      <th>1</th>\n",
       "      <td>NaN</td>\n",
       "      <td>0</td>\n",
       "      <td>1</td>\n",
       "      <td>2</td>\n",
       "      <td>0</td>\n",
       "      <td>0</td>\n",
       "    </tr>\n",
       "    <tr>\n",
       "      <th>2</th>\n",
       "      <td>NaN</td>\n",
       "      <td>0</td>\n",
       "      <td>1</td>\n",
       "      <td>2</td>\n",
       "      <td>0</td>\n",
       "      <td>0</td>\n",
       "    </tr>\n",
       "    <tr>\n",
       "      <th>3</th>\n",
       "      <td>1.499629</td>\n",
       "      <td>1</td>\n",
       "      <td>1</td>\n",
       "      <td>2</td>\n",
       "      <td>0</td>\n",
       "      <td>0</td>\n",
       "    </tr>\n",
       "    <tr>\n",
       "      <th>4</th>\n",
       "      <td>NaN</td>\n",
       "      <td>0</td>\n",
       "      <td>1</td>\n",
       "      <td>2</td>\n",
       "      <td>0</td>\n",
       "      <td>0</td>\n",
       "    </tr>\n",
       "  </tbody>\n",
       "</table>\n",
       "</div>"
      ],
      "text/plain": [
       "       PM10  PM10_null_pointers  month  day  hour  hour_interval\n",
       "1       NaN                   0      1    2     0              0\n",
       "2       NaN                   0      1    2     0              0\n",
       "3  1.499629                   1      1    2     0              0\n",
       "4       NaN                   0      1    2     0              0"
      ]
     },
     "execution_count": 311,
     "metadata": {},
     "output_type": "execute_result"
    }
   ],
   "source": [
    "DateTimeDataSet[1:5]"
   ]
  },
  {
   "cell_type": "code",
   "execution_count": 315,
   "metadata": {
    "collapsed": true
   },
   "outputs": [],
   "source": [
    "DateTimeDataSet_ = DateTimeDataSet.copy(deep=True)"
   ]
  },
  {
   "cell_type": "code",
   "execution_count": 316,
   "metadata": {
    "collapsed": true
   },
   "outputs": [],
   "source": [
    "DateTimeDataSet_.fillna(0,inplace=True) # fillna"
   ]
  },
  {
   "cell_type": "code",
   "execution_count": 317,
   "metadata": {
    "collapsed": true
   },
   "outputs": [],
   "source": [
    "DateTimeDataSet_.PM10=DateTimeDataSet_.PM10.apply(funct)"
   ]
  },
  {
   "cell_type": "code",
   "execution_count": 319,
   "metadata": {
    "collapsed": false
   },
   "outputs": [
    {
     "data": {
      "text/html": [
       "<div>\n",
       "<table border=\"1\" class=\"dataframe\">\n",
       "  <thead>\n",
       "    <tr style=\"text-align: right;\">\n",
       "      <th></th>\n",
       "      <th>PM10</th>\n",
       "      <th>PM10_null_pointers</th>\n",
       "      <th>month</th>\n",
       "      <th>day</th>\n",
       "      <th>hour</th>\n",
       "      <th>hour_interval</th>\n",
       "    </tr>\n",
       "  </thead>\n",
       "  <tbody>\n",
       "    <tr>\n",
       "      <th>1</th>\n",
       "      <td>-0.10423</td>\n",
       "      <td>0</td>\n",
       "      <td>1</td>\n",
       "      <td>2</td>\n",
       "      <td>0</td>\n",
       "      <td>0</td>\n",
       "    </tr>\n",
       "    <tr>\n",
       "      <th>2</th>\n",
       "      <td>-0.10423</td>\n",
       "      <td>0</td>\n",
       "      <td>1</td>\n",
       "      <td>2</td>\n",
       "      <td>0</td>\n",
       "      <td>0</td>\n",
       "    </tr>\n",
       "  </tbody>\n",
       "</table>\n",
       "</div>"
      ],
      "text/plain": [
       "      PM10  PM10_null_pointers  month  day  hour  hour_interval\n",
       "1 -0.10423                   0      1    2     0              0\n",
       "2 -0.10423                   0      1    2     0              0"
      ]
     },
     "execution_count": 319,
     "metadata": {},
     "output_type": "execute_result"
    }
   ],
   "source": [
    "DateTimeDataSet_[1:3]"
   ]
  },
  {
   "cell_type": "code",
   "execution_count": 340,
   "metadata": {
    "collapsed": false
   },
   "outputs": [
    {
     "data": {
      "image/png": "[encoded data removed]",
      "text/plain": [
       "<matplotlib.figure.Figure at 0x19ec92390>"
      ]
     },
     "metadata": {},
     "output_type": "display_data"
    }
   ],
   "source": [
    "fig, ax = plt.subplots()\n",
    "DateTimeDataSet_.PM10.hist(ax=ax,bins=200,color='blue',bottom=0.1)\n",
    "ax.set_yscale('log')\n",
    "#ax.set_yscale('log')\n",
    "#ax.set_xscale('log')\n",
    "#plt.hist(PM10_cox, bins='auto')  # plt.hist passes it's arguments to np.histogram\n",
    "\n",
    "plt.title(\"Histogram Plot PM10 With logScale on x-axis after Standardization\")\n",
    "plt.ylabel(\"Frequency\")\n",
    "plt.xlabel(\"Impurity Values\")\n",
    "plt.show()"
   ]
  },
  {
   "cell_type": "markdown",
   "metadata": {},
   "source": [
    "# Datasets (PM10+date+other impurities)"
   ]
  },
  {
   "cell_type": "code",
   "execution_count": 272,
   "metadata": {
    "collapsed": true
   },
   "outputs": [],
   "source": [
    "DatasetWithImpurities = itemlist_.filter(['PM10','PM10_null_pointers','CO','CO_null_pointers','NO2','NO2_null_pointers', 'O3','O3_null_pointers','PM25', 'PM25_null_pointers','month','day','hour','hour_interval'], axis=1)"
   ]
  },
  {
   "cell_type": "code",
   "execution_count": 271,
   "metadata": {
    "collapsed": false
   },
   "outputs": [
    {
     "data": {
      "text/plain": [
       "Index(['date', 'PM10', 'NAME', 'PM10_null_pointers', 'CO', 'CO_null_pointers',\n",
       "       'NO2', 'NO2_null_pointers', 'O3', 'O3_null_pointers', 'PM25',\n",
       "       'PM25_null_pointers', 'time', 'month', 'day', 'hour', 'daysInterval',\n",
       "       'days_interval', 'hour_interval'],\n",
       "      dtype='object')"
      ]
     },
     "execution_count": 271,
     "metadata": {},
     "output_type": "execute_result"
    }
   ],
   "source": [
    "itemlist.columns\n"
   ]
  },
  {
   "cell_type": "code",
   "execution_count": 276,
   "metadata": {
    "collapsed": false
   },
   "outputs": [
    {
     "data": {
      "text/html": [
       "<div>\n",
       "<table border=\"1\" class=\"dataframe\">\n",
       "  <thead>\n",
       "    <tr style=\"text-align: right;\">\n",
       "      <th></th>\n",
       "      <th>PM10</th>\n",
       "      <th>PM10_null_pointers</th>\n",
       "      <th>CO</th>\n",
       "      <th>CO_null_pointers</th>\n",
       "      <th>NO2</th>\n",
       "      <th>NO2_null_pointers</th>\n",
       "      <th>O3</th>\n",
       "      <th>O3_null_pointers</th>\n",
       "      <th>PM25</th>\n",
       "      <th>PM25_null_pointers</th>\n",
       "      <th>month</th>\n",
       "      <th>day</th>\n",
       "      <th>hour</th>\n",
       "      <th>hour_interval</th>\n",
       "    </tr>\n",
       "  </thead>\n",
       "  <tbody>\n",
       "    <tr>\n",
       "      <th>1</th>\n",
       "      <td>NaN</td>\n",
       "      <td>0</td>\n",
       "      <td>1.460885</td>\n",
       "      <td>1</td>\n",
       "      <td>NaN</td>\n",
       "      <td>0</td>\n",
       "      <td>NaN</td>\n",
       "      <td>0</td>\n",
       "      <td>NaN</td>\n",
       "      <td>0</td>\n",
       "      <td>1</td>\n",
       "      <td>2</td>\n",
       "      <td>0</td>\n",
       "      <td>0</td>\n",
       "    </tr>\n",
       "  </tbody>\n",
       "</table>\n",
       "</div>"
      ],
      "text/plain": [
       "   PM10  PM10_null_pointers        CO  CO_null_pointers  NO2  \\\n",
       "1   NaN                   0  1.460885                 1  NaN   \n",
       "\n",
       "   NO2_null_pointers  O3  O3_null_pointers  PM25  PM25_null_pointers  month  \\\n",
       "1                  0 NaN                 0   NaN                   0      1   \n",
       "\n",
       "   day  hour  hour_interval  \n",
       "1    2     0              0  "
      ]
     },
     "execution_count": 276,
     "metadata": {},
     "output_type": "execute_result"
    }
   ],
   "source": [
    "DatasetWithImpurities[1:2]"
   ]
  },
  {
   "cell_type": "code",
   "execution_count": 277,
   "metadata": {
    "collapsed": true
   },
   "outputs": [],
   "source": [
    "DatasetWithImpurities_ = DateTimeDataSet_.copy(deep=True)"
   ]
  },
  {
   "cell_type": "code",
   "execution_count": 341,
   "metadata": {
    "collapsed": true
   },
   "outputs": [],
   "source": [
    "DatasetWithImpurities_.fillna(0,inplace=True)"
   ]
  },
  {
   "cell_type": "code",
   "execution_count": 342,
   "metadata": {
    "collapsed": true
   },
   "outputs": [],
   "source": [
    "DatasetWithImpurities_.PM10=DatasetWithImpurities_.PM10.apply(funct) # Box cox"
   ]
  },
  {
   "cell_type": "code",
   "execution_count": 343,
   "metadata": {
    "collapsed": false
   },
   "outputs": [
    {
     "data": {
      "image/png": "[encoded data removed]",
      "text/plain": [
       "<matplotlib.figure.Figure at 0x1c4352f98>"
      ]
     },
     "metadata": {},
     "output_type": "display_data"
    }
   ],
   "source": [
    "fig, ax = plt.subplots()\n",
    "DatasetWithImpurities_.PM10.hist(ax=ax,bins=200,color='blue',bottom=0.1)\n",
    "ax.set_yscale('log')\n",
    "#ax.set_yscale('log')\n",
    "#ax.set_xscale('log')\n",
    "#plt.hist(PM10_cox, bins='auto')  # plt.hist passes it's arguments to np.histogram\n",
    "\n",
    "plt.title(\"Histogram Plot PM10 With logScale on x-axis after Standardization\")\n",
    "plt.ylabel(\"Frequency\")\n",
    "plt.xlabel(\"Impurity Values\")\n",
    "plt.show()"
   ]
  },
  {
   "cell_type": "code",
   "execution_count": 345,
   "metadata": {
    "collapsed": true
   },
   "outputs": [],
   "source": [
    "DateTimeDataSet_.to_csv('DateTimeDataSet.csv')"
   ]
  },
  {
   "cell_type": "code",
   "execution_count": 344,
   "metadata": {
    "collapsed": false
   },
   "outputs": [],
   "source": [
    "DatasetWithImpurities_.to_csv('DatasetWithImpurities.csv')"
   ]
  },
  {
   "cell_type": "markdown",
   "metadata": {},
   "source": [
    "## Extract Target Variable"
   ]
  },
  {
   "cell_type": "code",
   "execution_count": null,
   "metadata": {
    "collapsed": true
   },
   "outputs": [],
   "source": []
  },
  {
   "cell_type": "code",
   "execution_count": null,
   "metadata": {
    "collapsed": true
   },
   "outputs": [],
   "source": []
  },
  {
   "cell_type": "code",
   "execution_count": null,
   "metadata": {
    "collapsed": true
   },
   "outputs": [],
   "source": []
  },
  {
   "cell_type": "code",
   "execution_count": null,
   "metadata": {
    "collapsed": true
   },
   "outputs": [],
   "source": []
  },
  {
   "cell_type": "code",
   "execution_count": null,
   "metadata": {
    "collapsed": true
   },
   "outputs": [],
   "source": []
  },
  {
   "cell_type": "code",
   "execution_count": null,
   "metadata": {
    "collapsed": true
   },
   "outputs": [],
   "source": []
  }
 ],
 "metadata": {
  "anaconda-cloud": {},
  "kernelspec": {
   "display_name": "Python [default]",
   "language": "python",
   "name": "python3"
  },
  "language_info": {
   "codemirror_mode": {
    "name": "ipython",
    "version": 3
   },
   "file_extension": ".py",
   "mimetype": "text/x-python",
   "name": "python",
   "nbconvert_exporter": "python",
   "pygments_lexer": "ipython3",
   "version": "3.5.2"
  }
 },
 "nbformat": 4,
 "nbformat_minor": 1
}
