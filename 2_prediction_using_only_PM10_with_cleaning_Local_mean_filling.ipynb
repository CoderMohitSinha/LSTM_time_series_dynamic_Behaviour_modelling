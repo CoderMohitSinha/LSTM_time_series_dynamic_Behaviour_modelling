{
 "cells": [
  {
   "cell_type": "code",
   "execution_count": 30,
   "metadata": {},
   "outputs": [
    {
     "name": "stdout",
     "output_type": "stream",
     "text": [
      "0.11.0\n"
     ]
    }
   ],
   "source": [
    "import tensorflow as tf\n",
    "print(tf.__version__)"
   ]
  },
  {
   "cell_type": "code",
   "execution_count": 31,
   "metadata": {},
   "outputs": [
    {
     "name": "stdout",
     "output_type": "stream",
     "text": [
      "The autoreload extension is already loaded. To reload it, use:\n",
      "  %reload_ext autoreload\n"
     ]
    }
   ],
   "source": [
    "%matplotlib inline\n",
    "import numpy.ma as ma\n",
    "from numpy import isfinite\n",
    "\n",
    "\n",
    "\n",
    "import numpy as np\n",
    "from matplotlib import pyplot as plt\n",
    "#from tensorflow.nn.rnn import *\n",
    "from tensorflow.python.ops  import *\n",
    "\n",
    "%load_ext autoreload\n",
    "%autoreload 2"
   ]
  },
  {
   "cell_type": "code",
   "execution_count": 32,
   "metadata": {
    "collapsed": true
   },
   "outputs": [],
   "source": [
    "import numpy as np\n",
    "import pandas as pd\n",
    "import tensorflow as tf\n",
    "from tensorflow.python.framework import dtypes\n",
    "\n",
    "import seaborn as sns"
   ]
  },
  {
   "cell_type": "code",
   "execution_count": 33,
   "metadata": {},
   "outputs": [
    {
     "name": "stdout",
     "output_type": "stream",
     "text": [
      "/\n"
     ]
    }
   ],
   "source": [
    "cd /"
   ]
  },
  {
   "cell_type": "code",
   "execution_count": 34,
   "metadata": {},
   "outputs": [
    {
     "name": "stdout",
     "output_type": "stream",
     "text": [
      "/Users/Seychelles/Desktop/GoogleTensorflow/Data_Collector/CSV_file_from_2007_to_2017\n"
     ]
    }
   ],
   "source": [
    "cd Users/Seychelles/Desktop/GoogleTensorflow/Data_Collector/CSV_file_from_2007_to_2017/"
   ]
  },
  {
   "cell_type": "code",
   "execution_count": 35,
   "metadata": {
    "collapsed": true
   },
   "outputs": [],
   "source": [
    "DataKarpos = pd.read_csv('Target.csv') # Only Karpos Location is used here . Other locations are zero"
   ]
  },
  {
   "cell_type": "code",
   "execution_count": 36,
   "metadata": {},
   "outputs": [
    {
     "data": {
      "text/html": [
       "<div>\n",
       "<table border=\"1\" class=\"dataframe\">\n",
       "  <thead>\n",
       "    <tr style=\"text-align: right;\">\n",
       "      <th></th>\n",
       "      <th>Unnamed: 0</th>\n",
       "      <th>date</th>\n",
       "      <th>PM10</th>\n",
       "      <th>NAME</th>\n",
       "      <th>PM10_null_pointers</th>\n",
       "      <th>CO</th>\n",
       "      <th>CO_null_pointers</th>\n",
       "      <th>NO2</th>\n",
       "      <th>NO2_null_pointers</th>\n",
       "      <th>O3</th>\n",
       "      <th>...</th>\n",
       "      <th>daysInterval</th>\n",
       "      <th>days_interval</th>\n",
       "      <th>hour_interval</th>\n",
       "      <th>Centar</th>\n",
       "      <th>Gazi Baba</th>\n",
       "      <th>Karpos</th>\n",
       "      <th>Lisice</th>\n",
       "      <th>Miladinovci</th>\n",
       "      <th>Mrsevci</th>\n",
       "      <th>Rektorat</th>\n",
       "    </tr>\n",
       "  </thead>\n",
       "  <tbody>\n",
       "    <tr>\n",
       "      <th>1</th>\n",
       "      <td>10</td>\n",
       "      <td>2007-01-02 00:00:00</td>\n",
       "      <td>0.950396</td>\n",
       "      <td>Karpos</td>\n",
       "      <td>1</td>\n",
       "      <td>0.33293</td>\n",
       "      <td>1</td>\n",
       "      <td>NaN</td>\n",
       "      <td>0</td>\n",
       "      <td>-0.094688</td>\n",
       "      <td>...</td>\n",
       "      <td>0 days 00:00:00.000000000</td>\n",
       "      <td>0</td>\n",
       "      <td>0</td>\n",
       "      <td>0.0</td>\n",
       "      <td>0.0</td>\n",
       "      <td>1.0</td>\n",
       "      <td>0.0</td>\n",
       "      <td>0.0</td>\n",
       "      <td>0.0</td>\n",
       "      <td>0.0</td>\n",
       "    </tr>\n",
       "  </tbody>\n",
       "</table>\n",
       "<p>1 rows × 27 columns</p>\n",
       "</div>"
      ],
      "text/plain": [
       "   Unnamed: 0                 date      PM10    NAME  PM10_null_pointers  \\\n",
       "1          10  2007-01-02 00:00:00  0.950396  Karpos                   1   \n",
       "\n",
       "        CO  CO_null_pointers  NO2  NO2_null_pointers        O3    ...     \\\n",
       "1  0.33293                 1  NaN                  0 -0.094688    ...      \n",
       "\n",
       "                daysInterval  days_interval  hour_interval Centar  Gazi Baba  \\\n",
       "1  0 days 00:00:00.000000000              0              0    0.0        0.0   \n",
       "\n",
       "   Karpos  Lisice Miladinovci  Mrsevci  Rektorat  \n",
       "1     1.0     0.0         0.0      0.0       0.0  \n",
       "\n",
       "[1 rows x 27 columns]"
      ]
     },
     "execution_count": 36,
     "metadata": {},
     "output_type": "execute_result"
    }
   ],
   "source": [
    "DataKarpos[1:2]"
   ]
  },
  {
   "cell_type": "code",
   "execution_count": null,
   "metadata": {
    "collapsed": true
   },
   "outputs": [],
   "source": []
  },
  {
   "cell_type": "code",
   "execution_count": null,
   "metadata": {
    "collapsed": true
   },
   "outputs": [],
   "source": []
  },
  {
   "cell_type": "code",
   "execution_count": 37,
   "metadata": {
    "collapsed": true
   },
   "outputs": [],
   "source": [
    "TargetKarpos = DataKarpos[['PM10']].copy(deep=True) # copy PM10 data out from data sets"
   ]
  },
  {
   "cell_type": "markdown",
   "metadata": {},
   "source": [
    "# Analysis Of Misiing Values"
   ]
  },
  {
   "cell_type": "code",
   "execution_count": null,
   "metadata": {
    "collapsed": true
   },
   "outputs": [],
   "source": []
  },
  {
   "cell_type": "code",
   "execution_count": 38,
   "metadata": {
    "collapsed": true
   },
   "outputs": [],
   "source": [
    "Target = DataKarpos[['PM10']].copy(deep=True)"
   ]
  },
  {
   "cell_type": "code",
   "execution_count": 39,
   "metadata": {},
   "outputs": [
    {
     "data": {
      "text/plain": [
       "(89500, 1)"
      ]
     },
     "execution_count": 39,
     "metadata": {},
     "output_type": "execute_result"
    }
   ],
   "source": [
    "Target.shape"
   ]
  },
  {
   "cell_type": "code",
   "execution_count": 40,
   "metadata": {
    "collapsed": true
   },
   "outputs": [],
   "source": [
    "null_data_PM10 = Target[Target.isnull().any(axis=1)] # extract data sets with null values"
   ]
  },
  {
   "cell_type": "code",
   "execution_count": 41,
   "metadata": {},
   "outputs": [
    {
     "name": "stderr",
     "output_type": "stream",
     "text": [
      "//anaconda/envs/seychelles/lib/python3.5/site-packages/numpy/lib/function_base.py:3834: RuntimeWarning: Invalid value encountered in percentile\n",
      "  RuntimeWarning)\n"
     ]
    },
    {
     "data": {
      "text/html": [
       "<div>\n",
       "<table border=\"1\" class=\"dataframe\">\n",
       "  <thead>\n",
       "    <tr style=\"text-align: right;\">\n",
       "      <th></th>\n",
       "      <th>PM10</th>\n",
       "    </tr>\n",
       "  </thead>\n",
       "  <tbody>\n",
       "    <tr>\n",
       "      <th>count</th>\n",
       "      <td>0.0</td>\n",
       "    </tr>\n",
       "    <tr>\n",
       "      <th>mean</th>\n",
       "      <td>NaN</td>\n",
       "    </tr>\n",
       "    <tr>\n",
       "      <th>std</th>\n",
       "      <td>NaN</td>\n",
       "    </tr>\n",
       "    <tr>\n",
       "      <th>min</th>\n",
       "      <td>NaN</td>\n",
       "    </tr>\n",
       "    <tr>\n",
       "      <th>25%</th>\n",
       "      <td>NaN</td>\n",
       "    </tr>\n",
       "    <tr>\n",
       "      <th>50%</th>\n",
       "      <td>NaN</td>\n",
       "    </tr>\n",
       "    <tr>\n",
       "      <th>75%</th>\n",
       "      <td>NaN</td>\n",
       "    </tr>\n",
       "    <tr>\n",
       "      <th>max</th>\n",
       "      <td>NaN</td>\n",
       "    </tr>\n",
       "  </tbody>\n",
       "</table>\n",
       "</div>"
      ],
      "text/plain": [
       "       PM10\n",
       "count   0.0\n",
       "mean    NaN\n",
       "std     NaN\n",
       "min     NaN\n",
       "25%     NaN\n",
       "50%     NaN\n",
       "75%     NaN\n",
       "max     NaN"
      ]
     },
     "execution_count": 41,
     "metadata": {},
     "output_type": "execute_result"
    }
   ],
   "source": [
    "null_data_PM10.describe()"
   ]
  },
  {
   "cell_type": "code",
   "execution_count": 42,
   "metadata": {},
   "outputs": [
    {
     "name": "stdout",
     "output_type": "stream",
     "text": [
      "<class 'pandas.core.frame.DataFrame'>\n",
      "Int64Index: 28871 entries, 168 to 86692\n",
      "Data columns (total 1 columns):\n",
      "PM10    0 non-null float64\n",
      "dtypes: float64(1)\n",
      "memory usage: 451.1 KB\n"
     ]
    }
   ],
   "source": [
    "null_data_PM10.info()"
   ]
  },
  {
   "cell_type": "code",
   "execution_count": 43,
   "metadata": {},
   "outputs": [
    {
     "name": "stdout",
     "output_type": "stream",
     "text": [
      "<class 'pandas.core.frame.DataFrame'>\n",
      "RangeIndex: 89500 entries, 0 to 89499\n",
      "Data columns (total 1 columns):\n",
      "PM10    60629 non-null float64\n",
      "dtypes: float64(1)\n",
      "memory usage: 699.3 KB\n"
     ]
    }
   ],
   "source": [
    "Target.info()"
   ]
  },
  {
   "cell_type": "code",
   "execution_count": 44,
   "metadata": {},
   "outputs": [
    {
     "name": "stderr",
     "output_type": "stream",
     "text": [
      "//anaconda/envs/seychelles/lib/python3.5/site-packages/numpy/lib/function_base.py:3834: RuntimeWarning: Invalid value encountered in percentile\n",
      "  RuntimeWarning)\n"
     ]
    },
    {
     "data": {
      "text/html": [
       "<div>\n",
       "<table border=\"1\" class=\"dataframe\">\n",
       "  <thead>\n",
       "    <tr style=\"text-align: right;\">\n",
       "      <th></th>\n",
       "      <th>PM10</th>\n",
       "    </tr>\n",
       "  </thead>\n",
       "  <tbody>\n",
       "    <tr>\n",
       "      <th>count</th>\n",
       "      <td>60629.000000</td>\n",
       "    </tr>\n",
       "    <tr>\n",
       "      <th>mean</th>\n",
       "      <td>-0.078455</td>\n",
       "    </tr>\n",
       "    <tr>\n",
       "      <th>std</th>\n",
       "      <td>0.851036</td>\n",
       "    </tr>\n",
       "    <tr>\n",
       "      <th>min</th>\n",
       "      <td>-0.875321</td>\n",
       "    </tr>\n",
       "    <tr>\n",
       "      <th>25%</th>\n",
       "      <td>NaN</td>\n",
       "    </tr>\n",
       "    <tr>\n",
       "      <th>50%</th>\n",
       "      <td>NaN</td>\n",
       "    </tr>\n",
       "    <tr>\n",
       "      <th>75%</th>\n",
       "      <td>NaN</td>\n",
       "    </tr>\n",
       "    <tr>\n",
       "      <th>max</th>\n",
       "      <td>9.045878</td>\n",
       "    </tr>\n",
       "  </tbody>\n",
       "</table>\n",
       "</div>"
      ],
      "text/plain": [
       "               PM10\n",
       "count  60629.000000\n",
       "mean      -0.078455\n",
       "std        0.851036\n",
       "min       -0.875321\n",
       "25%             NaN\n",
       "50%             NaN\n",
       "75%             NaN\n",
       "max        9.045878"
      ]
     },
     "execution_count": 44,
     "metadata": {},
     "output_type": "execute_result"
    }
   ],
   "source": [
    "Target.describe()"
   ]
  },
  {
   "cell_type": "code",
   "execution_count": 45,
   "metadata": {
    "collapsed": true
   },
   "outputs": [],
   "source": [
    "def getPctMissing(series):\n",
    "    '''\n",
    "    Returns percentage of Missing data in a data set.\n",
    "    Input : Pandas series\n",
    "    Output: Percentage of missing data in data set\n",
    "    '''\n",
    "    num = series.isnull().sum()\n",
    "    Total_data = len(series)\n",
    "    return 100*(num/Total_data)"
   ]
  },
  {
   "cell_type": "code",
   "execution_count": 46,
   "metadata": {},
   "outputs": [
    {
     "name": "stdout",
     "output_type": "stream",
     "text": [
      "Number of null values in PM10 : \n"
     ]
    },
    {
     "data": {
      "text/plain": [
       "PM10    28871\n",
       "dtype: int64"
      ]
     },
     "execution_count": 46,
     "metadata": {},
     "output_type": "execute_result"
    }
   ],
   "source": [
    "print(\"Number of null values in PM10 : \");Target.isnull().sum()"
   ]
  },
  {
   "cell_type": "code",
   "execution_count": 47,
   "metadata": {},
   "outputs": [
    {
     "name": "stdout",
     "output_type": "stream",
     "text": [
      "Number of non null values in PM10 : \n"
     ]
    },
    {
     "data": {
      "text/plain": [
       "PM10    60629\n",
       "dtype: int64"
      ]
     },
     "execution_count": 47,
     "metadata": {},
     "output_type": "execute_result"
    }
   ],
   "source": [
    "print(\"Number of non null values in PM10 : \");Target.count()"
   ]
  },
  {
   "cell_type": "code",
   "execution_count": 48,
   "metadata": {},
   "outputs": [
    {
     "name": "stdout",
     "output_type": "stream",
     "text": [
      "Percentage of Missing Value: \n"
     ]
    },
    {
     "data": {
      "text/plain": [
       "PM10    32.258101\n",
       "dtype: float64"
      ]
     },
     "execution_count": 48,
     "metadata": {},
     "output_type": "execute_result"
    }
   ],
   "source": [
    "print(\"Percentage of Missing Value: \"); getPctMissing(Target)"
   ]
  },
  {
   "cell_type": "code",
   "execution_count": 49,
   "metadata": {},
   "outputs": [
    {
     "name": "stdout",
     "output_type": "stream",
     "text": [
      "<class 'pandas.core.frame.DataFrame'>\n",
      "RangeIndex: 47 entries, 168 to 214\n",
      "Data columns (total 1 columns):\n",
      "PM10    0 non-null float64\n",
      "dtypes: float64(1)\n",
      "memory usage: 460.0 bytes\n"
     ]
    }
   ],
   "source": [
    "Target[168:215].info() # we see that we have 47 entries in a row that are null. We will therefore drop this to assist the model"
   ]
  },
  {
   "cell_type": "code",
   "execution_count": 50,
   "metadata": {
    "collapsed": true
   },
   "outputs": [],
   "source": [
    "Target.drop(Target.index[168:215],inplace=True);\n"
   ]
  },
  {
   "cell_type": "code",
   "execution_count": 51,
   "metadata": {},
   "outputs": [
    {
     "name": "stdout",
     "output_type": "stream",
     "text": [
      "<class 'pandas.core.frame.DataFrame'>\n",
      "Int64Index: 89453 entries, 0 to 89499\n",
      "Data columns (total 1 columns):\n",
      "PM10    60629 non-null float64\n",
      "dtypes: float64(1)\n",
      "memory usage: 1.4 MB\n"
     ]
    }
   ],
   "source": [
    "Target.info()"
   ]
  },
  {
   "cell_type": "code",
   "execution_count": 52,
   "metadata": {},
   "outputs": [
    {
     "data": {
      "text/plain": [
       "(89453, 1)"
      ]
     },
     "execution_count": 52,
     "metadata": {},
     "output_type": "execute_result"
    }
   ],
   "source": [
    "Target.shape"
   ]
  },
  {
   "cell_type": "code",
   "execution_count": 53,
   "metadata": {},
   "outputs": [
    {
     "name": "stdout",
     "output_type": "stream",
     "text": [
      "<class 'pandas.core.frame.DataFrame'>\n",
      "Int64Index: 24 entries, 384 to 407\n",
      "Data columns (total 1 columns):\n",
      "PM10    0 non-null float64\n",
      "dtypes: float64(1)\n",
      "memory usage: 384.0 bytes\n"
     ]
    }
   ],
   "source": [
    "Target[337:361].info() # 24 entries in a row are null values"
   ]
  },
  {
   "cell_type": "code",
   "execution_count": 54,
   "metadata": {
    "collapsed": true
   },
   "outputs": [],
   "source": [
    "Target.drop(Target.index[337:361],inplace=True);"
   ]
  },
  {
   "cell_type": "code",
   "execution_count": 55,
   "metadata": {},
   "outputs": [
    {
     "name": "stderr",
     "output_type": "stream",
     "text": [
      "//anaconda/envs/seychelles/lib/python3.5/site-packages/numpy/lib/function_base.py:3834: RuntimeWarning: Invalid value encountered in percentile\n",
      "  RuntimeWarning)\n"
     ]
    },
    {
     "data": {
      "text/html": [
       "<div>\n",
       "<table border=\"1\" class=\"dataframe\">\n",
       "  <thead>\n",
       "    <tr style=\"text-align: right;\">\n",
       "      <th></th>\n",
       "      <th>PM10</th>\n",
       "    </tr>\n",
       "  </thead>\n",
       "  <tbody>\n",
       "    <tr>\n",
       "      <th>count</th>\n",
       "      <td>60629.000000</td>\n",
       "    </tr>\n",
       "    <tr>\n",
       "      <th>mean</th>\n",
       "      <td>-0.078455</td>\n",
       "    </tr>\n",
       "    <tr>\n",
       "      <th>std</th>\n",
       "      <td>0.851036</td>\n",
       "    </tr>\n",
       "    <tr>\n",
       "      <th>min</th>\n",
       "      <td>-0.875321</td>\n",
       "    </tr>\n",
       "    <tr>\n",
       "      <th>25%</th>\n",
       "      <td>NaN</td>\n",
       "    </tr>\n",
       "    <tr>\n",
       "      <th>50%</th>\n",
       "      <td>NaN</td>\n",
       "    </tr>\n",
       "    <tr>\n",
       "      <th>75%</th>\n",
       "      <td>NaN</td>\n",
       "    </tr>\n",
       "    <tr>\n",
       "      <th>max</th>\n",
       "      <td>9.045878</td>\n",
       "    </tr>\n",
       "  </tbody>\n",
       "</table>\n",
       "</div>"
      ],
      "text/plain": [
       "               PM10\n",
       "count  60629.000000\n",
       "mean      -0.078455\n",
       "std        0.851036\n",
       "min       -0.875321\n",
       "25%             NaN\n",
       "50%             NaN\n",
       "75%             NaN\n",
       "max        9.045878"
      ]
     },
     "execution_count": 55,
     "metadata": {},
     "output_type": "execute_result"
    }
   ],
   "source": [
    "Target.describe()"
   ]
  },
  {
   "cell_type": "code",
   "execution_count": 56,
   "metadata": {},
   "outputs": [
    {
     "name": "stdout",
     "output_type": "stream",
     "text": [
      "<class 'pandas.core.frame.DataFrame'>\n",
      "Int64Index: 89429 entries, 0 to 89499\n",
      "Data columns (total 1 columns):\n",
      "PM10    60629 non-null float64\n",
      "dtypes: float64(1)\n",
      "memory usage: 1.4 MB\n"
     ]
    }
   ],
   "source": [
    "Target.info()"
   ]
  },
  {
   "cell_type": "code",
   "execution_count": 57,
   "metadata": {},
   "outputs": [
    {
     "name": "stdout",
     "output_type": "stream",
     "text": [
      "<class 'pandas.core.frame.DataFrame'>\n",
      "Int64Index: 23 entries, 1032 to 1054\n",
      "Data columns (total 1 columns):\n",
      "PM10    0 non-null float64\n",
      "dtypes: float64(1)\n",
      "memory usage: 368.0 bytes\n"
     ]
    }
   ],
   "source": [
    "Target[961:984].info()"
   ]
  },
  {
   "cell_type": "code",
   "execution_count": 58,
   "metadata": {
    "collapsed": true
   },
   "outputs": [],
   "source": [
    "Target.drop(Target.index[961:984],inplace=True);"
   ]
  },
  {
   "cell_type": "code",
   "execution_count": 59,
   "metadata": {},
   "outputs": [
    {
     "name": "stdout",
     "output_type": "stream",
     "text": [
      "<class 'pandas.core.frame.DataFrame'>\n",
      "Int64Index: 23 entries, 1176 to 1198\n",
      "Data columns (total 1 columns):\n",
      "PM10    0 non-null float64\n",
      "dtypes: float64(1)\n",
      "memory usage: 368.0 bytes\n"
     ]
    }
   ],
   "source": [
    "Target[1082:1105].info() # 23 consecutive nana values"
   ]
  },
  {
   "cell_type": "code",
   "execution_count": 60,
   "metadata": {
    "collapsed": true
   },
   "outputs": [],
   "source": [
    "Target.drop(Target.index[1082:1105],inplace=True)"
   ]
  },
  {
   "cell_type": "code",
   "execution_count": 61,
   "metadata": {},
   "outputs": [
    {
     "name": "stdout",
     "output_type": "stream",
     "text": [
      "<class 'pandas.core.frame.DataFrame'>\n",
      "Int64Index: 18 entries, 1205 to 1222\n",
      "Data columns (total 1 columns):\n",
      "PM10    0 non-null float64\n",
      "dtypes: float64(1)\n",
      "memory usage: 288.0 bytes\n"
     ]
    }
   ],
   "source": [
    "Target[1088:1106].info() # 18 entries null"
   ]
  },
  {
   "cell_type": "code",
   "execution_count": 62,
   "metadata": {
    "collapsed": true
   },
   "outputs": [],
   "source": [
    "Target.drop(Target.index[1088:1106],inplace=True)"
   ]
  },
  {
   "cell_type": "code",
   "execution_count": 63,
   "metadata": {},
   "outputs": [
    {
     "name": "stdout",
     "output_type": "stream",
     "text": [
      "<class 'pandas.core.frame.DataFrame'>\n",
      "Int64Index: 24 entries, 1704 to 1727\n",
      "Data columns (total 1 columns):\n",
      "PM10    0 non-null float64\n",
      "dtypes: float64(1)\n",
      "memory usage: 384.0 bytes\n"
     ]
    }
   ],
   "source": [
    "Target[1569:1593].info()# 24 consecutive entries missing"
   ]
  },
  {
   "cell_type": "code",
   "execution_count": 64,
   "metadata": {
    "collapsed": true
   },
   "outputs": [],
   "source": [
    "Target.drop(Target.index[1569:1593],inplace=True)"
   ]
  },
  {
   "cell_type": "code",
   "execution_count": 65,
   "metadata": {},
   "outputs": [
    {
     "name": "stdout",
     "output_type": "stream",
     "text": [
      "<class 'pandas.core.frame.DataFrame'>\n",
      "Int64Index: 16 entries, 1848 to 1863\n",
      "Data columns (total 1 columns):\n",
      "PM10    0 non-null float64\n",
      "dtypes: float64(1)\n",
      "memory usage: 256.0 bytes\n"
     ]
    }
   ],
   "source": [
    "Target[1689:1705].info()# 16 consecutive entries missing"
   ]
  },
  {
   "cell_type": "code",
   "execution_count": 66,
   "metadata": {
    "collapsed": true
   },
   "outputs": [],
   "source": [
    "Target.drop(Target.index[1689:1705],inplace=True)"
   ]
  },
  {
   "cell_type": "code",
   "execution_count": 67,
   "metadata": {},
   "outputs": [
    {
     "name": "stdout",
     "output_type": "stream",
     "text": [
      "<class 'pandas.core.frame.DataFrame'>\n",
      "Int64Index: 24 entries, 2447 to 2470\n",
      "Data columns (total 1 columns):\n",
      "PM10    0 non-null float64\n",
      "dtypes: float64(1)\n",
      "memory usage: 384.0 bytes\n"
     ]
    }
   ],
   "source": [
    "Target[2272:2296].info()# 24 consecutive entries missing"
   ]
  },
  {
   "cell_type": "code",
   "execution_count": 68,
   "metadata": {
    "collapsed": true
   },
   "outputs": [],
   "source": [
    "Target.drop(Target.index[2272:2296],inplace=True)# 16 consecutive entries missing"
   ]
  },
  {
   "cell_type": "code",
   "execution_count": 69,
   "metadata": {},
   "outputs": [
    {
     "name": "stdout",
     "output_type": "stream",
     "text": [
      "<class 'pandas.core.frame.DataFrame'>\n",
      "Int64Index: 122 entries, 3669 to 3790\n",
      "Data columns (total 1 columns):\n",
      "PM10    0 non-null float64\n",
      "dtypes: float64(1)\n",
      "memory usage: 1.9 KB\n"
     ]
    }
   ],
   "source": [
    "Target[3470:3592].info()# 24 consecutive entries missing"
   ]
  },
  {
   "cell_type": "code",
   "execution_count": 70,
   "metadata": {
    "collapsed": true
   },
   "outputs": [],
   "source": [
    "Target.drop(Target.index[3470:3592],inplace=True)# 122 consecutive entries missing"
   ]
  },
  {
   "cell_type": "code",
   "execution_count": 71,
   "metadata": {},
   "outputs": [
    {
     "name": "stdout",
     "output_type": "stream",
     "text": [
      "<class 'pandas.core.frame.DataFrame'>\n",
      "Int64Index: 368 entries, 7814 to 8181\n",
      "Data columns (total 1 columns):\n",
      "PM10    0 non-null float64\n",
      "dtypes: float64(1)\n",
      "memory usage: 5.8 KB\n"
     ]
    }
   ],
   "source": [
    "Target[7493:7861].info()"
   ]
  },
  {
   "cell_type": "code",
   "execution_count": 72,
   "metadata": {},
   "outputs": [
    {
     "name": "stdout",
     "output_type": "stream",
     "text": [
      "<class 'pandas.core.frame.DataFrame'>\n",
      "Int64Index: 18716 entries, 17028 to 35743\n",
      "Data columns (total 1 columns):\n",
      "PM10    264 non-null float64\n",
      "dtypes: float64(1)\n",
      "memory usage: 292.4 KB\n"
     ]
    }
   ],
   "source": [
    "Target[16707:35423].info()"
   ]
  },
  {
   "cell_type": "code",
   "execution_count": 73,
   "metadata": {
    "collapsed": true
   },
   "outputs": [],
   "source": [
    "Target.drop(Target.index[16707:35423],inplace=True)# 122 consecutive entries missing"
   ]
  },
  {
   "cell_type": "code",
   "execution_count": 74,
   "metadata": {},
   "outputs": [
    {
     "name": "stderr",
     "output_type": "stream",
     "text": [
      "//anaconda/envs/seychelles/lib/python3.5/site-packages/numpy/lib/function_base.py:3834: RuntimeWarning: Invalid value encountered in percentile\n",
      "  RuntimeWarning)\n"
     ]
    },
    {
     "data": {
      "text/html": [
       "<div>\n",
       "<table border=\"1\" class=\"dataframe\">\n",
       "  <thead>\n",
       "    <tr style=\"text-align: right;\">\n",
       "      <th></th>\n",
       "      <th>PM10</th>\n",
       "    </tr>\n",
       "  </thead>\n",
       "  <tbody>\n",
       "    <tr>\n",
       "      <th>count</th>\n",
       "      <td>60365.000000</td>\n",
       "    </tr>\n",
       "    <tr>\n",
       "      <th>mean</th>\n",
       "      <td>-0.078569</td>\n",
       "    </tr>\n",
       "    <tr>\n",
       "      <th>std</th>\n",
       "      <td>0.852256</td>\n",
       "    </tr>\n",
       "    <tr>\n",
       "      <th>min</th>\n",
       "      <td>-0.875321</td>\n",
       "    </tr>\n",
       "    <tr>\n",
       "      <th>25%</th>\n",
       "      <td>NaN</td>\n",
       "    </tr>\n",
       "    <tr>\n",
       "      <th>50%</th>\n",
       "      <td>NaN</td>\n",
       "    </tr>\n",
       "    <tr>\n",
       "      <th>75%</th>\n",
       "      <td>NaN</td>\n",
       "    </tr>\n",
       "    <tr>\n",
       "      <th>max</th>\n",
       "      <td>9.045878</td>\n",
       "    </tr>\n",
       "  </tbody>\n",
       "</table>\n",
       "</div>"
      ],
      "text/plain": [
       "               PM10\n",
       "count  60365.000000\n",
       "mean      -0.078569\n",
       "std        0.852256\n",
       "min       -0.875321\n",
       "25%             NaN\n",
       "50%             NaN\n",
       "75%             NaN\n",
       "max        9.045878"
      ]
     },
     "execution_count": 74,
     "metadata": {},
     "output_type": "execute_result"
    }
   ],
   "source": [
    "Target.describe()"
   ]
  },
  {
   "cell_type": "code",
   "execution_count": 75,
   "metadata": {},
   "outputs": [
    {
     "name": "stdout",
     "output_type": "stream",
     "text": [
      "<class 'pandas.core.frame.DataFrame'>\n",
      "Int64Index: 713 entries, 35847 to 36559\n",
      "Data columns (total 1 columns):\n",
      "PM10    96 non-null float64\n",
      "dtypes: float64(1)\n",
      "memory usage: 11.1 KB\n"
     ]
    }
   ],
   "source": [
    "Target[16810:17523].info()"
   ]
  },
  {
   "cell_type": "code",
   "execution_count": 76,
   "metadata": {
    "collapsed": true
   },
   "outputs": [],
   "source": [
    "Target.drop(Target.index[16810:17523],inplace=True)# 122 consecutive entries missing"
   ]
  },
  {
   "cell_type": "code",
   "execution_count": 77,
   "metadata": {},
   "outputs": [
    {
     "name": "stdout",
     "output_type": "stream",
     "text": [
      "<class 'pandas.core.frame.DataFrame'>\n",
      "Int64Index: 18742 entries, 70758 to 89499\n",
      "Data columns (total 1 columns):\n",
      "PM10    18008 non-null float64\n",
      "dtypes: float64(1)\n",
      "memory usage: 292.8 KB\n"
     ]
    }
   ],
   "source": [
    "Target[51008:79900].info()"
   ]
  },
  {
   "cell_type": "code",
   "execution_count": 78,
   "metadata": {},
   "outputs": [
    {
     "name": "stdout",
     "output_type": "stream",
     "text": [
      "Percentage of Missing Value: \n"
     ]
    },
    {
     "data": {
      "text/plain": [
       "PM10    13.592832\n",
       "dtype: float64"
      ]
     },
     "execution_count": 78,
     "metadata": {},
     "output_type": "execute_result"
    }
   ],
   "source": [
    "print(\"Percentage of Missing Value: \"); getPctMissing(Target) # Reduced percentage of missingvalues"
   ]
  },
  {
   "cell_type": "markdown",
   "metadata": {},
   "source": [
    "# Data After Cleaning"
   ]
  },
  {
   "cell_type": "code",
   "execution_count": 79,
   "metadata": {
    "collapsed": true
   },
   "outputs": [],
   "source": [
    "Target = Target.reset_index(drop=True)"
   ]
  },
  {
   "cell_type": "code",
   "execution_count": 80,
   "metadata": {},
   "outputs": [
    {
     "name": "stdout",
     "output_type": "stream",
     "text": [
      "<class 'pandas.core.frame.DataFrame'>\n",
      "RangeIndex: 69750 entries, 0 to 69749\n",
      "Data columns (total 1 columns):\n",
      "PM10    60269 non-null float64\n",
      "dtypes: float64(1)\n",
      "memory usage: 545.0 KB\n"
     ]
    }
   ],
   "source": [
    "Target.info()"
   ]
  },
  {
   "cell_type": "code",
   "execution_count": 81,
   "metadata": {},
   "outputs": [
    {
     "name": "stdout",
     "output_type": "stream",
     "text": [
      "Number of null values in PM10 : \n"
     ]
    },
    {
     "data": {
      "text/plain": [
       "PM10    9481\n",
       "dtype: int64"
      ]
     },
     "execution_count": 81,
     "metadata": {},
     "output_type": "execute_result"
    }
   ],
   "source": [
    "print(\"Number of null values in PM10 : \");Target.isnull().sum()"
   ]
  },
  {
   "cell_type": "code",
   "execution_count": 82,
   "metadata": {},
   "outputs": [
    {
     "name": "stdout",
     "output_type": "stream",
     "text": [
      "Number of non null values in PM10 : \n"
     ]
    },
    {
     "data": {
      "text/plain": [
       "PM10    60269\n",
       "dtype: int64"
      ]
     },
     "execution_count": 82,
     "metadata": {},
     "output_type": "execute_result"
    }
   ],
   "source": [
    "print(\"Number of non null values in PM10 : \");Target.count()"
   ]
  },
  {
   "cell_type": "markdown",
   "metadata": {},
   "source": [
    "# Dealing With Missing Values"
   ]
  },
  {
   "cell_type": "markdown",
   "metadata": {},
   "source": [
    "<p> In this session we fill missing value with the local mean before passind the values into the tensorflow computational graph </p>"
   ]
  },
  {
   "cell_type": "code",
   "execution_count": 83,
   "metadata": {
    "collapsed": true
   },
   "outputs": [],
   "source": [
    "#Target.fillna(0,inplace=True) # Fill Missing value with 0. Default model"
   ]
  },
  {
   "cell_type": "code",
   "execution_count": 84,
   "metadata": {},
   "outputs": [],
   "source": [
    "Target_list = Target.values.tolist() # create a list of values for use in data model"
   ]
  },
  {
   "cell_type": "markdown",
   "metadata": {},
   "source": [
    "# Prepare Data "
   ]
  },
  {
   "cell_type": "code",
   "execution_count": 85,
   "metadata": {
    "collapsed": true
   },
   "outputs": [],
   "source": [
    "counter=0\n",
    "def dataGetter(datalist):\n",
    "    \"\"\"\n",
    "    Returns a single PM10 value.\n",
    "    Input: PM10 Data list named Target_list above\n",
    "    Output: single PM10 value\n",
    "    \"\"\"\n",
    "    global counter;\n",
    "    assert type(datalist) == list;\n",
    "    \n",
    "    \n",
    "    value = datalist[counter]\n",
    "    #print(counter)\n",
    "\n",
    "\n",
    "    counter = counter +1\n",
    "             \n",
    "    return np.array([value])"
   ]
  },
  {
   "cell_type": "code",
   "execution_count": 86,
   "metadata": {
    "collapsed": true
   },
   "outputs": [],
   "source": [
    "# Define window size or learning\n",
    "sliding_window = []\n",
    "lag=25 # 24 hours time step from 0 to 24 plus the window_step_move (25) which is to be predicted\n",
    "window_move_step = 1\n",
    "for i in range(lag - window_move_step):\n",
    "    sliding_window.append(dataGetter(Target_list))"
   ]
  },
  {
   "cell_type": "code",
   "execution_count": null,
   "metadata": {
    "collapsed": true
   },
   "outputs": [],
   "source": []
  },
  {
   "cell_type": "code",
   "execution_count": 87,
   "metadata": {
    "collapsed": true
   },
   "outputs": [],
   "source": [
    "#from numpy import isnan\n",
    "\n",
    "#k =  ~isnan(test) * ~isnan(test)"
   ]
  },
  {
   "cell_type": "code",
   "execution_count": null,
   "metadata": {},
   "outputs": [],
   "source": []
  },
  {
   "cell_type": "code",
   "execution_count": null,
   "metadata": {
    "collapsed": true
   },
   "outputs": [],
   "source": []
  },
  {
   "cell_type": "code",
   "execution_count": null,
   "metadata": {
    "collapsed": true
   },
   "outputs": [],
   "source": []
  },
  {
   "cell_type": "code",
   "execution_count": 89,
   "metadata": {
    "collapsed": true
   },
   "outputs": [],
   "source": [
    "def get_pair(Target):\n",
    "    \"\"\"\n",
    "    Returns an (current, target) \n",
    "    Target is lag steps 24 ahead of current\n",
    "    \"\"\"\n",
    " \n",
    "    global sliding_window\n",
    "    sliding_window.append(dataGetter(Target))\n",
    "    #print(len(sliding_window))\n",
    "    \n",
    "    input_value = sliding_window[0:24]\n",
    "    \n",
    "    input_value=np.array(input_value)\n",
    "    #print(input_value.shape)\n",
    "    input_value=np.reshape(input_value,(1,24))\n",
    "    ##print(input_value)\n",
    "    output_value = sliding_window[-1]\n",
    "    ##print(output_value)\n",
    "    sliding_window = sliding_window[1:]\n",
    "    #print(len(sliding_window))\n",
    "    return input_value, output_value"
   ]
  },
  {
   "cell_type": "code",
   "execution_count": null,
   "metadata": {
    "collapsed": true
   },
   "outputs": [],
   "source": []
  },
  {
   "cell_type": "code",
   "execution_count": 90,
   "metadata": {},
   "outputs": [
    {
     "data": {
      "text/plain": [
       "24"
      ]
     },
     "execution_count": 90,
     "metadata": {},
     "output_type": "execute_result"
    }
   ],
   "source": [
    "len(sliding_window)"
   ]
  },
  {
   "cell_type": "markdown",
   "metadata": {},
   "source": [
    "#Input Params\n",
    "input_dim = 1\n",
    " \n",
    "#To maintain state\n",
    "last_value = np.array([0 for i in range(input_dim)])\n",
    "last_derivative = np.array([0 for i in range(input_dim)])\n",
    " \n",
    "def get_total_input_output(Target):\n",
    "    \"\"\"\n",
    "    Get Total feed vector - input and output \n",
    "    \"\"\"\n",
    "    global last_value, last_derivative\n",
    "    raw_i, raw_o = get_pair(Target)\n",
    "    raw_i = raw_i[0]\n",
    "    l1 = list(raw_i)\n",
    "    derivative = raw_i - last_value\n",
    "    l2 = list(derivative)\n",
    "    last_value = raw_i\n",
    "    l3 = list(derivative - last_derivative)\n",
    "    last_derivative = derivative\n",
    "    return np.array([l1 + l2 + l3]), raw_o"
   ]
  },
  {
   "cell_type": "code",
   "execution_count": null,
   "metadata": {
    "collapsed": true
   },
   "outputs": [],
   "source": []
  },
  {
   "cell_type": "code",
   "execution_count": null,
   "metadata": {
    "collapsed": true
   },
   "outputs": [],
   "source": []
  },
  {
   "cell_type": "markdown",
   "metadata": {},
   "source": [
    "# Build Model"
   ]
  },
  {
   "cell_type": "code",
   "execution_count": 91,
   "metadata": {
    "collapsed": true
   },
   "outputs": [],
   "source": [
    "#Imports\n",
    "import tensorflow as tf\n",
    "#from tensorflow.nn.rnn import *\n",
    "from tensorflow.python.ops  import *\n"
   ]
  },
  {
   "cell_type": "code",
   "execution_count": 92,
   "metadata": {
    "collapsed": true
   },
   "outputs": [],
   "source": [
    "#Input Params\n",
    "with tf.name_scope(\"input_target_placeholders\"):    \n",
    "    input_dim = 1\n",
    "    ##The Input Layer as a Placeholder\n",
    "    #Since we will provide data sequentially, the 'batch size'\n",
    "    #is 1.\n",
    "    input_layer = tf.placeholder(tf.float32, [1, input_dim*24],name=\"input_data\")\n",
    "    correct_output = tf.placeholder(tf.float32, [1, input_dim],name=\"target_data\")"
   ]
  },
  {
   "cell_type": "code",
   "execution_count": null,
   "metadata": {
    "collapsed": true
   },
   "outputs": [],
   "source": []
  },
  {
   "cell_type": "code",
   "execution_count": 93,
   "metadata": {
    "collapsed": true
   },
   "outputs": [],
   "source": [
    "###inistate = tf.Variable(lstm_cell_with_dropout.zero_state(BATCH_SIZE, tf.float32), trainable=False)"
   ]
  },
  {
   "cell_type": "code",
   "execution_count": 94,
   "metadata": {},
   "outputs": [
    {
     "name": "stderr",
     "output_type": "stream",
     "text": [
      "WARNING:tensorflow:<tensorflow.python.ops.rnn_cell.BasicLSTMCell object at 0x11da28e10>: Using a concatenated state is slower and will soon be deprecated.  Use state_is_tuple=True.\n"
     ]
    }
   ],
   "source": [
    "with tf.name_scope(\"lstmLayer\"):    \n",
    "    lstm_layer1 = rnn_cell.BasicLSTMCell(input_dim*24,state_is_tuple=False)\n",
    "    #The LSTM state as a Variable initialized to zeroes\n",
    "    lstm_state1 = tf.Variable(tf.zeros([1, lstm_layer1.state_size]),trainable=False,name=\"initial_state\")\n",
    "    #lstm_state1 = tf.Variable(lstm_layer1.zero_state(1,lstm_layer1.state_size[-1] ), trainable=False)\n",
    "    #Connect the input layer and initial LSTM state to the LSTM cell\n",
    "    lstm_output1, lstm_state_output1 = lstm_layer1(input_layer, lstm_state1)\n",
    "    #The LSTM state will get updated\n",
    "    lstm_update_op1 = lstm_state1.assign(lstm_state_output1)"
   ]
  },
  {
   "cell_type": "code",
   "execution_count": 72,
   "metadata": {},
   "outputs": [
    {
     "data": {
      "text/plain": [
       "TensorShape([Dimension(1), Dimension(24)])"
      ]
     },
     "execution_count": 72,
     "metadata": {},
     "output_type": "execute_result"
    }
   ],
   "source": [
    "lstm_output1.get_shape() # verify shape"
   ]
  },
  {
   "cell_type": "code",
   "execution_count": null,
   "metadata": {
    "collapsed": true
   },
   "outputs": [],
   "source": []
  },
  {
   "cell_type": "code",
   "execution_count": 138,
   "metadata": {},
   "outputs": [],
   "source": [
    "with tf.name_scope(\"weight_Bias_learning_rate\"):\n",
    "    global_step = tf.Variable(0, trainable=False,name=\"global_step\")\n",
    "    starter_learning_rate = 0.09\n",
    "    learning_rate = tf.train.exponential_decay(starter_learning_rate, global_step,\n",
    "                                           1000, 0.8, staircase=False,name =\"Exponential_decay\")\n",
    "    ##The Regression-Output Layer\n",
    "    #The Weights and Biases matrices first\n",
    "    output_W1 = tf.Variable(tf.truncated_normal([input_dim*48, input_dim]),name=\"weight\")\n",
    "    output_b1 = tf.Variable(tf.zeros([input_dim]),name=\"bias\")\n",
    "    "
   ]
  },
  {
   "cell_type": "code",
   "execution_count": 139,
   "metadata": {
    "collapsed": true
   },
   "outputs": [],
   "source": [
    "lambda_l2_reg=0.5\n",
    "l2 = lambda_l2_reg * sum(\n",
    "    tf.nn.l2_loss(tf_var)\n",
    "        for tf_var in tf.trainable_variables()\n",
    "        if not (\"noreg\" in tf_var.name or \"bias\" in tf_var.name)\n",
    ")\n",
    "#loss += l2"
   ]
  },
  {
   "cell_type": "code",
   "execution_count": 140,
   "metadata": {
    "collapsed": true
   },
   "outputs": [],
   "source": [
    "with tf.name_scope(\"prediction\"):\n",
    "    #Compute the output\n",
    "    final_output = tf.matmul(lstm_state_output1, output_W1) + output_b1"
   ]
  },
  {
   "cell_type": "code",
   "execution_count": 141,
   "metadata": {},
   "outputs": [
    {
     "data": {
      "text/plain": [
       "TensorShape([Dimension(1), Dimension(1)])"
      ]
     },
     "execution_count": 141,
     "metadata": {},
     "output_type": "execute_result"
    }
   ],
   "source": [
    "final_output.get_shape() # verify output shape"
   ]
  },
  {
   "cell_type": "code",
   "execution_count": 142,
   "metadata": {},
   "outputs": [
    {
     "data": {
      "text/plain": [
       "<tensorflow.python.ops.variables.Variable at 0x11d7152b0>"
      ]
     },
     "execution_count": 142,
     "metadata": {},
     "output_type": "execute_result"
    }
   ],
   "source": [
    "output_W1 # verify weight shape"
   ]
  },
  {
   "cell_type": "code",
   "execution_count": 143,
   "metadata": {
    "collapsed": true
   },
   "outputs": [],
   "source": [
    "with tf.name_scope(\"RMS_error\"):\n",
    "    ##Calculate the Sum-of-Squares Error\n",
    "    error = tf.pow(tf.sub(final_output, correct_output), 2)+ l2"
   ]
  },
  {
   "cell_type": "code",
   "execution_count": 144,
   "metadata": {
    "collapsed": true
   },
   "outputs": [],
   "source": [
    "#error = tf.reshape(error,(1,))"
   ]
  },
  {
   "cell_type": "code",
   "execution_count": 145,
   "metadata": {
    "collapsed": true
   },
   "outputs": [],
   "source": [
    "with tf.name_scope(\"optimizer\"):\n",
    "    ##The Optimizer\n",
    "    #Adam works best\n",
    "    train_step = tf.train.AdamOptimizer(learning_rate).minimize(error)"
   ]
  },
  {
   "cell_type": "code",
   "execution_count": 146,
   "metadata": {
    "collapsed": true
   },
   "outputs": [],
   "source": [
    "# Create a summary to monitor MSE\n",
    "mse=tf.summary.tensor_summary(\"errors_Summary\",error)\n",
    "# Create a summary to monitor  predictions\n",
    "prediction=tf.summary.tensor_summary(\"predictions_Summmary\", final_output)\n",
    "# Create a summary to monitor bias\n",
    "bias_vec=tf.summary.tensor_summary(\"bias\", output_b1)\n",
    "# create sumary\n",
    "#rate_vec=tf.summary.scalar(\"rate\", learning_rate)\n",
    "\n",
    "\n",
    "#histogram plot\n",
    "\n",
    "error_stats=tf.histogram_summary(\"errors_Histogram\",error)\n",
    "weight_stats=tf.histogram_summary(\"weights_Histogram\",output_W1)\n",
    "bias_stats=tf.histogram_summary(\"biases_Histogram\",output_b1)\n",
    "#learning_stats=tf.histogram_summary(\"biases_Histogram\",learning_rate)\n",
    "\n",
    "\n",
    "#merged_summary_op =  tf.merge_all_summaries()\n",
    "merged_summary_op =   tf.merge_summary([mse,prediction,bias_vec,error_stats,weight_stats,bias_stats])"
   ]
  },
  {
   "cell_type": "code",
   "execution_count": 147,
   "metadata": {},
   "outputs": [],
   "source": [
    "##Session\n",
    "sess = tf.Session()\n",
    "#Initialize all Variables\n",
    "#sess.run(tf.initialize_all_variables())\n",
    "sess.run(tf.initialize_all_variables())"
   ]
  },
  {
   "cell_type": "code",
   "execution_count": 148,
   "metadata": {},
   "outputs": [
    {
     "data": {
      "text/plain": [
       "69750"
      ]
     },
     "execution_count": 148,
     "metadata": {},
     "output_type": "execute_result"
    }
   ],
   "source": [
    "len(Target_list)"
   ]
  },
  {
   "cell_type": "code",
   "execution_count": null,
   "metadata": {
    "collapsed": true
   },
   "outputs": [],
   "source": []
  },
  {
   "cell_type": "markdown",
   "metadata": {},
   "source": [
    "# Evaluation Data set"
   ]
  },
  {
   "cell_type": "code",
   "execution_count": 149,
   "metadata": {
    "collapsed": true
   },
   "outputs": [],
   "source": [
    "logs_path = '/Users/Seychelles/Desktop/GoogleTensorflow/finals/tensorboardData/local_mean/'"
   ]
  },
  {
   "cell_type": "code",
   "execution_count": null,
   "metadata": {
    "collapsed": true
   },
   "outputs": [],
   "source": []
  },
  {
   "cell_type": "code",
   "execution_count": null,
   "metadata": {
    "collapsed": true
   },
   "outputs": [],
   "source": []
  },
  {
   "cell_type": "code",
   "execution_count": 150,
   "metadata": {
    "collapsed": true
   },
   "outputs": [],
   "source": [
    "##Training Parameters\n",
    "n_iter = 60000 \n",
    "inner_iter = 6000\n",
    "actual_output1 = []\n",
    "network_output1 = []\n",
    "validation_prediction=[];\n",
    "validation_target =[];\n",
    "lower_bound=0;\n",
    "upper_bound=800;\n",
    "prediction_window=800"
   ]
  },
  {
   "cell_type": "code",
   "execution_count": 151,
   "metadata": {},
   "outputs": [
    {
     "data": {
      "text/plain": [
       "69750"
      ]
     },
     "execution_count": 151,
     "metadata": {},
     "output_type": "execute_result"
    }
   ],
   "source": [
    "len(Target_list)"
   ]
  },
  {
   "cell_type": "code",
   "execution_count": 152,
   "metadata": {
    "collapsed": true
   },
   "outputs": [],
   "source": [
    "import copy\n",
    "#new_list = copy.deepcopy(old_list)\n",
    "Test_eval=copy.deepcopy(Target_list[60001:])"
   ]
  },
  {
   "cell_type": "code",
   "execution_count": 153,
   "metadata": {},
   "outputs": [
    {
     "data": {
      "text/plain": [
       "9749"
      ]
     },
     "execution_count": 153,
     "metadata": {},
     "output_type": "execute_result"
    }
   ],
   "source": [
    "len(Test_eval)"
   ]
  },
  {
   "cell_type": "code",
   "execution_count": 154,
   "metadata": {},
   "outputs": [
    {
     "data": {
      "text/plain": [
       "9750"
      ]
     },
     "execution_count": 154,
     "metadata": {},
     "output_type": "execute_result"
    }
   ],
   "source": [
    "len(Target_list)-n_iter"
   ]
  },
  {
   "cell_type": "code",
   "execution_count": 155,
   "metadata": {
    "collapsed": true
   },
   "outputs": [],
   "source": [
    "# We have 500000 iterations\n",
    "# Between itertions and every 5000 steps we make all initial_state = 0 and  cross-validate\n",
    "# We have 19 validation set\n",
    "# We test with the remainder \n",
    "Remainder = len(Test_eval) - ((n_iter/inner_iter)*prediction_window)"
   ]
  },
  {
   "cell_type": "code",
   "execution_count": 156,
   "metadata": {
    "collapsed": true
   },
   "outputs": [],
   "source": [
    "Remainder = int(Remainder)"
   ]
  },
  {
   "cell_type": "code",
   "execution_count": 157,
   "metadata": {},
   "outputs": [],
   "source": [
    "test_part =48; # keep this for testing\n",
    "Remainder= Remainder-test_part\n",
    "Remainder = int(Remainder)"
   ]
  },
  {
   "cell_type": "code",
   "execution_count": null,
   "metadata": {
    "collapsed": true
   },
   "outputs": [],
   "source": []
  },
  {
   "cell_type": "markdown",
   "metadata": {
    "collapsed": true
   },
   "source": [
    "\n",
    "error_=[]\n",
    "#k=[]#------check\n",
    "flexible=24\n",
    "non_nan_value_count = []\n",
    "\n",
    "\n",
    "with tf.Session() as sess:\n",
    "    sess.run(init)\n",
    "\n",
    "\n",
    "    writer = tf.train.SummaryWriter(logs_path, graph= tf.get_default_graph()) \n",
    "\n",
    "    counter =0 \n",
    "    assert counter==0\n",
    "\n",
    "    for i in range(n_iter):\n",
    "        input_v, output_v = get_pair(Target_list)\n",
    "        \n",
    "        nan_boolean = isfinite(input_v) * isfinite(input_v)\n",
    "        nan_counter = np.count_nonzero(~nan_boolean)\n",
    "        non_nan_value_count.append(nan_counter);\n",
    "        #k.append(input_v)#----check\n",
    "        if nan_counter < flexible:\n",
    "            #print(input_v)----check\n",
    "            input_mean = np.nanmean(input_v, axis=1)\n",
    "            #print(input_mean)----check\n",
    "            input_v=np.where(np.isnan(input_v), ma.array(input_v, mask=np.isnan(input_v)).mean(axis=1), input_v)  \n",
    "            #print(input_v)------check\n",
    "        #output_v =np.nan\n",
    "        if np.isnan(output_v)==True:\n",
    "            #assert(True)---check\n",
    "            output_v= input_mean;\n",
    "            #print(output_v)\n",
    "            output_v = output_v.reshape(1,1)\n",
    "            \n",
    "        \n",
    "        #break;----uncomment to check\n",
    "        if  nan_counter < flexible:\n",
    "            _, _, network_output,errors,summary = sess.run([lstm_update_op1,\n",
    "                                     train_step,\n",
    "                                     final_output,error,merged_summary_op],\n",
    "                                    feed_dict = {\n",
    "                                        input_layer: input_v,\n",
    "                                        correct_output: output_v})\n",
    "            writer.add_summary(summary)\n",
    "            error_.append(errors)\n",
    "            if i%inner_iter==0 & i!=0:\n",
    "                assert i!=0;\n",
    "                sess.run(lstm_state1.assign(tf.zeros([1, lstm_layer1.state_size])))\n",
    "        \n",
    "                for j in range(len(Test_eval[lower_bound:upper_bound])):\n",
    "                    input_val, output_val = get_pair(Test2)\n",
    "                    _, network_output = sess.run([lstm_update_op1,\n",
    "                                      final_output],\n",
    "                                     feed_dict = {\n",
    "                                     input_layer: input_val,\n",
    "                                     correct_output: output_val})\n",
    "                    lower_bound= lower_bound+prediction_window;\n",
    "                    upper_bound = upper_bound + prediction_window;\n",
    "                    validation_target.append(output_val)\n",
    "                    validation_prediction.append(network_output1)\n",
    "        #sess.run(lstm_state1.assign(tf.zeros([1, lstm_layer1.state_size])))\n",
    "\n",
    "            actual_output1.append(output_v)\n",
    "            #actual_output2.append(output_v[0][1])\n",
    "            network_output1.append(network_output)\n",
    "            #network_output2.append(network_output[0][1])\n",
    "            #x_axis.append(i)\n",
    "        else:\n",
    "            continue\n",
    "                \n",
    "        \n",
    " \n",
    "    ############Testing ##########\n",
    "    sess.run(lstm_state1.assign(tf.zeros([1, lstm_layer1.state_size])))\n",
    "    actual_output_test = []\n",
    "    network_output_test = []\n",
    "    counter=0\n",
    "    #sliding_window=[]\n",
    "    #print(len(sliding_window))\n",
    "    #sliding_window.pop()\n",
    "    #print(len(sliding_window))\n",
    "    ki=[]\n",
    "    for i in range(len(Test_eval[-Remainder:])):\n",
    "        ki.append(i)\n",
    "        input_val, output_val = get_pair(Test_eval[-Remainder:])\n",
    "        #input_mean = np.nanmean(input_val, axis=1)\n",
    "        nan_boolean = isfinite(input_val) * isfinite(input_val)\n",
    "        nan_counter = np.count_nonzero(~nan_boolean)\n",
    "        #print(output_val)\n",
    "        #k.append(input_v)#----check\n",
    "        if nan_counter < flexible:\n",
    "            #print(input_v)----check\n",
    "            input_mean = np.nanmean(input_val, axis=1)\n",
    "            #print(input_mean)----check\n",
    "            input_val=np.where(np.isnan(input_val), ma.array(input_val, mask=np.isnan(input_val)).mean(axis=1), input_val)  \n",
    "            #print(input_v)------check\n",
    "        #output_v =np.nan\n",
    "        if np.isnan(output_val)==True:\n",
    "            #assert(True)---check\n",
    "            output_val= input_mean;\n",
    "            #print(output_v)\n",
    "            output_val = output_val.reshape(1,1)\n",
    "        #break;----uncomment to check\n",
    "        if nan_counter < flexible:\n",
    "            _, network_output2 = sess.run([lstm_update_op1,final_output],feed_dict = { input_layer: input_val,correct_output: output_val})\n",
    "            network_output_test.append(network_output2)\n",
    "            actual_output_test.append(output_val)\n",
    "        else:\n",
    "            continue"
   ]
  },
  {
   "cell_type": "code",
   "execution_count": 158,
   "metadata": {},
   "outputs": [],
   "source": [
    "error_=[]\n",
    "#k=[]#------check\n",
    "flexible=24\n",
    "non_nan_value_count = []\n",
    "\n",
    "\n",
    "\n",
    "   \n",
    "\n",
    "writer = tf.train.SummaryWriter(logs_path, graph= tf.get_default_graph()) \n",
    "\n",
    "counter =0 \n",
    "assert counter==0\n",
    "\n",
    "for i in range(n_iter):\n",
    "        input_v, output_v = get_pair(Target_list)\n",
    "        \n",
    "        nan_boolean = isfinite(input_v) * isfinite(input_v)\n",
    "        nan_counter = np.count_nonzero(~nan_boolean)\n",
    "        non_nan_value_count.append(nan_counter);\n",
    "        #k.append(input_v)#----check\n",
    "        if nan_counter < flexible:\n",
    "            #print(input_v)----check\n",
    "            input_mean = np.nanmean(input_v, axis=1)\n",
    "            #print(input_mean)----check\n",
    "            input_v=np.where(np.isnan(input_v), ma.array(input_v, mask=np.isnan(input_v)).mean(axis=1), input_v)  \n",
    "            #print(input_v)------check\n",
    "        #output_v =np.nan\n",
    "        if np.isnan(output_v)==True:\n",
    "            #assert(True)---check\n",
    "            output_v= input_mean;\n",
    "            #print(output_v)\n",
    "            output_v = output_v.reshape(1,1)\n",
    "            \n",
    "        \n",
    "        #break;----uncomment to check\n",
    "        if  nan_counter < flexible:\n",
    "            _, _, network_output,errors,summary = sess.run([lstm_update_op1,\n",
    "                                     train_step,\n",
    "                                     final_output,error,merged_summary_op],\n",
    "                                    feed_dict = {\n",
    "                                        input_layer: input_v,\n",
    "                                        correct_output: output_v})\n",
    "            writer.add_summary(summary)\n",
    "            error_.append(errors)\n",
    "            if i%inner_iter==0 & i!=0:\n",
    "                assert i!=0;\n",
    "                sess.run(lstm_state1.assign(tf.zeros([1, lstm_layer1.state_size])))\n",
    "        \n",
    "                for j in range(len(Test_eval[lower_bound:upper_bound])):\n",
    "                    input_val, output_val = get_pair(Test2)\n",
    "                    _, network_output = sess.run([lstm_update_op1,\n",
    "                                      final_output],\n",
    "                                     feed_dict = {\n",
    "                                     input_layer: input_val,\n",
    "                                     correct_output: output_val})\n",
    "                    lower_bound= lower_bound+prediction_window;\n",
    "                    upper_bound = upper_bound + prediction_window;\n",
    "                    validation_target.append(output_val)\n",
    "                    validation_prediction.append(network_output1)\n",
    "        #sess.run(lstm_state1.assign(tf.zeros([1, lstm_layer1.state_size])))\n",
    "\n",
    "            actual_output1.append(output_v)\n",
    "            #actual_output2.append(output_v[0][1])\n",
    "            network_output1.append(network_output)\n",
    "            #network_output2.append(network_output[0][1])\n",
    "            #x_axis.append(i)\n",
    "        else:\n",
    "            continue\n",
    "                \n",
    "        \n",
    " \n",
    "    ############Validation ##########\n",
    "sess.run(lstm_state1.assign(tf.zeros([1, lstm_layer1.state_size])))\n",
    "actual_output_test = []\n",
    "network_output_test = []\n",
    "counter=0\n",
    "    #sliding_window=[]\n",
    "    #print(len(sliding_window))\n",
    "    #sliding_window.pop()\n",
    "    #print(len(sliding_window))\n",
    "ki=[]\n",
    "validation_set = Test_eval[-Remainder:-48]\n",
    "for i in range(len(validation_set)):\n",
    "        ki.append(i)\n",
    "        input_val, output_val = get_pair(validation_set)\n",
    "        #input_mean = np.nanmean(input_val, axis=1)\n",
    "        nan_boolean = isfinite(input_val) * isfinite(input_val)\n",
    "        nan_counter = np.count_nonzero(~nan_boolean)\n",
    "        #print(output_val)\n",
    "        #k.append(input_v)#----check\n",
    "        if nan_counter < flexible:\n",
    "            #print(input_v)----check\n",
    "            input_mean = np.nanmean(input_val, axis=1)\n",
    "            #print(input_mean)----check\n",
    "            input_val=np.where(np.isnan(input_val), ma.array(input_val, mask=np.isnan(input_val)).mean(axis=1), input_val)  \n",
    "            #print(input_v)------check\n",
    "        #output_v =np.nan\n",
    "        if np.isnan(output_val)==True:\n",
    "            #assert(True)---check\n",
    "            output_val= input_mean;\n",
    "            #print(output_v)\n",
    "            output_val = output_val.reshape(1,1)\n",
    "        #break;----uncomment to check\n",
    "        if nan_counter < flexible:\n",
    "            _, network_output2 = sess.run([lstm_update_op1,final_output],feed_dict = { input_layer: input_val,correct_output: output_val})\n",
    "            network_output_test.append(network_output2)\n",
    "            actual_output_test.append(output_val)\n",
    "        else:\n",
    "            continue"
   ]
  },
  {
   "cell_type": "markdown",
   "metadata": {},
   "source": [
    "# Errors Plot"
   ]
  },
  {
   "cell_type": "code",
   "execution_count": 159,
   "metadata": {
    "collapsed": true
   },
   "outputs": [],
   "source": [
    "errorplot = np.array(error_)"
   ]
  },
  {
   "cell_type": "code",
   "execution_count": 160,
   "metadata": {},
   "outputs": [
    {
     "data": {
      "text/plain": [
       "(53209, 1, 1)"
      ]
     },
     "execution_count": 160,
     "metadata": {},
     "output_type": "execute_result"
    }
   ],
   "source": [
    "errorplot.shape"
   ]
  },
  {
   "cell_type": "code",
   "execution_count": 161,
   "metadata": {
    "collapsed": true
   },
   "outputs": [],
   "source": [
    "errorplot = errorplot.reshape(53209,1)"
   ]
  },
  {
   "cell_type": "code",
   "execution_count": null,
   "metadata": {
    "collapsed": true
   },
   "outputs": [],
   "source": []
  },
  {
   "cell_type": "code",
   "execution_count": 162,
   "metadata": {},
   "outputs": [
    {
     "data": {
      "image/png": "[encoded data removed]",
      "text/plain": [
       "<matplotlib.figure.Figure at 0x121923a90>"
      ]
     },
     "metadata": {},
     "output_type": "display_data"
    }
   ],
   "source": [
    "import matplotlib.mlab as mlab\n",
    "\n",
    "#fig, ax = plt.subplots()\n",
    "n, bins, patches=plt.hist(errorplot,15,normed=1,facecolor='green',alpha=0.9)\n",
    "mu= np.mean(errorplot);sigma=np.std(errorplot);\n",
    "y = mlab.normpdf( bins,mu,sigma)\n",
    "#y = mlab.normpdf( bins, mu, sigma)\n",
    "plt.plot(bins, y, 'r--', linewidth=2)\n",
    "#ax.set_yscale('log')\n",
    "#ax.set_xscale('log')\n",
    "plt.title(\"Histogram plot for error\")\n",
    "plt.ylabel(\"Frequemcy\")\n",
    "plt.xlabel(\"Error Values\")\n",
    "plt.show()"
   ]
  },
  {
   "cell_type": "code",
   "execution_count": 191,
   "metadata": {},
   "outputs": [
    {
     "data": {
      "image/png": "[encoded data removed]",
      "text/plain": [
       "<matplotlib.figure.Figure at 0x125802e10>"
      ]
     },
     "metadata": {},
     "output_type": "display_data"
    }
   ],
   "source": [
    "import matplotlib.mlab as mlab\n",
    "\n",
    "fig, ax = plt.subplots()\n",
    "plt.hist(errorplot,bins=200,normed=1,facecolor='olivedrab')\n",
    "\n",
    "ax.set_yscale('log')\n",
    "#ax.set_xscale('log')\n",
    "plt.title(\"Error plot\",fontweight='bold')\n",
    "plt.ylabel(\"Error Value\",fontweight='bold')\n",
    "plt.xlabel(\"Training Sample\",fontweight='bold')\n",
    "plt.show()"
   ]
  },
  {
   "cell_type": "code",
   "execution_count": null,
   "metadata": {
    "collapsed": true
   },
   "outputs": [],
   "source": []
  },
  {
   "cell_type": "code",
   "execution_count": null,
   "metadata": {
    "collapsed": true
   },
   "outputs": [],
   "source": []
  },
  {
   "cell_type": "code",
   "execution_count": null,
   "metadata": {
    "collapsed": true
   },
   "outputs": [],
   "source": []
  },
  {
   "cell_type": "markdown",
   "metadata": {},
   "source": [
    "# Extract Date in the series"
   ]
  },
  {
   "cell_type": "code",
   "execution_count": 164,
   "metadata": {
    "collapsed": true
   },
   "outputs": [],
   "source": [
    "from matplotlib.dates  import  date2num\n",
    "Data = pd.read_csv('ItemListWithDummy.csv')"
   ]
  },
  {
   "cell_type": "code",
   "execution_count": 165,
   "metadata": {
    "collapsed": true
   },
   "outputs": [],
   "source": [
    "pd.to_datetime(Data.date);"
   ]
  },
  {
   "cell_type": "code",
   "execution_count": 166,
   "metadata": {
    "collapsed": true
   },
   "outputs": [],
   "source": [
    "x_axis = Data['date']"
   ]
  },
  {
   "cell_type": "code",
   "execution_count": 167,
   "metadata": {
    "collapsed": true
   },
   "outputs": [],
   "source": [
    "x_axis = pd.to_datetime(x_axis)"
   ]
  },
  {
   "cell_type": "code",
   "execution_count": 168,
   "metadata": {
    "collapsed": true
   },
   "outputs": [],
   "source": [
    "#80000-len(network_output1)"
   ]
  },
  {
   "cell_type": "code",
   "execution_count": 169,
   "metadata": {
    "collapsed": true
   },
   "outputs": [],
   "source": [
    "network = np.array(network_output1)"
   ]
  },
  {
   "cell_type": "code",
   "execution_count": 170,
   "metadata": {
    "collapsed": true
   },
   "outputs": [],
   "source": [
    "actual= np.array(actual_output1)"
   ]
  },
  {
   "cell_type": "code",
   "execution_count": 171,
   "metadata": {},
   "outputs": [
    {
     "data": {
      "text/plain": [
       "(53209, 1, 1)"
      ]
     },
     "execution_count": 171,
     "metadata": {},
     "output_type": "execute_result"
    }
   ],
   "source": [
    "actual.shape"
   ]
  },
  {
   "cell_type": "code",
   "execution_count": 173,
   "metadata": {},
   "outputs": [
    {
     "data": {
      "text/plain": [
       "<matplotlib.figure.Figure at 0x125460320>"
      ]
     },
     "metadata": {},
     "output_type": "display_data"
    },
    {
     "data": {
      "image/png": "[encoded data removed]",
      "text/plain": [
       "<matplotlib.figure.Figure at 0x125460160>"
      ]
     },
     "metadata": {},
     "output_type": "display_data"
    }
   ],
   "source": [
    "import matplotlib.pyplot \n",
    "import matplotlib.dates\n",
    "\n",
    "\n",
    "\n",
    "\n",
    "fig = plt.figure(figsize=(30, 2))\n",
    "\n",
    "fig, ax = plt.subplots()\n",
    "ax.plot_date(x_axis[0:48], actual.reshape(53209,1)[0:48], 'b-')\n",
    "#ax.xaxis.set_minor_locator(dates.MonthLocator())\n",
    "#ax.xaxis.set_minor_formatter(dates.DateFormatter('%H:%M:%S'))\n",
    "#ax.xaxis.set_minor_formatter(dates.DateFormatter('%d\\n%a'))\n",
    "#ax.xaxis.grid(True, which=\"minor\")\n",
    "#ax.yaxis.grid()\n",
    "#ax.xaxis.set_major_locator(dates.DayLocator())\n",
    "#ax.xaxis.set_major_formatter(dates.DateFormatter('\\n\\n%a\\%b\\%Y'))\n",
    "ax.xaxis.set_major_formatter( matplotlib.dates.DateFormatter('%Y-%b-%a %H:%M:%S'))\n",
    "ax.xaxis.grid(True, which=\"minor\")\n",
    "\n",
    "\n",
    "\n",
    "#ax.xaxis.set_minor_formatter(dates.DateFormatter('\\n\\n%a\\%b\\%Y'))\n",
    "\n",
    "\n",
    "plt.xticks( rotation=25 )\n",
    "#plt.tight_layout()\n",
    "plt.ylabel(\"PM10 values\")\n",
    "plt.title(\"PM10  Actual  plot for Small Time Interval\")\n",
    "plt.show()"
   ]
  },
  {
   "cell_type": "code",
   "execution_count": 182,
   "metadata": {},
   "outputs": [
    {
     "data": {
      "text/plain": [
       "<matplotlib.figure.Figure at 0x126383a20>"
      ]
     },
     "metadata": {},
     "output_type": "display_data"
    },
    {
     "data": {
      "image/png": "[encoded data removed]",
      "text/plain": [
       "<matplotlib.figure.Figure at 0x126383b70>"
      ]
     },
     "metadata": {},
     "output_type": "display_data"
    }
   ],
   "source": [
    "fig = plt.figure(figsize=(30, 2))\n",
    "plt.rcParams[\"figure.figsize\"] = (8,5)\n",
    "fig, ax = plt.subplots()\n",
    "ax.plot(x_axis[0:48], network.reshape(53209,1)[0:48], 'r-')\n",
    "\n",
    "#ax.xaxis.set_minor_locator(dates.MonthLocator())\n",
    "#ax.xaxis.set_minor_formatter(dates.DateFormatter('%H:%M:%S'))\n",
    "#ax.xaxis.set_minor_formatter(dates.DateFormatter('%d\\n%a'))\n",
    "#ax.xaxis.grid(True, which=\"minor\")\n",
    "#ax.yaxis.grid()\n",
    "#ax.xaxis.set_major_locator(dates.DayLocator())\n",
    "#ax.xaxis.set_major_formatter(dates.DateFormatter('\\n\\n%a\\%b\\%Y'))\n",
    "ax.xaxis.set_major_formatter( matplotlib.dates.DateFormatter('%Y-%b-%a %H:%M:%S'))\n",
    "ax.xaxis.grid(True, which=\"minor\")\n",
    "\n",
    "#ax.xaxis.set_minor_formatter(dates.DateFormatter('\\n\\n%a\\%b\\%Y'))\n",
    "\n",
    "\n",
    "plt.xticks( rotation=25 )\n",
    "plt.tight_layout()\n",
    "plt.ylabel(\"PM10 Values\")\n",
    "plt.title(\"PM10 Prediction for Small Time interval During Training\")\n",
    "plt.show()"
   ]
  },
  {
   "cell_type": "markdown",
   "metadata": {},
   "source": [
    "# Plots predictions during Training"
   ]
  },
  {
   "cell_type": "code",
   "execution_count": 181,
   "metadata": {},
   "outputs": [
    {
     "data": {
      "text/plain": [
       "<matplotlib.figure.Figure at 0x126192828>"
      ]
     },
     "metadata": {},
     "output_type": "display_data"
    },
    {
     "data": {
      "image/png": "[encoded data removed]",
      "text/plain": [
       "<matplotlib.figure.Figure at 0x126278470>"
      ]
     },
     "metadata": {},
     "output_type": "display_data"
    }
   ],
   "source": [
    "fig = plt.figure(figsize=(30, 2))\n",
    "plt.rcParams[\"figure.figsize\"] = (8,5)\n",
    "fig, ax = plt.subplots()\n",
    "ax.plot(x_axis[0:53209], network.reshape(53209,1)[0:53209], 'r-',color='deepskyblue')\n",
    "ax.plot_date(x_axis[0:53209], actual.reshape(53209,1)[0:53209], 'b-',color='goldenrod')\n",
    "\n",
    "\n",
    "#ax.xaxis.set_minor_locator(dates.MonthLocator())\n",
    "#ax.xaxis.set_minor_formatter(dates.DateFormatter('%H:%M:%S'))\n",
    "#ax.xaxis.set_minor_formatter(dates.DateFormatter('%d\\n%a'))\n",
    "#ax.xaxis.grid(True, which=\"minor\")\n",
    "#ax.yaxis.grid()\n",
    "#ax.xaxis.set_major_locator(dates.DayLocator())\n",
    "#ax.xaxis.set_major_formatter(dates.DateFormatter('\\n\\n%a\\%b\\%Y'))\n",
    "ax.xaxis.set_major_formatter( matplotlib.dates.DateFormatter('%Y-%b-%a %H:%M:%S'))\n",
    "ax.xaxis.grid(True, which=\"minor\")\n",
    "\n",
    "#ax.xaxis.set_minor_formatter(dates.DateFormatter('\\n\\n%a\\%b\\%Y'))\n",
    "\n",
    "\n",
    "plt.xticks( rotation=25 )\n",
    "plt.tight_layout()\n",
    "plt.ylabel(\"PM10 values\")\n",
    "plt.title(\"PM10 Training prediction and Actual Value Plots\")\n",
    "plt.show()"
   ]
  },
  {
   "cell_type": "code",
   "execution_count": null,
   "metadata": {
    "collapsed": true
   },
   "outputs": [],
   "source": []
  },
  {
   "cell_type": "code",
   "execution_count": null,
   "metadata": {
    "collapsed": true
   },
   "outputs": [],
   "source": []
  },
  {
   "cell_type": "markdown",
   "metadata": {
    "collapsed": true
   },
   "source": [
    "# Model Testing Plot"
   ]
  },
  {
   "cell_type": "code",
   "execution_count": null,
   "metadata": {
    "collapsed": true
   },
   "outputs": [],
   "source": []
  },
  {
   "cell_type": "code",
   "execution_count": 177,
   "metadata": {
    "collapsed": true
   },
   "outputs": [],
   "source": [
    "#Reset counter\n",
    "counter = 0"
   ]
  },
  {
   "cell_type": "code",
   "execution_count": 178,
   "metadata": {},
   "outputs": [
    {
     "data": {
      "text/plain": [
       "<bound method BaseSession.run of <tensorflow.python.client.session.Session object at 0x11d587a20>>"
      ]
     },
     "execution_count": 178,
     "metadata": {},
     "output_type": "execute_result"
    }
   ],
   "source": [
    "sess.run"
   ]
  },
  {
   "cell_type": "code",
   "execution_count": 179,
   "metadata": {
    "collapsed": true
   },
   "outputs": [],
   "source": [
    "# Testing plot"
   ]
  },
  {
   "cell_type": "code",
   "execution_count": 180,
   "metadata": {
    "collapsed": true
   },
   "outputs": [],
   "source": [
    "actual_output_test[-48:];"
   ]
  },
  {
   "cell_type": "code",
   "execution_count": 192,
   "metadata": {},
   "outputs": [
    {
     "data": {
      "text/plain": [
       "<matplotlib.figure.Figure at 0x12f9f8a90>"
      ]
     },
     "metadata": {},
     "output_type": "display_data"
    },
    {
     "data": {
      "image/png": "[encoded data removed]",
      "text/plain": [
       "<matplotlib.figure.Figure at 0x12f9f8780>"
      ]
     },
     "metadata": {},
     "output_type": "display_data"
    }
   ],
   "source": [
    "import matplotlib.pyplot \n",
    "\n",
    "\n",
    "fig = plt.figure(figsize=(30, 2))\n",
    "\n",
    "fig, ax = plt.subplots()\n",
    "ax.plot( np.array(network_output_test[-48:]).reshape(48,1), 'r-',color='deepskyblue')\n",
    "ax.plot( np.array(actual_output_test[-48:]).reshape(48,1), 'b-',color='olivedrab')\n",
    "#ax.xaxis.set_minor_locator(dates.MonthLocator())\n",
    "#ax.xaxis.set_minor_formatter(dates.DateFormatter('%H:%M:%S'))\n",
    "#ax.xaxis.set_minor_formatter(dates.DateFormatter('%d\\n%a'))\n",
    "#ax.xaxis.grid(True, which=\"minor\")\n",
    "#ax.yaxis.grid()\n",
    "#ax.xaxis.set_major_locator(dates.DayLocator())\n",
    "#ax.xaxis.set_major_formatter(dates.DateFormatter('\\n\\n%a\\%b\\%Y'))\n",
    "#ax.xaxis.set_major_formatter(dates.DateFormatter('%Y-%b-%a %H:%M:%S'))\n",
    "#ax.xaxis.grid(True, which=\"minor\")\n",
    "\n",
    "\n",
    "\n",
    "#ax.xaxis.set_minor_formatter(dates.DateFormatter('\\n\\n%a\\%b\\%Y'))\n",
    "plt.ylabel(\"PM10 Values\",fontweight='bold')\n",
    "plt.title(\"PM10 Validation Prediction for Small Time interval During Training\",fontweight='bold')\n",
    "plt.xlabel('Time/hr',fontweight='bold')\n",
    "\n",
    "#plt.xticks( rotation=25 )\n",
    "#plt.tight_layout()\n",
    "\n",
    "plt.show()"
   ]
  },
  {
   "cell_type": "code",
   "execution_count": null,
   "metadata": {
    "collapsed": true
   },
   "outputs": [],
   "source": []
  },
  {
   "cell_type": "code",
   "execution_count": 193,
   "metadata": {},
   "outputs": [
    {
     "data": {
      "text/plain": [
       "<matplotlib.figure.Figure at 0x1272f7518>"
      ]
     },
     "metadata": {},
     "output_type": "display_data"
    },
    {
     "data": {
      "image/png": "[encoded data removed]",
      "text/plain": [
       "<matplotlib.figure.Figure at 0x1272f7cc0>"
      ]
     },
     "metadata": {},
     "output_type": "display_data"
    }
   ],
   "source": [
    "import matplotlib.pyplot \n",
    "\n",
    "\n",
    "fig = plt.figure(figsize=(30, 2))\n",
    "\n",
    "fig, ax = plt.subplots()\n",
    "ax.plot( np.array(network_output_test).reshape(len(network_output_test),1), 'r-',color='deepskyblue')\n",
    "ax.plot( np.array(actual_output_test).reshape(len(actual_output_test),1), 'b-',color='olivedrab')\n",
    "\n",
    "#ax.xaxis.set_minor_locator(dates.MonthLocator())\n",
    "#ax.xaxis.set_minor_formatter(dates.DateFormatter('%H:%M:%S'))\n",
    "#ax.xaxis.set_minor_formatter(dates.DateFormatter('%d\\n%a'))\n",
    "#ax.xaxis.grid(True, which=\"minor\")\n",
    "#ax.yaxis.grid()\n",
    "#ax.xaxis.set_major_locator(dates.DayLocator())\n",
    "#ax.xaxis.set_major_formatter(dates.DateFormatter('\\n\\n%a\\%b\\%Y'))\n",
    "#ax.xaxis.set_major_formatter(dates.DateFormatter('%Y-%b-%a %H:%M:%S'))\n",
    "#ax.xaxis.grid(True, which=\"minor\")\n",
    "\n",
    "\n",
    "\n",
    "#ax.xaxis.set_minor_formatter(dates.DateFormatter('\\n\\n%a\\%b\\%Y'))\n",
    "\n",
    "plt.ylabel(\"PM10 Values\",fontweight='bold')\n",
    "plt.title(\"PM10 Validation Prediction \",fontweight='bold')\n",
    "plt.xlabel('Date',fontweight='bold')\n",
    "#plt.xticks( rotation=25 )\n",
    "#plt.tight_layout()\n",
    "\n",
    "plt.show()"
   ]
  },
  {
   "cell_type": "code",
   "execution_count": null,
   "metadata": {
    "collapsed": true
   },
   "outputs": [],
   "source": []
  },
  {
   "cell_type": "markdown",
   "metadata": {
    "collapsed": true
   },
   "source": [
    "# Smooth Plot"
   ]
  },
  {
   "cell_type": "code",
   "execution_count": 199,
   "metadata": {
    "collapsed": true
   },
   "outputs": [],
   "source": [
    "from scipy.interpolate import interp1d\n"
   ]
  },
  {
   "cell_type": "code",
   "execution_count": 200,
   "metadata": {
    "collapsed": true
   },
   "outputs": [],
   "source": [
    "xn_ax = np.linspace(0,48,48*2)\n",
    "\n"
   ]
  },
  {
   "cell_type": "code",
   "execution_count": 201,
   "metadata": {
    "collapsed": true
   },
   "outputs": [],
   "source": [
    "x_ax = np.linspace(0,50,48)\n",
    "y_cor=np.array(network_output_test[-48:]).reshape(48,1)"
   ]
  },
  {
   "cell_type": "code",
   "execution_count": 202,
   "metadata": {
    "collapsed": true
   },
   "outputs": [],
   "source": [
    "y_cor=np.reshape(y_cor,(48))"
   ]
  },
  {
   "cell_type": "code",
   "execution_count": 203,
   "metadata": {},
   "outputs": [],
   "source": [
    "# new x values\n",
    "xn_ax = np.linspace(1,48,48*10)\n",
    " \n",
    "# new y values\n",
    "yn_cor = interp1d(x_ax,y_cor, kind='cubic')"
   ]
  },
  {
   "cell_type": "code",
   "execution_count": 206,
   "metadata": {},
   "outputs": [
    {
     "data": {
      "text/plain": [
       "<function matplotlib.pyplot.show>"
      ]
     },
     "execution_count": 206,
     "metadata": {},
     "output_type": "execute_result"
    },
    {
     "data": {
      "image/png": "[encoded data removed]",
      "text/plain": [
       "<matplotlib.figure.Figure at 0x126384668>"
      ]
     },
     "metadata": {},
     "output_type": "display_data"
    }
   ],
   "source": [
    "plt.plot(xn_ax, yn_cor(xn_ax),color='olivedrab')\n",
    "plt.xticks(x_ax, x_axis[-48:], size='small', rotation=70)\n",
    "plt.tight_layout()\n",
    "plt.xlabel('date',fontweight='bold')\n",
    "plt.ylabel('PM Values', fontweight='bold')\n",
    "plt.title('Smothened PM Value Prediction',fontweight='bold')\n",
    "plt.show"
   ]
  },
  {
   "cell_type": "markdown",
   "metadata": {
    "collapsed": true
   },
   "source": [
    "## Testing "
   ]
  },
  {
   "cell_type": "code",
   "execution_count": 208,
   "metadata": {
    "collapsed": true
   },
   "outputs": [],
   "source": [
    "n_list = 48;\n",
    "Feature_eval=copy.deepcopy(Test_eval[-test_part:])"
   ]
  },
  {
   "cell_type": "code",
   "execution_count": 214,
   "metadata": {
    "collapsed": true
   },
   "outputs": [],
   "source": [
    "def get_pair_Test(Target):\n",
    "    \"\"\"\n",
    "    Returns an (current, target) \n",
    "    Target is lag steps 24 ahead of current\n",
    "    \"\"\"\n",
    " \n",
    "    \n",
    "    global sliding_window_test\n",
    "   \n",
    "    input_value=np.array(sliding_window_test)\n",
    "    #print(input_value.shape)\n",
    "    \n",
    "    #print(input_value.shape)\n",
    "    input_value=np.reshape(input_value,(1,len(sliding_window_test)))\n",
    "    mx = np.ma.masked_invalid(input_value)\n",
    "    \n",
    "   \n",
    "    mask_x = ~mx.mask # let mask return true for those non-nan values\n",
    "    \n",
    "    return input_value"
   ]
  },
  {
   "cell_type": "code",
   "execution_count": 215,
   "metadata": {
    "collapsed": true
   },
   "outputs": [],
   "source": [
    "counter_test=0;\n",
    "def dataGetter_test(datalist):\n",
    "    \"\"\"\n",
    "    Returns a single PM10 value.\n",
    "    Input: PM10 Data list named Target_list above\n",
    "    Output: single PM10 value\n",
    "    \"\"\"\n",
    "    global counter_test;\n",
    "    assert type(datalist) == list;\n",
    "    \n",
    "    \n",
    "    value = datalist[counter_test]\n",
    "    #print(counter)\n",
    "\n",
    "\n",
    "    counter_test = counter_test +1\n",
    "             \n",
    "    return value"
   ]
  },
  {
   "cell_type": "code",
   "execution_count": 216,
   "metadata": {
    "collapsed": true
   },
   "outputs": [],
   "source": [
    "sliding_window_test = []\n",
    "lag=25 # 24 hours time step from 0 to 24 plus the window_step_move (25) which is to be predicted\n",
    "window_move_step = 1\n",
    "for i in range(lag - window_move_step):\n",
    "    temp=dataGetter_test(Feature_eval)\n",
    "    \n",
    "    sliding_window_test.append(temp);"
   ]
  },
  {
   "cell_type": "code",
   "execution_count": 217,
   "metadata": {
    "collapsed": true
   },
   "outputs": [],
   "source": [
    "previous_sliding_window_length=24;\n",
    "time_step_shift = 24;"
   ]
  },
  {
   "cell_type": "code",
   "execution_count": 218,
   "metadata": {
    "collapsed": true
   },
   "outputs": [],
   "source": [
    "sess.run(lstm_state1.assign(tf.zeros([1, lstm_layer1.state_size])));"
   ]
  },
  {
   "cell_type": "code",
   "execution_count": 219,
   "metadata": {},
   "outputs": [],
   "source": [
    "actual_output_test = []\n",
    "network_output_test = []\n",
    "\n",
    " \n",
    "for i in range(previous_sliding_window_length):\n",
    "   \n",
    "    input_v = get_pair_Test(sliding_window_test)\n",
    "    _, network_output = sess.run([lstm_update_op1,\n",
    "                                  final_output],\n",
    "                                 feed_dict = {\n",
    "                                     input_layer: input_v})\n",
    "       \n",
    "    array_store=np.array(Feature_eval[time_step_shift]) \n",
    "    #print(array_store)\n",
    "    array_store[[0]] = network_output # replace real PM10 values with predicted values\n",
    "    #print(array_store.shape)\n",
    "    list_store = array_store.tolist() # convert to list\n",
    "    #print(len(list_store))\n",
    "    sliding_window_test.append( list_store) # append new values for prediction\n",
    "    #print(len(sliding_window_test))\n",
    "    sliding_window_test.pop(0) # remove the first value of the list \n",
    "    #print(len(sliding_window_test))\n",
    "    time_step_shift = time_step_shift + 1; # increae the time step\n",
    "    network_output_test.append(network_output)"
   ]
  },
  {
   "cell_type": "code",
   "execution_count": 220,
   "metadata": {},
   "outputs": [
    {
     "data": {
      "text/plain": [
       "<matplotlib.figure.Figure at 0x126387160>"
      ]
     },
     "metadata": {},
     "output_type": "display_data"
    },
    {
     "data": {
      "image/png": "[encoded data removed]",
      "text/plain": [
       "<matplotlib.figure.Figure at 0x1244330b8>"
      ]
     },
     "metadata": {},
     "output_type": "display_data"
    }
   ],
   "source": [
    "import matplotlib.pyplot \n",
    "\n",
    "\n",
    "fig = plt.figure(figsize=(30, 2))\n",
    "\n",
    "fig, ax = plt.subplots()\n",
    "ax.plot( np.array(network_output_test).reshape(len(network_output_test),1), 'r-',color = 'deepskyblue',label=\" Prediction\")\n",
    "ax.plot(np.array(Feature_eval[-24:]).reshape(len(Feature_eval[-24:]),1), 'b-',color = 'goldenrod',label=\"Actual Value\")\n",
    "plt.legend(bbox_to_anchor=(1.05, 1), loc=2, borderaxespad=0.,fontsize='x-large')\n",
    "#ax.xaxis.set_minor_locator(dates.MonthLocator())\n",
    "#ax.xaxis.set_minor_formatter(dates.DateFormatter('%H:%M:%S'))\n",
    "#ax.xaxis.set_minor_formatter(dates.DateFormatter('%d\\n%a'))\n",
    "#ax.xaxis.grid(True, which=\"minor\")\n",
    "#ax.yaxis.grid()\n",
    "#ax.xaxis.set_major_locator(dates.DayLocator())\n",
    "#ax.xaxis.set_major_formatter(dates.DateFormatter('\\n\\n%a\\%b\\%Y'))\n",
    "#ax.xaxis.set_major_formatter(dates.DateFormatter('%Y-%b-%a %H:%M:%S'))\n",
    "#ax.xaxis.grid(True, which=\"minor\")\n",
    "\n",
    "plt.title(\"PM10 Test prediction and Actual Value Plots (24hr Time Frame)\",fontweight='bold')\n",
    "#ax.xaxis.set_minor_formatter(dates.DateFormatter('\\n\\n%a\\%b\\%Y'))\n",
    "plt.ylabel(\"PM10 values\",fontweight='bold')\n",
    "plt.xlabel(\"Time/hr for Test Sample\",fontweight='bold')\n",
    "\n",
    "\n",
    "\n",
    "#ax.xaxis.set_minor_formatter(dates.DateFormatter('\\n\\n%a\\%b\\%Y'))\n",
    "\n",
    "\n",
    "#plt.xticks( rotation=25 )\n",
    "#plt.tight_layout()\n",
    "\n",
    "plt.show()"
   ]
  },
  {
   "cell_type": "code",
   "execution_count": 221,
   "metadata": {
    "collapsed": true
   },
   "outputs": [],
   "source": [
    "from sklearn.metrics import mean_squared_error"
   ]
  },
  {
   "cell_type": "code",
   "execution_count": 222,
   "metadata": {},
   "outputs": [
    {
     "data": {
      "text/plain": [
       "1.4891613219583371"
      ]
     },
     "execution_count": 222,
     "metadata": {},
     "output_type": "execute_result"
    }
   ],
   "source": [
    "mean_squared_error(np.array(network_output_test).reshape(len(Target_list[-24:]),1),np.array(Target_list[-24:]).reshape(len(network_output_test),1) )**0.5 "
   ]
  },
  {
   "cell_type": "code",
   "execution_count": null,
   "metadata": {
    "collapsed": true
   },
   "outputs": [],
   "source": []
  },
  {
   "cell_type": "code",
   "execution_count": 227,
   "metadata": {
    "collapsed": true
   },
   "outputs": [],
   "source": [
    "import scipy\n",
    "def rsquared(x, y):\n",
    "    \"\"\" Return R^2 where x and y are array-like.\"\"\"\n",
    "    \n",
    "    slope, intercept, r_value, p_value, std_err = scipy.stats.linregress(x, y)\n",
    "    return r_value**2"
   ]
  },
  {
   "cell_type": "code",
   "execution_count": 228,
   "metadata": {},
   "outputs": [
    {
     "data": {
      "text/plain": [
       "0.22108946820932221"
      ]
     },
     "execution_count": 228,
     "metadata": {},
     "output_type": "execute_result"
    }
   ],
   "source": [
    "rsquared(np.array(network_output_test).reshape(len(Target_list[-24:]),),\n",
    "         np.array(Target_list[-24:]).reshape(len(network_output_test),) ) "
   ]
  },
  {
   "cell_type": "code",
   "execution_count": null,
   "metadata": {
    "collapsed": true
   },
   "outputs": [],
   "source": []
  },
  {
   "cell_type": "code",
   "execution_count": null,
   "metadata": {
    "collapsed": true
   },
   "outputs": [],
   "source": []
  },
  {
   "cell_type": "code",
   "execution_count": 224,
   "metadata": {},
   "outputs": [
    {
     "data": {
      "text/plain": [
       "F_onewayResult(statistic=52.900317516495633, pvalue=3.5514094317305623e-09)"
      ]
     },
     "execution_count": 224,
     "metadata": {},
     "output_type": "execute_result"
    }
   ],
   "source": [
    "import scipy.stats as stats\n",
    "\n",
    "stats.f_oneway(np.array(network_output_test).reshape(len(Target_list[-24:]),),\n",
    "               np.array(Target_list[-24:]).reshape(len(network_output_test),))\n"
   ]
  },
  {
   "cell_type": "code",
   "execution_count": null,
   "metadata": {
    "collapsed": true
   },
   "outputs": [],
   "source": []
  },
  {
   "cell_type": "code",
   "execution_count": null,
   "metadata": {
    "collapsed": true
   },
   "outputs": [],
   "source": []
  },
  {
   "cell_type": "code",
   "execution_count": null,
   "metadata": {
    "collapsed": true
   },
   "outputs": [],
   "source": []
  },
  {
   "cell_type": "code",
   "execution_count": null,
   "metadata": {
    "collapsed": true
   },
   "outputs": [],
   "source": []
  },
  {
   "cell_type": "code",
   "execution_count": null,
   "metadata": {
    "collapsed": true
   },
   "outputs": [],
   "source": []
  },
  {
   "cell_type": "code",
   "execution_count": null,
   "metadata": {
    "collapsed": true
   },
   "outputs": [],
   "source": []
  },
  {
   "cell_type": "code",
   "execution_count": null,
   "metadata": {
    "collapsed": true
   },
   "outputs": [],
   "source": []
  },
  {
   "cell_type": "code",
   "execution_count": null,
   "metadata": {
    "collapsed": true
   },
   "outputs": [],
   "source": []
  },
  {
   "cell_type": "code",
   "execution_count": null,
   "metadata": {
    "collapsed": true
   },
   "outputs": [],
   "source": []
  },
  {
   "cell_type": "code",
   "execution_count": null,
   "metadata": {
    "collapsed": true
   },
   "outputs": [],
   "source": []
  },
  {
   "cell_type": "code",
   "execution_count": null,
   "metadata": {
    "collapsed": true
   },
   "outputs": [],
   "source": []
  },
  {
   "cell_type": "code",
   "execution_count": null,
   "metadata": {
    "collapsed": true
   },
   "outputs": [],
   "source": []
  },
  {
   "cell_type": "code",
   "execution_count": null,
   "metadata": {
    "collapsed": true
   },
   "outputs": [],
   "source": []
  },
  {
   "cell_type": "code",
   "execution_count": null,
   "metadata": {
    "collapsed": true
   },
   "outputs": [],
   "source": []
  },
  {
   "cell_type": "code",
   "execution_count": null,
   "metadata": {
    "collapsed": true
   },
   "outputs": [],
   "source": []
  },
  {
   "cell_type": "code",
   "execution_count": null,
   "metadata": {
    "collapsed": true
   },
   "outputs": [],
   "source": []
  },
  {
   "cell_type": "code",
   "execution_count": null,
   "metadata": {
    "collapsed": true
   },
   "outputs": [],
   "source": []
  },
  {
   "cell_type": "code",
   "execution_count": null,
   "metadata": {
    "collapsed": true
   },
   "outputs": [],
   "source": []
  }
 ],
 "metadata": {
  "anaconda-cloud": {},
  "kernelspec": {
   "display_name": "Python [conda env:seychelles]",
   "language": "python",
   "name": "conda-env-seychelles-py"
  },
  "language_info": {
   "codemirror_mode": {
    "name": "ipython",
    "version": 3
   },
   "file_extension": ".py",
   "mimetype": "text/x-python",
   "name": "python",
   "nbconvert_exporter": "python",
   "pygments_lexer": "ipython3",
   "version": "3.5.2"
  }
 },
 "nbformat": 4,
 "nbformat_minor": 1
}
