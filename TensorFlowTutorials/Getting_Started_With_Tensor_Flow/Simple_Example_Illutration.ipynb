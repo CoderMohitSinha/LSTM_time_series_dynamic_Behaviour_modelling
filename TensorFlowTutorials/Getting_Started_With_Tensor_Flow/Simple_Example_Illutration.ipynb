{
 "cells": [
  {
   "cell_type": "markdown",
   "metadata": {},
   "source": [
    "# Simple Example Illustration\n"
   ]
  },
  {
   "cell_type": "markdown",
   "metadata": {},
   "source": [
    "We discuss here simple examples that illustrate the concept discussed in the last seession"
   ]
  },
  {
   "cell_type": "code",
   "execution_count": 1,
   "metadata": {
    "collapsed": true
   },
   "outputs": [],
   "source": [
    "import tensorflow as tf # Import\n"
   ]
  },
  {
   "cell_type": "markdown",
   "metadata": {},
   "source": [
    "Generally we will also include the import below in further tutorials: "
   ]
  },
  {
   "cell_type": "code",
   "execution_count": 2,
   "metadata": {
    "collapsed": true
   },
   "outputs": [],
   "source": [
    "import matplotlib.pyplot as plt # for visualization.\n",
    "import numpy as np              # Low-level numerical Python library.\n",
    "import pandas as pd             # Higher-level numerical Python library."
   ]
  },
  {
   "cell_type": "markdown",
   "metadata": {},
   "source": [
    "<p>Tensorflow provides <b> default graphs </b>, but we can also create our own graphs. The example below illustrate this.</p> "
   ]
  },
  {
   "cell_type": "code",
   "execution_count": 29,
   "metadata": {
    "collapsed": false
   },
   "outputs": [
    {
     "name": "stdout",
     "output_type": "stream",
     "text": [
      "The evaluated operation output is:  40\n",
      "The evaluated operation output is:  40\n"
     ]
    }
   ],
   "source": [
    "g = tf.Graph()\n",
    "# Establish our graph as the \"default\" graph.\n",
    "# We Assemble a graph consisting of the following three operations:\n",
    "# * Two tf.constant operations to create the operands.\n",
    "#   * One tf.multiply operation to add the two operands.\n",
    "\n",
    "\n",
    "with g.as_default():\n",
    "    x = tf.constant(8, name=\"x_const\")\n",
    "    y = tf.constant(5, name=\"y_const\")\n",
    "    multiply = tf.multiply(x, y, name=\"x_y_sum\")\n",
    "\n",
    "\n",
    "    # Now create a session.\n",
    "    # The session will run the default graph.\n",
    "    with tf.Session() as sess:\n",
    "        result = multiply.eval(); \n",
    "        results = sess.run(multiply);\n",
    "        #use either of this syntax above  to get results then print result below\n",
    "        print\"The evaluated operation output is: \",result\n",
    "        print \"The evaluated operation output is: \",results\n",
    "        "
   ]
  },
  {
   "cell_type": "markdown",
   "metadata": {
    "collapsed": true
   },
   "source": [
    "<p> With this simple tool we can at this stage do several operations. The example above can be repeated for any of the operations below:\n",
    "<p><i>tf.add, tf.subtract,tf.multiply,tf.scalar_mul,tf.div,tf.divide,tf.truediv,tf.floordiv,tf.realdiv, tf.cross.</i></p>\n",
    "\n",
    "Check the link https://www.tensorflow.org/api_guides/python/math_ops to get more tips and explanation on what these operations do. Then repeat the example\n",
    "</p>"
   ]
  },
  {
   "cell_type": "code",
   "execution_count": null,
   "metadata": {
    "collapsed": true
   },
   "outputs": [],
   "source": []
  }
 ],
 "metadata": {
  "anaconda-cloud": {},
  "kernelspec": {
   "display_name": "Python [python2]",
   "language": "python",
   "name": "Python [python2]"
  },
  "language_info": {
   "codemirror_mode": {
    "name": "ipython",
    "version": 2
   },
   "file_extension": ".py",
   "mimetype": "text/x-python",
   "name": "python",
   "nbconvert_exporter": "python",
   "pygments_lexer": "ipython2",
   "version": "2.7.12"
  }
 },
 "nbformat": 4,
 "nbformat_minor": 0
}
