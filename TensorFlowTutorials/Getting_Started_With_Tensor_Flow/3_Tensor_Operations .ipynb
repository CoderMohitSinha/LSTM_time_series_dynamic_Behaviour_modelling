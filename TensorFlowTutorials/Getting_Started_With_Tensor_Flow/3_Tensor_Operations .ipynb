{
 "cells": [
  {
   "cell_type": "markdown",
   "metadata": {},
   "source": [
    "# Going Deeper"
   ]
  },
  {
   "cell_type": "markdown",
   "metadata": {},
   "source": [
    "<p>In this session we provide a more explanation on how to use tensorflow variables and perform operations on them.  </p>"
   ]
  },
  {
   "cell_type": "markdown",
   "metadata": {},
   "source": [
    "<p><b>TENSORS AND THEIR SHAPES </b></p>"
   ]
  },
  {
   "cell_type": "markdown",
   "metadata": {},
   "source": [
    "<p>Shapes  characterize the <b>size</b> and <b>number of dimensions</b> of a tensor. The shape of a tensor is expressed as <i>list</i>, and  the ith element  of the list is size along dimension i. The length of the list  indicates the rank of the tensor (i.e., the number of dimensions).</p>"
   ]
  },
  {
   "cell_type": "code",
   "execution_count": 2,
   "metadata": {
    "collapsed": true
   },
   "outputs": [],
   "source": [
    "import tensorflow as tf\n",
    "import matplotlib.pyplot as plt # for visualization.\n",
    "import numpy as np              # Low-level numerical Python library.\n",
    "import pandas as pd             # Higher-level numerical Python library."
   ]
  },
  {
   "cell_type": "code",
   "execution_count": 5,
   "metadata": {
    "collapsed": false
   },
   "outputs": [
    {
     "name": "stdout",
     "output_type": "stream",
     "text": [
      " scalar of shape () and value:\n",
      "0.0\n",
      "vector of shape (3,) and value:\n",
      "[ 0.  0.  0.]\n",
      "matrix of shape (2, 3) and value:\n",
      "[[ 0.  0.  0.]\n",
      " [ 0.  0.  0.]]\n"
     ]
    }
   ],
   "source": [
    "with tf.Graph().as_default():\n",
    "    # A scalar is a 0-D tensor.\n",
    "    scalar = tf.zeros([])\n",
    "\n",
    "    # A vector with 3 elements.\n",
    "    vector = tf.zeros([3])\n",
    "\n",
    "    # A matrix with 2 rows and 3 columns.\n",
    "    matrix = tf.zeros([2, 3])\n",
    "\n",
    "    with tf.Session() as sess:\n",
    "        print 'scalar of shape', scalar.get_shape(), 'and value:\\n', scalar.eval()\n",
    "        print 'vector of shape', vector.get_shape(), 'and value:\\n', vector.eval()\n",
    "        print 'matrix of shape', matrix.get_shape(), 'and value:\\n', matrix.eval()\n"
   ]
  },
  {
   "cell_type": "markdown",
   "metadata": {},
   "source": [
    "<p>The example above is similar to the first tutorial where we used tf.constant and tf.variable. The importance of having correct tensor shape  can not be over emphasized given that most of the time our errors will be mostly due to incompatible  shape .</p>"
   ]
  },
  {
   "cell_type": "markdown",
   "metadata": {},
   "source": [
    "<p><b>BROADCASTING</b></p>"
   ]
  },
  {
   "cell_type": "markdown",
   "metadata": {},
   "source": [
    "<p>\n",
    "<p>Generally, we  perform element-wise operations (e.g. addition) on tensors of the same shape. In TensorFlow (just as in numpy), however, we mcan perform operations on tensors that would traditionally have been incompatible.</p>\n",
    "\n",
    "<p> <b>Broadcasting</b> enables TensorFlow to automatically enlarge the smaller array in an operation to be shape compatible for  element-wise operation.</p>\n",
    "When a tensor gets broadcast, its entries along that dimension get conceptually copied - for optimization purposes.</p>\n",
    "</p>\n",
    "For instance, broadcasting enables the following:\n",
    "If an operand requires a size [7] tensor, a size [1] or a size [ ] tensor can serve as an operand.\n",
    "If an operation requires a size [7, 10] tensor, any of the following sizes can serve as an operand:\n",
    "   * `[1, 10]`\n",
    "   * `[10]`\n",
    "   * `[]`\n",
    "   \n",
    "If an operation requires a size `[10, 13, 19]` tensor, any of the following sizes can serve as an operand:\n",
    "\n",
    "   * `[1, 13, 19]`\n",
    "   * `[10, 1, 19]`\n",
    "   * `[10, 13, 1]`\n",
    "   * `[1, 1, 1]`\n",
    "   * `[13, 19]`\n",
    "   * `[1, 19]`\n",
    "   * `[19]`\n",
    "   * `[1]`\n",
    "   * `[]`   "
   ]
  },
  {
   "cell_type": "markdown",
   "metadata": {},
   "source": [
    "To illutrate this consider the following example. We will provide example first for 1 D and then for 1D. For more on broadcasting visit this link http://scipy.github.io/old-wiki/pages/EricsBroadcastingDoc."
   ]
  },
  {
   "cell_type": "code",
   "execution_count": 46,
   "metadata": {
    "collapsed": false
   },
   "outputs": [
    {
     "name": "stdout",
     "output_type": "stream",
     "text": [
      "this example is for Id array,:  (3,)\n",
      "[7 8 8]\n"
     ]
    }
   ],
   "source": [
    "with tf.Graph().as_default():\n",
    "    # Create  vector (1-D tensor).\n",
    "    matrix = tf.constant([3, 4, 4], dtype=tf.int32)\n",
    "    print \"this example is for Id array,: \" ,matrix.shape\n",
    "\n",
    "    # Create a constant scalar with value 1.\n",
    "    value1 = tf.constant([4], dtype=tf.int32)\n",
    "    \n",
    "\n",
    "\n",
    "    # Add the two tensors. The resulting tensor is a six-element vector.\n",
    "    evaluation1 = tf.add(value1, matrix)\n",
    "    \n",
    "\n",
    "    with tf.Session() as sess:\n",
    "        print evaluation1.eval()\n",
    "        "
   ]
  },
  {
   "cell_type": "code",
   "execution_count": 47,
   "metadata": {
    "collapsed": false
   },
   "outputs": [
    {
     "name": "stdout",
     "output_type": "stream",
     "text": [
      "('shape of matrix is :', TensorShape([Dimension(2), Dimension(3)]))\n",
      "\n",
      "\n",
      "[[ 7  8  8]\n",
      " [ 8  9 10]]\n"
     ]
    }
   ],
   "source": [
    "with tf.Graph().as_default():\n",
    "    # Create  matrix (2-D tensor).\n",
    "    matrix = tf.constant([[3, 4, 4],[3,4,5]], dtype=tf.int32)\n",
    "    print(\"shape of matrix is :\",matrix.shape)\n",
    "    print\"\\n\"\n",
    "\n",
    "    # Create a constant scalar with value 1.\n",
    "    value1 = tf.constant([[4],[5]], dtype=tf.int32)\n",
    "   \n",
    "    # Evaluations\n",
    "    evaluation1 = tf.add(value1, matrix)\n",
    "   \n",
    "    with tf.Session() as sess:\n",
    "        print evaluation1.eval()\n",
    "        "
   ]
  },
  {
   "cell_type": "code",
   "execution_count": null,
   "metadata": {
    "collapsed": false
   },
   "outputs": [],
   "source": []
  },
  {
   "cell_type": "code",
   "execution_count": null,
   "metadata": {
    "collapsed": true
   },
   "outputs": [],
   "source": []
  }
 ],
 "metadata": {
  "kernelspec": {
   "display_name": "Python [python2]",
   "language": "python",
   "name": "Python [python2]"
  },
  "language_info": {
   "codemirror_mode": {
    "name": "ipython",
    "version": 2
   },
   "file_extension": ".py",
   "mimetype": "text/x-python",
   "name": "python",
   "nbconvert_exporter": "python",
   "pygments_lexer": "ipython2",
   "version": "2.7.12"
  }
 },
 "nbformat": 4,
 "nbformat_minor": 0
}
