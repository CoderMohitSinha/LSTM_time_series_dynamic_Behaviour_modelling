{
 "cells": [
  {
   "cell_type": "markdown",
   "metadata": {},
   "source": [
    "# Understanding Transpose Operation In TensorFlow"
   ]
  },
  {
   "cell_type": "markdown",
   "metadata": {},
   "source": [
    "Create a numpy array as below:"
   ]
  },
  {
   "cell_type": "code",
   "execution_count": 8,
   "metadata": {
    "collapsed": true
   },
   "outputs": [],
   "source": [
    "import numpy as np\n",
    "import tensorflow as tf"
   ]
  },
  {
   "cell_type": "code",
   "execution_count": 3,
   "metadata": {
    "collapsed": false
   },
   "outputs": [],
   "source": [
    "array = np.array([[1, 2, 3] ,  [4, 5, 6]])"
   ]
  },
  {
   "cell_type": "markdown",
   "metadata": {},
   "source": [
    "Get the shape of the array:"
   ]
  },
  {
   "cell_type": "code",
   "execution_count": 6,
   "metadata": {
    "collapsed": false
   },
   "outputs": [
    {
     "name": "stdout",
     "output_type": "stream",
     "text": [
      "shape of the array is : (2, 3)\n"
     ]
    }
   ],
   "source": [
    "print(\"shape of the array is :\", array.shape)"
   ]
  },
  {
   "cell_type": "markdown",
   "metadata": {},
   "source": [
    "Lets use tf.transpose  operation on the \"array\" above and explain the output. This we do by parsing the array generated above into the transpose operation and run it in a session."
   ]
  },
  {
   "cell_type": "code",
   "execution_count": 10,
   "metadata": {
    "collapsed": true
   },
   "outputs": [],
   "source": [
    "transpose_array= tf.transpose(array, perm=[1,0]) \n"
   ]
  },
  {
   "cell_type": "markdown",
   "metadata": {},
   "source": [
    "Run in a session"
   ]
  },
  {
   "cell_type": "code",
   "execution_count": 13,
   "metadata": {
    "collapsed": false
   },
   "outputs": [
    {
     "name": "stdout",
     "output_type": "stream",
     "text": [
      "the transposed array is: \n",
      "  [[1 4]\n",
      " [2 5]\n",
      " [3 6]]\n",
      "the resulting shape is :  (3, 2)\n"
     ]
    }
   ],
   "source": [
    "with tf.Session() as sess:\n",
    "    init = tf.initialize_all_variables()\n",
    "    sess.run(init)\n",
    "    print (\"the transposed array is: \\n \" , transpose_array.eval())\n",
    "    print (\"the resulting shape is : \" , result.shape)"
   ]
  },
  {
   "cell_type": "markdown",
   "metadata": {},
   "source": [
    "Explanation: \n",
    "  We have an array of shape (2,3) and we use the tf.transpose specifying the perm=[1,0]. This optional parameter perm which we specified will basically permute the array like below:\n",
    "  \n",
    "      * [1,0] permute such that dimension 1 --->(becomes) 1, and dimension 0  --> 1. \n",
    "      * Basically this is exchange of dimension\n",
    "      * So that array of shape  [2,3]  becomes [3,2]"
   ]
  },
  {
   "cell_type": "markdown",
   "metadata": {},
   "source": [
    "# Further Complex Examples"
   ]
  },
  {
   "cell_type": "code",
   "execution_count": 15,
   "metadata": {
    "collapsed": true
   },
   "outputs": [],
   "source": [
    "twothreefour = np.array([ [[1,2,3,4], [5,6,7,8], [9,10,11,12]] , \n",
    "                        [[13,14,15,16], [17,18,19,20], [21,22,23,24]] ])"
   ]
  },
  {
   "cell_type": "code",
   "execution_count": 18,
   "metadata": {
    "collapsed": false
   },
   "outputs": [
    {
     "name": "stdout",
     "output_type": "stream",
     "text": [
      "Shape is :  (2, 3, 4)\n"
     ]
    }
   ],
   "source": [
    "# shape of the array above \n",
    "print(\"Shape is : \", twothreefour.shape)"
   ]
  },
  {
   "cell_type": "code",
   "execution_count": 22,
   "metadata": {
    "collapsed": false
   },
   "outputs": [
    {
     "name": "stdout",
     "output_type": "stream",
     "text": [
      "[[[ 1  5  9]\n",
      "  [ 2  6 10]\n",
      "  [ 3  7 11]\n",
      "  [ 4  8 12]]\n",
      "\n",
      " [[13 17 21]\n",
      "  [14 18 22]\n",
      "  [15 19 23]\n",
      "  [16 20 24]]]\n",
      "\n",
      "\n",
      "shape is:  (2, 4, 3)\n"
     ]
    }
   ],
   "source": [
    "twofourthree = tf.transpose(twothreefour, perm=[0,2,1]) \n",
    "with tf.Session() as sess:\n",
    "    init = tf.initialize_all_variables()\n",
    "    sess.run(init)\n",
    "    print (twofourthree.eval())\n",
    "    print (\"\\n\")\n",
    "    print (\"shape is: \", twofourthree.get_shape())"
   ]
  },
  {
   "cell_type": "markdown",
   "metadata": {},
   "source": [
    "Using the same explanation we have that perm [0,2,1]. Show that an array of shape (2,3,4) becaomes (2,4,3)"
   ]
  },
  {
   "cell_type": "markdown",
   "metadata": {},
   "source": [
    "The last one as exercise:"
   ]
  },
  {
   "cell_type": "code",
   "execution_count": 24,
   "metadata": {
    "collapsed": false
   },
   "outputs": [
    {
     "name": "stdout",
     "output_type": "stream",
     "text": [
      "[[[ 1  2  3  4]\n",
      "  [13 14 15 16]]\n",
      "\n",
      " [[ 5  6  7  8]\n",
      "  [17 18 19 20]]\n",
      "\n",
      " [[ 9 10 11 12]\n",
      "  [21 22 23 24]]]\n",
      "\n",
      "\n",
      "My shape is: (3, 2, 4)\n"
     ]
    }
   ],
   "source": [
    "threetwofour = tf.transpose(twothreefour, perm=[1,0,2]) \n",
    "with tf.Session() as sess:\n",
    "    init = tf.initialize_all_variables()\n",
    "    sess.run(init)\n",
    "    print (threetwofour.eval())\n",
    "    print(\"\\n\")\n",
    "    print(\"My shape is:\", threetwofour.get_shape())"
   ]
  },
  {
   "cell_type": "markdown",
   "metadata": {},
   "source": [
    "Using perm= [1,0,2]. Explain the output (3,2,4) obtained from the array of shape (2,4,3) after the transpose operation in a session."
   ]
  },
  {
   "cell_type": "markdown",
   "metadata": {},
   "source": [
    "#  Placeholder"
   ]
  },
  {
   "cell_type": "markdown",
   "metadata": {},
   "source": [
    "This creates a placeholder for a tensor. It is used in most mpodels to hold the dimension of variables. \n",
    "\n",
    "Important: This tensor will produce an error if evaluated. Its value must be fed using the <i>feed_dict</i> optional argument to Session.run( ), Tensor.eval( ), or Operation.run( )."
   ]
  },
  {
   "cell_type": "code",
   "execution_count": 33,
   "metadata": {
    "collapsed": false
   },
   "outputs": [
    {
     "name": "stdout",
     "output_type": "stream",
     "text": [
      "The result has shape  (1024, 1024)\n"
     ]
    }
   ],
   "source": [
    "x = tf.placeholder(tf.float32, shape=(1024, 1024))\n",
    "y = tf.matmul(x, x)\n",
    "\n",
    "with tf.Session() as sess:\n",
    "    #print(sess.run(y))  # ERROR: will fail because x was not fed.\n",
    "    rand_array = np.random.rand(1024, 1024)\n",
    "    \n",
    "    result = sess.run(y, feed_dict={x: rand_array})  # Will succeed.\n",
    "    print (\"The result has shape \", result.shape)"
   ]
  },
  {
   "cell_type": "markdown",
   "metadata": {},
   "source": [
    "Note :\n",
    "    * that in most models we feed in the training data \n",
    "    * We montly feed in the data in batches by specifying the batch_size.\n",
    "    * The data is scheduled at each time and a random sample of batch size is collected and fed to model\n",
    "    * This is done for computational efficiency \n",
    "    * It allows compuatation of bactch stochastic gradient."
   ]
  },
  {
   "cell_type": "markdown",
   "metadata": {
    "collapsed": true
   },
   "source": [
    "# More Reshape and Gather Operations"
   ]
  },
  {
   "cell_type": "markdown",
   "metadata": {},
   "source": [
    "Generate an array and test the gether operation. Note this approach for fast prototyping: \n",
    "    * We generate an array in Numpy and test the operations of tensor flow on it."
   ]
  },
  {
   "cell_type": "markdown",
   "metadata": {},
   "source": [
    "Use: Gather slices from params according to indices.\n",
    "\n",
    "indices must be an integer tensor of any dimension (usually 0-D or 1-D). This is best illustrated by an example:"
   ]
  },
  {
   "cell_type": "code",
   "execution_count": 31,
   "metadata": {
    "collapsed": false
   },
   "outputs": [],
   "source": [
    "array = np.array([[1,2,3],[4,9,6],[2,3,4],[7,8,0]])"
   ]
  },
  {
   "cell_type": "code",
   "execution_count": 32,
   "metadata": {
    "collapsed": false
   },
   "outputs": [
    {
     "data": {
      "text/plain": [
       "(4, 3)"
      ]
     },
     "execution_count": 32,
     "metadata": {},
     "output_type": "execute_result"
    }
   ],
   "source": [
    "array.shape"
   ]
  },
  {
   "cell_type": "code",
   "execution_count": 36,
   "metadata": {
    "collapsed": false
   },
   "outputs": [],
   "source": [
    "gather_output0  = tf.gather(array,[1])\n",
    "gather_output01  = tf.gather(array,[2])\n",
    "gather_output02  = tf.gather(array,[3])\n",
    "\n",
    "gather_output11  = tf.gather(array,[1,2])\n",
    "gather_output12  = tf.gather(array,[1,3])\n",
    "gather_output13  = tf.gather(array,[3,2])\n",
    "\n",
    "\n",
    "\n",
    "\n",
    "gather_output  = tf.gather(array,[1,0,2])\n",
    "gather_output1  = tf.gather(array,[1,1,2])\n",
    "gather_output2  = tf.gather(array,[1,2,1])\n",
    "\n"
   ]
  },
  {
   "cell_type": "code",
   "execution_count": 37,
   "metadata": {
    "collapsed": false
   },
   "outputs": [
    {
     "name": "stdout",
     "output_type": "stream",
     "text": [
      "[[4 9 6]]\n",
      "\n",
      "\n",
      "[[2 3 4]]\n",
      "\n",
      "\n",
      "[[7 8 0]]\n",
      "\n",
      "\n",
      "[[4 9 6]\n",
      " [2 3 4]]\n",
      "\n",
      "\n",
      "[[4 9 6]\n",
      " [7 8 0]]\n",
      "\n",
      "\n",
      "[[7 8 0]\n",
      " [2 3 4]]\n",
      "\n",
      "\n",
      "[[4 9 6]\n",
      " [1 2 3]\n",
      " [2 3 4]]\n",
      "\n",
      "\n",
      "[[4 9 6]\n",
      " [4 9 6]\n",
      " [2 3 4]]\n",
      "\n",
      "\n",
      "[[4 9 6]\n",
      " [2 3 4]\n",
      " [4 9 6]]\n",
      "\n",
      "\n"
     ]
    }
   ],
   "source": [
    "with tf.Session() as sess:\n",
    "    print (gather_output0.eval());print(\"\\n\")\n",
    "    print (gather_output01.eval());print(\"\\n\")\n",
    "    print (gather_output02.eval());print(\"\\n\")  \n",
    "    print (gather_output11.eval());print(\"\\n\")\n",
    "    print (gather_output12.eval());print(\"\\n\")\n",
    "    print (gather_output13.eval());print(\"\\n\")\n",
    "    \n",
    "    print (gather_output.eval());print(\"\\n\")\n",
    "    print (gather_output1.eval());print(\"\\n\")\n",
    "    print (gather_output2.eval());print(\"\\n\")\n",
    "    #print (gather_output2.eval());print(\"\\n\")\n"
   ]
  },
  {
   "cell_type": "code",
   "execution_count": null,
   "metadata": {
    "collapsed": true
   },
   "outputs": [],
   "source": []
  }
 ],
 "metadata": {
  "kernelspec": {
   "display_name": "Python 3",
   "language": "python",
   "name": "python3"
  },
  "language_info": {
   "codemirror_mode": {
    "name": "ipython",
    "version": 3
   },
   "file_extension": ".py",
   "mimetype": "text/x-python",
   "name": "python",
   "nbconvert_exporter": "python",
   "pygments_lexer": "ipython3",
   "version": "3.5.2"
  }
 },
 "nbformat": 4,
 "nbformat_minor": 0
}
