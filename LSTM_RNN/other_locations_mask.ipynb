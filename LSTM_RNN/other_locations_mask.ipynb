{
 "cells": [
  {
   "cell_type": "code",
   "execution_count": 4,
   "metadata": {},
   "outputs": [
    {
     "name": "stdout",
     "output_type": "stream",
     "text": [
      "0.11.0\n"
     ]
    }
   ],
   "source": [
    "import tensorflow as tf\n",
    "print(tf.__version__)"
   ]
  },
  {
   "cell_type": "code",
   "execution_count": 5,
   "metadata": {
    "collapsed": true
   },
   "outputs": [],
   "source": [
    "%matplotlib inline\n",
    "import numpy.ma as ma\n",
    "from numpy import isfinite\n",
    "\n",
    "\n",
    "\n",
    "import numpy as np\n",
    "from matplotlib import pyplot as plt\n",
    "#from tensorflow.nn.rnn import *\n",
    "from tensorflow.python.ops  import *\n",
    "\n",
    "%load_ext autoreload\n",
    "%autoreload 2"
   ]
  },
  {
   "cell_type": "code",
   "execution_count": 6,
   "metadata": {
    "collapsed": true
   },
   "outputs": [],
   "source": [
    "import numpy as np\n",
    "import pandas as pd\n",
    "import tensorflow as tf\n",
    "from tensorflow.python.framework import dtypes\n",
    "\n",
    "import seaborn as sns"
   ]
  },
  {
   "cell_type": "code",
   "execution_count": 7,
   "metadata": {},
   "outputs": [
    {
     "name": "stdout",
     "output_type": "stream",
     "text": [
      "/\n"
     ]
    }
   ],
   "source": [
    "cd /"
   ]
  },
  {
   "cell_type": "code",
   "execution_count": 8,
   "metadata": {},
   "outputs": [
    {
     "name": "stdout",
     "output_type": "stream",
     "text": [
      "/Users/Seychelles/Desktop/GoogleTensorflow/Data_Collector/CSV_file_from_2007_to_2017\n"
     ]
    }
   ],
   "source": [
    "cd Users/Seychelles/Desktop/GoogleTensorflow/Data_Collector/CSV_file_from_2007_to_2017/"
   ]
  },
  {
   "cell_type": "code",
   "execution_count": 9,
   "metadata": {
    "collapsed": true
   },
   "outputs": [],
   "source": [
    "DataKarpos = pd.read_csv('Target.csv') # Only Karpos Location is used here . Other locations are zero"
   ]
  },
  {
   "cell_type": "code",
   "execution_count": null,
   "metadata": {
    "collapsed": true
   },
   "outputs": [],
   "source": []
  },
  {
   "cell_type": "code",
   "execution_count": 10,
   "metadata": {},
   "outputs": [
    {
     "name": "stdout",
     "output_type": "stream",
     "text": [
      "Number of columns present : \n"
     ]
    },
    {
     "data": {
      "text/plain": [
       "27"
      ]
     },
     "execution_count": 10,
     "metadata": {},
     "output_type": "execute_result"
    }
   ],
   "source": [
    "print (\"Number of columns present : \");DataKarpos.columns.values.size"
   ]
  },
  {
   "cell_type": "code",
   "execution_count": 11,
   "metadata": {},
   "outputs": [
    {
     "data": {
      "text/plain": [
       "Index(['Unnamed: 0', 'date', 'PM10', 'NAME', 'PM10_null_pointers', 'CO',\n",
       "       'CO_null_pointers', 'NO2', 'NO2_null_pointers', 'O3',\n",
       "       'O3_null_pointers', 'PM25', 'PM25_null_pointers', 'time', 'month',\n",
       "       'day', 'hour', 'daysInterval', 'days_interval', 'hour_interval',\n",
       "       'Centar', 'Gazi Baba', 'Karpos', 'Lisice', 'Miladinovci', 'Mrsevci',\n",
       "       'Rektorat'],\n",
       "      dtype='object')"
      ]
     },
     "execution_count": 11,
     "metadata": {},
     "output_type": "execute_result"
    }
   ],
   "source": [
    "DataKarpos.columns"
   ]
  },
  {
   "cell_type": "code",
   "execution_count": 12,
   "metadata": {},
   "outputs": [
    {
     "name": "stderr",
     "output_type": "stream",
     "text": [
      "//anaconda/envs/seychelles/lib/python3.5/site-packages/numpy/lib/function_base.py:3834: RuntimeWarning: Invalid value encountered in percentile\n",
      "  RuntimeWarning)\n"
     ]
    },
    {
     "data": {
      "text/html": [
       "<div>\n",
       "<table border=\"1\" class=\"dataframe\">\n",
       "  <thead>\n",
       "    <tr style=\"text-align: right;\">\n",
       "      <th></th>\n",
       "      <th>Unnamed: 0</th>\n",
       "      <th>PM10</th>\n",
       "      <th>PM10_null_pointers</th>\n",
       "      <th>CO</th>\n",
       "      <th>CO_null_pointers</th>\n",
       "      <th>NO2</th>\n",
       "      <th>NO2_null_pointers</th>\n",
       "      <th>O3</th>\n",
       "      <th>O3_null_pointers</th>\n",
       "      <th>PM25</th>\n",
       "      <th>...</th>\n",
       "      <th>hour</th>\n",
       "      <th>days_interval</th>\n",
       "      <th>hour_interval</th>\n",
       "      <th>Centar</th>\n",
       "      <th>Gazi Baba</th>\n",
       "      <th>Karpos</th>\n",
       "      <th>Lisice</th>\n",
       "      <th>Miladinovci</th>\n",
       "      <th>Mrsevci</th>\n",
       "      <th>Rektorat</th>\n",
       "    </tr>\n",
       "  </thead>\n",
       "  <tbody>\n",
       "    <tr>\n",
       "      <th>count</th>\n",
       "      <td>89500.000000</td>\n",
       "      <td>60629.000000</td>\n",
       "      <td>89500.000000</td>\n",
       "      <td>57342.000000</td>\n",
       "      <td>89500.000000</td>\n",
       "      <td>42360.000000</td>\n",
       "      <td>89500.000000</td>\n",
       "      <td>50553.000000</td>\n",
       "      <td>89500.000000</td>\n",
       "      <td>36143.000000</td>\n",
       "      <td>...</td>\n",
       "      <td>89500.000000</td>\n",
       "      <td>89500.0</td>\n",
       "      <td>89500.000000</td>\n",
       "      <td>89500.0</td>\n",
       "      <td>89500.0</td>\n",
       "      <td>89500.0</td>\n",
       "      <td>89500.0</td>\n",
       "      <td>89500.0</td>\n",
       "      <td>89500.0</td>\n",
       "      <td>89500.0</td>\n",
       "    </tr>\n",
       "    <tr>\n",
       "      <th>mean</th>\n",
       "      <td>313249.476067</td>\n",
       "      <td>-0.450405</td>\n",
       "      <td>0.677419</td>\n",
       "      <td>-0.126302</td>\n",
       "      <td>0.640693</td>\n",
       "      <td>-0.025275</td>\n",
       "      <td>0.473296</td>\n",
       "      <td>0.164331</td>\n",
       "      <td>0.564838</td>\n",
       "      <td>0.066891</td>\n",
       "      <td>...</td>\n",
       "      <td>11.502346</td>\n",
       "      <td>0.0</td>\n",
       "      <td>0.096425</td>\n",
       "      <td>0.0</td>\n",
       "      <td>0.0</td>\n",
       "      <td>1.0</td>\n",
       "      <td>0.0</td>\n",
       "      <td>0.0</td>\n",
       "      <td>0.0</td>\n",
       "      <td>0.0</td>\n",
       "    </tr>\n",
       "    <tr>\n",
       "      <th>std</th>\n",
       "      <td>180855.980629</td>\n",
       "      <td>0.746962</td>\n",
       "      <td>0.467467</td>\n",
       "      <td>0.481382</td>\n",
       "      <td>0.479800</td>\n",
       "      <td>0.601696</td>\n",
       "      <td>0.499289</td>\n",
       "      <td>1.059082</td>\n",
       "      <td>0.495781</td>\n",
       "      <td>1.096480</td>\n",
       "      <td>...</td>\n",
       "      <td>6.921202</td>\n",
       "      <td>0.0</td>\n",
       "      <td>0.295174</td>\n",
       "      <td>0.0</td>\n",
       "      <td>0.0</td>\n",
       "      <td>0.0</td>\n",
       "      <td>0.0</td>\n",
       "      <td>0.0</td>\n",
       "      <td>0.0</td>\n",
       "      <td>0.0</td>\n",
       "    </tr>\n",
       "    <tr>\n",
       "      <th>min</th>\n",
       "      <td>7.000000</td>\n",
       "      <td>-2.593269</td>\n",
       "      <td>0.000000</td>\n",
       "      <td>-0.465316</td>\n",
       "      <td>0.000000</td>\n",
       "      <td>-0.775219</td>\n",
       "      <td>0.000000</td>\n",
       "      <td>-1.071914</td>\n",
       "      <td>0.000000</td>\n",
       "      <td>-0.860290</td>\n",
       "      <td>...</td>\n",
       "      <td>0.000000</td>\n",
       "      <td>0.0</td>\n",
       "      <td>0.000000</td>\n",
       "      <td>0.0</td>\n",
       "      <td>0.0</td>\n",
       "      <td>1.0</td>\n",
       "      <td>0.0</td>\n",
       "      <td>0.0</td>\n",
       "      <td>0.0</td>\n",
       "      <td>0.0</td>\n",
       "    </tr>\n",
       "    <tr>\n",
       "      <th>25%</th>\n",
       "      <td>156623.250000</td>\n",
       "      <td>NaN</td>\n",
       "      <td>0.000000</td>\n",
       "      <td>NaN</td>\n",
       "      <td>0.000000</td>\n",
       "      <td>NaN</td>\n",
       "      <td>0.000000</td>\n",
       "      <td>NaN</td>\n",
       "      <td>0.000000</td>\n",
       "      <td>NaN</td>\n",
       "      <td>...</td>\n",
       "      <td>6.000000</td>\n",
       "      <td>0.0</td>\n",
       "      <td>0.000000</td>\n",
       "      <td>0.0</td>\n",
       "      <td>0.0</td>\n",
       "      <td>1.0</td>\n",
       "      <td>0.0</td>\n",
       "      <td>0.0</td>\n",
       "      <td>0.0</td>\n",
       "      <td>0.0</td>\n",
       "    </tr>\n",
       "    <tr>\n",
       "      <th>50%</th>\n",
       "      <td>313248.000000</td>\n",
       "      <td>NaN</td>\n",
       "      <td>1.000000</td>\n",
       "      <td>NaN</td>\n",
       "      <td>1.000000</td>\n",
       "      <td>NaN</td>\n",
       "      <td>0.000000</td>\n",
       "      <td>NaN</td>\n",
       "      <td>1.000000</td>\n",
       "      <td>NaN</td>\n",
       "      <td>...</td>\n",
       "      <td>12.000000</td>\n",
       "      <td>0.0</td>\n",
       "      <td>0.000000</td>\n",
       "      <td>0.0</td>\n",
       "      <td>0.0</td>\n",
       "      <td>1.0</td>\n",
       "      <td>0.0</td>\n",
       "      <td>0.0</td>\n",
       "      <td>0.0</td>\n",
       "      <td>0.0</td>\n",
       "    </tr>\n",
       "    <tr>\n",
       "      <th>75%</th>\n",
       "      <td>469873.500000</td>\n",
       "      <td>NaN</td>\n",
       "      <td>1.000000</td>\n",
       "      <td>NaN</td>\n",
       "      <td>1.000000</td>\n",
       "      <td>NaN</td>\n",
       "      <td>1.000000</td>\n",
       "      <td>NaN</td>\n",
       "      <td>1.000000</td>\n",
       "      <td>NaN</td>\n",
       "      <td>...</td>\n",
       "      <td>18.000000</td>\n",
       "      <td>0.0</td>\n",
       "      <td>0.000000</td>\n",
       "      <td>0.0</td>\n",
       "      <td>0.0</td>\n",
       "      <td>1.0</td>\n",
       "      <td>0.0</td>\n",
       "      <td>0.0</td>\n",
       "      <td>0.0</td>\n",
       "      <td>0.0</td>\n",
       "    </tr>\n",
       "    <tr>\n",
       "      <th>max</th>\n",
       "      <td>626496.000000</td>\n",
       "      <td>2.934737</td>\n",
       "      <td>1.000000</td>\n",
       "      <td>4.243175</td>\n",
       "      <td>1.000000</td>\n",
       "      <td>9.176899</td>\n",
       "      <td>1.000000</td>\n",
       "      <td>9.258671</td>\n",
       "      <td>1.000000</td>\n",
       "      <td>11.020234</td>\n",
       "      <td>...</td>\n",
       "      <td>23.000000</td>\n",
       "      <td>0.0</td>\n",
       "      <td>1.000000</td>\n",
       "      <td>0.0</td>\n",
       "      <td>0.0</td>\n",
       "      <td>1.0</td>\n",
       "      <td>0.0</td>\n",
       "      <td>0.0</td>\n",
       "      <td>0.0</td>\n",
       "      <td>0.0</td>\n",
       "    </tr>\n",
       "  </tbody>\n",
       "</table>\n",
       "<p>8 rows × 23 columns</p>\n",
       "</div>"
      ],
      "text/plain": [
       "          Unnamed: 0          PM10  PM10_null_pointers            CO  \\\n",
       "count   89500.000000  60629.000000        89500.000000  57342.000000   \n",
       "mean   313249.476067     -0.450405            0.677419     -0.126302   \n",
       "std    180855.980629      0.746962            0.467467      0.481382   \n",
       "min         7.000000     -2.593269            0.000000     -0.465316   \n",
       "25%    156623.250000           NaN            0.000000           NaN   \n",
       "50%    313248.000000           NaN            1.000000           NaN   \n",
       "75%    469873.500000           NaN            1.000000           NaN   \n",
       "max    626496.000000      2.934737            1.000000      4.243175   \n",
       "\n",
       "       CO_null_pointers           NO2  NO2_null_pointers            O3  \\\n",
       "count      89500.000000  42360.000000       89500.000000  50553.000000   \n",
       "mean           0.640693     -0.025275           0.473296      0.164331   \n",
       "std            0.479800      0.601696           0.499289      1.059082   \n",
       "min            0.000000     -0.775219           0.000000     -1.071914   \n",
       "25%            0.000000           NaN           0.000000           NaN   \n",
       "50%            1.000000           NaN           0.000000           NaN   \n",
       "75%            1.000000           NaN           1.000000           NaN   \n",
       "max            1.000000      9.176899           1.000000      9.258671   \n",
       "\n",
       "       O3_null_pointers          PM25    ...             hour  days_interval  \\\n",
       "count      89500.000000  36143.000000    ...     89500.000000        89500.0   \n",
       "mean           0.564838      0.066891    ...        11.502346            0.0   \n",
       "std            0.495781      1.096480    ...         6.921202            0.0   \n",
       "min            0.000000     -0.860290    ...         0.000000            0.0   \n",
       "25%            0.000000           NaN    ...         6.000000            0.0   \n",
       "50%            1.000000           NaN    ...        12.000000            0.0   \n",
       "75%            1.000000           NaN    ...        18.000000            0.0   \n",
       "max            1.000000     11.020234    ...        23.000000            0.0   \n",
       "\n",
       "       hour_interval   Centar  Gazi Baba   Karpos   Lisice  Miladinovci  \\\n",
       "count   89500.000000  89500.0    89500.0  89500.0  89500.0      89500.0   \n",
       "mean        0.096425      0.0        0.0      1.0      0.0          0.0   \n",
       "std         0.295174      0.0        0.0      0.0      0.0          0.0   \n",
       "min         0.000000      0.0        0.0      1.0      0.0          0.0   \n",
       "25%         0.000000      0.0        0.0      1.0      0.0          0.0   \n",
       "50%         0.000000      0.0        0.0      1.0      0.0          0.0   \n",
       "75%         0.000000      0.0        0.0      1.0      0.0          0.0   \n",
       "max         1.000000      0.0        0.0      1.0      0.0          0.0   \n",
       "\n",
       "       Mrsevci  Rektorat  \n",
       "count  89500.0   89500.0  \n",
       "mean       0.0       0.0  \n",
       "std        0.0       0.0  \n",
       "min        0.0       0.0  \n",
       "25%        0.0       0.0  \n",
       "50%        0.0       0.0  \n",
       "75%        0.0       0.0  \n",
       "max        0.0       0.0  \n",
       "\n",
       "[8 rows x 23 columns]"
      ]
     },
     "execution_count": 12,
     "metadata": {},
     "output_type": "execute_result"
    }
   ],
   "source": [
    "DataKarpos.describe() # Describe data input "
   ]
  },
  {
   "cell_type": "code",
   "execution_count": 13,
   "metadata": {},
   "outputs": [
    {
     "name": "stdout",
     "output_type": "stream",
     "text": [
      "<class 'pandas.core.frame.DataFrame'>\n",
      "RangeIndex: 89500 entries, 0 to 89499\n",
      "Data columns (total 27 columns):\n",
      "Unnamed: 0            89500 non-null int64\n",
      "date                  89500 non-null object\n",
      "PM10                  60629 non-null float64\n",
      "NAME                  89500 non-null object\n",
      "PM10_null_pointers    89500 non-null int64\n",
      "CO                    57342 non-null float64\n",
      "CO_null_pointers      89500 non-null int64\n",
      "NO2                   42360 non-null float64\n",
      "NO2_null_pointers     89500 non-null int64\n",
      "O3                    50553 non-null float64\n",
      "O3_null_pointers      89500 non-null int64\n",
      "PM25                  36143 non-null float64\n",
      "PM25_null_pointers    89500 non-null int64\n",
      "time                  89500 non-null object\n",
      "month                 89500 non-null int64\n",
      "day                   89500 non-null int64\n",
      "hour                  89500 non-null int64\n",
      "daysInterval          89500 non-null object\n",
      "days_interval         89500 non-null int64\n",
      "hour_interval         89500 non-null int64\n",
      "Centar                89500 non-null float64\n",
      "Gazi Baba             89500 non-null float64\n",
      "Karpos                89500 non-null float64\n",
      "Lisice                89500 non-null float64\n",
      "Miladinovci           89500 non-null float64\n",
      "Mrsevci               89500 non-null float64\n",
      "Rektorat              89500 non-null float64\n",
      "dtypes: float64(12), int64(11), object(4)\n",
      "memory usage: 18.4+ MB\n"
     ]
    }
   ],
   "source": [
    "DataKarpos.info()"
   ]
  },
  {
   "cell_type": "markdown",
   "metadata": {},
   "source": [
    "## Extract Data And Feature set"
   ]
  },
  {
   "cell_type": "code",
   "execution_count": 14,
   "metadata": {
    "collapsed": true
   },
   "outputs": [],
   "source": [
    "TargetKarpos = DataKarpos[['PM10']].copy(deep=True) # copy PM10 data out from data sets"
   ]
  },
  {
   "cell_type": "code",
   "execution_count": 15,
   "metadata": {
    "collapsed": true
   },
   "outputs": [],
   "source": [
    "features_set = DataKarpos.copy(deep=True)"
   ]
  },
  {
   "cell_type": "code",
   "execution_count": 16,
   "metadata": {
    "collapsed": true
   },
   "outputs": [],
   "source": [
    "#del features_set['PM10'] # delete feature set  from data set"
   ]
  },
  {
   "cell_type": "code",
   "execution_count": 17,
   "metadata": {
    "collapsed": true
   },
   "outputs": [],
   "source": [
    "features_set.drop(['Unnamed: 0','date','day', 'time','Lisice', 'Miladinovci', 'Mrsevci',\n",
    "       'Rektorat','daysInterval','NAME', 'hour_interval', 'days_interval','Centar', 'Gazi Baba'],axis=1,inplace=True)"
   ]
  },
  {
   "cell_type": "code",
   "execution_count": 18,
   "metadata": {},
   "outputs": [
    {
     "name": "stdout",
     "output_type": "stream",
     "text": [
      "Number of columns present in Future set : \n"
     ]
    },
    {
     "data": {
      "text/plain": [
       "13"
      ]
     },
     "execution_count": 18,
     "metadata": {},
     "output_type": "execute_result"
    }
   ],
   "source": [
    "print (\"Number of columns present in Future set : \");features_set.columns.values.size"
   ]
  },
  {
   "cell_type": "code",
   "execution_count": 19,
   "metadata": {},
   "outputs": [
    {
     "data": {
      "text/plain": [
       "Index(['PM10', 'PM10_null_pointers', 'CO', 'CO_null_pointers', 'NO2',\n",
       "       'NO2_null_pointers', 'O3', 'O3_null_pointers', 'PM25',\n",
       "       'PM25_null_pointers', 'month', 'hour', 'Karpos'],\n",
       "      dtype='object')"
      ]
     },
     "execution_count": 19,
     "metadata": {},
     "output_type": "execute_result"
    }
   ],
   "source": [
    "features_set.columns"
   ]
  },
  {
   "cell_type": "code",
   "execution_count": 20,
   "metadata": {},
   "outputs": [
    {
     "data": {
      "text/html": [
       "<div>\n",
       "<table border=\"1\" class=\"dataframe\">\n",
       "  <thead>\n",
       "    <tr style=\"text-align: right;\">\n",
       "      <th></th>\n",
       "      <th>PM10</th>\n",
       "      <th>PM10_null_pointers</th>\n",
       "      <th>CO</th>\n",
       "      <th>CO_null_pointers</th>\n",
       "      <th>NO2</th>\n",
       "      <th>NO2_null_pointers</th>\n",
       "      <th>O3</th>\n",
       "      <th>O3_null_pointers</th>\n",
       "      <th>PM25</th>\n",
       "      <th>PM25_null_pointers</th>\n",
       "      <th>month</th>\n",
       "      <th>hour</th>\n",
       "      <th>Karpos</th>\n",
       "    </tr>\n",
       "  </thead>\n",
       "  <tbody>\n",
       "    <tr>\n",
       "      <th>1</th>\n",
       "      <td>0.655947</td>\n",
       "      <td>1</td>\n",
       "      <td>0.332930</td>\n",
       "      <td>1</td>\n",
       "      <td>NaN</td>\n",
       "      <td>0</td>\n",
       "      <td>-0.094688</td>\n",
       "      <td>1</td>\n",
       "      <td>NaN</td>\n",
       "      <td>0</td>\n",
       "      <td>1</td>\n",
       "      <td>0</td>\n",
       "      <td>1.0</td>\n",
       "    </tr>\n",
       "    <tr>\n",
       "      <th>2</th>\n",
       "      <td>0.325387</td>\n",
       "      <td>1</td>\n",
       "      <td>0.118908</td>\n",
       "      <td>1</td>\n",
       "      <td>NaN</td>\n",
       "      <td>0</td>\n",
       "      <td>-0.076718</td>\n",
       "      <td>1</td>\n",
       "      <td>NaN</td>\n",
       "      <td>0</td>\n",
       "      <td>1</td>\n",
       "      <td>1</td>\n",
       "      <td>1.0</td>\n",
       "    </tr>\n",
       "    <tr>\n",
       "      <th>3</th>\n",
       "      <td>0.325387</td>\n",
       "      <td>1</td>\n",
       "      <td>0.118908</td>\n",
       "      <td>1</td>\n",
       "      <td>NaN</td>\n",
       "      <td>0</td>\n",
       "      <td>-0.076718</td>\n",
       "      <td>1</td>\n",
       "      <td>NaN</td>\n",
       "      <td>0</td>\n",
       "      <td>1</td>\n",
       "      <td>1</td>\n",
       "      <td>1.0</td>\n",
       "    </tr>\n",
       "    <tr>\n",
       "      <th>4</th>\n",
       "      <td>0.159634</td>\n",
       "      <td>1</td>\n",
       "      <td>-0.031487</td>\n",
       "      <td>1</td>\n",
       "      <td>NaN</td>\n",
       "      <td>0</td>\n",
       "      <td>-0.030862</td>\n",
       "      <td>1</td>\n",
       "      <td>NaN</td>\n",
       "      <td>0</td>\n",
       "      <td>1</td>\n",
       "      <td>2</td>\n",
       "      <td>1.0</td>\n",
       "    </tr>\n",
       "  </tbody>\n",
       "</table>\n",
       "</div>"
      ],
      "text/plain": [
       "       PM10  PM10_null_pointers        CO  CO_null_pointers  NO2  \\\n",
       "1  0.655947                   1  0.332930                 1  NaN   \n",
       "2  0.325387                   1  0.118908                 1  NaN   \n",
       "3  0.325387                   1  0.118908                 1  NaN   \n",
       "4  0.159634                   1 -0.031487                 1  NaN   \n",
       "\n",
       "   NO2_null_pointers        O3  O3_null_pointers  PM25  PM25_null_pointers  \\\n",
       "1                  0 -0.094688                 1   NaN                   0   \n",
       "2                  0 -0.076718                 1   NaN                   0   \n",
       "3                  0 -0.076718                 1   NaN                   0   \n",
       "4                  0 -0.030862                 1   NaN                   0   \n",
       "\n",
       "   month  hour  Karpos  \n",
       "1      1     0     1.0  \n",
       "2      1     1     1.0  \n",
       "3      1     1     1.0  \n",
       "4      1     2     1.0  "
      ]
     },
     "execution_count": 20,
     "metadata": {},
     "output_type": "execute_result"
    }
   ],
   "source": [
    "features_set[1:5] # Our feature set now comes out neat. Notice PM10 has been included in feature set."
   ]
  },
  {
   "cell_type": "code",
   "execution_count": 21,
   "metadata": {
    "collapsed": true
   },
   "outputs": [],
   "source": [
    "features_set.fillna(method='ffill',inplace=True);\n",
    "features_set.fillna(features_set.median(),inplace=True);"
   ]
  },
  {
   "cell_type": "code",
   "execution_count": 22,
   "metadata": {},
   "outputs": [
    {
     "data": {
      "text/plain": [
       "PM10                  0\n",
       "PM10_null_pointers    0\n",
       "CO                    0\n",
       "CO_null_pointers      0\n",
       "NO2                   0\n",
       "NO2_null_pointers     0\n",
       "O3                    0\n",
       "O3_null_pointers      0\n",
       "PM25                  0\n",
       "PM25_null_pointers    0\n",
       "month                 0\n",
       "hour                  0\n",
       "Karpos                0\n",
       "dtype: int64"
      ]
     },
     "execution_count": 22,
     "metadata": {},
     "output_type": "execute_result"
    }
   ],
   "source": [
    "features_set.isnull().sum()"
   ]
  },
  {
   "cell_type": "markdown",
   "metadata": {},
   "source": [
    "# Analysis Of Mising Values For PM10"
   ]
  },
  {
   "cell_type": "code",
   "execution_count": 23,
   "metadata": {
    "collapsed": true
   },
   "outputs": [],
   "source": [
    "# Target and TargetKarpos defined above are the same"
   ]
  },
  {
   "cell_type": "code",
   "execution_count": 24,
   "metadata": {
    "collapsed": true
   },
   "outputs": [],
   "source": [
    "Target = DataKarpos[['PM10']].copy(deep=True)"
   ]
  },
  {
   "cell_type": "code",
   "execution_count": 25,
   "metadata": {},
   "outputs": [
    {
     "data": {
      "text/plain": [
       "(89500, 1)"
      ]
     },
     "execution_count": 25,
     "metadata": {},
     "output_type": "execute_result"
    }
   ],
   "source": [
    "Target.shape"
   ]
  },
  {
   "cell_type": "code",
   "execution_count": 26,
   "metadata": {
    "collapsed": true
   },
   "outputs": [],
   "source": [
    "null_data_PM10 = Target[Target.isnull().any(axis=1)] # extract data sets with null values"
   ]
  },
  {
   "cell_type": "code",
   "execution_count": 27,
   "metadata": {},
   "outputs": [
    {
     "name": "stderr",
     "output_type": "stream",
     "text": [
      "//anaconda/envs/seychelles/lib/python3.5/site-packages/numpy/lib/function_base.py:3834: RuntimeWarning: Invalid value encountered in percentile\n",
      "  RuntimeWarning)\n"
     ]
    },
    {
     "data": {
      "text/html": [
       "<div>\n",
       "<table border=\"1\" class=\"dataframe\">\n",
       "  <thead>\n",
       "    <tr style=\"text-align: right;\">\n",
       "      <th></th>\n",
       "      <th>PM10</th>\n",
       "    </tr>\n",
       "  </thead>\n",
       "  <tbody>\n",
       "    <tr>\n",
       "      <th>count</th>\n",
       "      <td>0.0</td>\n",
       "    </tr>\n",
       "    <tr>\n",
       "      <th>mean</th>\n",
       "      <td>NaN</td>\n",
       "    </tr>\n",
       "    <tr>\n",
       "      <th>std</th>\n",
       "      <td>NaN</td>\n",
       "    </tr>\n",
       "    <tr>\n",
       "      <th>min</th>\n",
       "      <td>NaN</td>\n",
       "    </tr>\n",
       "    <tr>\n",
       "      <th>25%</th>\n",
       "      <td>NaN</td>\n",
       "    </tr>\n",
       "    <tr>\n",
       "      <th>50%</th>\n",
       "      <td>NaN</td>\n",
       "    </tr>\n",
       "    <tr>\n",
       "      <th>75%</th>\n",
       "      <td>NaN</td>\n",
       "    </tr>\n",
       "    <tr>\n",
       "      <th>max</th>\n",
       "      <td>NaN</td>\n",
       "    </tr>\n",
       "  </tbody>\n",
       "</table>\n",
       "</div>"
      ],
      "text/plain": [
       "       PM10\n",
       "count   0.0\n",
       "mean    NaN\n",
       "std     NaN\n",
       "min     NaN\n",
       "25%     NaN\n",
       "50%     NaN\n",
       "75%     NaN\n",
       "max     NaN"
      ]
     },
     "execution_count": 27,
     "metadata": {},
     "output_type": "execute_result"
    }
   ],
   "source": [
    "null_data_PM10.describe()"
   ]
  },
  {
   "cell_type": "code",
   "execution_count": 28,
   "metadata": {},
   "outputs": [
    {
     "name": "stdout",
     "output_type": "stream",
     "text": [
      "<class 'pandas.core.frame.DataFrame'>\n",
      "Int64Index: 28871 entries, 168 to 86692\n",
      "Data columns (total 1 columns):\n",
      "PM10    0 non-null float64\n",
      "dtypes: float64(1)\n",
      "memory usage: 451.1 KB\n"
     ]
    }
   ],
   "source": [
    "null_data_PM10.info() # Info about  non-null"
   ]
  },
  {
   "cell_type": "code",
   "execution_count": 29,
   "metadata": {},
   "outputs": [
    {
     "name": "stdout",
     "output_type": "stream",
     "text": [
      "<class 'pandas.core.frame.DataFrame'>\n",
      "RangeIndex: 89500 entries, 0 to 89499\n",
      "Data columns (total 1 columns):\n",
      "PM10    60629 non-null float64\n",
      "dtypes: float64(1)\n",
      "memory usage: 699.3 KB\n"
     ]
    }
   ],
   "source": [
    "Target.info()"
   ]
  },
  {
   "cell_type": "code",
   "execution_count": 30,
   "metadata": {},
   "outputs": [
    {
     "name": "stderr",
     "output_type": "stream",
     "text": [
      "//anaconda/envs/seychelles/lib/python3.5/site-packages/numpy/lib/function_base.py:3834: RuntimeWarning: Invalid value encountered in percentile\n",
      "  RuntimeWarning)\n"
     ]
    },
    {
     "data": {
      "text/html": [
       "<div>\n",
       "<table border=\"1\" class=\"dataframe\">\n",
       "  <thead>\n",
       "    <tr style=\"text-align: right;\">\n",
       "      <th></th>\n",
       "      <th>PM10</th>\n",
       "    </tr>\n",
       "  </thead>\n",
       "  <tbody>\n",
       "    <tr>\n",
       "      <th>count</th>\n",
       "      <td>60629.000000</td>\n",
       "    </tr>\n",
       "    <tr>\n",
       "      <th>mean</th>\n",
       "      <td>-0.450405</td>\n",
       "    </tr>\n",
       "    <tr>\n",
       "      <th>std</th>\n",
       "      <td>0.746962</td>\n",
       "    </tr>\n",
       "    <tr>\n",
       "      <th>min</th>\n",
       "      <td>-2.593269</td>\n",
       "    </tr>\n",
       "    <tr>\n",
       "      <th>25%</th>\n",
       "      <td>NaN</td>\n",
       "    </tr>\n",
       "    <tr>\n",
       "      <th>50%</th>\n",
       "      <td>NaN</td>\n",
       "    </tr>\n",
       "    <tr>\n",
       "      <th>75%</th>\n",
       "      <td>NaN</td>\n",
       "    </tr>\n",
       "    <tr>\n",
       "      <th>max</th>\n",
       "      <td>2.934737</td>\n",
       "    </tr>\n",
       "  </tbody>\n",
       "</table>\n",
       "</div>"
      ],
      "text/plain": [
       "               PM10\n",
       "count  60629.000000\n",
       "mean      -0.450405\n",
       "std        0.746962\n",
       "min       -2.593269\n",
       "25%             NaN\n",
       "50%             NaN\n",
       "75%             NaN\n",
       "max        2.934737"
      ]
     },
     "execution_count": 30,
     "metadata": {},
     "output_type": "execute_result"
    }
   ],
   "source": [
    "Target.describe()"
   ]
  },
  {
   "cell_type": "code",
   "execution_count": 31,
   "metadata": {
    "collapsed": true
   },
   "outputs": [],
   "source": [
    "def getPctMissing(series):\n",
    "    '''\n",
    "    Returns percentage of Missing data in a data set.\n",
    "    Input : Pandas series\n",
    "    Output: Percentage of missing data in data set\n",
    "    '''\n",
    "    num = series.isnull().sum()\n",
    "    Total_data = len(series)\n",
    "    return 100*(num/Total_data)"
   ]
  },
  {
   "cell_type": "code",
   "execution_count": 32,
   "metadata": {},
   "outputs": [
    {
     "name": "stdout",
     "output_type": "stream",
     "text": [
      "Number of null values in PM10 : \n"
     ]
    },
    {
     "data": {
      "text/plain": [
       "PM10    28871\n",
       "dtype: int64"
      ]
     },
     "execution_count": 32,
     "metadata": {},
     "output_type": "execute_result"
    }
   ],
   "source": [
    "print(\"Number of null values in PM10 : \");Target.isnull().sum()"
   ]
  },
  {
   "cell_type": "code",
   "execution_count": 33,
   "metadata": {},
   "outputs": [
    {
     "name": "stdout",
     "output_type": "stream",
     "text": [
      "Number of non null values in PM10 : \n"
     ]
    },
    {
     "data": {
      "text/plain": [
       "PM10    60629\n",
       "dtype: int64"
      ]
     },
     "execution_count": 33,
     "metadata": {},
     "output_type": "execute_result"
    }
   ],
   "source": [
    "print(\"Number of non null values in PM10 : \");Target.count()"
   ]
  },
  {
   "cell_type": "code",
   "execution_count": 34,
   "metadata": {},
   "outputs": [
    {
     "name": "stdout",
     "output_type": "stream",
     "text": [
      "Percentage of Missing Value: \n"
     ]
    },
    {
     "data": {
      "text/plain": [
       "PM10    32.258101\n",
       "dtype: float64"
      ]
     },
     "execution_count": 34,
     "metadata": {},
     "output_type": "execute_result"
    }
   ],
   "source": [
    "print(\"Percentage of Missing Value: \"); getPctMissing(Target)"
   ]
  },
  {
   "cell_type": "markdown",
   "metadata": {},
   "source": [
    "# Data After Cleaning"
   ]
  },
  {
   "cell_type": "code",
   "execution_count": 35,
   "metadata": {},
   "outputs": [
    {
     "name": "stderr",
     "output_type": "stream",
     "text": [
      "//anaconda/envs/seychelles/lib/python3.5/site-packages/numpy/lib/function_base.py:3834: RuntimeWarning: Invalid value encountered in percentile\n",
      "  RuntimeWarning)\n"
     ]
    },
    {
     "data": {
      "text/html": [
       "<div>\n",
       "<table border=\"1\" class=\"dataframe\">\n",
       "  <thead>\n",
       "    <tr style=\"text-align: right;\">\n",
       "      <th></th>\n",
       "      <th>PM10</th>\n",
       "    </tr>\n",
       "  </thead>\n",
       "  <tbody>\n",
       "    <tr>\n",
       "      <th>count</th>\n",
       "      <td>60629.000000</td>\n",
       "    </tr>\n",
       "    <tr>\n",
       "      <th>mean</th>\n",
       "      <td>-0.450405</td>\n",
       "    </tr>\n",
       "    <tr>\n",
       "      <th>std</th>\n",
       "      <td>0.746962</td>\n",
       "    </tr>\n",
       "    <tr>\n",
       "      <th>min</th>\n",
       "      <td>-2.593269</td>\n",
       "    </tr>\n",
       "    <tr>\n",
       "      <th>25%</th>\n",
       "      <td>NaN</td>\n",
       "    </tr>\n",
       "    <tr>\n",
       "      <th>50%</th>\n",
       "      <td>NaN</td>\n",
       "    </tr>\n",
       "    <tr>\n",
       "      <th>75%</th>\n",
       "      <td>NaN</td>\n",
       "    </tr>\n",
       "    <tr>\n",
       "      <th>max</th>\n",
       "      <td>2.934737</td>\n",
       "    </tr>\n",
       "  </tbody>\n",
       "</table>\n",
       "</div>"
      ],
      "text/plain": [
       "               PM10\n",
       "count  60629.000000\n",
       "mean      -0.450405\n",
       "std        0.746962\n",
       "min       -2.593269\n",
       "25%             NaN\n",
       "50%             NaN\n",
       "75%             NaN\n",
       "max        2.934737"
      ]
     },
     "execution_count": 35,
     "metadata": {},
     "output_type": "execute_result"
    }
   ],
   "source": [
    "Target.describe()"
   ]
  },
  {
   "cell_type": "code",
   "execution_count": 36,
   "metadata": {
    "collapsed": true
   },
   "outputs": [],
   "source": [
    "Target = Target.reset_index(drop=True)"
   ]
  },
  {
   "cell_type": "code",
   "execution_count": 37,
   "metadata": {},
   "outputs": [
    {
     "name": "stdout",
     "output_type": "stream",
     "text": [
      "<class 'pandas.core.frame.DataFrame'>\n",
      "RangeIndex: 89500 entries, 0 to 89499\n",
      "Data columns (total 1 columns):\n",
      "PM10    60629 non-null float64\n",
      "dtypes: float64(1)\n",
      "memory usage: 699.3 KB\n"
     ]
    }
   ],
   "source": [
    "Target.info()"
   ]
  },
  {
   "cell_type": "code",
   "execution_count": 38,
   "metadata": {},
   "outputs": [
    {
     "name": "stdout",
     "output_type": "stream",
     "text": [
      "Number of null values in PM10 : \n"
     ]
    },
    {
     "data": {
      "text/plain": [
       "PM10    28871\n",
       "dtype: int64"
      ]
     },
     "execution_count": 38,
     "metadata": {},
     "output_type": "execute_result"
    }
   ],
   "source": [
    "print(\"Number of null values in PM10 : \");Target.isnull().sum()"
   ]
  },
  {
   "cell_type": "code",
   "execution_count": 39,
   "metadata": {},
   "outputs": [
    {
     "name": "stdout",
     "output_type": "stream",
     "text": [
      "Number of non null values in PM10 : \n"
     ]
    },
    {
     "data": {
      "text/plain": [
       "PM10    60629\n",
       "dtype: int64"
      ]
     },
     "execution_count": 39,
     "metadata": {},
     "output_type": "execute_result"
    }
   ],
   "source": [
    "print(\"Number of non null values in PM10 : \");Target.count()"
   ]
  },
  {
   "cell_type": "code",
   "execution_count": 40,
   "metadata": {},
   "outputs": [
    {
     "data": {
      "text/html": [
       "<div>\n",
       "<table border=\"1\" class=\"dataframe\">\n",
       "  <thead>\n",
       "    <tr style=\"text-align: right;\">\n",
       "      <th></th>\n",
       "      <th>PM10</th>\n",
       "    </tr>\n",
       "  </thead>\n",
       "  <tbody>\n",
       "    <tr>\n",
       "      <th>0</th>\n",
       "      <td>0.655947</td>\n",
       "    </tr>\n",
       "    <tr>\n",
       "      <th>1</th>\n",
       "      <td>0.655947</td>\n",
       "    </tr>\n",
       "    <tr>\n",
       "      <th>2</th>\n",
       "      <td>0.325387</td>\n",
       "    </tr>\n",
       "    <tr>\n",
       "      <th>3</th>\n",
       "      <td>0.325387</td>\n",
       "    </tr>\n",
       "    <tr>\n",
       "      <th>4</th>\n",
       "      <td>0.159634</td>\n",
       "    </tr>\n",
       "  </tbody>\n",
       "</table>\n",
       "</div>"
      ],
      "text/plain": [
       "       PM10\n",
       "0  0.655947\n",
       "1  0.655947\n",
       "2  0.325387\n",
       "3  0.325387\n",
       "4  0.159634"
      ]
     },
     "execution_count": 40,
     "metadata": {},
     "output_type": "execute_result"
    }
   ],
   "source": [
    "Target.head()"
   ]
  },
  {
   "cell_type": "markdown",
   "metadata": {},
   "source": [
    "# Other locations"
   ]
  },
  {
   "cell_type": "code",
   "execution_count": 41,
   "metadata": {
    "collapsed": true
   },
   "outputs": [],
   "source": [
    "All_data =  pd.read_csv('ItemListWithDummy.csv') "
   ]
  },
  {
   "cell_type": "code",
   "execution_count": 42,
   "metadata": {},
   "outputs": [
    {
     "data": {
      "text/plain": [
       "Index(['Unnamed: 0', 'date', 'PM10', 'NAME', 'PM10_null_pointers', 'CO',\n",
       "       'CO_null_pointers', 'NO2', 'NO2_null_pointers', 'O3',\n",
       "       'O3_null_pointers', 'PM25', 'PM25_null_pointers', 'time', 'month',\n",
       "       'day', 'hour', 'daysInterval', 'days_interval', 'hour_interval',\n",
       "       'Centar', 'Gazi Baba', 'Karpos', 'Lisice', 'Miladinovci', 'Mrsevci',\n",
       "       'Rektorat'],\n",
       "      dtype='object')"
      ]
     },
     "execution_count": 42,
     "metadata": {},
     "output_type": "execute_result"
    }
   ],
   "source": [
    "All_data.columns"
   ]
  },
  {
   "cell_type": "code",
   "execution_count": 43,
   "metadata": {},
   "outputs": [],
   "source": [
    "#All_data['PM25'].isnull().sum()"
   ]
  },
  {
   "cell_type": "markdown",
   "metadata": {},
   "source": [
    "### Filter data per Loction"
   ]
  },
  {
   "cell_type": "code",
   "execution_count": 44,
   "metadata": {
    "collapsed": true
   },
   "outputs": [],
   "source": [
    "Lisice_loc_data = All_data[(All_data['Lisice']==1) ].copy(deep=True) # for Lisce location"
   ]
  },
  {
   "cell_type": "code",
   "execution_count": 45,
   "metadata": {},
   "outputs": [
    {
     "data": {
      "text/html": [
       "<div>\n",
       "<table border=\"1\" class=\"dataframe\">\n",
       "  <thead>\n",
       "    <tr style=\"text-align: right;\">\n",
       "      <th></th>\n",
       "      <th>Unnamed: 0</th>\n",
       "      <th>date</th>\n",
       "      <th>PM10</th>\n",
       "      <th>NAME</th>\n",
       "      <th>PM10_null_pointers</th>\n",
       "      <th>CO</th>\n",
       "      <th>CO_null_pointers</th>\n",
       "      <th>NO2</th>\n",
       "      <th>NO2_null_pointers</th>\n",
       "      <th>O3</th>\n",
       "      <th>...</th>\n",
       "      <th>daysInterval</th>\n",
       "      <th>days_interval</th>\n",
       "      <th>hour_interval</th>\n",
       "      <th>Centar</th>\n",
       "      <th>Gazi Baba</th>\n",
       "      <th>Karpos</th>\n",
       "      <th>Lisice</th>\n",
       "      <th>Miladinovci</th>\n",
       "      <th>Mrsevci</th>\n",
       "      <th>Rektorat</th>\n",
       "    </tr>\n",
       "  </thead>\n",
       "  <tbody>\n",
       "    <tr>\n",
       "      <th>2</th>\n",
       "      <td>2</td>\n",
       "      <td>2007-01-02 00:00:00</td>\n",
       "      <td>NaN</td>\n",
       "      <td>Lisice</td>\n",
       "      <td>0</td>\n",
       "      <td>1.923636</td>\n",
       "      <td>1</td>\n",
       "      <td>NaN</td>\n",
       "      <td>0</td>\n",
       "      <td>NaN</td>\n",
       "      <td>...</td>\n",
       "      <td>0 days 00:00:00.000000000</td>\n",
       "      <td>0</td>\n",
       "      <td>0</td>\n",
       "      <td>0.0</td>\n",
       "      <td>0.0</td>\n",
       "      <td>0.0</td>\n",
       "      <td>1.0</td>\n",
       "      <td>0.0</td>\n",
       "      <td>0.0</td>\n",
       "      <td>0.0</td>\n",
       "    </tr>\n",
       "    <tr>\n",
       "      <th>11</th>\n",
       "      <td>11</td>\n",
       "      <td>2007-01-02 00:00:00</td>\n",
       "      <td>NaN</td>\n",
       "      <td>Lisice</td>\n",
       "      <td>0</td>\n",
       "      <td>1.923636</td>\n",
       "      <td>1</td>\n",
       "      <td>NaN</td>\n",
       "      <td>0</td>\n",
       "      <td>NaN</td>\n",
       "      <td>...</td>\n",
       "      <td>0 days 00:00:00.000000000</td>\n",
       "      <td>0</td>\n",
       "      <td>0</td>\n",
       "      <td>0.0</td>\n",
       "      <td>0.0</td>\n",
       "      <td>0.0</td>\n",
       "      <td>1.0</td>\n",
       "      <td>0.0</td>\n",
       "      <td>0.0</td>\n",
       "      <td>0.0</td>\n",
       "    </tr>\n",
       "    <tr>\n",
       "      <th>17</th>\n",
       "      <td>17</td>\n",
       "      <td>2007-01-02 01:00:00</td>\n",
       "      <td>NaN</td>\n",
       "      <td>Lisice</td>\n",
       "      <td>0</td>\n",
       "      <td>1.964127</td>\n",
       "      <td>1</td>\n",
       "      <td>NaN</td>\n",
       "      <td>0</td>\n",
       "      <td>NaN</td>\n",
       "      <td>...</td>\n",
       "      <td>0 days 00:00:00.000000000</td>\n",
       "      <td>0</td>\n",
       "      <td>0</td>\n",
       "      <td>0.0</td>\n",
       "      <td>0.0</td>\n",
       "      <td>0.0</td>\n",
       "      <td>1.0</td>\n",
       "      <td>0.0</td>\n",
       "      <td>0.0</td>\n",
       "      <td>0.0</td>\n",
       "    </tr>\n",
       "    <tr>\n",
       "      <th>23</th>\n",
       "      <td>23</td>\n",
       "      <td>2007-01-02 01:00:00</td>\n",
       "      <td>NaN</td>\n",
       "      <td>Lisice</td>\n",
       "      <td>0</td>\n",
       "      <td>1.964127</td>\n",
       "      <td>1</td>\n",
       "      <td>NaN</td>\n",
       "      <td>0</td>\n",
       "      <td>NaN</td>\n",
       "      <td>...</td>\n",
       "      <td>0 days 00:00:00.000000000</td>\n",
       "      <td>0</td>\n",
       "      <td>0</td>\n",
       "      <td>0.0</td>\n",
       "      <td>0.0</td>\n",
       "      <td>0.0</td>\n",
       "      <td>1.0</td>\n",
       "      <td>0.0</td>\n",
       "      <td>0.0</td>\n",
       "      <td>0.0</td>\n",
       "    </tr>\n",
       "    <tr>\n",
       "      <th>33</th>\n",
       "      <td>33</td>\n",
       "      <td>2007-01-02 02:00:00</td>\n",
       "      <td>NaN</td>\n",
       "      <td>Lisice</td>\n",
       "      <td>0</td>\n",
       "      <td>1.408826</td>\n",
       "      <td>1</td>\n",
       "      <td>NaN</td>\n",
       "      <td>0</td>\n",
       "      <td>NaN</td>\n",
       "      <td>...</td>\n",
       "      <td>0 days 00:00:00.000000000</td>\n",
       "      <td>0</td>\n",
       "      <td>0</td>\n",
       "      <td>0.0</td>\n",
       "      <td>0.0</td>\n",
       "      <td>0.0</td>\n",
       "      <td>1.0</td>\n",
       "      <td>0.0</td>\n",
       "      <td>0.0</td>\n",
       "      <td>0.0</td>\n",
       "    </tr>\n",
       "  </tbody>\n",
       "</table>\n",
       "<p>5 rows × 27 columns</p>\n",
       "</div>"
      ],
      "text/plain": [
       "    Unnamed: 0                 date  PM10    NAME  PM10_null_pointers  \\\n",
       "2            2  2007-01-02 00:00:00   NaN  Lisice                   0   \n",
       "11          11  2007-01-02 00:00:00   NaN  Lisice                   0   \n",
       "17          17  2007-01-02 01:00:00   NaN  Lisice                   0   \n",
       "23          23  2007-01-02 01:00:00   NaN  Lisice                   0   \n",
       "33          33  2007-01-02 02:00:00   NaN  Lisice                   0   \n",
       "\n",
       "          CO  CO_null_pointers  NO2  NO2_null_pointers  O3    ...     \\\n",
       "2   1.923636                 1  NaN                  0 NaN    ...      \n",
       "11  1.923636                 1  NaN                  0 NaN    ...      \n",
       "17  1.964127                 1  NaN                  0 NaN    ...      \n",
       "23  1.964127                 1  NaN                  0 NaN    ...      \n",
       "33  1.408826                 1  NaN                  0 NaN    ...      \n",
       "\n",
       "                 daysInterval  days_interval  hour_interval Centar  Gazi Baba  \\\n",
       "2   0 days 00:00:00.000000000              0              0    0.0        0.0   \n",
       "11  0 days 00:00:00.000000000              0              0    0.0        0.0   \n",
       "17  0 days 00:00:00.000000000              0              0    0.0        0.0   \n",
       "23  0 days 00:00:00.000000000              0              0    0.0        0.0   \n",
       "33  0 days 00:00:00.000000000              0              0    0.0        0.0   \n",
       "\n",
       "    Karpos  Lisice Miladinovci  Mrsevci  Rektorat  \n",
       "2      0.0     1.0         0.0      0.0       0.0  \n",
       "11     0.0     1.0         0.0      0.0       0.0  \n",
       "17     0.0     1.0         0.0      0.0       0.0  \n",
       "23     0.0     1.0         0.0      0.0       0.0  \n",
       "33     0.0     1.0         0.0      0.0       0.0  \n",
       "\n",
       "[5 rows x 27 columns]"
      ]
     },
     "execution_count": 45,
     "metadata": {},
     "output_type": "execute_result"
    }
   ],
   "source": [
    "Lisice_loc_data.head()"
   ]
  },
  {
   "cell_type": "code",
   "execution_count": 46,
   "metadata": {},
   "outputs": [
    {
     "name": "stderr",
     "output_type": "stream",
     "text": [
      "//anaconda/envs/seychelles/lib/python3.5/site-packages/numpy/lib/function_base.py:3834: RuntimeWarning: Invalid value encountered in percentile\n",
      "  RuntimeWarning)\n"
     ]
    },
    {
     "data": {
      "text/html": [
       "<div>\n",
       "<table border=\"1\" class=\"dataframe\">\n",
       "  <thead>\n",
       "    <tr style=\"text-align: right;\">\n",
       "      <th></th>\n",
       "      <th>Unnamed: 0</th>\n",
       "      <th>PM10</th>\n",
       "      <th>PM10_null_pointers</th>\n",
       "      <th>CO</th>\n",
       "      <th>CO_null_pointers</th>\n",
       "      <th>NO2</th>\n",
       "      <th>NO2_null_pointers</th>\n",
       "      <th>O3</th>\n",
       "      <th>O3_null_pointers</th>\n",
       "      <th>PM25</th>\n",
       "      <th>...</th>\n",
       "      <th>hour</th>\n",
       "      <th>days_interval</th>\n",
       "      <th>hour_interval</th>\n",
       "      <th>Centar</th>\n",
       "      <th>Gazi Baba</th>\n",
       "      <th>Karpos</th>\n",
       "      <th>Lisice</th>\n",
       "      <th>Miladinovci</th>\n",
       "      <th>Mrsevci</th>\n",
       "      <th>Rektorat</th>\n",
       "    </tr>\n",
       "  </thead>\n",
       "  <tbody>\n",
       "    <tr>\n",
       "      <th>count</th>\n",
       "      <td>89500.000000</td>\n",
       "      <td>71515.000000</td>\n",
       "      <td>89500.000000</td>\n",
       "      <td>61355.000000</td>\n",
       "      <td>89500.000000</td>\n",
       "      <td>41410.000000</td>\n",
       "      <td>89500.000000</td>\n",
       "      <td>69198.000000</td>\n",
       "      <td>89500.000000</td>\n",
       "      <td>0.0</td>\n",
       "      <td>...</td>\n",
       "      <td>89500.000000</td>\n",
       "      <td>89500.0</td>\n",
       "      <td>89500.000000</td>\n",
       "      <td>89500.0</td>\n",
       "      <td>89500.0</td>\n",
       "      <td>89500.0</td>\n",
       "      <td>89500.0</td>\n",
       "      <td>89500.0</td>\n",
       "      <td>89500.0</td>\n",
       "      <td>89500.0</td>\n",
       "    </tr>\n",
       "    <tr>\n",
       "      <th>mean</th>\n",
       "      <td>313249.470291</td>\n",
       "      <td>-0.225271</td>\n",
       "      <td>0.799050</td>\n",
       "      <td>0.303293</td>\n",
       "      <td>0.685531</td>\n",
       "      <td>-0.185976</td>\n",
       "      <td>0.462682</td>\n",
       "      <td>-0.237666</td>\n",
       "      <td>0.773162</td>\n",
       "      <td>NaN</td>\n",
       "      <td>...</td>\n",
       "      <td>11.502346</td>\n",
       "      <td>0.0</td>\n",
       "      <td>0.089855</td>\n",
       "      <td>0.0</td>\n",
       "      <td>0.0</td>\n",
       "      <td>0.0</td>\n",
       "      <td>1.0</td>\n",
       "      <td>0.0</td>\n",
       "      <td>0.0</td>\n",
       "      <td>0.0</td>\n",
       "    </tr>\n",
       "    <tr>\n",
       "      <th>std</th>\n",
       "      <td>180855.978853</td>\n",
       "      <td>0.912469</td>\n",
       "      <td>0.400713</td>\n",
       "      <td>1.014127</td>\n",
       "      <td>0.464307</td>\n",
       "      <td>0.843020</td>\n",
       "      <td>0.498608</td>\n",
       "      <td>0.936408</td>\n",
       "      <td>0.418789</td>\n",
       "      <td>NaN</td>\n",
       "      <td>...</td>\n",
       "      <td>6.921202</td>\n",
       "      <td>0.0</td>\n",
       "      <td>0.286092</td>\n",
       "      <td>0.0</td>\n",
       "      <td>0.0</td>\n",
       "      <td>0.0</td>\n",
       "      <td>0.0</td>\n",
       "      <td>0.0</td>\n",
       "      <td>0.0</td>\n",
       "      <td>0.0</td>\n",
       "    </tr>\n",
       "    <tr>\n",
       "      <th>min</th>\n",
       "      <td>2.000000</td>\n",
       "      <td>-2.591076</td>\n",
       "      <td>0.000000</td>\n",
       "      <td>-0.465316</td>\n",
       "      <td>0.000000</td>\n",
       "      <td>-0.777982</td>\n",
       "      <td>0.000000</td>\n",
       "      <td>-1.071914</td>\n",
       "      <td>0.000000</td>\n",
       "      <td>NaN</td>\n",
       "      <td>...</td>\n",
       "      <td>0.000000</td>\n",
       "      <td>0.0</td>\n",
       "      <td>0.000000</td>\n",
       "      <td>0.0</td>\n",
       "      <td>0.0</td>\n",
       "      <td>0.0</td>\n",
       "      <td>1.0</td>\n",
       "      <td>0.0</td>\n",
       "      <td>0.0</td>\n",
       "      <td>0.0</td>\n",
       "    </tr>\n",
       "    <tr>\n",
       "      <th>25%</th>\n",
       "      <td>156625.000000</td>\n",
       "      <td>NaN</td>\n",
       "      <td>1.000000</td>\n",
       "      <td>NaN</td>\n",
       "      <td>0.000000</td>\n",
       "      <td>NaN</td>\n",
       "      <td>0.000000</td>\n",
       "      <td>NaN</td>\n",
       "      <td>1.000000</td>\n",
       "      <td>NaN</td>\n",
       "      <td>...</td>\n",
       "      <td>6.000000</td>\n",
       "      <td>0.0</td>\n",
       "      <td>0.000000</td>\n",
       "      <td>0.0</td>\n",
       "      <td>0.0</td>\n",
       "      <td>0.0</td>\n",
       "      <td>1.0</td>\n",
       "      <td>0.0</td>\n",
       "      <td>0.0</td>\n",
       "      <td>0.0</td>\n",
       "    </tr>\n",
       "    <tr>\n",
       "      <th>50%</th>\n",
       "      <td>313248.000000</td>\n",
       "      <td>NaN</td>\n",
       "      <td>1.000000</td>\n",
       "      <td>NaN</td>\n",
       "      <td>1.000000</td>\n",
       "      <td>NaN</td>\n",
       "      <td>0.000000</td>\n",
       "      <td>NaN</td>\n",
       "      <td>1.000000</td>\n",
       "      <td>NaN</td>\n",
       "      <td>...</td>\n",
       "      <td>12.000000</td>\n",
       "      <td>0.0</td>\n",
       "      <td>0.000000</td>\n",
       "      <td>0.0</td>\n",
       "      <td>0.0</td>\n",
       "      <td>0.0</td>\n",
       "      <td>1.0</td>\n",
       "      <td>0.0</td>\n",
       "      <td>0.0</td>\n",
       "      <td>0.0</td>\n",
       "    </tr>\n",
       "    <tr>\n",
       "      <th>75%</th>\n",
       "      <td>469871.500000</td>\n",
       "      <td>NaN</td>\n",
       "      <td>1.000000</td>\n",
       "      <td>NaN</td>\n",
       "      <td>1.000000</td>\n",
       "      <td>NaN</td>\n",
       "      <td>1.000000</td>\n",
       "      <td>NaN</td>\n",
       "      <td>1.000000</td>\n",
       "      <td>NaN</td>\n",
       "      <td>...</td>\n",
       "      <td>18.000000</td>\n",
       "      <td>0.0</td>\n",
       "      <td>0.000000</td>\n",
       "      <td>0.0</td>\n",
       "      <td>0.0</td>\n",
       "      <td>0.0</td>\n",
       "      <td>1.0</td>\n",
       "      <td>0.0</td>\n",
       "      <td>0.0</td>\n",
       "      <td>0.0</td>\n",
       "    </tr>\n",
       "    <tr>\n",
       "      <th>max</th>\n",
       "      <td>626497.000000</td>\n",
       "      <td>3.177814</td>\n",
       "      <td>1.000000</td>\n",
       "      <td>12.954462</td>\n",
       "      <td>1.000000</td>\n",
       "      <td>12.230470</td>\n",
       "      <td>1.000000</td>\n",
       "      <td>4.372541</td>\n",
       "      <td>1.000000</td>\n",
       "      <td>NaN</td>\n",
       "      <td>...</td>\n",
       "      <td>23.000000</td>\n",
       "      <td>0.0</td>\n",
       "      <td>2.000000</td>\n",
       "      <td>0.0</td>\n",
       "      <td>0.0</td>\n",
       "      <td>0.0</td>\n",
       "      <td>1.0</td>\n",
       "      <td>0.0</td>\n",
       "      <td>0.0</td>\n",
       "      <td>0.0</td>\n",
       "    </tr>\n",
       "  </tbody>\n",
       "</table>\n",
       "<p>8 rows × 23 columns</p>\n",
       "</div>"
      ],
      "text/plain": [
       "          Unnamed: 0          PM10  PM10_null_pointers            CO  \\\n",
       "count   89500.000000  71515.000000        89500.000000  61355.000000   \n",
       "mean   313249.470291     -0.225271            0.799050      0.303293   \n",
       "std    180855.978853      0.912469            0.400713      1.014127   \n",
       "min         2.000000     -2.591076            0.000000     -0.465316   \n",
       "25%    156625.000000           NaN            1.000000           NaN   \n",
       "50%    313248.000000           NaN            1.000000           NaN   \n",
       "75%    469871.500000           NaN            1.000000           NaN   \n",
       "max    626497.000000      3.177814            1.000000     12.954462   \n",
       "\n",
       "       CO_null_pointers           NO2  NO2_null_pointers            O3  \\\n",
       "count      89500.000000  41410.000000       89500.000000  69198.000000   \n",
       "mean           0.685531     -0.185976           0.462682     -0.237666   \n",
       "std            0.464307      0.843020           0.498608      0.936408   \n",
       "min            0.000000     -0.777982           0.000000     -1.071914   \n",
       "25%            0.000000           NaN           0.000000           NaN   \n",
       "50%            1.000000           NaN           0.000000           NaN   \n",
       "75%            1.000000           NaN           1.000000           NaN   \n",
       "max            1.000000     12.230470           1.000000      4.372541   \n",
       "\n",
       "       O3_null_pointers  PM25    ...             hour  days_interval  \\\n",
       "count      89500.000000   0.0    ...     89500.000000        89500.0   \n",
       "mean           0.773162   NaN    ...        11.502346            0.0   \n",
       "std            0.418789   NaN    ...         6.921202            0.0   \n",
       "min            0.000000   NaN    ...         0.000000            0.0   \n",
       "25%            1.000000   NaN    ...         6.000000            0.0   \n",
       "50%            1.000000   NaN    ...        12.000000            0.0   \n",
       "75%            1.000000   NaN    ...        18.000000            0.0   \n",
       "max            1.000000   NaN    ...        23.000000            0.0   \n",
       "\n",
       "       hour_interval   Centar  Gazi Baba   Karpos   Lisice  Miladinovci  \\\n",
       "count   89500.000000  89500.0    89500.0  89500.0  89500.0      89500.0   \n",
       "mean        0.089855      0.0        0.0      0.0      1.0          0.0   \n",
       "std         0.286092      0.0        0.0      0.0      0.0          0.0   \n",
       "min         0.000000      0.0        0.0      0.0      1.0          0.0   \n",
       "25%         0.000000      0.0        0.0      0.0      1.0          0.0   \n",
       "50%         0.000000      0.0        0.0      0.0      1.0          0.0   \n",
       "75%         0.000000      0.0        0.0      0.0      1.0          0.0   \n",
       "max         2.000000      0.0        0.0      0.0      1.0          0.0   \n",
       "\n",
       "       Mrsevci  Rektorat  \n",
       "count  89500.0   89500.0  \n",
       "mean       0.0       0.0  \n",
       "std        0.0       0.0  \n",
       "min        0.0       0.0  \n",
       "25%        0.0       0.0  \n",
       "50%        0.0       0.0  \n",
       "75%        0.0       0.0  \n",
       "max        0.0       0.0  \n",
       "\n",
       "[8 rows x 23 columns]"
      ]
     },
     "execution_count": 46,
     "metadata": {},
     "output_type": "execute_result"
    }
   ],
   "source": [
    "Lisice_loc_data.describe()"
   ]
  },
  {
   "cell_type": "code",
   "execution_count": 47,
   "metadata": {},
   "outputs": [
    {
     "data": {
      "text/plain": [
       "(89500, 27)"
      ]
     },
     "execution_count": 47,
     "metadata": {},
     "output_type": "execute_result"
    }
   ],
   "source": [
    "Lisice_loc_data.shape"
   ]
  },
  {
   "cell_type": "code",
   "execution_count": 48,
   "metadata": {},
   "outputs": [
    {
     "data": {
      "text/plain": [
       "Unnamed: 0                0\n",
       "date                      0\n",
       "PM10                  17985\n",
       "NAME                      0\n",
       "PM10_null_pointers        0\n",
       "CO                    28145\n",
       "CO_null_pointers          0\n",
       "NO2                   48090\n",
       "NO2_null_pointers         0\n",
       "O3                    20302\n",
       "O3_null_pointers          0\n",
       "PM25                  89500\n",
       "PM25_null_pointers        0\n",
       "time                      0\n",
       "month                     0\n",
       "day                       0\n",
       "hour                      0\n",
       "daysInterval              0\n",
       "days_interval             0\n",
       "hour_interval             0\n",
       "Centar                    0\n",
       "Gazi Baba                 0\n",
       "Karpos                    0\n",
       "Lisice                    0\n",
       "Miladinovci               0\n",
       "Mrsevci                   0\n",
       "Rektorat                  0\n",
       "dtype: int64"
      ]
     },
     "execution_count": 48,
     "metadata": {},
     "output_type": "execute_result"
    }
   ],
   "source": [
    "Lisice_loc_data.isnull().sum() # drop columns that are all null "
   ]
  },
  {
   "cell_type": "code",
   "execution_count": 49,
   "metadata": {
    "collapsed": true
   },
   "outputs": [],
   "source": [
    "Lisice_loc_data.drop(['PM25','PM25_null_pointers'],axis=1,inplace=True) # dropping null columns"
   ]
  },
  {
   "cell_type": "code",
   "execution_count": 50,
   "metadata": {
    "collapsed": true
   },
   "outputs": [],
   "source": [
    "Lisice_loc_data.fillna(method='ffill',inplace=True); # forward fill\n",
    "#Lisice_loc_data.fillna(method='bfill',inplace=True); # backward fill\n",
    "Lisice_loc_data.fillna(Lisice_loc_data.median(),inplace=True);"
   ]
  },
  {
   "cell_type": "code",
   "execution_count": 51,
   "metadata": {},
   "outputs": [
    {
     "data": {
      "text/plain": [
       "Unnamed: 0            0\n",
       "date                  0\n",
       "PM10                  0\n",
       "NAME                  0\n",
       "PM10_null_pointers    0\n",
       "CO                    0\n",
       "CO_null_pointers      0\n",
       "NO2                   0\n",
       "NO2_null_pointers     0\n",
       "O3                    0\n",
       "O3_null_pointers      0\n",
       "time                  0\n",
       "month                 0\n",
       "day                   0\n",
       "hour                  0\n",
       "daysInterval          0\n",
       "days_interval         0\n",
       "hour_interval         0\n",
       "Centar                0\n",
       "Gazi Baba             0\n",
       "Karpos                0\n",
       "Lisice                0\n",
       "Miladinovci           0\n",
       "Mrsevci               0\n",
       "Rektorat              0\n",
       "dtype: int64"
      ]
     },
     "execution_count": 51,
     "metadata": {},
     "output_type": "execute_result"
    }
   ],
   "source": [
    "Lisice_loc_data.isnull().sum()"
   ]
  },
  {
   "cell_type": "code",
   "execution_count": 52,
   "metadata": {},
   "outputs": [
    {
     "data": {
      "text/html": [
       "<div>\n",
       "<table border=\"1\" class=\"dataframe\">\n",
       "  <thead>\n",
       "    <tr style=\"text-align: right;\">\n",
       "      <th></th>\n",
       "      <th>Unnamed: 0</th>\n",
       "      <th>PM10</th>\n",
       "      <th>PM10_null_pointers</th>\n",
       "      <th>CO</th>\n",
       "      <th>CO_null_pointers</th>\n",
       "      <th>NO2</th>\n",
       "      <th>NO2_null_pointers</th>\n",
       "      <th>O3</th>\n",
       "      <th>O3_null_pointers</th>\n",
       "      <th>month</th>\n",
       "      <th>...</th>\n",
       "      <th>hour</th>\n",
       "      <th>days_interval</th>\n",
       "      <th>hour_interval</th>\n",
       "      <th>Centar</th>\n",
       "      <th>Gazi Baba</th>\n",
       "      <th>Karpos</th>\n",
       "      <th>Lisice</th>\n",
       "      <th>Miladinovci</th>\n",
       "      <th>Mrsevci</th>\n",
       "      <th>Rektorat</th>\n",
       "    </tr>\n",
       "  </thead>\n",
       "  <tbody>\n",
       "    <tr>\n",
       "      <th>count</th>\n",
       "      <td>89500.000000</td>\n",
       "      <td>89500.000000</td>\n",
       "      <td>89500.000000</td>\n",
       "      <td>89500.000000</td>\n",
       "      <td>89500.000000</td>\n",
       "      <td>89500.000000</td>\n",
       "      <td>89500.000000</td>\n",
       "      <td>89500.000000</td>\n",
       "      <td>89500.000000</td>\n",
       "      <td>89500.000000</td>\n",
       "      <td>...</td>\n",
       "      <td>89500.000000</td>\n",
       "      <td>89500.0</td>\n",
       "      <td>89500.000000</td>\n",
       "      <td>89500.0</td>\n",
       "      <td>89500.0</td>\n",
       "      <td>89500.0</td>\n",
       "      <td>89500.0</td>\n",
       "      <td>89500.0</td>\n",
       "      <td>89500.0</td>\n",
       "      <td>89500.0</td>\n",
       "    </tr>\n",
       "    <tr>\n",
       "      <th>mean</th>\n",
       "      <td>313249.470291</td>\n",
       "      <td>-0.196401</td>\n",
       "      <td>0.799050</td>\n",
       "      <td>0.313818</td>\n",
       "      <td>0.685531</td>\n",
       "      <td>-0.201692</td>\n",
       "      <td>0.462682</td>\n",
       "      <td>-0.315526</td>\n",
       "      <td>0.773162</td>\n",
       "      <td>6.408492</td>\n",
       "      <td>...</td>\n",
       "      <td>11.502346</td>\n",
       "      <td>0.0</td>\n",
       "      <td>0.089855</td>\n",
       "      <td>0.0</td>\n",
       "      <td>0.0</td>\n",
       "      <td>0.0</td>\n",
       "      <td>1.0</td>\n",
       "      <td>0.0</td>\n",
       "      <td>0.0</td>\n",
       "      <td>0.0</td>\n",
       "    </tr>\n",
       "    <tr>\n",
       "      <th>std</th>\n",
       "      <td>180855.978853</td>\n",
       "      <td>0.887473</td>\n",
       "      <td>0.400713</td>\n",
       "      <td>1.082659</td>\n",
       "      <td>0.464307</td>\n",
       "      <td>0.679670</td>\n",
       "      <td>0.498608</td>\n",
       "      <td>0.876902</td>\n",
       "      <td>0.418789</td>\n",
       "      <td>3.502213</td>\n",
       "      <td>...</td>\n",
       "      <td>6.921202</td>\n",
       "      <td>0.0</td>\n",
       "      <td>0.286092</td>\n",
       "      <td>0.0</td>\n",
       "      <td>0.0</td>\n",
       "      <td>0.0</td>\n",
       "      <td>0.0</td>\n",
       "      <td>0.0</td>\n",
       "      <td>0.0</td>\n",
       "      <td>0.0</td>\n",
       "    </tr>\n",
       "    <tr>\n",
       "      <th>min</th>\n",
       "      <td>2.000000</td>\n",
       "      <td>-2.591076</td>\n",
       "      <td>0.000000</td>\n",
       "      <td>-0.465316</td>\n",
       "      <td>0.000000</td>\n",
       "      <td>-0.777982</td>\n",
       "      <td>0.000000</td>\n",
       "      <td>-1.071914</td>\n",
       "      <td>0.000000</td>\n",
       "      <td>1.000000</td>\n",
       "      <td>...</td>\n",
       "      <td>0.000000</td>\n",
       "      <td>0.0</td>\n",
       "      <td>0.000000</td>\n",
       "      <td>0.0</td>\n",
       "      <td>0.0</td>\n",
       "      <td>0.0</td>\n",
       "      <td>1.0</td>\n",
       "      <td>0.0</td>\n",
       "      <td>0.0</td>\n",
       "      <td>0.0</td>\n",
       "    </tr>\n",
       "    <tr>\n",
       "      <th>25%</th>\n",
       "      <td>156625.000000</td>\n",
       "      <td>-0.746142</td>\n",
       "      <td>1.000000</td>\n",
       "      <td>-0.297568</td>\n",
       "      <td>0.000000</td>\n",
       "      <td>-0.516431</td>\n",
       "      <td>0.000000</td>\n",
       "      <td>-0.954796</td>\n",
       "      <td>1.000000</td>\n",
       "      <td>3.000000</td>\n",
       "      <td>...</td>\n",
       "      <td>6.000000</td>\n",
       "      <td>0.0</td>\n",
       "      <td>0.000000</td>\n",
       "      <td>0.0</td>\n",
       "      <td>0.0</td>\n",
       "      <td>0.0</td>\n",
       "      <td>1.0</td>\n",
       "      <td>0.0</td>\n",
       "      <td>0.0</td>\n",
       "      <td>0.0</td>\n",
       "    </tr>\n",
       "    <tr>\n",
       "      <th>50%</th>\n",
       "      <td>313248.000000</td>\n",
       "      <td>-0.349167</td>\n",
       "      <td>1.000000</td>\n",
       "      <td>-0.100899</td>\n",
       "      <td>1.000000</td>\n",
       "      <td>-0.389340</td>\n",
       "      <td>0.000000</td>\n",
       "      <td>-0.677802</td>\n",
       "      <td>1.000000</td>\n",
       "      <td>6.000000</td>\n",
       "      <td>...</td>\n",
       "      <td>12.000000</td>\n",
       "      <td>0.0</td>\n",
       "      <td>0.000000</td>\n",
       "      <td>0.0</td>\n",
       "      <td>0.0</td>\n",
       "      <td>0.0</td>\n",
       "      <td>1.0</td>\n",
       "      <td>0.0</td>\n",
       "      <td>0.0</td>\n",
       "      <td>0.0</td>\n",
       "    </tr>\n",
       "    <tr>\n",
       "      <th>75%</th>\n",
       "      <td>469871.500000</td>\n",
       "      <td>0.229467</td>\n",
       "      <td>1.000000</td>\n",
       "      <td>0.390774</td>\n",
       "      <td>1.000000</td>\n",
       "      <td>-0.296631</td>\n",
       "      <td>1.000000</td>\n",
       "      <td>0.023050</td>\n",
       "      <td>1.000000</td>\n",
       "      <td>9.000000</td>\n",
       "      <td>...</td>\n",
       "      <td>18.000000</td>\n",
       "      <td>0.0</td>\n",
       "      <td>0.000000</td>\n",
       "      <td>0.0</td>\n",
       "      <td>0.0</td>\n",
       "      <td>0.0</td>\n",
       "      <td>1.0</td>\n",
       "      <td>0.0</td>\n",
       "      <td>0.0</td>\n",
       "      <td>0.0</td>\n",
       "    </tr>\n",
       "    <tr>\n",
       "      <th>max</th>\n",
       "      <td>626497.000000</td>\n",
       "      <td>3.177814</td>\n",
       "      <td>1.000000</td>\n",
       "      <td>12.954462</td>\n",
       "      <td>1.000000</td>\n",
       "      <td>12.230470</td>\n",
       "      <td>1.000000</td>\n",
       "      <td>4.372541</td>\n",
       "      <td>1.000000</td>\n",
       "      <td>12.000000</td>\n",
       "      <td>...</td>\n",
       "      <td>23.000000</td>\n",
       "      <td>0.0</td>\n",
       "      <td>2.000000</td>\n",
       "      <td>0.0</td>\n",
       "      <td>0.0</td>\n",
       "      <td>0.0</td>\n",
       "      <td>1.0</td>\n",
       "      <td>0.0</td>\n",
       "      <td>0.0</td>\n",
       "      <td>0.0</td>\n",
       "    </tr>\n",
       "  </tbody>\n",
       "</table>\n",
       "<p>8 rows × 21 columns</p>\n",
       "</div>"
      ],
      "text/plain": [
       "          Unnamed: 0          PM10  PM10_null_pointers            CO  \\\n",
       "count   89500.000000  89500.000000        89500.000000  89500.000000   \n",
       "mean   313249.470291     -0.196401            0.799050      0.313818   \n",
       "std    180855.978853      0.887473            0.400713      1.082659   \n",
       "min         2.000000     -2.591076            0.000000     -0.465316   \n",
       "25%    156625.000000     -0.746142            1.000000     -0.297568   \n",
       "50%    313248.000000     -0.349167            1.000000     -0.100899   \n",
       "75%    469871.500000      0.229467            1.000000      0.390774   \n",
       "max    626497.000000      3.177814            1.000000     12.954462   \n",
       "\n",
       "       CO_null_pointers           NO2  NO2_null_pointers            O3  \\\n",
       "count      89500.000000  89500.000000       89500.000000  89500.000000   \n",
       "mean           0.685531     -0.201692           0.462682     -0.315526   \n",
       "std            0.464307      0.679670           0.498608      0.876902   \n",
       "min            0.000000     -0.777982           0.000000     -1.071914   \n",
       "25%            0.000000     -0.516431           0.000000     -0.954796   \n",
       "50%            1.000000     -0.389340           0.000000     -0.677802   \n",
       "75%            1.000000     -0.296631           1.000000      0.023050   \n",
       "max            1.000000     12.230470           1.000000      4.372541   \n",
       "\n",
       "       O3_null_pointers         month    ...             hour  days_interval  \\\n",
       "count      89500.000000  89500.000000    ...     89500.000000        89500.0   \n",
       "mean           0.773162      6.408492    ...        11.502346            0.0   \n",
       "std            0.418789      3.502213    ...         6.921202            0.0   \n",
       "min            0.000000      1.000000    ...         0.000000            0.0   \n",
       "25%            1.000000      3.000000    ...         6.000000            0.0   \n",
       "50%            1.000000      6.000000    ...        12.000000            0.0   \n",
       "75%            1.000000      9.000000    ...        18.000000            0.0   \n",
       "max            1.000000     12.000000    ...        23.000000            0.0   \n",
       "\n",
       "       hour_interval   Centar  Gazi Baba   Karpos   Lisice  Miladinovci  \\\n",
       "count   89500.000000  89500.0    89500.0  89500.0  89500.0      89500.0   \n",
       "mean        0.089855      0.0        0.0      0.0      1.0          0.0   \n",
       "std         0.286092      0.0        0.0      0.0      0.0          0.0   \n",
       "min         0.000000      0.0        0.0      0.0      1.0          0.0   \n",
       "25%         0.000000      0.0        0.0      0.0      1.0          0.0   \n",
       "50%         0.000000      0.0        0.0      0.0      1.0          0.0   \n",
       "75%         0.000000      0.0        0.0      0.0      1.0          0.0   \n",
       "max         2.000000      0.0        0.0      0.0      1.0          0.0   \n",
       "\n",
       "       Mrsevci  Rektorat  \n",
       "count  89500.0   89500.0  \n",
       "mean       0.0       0.0  \n",
       "std        0.0       0.0  \n",
       "min        0.0       0.0  \n",
       "25%        0.0       0.0  \n",
       "50%        0.0       0.0  \n",
       "75%        0.0       0.0  \n",
       "max        0.0       0.0  \n",
       "\n",
       "[8 rows x 21 columns]"
      ]
     },
     "execution_count": 52,
     "metadata": {},
     "output_type": "execute_result"
    }
   ],
   "source": [
    "Lisice_loc_data.describe()"
   ]
  },
  {
   "cell_type": "code",
   "execution_count": null,
   "metadata": {
    "collapsed": true
   },
   "outputs": [],
   "source": []
  },
  {
   "cell_type": "markdown",
   "metadata": {},
   "source": [
    "### Location centar (Not used . Too much null values)"
   ]
  },
  {
   "cell_type": "code",
   "execution_count": 53,
   "metadata": {
    "collapsed": true
   },
   "outputs": [],
   "source": [
    "Centar_loc_data = All_data[(All_data['Centar']==1) ].copy(deep=True) # for Lisce location"
   ]
  },
  {
   "cell_type": "code",
   "execution_count": 54,
   "metadata": {},
   "outputs": [
    {
     "name": "stderr",
     "output_type": "stream",
     "text": [
      "//anaconda/envs/seychelles/lib/python3.5/site-packages/numpy/lib/function_base.py:3834: RuntimeWarning: Invalid value encountered in percentile\n",
      "  RuntimeWarning)\n"
     ]
    },
    {
     "data": {
      "text/html": [
       "<div>\n",
       "<table border=\"1\" class=\"dataframe\">\n",
       "  <thead>\n",
       "    <tr style=\"text-align: right;\">\n",
       "      <th></th>\n",
       "      <th>Unnamed: 0</th>\n",
       "      <th>PM10</th>\n",
       "      <th>PM10_null_pointers</th>\n",
       "      <th>CO</th>\n",
       "      <th>CO_null_pointers</th>\n",
       "      <th>NO2</th>\n",
       "      <th>NO2_null_pointers</th>\n",
       "      <th>O3</th>\n",
       "      <th>O3_null_pointers</th>\n",
       "      <th>PM25</th>\n",
       "      <th>...</th>\n",
       "      <th>hour</th>\n",
       "      <th>days_interval</th>\n",
       "      <th>hour_interval</th>\n",
       "      <th>Centar</th>\n",
       "      <th>Gazi Baba</th>\n",
       "      <th>Karpos</th>\n",
       "      <th>Lisice</th>\n",
       "      <th>Miladinovci</th>\n",
       "      <th>Mrsevci</th>\n",
       "      <th>Rektorat</th>\n",
       "    </tr>\n",
       "  </thead>\n",
       "  <tbody>\n",
       "    <tr>\n",
       "      <th>count</th>\n",
       "      <td>89500.000000</td>\n",
       "      <td>46989.000000</td>\n",
       "      <td>89500.000000</td>\n",
       "      <td>45322.000000</td>\n",
       "      <td>89500.000000</td>\n",
       "      <td>39935.000000</td>\n",
       "      <td>89500.000000</td>\n",
       "      <td>44082.000000</td>\n",
       "      <td>89500.000000</td>\n",
       "      <td>43228.000000</td>\n",
       "      <td>...</td>\n",
       "      <td>89500.000000</td>\n",
       "      <td>89500.0</td>\n",
       "      <td>89500.000000</td>\n",
       "      <td>89500.0</td>\n",
       "      <td>89500.0</td>\n",
       "      <td>89500.0</td>\n",
       "      <td>89500.0</td>\n",
       "      <td>89500.0</td>\n",
       "      <td>89500.0</td>\n",
       "      <td>89500.0</td>\n",
       "    </tr>\n",
       "    <tr>\n",
       "      <th>mean</th>\n",
       "      <td>313249.568916</td>\n",
       "      <td>-0.363755</td>\n",
       "      <td>0.525017</td>\n",
       "      <td>0.010291</td>\n",
       "      <td>0.506391</td>\n",
       "      <td>0.246926</td>\n",
       "      <td>0.446201</td>\n",
       "      <td>-0.081323</td>\n",
       "      <td>0.492536</td>\n",
       "      <td>-0.055927</td>\n",
       "      <td>...</td>\n",
       "      <td>11.502346</td>\n",
       "      <td>0.0</td>\n",
       "      <td>0.221899</td>\n",
       "      <td>1.0</td>\n",
       "      <td>0.0</td>\n",
       "      <td>0.0</td>\n",
       "      <td>0.0</td>\n",
       "      <td>0.0</td>\n",
       "      <td>0.0</td>\n",
       "      <td>0.0</td>\n",
       "    </tr>\n",
       "    <tr>\n",
       "      <th>std</th>\n",
       "      <td>180855.995775</td>\n",
       "      <td>0.742223</td>\n",
       "      <td>0.499377</td>\n",
       "      <td>0.595482</td>\n",
       "      <td>0.499962</td>\n",
       "      <td>0.757206</td>\n",
       "      <td>0.497100</td>\n",
       "      <td>0.968267</td>\n",
       "      <td>0.499947</td>\n",
       "      <td>0.907765</td>\n",
       "      <td>...</td>\n",
       "      <td>6.921202</td>\n",
       "      <td>0.0</td>\n",
       "      <td>0.415607</td>\n",
       "      <td>0.0</td>\n",
       "      <td>0.0</td>\n",
       "      <td>0.0</td>\n",
       "      <td>0.0</td>\n",
       "      <td>0.0</td>\n",
       "      <td>0.0</td>\n",
       "      <td>0.0</td>\n",
       "    </tr>\n",
       "    <tr>\n",
       "      <th>min</th>\n",
       "      <td>1.000000</td>\n",
       "      <td>-2.593269</td>\n",
       "      <td>0.000000</td>\n",
       "      <td>-0.465316</td>\n",
       "      <td>0.000000</td>\n",
       "      <td>-0.773684</td>\n",
       "      <td>0.000000</td>\n",
       "      <td>-1.071914</td>\n",
       "      <td>0.000000</td>\n",
       "      <td>-0.860290</td>\n",
       "      <td>...</td>\n",
       "      <td>0.000000</td>\n",
       "      <td>0.0</td>\n",
       "      <td>0.000000</td>\n",
       "      <td>1.0</td>\n",
       "      <td>0.0</td>\n",
       "      <td>0.0</td>\n",
       "      <td>0.0</td>\n",
       "      <td>0.0</td>\n",
       "      <td>0.0</td>\n",
       "      <td>0.0</td>\n",
       "    </tr>\n",
       "    <tr>\n",
       "      <th>25%</th>\n",
       "      <td>156628.250000</td>\n",
       "      <td>NaN</td>\n",
       "      <td>0.000000</td>\n",
       "      <td>NaN</td>\n",
       "      <td>0.000000</td>\n",
       "      <td>NaN</td>\n",
       "      <td>0.000000</td>\n",
       "      <td>NaN</td>\n",
       "      <td>0.000000</td>\n",
       "      <td>NaN</td>\n",
       "      <td>...</td>\n",
       "      <td>6.000000</td>\n",
       "      <td>0.0</td>\n",
       "      <td>0.000000</td>\n",
       "      <td>1.0</td>\n",
       "      <td>0.0</td>\n",
       "      <td>0.0</td>\n",
       "      <td>0.0</td>\n",
       "      <td>0.0</td>\n",
       "      <td>0.0</td>\n",
       "      <td>0.0</td>\n",
       "    </tr>\n",
       "    <tr>\n",
       "      <th>50%</th>\n",
       "      <td>313248.000000</td>\n",
       "      <td>NaN</td>\n",
       "      <td>1.000000</td>\n",
       "      <td>NaN</td>\n",
       "      <td>1.000000</td>\n",
       "      <td>NaN</td>\n",
       "      <td>0.000000</td>\n",
       "      <td>NaN</td>\n",
       "      <td>0.000000</td>\n",
       "      <td>NaN</td>\n",
       "      <td>...</td>\n",
       "      <td>12.000000</td>\n",
       "      <td>0.0</td>\n",
       "      <td>0.000000</td>\n",
       "      <td>1.0</td>\n",
       "      <td>0.0</td>\n",
       "      <td>0.0</td>\n",
       "      <td>0.0</td>\n",
       "      <td>0.0</td>\n",
       "      <td>0.0</td>\n",
       "      <td>0.0</td>\n",
       "    </tr>\n",
       "    <tr>\n",
       "      <th>75%</th>\n",
       "      <td>469872.250000</td>\n",
       "      <td>NaN</td>\n",
       "      <td>1.000000</td>\n",
       "      <td>NaN</td>\n",
       "      <td>1.000000</td>\n",
       "      <td>NaN</td>\n",
       "      <td>1.000000</td>\n",
       "      <td>NaN</td>\n",
       "      <td>1.000000</td>\n",
       "      <td>NaN</td>\n",
       "      <td>...</td>\n",
       "      <td>18.000000</td>\n",
       "      <td>0.0</td>\n",
       "      <td>0.000000</td>\n",
       "      <td>1.0</td>\n",
       "      <td>0.0</td>\n",
       "      <td>0.0</td>\n",
       "      <td>0.0</td>\n",
       "      <td>0.0</td>\n",
       "      <td>0.0</td>\n",
       "      <td>0.0</td>\n",
       "    </tr>\n",
       "    <tr>\n",
       "      <th>max</th>\n",
       "      <td>626499.000000</td>\n",
       "      <td>3.335468</td>\n",
       "      <td>1.000000</td>\n",
       "      <td>5.880157</td>\n",
       "      <td>1.000000</td>\n",
       "      <td>12.609288</td>\n",
       "      <td>1.000000</td>\n",
       "      <td>7.909021</td>\n",
       "      <td>1.000000</td>\n",
       "      <td>11.790736</td>\n",
       "      <td>...</td>\n",
       "      <td>23.000000</td>\n",
       "      <td>0.0</td>\n",
       "      <td>2.000000</td>\n",
       "      <td>1.0</td>\n",
       "      <td>0.0</td>\n",
       "      <td>0.0</td>\n",
       "      <td>0.0</td>\n",
       "      <td>0.0</td>\n",
       "      <td>0.0</td>\n",
       "      <td>0.0</td>\n",
       "    </tr>\n",
       "  </tbody>\n",
       "</table>\n",
       "<p>8 rows × 23 columns</p>\n",
       "</div>"
      ],
      "text/plain": [
       "          Unnamed: 0          PM10  PM10_null_pointers            CO  \\\n",
       "count   89500.000000  46989.000000        89500.000000  45322.000000   \n",
       "mean   313249.568916     -0.363755            0.525017      0.010291   \n",
       "std    180855.995775      0.742223            0.499377      0.595482   \n",
       "min         1.000000     -2.593269            0.000000     -0.465316   \n",
       "25%    156628.250000           NaN            0.000000           NaN   \n",
       "50%    313248.000000           NaN            1.000000           NaN   \n",
       "75%    469872.250000           NaN            1.000000           NaN   \n",
       "max    626499.000000      3.335468            1.000000      5.880157   \n",
       "\n",
       "       CO_null_pointers           NO2  NO2_null_pointers            O3  \\\n",
       "count      89500.000000  39935.000000       89500.000000  44082.000000   \n",
       "mean           0.506391      0.246926           0.446201     -0.081323   \n",
       "std            0.499962      0.757206           0.497100      0.968267   \n",
       "min            0.000000     -0.773684           0.000000     -1.071914   \n",
       "25%            0.000000           NaN           0.000000           NaN   \n",
       "50%            1.000000           NaN           0.000000           NaN   \n",
       "75%            1.000000           NaN           1.000000           NaN   \n",
       "max            1.000000     12.609288           1.000000      7.909021   \n",
       "\n",
       "       O3_null_pointers          PM25    ...             hour  days_interval  \\\n",
       "count      89500.000000  43228.000000    ...     89500.000000        89500.0   \n",
       "mean           0.492536     -0.055927    ...        11.502346            0.0   \n",
       "std            0.499947      0.907765    ...         6.921202            0.0   \n",
       "min            0.000000     -0.860290    ...         0.000000            0.0   \n",
       "25%            0.000000           NaN    ...         6.000000            0.0   \n",
       "50%            0.000000           NaN    ...        12.000000            0.0   \n",
       "75%            1.000000           NaN    ...        18.000000            0.0   \n",
       "max            1.000000     11.790736    ...        23.000000            0.0   \n",
       "\n",
       "       hour_interval   Centar  Gazi Baba   Karpos   Lisice  Miladinovci  \\\n",
       "count   89500.000000  89500.0    89500.0  89500.0  89500.0      89500.0   \n",
       "mean        0.221899      1.0        0.0      0.0      0.0          0.0   \n",
       "std         0.415607      0.0        0.0      0.0      0.0          0.0   \n",
       "min         0.000000      1.0        0.0      0.0      0.0          0.0   \n",
       "25%         0.000000      1.0        0.0      0.0      0.0          0.0   \n",
       "50%         0.000000      1.0        0.0      0.0      0.0          0.0   \n",
       "75%         0.000000      1.0        0.0      0.0      0.0          0.0   \n",
       "max         2.000000      1.0        0.0      0.0      0.0          0.0   \n",
       "\n",
       "       Mrsevci  Rektorat  \n",
       "count  89500.0   89500.0  \n",
       "mean       0.0       0.0  \n",
       "std        0.0       0.0  \n",
       "min        0.0       0.0  \n",
       "25%        0.0       0.0  \n",
       "50%        0.0       0.0  \n",
       "75%        0.0       0.0  \n",
       "max        0.0       0.0  \n",
       "\n",
       "[8 rows x 23 columns]"
      ]
     },
     "execution_count": 54,
     "metadata": {},
     "output_type": "execute_result"
    }
   ],
   "source": [
    "Centar_loc_data.describe()"
   ]
  },
  {
   "cell_type": "code",
   "execution_count": 55,
   "metadata": {},
   "outputs": [
    {
     "data": {
      "text/plain": [
       "Unnamed: 0                0\n",
       "date                      0\n",
       "PM10                  42511\n",
       "NAME                      0\n",
       "PM10_null_pointers        0\n",
       "CO                    44178\n",
       "CO_null_pointers          0\n",
       "NO2                   49565\n",
       "NO2_null_pointers         0\n",
       "O3                    45418\n",
       "O3_null_pointers          0\n",
       "PM25                  46272\n",
       "PM25_null_pointers        0\n",
       "time                      0\n",
       "month                     0\n",
       "day                       0\n",
       "hour                      0\n",
       "daysInterval              0\n",
       "days_interval             0\n",
       "hour_interval             0\n",
       "Centar                    0\n",
       "Gazi Baba                 0\n",
       "Karpos                    0\n",
       "Lisice                    0\n",
       "Miladinovci               0\n",
       "Mrsevci                   0\n",
       "Rektorat                  0\n",
       "dtype: int64"
      ]
     },
     "execution_count": 55,
     "metadata": {},
     "output_type": "execute_result"
    }
   ],
   "source": [
    "Centar_loc_data.isnull().sum()"
   ]
  },
  {
   "cell_type": "code",
   "execution_count": 56,
   "metadata": {},
   "outputs": [
    {
     "data": {
      "text/plain": [
       "2188556"
      ]
     },
     "execution_count": 56,
     "metadata": {},
     "output_type": "execute_result"
    }
   ],
   "source": [
    "Centar_loc_data.count().sum()"
   ]
  },
  {
   "cell_type": "code",
   "execution_count": 57,
   "metadata": {
    "collapsed": true
   },
   "outputs": [],
   "source": [
    "Centar_loc_data.fillna(method='ffill',inplace=True); # forward fill\n",
    "Centar_loc_data.fillna(method='bfill',inplace=True); # backward fill\n",
    "Centar_loc_data.fillna(Lisice_loc_data.median(),inplace=True);"
   ]
  },
  {
   "cell_type": "code",
   "execution_count": 58,
   "metadata": {},
   "outputs": [
    {
     "data": {
      "text/html": [
       "<div>\n",
       "<table border=\"1\" class=\"dataframe\">\n",
       "  <thead>\n",
       "    <tr style=\"text-align: right;\">\n",
       "      <th></th>\n",
       "      <th>Unnamed: 0</th>\n",
       "      <th>PM10</th>\n",
       "      <th>PM10_null_pointers</th>\n",
       "      <th>CO</th>\n",
       "      <th>CO_null_pointers</th>\n",
       "      <th>NO2</th>\n",
       "      <th>NO2_null_pointers</th>\n",
       "      <th>O3</th>\n",
       "      <th>O3_null_pointers</th>\n",
       "      <th>PM25</th>\n",
       "      <th>...</th>\n",
       "      <th>hour</th>\n",
       "      <th>days_interval</th>\n",
       "      <th>hour_interval</th>\n",
       "      <th>Centar</th>\n",
       "      <th>Gazi Baba</th>\n",
       "      <th>Karpos</th>\n",
       "      <th>Lisice</th>\n",
       "      <th>Miladinovci</th>\n",
       "      <th>Mrsevci</th>\n",
       "      <th>Rektorat</th>\n",
       "    </tr>\n",
       "  </thead>\n",
       "  <tbody>\n",
       "    <tr>\n",
       "      <th>count</th>\n",
       "      <td>89500.000000</td>\n",
       "      <td>89500.000000</td>\n",
       "      <td>89500.000000</td>\n",
       "      <td>89500.000000</td>\n",
       "      <td>89500.000000</td>\n",
       "      <td>89500.000000</td>\n",
       "      <td>89500.000000</td>\n",
       "      <td>89500.000000</td>\n",
       "      <td>89500.000000</td>\n",
       "      <td>89500.000000</td>\n",
       "      <td>...</td>\n",
       "      <td>89500.000000</td>\n",
       "      <td>89500.0</td>\n",
       "      <td>89500.000000</td>\n",
       "      <td>89500.0</td>\n",
       "      <td>89500.0</td>\n",
       "      <td>89500.0</td>\n",
       "      <td>89500.0</td>\n",
       "      <td>89500.0</td>\n",
       "      <td>89500.0</td>\n",
       "      <td>89500.0</td>\n",
       "    </tr>\n",
       "    <tr>\n",
       "      <th>mean</th>\n",
       "      <td>313249.568916</td>\n",
       "      <td>-0.007193</td>\n",
       "      <td>0.525017</td>\n",
       "      <td>0.593915</td>\n",
       "      <td>0.506391</td>\n",
       "      <td>0.150198</td>\n",
       "      <td>0.446201</td>\n",
       "      <td>0.357485</td>\n",
       "      <td>0.492536</td>\n",
       "      <td>0.010768</td>\n",
       "      <td>...</td>\n",
       "      <td>11.502346</td>\n",
       "      <td>0.0</td>\n",
       "      <td>0.221899</td>\n",
       "      <td>1.0</td>\n",
       "      <td>0.0</td>\n",
       "      <td>0.0</td>\n",
       "      <td>0.0</td>\n",
       "      <td>0.0</td>\n",
       "      <td>0.0</td>\n",
       "      <td>0.0</td>\n",
       "    </tr>\n",
       "    <tr>\n",
       "      <th>std</th>\n",
       "      <td>180855.995775</td>\n",
       "      <td>0.813016</td>\n",
       "      <td>0.499377</td>\n",
       "      <td>1.127780</td>\n",
       "      <td>0.499962</td>\n",
       "      <td>1.054934</td>\n",
       "      <td>0.497100</td>\n",
       "      <td>0.972343</td>\n",
       "      <td>0.499947</td>\n",
       "      <td>1.065679</td>\n",
       "      <td>...</td>\n",
       "      <td>6.921202</td>\n",
       "      <td>0.0</td>\n",
       "      <td>0.415607</td>\n",
       "      <td>0.0</td>\n",
       "      <td>0.0</td>\n",
       "      <td>0.0</td>\n",
       "      <td>0.0</td>\n",
       "      <td>0.0</td>\n",
       "      <td>0.0</td>\n",
       "      <td>0.0</td>\n",
       "    </tr>\n",
       "    <tr>\n",
       "      <th>min</th>\n",
       "      <td>1.000000</td>\n",
       "      <td>-2.593269</td>\n",
       "      <td>0.000000</td>\n",
       "      <td>-0.465316</td>\n",
       "      <td>0.000000</td>\n",
       "      <td>-0.773684</td>\n",
       "      <td>0.000000</td>\n",
       "      <td>-1.071914</td>\n",
       "      <td>0.000000</td>\n",
       "      <td>-0.860290</td>\n",
       "      <td>...</td>\n",
       "      <td>0.000000</td>\n",
       "      <td>0.0</td>\n",
       "      <td>0.000000</td>\n",
       "      <td>1.0</td>\n",
       "      <td>0.0</td>\n",
       "      <td>0.0</td>\n",
       "      <td>0.0</td>\n",
       "      <td>0.0</td>\n",
       "      <td>0.0</td>\n",
       "      <td>0.0</td>\n",
       "    </tr>\n",
       "    <tr>\n",
       "      <th>25%</th>\n",
       "      <td>156628.250000</td>\n",
       "      <td>-0.647616</td>\n",
       "      <td>0.000000</td>\n",
       "      <td>-0.297568</td>\n",
       "      <td>0.000000</td>\n",
       "      <td>-0.241680</td>\n",
       "      <td>0.000000</td>\n",
       "      <td>-0.736361</td>\n",
       "      <td>0.000000</td>\n",
       "      <td>-0.381003</td>\n",
       "      <td>...</td>\n",
       "      <td>6.000000</td>\n",
       "      <td>0.0</td>\n",
       "      <td>0.000000</td>\n",
       "      <td>1.0</td>\n",
       "      <td>0.0</td>\n",
       "      <td>0.0</td>\n",
       "      <td>0.0</td>\n",
       "      <td>0.0</td>\n",
       "      <td>0.0</td>\n",
       "      <td>0.0</td>\n",
       "    </tr>\n",
       "    <tr>\n",
       "      <th>50%</th>\n",
       "      <td>313248.000000</td>\n",
       "      <td>0.014582</td>\n",
       "      <td>1.000000</td>\n",
       "      <td>-0.025702</td>\n",
       "      <td>1.000000</td>\n",
       "      <td>-0.241680</td>\n",
       "      <td>0.000000</td>\n",
       "      <td>0.968362</td>\n",
       "      <td>0.000000</td>\n",
       "      <td>-0.306294</td>\n",
       "      <td>...</td>\n",
       "      <td>12.000000</td>\n",
       "      <td>0.0</td>\n",
       "      <td>0.000000</td>\n",
       "      <td>1.0</td>\n",
       "      <td>0.0</td>\n",
       "      <td>0.0</td>\n",
       "      <td>0.0</td>\n",
       "      <td>0.0</td>\n",
       "      <td>0.0</td>\n",
       "      <td>0.0</td>\n",
       "    </tr>\n",
       "    <tr>\n",
       "      <th>75%</th>\n",
       "      <td>469872.250000</td>\n",
       "      <td>0.461993</td>\n",
       "      <td>1.000000</td>\n",
       "      <td>2.120305</td>\n",
       "      <td>1.000000</td>\n",
       "      <td>0.267299</td>\n",
       "      <td>1.000000</td>\n",
       "      <td>1.118323</td>\n",
       "      <td>1.000000</td>\n",
       "      <td>-0.189586</td>\n",
       "      <td>...</td>\n",
       "      <td>18.000000</td>\n",
       "      <td>0.0</td>\n",
       "      <td>0.000000</td>\n",
       "      <td>1.0</td>\n",
       "      <td>0.0</td>\n",
       "      <td>0.0</td>\n",
       "      <td>0.0</td>\n",
       "      <td>0.0</td>\n",
       "      <td>0.0</td>\n",
       "      <td>0.0</td>\n",
       "    </tr>\n",
       "    <tr>\n",
       "      <th>max</th>\n",
       "      <td>626499.000000</td>\n",
       "      <td>3.335468</td>\n",
       "      <td>1.000000</td>\n",
       "      <td>5.880157</td>\n",
       "      <td>1.000000</td>\n",
       "      <td>12.609288</td>\n",
       "      <td>1.000000</td>\n",
       "      <td>7.909021</td>\n",
       "      <td>1.000000</td>\n",
       "      <td>11.790736</td>\n",
       "      <td>...</td>\n",
       "      <td>23.000000</td>\n",
       "      <td>0.0</td>\n",
       "      <td>2.000000</td>\n",
       "      <td>1.0</td>\n",
       "      <td>0.0</td>\n",
       "      <td>0.0</td>\n",
       "      <td>0.0</td>\n",
       "      <td>0.0</td>\n",
       "      <td>0.0</td>\n",
       "      <td>0.0</td>\n",
       "    </tr>\n",
       "  </tbody>\n",
       "</table>\n",
       "<p>8 rows × 23 columns</p>\n",
       "</div>"
      ],
      "text/plain": [
       "          Unnamed: 0          PM10  PM10_null_pointers            CO  \\\n",
       "count   89500.000000  89500.000000        89500.000000  89500.000000   \n",
       "mean   313249.568916     -0.007193            0.525017      0.593915   \n",
       "std    180855.995775      0.813016            0.499377      1.127780   \n",
       "min         1.000000     -2.593269            0.000000     -0.465316   \n",
       "25%    156628.250000     -0.647616            0.000000     -0.297568   \n",
       "50%    313248.000000      0.014582            1.000000     -0.025702   \n",
       "75%    469872.250000      0.461993            1.000000      2.120305   \n",
       "max    626499.000000      3.335468            1.000000      5.880157   \n",
       "\n",
       "       CO_null_pointers           NO2  NO2_null_pointers            O3  \\\n",
       "count      89500.000000  89500.000000       89500.000000  89500.000000   \n",
       "mean           0.506391      0.150198           0.446201      0.357485   \n",
       "std            0.499962      1.054934           0.497100      0.972343   \n",
       "min            0.000000     -0.773684           0.000000     -1.071914   \n",
       "25%            0.000000     -0.241680           0.000000     -0.736361   \n",
       "50%            1.000000     -0.241680           0.000000      0.968362   \n",
       "75%            1.000000      0.267299           1.000000      1.118323   \n",
       "max            1.000000     12.609288           1.000000      7.909021   \n",
       "\n",
       "       O3_null_pointers          PM25    ...             hour  days_interval  \\\n",
       "count      89500.000000  89500.000000    ...     89500.000000        89500.0   \n",
       "mean           0.492536      0.010768    ...        11.502346            0.0   \n",
       "std            0.499947      1.065679    ...         6.921202            0.0   \n",
       "min            0.000000     -0.860290    ...         0.000000            0.0   \n",
       "25%            0.000000     -0.381003    ...         6.000000            0.0   \n",
       "50%            0.000000     -0.306294    ...        12.000000            0.0   \n",
       "75%            1.000000     -0.189586    ...        18.000000            0.0   \n",
       "max            1.000000     11.790736    ...        23.000000            0.0   \n",
       "\n",
       "       hour_interval   Centar  Gazi Baba   Karpos   Lisice  Miladinovci  \\\n",
       "count   89500.000000  89500.0    89500.0  89500.0  89500.0      89500.0   \n",
       "mean        0.221899      1.0        0.0      0.0      0.0          0.0   \n",
       "std         0.415607      0.0        0.0      0.0      0.0          0.0   \n",
       "min         0.000000      1.0        0.0      0.0      0.0          0.0   \n",
       "25%         0.000000      1.0        0.0      0.0      0.0          0.0   \n",
       "50%         0.000000      1.0        0.0      0.0      0.0          0.0   \n",
       "75%         0.000000      1.0        0.0      0.0      0.0          0.0   \n",
       "max         2.000000      1.0        0.0      0.0      0.0          0.0   \n",
       "\n",
       "       Mrsevci  Rektorat  \n",
       "count  89500.0   89500.0  \n",
       "mean       0.0       0.0  \n",
       "std        0.0       0.0  \n",
       "min        0.0       0.0  \n",
       "25%        0.0       0.0  \n",
       "50%        0.0       0.0  \n",
       "75%        0.0       0.0  \n",
       "max        0.0       0.0  \n",
       "\n",
       "[8 rows x 23 columns]"
      ]
     },
     "execution_count": 58,
     "metadata": {},
     "output_type": "execute_result"
    }
   ],
   "source": [
    "Centar_loc_data.describe()"
   ]
  },
  {
   "cell_type": "code",
   "execution_count": null,
   "metadata": {
    "collapsed": true
   },
   "outputs": [],
   "source": []
  },
  {
   "cell_type": "code",
   "execution_count": 59,
   "metadata": {},
   "outputs": [
    {
     "data": {
      "text/plain": [
       "Unnamed: 0            0\n",
       "date                  0\n",
       "PM10                  0\n",
       "NAME                  0\n",
       "PM10_null_pointers    0\n",
       "CO                    0\n",
       "CO_null_pointers      0\n",
       "NO2                   0\n",
       "NO2_null_pointers     0\n",
       "O3                    0\n",
       "O3_null_pointers      0\n",
       "PM25                  0\n",
       "PM25_null_pointers    0\n",
       "time                  0\n",
       "month                 0\n",
       "day                   0\n",
       "hour                  0\n",
       "daysInterval          0\n",
       "days_interval         0\n",
       "hour_interval         0\n",
       "Centar                0\n",
       "Gazi Baba             0\n",
       "Karpos                0\n",
       "Lisice                0\n",
       "Miladinovci           0\n",
       "Mrsevci               0\n",
       "Rektorat              0\n",
       "dtype: int64"
      ]
     },
     "execution_count": 59,
     "metadata": {},
     "output_type": "execute_result"
    }
   ],
   "source": [
    "Centar_loc_data.isnull().sum()"
   ]
  },
  {
   "cell_type": "markdown",
   "metadata": {},
   "source": [
    "# Gaziloc "
   ]
  },
  {
   "cell_type": "code",
   "execution_count": 60,
   "metadata": {
    "collapsed": true
   },
   "outputs": [],
   "source": [
    "Gazi_loc_data = All_data[(All_data['Gazi Baba']==1) ].copy(deep=True) # for Lisce location"
   ]
  },
  {
   "cell_type": "code",
   "execution_count": 61,
   "metadata": {},
   "outputs": [
    {
     "data": {
      "text/plain": [
       "Unnamed: 0                0\n",
       "date                      0\n",
       "PM10                  49382\n",
       "NAME                      0\n",
       "PM10_null_pointers        0\n",
       "CO                    27267\n",
       "CO_null_pointers          0\n",
       "NO2                   65236\n",
       "NO2_null_pointers         0\n",
       "O3                    89500\n",
       "O3_null_pointers          0\n",
       "PM25                  89500\n",
       "PM25_null_pointers        0\n",
       "time                      0\n",
       "month                     0\n",
       "day                       0\n",
       "hour                      0\n",
       "daysInterval              0\n",
       "days_interval             0\n",
       "hour_interval             0\n",
       "Centar                    0\n",
       "Gazi Baba                 0\n",
       "Karpos                    0\n",
       "Lisice                    0\n",
       "Miladinovci               0\n",
       "Mrsevci                   0\n",
       "Rektorat                  0\n",
       "dtype: int64"
      ]
     },
     "execution_count": 61,
     "metadata": {},
     "output_type": "execute_result"
    }
   ],
   "source": [
    "Gazi_loc_data.isnull().sum()"
   ]
  },
  {
   "cell_type": "code",
   "execution_count": 62,
   "metadata": {},
   "outputs": [
    {
     "name": "stderr",
     "output_type": "stream",
     "text": [
      "//anaconda/envs/seychelles/lib/python3.5/site-packages/numpy/lib/function_base.py:3834: RuntimeWarning: Invalid value encountered in percentile\n",
      "  RuntimeWarning)\n"
     ]
    },
    {
     "data": {
      "text/html": [
       "<div>\n",
       "<table border=\"1\" class=\"dataframe\">\n",
       "  <thead>\n",
       "    <tr style=\"text-align: right;\">\n",
       "      <th></th>\n",
       "      <th>Unnamed: 0</th>\n",
       "      <th>PM10</th>\n",
       "      <th>PM10_null_pointers</th>\n",
       "      <th>CO</th>\n",
       "      <th>CO_null_pointers</th>\n",
       "      <th>NO2</th>\n",
       "      <th>NO2_null_pointers</th>\n",
       "      <th>O3</th>\n",
       "      <th>O3_null_pointers</th>\n",
       "      <th>PM25</th>\n",
       "      <th>...</th>\n",
       "      <th>hour</th>\n",
       "      <th>days_interval</th>\n",
       "      <th>hour_interval</th>\n",
       "      <th>Centar</th>\n",
       "      <th>Gazi Baba</th>\n",
       "      <th>Karpos</th>\n",
       "      <th>Lisice</th>\n",
       "      <th>Miladinovci</th>\n",
       "      <th>Mrsevci</th>\n",
       "      <th>Rektorat</th>\n",
       "    </tr>\n",
       "  </thead>\n",
       "  <tbody>\n",
       "    <tr>\n",
       "      <th>count</th>\n",
       "      <td>89500.00000</td>\n",
       "      <td>40118.000000</td>\n",
       "      <td>89500.000000</td>\n",
       "      <td>62233.000000</td>\n",
       "      <td>89500.000000</td>\n",
       "      <td>24264.000000</td>\n",
       "      <td>89500.000000</td>\n",
       "      <td>0.0</td>\n",
       "      <td>89500.0</td>\n",
       "      <td>0.0</td>\n",
       "      <td>...</td>\n",
       "      <td>89500.000000</td>\n",
       "      <td>89500.0</td>\n",
       "      <td>89500.000000</td>\n",
       "      <td>89500.0</td>\n",
       "      <td>89500.0</td>\n",
       "      <td>89500.0</td>\n",
       "      <td>89500.0</td>\n",
       "      <td>89500.0</td>\n",
       "      <td>89500.0</td>\n",
       "      <td>89500.0</td>\n",
       "    </tr>\n",
       "    <tr>\n",
       "      <th>mean</th>\n",
       "      <td>313249.47000</td>\n",
       "      <td>-0.385658</td>\n",
       "      <td>0.448246</td>\n",
       "      <td>-0.077796</td>\n",
       "      <td>0.695341</td>\n",
       "      <td>-0.047984</td>\n",
       "      <td>0.271106</td>\n",
       "      <td>NaN</td>\n",
       "      <td>0.0</td>\n",
       "      <td>NaN</td>\n",
       "      <td>...</td>\n",
       "      <td>11.502346</td>\n",
       "      <td>0.0</td>\n",
       "      <td>0.126011</td>\n",
       "      <td>0.0</td>\n",
       "      <td>1.0</td>\n",
       "      <td>0.0</td>\n",
       "      <td>0.0</td>\n",
       "      <td>0.0</td>\n",
       "      <td>0.0</td>\n",
       "      <td>0.0</td>\n",
       "    </tr>\n",
       "    <tr>\n",
       "      <th>std</th>\n",
       "      <td>180855.99081</td>\n",
       "      <td>0.948494</td>\n",
       "      <td>0.497317</td>\n",
       "      <td>0.457137</td>\n",
       "      <td>0.460266</td>\n",
       "      <td>0.675251</td>\n",
       "      <td>0.444533</td>\n",
       "      <td>NaN</td>\n",
       "      <td>0.0</td>\n",
       "      <td>NaN</td>\n",
       "      <td>...</td>\n",
       "      <td>6.921202</td>\n",
       "      <td>0.0</td>\n",
       "      <td>0.331864</td>\n",
       "      <td>0.0</td>\n",
       "      <td>0.0</td>\n",
       "      <td>0.0</td>\n",
       "      <td>0.0</td>\n",
       "      <td>0.0</td>\n",
       "      <td>0.0</td>\n",
       "      <td>0.0</td>\n",
       "    </tr>\n",
       "    <tr>\n",
       "      <th>min</th>\n",
       "      <td>5.00000</td>\n",
       "      <td>-2.580232</td>\n",
       "      <td>0.000000</td>\n",
       "      <td>-0.465316</td>\n",
       "      <td>0.000000</td>\n",
       "      <td>-0.777982</td>\n",
       "      <td>0.000000</td>\n",
       "      <td>NaN</td>\n",
       "      <td>0.0</td>\n",
       "      <td>NaN</td>\n",
       "      <td>...</td>\n",
       "      <td>0.000000</td>\n",
       "      <td>0.0</td>\n",
       "      <td>0.000000</td>\n",
       "      <td>0.0</td>\n",
       "      <td>1.0</td>\n",
       "      <td>0.0</td>\n",
       "      <td>0.0</td>\n",
       "      <td>0.0</td>\n",
       "      <td>0.0</td>\n",
       "      <td>0.0</td>\n",
       "    </tr>\n",
       "    <tr>\n",
       "      <th>25%</th>\n",
       "      <td>156625.75000</td>\n",
       "      <td>NaN</td>\n",
       "      <td>0.000000</td>\n",
       "      <td>NaN</td>\n",
       "      <td>0.000000</td>\n",
       "      <td>NaN</td>\n",
       "      <td>0.000000</td>\n",
       "      <td>NaN</td>\n",
       "      <td>0.0</td>\n",
       "      <td>NaN</td>\n",
       "      <td>...</td>\n",
       "      <td>6.000000</td>\n",
       "      <td>0.0</td>\n",
       "      <td>0.000000</td>\n",
       "      <td>0.0</td>\n",
       "      <td>1.0</td>\n",
       "      <td>0.0</td>\n",
       "      <td>0.0</td>\n",
       "      <td>0.0</td>\n",
       "      <td>0.0</td>\n",
       "      <td>0.0</td>\n",
       "    </tr>\n",
       "    <tr>\n",
       "      <th>50%</th>\n",
       "      <td>313248.00000</td>\n",
       "      <td>NaN</td>\n",
       "      <td>0.000000</td>\n",
       "      <td>NaN</td>\n",
       "      <td>1.000000</td>\n",
       "      <td>NaN</td>\n",
       "      <td>0.000000</td>\n",
       "      <td>NaN</td>\n",
       "      <td>0.0</td>\n",
       "      <td>NaN</td>\n",
       "      <td>...</td>\n",
       "      <td>12.000000</td>\n",
       "      <td>0.0</td>\n",
       "      <td>0.000000</td>\n",
       "      <td>0.0</td>\n",
       "      <td>1.0</td>\n",
       "      <td>0.0</td>\n",
       "      <td>0.0</td>\n",
       "      <td>0.0</td>\n",
       "      <td>0.0</td>\n",
       "      <td>0.0</td>\n",
       "    </tr>\n",
       "    <tr>\n",
       "      <th>75%</th>\n",
       "      <td>469874.75000</td>\n",
       "      <td>NaN</td>\n",
       "      <td>1.000000</td>\n",
       "      <td>NaN</td>\n",
       "      <td>1.000000</td>\n",
       "      <td>NaN</td>\n",
       "      <td>1.000000</td>\n",
       "      <td>NaN</td>\n",
       "      <td>0.0</td>\n",
       "      <td>NaN</td>\n",
       "      <td>...</td>\n",
       "      <td>18.000000</td>\n",
       "      <td>0.0</td>\n",
       "      <td>0.000000</td>\n",
       "      <td>0.0</td>\n",
       "      <td>1.0</td>\n",
       "      <td>0.0</td>\n",
       "      <td>0.0</td>\n",
       "      <td>0.0</td>\n",
       "      <td>0.0</td>\n",
       "      <td>0.0</td>\n",
       "    </tr>\n",
       "    <tr>\n",
       "      <th>max</th>\n",
       "      <td>626495.00000</td>\n",
       "      <td>3.181856</td>\n",
       "      <td>1.000000</td>\n",
       "      <td>7.424588</td>\n",
       "      <td>1.000000</td>\n",
       "      <td>10.678972</td>\n",
       "      <td>1.000000</td>\n",
       "      <td>NaN</td>\n",
       "      <td>0.0</td>\n",
       "      <td>NaN</td>\n",
       "      <td>...</td>\n",
       "      <td>23.000000</td>\n",
       "      <td>0.0</td>\n",
       "      <td>1.000000</td>\n",
       "      <td>0.0</td>\n",
       "      <td>1.0</td>\n",
       "      <td>0.0</td>\n",
       "      <td>0.0</td>\n",
       "      <td>0.0</td>\n",
       "      <td>0.0</td>\n",
       "      <td>0.0</td>\n",
       "    </tr>\n",
       "  </tbody>\n",
       "</table>\n",
       "<p>8 rows × 23 columns</p>\n",
       "</div>"
      ],
      "text/plain": [
       "         Unnamed: 0          PM10  PM10_null_pointers            CO  \\\n",
       "count   89500.00000  40118.000000        89500.000000  62233.000000   \n",
       "mean   313249.47000     -0.385658            0.448246     -0.077796   \n",
       "std    180855.99081      0.948494            0.497317      0.457137   \n",
       "min         5.00000     -2.580232            0.000000     -0.465316   \n",
       "25%    156625.75000           NaN            0.000000           NaN   \n",
       "50%    313248.00000           NaN            0.000000           NaN   \n",
       "75%    469874.75000           NaN            1.000000           NaN   \n",
       "max    626495.00000      3.181856            1.000000      7.424588   \n",
       "\n",
       "       CO_null_pointers           NO2  NO2_null_pointers   O3  \\\n",
       "count      89500.000000  24264.000000       89500.000000  0.0   \n",
       "mean           0.695341     -0.047984           0.271106  NaN   \n",
       "std            0.460266      0.675251           0.444533  NaN   \n",
       "min            0.000000     -0.777982           0.000000  NaN   \n",
       "25%            0.000000           NaN           0.000000  NaN   \n",
       "50%            1.000000           NaN           0.000000  NaN   \n",
       "75%            1.000000           NaN           1.000000  NaN   \n",
       "max            1.000000     10.678972           1.000000  NaN   \n",
       "\n",
       "       O3_null_pointers  PM25    ...             hour  days_interval  \\\n",
       "count           89500.0   0.0    ...     89500.000000        89500.0   \n",
       "mean                0.0   NaN    ...        11.502346            0.0   \n",
       "std                 0.0   NaN    ...         6.921202            0.0   \n",
       "min                 0.0   NaN    ...         0.000000            0.0   \n",
       "25%                 0.0   NaN    ...         6.000000            0.0   \n",
       "50%                 0.0   NaN    ...        12.000000            0.0   \n",
       "75%                 0.0   NaN    ...        18.000000            0.0   \n",
       "max                 0.0   NaN    ...        23.000000            0.0   \n",
       "\n",
       "       hour_interval   Centar  Gazi Baba   Karpos   Lisice  Miladinovci  \\\n",
       "count   89500.000000  89500.0    89500.0  89500.0  89500.0      89500.0   \n",
       "mean        0.126011      0.0        1.0      0.0      0.0          0.0   \n",
       "std         0.331864      0.0        0.0      0.0      0.0          0.0   \n",
       "min         0.000000      0.0        1.0      0.0      0.0          0.0   \n",
       "25%         0.000000      0.0        1.0      0.0      0.0          0.0   \n",
       "50%         0.000000      0.0        1.0      0.0      0.0          0.0   \n",
       "75%         0.000000      0.0        1.0      0.0      0.0          0.0   \n",
       "max         1.000000      0.0        1.0      0.0      0.0          0.0   \n",
       "\n",
       "       Mrsevci  Rektorat  \n",
       "count  89500.0   89500.0  \n",
       "mean       0.0       0.0  \n",
       "std        0.0       0.0  \n",
       "min        0.0       0.0  \n",
       "25%        0.0       0.0  \n",
       "50%        0.0       0.0  \n",
       "75%        0.0       0.0  \n",
       "max        0.0       0.0  \n",
       "\n",
       "[8 rows x 23 columns]"
      ]
     },
     "execution_count": 62,
     "metadata": {},
     "output_type": "execute_result"
    }
   ],
   "source": [
    "Gazi_loc_data.describe()"
   ]
  },
  {
   "cell_type": "code",
   "execution_count": 63,
   "metadata": {
    "collapsed": true
   },
   "outputs": [],
   "source": [
    "Gazi_loc_data.drop(['PM25','PM25_null_pointers','NO2','NO2_null_pointers','O3','O3_null_pointers'],axis=1,inplace=True)"
   ]
  },
  {
   "cell_type": "code",
   "execution_count": 64,
   "metadata": {},
   "outputs": [
    {
     "name": "stderr",
     "output_type": "stream",
     "text": [
      "//anaconda/envs/seychelles/lib/python3.5/site-packages/numpy/lib/function_base.py:3834: RuntimeWarning: Invalid value encountered in percentile\n",
      "  RuntimeWarning)\n"
     ]
    },
    {
     "data": {
      "text/html": [
       "<div>\n",
       "<table border=\"1\" class=\"dataframe\">\n",
       "  <thead>\n",
       "    <tr style=\"text-align: right;\">\n",
       "      <th></th>\n",
       "      <th>Unnamed: 0</th>\n",
       "      <th>PM10</th>\n",
       "      <th>PM10_null_pointers</th>\n",
       "      <th>CO</th>\n",
       "      <th>CO_null_pointers</th>\n",
       "      <th>month</th>\n",
       "      <th>day</th>\n",
       "      <th>hour</th>\n",
       "      <th>days_interval</th>\n",
       "      <th>hour_interval</th>\n",
       "      <th>Centar</th>\n",
       "      <th>Gazi Baba</th>\n",
       "      <th>Karpos</th>\n",
       "      <th>Lisice</th>\n",
       "      <th>Miladinovci</th>\n",
       "      <th>Mrsevci</th>\n",
       "      <th>Rektorat</th>\n",
       "    </tr>\n",
       "  </thead>\n",
       "  <tbody>\n",
       "    <tr>\n",
       "      <th>count</th>\n",
       "      <td>89500.00000</td>\n",
       "      <td>40118.000000</td>\n",
       "      <td>89500.000000</td>\n",
       "      <td>62233.000000</td>\n",
       "      <td>89500.000000</td>\n",
       "      <td>89500.000000</td>\n",
       "      <td>89500.000000</td>\n",
       "      <td>89500.000000</td>\n",
       "      <td>89500.0</td>\n",
       "      <td>89500.000000</td>\n",
       "      <td>89500.0</td>\n",
       "      <td>89500.0</td>\n",
       "      <td>89500.0</td>\n",
       "      <td>89500.0</td>\n",
       "      <td>89500.0</td>\n",
       "      <td>89500.0</td>\n",
       "      <td>89500.0</td>\n",
       "    </tr>\n",
       "    <tr>\n",
       "      <th>mean</th>\n",
       "      <td>313249.47000</td>\n",
       "      <td>-0.385658</td>\n",
       "      <td>0.448246</td>\n",
       "      <td>-0.077796</td>\n",
       "      <td>0.695341</td>\n",
       "      <td>6.408492</td>\n",
       "      <td>15.637564</td>\n",
       "      <td>11.502346</td>\n",
       "      <td>0.0</td>\n",
       "      <td>0.126011</td>\n",
       "      <td>0.0</td>\n",
       "      <td>1.0</td>\n",
       "      <td>0.0</td>\n",
       "      <td>0.0</td>\n",
       "      <td>0.0</td>\n",
       "      <td>0.0</td>\n",
       "      <td>0.0</td>\n",
       "    </tr>\n",
       "    <tr>\n",
       "      <th>std</th>\n",
       "      <td>180855.99081</td>\n",
       "      <td>0.948494</td>\n",
       "      <td>0.497317</td>\n",
       "      <td>0.457137</td>\n",
       "      <td>0.460266</td>\n",
       "      <td>3.502213</td>\n",
       "      <td>8.864868</td>\n",
       "      <td>6.921202</td>\n",
       "      <td>0.0</td>\n",
       "      <td>0.331864</td>\n",
       "      <td>0.0</td>\n",
       "      <td>0.0</td>\n",
       "      <td>0.0</td>\n",
       "      <td>0.0</td>\n",
       "      <td>0.0</td>\n",
       "      <td>0.0</td>\n",
       "      <td>0.0</td>\n",
       "    </tr>\n",
       "    <tr>\n",
       "      <th>min</th>\n",
       "      <td>5.00000</td>\n",
       "      <td>-2.580232</td>\n",
       "      <td>0.000000</td>\n",
       "      <td>-0.465316</td>\n",
       "      <td>0.000000</td>\n",
       "      <td>1.000000</td>\n",
       "      <td>1.000000</td>\n",
       "      <td>0.000000</td>\n",
       "      <td>0.0</td>\n",
       "      <td>0.000000</td>\n",
       "      <td>0.0</td>\n",
       "      <td>1.0</td>\n",
       "      <td>0.0</td>\n",
       "      <td>0.0</td>\n",
       "      <td>0.0</td>\n",
       "      <td>0.0</td>\n",
       "      <td>0.0</td>\n",
       "    </tr>\n",
       "    <tr>\n",
       "      <th>25%</th>\n",
       "      <td>156625.75000</td>\n",
       "      <td>NaN</td>\n",
       "      <td>0.000000</td>\n",
       "      <td>NaN</td>\n",
       "      <td>0.000000</td>\n",
       "      <td>3.000000</td>\n",
       "      <td>8.000000</td>\n",
       "      <td>6.000000</td>\n",
       "      <td>0.0</td>\n",
       "      <td>0.000000</td>\n",
       "      <td>0.0</td>\n",
       "      <td>1.0</td>\n",
       "      <td>0.0</td>\n",
       "      <td>0.0</td>\n",
       "      <td>0.0</td>\n",
       "      <td>0.0</td>\n",
       "      <td>0.0</td>\n",
       "    </tr>\n",
       "    <tr>\n",
       "      <th>50%</th>\n",
       "      <td>313248.00000</td>\n",
       "      <td>NaN</td>\n",
       "      <td>0.000000</td>\n",
       "      <td>NaN</td>\n",
       "      <td>1.000000</td>\n",
       "      <td>6.000000</td>\n",
       "      <td>16.000000</td>\n",
       "      <td>12.000000</td>\n",
       "      <td>0.0</td>\n",
       "      <td>0.000000</td>\n",
       "      <td>0.0</td>\n",
       "      <td>1.0</td>\n",
       "      <td>0.0</td>\n",
       "      <td>0.0</td>\n",
       "      <td>0.0</td>\n",
       "      <td>0.0</td>\n",
       "      <td>0.0</td>\n",
       "    </tr>\n",
       "    <tr>\n",
       "      <th>75%</th>\n",
       "      <td>469874.75000</td>\n",
       "      <td>NaN</td>\n",
       "      <td>1.000000</td>\n",
       "      <td>NaN</td>\n",
       "      <td>1.000000</td>\n",
       "      <td>9.000000</td>\n",
       "      <td>23.000000</td>\n",
       "      <td>18.000000</td>\n",
       "      <td>0.0</td>\n",
       "      <td>0.000000</td>\n",
       "      <td>0.0</td>\n",
       "      <td>1.0</td>\n",
       "      <td>0.0</td>\n",
       "      <td>0.0</td>\n",
       "      <td>0.0</td>\n",
       "      <td>0.0</td>\n",
       "      <td>0.0</td>\n",
       "    </tr>\n",
       "    <tr>\n",
       "      <th>max</th>\n",
       "      <td>626495.00000</td>\n",
       "      <td>3.181856</td>\n",
       "      <td>1.000000</td>\n",
       "      <td>7.424588</td>\n",
       "      <td>1.000000</td>\n",
       "      <td>12.000000</td>\n",
       "      <td>31.000000</td>\n",
       "      <td>23.000000</td>\n",
       "      <td>0.0</td>\n",
       "      <td>1.000000</td>\n",
       "      <td>0.0</td>\n",
       "      <td>1.0</td>\n",
       "      <td>0.0</td>\n",
       "      <td>0.0</td>\n",
       "      <td>0.0</td>\n",
       "      <td>0.0</td>\n",
       "      <td>0.0</td>\n",
       "    </tr>\n",
       "  </tbody>\n",
       "</table>\n",
       "</div>"
      ],
      "text/plain": [
       "         Unnamed: 0          PM10  PM10_null_pointers            CO  \\\n",
       "count   89500.00000  40118.000000        89500.000000  62233.000000   \n",
       "mean   313249.47000     -0.385658            0.448246     -0.077796   \n",
       "std    180855.99081      0.948494            0.497317      0.457137   \n",
       "min         5.00000     -2.580232            0.000000     -0.465316   \n",
       "25%    156625.75000           NaN            0.000000           NaN   \n",
       "50%    313248.00000           NaN            0.000000           NaN   \n",
       "75%    469874.75000           NaN            1.000000           NaN   \n",
       "max    626495.00000      3.181856            1.000000      7.424588   \n",
       "\n",
       "       CO_null_pointers         month           day          hour  \\\n",
       "count      89500.000000  89500.000000  89500.000000  89500.000000   \n",
       "mean           0.695341      6.408492     15.637564     11.502346   \n",
       "std            0.460266      3.502213      8.864868      6.921202   \n",
       "min            0.000000      1.000000      1.000000      0.000000   \n",
       "25%            0.000000      3.000000      8.000000      6.000000   \n",
       "50%            1.000000      6.000000     16.000000     12.000000   \n",
       "75%            1.000000      9.000000     23.000000     18.000000   \n",
       "max            1.000000     12.000000     31.000000     23.000000   \n",
       "\n",
       "       days_interval  hour_interval   Centar  Gazi Baba   Karpos   Lisice  \\\n",
       "count        89500.0   89500.000000  89500.0    89500.0  89500.0  89500.0   \n",
       "mean             0.0       0.126011      0.0        1.0      0.0      0.0   \n",
       "std              0.0       0.331864      0.0        0.0      0.0      0.0   \n",
       "min              0.0       0.000000      0.0        1.0      0.0      0.0   \n",
       "25%              0.0       0.000000      0.0        1.0      0.0      0.0   \n",
       "50%              0.0       0.000000      0.0        1.0      0.0      0.0   \n",
       "75%              0.0       0.000000      0.0        1.0      0.0      0.0   \n",
       "max              0.0       1.000000      0.0        1.0      0.0      0.0   \n",
       "\n",
       "       Miladinovci  Mrsevci  Rektorat  \n",
       "count      89500.0  89500.0   89500.0  \n",
       "mean           0.0      0.0       0.0  \n",
       "std            0.0      0.0       0.0  \n",
       "min            0.0      0.0       0.0  \n",
       "25%            0.0      0.0       0.0  \n",
       "50%            0.0      0.0       0.0  \n",
       "75%            0.0      0.0       0.0  \n",
       "max            0.0      0.0       0.0  "
      ]
     },
     "execution_count": 64,
     "metadata": {},
     "output_type": "execute_result"
    }
   ],
   "source": [
    "Gazi_loc_data.describe()"
   ]
  },
  {
   "cell_type": "code",
   "execution_count": 65,
   "metadata": {
    "collapsed": true
   },
   "outputs": [],
   "source": [
    "Gazi_loc_data.fillna(method='ffill',inplace=True); # forward fill\n",
    "#Gazi_loc_data.fillna(method='bfill',inplace=True); # backward fill\n",
    "Gazi_loc_data.fillna(Lisice_loc_data.median(),inplace=True);"
   ]
  },
  {
   "cell_type": "code",
   "execution_count": 66,
   "metadata": {},
   "outputs": [
    {
     "data": {
      "text/html": [
       "<div>\n",
       "<table border=\"1\" class=\"dataframe\">\n",
       "  <thead>\n",
       "    <tr style=\"text-align: right;\">\n",
       "      <th></th>\n",
       "      <th>Unnamed: 0</th>\n",
       "      <th>PM10</th>\n",
       "      <th>PM10_null_pointers</th>\n",
       "      <th>CO</th>\n",
       "      <th>CO_null_pointers</th>\n",
       "      <th>month</th>\n",
       "      <th>day</th>\n",
       "      <th>hour</th>\n",
       "      <th>days_interval</th>\n",
       "      <th>hour_interval</th>\n",
       "      <th>Centar</th>\n",
       "      <th>Gazi Baba</th>\n",
       "      <th>Karpos</th>\n",
       "      <th>Lisice</th>\n",
       "      <th>Miladinovci</th>\n",
       "      <th>Mrsevci</th>\n",
       "      <th>Rektorat</th>\n",
       "    </tr>\n",
       "  </thead>\n",
       "  <tbody>\n",
       "    <tr>\n",
       "      <th>count</th>\n",
       "      <td>89500.00000</td>\n",
       "      <td>89500.000000</td>\n",
       "      <td>89500.000000</td>\n",
       "      <td>89500.000000</td>\n",
       "      <td>89500.000000</td>\n",
       "      <td>89500.000000</td>\n",
       "      <td>89500.000000</td>\n",
       "      <td>89500.000000</td>\n",
       "      <td>89500.0</td>\n",
       "      <td>89500.000000</td>\n",
       "      <td>89500.0</td>\n",
       "      <td>89500.0</td>\n",
       "      <td>89500.0</td>\n",
       "      <td>89500.0</td>\n",
       "      <td>89500.0</td>\n",
       "      <td>89500.0</td>\n",
       "      <td>89500.0</td>\n",
       "    </tr>\n",
       "    <tr>\n",
       "      <th>mean</th>\n",
       "      <td>313249.47000</td>\n",
       "      <td>-0.307739</td>\n",
       "      <td>0.448246</td>\n",
       "      <td>-0.032906</td>\n",
       "      <td>0.695341</td>\n",
       "      <td>6.408492</td>\n",
       "      <td>15.637564</td>\n",
       "      <td>11.502346</td>\n",
       "      <td>0.0</td>\n",
       "      <td>0.126011</td>\n",
       "      <td>0.0</td>\n",
       "      <td>1.0</td>\n",
       "      <td>0.0</td>\n",
       "      <td>0.0</td>\n",
       "      <td>0.0</td>\n",
       "      <td>0.0</td>\n",
       "      <td>0.0</td>\n",
       "    </tr>\n",
       "    <tr>\n",
       "      <th>std</th>\n",
       "      <td>180855.99081</td>\n",
       "      <td>0.801104</td>\n",
       "      <td>0.497317</td>\n",
       "      <td>0.487180</td>\n",
       "      <td>0.460266</td>\n",
       "      <td>3.502213</td>\n",
       "      <td>8.864868</td>\n",
       "      <td>6.921202</td>\n",
       "      <td>0.0</td>\n",
       "      <td>0.331864</td>\n",
       "      <td>0.0</td>\n",
       "      <td>0.0</td>\n",
       "      <td>0.0</td>\n",
       "      <td>0.0</td>\n",
       "      <td>0.0</td>\n",
       "      <td>0.0</td>\n",
       "      <td>0.0</td>\n",
       "    </tr>\n",
       "    <tr>\n",
       "      <th>min</th>\n",
       "      <td>5.00000</td>\n",
       "      <td>-2.580232</td>\n",
       "      <td>0.000000</td>\n",
       "      <td>-0.465316</td>\n",
       "      <td>0.000000</td>\n",
       "      <td>1.000000</td>\n",
       "      <td>1.000000</td>\n",
       "      <td>0.000000</td>\n",
       "      <td>0.0</td>\n",
       "      <td>0.000000</td>\n",
       "      <td>0.0</td>\n",
       "      <td>1.0</td>\n",
       "      <td>0.0</td>\n",
       "      <td>0.0</td>\n",
       "      <td>0.0</td>\n",
       "      <td>0.0</td>\n",
       "      <td>0.0</td>\n",
       "    </tr>\n",
       "    <tr>\n",
       "      <th>25%</th>\n",
       "      <td>156625.75000</td>\n",
       "      <td>-0.537494</td>\n",
       "      <td>0.000000</td>\n",
       "      <td>-0.309137</td>\n",
       "      <td>0.000000</td>\n",
       "      <td>3.000000</td>\n",
       "      <td>8.000000</td>\n",
       "      <td>6.000000</td>\n",
       "      <td>0.0</td>\n",
       "      <td>0.000000</td>\n",
       "      <td>0.0</td>\n",
       "      <td>1.0</td>\n",
       "      <td>0.0</td>\n",
       "      <td>0.0</td>\n",
       "      <td>0.0</td>\n",
       "      <td>0.0</td>\n",
       "      <td>0.0</td>\n",
       "    </tr>\n",
       "    <tr>\n",
       "      <th>50%</th>\n",
       "      <td>313248.00000</td>\n",
       "      <td>-0.349167</td>\n",
       "      <td>0.000000</td>\n",
       "      <td>-0.181881</td>\n",
       "      <td>1.000000</td>\n",
       "      <td>6.000000</td>\n",
       "      <td>16.000000</td>\n",
       "      <td>12.000000</td>\n",
       "      <td>0.0</td>\n",
       "      <td>0.000000</td>\n",
       "      <td>0.0</td>\n",
       "      <td>1.0</td>\n",
       "      <td>0.0</td>\n",
       "      <td>0.0</td>\n",
       "      <td>0.0</td>\n",
       "      <td>0.0</td>\n",
       "      <td>0.0</td>\n",
       "    </tr>\n",
       "    <tr>\n",
       "      <th>75%</th>\n",
       "      <td>469874.75000</td>\n",
       "      <td>-0.007958</td>\n",
       "      <td>1.000000</td>\n",
       "      <td>0.124692</td>\n",
       "      <td>1.000000</td>\n",
       "      <td>9.000000</td>\n",
       "      <td>23.000000</td>\n",
       "      <td>18.000000</td>\n",
       "      <td>0.0</td>\n",
       "      <td>0.000000</td>\n",
       "      <td>0.0</td>\n",
       "      <td>1.0</td>\n",
       "      <td>0.0</td>\n",
       "      <td>0.0</td>\n",
       "      <td>0.0</td>\n",
       "      <td>0.0</td>\n",
       "      <td>0.0</td>\n",
       "    </tr>\n",
       "    <tr>\n",
       "      <th>max</th>\n",
       "      <td>626495.00000</td>\n",
       "      <td>3.181856</td>\n",
       "      <td>1.000000</td>\n",
       "      <td>7.424588</td>\n",
       "      <td>1.000000</td>\n",
       "      <td>12.000000</td>\n",
       "      <td>31.000000</td>\n",
       "      <td>23.000000</td>\n",
       "      <td>0.0</td>\n",
       "      <td>1.000000</td>\n",
       "      <td>0.0</td>\n",
       "      <td>1.0</td>\n",
       "      <td>0.0</td>\n",
       "      <td>0.0</td>\n",
       "      <td>0.0</td>\n",
       "      <td>0.0</td>\n",
       "      <td>0.0</td>\n",
       "    </tr>\n",
       "  </tbody>\n",
       "</table>\n",
       "</div>"
      ],
      "text/plain": [
       "         Unnamed: 0          PM10  PM10_null_pointers            CO  \\\n",
       "count   89500.00000  89500.000000        89500.000000  89500.000000   \n",
       "mean   313249.47000     -0.307739            0.448246     -0.032906   \n",
       "std    180855.99081      0.801104            0.497317      0.487180   \n",
       "min         5.00000     -2.580232            0.000000     -0.465316   \n",
       "25%    156625.75000     -0.537494            0.000000     -0.309137   \n",
       "50%    313248.00000     -0.349167            0.000000     -0.181881   \n",
       "75%    469874.75000     -0.007958            1.000000      0.124692   \n",
       "max    626495.00000      3.181856            1.000000      7.424588   \n",
       "\n",
       "       CO_null_pointers         month           day          hour  \\\n",
       "count      89500.000000  89500.000000  89500.000000  89500.000000   \n",
       "mean           0.695341      6.408492     15.637564     11.502346   \n",
       "std            0.460266      3.502213      8.864868      6.921202   \n",
       "min            0.000000      1.000000      1.000000      0.000000   \n",
       "25%            0.000000      3.000000      8.000000      6.000000   \n",
       "50%            1.000000      6.000000     16.000000     12.000000   \n",
       "75%            1.000000      9.000000     23.000000     18.000000   \n",
       "max            1.000000     12.000000     31.000000     23.000000   \n",
       "\n",
       "       days_interval  hour_interval   Centar  Gazi Baba   Karpos   Lisice  \\\n",
       "count        89500.0   89500.000000  89500.0    89500.0  89500.0  89500.0   \n",
       "mean             0.0       0.126011      0.0        1.0      0.0      0.0   \n",
       "std              0.0       0.331864      0.0        0.0      0.0      0.0   \n",
       "min              0.0       0.000000      0.0        1.0      0.0      0.0   \n",
       "25%              0.0       0.000000      0.0        1.0      0.0      0.0   \n",
       "50%              0.0       0.000000      0.0        1.0      0.0      0.0   \n",
       "75%              0.0       0.000000      0.0        1.0      0.0      0.0   \n",
       "max              0.0       1.000000      0.0        1.0      0.0      0.0   \n",
       "\n",
       "       Miladinovci  Mrsevci  Rektorat  \n",
       "count      89500.0  89500.0   89500.0  \n",
       "mean           0.0      0.0       0.0  \n",
       "std            0.0      0.0       0.0  \n",
       "min            0.0      0.0       0.0  \n",
       "25%            0.0      0.0       0.0  \n",
       "50%            0.0      0.0       0.0  \n",
       "75%            0.0      0.0       0.0  \n",
       "max            0.0      0.0       0.0  "
      ]
     },
     "execution_count": 66,
     "metadata": {},
     "output_type": "execute_result"
    }
   ],
   "source": [
    "Gazi_loc_data.describe()"
   ]
  },
  {
   "cell_type": "code",
   "execution_count": null,
   "metadata": {
    "collapsed": true
   },
   "outputs": [],
   "source": []
  },
  {
   "cell_type": "code",
   "execution_count": null,
   "metadata": {
    "collapsed": true
   },
   "outputs": [],
   "source": []
  },
  {
   "cell_type": "markdown",
   "metadata": {},
   "source": [
    "### Miladinovic"
   ]
  },
  {
   "cell_type": "code",
   "execution_count": 67,
   "metadata": {
    "collapsed": true
   },
   "outputs": [],
   "source": [
    "Miladinovic_loc_data = All_data[(All_data['Miladinovci']==1) ].copy(deep=True) # for Lisce location"
   ]
  },
  {
   "cell_type": "code",
   "execution_count": 68,
   "metadata": {},
   "outputs": [
    {
     "name": "stderr",
     "output_type": "stream",
     "text": [
      "//anaconda/envs/seychelles/lib/python3.5/site-packages/numpy/lib/function_base.py:3834: RuntimeWarning: Invalid value encountered in percentile\n",
      "  RuntimeWarning)\n"
     ]
    },
    {
     "data": {
      "text/html": [
       "<div>\n",
       "<table border=\"1\" class=\"dataframe\">\n",
       "  <thead>\n",
       "    <tr style=\"text-align: right;\">\n",
       "      <th></th>\n",
       "      <th>Unnamed: 0</th>\n",
       "      <th>PM10</th>\n",
       "      <th>PM10_null_pointers</th>\n",
       "      <th>CO</th>\n",
       "      <th>CO_null_pointers</th>\n",
       "      <th>NO2</th>\n",
       "      <th>NO2_null_pointers</th>\n",
       "      <th>O3</th>\n",
       "      <th>O3_null_pointers</th>\n",
       "      <th>PM25</th>\n",
       "      <th>...</th>\n",
       "      <th>hour</th>\n",
       "      <th>days_interval</th>\n",
       "      <th>hour_interval</th>\n",
       "      <th>Centar</th>\n",
       "      <th>Gazi Baba</th>\n",
       "      <th>Karpos</th>\n",
       "      <th>Lisice</th>\n",
       "      <th>Miladinovci</th>\n",
       "      <th>Mrsevci</th>\n",
       "      <th>Rektorat</th>\n",
       "    </tr>\n",
       "  </thead>\n",
       "  <tbody>\n",
       "    <tr>\n",
       "      <th>count</th>\n",
       "      <td>89500.000000</td>\n",
       "      <td>54593.000000</td>\n",
       "      <td>89500.000000</td>\n",
       "      <td>43722.000000</td>\n",
       "      <td>89500.000000</td>\n",
       "      <td>14588.000000</td>\n",
       "      <td>89500.000000</td>\n",
       "      <td>57367.000000</td>\n",
       "      <td>89500.000000</td>\n",
       "      <td>0.0</td>\n",
       "      <td>...</td>\n",
       "      <td>89500.000000</td>\n",
       "      <td>89500.0</td>\n",
       "      <td>89500.000000</td>\n",
       "      <td>89500.0</td>\n",
       "      <td>89500.0</td>\n",
       "      <td>89500.0</td>\n",
       "      <td>89500.0</td>\n",
       "      <td>89500.0</td>\n",
       "      <td>89500.0</td>\n",
       "      <td>89500.0</td>\n",
       "    </tr>\n",
       "    <tr>\n",
       "      <th>mean</th>\n",
       "      <td>313249.562514</td>\n",
       "      <td>-0.687774</td>\n",
       "      <td>0.609978</td>\n",
       "      <td>-0.189034</td>\n",
       "      <td>0.488514</td>\n",
       "      <td>-0.272951</td>\n",
       "      <td>0.162994</td>\n",
       "      <td>0.320389</td>\n",
       "      <td>0.640972</td>\n",
       "      <td>NaN</td>\n",
       "      <td>...</td>\n",
       "      <td>11.502346</td>\n",
       "      <td>0.0</td>\n",
       "      <td>0.222927</td>\n",
       "      <td>0.0</td>\n",
       "      <td>0.0</td>\n",
       "      <td>0.0</td>\n",
       "      <td>0.0</td>\n",
       "      <td>1.0</td>\n",
       "      <td>0.0</td>\n",
       "      <td>0.0</td>\n",
       "    </tr>\n",
       "    <tr>\n",
       "      <th>std</th>\n",
       "      <td>180855.973609</td>\n",
       "      <td>0.650596</td>\n",
       "      <td>0.487758</td>\n",
       "      <td>0.247388</td>\n",
       "      <td>0.499871</td>\n",
       "      <td>0.384890</td>\n",
       "      <td>0.369363</td>\n",
       "      <td>0.997776</td>\n",
       "      <td>0.479718</td>\n",
       "      <td>NaN</td>\n",
       "      <td>...</td>\n",
       "      <td>6.921202</td>\n",
       "      <td>0.0</td>\n",
       "      <td>0.416320</td>\n",
       "      <td>0.0</td>\n",
       "      <td>0.0</td>\n",
       "      <td>0.0</td>\n",
       "      <td>0.0</td>\n",
       "      <td>0.0</td>\n",
       "      <td>0.0</td>\n",
       "      <td>0.0</td>\n",
       "    </tr>\n",
       "    <tr>\n",
       "      <th>min</th>\n",
       "      <td>0.000000</td>\n",
       "      <td>-2.582385</td>\n",
       "      <td>0.000000</td>\n",
       "      <td>-0.465316</td>\n",
       "      <td>0.000000</td>\n",
       "      <td>-0.777982</td>\n",
       "      <td>0.000000</td>\n",
       "      <td>-1.071604</td>\n",
       "      <td>0.000000</td>\n",
       "      <td>NaN</td>\n",
       "      <td>...</td>\n",
       "      <td>0.000000</td>\n",
       "      <td>0.0</td>\n",
       "      <td>0.000000</td>\n",
       "      <td>0.0</td>\n",
       "      <td>0.0</td>\n",
       "      <td>0.0</td>\n",
       "      <td>0.0</td>\n",
       "      <td>1.0</td>\n",
       "      <td>0.0</td>\n",
       "      <td>0.0</td>\n",
       "    </tr>\n",
       "    <tr>\n",
       "      <th>25%</th>\n",
       "      <td>156628.500000</td>\n",
       "      <td>NaN</td>\n",
       "      <td>0.000000</td>\n",
       "      <td>NaN</td>\n",
       "      <td>0.000000</td>\n",
       "      <td>NaN</td>\n",
       "      <td>0.000000</td>\n",
       "      <td>NaN</td>\n",
       "      <td>0.000000</td>\n",
       "      <td>NaN</td>\n",
       "      <td>...</td>\n",
       "      <td>6.000000</td>\n",
       "      <td>0.0</td>\n",
       "      <td>0.000000</td>\n",
       "      <td>0.0</td>\n",
       "      <td>0.0</td>\n",
       "      <td>0.0</td>\n",
       "      <td>0.0</td>\n",
       "      <td>1.0</td>\n",
       "      <td>0.0</td>\n",
       "      <td>0.0</td>\n",
       "    </tr>\n",
       "    <tr>\n",
       "      <th>50%</th>\n",
       "      <td>313252.500000</td>\n",
       "      <td>NaN</td>\n",
       "      <td>1.000000</td>\n",
       "      <td>NaN</td>\n",
       "      <td>0.000000</td>\n",
       "      <td>NaN</td>\n",
       "      <td>0.000000</td>\n",
       "      <td>NaN</td>\n",
       "      <td>1.000000</td>\n",
       "      <td>NaN</td>\n",
       "      <td>...</td>\n",
       "      <td>12.000000</td>\n",
       "      <td>0.0</td>\n",
       "      <td>0.000000</td>\n",
       "      <td>0.0</td>\n",
       "      <td>0.0</td>\n",
       "      <td>0.0</td>\n",
       "      <td>0.0</td>\n",
       "      <td>1.0</td>\n",
       "      <td>0.0</td>\n",
       "      <td>0.0</td>\n",
       "    </tr>\n",
       "    <tr>\n",
       "      <th>75%</th>\n",
       "      <td>469872.750000</td>\n",
       "      <td>NaN</td>\n",
       "      <td>1.000000</td>\n",
       "      <td>NaN</td>\n",
       "      <td>1.000000</td>\n",
       "      <td>NaN</td>\n",
       "      <td>0.000000</td>\n",
       "      <td>NaN</td>\n",
       "      <td>1.000000</td>\n",
       "      <td>NaN</td>\n",
       "      <td>...</td>\n",
       "      <td>18.000000</td>\n",
       "      <td>0.0</td>\n",
       "      <td>0.000000</td>\n",
       "      <td>0.0</td>\n",
       "      <td>0.0</td>\n",
       "      <td>0.0</td>\n",
       "      <td>0.0</td>\n",
       "      <td>1.0</td>\n",
       "      <td>0.0</td>\n",
       "      <td>0.0</td>\n",
       "    </tr>\n",
       "    <tr>\n",
       "      <th>max</th>\n",
       "      <td>626494.000000</td>\n",
       "      <td>2.628594</td>\n",
       "      <td>1.000000</td>\n",
       "      <td>2.866491</td>\n",
       "      <td>1.000000</td>\n",
       "      <td>2.341898</td>\n",
       "      <td>1.000000</td>\n",
       "      <td>3.951163</td>\n",
       "      <td>1.000000</td>\n",
       "      <td>NaN</td>\n",
       "      <td>...</td>\n",
       "      <td>23.000000</td>\n",
       "      <td>0.0</td>\n",
       "      <td>2.000000</td>\n",
       "      <td>0.0</td>\n",
       "      <td>0.0</td>\n",
       "      <td>0.0</td>\n",
       "      <td>0.0</td>\n",
       "      <td>1.0</td>\n",
       "      <td>0.0</td>\n",
       "      <td>0.0</td>\n",
       "    </tr>\n",
       "  </tbody>\n",
       "</table>\n",
       "<p>8 rows × 23 columns</p>\n",
       "</div>"
      ],
      "text/plain": [
       "          Unnamed: 0          PM10  PM10_null_pointers            CO  \\\n",
       "count   89500.000000  54593.000000        89500.000000  43722.000000   \n",
       "mean   313249.562514     -0.687774            0.609978     -0.189034   \n",
       "std    180855.973609      0.650596            0.487758      0.247388   \n",
       "min         0.000000     -2.582385            0.000000     -0.465316   \n",
       "25%    156628.500000           NaN            0.000000           NaN   \n",
       "50%    313252.500000           NaN            1.000000           NaN   \n",
       "75%    469872.750000           NaN            1.000000           NaN   \n",
       "max    626494.000000      2.628594            1.000000      2.866491   \n",
       "\n",
       "       CO_null_pointers           NO2  NO2_null_pointers            O3  \\\n",
       "count      89500.000000  14588.000000       89500.000000  57367.000000   \n",
       "mean           0.488514     -0.272951           0.162994      0.320389   \n",
       "std            0.499871      0.384890           0.369363      0.997776   \n",
       "min            0.000000     -0.777982           0.000000     -1.071604   \n",
       "25%            0.000000           NaN           0.000000           NaN   \n",
       "50%            0.000000           NaN           0.000000           NaN   \n",
       "75%            1.000000           NaN           0.000000           NaN   \n",
       "max            1.000000      2.341898           1.000000      3.951163   \n",
       "\n",
       "       O3_null_pointers  PM25    ...             hour  days_interval  \\\n",
       "count      89500.000000   0.0    ...     89500.000000        89500.0   \n",
       "mean           0.640972   NaN    ...        11.502346            0.0   \n",
       "std            0.479718   NaN    ...         6.921202            0.0   \n",
       "min            0.000000   NaN    ...         0.000000            0.0   \n",
       "25%            0.000000   NaN    ...         6.000000            0.0   \n",
       "50%            1.000000   NaN    ...        12.000000            0.0   \n",
       "75%            1.000000   NaN    ...        18.000000            0.0   \n",
       "max            1.000000   NaN    ...        23.000000            0.0   \n",
       "\n",
       "       hour_interval   Centar  Gazi Baba   Karpos   Lisice  Miladinovci  \\\n",
       "count   89500.000000  89500.0    89500.0  89500.0  89500.0      89500.0   \n",
       "mean        0.222927      0.0        0.0      0.0      0.0          1.0   \n",
       "std         0.416320      0.0        0.0      0.0      0.0          0.0   \n",
       "min         0.000000      0.0        0.0      0.0      0.0          1.0   \n",
       "25%         0.000000      0.0        0.0      0.0      0.0          1.0   \n",
       "50%         0.000000      0.0        0.0      0.0      0.0          1.0   \n",
       "75%         0.000000      0.0        0.0      0.0      0.0          1.0   \n",
       "max         2.000000      0.0        0.0      0.0      0.0          1.0   \n",
       "\n",
       "       Mrsevci  Rektorat  \n",
       "count  89500.0   89500.0  \n",
       "mean       0.0       0.0  \n",
       "std        0.0       0.0  \n",
       "min        0.0       0.0  \n",
       "25%        0.0       0.0  \n",
       "50%        0.0       0.0  \n",
       "75%        0.0       0.0  \n",
       "max        0.0       0.0  \n",
       "\n",
       "[8 rows x 23 columns]"
      ]
     },
     "execution_count": 68,
     "metadata": {},
     "output_type": "execute_result"
    }
   ],
   "source": [
    "Miladinovic_loc_data.describe()"
   ]
  },
  {
   "cell_type": "code",
   "execution_count": 69,
   "metadata": {},
   "outputs": [
    {
     "data": {
      "text/plain": [
       "Unnamed: 0                0\n",
       "date                      0\n",
       "PM10                  34907\n",
       "NAME                      0\n",
       "PM10_null_pointers        0\n",
       "CO                    45778\n",
       "CO_null_pointers          0\n",
       "NO2                   74912\n",
       "NO2_null_pointers         0\n",
       "O3                    32133\n",
       "O3_null_pointers          0\n",
       "PM25                  89500\n",
       "PM25_null_pointers        0\n",
       "time                      0\n",
       "month                     0\n",
       "day                       0\n",
       "hour                      0\n",
       "daysInterval              0\n",
       "days_interval             0\n",
       "hour_interval             0\n",
       "Centar                    0\n",
       "Gazi Baba                 0\n",
       "Karpos                    0\n",
       "Lisice                    0\n",
       "Miladinovci               0\n",
       "Mrsevci                   0\n",
       "Rektorat                  0\n",
       "dtype: int64"
      ]
     },
     "execution_count": 69,
     "metadata": {},
     "output_type": "execute_result"
    }
   ],
   "source": [
    "Miladinovic_loc_data.isnull().sum()"
   ]
  },
  {
   "cell_type": "code",
   "execution_count": null,
   "metadata": {
    "collapsed": true
   },
   "outputs": [],
   "source": []
  },
  {
   "cell_type": "code",
   "execution_count": 70,
   "metadata": {
    "collapsed": true
   },
   "outputs": [],
   "source": [
    "Miladinovic_loc_data.drop(['PM25','PM25_null_pointers','NO2','NO2_null_pointers','CO','CO_null_pointers'],axis=1,inplace=True)"
   ]
  },
  {
   "cell_type": "code",
   "execution_count": 71,
   "metadata": {
    "collapsed": true
   },
   "outputs": [],
   "source": [
    "Miladinovic_loc_data.fillna(method='ffill',inplace=True); # forward fill\n",
    "#Gazi_loc_data.fillna(method='bfill',inplace=True); # backward fill\n",
    "Miladinovic_loc_data.fillna(Lisice_loc_data.median(),inplace=True);"
   ]
  },
  {
   "cell_type": "code",
   "execution_count": 72,
   "metadata": {},
   "outputs": [
    {
     "data": {
      "text/html": [
       "<div>\n",
       "<table border=\"1\" class=\"dataframe\">\n",
       "  <thead>\n",
       "    <tr style=\"text-align: right;\">\n",
       "      <th></th>\n",
       "      <th>Unnamed: 0</th>\n",
       "      <th>PM10</th>\n",
       "      <th>PM10_null_pointers</th>\n",
       "      <th>O3</th>\n",
       "      <th>O3_null_pointers</th>\n",
       "      <th>month</th>\n",
       "      <th>day</th>\n",
       "      <th>hour</th>\n",
       "      <th>days_interval</th>\n",
       "      <th>hour_interval</th>\n",
       "      <th>Centar</th>\n",
       "      <th>Gazi Baba</th>\n",
       "      <th>Karpos</th>\n",
       "      <th>Lisice</th>\n",
       "      <th>Miladinovci</th>\n",
       "      <th>Mrsevci</th>\n",
       "      <th>Rektorat</th>\n",
       "    </tr>\n",
       "  </thead>\n",
       "  <tbody>\n",
       "    <tr>\n",
       "      <th>count</th>\n",
       "      <td>89500.000000</td>\n",
       "      <td>89500.000000</td>\n",
       "      <td>89500.000000</td>\n",
       "      <td>89500.000000</td>\n",
       "      <td>89500.000000</td>\n",
       "      <td>89500.000000</td>\n",
       "      <td>89500.000000</td>\n",
       "      <td>89500.000000</td>\n",
       "      <td>89500.0</td>\n",
       "      <td>89500.000000</td>\n",
       "      <td>89500.0</td>\n",
       "      <td>89500.0</td>\n",
       "      <td>89500.0</td>\n",
       "      <td>89500.0</td>\n",
       "      <td>89500.0</td>\n",
       "      <td>89500.0</td>\n",
       "      <td>89500.0</td>\n",
       "    </tr>\n",
       "    <tr>\n",
       "      <th>mean</th>\n",
       "      <td>313249.562514</td>\n",
       "      <td>-0.597326</td>\n",
       "      <td>0.609978</td>\n",
       "      <td>0.190847</td>\n",
       "      <td>0.640972</td>\n",
       "      <td>6.408492</td>\n",
       "      <td>15.637564</td>\n",
       "      <td>11.502346</td>\n",
       "      <td>0.0</td>\n",
       "      <td>0.222927</td>\n",
       "      <td>0.0</td>\n",
       "      <td>0.0</td>\n",
       "      <td>0.0</td>\n",
       "      <td>0.0</td>\n",
       "      <td>1.0</td>\n",
       "      <td>0.0</td>\n",
       "      <td>0.0</td>\n",
       "    </tr>\n",
       "    <tr>\n",
       "      <th>std</th>\n",
       "      <td>180855.973609</td>\n",
       "      <td>0.586863</td>\n",
       "      <td>0.487758</td>\n",
       "      <td>0.941142</td>\n",
       "      <td>0.479718</td>\n",
       "      <td>3.502213</td>\n",
       "      <td>8.864868</td>\n",
       "      <td>6.921202</td>\n",
       "      <td>0.0</td>\n",
       "      <td>0.416320</td>\n",
       "      <td>0.0</td>\n",
       "      <td>0.0</td>\n",
       "      <td>0.0</td>\n",
       "      <td>0.0</td>\n",
       "      <td>0.0</td>\n",
       "      <td>0.0</td>\n",
       "      <td>0.0</td>\n",
       "    </tr>\n",
       "    <tr>\n",
       "      <th>min</th>\n",
       "      <td>0.000000</td>\n",
       "      <td>-2.582385</td>\n",
       "      <td>0.000000</td>\n",
       "      <td>-1.071604</td>\n",
       "      <td>0.000000</td>\n",
       "      <td>1.000000</td>\n",
       "      <td>1.000000</td>\n",
       "      <td>0.000000</td>\n",
       "      <td>0.0</td>\n",
       "      <td>0.000000</td>\n",
       "      <td>0.0</td>\n",
       "      <td>0.0</td>\n",
       "      <td>0.0</td>\n",
       "      <td>0.0</td>\n",
       "      <td>1.0</td>\n",
       "      <td>0.0</td>\n",
       "      <td>0.0</td>\n",
       "    </tr>\n",
       "    <tr>\n",
       "      <th>25%</th>\n",
       "      <td>156628.500000</td>\n",
       "      <td>-0.982796</td>\n",
       "      <td>0.000000</td>\n",
       "      <td>-0.677802</td>\n",
       "      <td>0.000000</td>\n",
       "      <td>3.000000</td>\n",
       "      <td>8.000000</td>\n",
       "      <td>6.000000</td>\n",
       "      <td>0.0</td>\n",
       "      <td>0.000000</td>\n",
       "      <td>0.0</td>\n",
       "      <td>0.0</td>\n",
       "      <td>0.0</td>\n",
       "      <td>0.0</td>\n",
       "      <td>1.0</td>\n",
       "      <td>0.0</td>\n",
       "      <td>0.0</td>\n",
       "    </tr>\n",
       "    <tr>\n",
       "      <th>50%</th>\n",
       "      <td>313252.500000</td>\n",
       "      <td>-0.557909</td>\n",
       "      <td>1.000000</td>\n",
       "      <td>0.126845</td>\n",
       "      <td>1.000000</td>\n",
       "      <td>6.000000</td>\n",
       "      <td>16.000000</td>\n",
       "      <td>12.000000</td>\n",
       "      <td>0.0</td>\n",
       "      <td>0.000000</td>\n",
       "      <td>0.0</td>\n",
       "      <td>0.0</td>\n",
       "      <td>0.0</td>\n",
       "      <td>0.0</td>\n",
       "      <td>1.0</td>\n",
       "      <td>0.0</td>\n",
       "      <td>0.0</td>\n",
       "    </tr>\n",
       "    <tr>\n",
       "      <th>75%</th>\n",
       "      <td>469872.750000</td>\n",
       "      <td>-0.349167</td>\n",
       "      <td>1.000000</td>\n",
       "      <td>0.735675</td>\n",
       "      <td>1.000000</td>\n",
       "      <td>9.000000</td>\n",
       "      <td>23.000000</td>\n",
       "      <td>18.000000</td>\n",
       "      <td>0.0</td>\n",
       "      <td>0.000000</td>\n",
       "      <td>0.0</td>\n",
       "      <td>0.0</td>\n",
       "      <td>0.0</td>\n",
       "      <td>0.0</td>\n",
       "      <td>1.0</td>\n",
       "      <td>0.0</td>\n",
       "      <td>0.0</td>\n",
       "    </tr>\n",
       "    <tr>\n",
       "      <th>max</th>\n",
       "      <td>626494.000000</td>\n",
       "      <td>2.628594</td>\n",
       "      <td>1.000000</td>\n",
       "      <td>3.951163</td>\n",
       "      <td>1.000000</td>\n",
       "      <td>12.000000</td>\n",
       "      <td>31.000000</td>\n",
       "      <td>23.000000</td>\n",
       "      <td>0.0</td>\n",
       "      <td>2.000000</td>\n",
       "      <td>0.0</td>\n",
       "      <td>0.0</td>\n",
       "      <td>0.0</td>\n",
       "      <td>0.0</td>\n",
       "      <td>1.0</td>\n",
       "      <td>0.0</td>\n",
       "      <td>0.0</td>\n",
       "    </tr>\n",
       "  </tbody>\n",
       "</table>\n",
       "</div>"
      ],
      "text/plain": [
       "          Unnamed: 0          PM10  PM10_null_pointers            O3  \\\n",
       "count   89500.000000  89500.000000        89500.000000  89500.000000   \n",
       "mean   313249.562514     -0.597326            0.609978      0.190847   \n",
       "std    180855.973609      0.586863            0.487758      0.941142   \n",
       "min         0.000000     -2.582385            0.000000     -1.071604   \n",
       "25%    156628.500000     -0.982796            0.000000     -0.677802   \n",
       "50%    313252.500000     -0.557909            1.000000      0.126845   \n",
       "75%    469872.750000     -0.349167            1.000000      0.735675   \n",
       "max    626494.000000      2.628594            1.000000      3.951163   \n",
       "\n",
       "       O3_null_pointers         month           day          hour  \\\n",
       "count      89500.000000  89500.000000  89500.000000  89500.000000   \n",
       "mean           0.640972      6.408492     15.637564     11.502346   \n",
       "std            0.479718      3.502213      8.864868      6.921202   \n",
       "min            0.000000      1.000000      1.000000      0.000000   \n",
       "25%            0.000000      3.000000      8.000000      6.000000   \n",
       "50%            1.000000      6.000000     16.000000     12.000000   \n",
       "75%            1.000000      9.000000     23.000000     18.000000   \n",
       "max            1.000000     12.000000     31.000000     23.000000   \n",
       "\n",
       "       days_interval  hour_interval   Centar  Gazi Baba   Karpos   Lisice  \\\n",
       "count        89500.0   89500.000000  89500.0    89500.0  89500.0  89500.0   \n",
       "mean             0.0       0.222927      0.0        0.0      0.0      0.0   \n",
       "std              0.0       0.416320      0.0        0.0      0.0      0.0   \n",
       "min              0.0       0.000000      0.0        0.0      0.0      0.0   \n",
       "25%              0.0       0.000000      0.0        0.0      0.0      0.0   \n",
       "50%              0.0       0.000000      0.0        0.0      0.0      0.0   \n",
       "75%              0.0       0.000000      0.0        0.0      0.0      0.0   \n",
       "max              0.0       2.000000      0.0        0.0      0.0      0.0   \n",
       "\n",
       "       Miladinovci  Mrsevci  Rektorat  \n",
       "count      89500.0  89500.0   89500.0  \n",
       "mean           1.0      0.0       0.0  \n",
       "std            0.0      0.0       0.0  \n",
       "min            1.0      0.0       0.0  \n",
       "25%            1.0      0.0       0.0  \n",
       "50%            1.0      0.0       0.0  \n",
       "75%            1.0      0.0       0.0  \n",
       "max            1.0      0.0       0.0  "
      ]
     },
     "execution_count": 72,
     "metadata": {},
     "output_type": "execute_result"
    }
   ],
   "source": [
    "Miladinovic_loc_data.describe()"
   ]
  },
  {
   "cell_type": "markdown",
   "metadata": {},
   "source": [
    "### Msevci_loc_data"
   ]
  },
  {
   "cell_type": "code",
   "execution_count": 73,
   "metadata": {
    "collapsed": true
   },
   "outputs": [],
   "source": [
    "Msevci_loc_data = All_data[(All_data['Mrsevci']==1) ].copy(deep=True) # for Lisce location"
   ]
  },
  {
   "cell_type": "code",
   "execution_count": 74,
   "metadata": {},
   "outputs": [
    {
     "name": "stderr",
     "output_type": "stream",
     "text": [
      "//anaconda/envs/seychelles/lib/python3.5/site-packages/numpy/lib/function_base.py:3834: RuntimeWarning: Invalid value encountered in percentile\n",
      "  RuntimeWarning)\n"
     ]
    },
    {
     "data": {
      "text/html": [
       "<div>\n",
       "<table border=\"1\" class=\"dataframe\">\n",
       "  <thead>\n",
       "    <tr style=\"text-align: right;\">\n",
       "      <th></th>\n",
       "      <th>Unnamed: 0</th>\n",
       "      <th>PM10</th>\n",
       "      <th>PM10_null_pointers</th>\n",
       "      <th>CO</th>\n",
       "      <th>CO_null_pointers</th>\n",
       "      <th>NO2</th>\n",
       "      <th>NO2_null_pointers</th>\n",
       "      <th>O3</th>\n",
       "      <th>O3_null_pointers</th>\n",
       "      <th>PM25</th>\n",
       "      <th>...</th>\n",
       "      <th>hour</th>\n",
       "      <th>days_interval</th>\n",
       "      <th>hour_interval</th>\n",
       "      <th>Centar</th>\n",
       "      <th>Gazi Baba</th>\n",
       "      <th>Karpos</th>\n",
       "      <th>Lisice</th>\n",
       "      <th>Miladinovci</th>\n",
       "      <th>Mrsevci</th>\n",
       "      <th>Rektorat</th>\n",
       "    </tr>\n",
       "  </thead>\n",
       "  <tbody>\n",
       "    <tr>\n",
       "      <th>count</th>\n",
       "      <td>89500.000000</td>\n",
       "      <td>23125.000000</td>\n",
       "      <td>89500.000000</td>\n",
       "      <td>30154.000000</td>\n",
       "      <td>89500.000000</td>\n",
       "      <td>32369.000000</td>\n",
       "      <td>89500.000000</td>\n",
       "      <td>0.0</td>\n",
       "      <td>89500.0</td>\n",
       "      <td>0.0</td>\n",
       "      <td>...</td>\n",
       "      <td>89500.000000</td>\n",
       "      <td>89500.0</td>\n",
       "      <td>89500.000000</td>\n",
       "      <td>89500.0</td>\n",
       "      <td>89500.0</td>\n",
       "      <td>89500.0</td>\n",
       "      <td>89500.0</td>\n",
       "      <td>89500.0</td>\n",
       "      <td>89500.0</td>\n",
       "      <td>89500.0</td>\n",
       "    </tr>\n",
       "    <tr>\n",
       "      <th>mean</th>\n",
       "      <td>313249.480659</td>\n",
       "      <td>-0.509751</td>\n",
       "      <td>0.258380</td>\n",
       "      <td>-0.251207</td>\n",
       "      <td>0.336916</td>\n",
       "      <td>-0.029195</td>\n",
       "      <td>0.361665</td>\n",
       "      <td>NaN</td>\n",
       "      <td>0.0</td>\n",
       "      <td>NaN</td>\n",
       "      <td>...</td>\n",
       "      <td>11.502346</td>\n",
       "      <td>0.0</td>\n",
       "      <td>0.125922</td>\n",
       "      <td>0.0</td>\n",
       "      <td>0.0</td>\n",
       "      <td>0.0</td>\n",
       "      <td>0.0</td>\n",
       "      <td>0.0</td>\n",
       "      <td>1.0</td>\n",
       "      <td>0.0</td>\n",
       "    </tr>\n",
       "    <tr>\n",
       "      <th>std</th>\n",
       "      <td>180855.969433</td>\n",
       "      <td>0.913344</td>\n",
       "      <td>0.437746</td>\n",
       "      <td>0.294781</td>\n",
       "      <td>0.472659</td>\n",
       "      <td>1.937834</td>\n",
       "      <td>0.480485</td>\n",
       "      <td>NaN</td>\n",
       "      <td>0.0</td>\n",
       "      <td>NaN</td>\n",
       "      <td>...</td>\n",
       "      <td>6.921202</td>\n",
       "      <td>0.0</td>\n",
       "      <td>0.331965</td>\n",
       "      <td>0.0</td>\n",
       "      <td>0.0</td>\n",
       "      <td>0.0</td>\n",
       "      <td>0.0</td>\n",
       "      <td>0.0</td>\n",
       "      <td>0.0</td>\n",
       "      <td>0.0</td>\n",
       "    </tr>\n",
       "    <tr>\n",
       "      <th>min</th>\n",
       "      <td>4.000000</td>\n",
       "      <td>-2.569584</td>\n",
       "      <td>0.000000</td>\n",
       "      <td>-0.465316</td>\n",
       "      <td>0.000000</td>\n",
       "      <td>-0.777368</td>\n",
       "      <td>0.000000</td>\n",
       "      <td>NaN</td>\n",
       "      <td>0.0</td>\n",
       "      <td>NaN</td>\n",
       "      <td>...</td>\n",
       "      <td>0.000000</td>\n",
       "      <td>0.0</td>\n",
       "      <td>0.000000</td>\n",
       "      <td>0.0</td>\n",
       "      <td>0.0</td>\n",
       "      <td>0.0</td>\n",
       "      <td>0.0</td>\n",
       "      <td>0.0</td>\n",
       "      <td>1.0</td>\n",
       "      <td>0.0</td>\n",
       "    </tr>\n",
       "    <tr>\n",
       "      <th>25%</th>\n",
       "      <td>156627.500000</td>\n",
       "      <td>NaN</td>\n",
       "      <td>0.000000</td>\n",
       "      <td>NaN</td>\n",
       "      <td>0.000000</td>\n",
       "      <td>NaN</td>\n",
       "      <td>0.000000</td>\n",
       "      <td>NaN</td>\n",
       "      <td>0.0</td>\n",
       "      <td>NaN</td>\n",
       "      <td>...</td>\n",
       "      <td>6.000000</td>\n",
       "      <td>0.0</td>\n",
       "      <td>0.000000</td>\n",
       "      <td>0.0</td>\n",
       "      <td>0.0</td>\n",
       "      <td>0.0</td>\n",
       "      <td>0.0</td>\n",
       "      <td>0.0</td>\n",
       "      <td>1.0</td>\n",
       "      <td>0.0</td>\n",
       "    </tr>\n",
       "    <tr>\n",
       "      <th>50%</th>\n",
       "      <td>313253.000000</td>\n",
       "      <td>NaN</td>\n",
       "      <td>0.000000</td>\n",
       "      <td>NaN</td>\n",
       "      <td>0.000000</td>\n",
       "      <td>NaN</td>\n",
       "      <td>0.000000</td>\n",
       "      <td>NaN</td>\n",
       "      <td>0.0</td>\n",
       "      <td>NaN</td>\n",
       "      <td>...</td>\n",
       "      <td>12.000000</td>\n",
       "      <td>0.0</td>\n",
       "      <td>0.000000</td>\n",
       "      <td>0.0</td>\n",
       "      <td>0.0</td>\n",
       "      <td>0.0</td>\n",
       "      <td>0.0</td>\n",
       "      <td>0.0</td>\n",
       "      <td>1.0</td>\n",
       "      <td>0.0</td>\n",
       "    </tr>\n",
       "    <tr>\n",
       "      <th>75%</th>\n",
       "      <td>469873.500000</td>\n",
       "      <td>NaN</td>\n",
       "      <td>1.000000</td>\n",
       "      <td>NaN</td>\n",
       "      <td>1.000000</td>\n",
       "      <td>NaN</td>\n",
       "      <td>1.000000</td>\n",
       "      <td>NaN</td>\n",
       "      <td>0.0</td>\n",
       "      <td>NaN</td>\n",
       "      <td>...</td>\n",
       "      <td>18.000000</td>\n",
       "      <td>0.0</td>\n",
       "      <td>0.000000</td>\n",
       "      <td>0.0</td>\n",
       "      <td>0.0</td>\n",
       "      <td>0.0</td>\n",
       "      <td>0.0</td>\n",
       "      <td>0.0</td>\n",
       "      <td>1.0</td>\n",
       "      <td>0.0</td>\n",
       "    </tr>\n",
       "    <tr>\n",
       "      <th>max</th>\n",
       "      <td>626498.000000</td>\n",
       "      <td>3.187210</td>\n",
       "      <td>1.000000</td>\n",
       "      <td>32.343727</td>\n",
       "      <td>1.000000</td>\n",
       "      <td>104.502219</td>\n",
       "      <td>1.000000</td>\n",
       "      <td>NaN</td>\n",
       "      <td>0.0</td>\n",
       "      <td>NaN</td>\n",
       "      <td>...</td>\n",
       "      <td>23.000000</td>\n",
       "      <td>0.0</td>\n",
       "      <td>2.000000</td>\n",
       "      <td>0.0</td>\n",
       "      <td>0.0</td>\n",
       "      <td>0.0</td>\n",
       "      <td>0.0</td>\n",
       "      <td>0.0</td>\n",
       "      <td>1.0</td>\n",
       "      <td>0.0</td>\n",
       "    </tr>\n",
       "  </tbody>\n",
       "</table>\n",
       "<p>8 rows × 23 columns</p>\n",
       "</div>"
      ],
      "text/plain": [
       "          Unnamed: 0          PM10  PM10_null_pointers            CO  \\\n",
       "count   89500.000000  23125.000000        89500.000000  30154.000000   \n",
       "mean   313249.480659     -0.509751            0.258380     -0.251207   \n",
       "std    180855.969433      0.913344            0.437746      0.294781   \n",
       "min         4.000000     -2.569584            0.000000     -0.465316   \n",
       "25%    156627.500000           NaN            0.000000           NaN   \n",
       "50%    313253.000000           NaN            0.000000           NaN   \n",
       "75%    469873.500000           NaN            1.000000           NaN   \n",
       "max    626498.000000      3.187210            1.000000     32.343727   \n",
       "\n",
       "       CO_null_pointers           NO2  NO2_null_pointers   O3  \\\n",
       "count      89500.000000  32369.000000       89500.000000  0.0   \n",
       "mean           0.336916     -0.029195           0.361665  NaN   \n",
       "std            0.472659      1.937834           0.480485  NaN   \n",
       "min            0.000000     -0.777368           0.000000  NaN   \n",
       "25%            0.000000           NaN           0.000000  NaN   \n",
       "50%            0.000000           NaN           0.000000  NaN   \n",
       "75%            1.000000           NaN           1.000000  NaN   \n",
       "max            1.000000    104.502219           1.000000  NaN   \n",
       "\n",
       "       O3_null_pointers  PM25    ...             hour  days_interval  \\\n",
       "count           89500.0   0.0    ...     89500.000000        89500.0   \n",
       "mean                0.0   NaN    ...        11.502346            0.0   \n",
       "std                 0.0   NaN    ...         6.921202            0.0   \n",
       "min                 0.0   NaN    ...         0.000000            0.0   \n",
       "25%                 0.0   NaN    ...         6.000000            0.0   \n",
       "50%                 0.0   NaN    ...        12.000000            0.0   \n",
       "75%                 0.0   NaN    ...        18.000000            0.0   \n",
       "max                 0.0   NaN    ...        23.000000            0.0   \n",
       "\n",
       "       hour_interval   Centar  Gazi Baba   Karpos   Lisice  Miladinovci  \\\n",
       "count   89500.000000  89500.0    89500.0  89500.0  89500.0      89500.0   \n",
       "mean        0.125922      0.0        0.0      0.0      0.0          0.0   \n",
       "std         0.331965      0.0        0.0      0.0      0.0          0.0   \n",
       "min         0.000000      0.0        0.0      0.0      0.0          0.0   \n",
       "25%         0.000000      0.0        0.0      0.0      0.0          0.0   \n",
       "50%         0.000000      0.0        0.0      0.0      0.0          0.0   \n",
       "75%         0.000000      0.0        0.0      0.0      0.0          0.0   \n",
       "max         2.000000      0.0        0.0      0.0      0.0          0.0   \n",
       "\n",
       "       Mrsevci  Rektorat  \n",
       "count  89500.0   89500.0  \n",
       "mean       1.0       0.0  \n",
       "std        0.0       0.0  \n",
       "min        1.0       0.0  \n",
       "25%        1.0       0.0  \n",
       "50%        1.0       0.0  \n",
       "75%        1.0       0.0  \n",
       "max        1.0       0.0  \n",
       "\n",
       "[8 rows x 23 columns]"
      ]
     },
     "execution_count": 74,
     "metadata": {},
     "output_type": "execute_result"
    }
   ],
   "source": [
    "Msevci_loc_data.describe()"
   ]
  },
  {
   "cell_type": "code",
   "execution_count": 75,
   "metadata": {},
   "outputs": [
    {
     "data": {
      "text/plain": [
       "Unnamed: 0                0\n",
       "date                      0\n",
       "PM10                  66375\n",
       "NAME                      0\n",
       "PM10_null_pointers        0\n",
       "CO                    59346\n",
       "CO_null_pointers          0\n",
       "NO2                   57131\n",
       "NO2_null_pointers         0\n",
       "O3                    89500\n",
       "O3_null_pointers          0\n",
       "PM25                  89500\n",
       "PM25_null_pointers        0\n",
       "time                      0\n",
       "month                     0\n",
       "day                       0\n",
       "hour                      0\n",
       "daysInterval              0\n",
       "days_interval             0\n",
       "hour_interval             0\n",
       "Centar                    0\n",
       "Gazi Baba                 0\n",
       "Karpos                    0\n",
       "Lisice                    0\n",
       "Miladinovci               0\n",
       "Mrsevci                   0\n",
       "Rektorat                  0\n",
       "dtype: int64"
      ]
     },
     "execution_count": 75,
     "metadata": {},
     "output_type": "execute_result"
    }
   ],
   "source": [
    "Msevci_loc_data.isnull().sum() # not used too many null values"
   ]
  },
  {
   "cell_type": "code",
   "execution_count": null,
   "metadata": {
    "collapsed": true
   },
   "outputs": [],
   "source": []
  },
  {
   "cell_type": "markdown",
   "metadata": {
    "collapsed": true
   },
   "source": [
    "### Rectorat Loc"
   ]
  },
  {
   "cell_type": "code",
   "execution_count": 76,
   "metadata": {
    "collapsed": true
   },
   "outputs": [],
   "source": [
    "Rektorat_loc_data = All_data[(All_data['Rektorat']==1) ].copy(deep=True) # for Lisce location"
   ]
  },
  {
   "cell_type": "code",
   "execution_count": 77,
   "metadata": {},
   "outputs": [
    {
     "name": "stderr",
     "output_type": "stream",
     "text": [
      "//anaconda/envs/seychelles/lib/python3.5/site-packages/numpy/lib/function_base.py:3834: RuntimeWarning: Invalid value encountered in percentile\n",
      "  RuntimeWarning)\n"
     ]
    },
    {
     "data": {
      "text/html": [
       "<div>\n",
       "<table border=\"1\" class=\"dataframe\">\n",
       "  <thead>\n",
       "    <tr style=\"text-align: right;\">\n",
       "      <th></th>\n",
       "      <th>Unnamed: 0</th>\n",
       "      <th>PM10</th>\n",
       "      <th>PM10_null_pointers</th>\n",
       "      <th>CO</th>\n",
       "      <th>CO_null_pointers</th>\n",
       "      <th>NO2</th>\n",
       "      <th>NO2_null_pointers</th>\n",
       "      <th>O3</th>\n",
       "      <th>O3_null_pointers</th>\n",
       "      <th>PM25</th>\n",
       "      <th>...</th>\n",
       "      <th>hour</th>\n",
       "      <th>days_interval</th>\n",
       "      <th>hour_interval</th>\n",
       "      <th>Centar</th>\n",
       "      <th>Gazi Baba</th>\n",
       "      <th>Karpos</th>\n",
       "      <th>Lisice</th>\n",
       "      <th>Miladinovci</th>\n",
       "      <th>Mrsevci</th>\n",
       "      <th>Rektorat</th>\n",
       "    </tr>\n",
       "  </thead>\n",
       "  <tbody>\n",
       "    <tr>\n",
       "      <th>count</th>\n",
       "      <td>89500.000000</td>\n",
       "      <td>73818.000000</td>\n",
       "      <td>89500.000000</td>\n",
       "      <td>52723.000000</td>\n",
       "      <td>89500.000000</td>\n",
       "      <td>27788.000000</td>\n",
       "      <td>89500.000000</td>\n",
       "      <td>70476.000000</td>\n",
       "      <td>89500.000000</td>\n",
       "      <td>0.0</td>\n",
       "      <td>...</td>\n",
       "      <td>89500.000000</td>\n",
       "      <td>89500.0</td>\n",
       "      <td>89500.000000</td>\n",
       "      <td>89500.0</td>\n",
       "      <td>89500.0</td>\n",
       "      <td>89500.0</td>\n",
       "      <td>89500.0</td>\n",
       "      <td>89500.0</td>\n",
       "      <td>89500.0</td>\n",
       "      <td>89500.0</td>\n",
       "    </tr>\n",
       "    <tr>\n",
       "      <th>mean</th>\n",
       "      <td>313249.471553</td>\n",
       "      <td>-0.364577</td>\n",
       "      <td>0.824782</td>\n",
       "      <td>0.167835</td>\n",
       "      <td>0.589084</td>\n",
       "      <td>0.180006</td>\n",
       "      <td>0.310480</td>\n",
       "      <td>-0.094448</td>\n",
       "      <td>0.787441</td>\n",
       "      <td>NaN</td>\n",
       "      <td>...</td>\n",
       "      <td>11.502346</td>\n",
       "      <td>0.0</td>\n",
       "      <td>0.096525</td>\n",
       "      <td>0.0</td>\n",
       "      <td>0.0</td>\n",
       "      <td>0.0</td>\n",
       "      <td>0.0</td>\n",
       "      <td>0.0</td>\n",
       "      <td>0.0</td>\n",
       "      <td>1.0</td>\n",
       "    </tr>\n",
       "    <tr>\n",
       "      <th>std</th>\n",
       "      <td>180855.986254</td>\n",
       "      <td>0.845148</td>\n",
       "      <td>0.380155</td>\n",
       "      <td>2.089573</td>\n",
       "      <td>0.492003</td>\n",
       "      <td>0.717749</td>\n",
       "      <td>0.462693</td>\n",
       "      <td>0.951282</td>\n",
       "      <td>0.409120</td>\n",
       "      <td>NaN</td>\n",
       "      <td>...</td>\n",
       "      <td>6.921202</td>\n",
       "      <td>0.0</td>\n",
       "      <td>0.295463</td>\n",
       "      <td>0.0</td>\n",
       "      <td>0.0</td>\n",
       "      <td>0.0</td>\n",
       "      <td>0.0</td>\n",
       "      <td>0.0</td>\n",
       "      <td>0.0</td>\n",
       "      <td>0.0</td>\n",
       "    </tr>\n",
       "    <tr>\n",
       "      <th>min</th>\n",
       "      <td>3.000000</td>\n",
       "      <td>-2.573820</td>\n",
       "      <td>0.000000</td>\n",
       "      <td>-0.465316</td>\n",
       "      <td>0.000000</td>\n",
       "      <td>-0.777675</td>\n",
       "      <td>0.000000</td>\n",
       "      <td>-1.057042</td>\n",
       "      <td>0.000000</td>\n",
       "      <td>NaN</td>\n",
       "      <td>...</td>\n",
       "      <td>0.000000</td>\n",
       "      <td>0.0</td>\n",
       "      <td>0.000000</td>\n",
       "      <td>0.0</td>\n",
       "      <td>0.0</td>\n",
       "      <td>0.0</td>\n",
       "      <td>0.0</td>\n",
       "      <td>0.0</td>\n",
       "      <td>0.0</td>\n",
       "      <td>1.0</td>\n",
       "    </tr>\n",
       "    <tr>\n",
       "      <th>25%</th>\n",
       "      <td>156625.500000</td>\n",
       "      <td>NaN</td>\n",
       "      <td>1.000000</td>\n",
       "      <td>NaN</td>\n",
       "      <td>0.000000</td>\n",
       "      <td>NaN</td>\n",
       "      <td>0.000000</td>\n",
       "      <td>NaN</td>\n",
       "      <td>1.000000</td>\n",
       "      <td>NaN</td>\n",
       "      <td>...</td>\n",
       "      <td>6.000000</td>\n",
       "      <td>0.0</td>\n",
       "      <td>0.000000</td>\n",
       "      <td>0.0</td>\n",
       "      <td>0.0</td>\n",
       "      <td>0.0</td>\n",
       "      <td>0.0</td>\n",
       "      <td>0.0</td>\n",
       "      <td>0.0</td>\n",
       "      <td>1.0</td>\n",
       "    </tr>\n",
       "    <tr>\n",
       "      <th>50%</th>\n",
       "      <td>313250.500000</td>\n",
       "      <td>NaN</td>\n",
       "      <td>1.000000</td>\n",
       "      <td>NaN</td>\n",
       "      <td>1.000000</td>\n",
       "      <td>NaN</td>\n",
       "      <td>0.000000</td>\n",
       "      <td>NaN</td>\n",
       "      <td>1.000000</td>\n",
       "      <td>NaN</td>\n",
       "      <td>...</td>\n",
       "      <td>12.000000</td>\n",
       "      <td>0.0</td>\n",
       "      <td>0.000000</td>\n",
       "      <td>0.0</td>\n",
       "      <td>0.0</td>\n",
       "      <td>0.0</td>\n",
       "      <td>0.0</td>\n",
       "      <td>0.0</td>\n",
       "      <td>0.0</td>\n",
       "      <td>1.0</td>\n",
       "    </tr>\n",
       "    <tr>\n",
       "      <th>75%</th>\n",
       "      <td>469871.000000</td>\n",
       "      <td>NaN</td>\n",
       "      <td>1.000000</td>\n",
       "      <td>NaN</td>\n",
       "      <td>1.000000</td>\n",
       "      <td>NaN</td>\n",
       "      <td>1.000000</td>\n",
       "      <td>NaN</td>\n",
       "      <td>1.000000</td>\n",
       "      <td>NaN</td>\n",
       "      <td>...</td>\n",
       "      <td>18.000000</td>\n",
       "      <td>0.0</td>\n",
       "      <td>0.000000</td>\n",
       "      <td>0.0</td>\n",
       "      <td>0.0</td>\n",
       "      <td>0.0</td>\n",
       "      <td>0.0</td>\n",
       "      <td>0.0</td>\n",
       "      <td>0.0</td>\n",
       "      <td>1.0</td>\n",
       "    </tr>\n",
       "    <tr>\n",
       "      <th>max</th>\n",
       "      <td>626493.000000</td>\n",
       "      <td>3.182633</td>\n",
       "      <td>1.000000</td>\n",
       "      <td>31.331459</td>\n",
       "      <td>1.000000</td>\n",
       "      <td>6.174287</td>\n",
       "      <td>1.000000</td>\n",
       "      <td>6.582919</td>\n",
       "      <td>1.000000</td>\n",
       "      <td>NaN</td>\n",
       "      <td>...</td>\n",
       "      <td>23.000000</td>\n",
       "      <td>0.0</td>\n",
       "      <td>2.000000</td>\n",
       "      <td>0.0</td>\n",
       "      <td>0.0</td>\n",
       "      <td>0.0</td>\n",
       "      <td>0.0</td>\n",
       "      <td>0.0</td>\n",
       "      <td>0.0</td>\n",
       "      <td>1.0</td>\n",
       "    </tr>\n",
       "  </tbody>\n",
       "</table>\n",
       "<p>8 rows × 23 columns</p>\n",
       "</div>"
      ],
      "text/plain": [
       "          Unnamed: 0          PM10  PM10_null_pointers            CO  \\\n",
       "count   89500.000000  73818.000000        89500.000000  52723.000000   \n",
       "mean   313249.471553     -0.364577            0.824782      0.167835   \n",
       "std    180855.986254      0.845148            0.380155      2.089573   \n",
       "min         3.000000     -2.573820            0.000000     -0.465316   \n",
       "25%    156625.500000           NaN            1.000000           NaN   \n",
       "50%    313250.500000           NaN            1.000000           NaN   \n",
       "75%    469871.000000           NaN            1.000000           NaN   \n",
       "max    626493.000000      3.182633            1.000000     31.331459   \n",
       "\n",
       "       CO_null_pointers           NO2  NO2_null_pointers            O3  \\\n",
       "count      89500.000000  27788.000000       89500.000000  70476.000000   \n",
       "mean           0.589084      0.180006           0.310480     -0.094448   \n",
       "std            0.492003      0.717749           0.462693      0.951282   \n",
       "min            0.000000     -0.777675           0.000000     -1.057042   \n",
       "25%            0.000000           NaN           0.000000           NaN   \n",
       "50%            1.000000           NaN           0.000000           NaN   \n",
       "75%            1.000000           NaN           1.000000           NaN   \n",
       "max            1.000000      6.174287           1.000000      6.582919   \n",
       "\n",
       "       O3_null_pointers  PM25    ...             hour  days_interval  \\\n",
       "count      89500.000000   0.0    ...     89500.000000        89500.0   \n",
       "mean           0.787441   NaN    ...        11.502346            0.0   \n",
       "std            0.409120   NaN    ...         6.921202            0.0   \n",
       "min            0.000000   NaN    ...         0.000000            0.0   \n",
       "25%            1.000000   NaN    ...         6.000000            0.0   \n",
       "50%            1.000000   NaN    ...        12.000000            0.0   \n",
       "75%            1.000000   NaN    ...        18.000000            0.0   \n",
       "max            1.000000   NaN    ...        23.000000            0.0   \n",
       "\n",
       "       hour_interval   Centar  Gazi Baba   Karpos   Lisice  Miladinovci  \\\n",
       "count   89500.000000  89500.0    89500.0  89500.0  89500.0      89500.0   \n",
       "mean        0.096525      0.0        0.0      0.0      0.0          0.0   \n",
       "std         0.295463      0.0        0.0      0.0      0.0          0.0   \n",
       "min         0.000000      0.0        0.0      0.0      0.0          0.0   \n",
       "25%         0.000000      0.0        0.0      0.0      0.0          0.0   \n",
       "50%         0.000000      0.0        0.0      0.0      0.0          0.0   \n",
       "75%         0.000000      0.0        0.0      0.0      0.0          0.0   \n",
       "max         2.000000      0.0        0.0      0.0      0.0          0.0   \n",
       "\n",
       "       Mrsevci  Rektorat  \n",
       "count  89500.0   89500.0  \n",
       "mean       0.0       1.0  \n",
       "std        0.0       0.0  \n",
       "min        0.0       1.0  \n",
       "25%        0.0       1.0  \n",
       "50%        0.0       1.0  \n",
       "75%        0.0       1.0  \n",
       "max        0.0       1.0  \n",
       "\n",
       "[8 rows x 23 columns]"
      ]
     },
     "execution_count": 77,
     "metadata": {},
     "output_type": "execute_result"
    }
   ],
   "source": [
    "Rektorat_loc_data.describe()"
   ]
  },
  {
   "cell_type": "code",
   "execution_count": 78,
   "metadata": {},
   "outputs": [
    {
     "data": {
      "text/plain": [
       "Unnamed: 0                0\n",
       "date                      0\n",
       "PM10                  15682\n",
       "NAME                      0\n",
       "PM10_null_pointers        0\n",
       "CO                    36777\n",
       "CO_null_pointers          0\n",
       "NO2                   61712\n",
       "NO2_null_pointers         0\n",
       "O3                    19024\n",
       "O3_null_pointers          0\n",
       "PM25                  89500\n",
       "PM25_null_pointers        0\n",
       "time                      0\n",
       "month                     0\n",
       "day                       0\n",
       "hour                      0\n",
       "daysInterval              0\n",
       "days_interval             0\n",
       "hour_interval             0\n",
       "Centar                    0\n",
       "Gazi Baba                 0\n",
       "Karpos                    0\n",
       "Lisice                    0\n",
       "Miladinovci               0\n",
       "Mrsevci                   0\n",
       "Rektorat                  0\n",
       "dtype: int64"
      ]
     },
     "execution_count": 78,
     "metadata": {},
     "output_type": "execute_result"
    }
   ],
   "source": [
    "Rektorat_loc_data.isnull().sum()"
   ]
  },
  {
   "cell_type": "code",
   "execution_count": 79,
   "metadata": {
    "collapsed": true
   },
   "outputs": [],
   "source": [
    "Rektorat_loc_data.drop(['PM25','PM25_null_pointers','NO2','NO2_null_pointers'],axis=1,inplace=True)"
   ]
  },
  {
   "cell_type": "code",
   "execution_count": 80,
   "metadata": {},
   "outputs": [
    {
     "name": "stderr",
     "output_type": "stream",
     "text": [
      "//anaconda/envs/seychelles/lib/python3.5/site-packages/numpy/lib/function_base.py:3834: RuntimeWarning: Invalid value encountered in percentile\n",
      "  RuntimeWarning)\n"
     ]
    },
    {
     "data": {
      "text/html": [
       "<div>\n",
       "<table border=\"1\" class=\"dataframe\">\n",
       "  <thead>\n",
       "    <tr style=\"text-align: right;\">\n",
       "      <th></th>\n",
       "      <th>Unnamed: 0</th>\n",
       "      <th>PM10</th>\n",
       "      <th>PM10_null_pointers</th>\n",
       "      <th>CO</th>\n",
       "      <th>CO_null_pointers</th>\n",
       "      <th>O3</th>\n",
       "      <th>O3_null_pointers</th>\n",
       "      <th>month</th>\n",
       "      <th>day</th>\n",
       "      <th>hour</th>\n",
       "      <th>days_interval</th>\n",
       "      <th>hour_interval</th>\n",
       "      <th>Centar</th>\n",
       "      <th>Gazi Baba</th>\n",
       "      <th>Karpos</th>\n",
       "      <th>Lisice</th>\n",
       "      <th>Miladinovci</th>\n",
       "      <th>Mrsevci</th>\n",
       "      <th>Rektorat</th>\n",
       "    </tr>\n",
       "  </thead>\n",
       "  <tbody>\n",
       "    <tr>\n",
       "      <th>count</th>\n",
       "      <td>89500.000000</td>\n",
       "      <td>73818.000000</td>\n",
       "      <td>89500.000000</td>\n",
       "      <td>52723.000000</td>\n",
       "      <td>89500.000000</td>\n",
       "      <td>70476.000000</td>\n",
       "      <td>89500.000000</td>\n",
       "      <td>89500.000000</td>\n",
       "      <td>89500.000000</td>\n",
       "      <td>89500.000000</td>\n",
       "      <td>89500.0</td>\n",
       "      <td>89500.000000</td>\n",
       "      <td>89500.0</td>\n",
       "      <td>89500.0</td>\n",
       "      <td>89500.0</td>\n",
       "      <td>89500.0</td>\n",
       "      <td>89500.0</td>\n",
       "      <td>89500.0</td>\n",
       "      <td>89500.0</td>\n",
       "    </tr>\n",
       "    <tr>\n",
       "      <th>mean</th>\n",
       "      <td>313249.471553</td>\n",
       "      <td>-0.364577</td>\n",
       "      <td>0.824782</td>\n",
       "      <td>0.167835</td>\n",
       "      <td>0.589084</td>\n",
       "      <td>-0.094448</td>\n",
       "      <td>0.787441</td>\n",
       "      <td>6.408492</td>\n",
       "      <td>15.637564</td>\n",
       "      <td>11.502346</td>\n",
       "      <td>0.0</td>\n",
       "      <td>0.096525</td>\n",
       "      <td>0.0</td>\n",
       "      <td>0.0</td>\n",
       "      <td>0.0</td>\n",
       "      <td>0.0</td>\n",
       "      <td>0.0</td>\n",
       "      <td>0.0</td>\n",
       "      <td>1.0</td>\n",
       "    </tr>\n",
       "    <tr>\n",
       "      <th>std</th>\n",
       "      <td>180855.986254</td>\n",
       "      <td>0.845148</td>\n",
       "      <td>0.380155</td>\n",
       "      <td>2.089573</td>\n",
       "      <td>0.492003</td>\n",
       "      <td>0.951282</td>\n",
       "      <td>0.409120</td>\n",
       "      <td>3.502213</td>\n",
       "      <td>8.864868</td>\n",
       "      <td>6.921202</td>\n",
       "      <td>0.0</td>\n",
       "      <td>0.295463</td>\n",
       "      <td>0.0</td>\n",
       "      <td>0.0</td>\n",
       "      <td>0.0</td>\n",
       "      <td>0.0</td>\n",
       "      <td>0.0</td>\n",
       "      <td>0.0</td>\n",
       "      <td>0.0</td>\n",
       "    </tr>\n",
       "    <tr>\n",
       "      <th>min</th>\n",
       "      <td>3.000000</td>\n",
       "      <td>-2.573820</td>\n",
       "      <td>0.000000</td>\n",
       "      <td>-0.465316</td>\n",
       "      <td>0.000000</td>\n",
       "      <td>-1.057042</td>\n",
       "      <td>0.000000</td>\n",
       "      <td>1.000000</td>\n",
       "      <td>1.000000</td>\n",
       "      <td>0.000000</td>\n",
       "      <td>0.0</td>\n",
       "      <td>0.000000</td>\n",
       "      <td>0.0</td>\n",
       "      <td>0.0</td>\n",
       "      <td>0.0</td>\n",
       "      <td>0.0</td>\n",
       "      <td>0.0</td>\n",
       "      <td>0.0</td>\n",
       "      <td>1.0</td>\n",
       "    </tr>\n",
       "    <tr>\n",
       "      <th>25%</th>\n",
       "      <td>156625.500000</td>\n",
       "      <td>NaN</td>\n",
       "      <td>1.000000</td>\n",
       "      <td>NaN</td>\n",
       "      <td>0.000000</td>\n",
       "      <td>NaN</td>\n",
       "      <td>1.000000</td>\n",
       "      <td>3.000000</td>\n",
       "      <td>8.000000</td>\n",
       "      <td>6.000000</td>\n",
       "      <td>0.0</td>\n",
       "      <td>0.000000</td>\n",
       "      <td>0.0</td>\n",
       "      <td>0.0</td>\n",
       "      <td>0.0</td>\n",
       "      <td>0.0</td>\n",
       "      <td>0.0</td>\n",
       "      <td>0.0</td>\n",
       "      <td>1.0</td>\n",
       "    </tr>\n",
       "    <tr>\n",
       "      <th>50%</th>\n",
       "      <td>313250.500000</td>\n",
       "      <td>NaN</td>\n",
       "      <td>1.000000</td>\n",
       "      <td>NaN</td>\n",
       "      <td>1.000000</td>\n",
       "      <td>NaN</td>\n",
       "      <td>1.000000</td>\n",
       "      <td>6.000000</td>\n",
       "      <td>16.000000</td>\n",
       "      <td>12.000000</td>\n",
       "      <td>0.0</td>\n",
       "      <td>0.000000</td>\n",
       "      <td>0.0</td>\n",
       "      <td>0.0</td>\n",
       "      <td>0.0</td>\n",
       "      <td>0.0</td>\n",
       "      <td>0.0</td>\n",
       "      <td>0.0</td>\n",
       "      <td>1.0</td>\n",
       "    </tr>\n",
       "    <tr>\n",
       "      <th>75%</th>\n",
       "      <td>469871.000000</td>\n",
       "      <td>NaN</td>\n",
       "      <td>1.000000</td>\n",
       "      <td>NaN</td>\n",
       "      <td>1.000000</td>\n",
       "      <td>NaN</td>\n",
       "      <td>1.000000</td>\n",
       "      <td>9.000000</td>\n",
       "      <td>23.000000</td>\n",
       "      <td>18.000000</td>\n",
       "      <td>0.0</td>\n",
       "      <td>0.000000</td>\n",
       "      <td>0.0</td>\n",
       "      <td>0.0</td>\n",
       "      <td>0.0</td>\n",
       "      <td>0.0</td>\n",
       "      <td>0.0</td>\n",
       "      <td>0.0</td>\n",
       "      <td>1.0</td>\n",
       "    </tr>\n",
       "    <tr>\n",
       "      <th>max</th>\n",
       "      <td>626493.000000</td>\n",
       "      <td>3.182633</td>\n",
       "      <td>1.000000</td>\n",
       "      <td>31.331459</td>\n",
       "      <td>1.000000</td>\n",
       "      <td>6.582919</td>\n",
       "      <td>1.000000</td>\n",
       "      <td>12.000000</td>\n",
       "      <td>31.000000</td>\n",
       "      <td>23.000000</td>\n",
       "      <td>0.0</td>\n",
       "      <td>2.000000</td>\n",
       "      <td>0.0</td>\n",
       "      <td>0.0</td>\n",
       "      <td>0.0</td>\n",
       "      <td>0.0</td>\n",
       "      <td>0.0</td>\n",
       "      <td>0.0</td>\n",
       "      <td>1.0</td>\n",
       "    </tr>\n",
       "  </tbody>\n",
       "</table>\n",
       "</div>"
      ],
      "text/plain": [
       "          Unnamed: 0          PM10  PM10_null_pointers            CO  \\\n",
       "count   89500.000000  73818.000000        89500.000000  52723.000000   \n",
       "mean   313249.471553     -0.364577            0.824782      0.167835   \n",
       "std    180855.986254      0.845148            0.380155      2.089573   \n",
       "min         3.000000     -2.573820            0.000000     -0.465316   \n",
       "25%    156625.500000           NaN            1.000000           NaN   \n",
       "50%    313250.500000           NaN            1.000000           NaN   \n",
       "75%    469871.000000           NaN            1.000000           NaN   \n",
       "max    626493.000000      3.182633            1.000000     31.331459   \n",
       "\n",
       "       CO_null_pointers            O3  O3_null_pointers         month  \\\n",
       "count      89500.000000  70476.000000      89500.000000  89500.000000   \n",
       "mean           0.589084     -0.094448          0.787441      6.408492   \n",
       "std            0.492003      0.951282          0.409120      3.502213   \n",
       "min            0.000000     -1.057042          0.000000      1.000000   \n",
       "25%            0.000000           NaN          1.000000      3.000000   \n",
       "50%            1.000000           NaN          1.000000      6.000000   \n",
       "75%            1.000000           NaN          1.000000      9.000000   \n",
       "max            1.000000      6.582919          1.000000     12.000000   \n",
       "\n",
       "                day          hour  days_interval  hour_interval   Centar  \\\n",
       "count  89500.000000  89500.000000        89500.0   89500.000000  89500.0   \n",
       "mean      15.637564     11.502346            0.0       0.096525      0.0   \n",
       "std        8.864868      6.921202            0.0       0.295463      0.0   \n",
       "min        1.000000      0.000000            0.0       0.000000      0.0   \n",
       "25%        8.000000      6.000000            0.0       0.000000      0.0   \n",
       "50%       16.000000     12.000000            0.0       0.000000      0.0   \n",
       "75%       23.000000     18.000000            0.0       0.000000      0.0   \n",
       "max       31.000000     23.000000            0.0       2.000000      0.0   \n",
       "\n",
       "       Gazi Baba   Karpos   Lisice  Miladinovci  Mrsevci  Rektorat  \n",
       "count    89500.0  89500.0  89500.0      89500.0  89500.0   89500.0  \n",
       "mean         0.0      0.0      0.0          0.0      0.0       1.0  \n",
       "std          0.0      0.0      0.0          0.0      0.0       0.0  \n",
       "min          0.0      0.0      0.0          0.0      0.0       1.0  \n",
       "25%          0.0      0.0      0.0          0.0      0.0       1.0  \n",
       "50%          0.0      0.0      0.0          0.0      0.0       1.0  \n",
       "75%          0.0      0.0      0.0          0.0      0.0       1.0  \n",
       "max          0.0      0.0      0.0          0.0      0.0       1.0  "
      ]
     },
     "execution_count": 80,
     "metadata": {},
     "output_type": "execute_result"
    }
   ],
   "source": [
    "Rektorat_loc_data.describe()"
   ]
  },
  {
   "cell_type": "code",
   "execution_count": 81,
   "metadata": {
    "collapsed": true
   },
   "outputs": [],
   "source": [
    "Rektorat_loc_data.fillna(method='ffill',inplace=True); # forward fill\n",
    "#Gazi_loc_data.fillna(method='bfill',inplace=True); # backward fill\n",
    "Rektorat_loc_data.fillna(Lisice_loc_data.median(),inplace=True);"
   ]
  },
  {
   "cell_type": "code",
   "execution_count": 82,
   "metadata": {},
   "outputs": [
    {
     "data": {
      "text/html": [
       "<div>\n",
       "<table border=\"1\" class=\"dataframe\">\n",
       "  <thead>\n",
       "    <tr style=\"text-align: right;\">\n",
       "      <th></th>\n",
       "      <th>Unnamed: 0</th>\n",
       "      <th>PM10</th>\n",
       "      <th>PM10_null_pointers</th>\n",
       "      <th>CO</th>\n",
       "      <th>CO_null_pointers</th>\n",
       "      <th>O3</th>\n",
       "      <th>O3_null_pointers</th>\n",
       "      <th>month</th>\n",
       "      <th>day</th>\n",
       "      <th>hour</th>\n",
       "      <th>days_interval</th>\n",
       "      <th>hour_interval</th>\n",
       "      <th>Centar</th>\n",
       "      <th>Gazi Baba</th>\n",
       "      <th>Karpos</th>\n",
       "      <th>Lisice</th>\n",
       "      <th>Miladinovci</th>\n",
       "      <th>Mrsevci</th>\n",
       "      <th>Rektorat</th>\n",
       "    </tr>\n",
       "  </thead>\n",
       "  <tbody>\n",
       "    <tr>\n",
       "      <th>count</th>\n",
       "      <td>89500.000000</td>\n",
       "      <td>89500.000000</td>\n",
       "      <td>89500.000000</td>\n",
       "      <td>89500.000000</td>\n",
       "      <td>89500.000000</td>\n",
       "      <td>89500.000000</td>\n",
       "      <td>89500.000000</td>\n",
       "      <td>89500.000000</td>\n",
       "      <td>89500.000000</td>\n",
       "      <td>89500.000000</td>\n",
       "      <td>89500.0</td>\n",
       "      <td>89500.000000</td>\n",
       "      <td>89500.0</td>\n",
       "      <td>89500.0</td>\n",
       "      <td>89500.0</td>\n",
       "      <td>89500.0</td>\n",
       "      <td>89500.0</td>\n",
       "      <td>89500.0</td>\n",
       "      <td>89500.0</td>\n",
       "    </tr>\n",
       "    <tr>\n",
       "      <th>mean</th>\n",
       "      <td>313249.471553</td>\n",
       "      <td>-0.296332</td>\n",
       "      <td>0.824782</td>\n",
       "      <td>1.239858</td>\n",
       "      <td>0.589084</td>\n",
       "      <td>-0.102220</td>\n",
       "      <td>0.787441</td>\n",
       "      <td>6.408492</td>\n",
       "      <td>15.637564</td>\n",
       "      <td>11.502346</td>\n",
       "      <td>0.0</td>\n",
       "      <td>0.096525</td>\n",
       "      <td>0.0</td>\n",
       "      <td>0.0</td>\n",
       "      <td>0.0</td>\n",
       "      <td>0.0</td>\n",
       "      <td>0.0</td>\n",
       "      <td>0.0</td>\n",
       "      <td>1.0</td>\n",
       "    </tr>\n",
       "    <tr>\n",
       "      <th>std</th>\n",
       "      <td>180855.986254</td>\n",
       "      <td>0.860412</td>\n",
       "      <td>0.380155</td>\n",
       "      <td>5.692331</td>\n",
       "      <td>0.492003</td>\n",
       "      <td>0.909601</td>\n",
       "      <td>0.409120</td>\n",
       "      <td>3.502213</td>\n",
       "      <td>8.864868</td>\n",
       "      <td>6.921202</td>\n",
       "      <td>0.0</td>\n",
       "      <td>0.295463</td>\n",
       "      <td>0.0</td>\n",
       "      <td>0.0</td>\n",
       "      <td>0.0</td>\n",
       "      <td>0.0</td>\n",
       "      <td>0.0</td>\n",
       "      <td>0.0</td>\n",
       "      <td>0.0</td>\n",
       "    </tr>\n",
       "    <tr>\n",
       "      <th>min</th>\n",
       "      <td>3.000000</td>\n",
       "      <td>-2.573820</td>\n",
       "      <td>0.000000</td>\n",
       "      <td>-0.465316</td>\n",
       "      <td>0.000000</td>\n",
       "      <td>-1.057042</td>\n",
       "      <td>0.000000</td>\n",
       "      <td>1.000000</td>\n",
       "      <td>1.000000</td>\n",
       "      <td>0.000000</td>\n",
       "      <td>0.0</td>\n",
       "      <td>0.000000</td>\n",
       "      <td>0.0</td>\n",
       "      <td>0.0</td>\n",
       "      <td>0.0</td>\n",
       "      <td>0.0</td>\n",
       "      <td>0.0</td>\n",
       "      <td>0.0</td>\n",
       "      <td>1.0</td>\n",
       "    </tr>\n",
       "    <tr>\n",
       "      <th>25%</th>\n",
       "      <td>156625.500000</td>\n",
       "      <td>-0.823936</td>\n",
       "      <td>1.000000</td>\n",
       "      <td>-0.245509</td>\n",
       "      <td>0.000000</td>\n",
       "      <td>-0.850691</td>\n",
       "      <td>1.000000</td>\n",
       "      <td>3.000000</td>\n",
       "      <td>8.000000</td>\n",
       "      <td>6.000000</td>\n",
       "      <td>0.0</td>\n",
       "      <td>0.000000</td>\n",
       "      <td>0.0</td>\n",
       "      <td>0.0</td>\n",
       "      <td>0.0</td>\n",
       "      <td>0.0</td>\n",
       "      <td>0.0</td>\n",
       "      <td>0.0</td>\n",
       "      <td>1.0</td>\n",
       "    </tr>\n",
       "    <tr>\n",
       "      <th>50%</th>\n",
       "      <td>313250.500000</td>\n",
       "      <td>-0.370381</td>\n",
       "      <td>1.000000</td>\n",
       "      <td>-0.043055</td>\n",
       "      <td>1.000000</td>\n",
       "      <td>-0.449762</td>\n",
       "      <td>1.000000</td>\n",
       "      <td>6.000000</td>\n",
       "      <td>16.000000</td>\n",
       "      <td>12.000000</td>\n",
       "      <td>0.0</td>\n",
       "      <td>0.000000</td>\n",
       "      <td>0.0</td>\n",
       "      <td>0.0</td>\n",
       "      <td>0.0</td>\n",
       "      <td>0.0</td>\n",
       "      <td>0.0</td>\n",
       "      <td>0.0</td>\n",
       "      <td>1.0</td>\n",
       "    </tr>\n",
       "    <tr>\n",
       "      <th>75%</th>\n",
       "      <td>469871.000000</td>\n",
       "      <td>0.195452</td>\n",
       "      <td>1.000000</td>\n",
       "      <td>0.373421</td>\n",
       "      <td>1.000000</td>\n",
       "      <td>0.420571</td>\n",
       "      <td>1.000000</td>\n",
       "      <td>9.000000</td>\n",
       "      <td>23.000000</td>\n",
       "      <td>18.000000</td>\n",
       "      <td>0.0</td>\n",
       "      <td>0.000000</td>\n",
       "      <td>0.0</td>\n",
       "      <td>0.0</td>\n",
       "      <td>0.0</td>\n",
       "      <td>0.0</td>\n",
       "      <td>0.0</td>\n",
       "      <td>0.0</td>\n",
       "      <td>1.0</td>\n",
       "    </tr>\n",
       "    <tr>\n",
       "      <th>max</th>\n",
       "      <td>626493.000000</td>\n",
       "      <td>3.182633</td>\n",
       "      <td>1.000000</td>\n",
       "      <td>31.331459</td>\n",
       "      <td>1.000000</td>\n",
       "      <td>6.582919</td>\n",
       "      <td>1.000000</td>\n",
       "      <td>12.000000</td>\n",
       "      <td>31.000000</td>\n",
       "      <td>23.000000</td>\n",
       "      <td>0.0</td>\n",
       "      <td>2.000000</td>\n",
       "      <td>0.0</td>\n",
       "      <td>0.0</td>\n",
       "      <td>0.0</td>\n",
       "      <td>0.0</td>\n",
       "      <td>0.0</td>\n",
       "      <td>0.0</td>\n",
       "      <td>1.0</td>\n",
       "    </tr>\n",
       "  </tbody>\n",
       "</table>\n",
       "</div>"
      ],
      "text/plain": [
       "          Unnamed: 0          PM10  PM10_null_pointers            CO  \\\n",
       "count   89500.000000  89500.000000        89500.000000  89500.000000   \n",
       "mean   313249.471553     -0.296332            0.824782      1.239858   \n",
       "std    180855.986254      0.860412            0.380155      5.692331   \n",
       "min         3.000000     -2.573820            0.000000     -0.465316   \n",
       "25%    156625.500000     -0.823936            1.000000     -0.245509   \n",
       "50%    313250.500000     -0.370381            1.000000     -0.043055   \n",
       "75%    469871.000000      0.195452            1.000000      0.373421   \n",
       "max    626493.000000      3.182633            1.000000     31.331459   \n",
       "\n",
       "       CO_null_pointers            O3  O3_null_pointers         month  \\\n",
       "count      89500.000000  89500.000000      89500.000000  89500.000000   \n",
       "mean           0.589084     -0.102220          0.787441      6.408492   \n",
       "std            0.492003      0.909601          0.409120      3.502213   \n",
       "min            0.000000     -1.057042          0.000000      1.000000   \n",
       "25%            0.000000     -0.850691          1.000000      3.000000   \n",
       "50%            1.000000     -0.449762          1.000000      6.000000   \n",
       "75%            1.000000      0.420571          1.000000      9.000000   \n",
       "max            1.000000      6.582919          1.000000     12.000000   \n",
       "\n",
       "                day          hour  days_interval  hour_interval   Centar  \\\n",
       "count  89500.000000  89500.000000        89500.0   89500.000000  89500.0   \n",
       "mean      15.637564     11.502346            0.0       0.096525      0.0   \n",
       "std        8.864868      6.921202            0.0       0.295463      0.0   \n",
       "min        1.000000      0.000000            0.0       0.000000      0.0   \n",
       "25%        8.000000      6.000000            0.0       0.000000      0.0   \n",
       "50%       16.000000     12.000000            0.0       0.000000      0.0   \n",
       "75%       23.000000     18.000000            0.0       0.000000      0.0   \n",
       "max       31.000000     23.000000            0.0       2.000000      0.0   \n",
       "\n",
       "       Gazi Baba   Karpos   Lisice  Miladinovci  Mrsevci  Rektorat  \n",
       "count    89500.0  89500.0  89500.0      89500.0  89500.0   89500.0  \n",
       "mean         0.0      0.0      0.0          0.0      0.0       1.0  \n",
       "std          0.0      0.0      0.0          0.0      0.0       0.0  \n",
       "min          0.0      0.0      0.0          0.0      0.0       1.0  \n",
       "25%          0.0      0.0      0.0          0.0      0.0       1.0  \n",
       "50%          0.0      0.0      0.0          0.0      0.0       1.0  \n",
       "75%          0.0      0.0      0.0          0.0      0.0       1.0  \n",
       "max          0.0      0.0      0.0          0.0      0.0       1.0  "
      ]
     },
     "execution_count": 82,
     "metadata": {},
     "output_type": "execute_result"
    }
   ],
   "source": [
    "Rektorat_loc_data.describe()"
   ]
  },
  {
   "cell_type": "code",
   "execution_count": null,
   "metadata": {
    "collapsed": true
   },
   "outputs": [],
   "source": []
  },
  {
   "cell_type": "markdown",
   "metadata": {},
   "source": [
    "### Join the Columns"
   ]
  },
  {
   "cell_type": "code",
   "execution_count": 83,
   "metadata": {
    "collapsed": true
   },
   "outputs": [],
   "source": [
    "def delColumns(DataframeList):\n",
    "    '''\n",
    "    Takes as input the data frames\n",
    "    drop columns of the data frames\n",
    "    '''\n",
    "    DataframeList.drop(['Unnamed: 0','date','day', 'time','Lisice', 'Miladinovci', 'Mrsevci',\n",
    "       'Rektorat','daysInterval','NAME', 'hour_interval', 'days_interval','Centar','Karpos', 'Gazi Baba'],axis=1,inplace=True)\n",
    "    return DataframeList"
   ]
  },
  {
   "cell_type": "code",
   "execution_count": 84,
   "metadata": {
    "collapsed": true
   },
   "outputs": [],
   "source": [
    "delColumns(Lisice_loc_data);delColumns(Centar_loc_data);delColumns(Gazi_loc_data);delColumns(Miladinovic_loc_data);\n",
    "delColumns(Msevci_loc_data);delColumns(Rektorat_loc_data);"
   ]
  },
  {
   "cell_type": "code",
   "execution_count": 85,
   "metadata": {
    "collapsed": true
   },
   "outputs": [],
   "source": [
    "results = pd.concat([features_set,Lisice_loc_data,Gazi_loc_data,Miladinovic_loc_data,\n",
    "                   Rektorat_loc_data], axis=0) # concatenating yields nan because of unequal column length \n",
    "                                               # Solution is to define new func"
   ]
  },
  {
   "cell_type": "code",
   "execution_count": 86,
   "metadata": {},
   "outputs": [
    {
     "name": "stderr",
     "output_type": "stream",
     "text": [
      "//anaconda/envs/seychelles/lib/python3.5/site-packages/numpy/lib/function_base.py:3834: RuntimeWarning: Invalid value encountered in percentile\n",
      "  RuntimeWarning)\n"
     ]
    },
    {
     "data": {
      "text/html": [
       "<div>\n",
       "<table border=\"1\" class=\"dataframe\">\n",
       "  <thead>\n",
       "    <tr style=\"text-align: right;\">\n",
       "      <th></th>\n",
       "      <th>CO</th>\n",
       "      <th>CO_null_pointers</th>\n",
       "      <th>Karpos</th>\n",
       "      <th>NO2</th>\n",
       "      <th>NO2_null_pointers</th>\n",
       "      <th>O3</th>\n",
       "      <th>O3_null_pointers</th>\n",
       "      <th>PM10</th>\n",
       "      <th>PM10_null_pointers</th>\n",
       "      <th>PM25</th>\n",
       "      <th>PM25_null_pointers</th>\n",
       "      <th>hour</th>\n",
       "      <th>month</th>\n",
       "    </tr>\n",
       "  </thead>\n",
       "  <tbody>\n",
       "    <tr>\n",
       "      <th>count</th>\n",
       "      <td>358000.000000</td>\n",
       "      <td>358000.000000</td>\n",
       "      <td>89500.0</td>\n",
       "      <td>179000.000000</td>\n",
       "      <td>179000.000000</td>\n",
       "      <td>358000.000000</td>\n",
       "      <td>358000.000000</td>\n",
       "      <td>447500.000000</td>\n",
       "      <td>447500.000000</td>\n",
       "      <td>89500.000000</td>\n",
       "      <td>89500.000000</td>\n",
       "      <td>447500.000000</td>\n",
       "      <td>447500.000000</td>\n",
       "    </tr>\n",
       "    <tr>\n",
       "      <th>mean</th>\n",
       "      <td>0.409385</td>\n",
       "      <td>0.652662</td>\n",
       "      <td>1.0</td>\n",
       "      <td>-0.092558</td>\n",
       "      <td>0.467989</td>\n",
       "      <td>-0.077320</td>\n",
       "      <td>0.691603</td>\n",
       "      <td>-0.308915</td>\n",
       "      <td>0.671895</td>\n",
       "      <td>0.066293</td>\n",
       "      <td>0.403832</td>\n",
       "      <td>11.502346</td>\n",
       "      <td>6.408492</td>\n",
       "    </tr>\n",
       "    <tr>\n",
       "      <th>std</th>\n",
       "      <td>2.966321</td>\n",
       "      <td>0.476125</td>\n",
       "      <td>0.0</td>\n",
       "      <td>0.611016</td>\n",
       "      <td>0.498976</td>\n",
       "      <td>0.921278</td>\n",
       "      <td>0.461832</td>\n",
       "      <td>0.816643</td>\n",
       "      <td>0.469524</td>\n",
       "      <td>1.220285</td>\n",
       "      <td>0.490667</td>\n",
       "      <td>6.921172</td>\n",
       "      <td>3.502197</td>\n",
       "    </tr>\n",
       "    <tr>\n",
       "      <th>min</th>\n",
       "      <td>-0.465316</td>\n",
       "      <td>0.000000</td>\n",
       "      <td>1.0</td>\n",
       "      <td>-0.777982</td>\n",
       "      <td>0.000000</td>\n",
       "      <td>-1.071914</td>\n",
       "      <td>0.000000</td>\n",
       "      <td>-2.593269</td>\n",
       "      <td>0.000000</td>\n",
       "      <td>-0.860290</td>\n",
       "      <td>0.000000</td>\n",
       "      <td>0.000000</td>\n",
       "      <td>1.000000</td>\n",
       "    </tr>\n",
       "    <tr>\n",
       "      <th>25%</th>\n",
       "      <td>NaN</td>\n",
       "      <td>NaN</td>\n",
       "      <td>NaN</td>\n",
       "      <td>NaN</td>\n",
       "      <td>NaN</td>\n",
       "      <td>NaN</td>\n",
       "      <td>NaN</td>\n",
       "      <td>-0.814716</td>\n",
       "      <td>0.000000</td>\n",
       "      <td>NaN</td>\n",
       "      <td>NaN</td>\n",
       "      <td>6.000000</td>\n",
       "      <td>3.000000</td>\n",
       "    </tr>\n",
       "    <tr>\n",
       "      <th>50%</th>\n",
       "      <td>NaN</td>\n",
       "      <td>NaN</td>\n",
       "      <td>NaN</td>\n",
       "      <td>NaN</td>\n",
       "      <td>NaN</td>\n",
       "      <td>NaN</td>\n",
       "      <td>NaN</td>\n",
       "      <td>-0.349167</td>\n",
       "      <td>1.000000</td>\n",
       "      <td>NaN</td>\n",
       "      <td>NaN</td>\n",
       "      <td>12.000000</td>\n",
       "      <td>6.000000</td>\n",
       "    </tr>\n",
       "    <tr>\n",
       "      <th>75%</th>\n",
       "      <td>NaN</td>\n",
       "      <td>NaN</td>\n",
       "      <td>NaN</td>\n",
       "      <td>NaN</td>\n",
       "      <td>NaN</td>\n",
       "      <td>NaN</td>\n",
       "      <td>NaN</td>\n",
       "      <td>0.140052</td>\n",
       "      <td>1.000000</td>\n",
       "      <td>NaN</td>\n",
       "      <td>NaN</td>\n",
       "      <td>18.000000</td>\n",
       "      <td>9.000000</td>\n",
       "    </tr>\n",
       "    <tr>\n",
       "      <th>max</th>\n",
       "      <td>31.331459</td>\n",
       "      <td>1.000000</td>\n",
       "      <td>1.0</td>\n",
       "      <td>12.230470</td>\n",
       "      <td>1.000000</td>\n",
       "      <td>9.258671</td>\n",
       "      <td>1.000000</td>\n",
       "      <td>3.182633</td>\n",
       "      <td>1.000000</td>\n",
       "      <td>11.020234</td>\n",
       "      <td>1.000000</td>\n",
       "      <td>23.000000</td>\n",
       "      <td>12.000000</td>\n",
       "    </tr>\n",
       "  </tbody>\n",
       "</table>\n",
       "</div>"
      ],
      "text/plain": [
       "                  CO  CO_null_pointers   Karpos            NO2  \\\n",
       "count  358000.000000     358000.000000  89500.0  179000.000000   \n",
       "mean        0.409385          0.652662      1.0      -0.092558   \n",
       "std         2.966321          0.476125      0.0       0.611016   \n",
       "min        -0.465316          0.000000      1.0      -0.777982   \n",
       "25%              NaN               NaN      NaN            NaN   \n",
       "50%              NaN               NaN      NaN            NaN   \n",
       "75%              NaN               NaN      NaN            NaN   \n",
       "max        31.331459          1.000000      1.0      12.230470   \n",
       "\n",
       "       NO2_null_pointers             O3  O3_null_pointers           PM10  \\\n",
       "count      179000.000000  358000.000000     358000.000000  447500.000000   \n",
       "mean            0.467989      -0.077320          0.691603      -0.308915   \n",
       "std             0.498976       0.921278          0.461832       0.816643   \n",
       "min             0.000000      -1.071914          0.000000      -2.593269   \n",
       "25%                  NaN            NaN               NaN      -0.814716   \n",
       "50%                  NaN            NaN               NaN      -0.349167   \n",
       "75%                  NaN            NaN               NaN       0.140052   \n",
       "max             1.000000       9.258671          1.000000       3.182633   \n",
       "\n",
       "       PM10_null_pointers          PM25  PM25_null_pointers           hour  \\\n",
       "count       447500.000000  89500.000000        89500.000000  447500.000000   \n",
       "mean             0.671895      0.066293            0.403832      11.502346   \n",
       "std              0.469524      1.220285            0.490667       6.921172   \n",
       "min              0.000000     -0.860290            0.000000       0.000000   \n",
       "25%              0.000000           NaN                 NaN       6.000000   \n",
       "50%              1.000000           NaN                 NaN      12.000000   \n",
       "75%              1.000000           NaN                 NaN      18.000000   \n",
       "max              1.000000     11.020234            1.000000      23.000000   \n",
       "\n",
       "               month  \n",
       "count  447500.000000  \n",
       "mean        6.408492  \n",
       "std         3.502197  \n",
       "min         1.000000  \n",
       "25%         3.000000  \n",
       "50%         6.000000  \n",
       "75%         9.000000  \n",
       "max        12.000000  "
      ]
     },
     "execution_count": 86,
     "metadata": {},
     "output_type": "execute_result"
    }
   ],
   "source": [
    "results.describe()#null values present"
   ]
  },
  {
   "cell_type": "code",
   "execution_count": 87,
   "metadata": {
    "collapsed": true
   },
   "outputs": [],
   "source": [
    "result = features_set.copy(deep=True);# copy the previous featre set"
   ]
  },
  {
   "cell_type": "code",
   "execution_count": 88,
   "metadata": {},
   "outputs": [
    {
     "data": {
      "text/plain": [
       "(89500, 13)"
      ]
     },
     "execution_count": 88,
     "metadata": {},
     "output_type": "execute_result"
    }
   ],
   "source": [
    "result.shape"
   ]
  },
  {
   "cell_type": "code",
   "execution_count": 89,
   "metadata": {
    "collapsed": true
   },
   "outputs": [],
   "source": [
    "i=0;\n",
    "def concatenator(dataFrame):\n",
    "    '''\n",
    "    Wrote this function so that I can \n",
    "    concatenate two dataframe without \n",
    "    returning Nan when the columns are not equal\n",
    "    Outer and Inner join would be a good candidate for this\n",
    "    task but they return Nan where the columns are not equal. (in breadth and not length)\n",
    "    \n",
    "    Input : dataframe\n",
    "    Output : columns of 'dataframe' are added to 'result' defined above\n",
    "    '''\n",
    "    global i\n",
    "    for x in dataFrame.columns:\n",
    "        result[str(i)+x] = dataFrame[x].values;\n",
    "        i=i+1\n",
    "    return result    "
   ]
  },
  {
   "cell_type": "markdown",
   "metadata": {},
   "source": [
    "<p>Locations to be added to featuire set\n",
    "<li>Lisice_loc_data</li> \n",
    "<li>Gazi_loc_data</li> \n",
    "<li> Miladinovic_loc_data</li> \n",
    "<li> Rektorat_loc_data</li> </p>"
   ]
  },
  {
   "cell_type": "code",
   "execution_count": 90,
   "metadata": {
    "collapsed": true
   },
   "outputs": [],
   "source": [
    "concatenator(Lisice_loc_data);"
   ]
  },
  {
   "cell_type": "code",
   "execution_count": 91,
   "metadata": {},
   "outputs": [
    {
     "data": {
      "text/plain": [
       "(89500, 23)"
      ]
     },
     "execution_count": 91,
     "metadata": {},
     "output_type": "execute_result"
    }
   ],
   "source": [
    "result.shape"
   ]
  },
  {
   "cell_type": "code",
   "execution_count": 92,
   "metadata": {
    "collapsed": true
   },
   "outputs": [],
   "source": [
    "concatenator(Gazi_loc_data);"
   ]
  },
  {
   "cell_type": "code",
   "execution_count": 93,
   "metadata": {},
   "outputs": [
    {
     "data": {
      "text/plain": [
       "(89500, 29)"
      ]
     },
     "execution_count": 93,
     "metadata": {},
     "output_type": "execute_result"
    }
   ],
   "source": [
    "result.shape"
   ]
  },
  {
   "cell_type": "code",
   "execution_count": 94,
   "metadata": {
    "collapsed": true
   },
   "outputs": [],
   "source": [
    "concatenator(Miladinovic_loc_data);"
   ]
  },
  {
   "cell_type": "code",
   "execution_count": 95,
   "metadata": {},
   "outputs": [
    {
     "data": {
      "text/plain": [
       "(89500, 35)"
      ]
     },
     "execution_count": 95,
     "metadata": {},
     "output_type": "execute_result"
    }
   ],
   "source": [
    "result.shape"
   ]
  },
  {
   "cell_type": "code",
   "execution_count": 96,
   "metadata": {
    "collapsed": true
   },
   "outputs": [],
   "source": [
    "concatenator(Rektorat_loc_data);"
   ]
  },
  {
   "cell_type": "code",
   "execution_count": 97,
   "metadata": {},
   "outputs": [
    {
     "data": {
      "text/plain": [
       "(89500, 43)"
      ]
     },
     "execution_count": 97,
     "metadata": {},
     "output_type": "execute_result"
    }
   ],
   "source": [
    "result.shape"
   ]
  },
  {
   "cell_type": "code",
   "execution_count": 98,
   "metadata": {},
   "outputs": [
    {
     "data": {
      "text/html": [
       "<div>\n",
       "<table border=\"1\" class=\"dataframe\">\n",
       "  <thead>\n",
       "    <tr style=\"text-align: right;\">\n",
       "      <th></th>\n",
       "      <th>PM10</th>\n",
       "      <th>PM10_null_pointers</th>\n",
       "      <th>CO</th>\n",
       "      <th>CO_null_pointers</th>\n",
       "      <th>NO2</th>\n",
       "      <th>NO2_null_pointers</th>\n",
       "      <th>O3</th>\n",
       "      <th>O3_null_pointers</th>\n",
       "      <th>PM25</th>\n",
       "      <th>PM25_null_pointers</th>\n",
       "      <th>...</th>\n",
       "      <th>20month</th>\n",
       "      <th>21hour</th>\n",
       "      <th>22PM10</th>\n",
       "      <th>23PM10_null_pointers</th>\n",
       "      <th>24CO</th>\n",
       "      <th>25CO_null_pointers</th>\n",
       "      <th>26O3</th>\n",
       "      <th>27O3_null_pointers</th>\n",
       "      <th>28month</th>\n",
       "      <th>29hour</th>\n",
       "    </tr>\n",
       "  </thead>\n",
       "  <tbody>\n",
       "    <tr>\n",
       "      <th>count</th>\n",
       "      <td>89500.000000</td>\n",
       "      <td>89500.000000</td>\n",
       "      <td>89500.000000</td>\n",
       "      <td>89500.000000</td>\n",
       "      <td>89500.000000</td>\n",
       "      <td>89500.000000</td>\n",
       "      <td>89500.000000</td>\n",
       "      <td>89500.000000</td>\n",
       "      <td>89500.000000</td>\n",
       "      <td>89500.000000</td>\n",
       "      <td>...</td>\n",
       "      <td>89500.000000</td>\n",
       "      <td>89500.000000</td>\n",
       "      <td>89500.000000</td>\n",
       "      <td>89500.000000</td>\n",
       "      <td>89500.000000</td>\n",
       "      <td>89500.000000</td>\n",
       "      <td>89500.000000</td>\n",
       "      <td>89500.000000</td>\n",
       "      <td>89500.000000</td>\n",
       "      <td>89500.000000</td>\n",
       "    </tr>\n",
       "    <tr>\n",
       "      <th>mean</th>\n",
       "      <td>-0.146778</td>\n",
       "      <td>0.677419</td>\n",
       "      <td>0.116768</td>\n",
       "      <td>0.640693</td>\n",
       "      <td>0.016576</td>\n",
       "      <td>0.473296</td>\n",
       "      <td>-0.082381</td>\n",
       "      <td>0.564838</td>\n",
       "      <td>0.066293</td>\n",
       "      <td>0.403832</td>\n",
       "      <td>...</td>\n",
       "      <td>6.408492</td>\n",
       "      <td>11.502346</td>\n",
       "      <td>-0.296332</td>\n",
       "      <td>0.824782</td>\n",
       "      <td>1.239858</td>\n",
       "      <td>0.589084</td>\n",
       "      <td>-0.102220</td>\n",
       "      <td>0.787441</td>\n",
       "      <td>6.408492</td>\n",
       "      <td>11.502346</td>\n",
       "    </tr>\n",
       "    <tr>\n",
       "      <th>std</th>\n",
       "      <td>0.835569</td>\n",
       "      <td>0.467467</td>\n",
       "      <td>0.635884</td>\n",
       "      <td>0.479800</td>\n",
       "      <td>0.510798</td>\n",
       "      <td>0.499289</td>\n",
       "      <td>0.885244</td>\n",
       "      <td>0.495781</td>\n",
       "      <td>1.220285</td>\n",
       "      <td>0.490667</td>\n",
       "      <td>...</td>\n",
       "      <td>3.502213</td>\n",
       "      <td>6.921202</td>\n",
       "      <td>0.860412</td>\n",
       "      <td>0.380155</td>\n",
       "      <td>5.692331</td>\n",
       "      <td>0.492003</td>\n",
       "      <td>0.909601</td>\n",
       "      <td>0.409120</td>\n",
       "      <td>3.502213</td>\n",
       "      <td>6.921202</td>\n",
       "    </tr>\n",
       "    <tr>\n",
       "      <th>min</th>\n",
       "      <td>-2.593269</td>\n",
       "      <td>0.000000</td>\n",
       "      <td>-0.465316</td>\n",
       "      <td>0.000000</td>\n",
       "      <td>-0.775219</td>\n",
       "      <td>0.000000</td>\n",
       "      <td>-1.071914</td>\n",
       "      <td>0.000000</td>\n",
       "      <td>-0.860290</td>\n",
       "      <td>0.000000</td>\n",
       "      <td>...</td>\n",
       "      <td>1.000000</td>\n",
       "      <td>0.000000</td>\n",
       "      <td>-2.573820</td>\n",
       "      <td>0.000000</td>\n",
       "      <td>-0.465316</td>\n",
       "      <td>0.000000</td>\n",
       "      <td>-1.057042</td>\n",
       "      <td>0.000000</td>\n",
       "      <td>1.000000</td>\n",
       "      <td>0.000000</td>\n",
       "    </tr>\n",
       "    <tr>\n",
       "      <th>25%</th>\n",
       "      <td>-0.815893</td>\n",
       "      <td>0.000000</td>\n",
       "      <td>-0.378550</td>\n",
       "      <td>0.000000</td>\n",
       "      <td>-0.214973</td>\n",
       "      <td>0.000000</td>\n",
       "      <td>-0.720869</td>\n",
       "      <td>0.000000</td>\n",
       "      <td>-0.402561</td>\n",
       "      <td>0.000000</td>\n",
       "      <td>...</td>\n",
       "      <td>3.000000</td>\n",
       "      <td>6.000000</td>\n",
       "      <td>-0.823936</td>\n",
       "      <td>1.000000</td>\n",
       "      <td>-0.245509</td>\n",
       "      <td>0.000000</td>\n",
       "      <td>-0.850691</td>\n",
       "      <td>1.000000</td>\n",
       "      <td>3.000000</td>\n",
       "      <td>6.000000</td>\n",
       "    </tr>\n",
       "    <tr>\n",
       "      <th>50%</th>\n",
       "      <td>-0.178067</td>\n",
       "      <td>1.000000</td>\n",
       "      <td>-0.152959</td>\n",
       "      <td>1.000000</td>\n",
       "      <td>-0.094635</td>\n",
       "      <td>0.000000</td>\n",
       "      <td>-0.329545</td>\n",
       "      <td>1.000000</td>\n",
       "      <td>-0.296817</td>\n",
       "      <td>0.000000</td>\n",
       "      <td>...</td>\n",
       "      <td>6.000000</td>\n",
       "      <td>12.000000</td>\n",
       "      <td>-0.370381</td>\n",
       "      <td>1.000000</td>\n",
       "      <td>-0.043055</td>\n",
       "      <td>1.000000</td>\n",
       "      <td>-0.449762</td>\n",
       "      <td>1.000000</td>\n",
       "      <td>6.000000</td>\n",
       "      <td>12.000000</td>\n",
       "    </tr>\n",
       "    <tr>\n",
       "      <th>75%</th>\n",
       "      <td>0.438952</td>\n",
       "      <td>1.000000</td>\n",
       "      <td>0.448618</td>\n",
       "      <td>1.000000</td>\n",
       "      <td>0.044812</td>\n",
       "      <td>1.000000</td>\n",
       "      <td>0.202445</td>\n",
       "      <td>1.000000</td>\n",
       "      <td>-0.148514</td>\n",
       "      <td>1.000000</td>\n",
       "      <td>...</td>\n",
       "      <td>9.000000</td>\n",
       "      <td>18.000000</td>\n",
       "      <td>0.195452</td>\n",
       "      <td>1.000000</td>\n",
       "      <td>0.373421</td>\n",
       "      <td>1.000000</td>\n",
       "      <td>0.420571</td>\n",
       "      <td>1.000000</td>\n",
       "      <td>9.000000</td>\n",
       "      <td>18.000000</td>\n",
       "    </tr>\n",
       "    <tr>\n",
       "      <th>max</th>\n",
       "      <td>2.934737</td>\n",
       "      <td>1.000000</td>\n",
       "      <td>4.243175</td>\n",
       "      <td>1.000000</td>\n",
       "      <td>9.176899</td>\n",
       "      <td>1.000000</td>\n",
       "      <td>9.258671</td>\n",
       "      <td>1.000000</td>\n",
       "      <td>11.020234</td>\n",
       "      <td>1.000000</td>\n",
       "      <td>...</td>\n",
       "      <td>12.000000</td>\n",
       "      <td>23.000000</td>\n",
       "      <td>3.182633</td>\n",
       "      <td>1.000000</td>\n",
       "      <td>31.331459</td>\n",
       "      <td>1.000000</td>\n",
       "      <td>6.582919</td>\n",
       "      <td>1.000000</td>\n",
       "      <td>12.000000</td>\n",
       "      <td>23.000000</td>\n",
       "    </tr>\n",
       "  </tbody>\n",
       "</table>\n",
       "<p>8 rows × 43 columns</p>\n",
       "</div>"
      ],
      "text/plain": [
       "               PM10  PM10_null_pointers            CO  CO_null_pointers  \\\n",
       "count  89500.000000        89500.000000  89500.000000      89500.000000   \n",
       "mean      -0.146778            0.677419      0.116768          0.640693   \n",
       "std        0.835569            0.467467      0.635884          0.479800   \n",
       "min       -2.593269            0.000000     -0.465316          0.000000   \n",
       "25%       -0.815893            0.000000     -0.378550          0.000000   \n",
       "50%       -0.178067            1.000000     -0.152959          1.000000   \n",
       "75%        0.438952            1.000000      0.448618          1.000000   \n",
       "max        2.934737            1.000000      4.243175          1.000000   \n",
       "\n",
       "                NO2  NO2_null_pointers            O3  O3_null_pointers  \\\n",
       "count  89500.000000       89500.000000  89500.000000      89500.000000   \n",
       "mean       0.016576           0.473296     -0.082381          0.564838   \n",
       "std        0.510798           0.499289      0.885244          0.495781   \n",
       "min       -0.775219           0.000000     -1.071914          0.000000   \n",
       "25%       -0.214973           0.000000     -0.720869          0.000000   \n",
       "50%       -0.094635           0.000000     -0.329545          1.000000   \n",
       "75%        0.044812           1.000000      0.202445          1.000000   \n",
       "max        9.176899           1.000000      9.258671          1.000000   \n",
       "\n",
       "               PM25  PM25_null_pointers      ...            20month  \\\n",
       "count  89500.000000        89500.000000      ...       89500.000000   \n",
       "mean       0.066293            0.403832      ...           6.408492   \n",
       "std        1.220285            0.490667      ...           3.502213   \n",
       "min       -0.860290            0.000000      ...           1.000000   \n",
       "25%       -0.402561            0.000000      ...           3.000000   \n",
       "50%       -0.296817            0.000000      ...           6.000000   \n",
       "75%       -0.148514            1.000000      ...           9.000000   \n",
       "max       11.020234            1.000000      ...          12.000000   \n",
       "\n",
       "             21hour        22PM10  23PM10_null_pointers          24CO  \\\n",
       "count  89500.000000  89500.000000          89500.000000  89500.000000   \n",
       "mean      11.502346     -0.296332              0.824782      1.239858   \n",
       "std        6.921202      0.860412              0.380155      5.692331   \n",
       "min        0.000000     -2.573820              0.000000     -0.465316   \n",
       "25%        6.000000     -0.823936              1.000000     -0.245509   \n",
       "50%       12.000000     -0.370381              1.000000     -0.043055   \n",
       "75%       18.000000      0.195452              1.000000      0.373421   \n",
       "max       23.000000      3.182633              1.000000     31.331459   \n",
       "\n",
       "       25CO_null_pointers          26O3  27O3_null_pointers       28month  \\\n",
       "count        89500.000000  89500.000000        89500.000000  89500.000000   \n",
       "mean             0.589084     -0.102220            0.787441      6.408492   \n",
       "std              0.492003      0.909601            0.409120      3.502213   \n",
       "min              0.000000     -1.057042            0.000000      1.000000   \n",
       "25%              0.000000     -0.850691            1.000000      3.000000   \n",
       "50%              1.000000     -0.449762            1.000000      6.000000   \n",
       "75%              1.000000      0.420571            1.000000      9.000000   \n",
       "max              1.000000      6.582919            1.000000     12.000000   \n",
       "\n",
       "             29hour  \n",
       "count  89500.000000  \n",
       "mean      11.502346  \n",
       "std        6.921202  \n",
       "min        0.000000  \n",
       "25%        6.000000  \n",
       "50%       12.000000  \n",
       "75%       18.000000  \n",
       "max       23.000000  \n",
       "\n",
       "[8 rows x 43 columns]"
      ]
     },
     "execution_count": 98,
     "metadata": {},
     "output_type": "execute_result"
    }
   ],
   "source": [
    "result.describe()"
   ]
  },
  {
   "cell_type": "markdown",
   "metadata": {
    "collapsed": true
   },
   "source": [
    "# Delete Zero values "
   ]
  },
  {
   "cell_type": "code",
   "execution_count": 99,
   "metadata": {
    "collapsed": true
   },
   "outputs": [],
   "source": [
    "Target.drop(Target.index[168:215],inplace=True);# 16 consecutive entries missing\n",
    "Target.drop(Target.index[337:361],inplace=True);# \n",
    "Target.drop(Target.index[961:984],inplace=True);\n",
    "Target.drop(Target.index[1082:1105],inplace=True)\n",
    "Target.drop(Target.index[1088:1106],inplace=True)\n",
    "Target.drop(Target.index[1569:1593],inplace=True)\n",
    "Target.drop(Target.index[1689:1705],inplace=True)\n",
    "Target.drop(Target.index[2272:2296],inplace=True)\n",
    "Target.drop(Target.index[3470:3592],inplace=True)\n",
    "Target.drop(Target.index[16707:35423],inplace=True)\n",
    "\n"
   ]
  },
  {
   "cell_type": "code",
   "execution_count": 100,
   "metadata": {
    "collapsed": true
   },
   "outputs": [],
   "source": [
    "result.drop(result.index[168:215],inplace=True);# 16 consecutive entries missin\n",
    "result.drop(result.index[337:361],inplace=True);# \n",
    "result.drop(result.index[961:984],inplace=True);\n",
    "result.drop(result.index[1082:1105],inplace=True)\n",
    "result.drop(result.index[1088:1106],inplace=True)\n",
    "result.drop(result.index[1569:1593],inplace=True)\n",
    "result.drop(result.index[1689:1705],inplace=True)\n",
    "result.drop(result.index[2272:2296],inplace=True)\n",
    "result.drop(result.index[3470:3592],inplace=True)\n",
    "result.drop(result.index[16707:35423],inplace=True)"
   ]
  },
  {
   "cell_type": "code",
   "execution_count": 101,
   "metadata": {},
   "outputs": [
    {
     "data": {
      "text/html": [
       "<div>\n",
       "<table border=\"1\" class=\"dataframe\">\n",
       "  <thead>\n",
       "    <tr style=\"text-align: right;\">\n",
       "      <th></th>\n",
       "      <th>PM10</th>\n",
       "      <th>PM10_null_pointers</th>\n",
       "      <th>CO</th>\n",
       "      <th>CO_null_pointers</th>\n",
       "      <th>NO2</th>\n",
       "      <th>NO2_null_pointers</th>\n",
       "      <th>O3</th>\n",
       "      <th>O3_null_pointers</th>\n",
       "      <th>PM25</th>\n",
       "      <th>PM25_null_pointers</th>\n",
       "      <th>...</th>\n",
       "      <th>20month</th>\n",
       "      <th>21hour</th>\n",
       "      <th>22PM10</th>\n",
       "      <th>23PM10_null_pointers</th>\n",
       "      <th>24CO</th>\n",
       "      <th>25CO_null_pointers</th>\n",
       "      <th>26O3</th>\n",
       "      <th>27O3_null_pointers</th>\n",
       "      <th>28month</th>\n",
       "      <th>29hour</th>\n",
       "    </tr>\n",
       "  </thead>\n",
       "  <tbody>\n",
       "    <tr>\n",
       "      <th>0</th>\n",
       "      <td>0.655947</td>\n",
       "      <td>1</td>\n",
       "      <td>0.332930</td>\n",
       "      <td>1</td>\n",
       "      <td>-0.094635</td>\n",
       "      <td>0</td>\n",
       "      <td>-0.094688</td>\n",
       "      <td>1</td>\n",
       "      <td>-0.296817</td>\n",
       "      <td>0</td>\n",
       "      <td>...</td>\n",
       "      <td>1</td>\n",
       "      <td>0</td>\n",
       "      <td>0.958855</td>\n",
       "      <td>1</td>\n",
       "      <td>1.113822</td>\n",
       "      <td>1</td>\n",
       "      <td>-0.839846</td>\n",
       "      <td>1</td>\n",
       "      <td>1</td>\n",
       "      <td>0</td>\n",
       "    </tr>\n",
       "    <tr>\n",
       "      <th>1</th>\n",
       "      <td>0.655947</td>\n",
       "      <td>1</td>\n",
       "      <td>0.332930</td>\n",
       "      <td>1</td>\n",
       "      <td>-0.094635</td>\n",
       "      <td>0</td>\n",
       "      <td>-0.094688</td>\n",
       "      <td>1</td>\n",
       "      <td>-0.296817</td>\n",
       "      <td>0</td>\n",
       "      <td>...</td>\n",
       "      <td>1</td>\n",
       "      <td>0</td>\n",
       "      <td>0.958855</td>\n",
       "      <td>1</td>\n",
       "      <td>1.113822</td>\n",
       "      <td>1</td>\n",
       "      <td>-0.839846</td>\n",
       "      <td>1</td>\n",
       "      <td>1</td>\n",
       "      <td>0</td>\n",
       "    </tr>\n",
       "    <tr>\n",
       "      <th>2</th>\n",
       "      <td>0.325387</td>\n",
       "      <td>1</td>\n",
       "      <td>0.118908</td>\n",
       "      <td>1</td>\n",
       "      <td>-0.094635</td>\n",
       "      <td>0</td>\n",
       "      <td>-0.076718</td>\n",
       "      <td>1</td>\n",
       "      <td>-0.296817</td>\n",
       "      <td>0</td>\n",
       "      <td>...</td>\n",
       "      <td>1</td>\n",
       "      <td>1</td>\n",
       "      <td>1.045076</td>\n",
       "      <td>1</td>\n",
       "      <td>0.795681</td>\n",
       "      <td>1</td>\n",
       "      <td>-0.860915</td>\n",
       "      <td>1</td>\n",
       "      <td>1</td>\n",
       "      <td>1</td>\n",
       "    </tr>\n",
       "    <tr>\n",
       "      <th>3</th>\n",
       "      <td>0.325387</td>\n",
       "      <td>1</td>\n",
       "      <td>0.118908</td>\n",
       "      <td>1</td>\n",
       "      <td>-0.094635</td>\n",
       "      <td>0</td>\n",
       "      <td>-0.076718</td>\n",
       "      <td>1</td>\n",
       "      <td>-0.296817</td>\n",
       "      <td>0</td>\n",
       "      <td>...</td>\n",
       "      <td>1</td>\n",
       "      <td>1</td>\n",
       "      <td>1.045076</td>\n",
       "      <td>1</td>\n",
       "      <td>0.795681</td>\n",
       "      <td>1</td>\n",
       "      <td>-0.860915</td>\n",
       "      <td>1</td>\n",
       "      <td>1</td>\n",
       "      <td>1</td>\n",
       "    </tr>\n",
       "    <tr>\n",
       "      <th>4</th>\n",
       "      <td>0.159634</td>\n",
       "      <td>1</td>\n",
       "      <td>-0.031487</td>\n",
       "      <td>1</td>\n",
       "      <td>-0.094635</td>\n",
       "      <td>0</td>\n",
       "      <td>-0.030862</td>\n",
       "      <td>1</td>\n",
       "      <td>-0.296817</td>\n",
       "      <td>0</td>\n",
       "      <td>...</td>\n",
       "      <td>1</td>\n",
       "      <td>2</td>\n",
       "      <td>0.329261</td>\n",
       "      <td>1</td>\n",
       "      <td>0.240380</td>\n",
       "      <td>1</td>\n",
       "      <td>-0.842635</td>\n",
       "      <td>1</td>\n",
       "      <td>1</td>\n",
       "      <td>2</td>\n",
       "    </tr>\n",
       "  </tbody>\n",
       "</table>\n",
       "<p>5 rows × 43 columns</p>\n",
       "</div>"
      ],
      "text/plain": [
       "       PM10  PM10_null_pointers        CO  CO_null_pointers       NO2  \\\n",
       "0  0.655947                   1  0.332930                 1 -0.094635   \n",
       "1  0.655947                   1  0.332930                 1 -0.094635   \n",
       "2  0.325387                   1  0.118908                 1 -0.094635   \n",
       "3  0.325387                   1  0.118908                 1 -0.094635   \n",
       "4  0.159634                   1 -0.031487                 1 -0.094635   \n",
       "\n",
       "   NO2_null_pointers        O3  O3_null_pointers      PM25  \\\n",
       "0                  0 -0.094688                 1 -0.296817   \n",
       "1                  0 -0.094688                 1 -0.296817   \n",
       "2                  0 -0.076718                 1 -0.296817   \n",
       "3                  0 -0.076718                 1 -0.296817   \n",
       "4                  0 -0.030862                 1 -0.296817   \n",
       "\n",
       "   PM25_null_pointers   ...    20month  21hour    22PM10  \\\n",
       "0                   0   ...          1       0  0.958855   \n",
       "1                   0   ...          1       0  0.958855   \n",
       "2                   0   ...          1       1  1.045076   \n",
       "3                   0   ...          1       1  1.045076   \n",
       "4                   0   ...          1       2  0.329261   \n",
       "\n",
       "   23PM10_null_pointers      24CO  25CO_null_pointers      26O3  \\\n",
       "0                     1  1.113822                   1 -0.839846   \n",
       "1                     1  1.113822                   1 -0.839846   \n",
       "2                     1  0.795681                   1 -0.860915   \n",
       "3                     1  0.795681                   1 -0.860915   \n",
       "4                     1  0.240380                   1 -0.842635   \n",
       "\n",
       "   27O3_null_pointers  28month  29hour  \n",
       "0                   1        1       0  \n",
       "1                   1        1       0  \n",
       "2                   1        1       1  \n",
       "3                   1        1       1  \n",
       "4                   1        1       2  \n",
       "\n",
       "[5 rows x 43 columns]"
      ]
     },
     "execution_count": 101,
     "metadata": {},
     "output_type": "execute_result"
    }
   ],
   "source": [
    "result.head()"
   ]
  },
  {
   "cell_type": "code",
   "execution_count": 102,
   "metadata": {
    "collapsed": true
   },
   "outputs": [],
   "source": [
    "Target = Target.reset_index(drop=True)\n",
    "result = result.reset_index(drop=True)"
   ]
  },
  {
   "cell_type": "code",
   "execution_count": 103,
   "metadata": {},
   "outputs": [
    {
     "name": "stdout",
     "output_type": "stream",
     "text": [
      "Number of null values in PM10 : \n"
     ]
    },
    {
     "data": {
      "text/plain": [
       "PM10    10098\n",
       "dtype: int64"
      ]
     },
     "execution_count": 103,
     "metadata": {},
     "output_type": "execute_result"
    }
   ],
   "source": [
    "print(\"Number of null values in PM10 : \");Target.isnull().sum()"
   ]
  },
  {
   "cell_type": "code",
   "execution_count": 104,
   "metadata": {},
   "outputs": [
    {
     "name": "stdout",
     "output_type": "stream",
     "text": [
      "Percentage of Missing Value: \n"
     ]
    },
    {
     "data": {
      "text/plain": [
       "PM10    14.330925\n",
       "dtype: float64"
      ]
     },
     "execution_count": 104,
     "metadata": {},
     "output_type": "execute_result"
    }
   ],
   "source": [
    "print(\"Percentage of Missing Value: \"); getPctMissing(Target)"
   ]
  },
  {
   "cell_type": "code",
   "execution_count": null,
   "metadata": {
    "collapsed": true
   },
   "outputs": [],
   "source": []
  },
  {
   "cell_type": "code",
   "execution_count": 105,
   "metadata": {},
   "outputs": [
    {
     "data": {
      "text/plain": [
       "43"
      ]
     },
     "execution_count": 105,
     "metadata": {},
     "output_type": "execute_result"
    }
   ],
   "source": [
    "result.columns.size # 43 columns"
   ]
  },
  {
   "cell_type": "code",
   "execution_count": null,
   "metadata": {
    "collapsed": true
   },
   "outputs": [],
   "source": []
  },
  {
   "cell_type": "code",
   "execution_count": null,
   "metadata": {
    "collapsed": true
   },
   "outputs": [],
   "source": []
  },
  {
   "cell_type": "markdown",
   "metadata": {},
   "source": [
    "# Prepare Data "
   ]
  },
  {
   "cell_type": "code",
   "execution_count": 106,
   "metadata": {
    "collapsed": true
   },
   "outputs": [],
   "source": [
    "column_size = result.columns.values.size # this is size of list element size\n",
    "Target_list = Target.values.tolist() # create a list of values for use in data model\n",
    "feature_list= result.values.tolist()"
   ]
  },
  {
   "cell_type": "code",
   "execution_count": 107,
   "metadata": {
    "collapsed": true
   },
   "outputs": [],
   "source": [
    "counter=0\n",
    "def dataGetter(datalist):\n",
    "    \"\"\"\n",
    "    Returns a single PM10 value.\n",
    "    Input: PM10 Data list named Target_list above\n",
    "    Output: single PM10 value\n",
    "    \"\"\"\n",
    "    global counter;\n",
    "    assert type(datalist) == list;\n",
    "    \n",
    "    \n",
    "    value = datalist[counter]\n",
    "    #print(counter)\n",
    "\n",
    "\n",
    "    counter = counter +1\n",
    "             \n",
    "    return np.array([value])"
   ]
  },
  {
   "cell_type": "code",
   "execution_count": 108,
   "metadata": {
    "collapsed": true
   },
   "outputs": [],
   "source": [
    "counter_t=0\n",
    "def dataGetter_target(datalist):\n",
    "    \"\"\"\n",
    "    Returns a single PM10 value.\n",
    "    Input: PM10 Data list named Target_list above\n",
    "    Output: single PM10 value\n",
    "    \"\"\"\n",
    "    global counter_t;\n",
    "    assert type(datalist) == list;\n",
    "    \n",
    "    \n",
    "    value = datalist[counter_t]\n",
    "    #print(counter)\n",
    "\n",
    "\n",
    "    counter_t = counter_t +1\n",
    "             \n",
    "    return np.array([value])"
   ]
  },
  {
   "cell_type": "code",
   "execution_count": 109,
   "metadata": {
    "collapsed": true
   },
   "outputs": [],
   "source": [
    "# Define window size or learning\n",
    "sliding_window = []\n",
    "lag=25 # 24 hours time step from 0 to 24 plus the window_step_move (25) which is to be predicted\n",
    "window_move_step = 1\n",
    "for i in range(lag - window_move_step):\n",
    "    sliding_window.append(dataGetter(Target_list))"
   ]
  },
  {
   "cell_type": "code",
   "execution_count": 110,
   "metadata": {
    "collapsed": true
   },
   "outputs": [],
   "source": [
    "sliding_window_featureset = []\n",
    "lag=25 # 24 hours time step from 0 to 24 plus the window_step_move (25) which is to be predicted\n",
    "window_move_step = 1\n",
    "for i in range(lag - window_move_step):\n",
    "    sliding_window_featureset.append(dataGetter_target(feature_list))"
   ]
  },
  {
   "cell_type": "code",
   "execution_count": 111,
   "metadata": {},
   "outputs": [
    {
     "data": {
      "text/plain": [
       "43"
      ]
     },
     "execution_count": 111,
     "metadata": {},
     "output_type": "execute_result"
    }
   ],
   "source": [
    "column_size"
   ]
  },
  {
   "cell_type": "code",
   "execution_count": null,
   "metadata": {
    "collapsed": true
   },
   "outputs": [],
   "source": []
  },
  {
   "cell_type": "code",
   "execution_count": 112,
   "metadata": {
    "collapsed": true
   },
   "outputs": [],
   "source": [
    "import math\n",
    "def get_pair(Target,Target2):\n",
    "    \"\"\"\n",
    "    Returns an (current, target) \n",
    "    Target is lag steps 24 ahead of current\n",
    "    \n",
    "    Do some median filling. The target variable is converted into \n",
    "    a data frame and fill nan with median. The median is chosen because\n",
    "    its more robust to outliers.\n",
    "    \n",
    "    Input: Feature List=Target2, Target=Target\n",
    "    Input Dtype : List\n",
    "    Output: Input Array, Output Array 24 steps ahead\n",
    "    Output Data type : Array\n",
    "    \"\"\"\n",
    " \n",
    "    global sliding_window\n",
    "    global sliding_window_featureset\n",
    "    sliding_window.append(dataGetter(Target))\n",
    "    #print(len(sliding_window))\n",
    "    sliding_window_featureset.append(dataGetter_target(Target2))\n",
    "    df1 = pd.DataFrame({'test_set': sliding_window}) #MAKE A data frame with column name test_set\n",
    "                 \n",
    "    df1.fillna(df1.median(),inplace=True);\n",
    "    input_value = sliding_window_featureset[0:24]\n",
    "    \n",
    "    \n",
    "    input_value=np.array(input_value)\n",
    "    \n",
    "    #print(input_value.shape)\n",
    "    input_value=np.reshape(input_value,(1,len(input_value)*column_size))\n",
    "    \n",
    "    #mx = np.ma.masked_invalid(input_value)\n",
    "    \n",
    "    ##print(input_value)\n",
    "    sliding_window = df1.values.tolist()\n",
    "    output_value = np.array(sliding_window[-1])\n",
    "    \n",
    "    ####remove last value from sliding_window\n",
    "    _ = sliding_window_featureset[-1]\n",
    "    ##print(output_value)\n",
    "    sliding_window = sliding_window[1:]\n",
    "    sliding_window_featureset = sliding_window_featureset[1:]\n",
    "    #print(len(sliding_window))\n",
    "    # Process output\n",
    "    output = output_value.reshape(1,1);\n",
    "     \n",
    "    if math.isnan(output):\n",
    "        assert (math.isnan(output))\n",
    "        output1 = np.array([0.])\n",
    "        output1 = output1.reshape(1,1)\n",
    "    else:\n",
    "        output1=output;\n",
    "    \n",
    "   \n",
    "    \n",
    "    \n",
    "    return input_value,output1"
   ]
  },
  {
   "cell_type": "code",
   "execution_count": null,
   "metadata": {
    "collapsed": true
   },
   "outputs": [],
   "source": []
  },
  {
   "cell_type": "code",
   "execution_count": null,
   "metadata": {
    "collapsed": true
   },
   "outputs": [],
   "source": []
  },
  {
   "cell_type": "code",
   "execution_count": null,
   "metadata": {
    "collapsed": true
   },
   "outputs": [],
   "source": []
  },
  {
   "cell_type": "markdown",
   "metadata": {},
   "source": [
    "# Build Model"
   ]
  },
  {
   "cell_type": "code",
   "execution_count": null,
   "metadata": {
    "collapsed": true
   },
   "outputs": [],
   "source": []
  },
  {
   "cell_type": "code",
   "execution_count": 113,
   "metadata": {
    "collapsed": true
   },
   "outputs": [],
   "source": [
    "#Imports\n",
    "import tensorflow as tf\n",
    "#from tensorflow.nn.rnn import *\n",
    "from tensorflow.python.ops  import *\n"
   ]
  },
  {
   "cell_type": "code",
   "execution_count": 114,
   "metadata": {
    "collapsed": true
   },
   "outputs": [],
   "source": [
    "input_size=column_size*(lag-1) # column size * window size"
   ]
  },
  {
   "cell_type": "code",
   "execution_count": null,
   "metadata": {},
   "outputs": [],
   "source": []
  },
  {
   "cell_type": "code",
   "execution_count": 115,
   "metadata": {
    "collapsed": true
   },
   "outputs": [],
   "source": [
    "#Input Params\n",
    "NUMBER=0; # replacement for nan\n",
    "with tf.name_scope(\"input_target_placeholders\"):    \n",
    "    input_dim = 1\n",
    "    ##The Input Layer as a Placeholder\n",
    "    #Since we will provide data sequentially, the 'batch size'\n",
    "    #is 1.\n",
    "    features = tf.placeholder(tf.float32, [1, input_dim*input_size],name=\"input_data\")\n",
    "    y_input = tf.placeholder(tf.float32, [1, input_dim],name=\"target_data\")\n",
    "    "
   ]
  },
  {
   "cell_type": "code",
   "execution_count": 116,
   "metadata": {
    "collapsed": true
   },
   "outputs": [],
   "source": [
    "###inistate = tf.Variable(lstm_cell_with_dropout.zero_state(BATCH_SIZE, tf.float32), trainable=False)"
   ]
  },
  {
   "cell_type": "code",
   "execution_count": 117,
   "metadata": {},
   "outputs": [
    {
     "name": "stderr",
     "output_type": "stream",
     "text": [
      "WARNING:tensorflow:<tensorflow.python.ops.rnn_cell.BasicLSTMCell object at 0x1032a65c0>: Using a concatenated state is slower and will soon be deprecated.  Use state_is_tuple=True.\n"
     ]
    }
   ],
   "source": [
    "with tf.name_scope(\"lstmLayer\"):    \n",
    "    lstm_layer1 = rnn_cell.BasicLSTMCell(input_dim*input_size,state_is_tuple=False)\n",
    "    #The LSTM state as a Variable initialized to zeroes\n",
    "    lstm_state1 = tf.Variable(tf.zeros([1, lstm_layer1.state_size]),trainable=False,name=\"initial_state\")\n",
    "    #lstm_state1 = tf.Variable(lstm_layer1.zero_state(1,lstm_layer1.state_size[-1] ), trainable=False)\n",
    "    #Connect the input layer and initial LSTM state to the LSTM cell\n",
    "    lstm_output1, lstm_state_output1 = lstm_layer1(features, lstm_state1)\n",
    "    #The LSTM state will get updated\n",
    "    lstm_update_op1 = lstm_state1.assign(lstm_state_output1)"
   ]
  },
  {
   "cell_type": "code",
   "execution_count": 118,
   "metadata": {},
   "outputs": [
    {
     "data": {
      "text/plain": [
       "TensorShape([Dimension(1), Dimension(1032)])"
      ]
     },
     "execution_count": 118,
     "metadata": {},
     "output_type": "execute_result"
    }
   ],
   "source": [
    "lstm_output1.get_shape() # verify shape"
   ]
  },
  {
   "cell_type": "code",
   "execution_count": null,
   "metadata": {
    "collapsed": true
   },
   "outputs": [],
   "source": []
  },
  {
   "cell_type": "code",
   "execution_count": 119,
   "metadata": {
    "collapsed": true
   },
   "outputs": [],
   "source": [
    "with tf.name_scope(\"weight_Bias_learning_rate\"):\n",
    "    global_step = tf.Variable(0, trainable=False,name=\"global_step\")\n",
    "    starter_learning_rate = 0.07\n",
    "    learning_rate = tf.train.exponential_decay(starter_learning_rate, global_step,\n",
    "                                           1000, 1.0, staircase=False,name =\"Exponential_decay\")\n",
    "    ##The Regression-Output Layer\n",
    "    #The Weights and Biases matrices first\n",
    "    output_W1 = tf.Variable(tf.truncated_normal([input_dim*input_size,input_dim]),name=\"weight\")\n",
    "    output_b1 = tf.Variable(tf.zeros([input_dim]),name=\"bias\")\n",
    "    \n",
    "    "
   ]
  },
  {
   "cell_type": "code",
   "execution_count": 120,
   "metadata": {},
   "outputs": [
    {
     "data": {
      "text/plain": [
       "TensorShape([Dimension(1032), Dimension(1)])"
      ]
     },
     "execution_count": 120,
     "metadata": {},
     "output_type": "execute_result"
    }
   ],
   "source": [
    "output_W1.get_shape()"
   ]
  },
  {
   "cell_type": "code",
   "execution_count": 121,
   "metadata": {
    "collapsed": true
   },
   "outputs": [],
   "source": [
    "with tf.name_scope(\"prediction\"):\n",
    "    #Compute the output\n",
    "    \n",
    "    final_output = tf.matmul(lstm_output1, output_W1) + output_b1"
   ]
  },
  {
   "cell_type": "code",
   "execution_count": 122,
   "metadata": {},
   "outputs": [
    {
     "data": {
      "text/plain": [
       "TensorShape([Dimension(1), Dimension(1)])"
      ]
     },
     "execution_count": 122,
     "metadata": {},
     "output_type": "execute_result"
    }
   ],
   "source": [
    "final_output.get_shape() # verify output shape"
   ]
  },
  {
   "cell_type": "code",
   "execution_count": 123,
   "metadata": {},
   "outputs": [
    {
     "data": {
      "text/plain": [
       "<tensorflow.python.ops.variables.Variable at 0x1116cf550>"
      ]
     },
     "execution_count": 123,
     "metadata": {},
     "output_type": "execute_result"
    }
   ],
   "source": [
    "output_W1 # verify weight shape"
   ]
  },
  {
   "cell_type": "code",
   "execution_count": 124,
   "metadata": {
    "collapsed": true
   },
   "outputs": [],
   "source": [
    "#loss = your regular output loss\n",
    "lambda_l2_reg=0.5\n",
    "l2 = lambda_l2_reg * sum(\n",
    "    tf.nn.l2_loss(tf_var)\n",
    "        for tf_var in tf.trainable_variables()\n",
    "        if not (\"noreg\" in tf_var.name or \"bias\" in tf_var.name)\n",
    ")\n",
    "#loss += l2"
   ]
  },
  {
   "cell_type": "code",
   "execution_count": 125,
   "metadata": {
    "collapsed": true
   },
   "outputs": [],
   "source": [
    "with tf.name_scope(\"RMS_error\"):\n",
    "    ##Calculate the Sum-of-Squares Error\n",
    "    \n",
    "    error = tf.pow(tf.sub(final_output,y_input), 2) +l2"
   ]
  },
  {
   "cell_type": "code",
   "execution_count": 126,
   "metadata": {
    "collapsed": true
   },
   "outputs": [],
   "source": [
    "#error = tf.reshape(error,(1,))"
   ]
  },
  {
   "cell_type": "code",
   "execution_count": 127,
   "metadata": {
    "collapsed": true
   },
   "outputs": [],
   "source": [
    "with tf.name_scope(\"optimizer\"):\n",
    "    ##The Optimizer\n",
    "    #Adam works best\n",
    "    train_step = tf.train.AdamOptimizer(learning_rate).minimize(error)"
   ]
  },
  {
   "cell_type": "code",
   "execution_count": 128,
   "metadata": {
    "collapsed": true
   },
   "outputs": [],
   "source": [
    "# Create a summary to monitor MSE\n",
    "mse=tf.summary.tensor_summary(\"errors_Summary\",error)\n",
    "# Create a summary to monitor  predictions\n",
    "prediction=tf.summary.tensor_summary(\"predictions_Summmary\", final_output)\n",
    "# Create a summary to monitor bias\n",
    "bias_vec=tf.summary.tensor_summary(\"bias\", output_b1)\n",
    "# create sumary\n",
    "#rate_vec=tf.summary.scalar(\"rate\", learning_rate)\n",
    "\n",
    "\n",
    "#histogram plot\n",
    "\n",
    "error_stats=tf.histogram_summary(\"errors_Histogram\",error)\n",
    "weight_stats=tf.histogram_summary(\"weights_Histogram\",output_W1)\n",
    "bias_stats=tf.histogram_summary(\"biases_Histogram\",output_b1)\n",
    "#learning_stats=tf.histogram_summary(\"biases_Histogram\",learning_rate)\n",
    "\n",
    "\n",
    "#merged_summary_op =  tf.merge_all_summaries()\n",
    "merged_summary_op =   tf.merge_summary([mse,prediction,bias_vec,error_stats,weight_stats,bias_stats])"
   ]
  },
  {
   "cell_type": "code",
   "execution_count": 129,
   "metadata": {
    "collapsed": true
   },
   "outputs": [],
   "source": [
    "##Session\n",
    "sess = tf.Session()\n",
    "#Initialize all Variables\n",
    "#sess.run(tf.initialize_all_variables())\n"
   ]
  },
  {
   "cell_type": "code",
   "execution_count": 130,
   "metadata": {},
   "outputs": [
    {
     "data": {
      "text/plain": [
       "70463"
      ]
     },
     "execution_count": 130,
     "metadata": {},
     "output_type": "execute_result"
    }
   ],
   "source": [
    "len(Target)"
   ]
  },
  {
   "cell_type": "code",
   "execution_count": null,
   "metadata": {
    "collapsed": true
   },
   "outputs": [],
   "source": []
  },
  {
   "cell_type": "markdown",
   "metadata": {},
   "source": [
    "# Evaluation Data set"
   ]
  },
  {
   "cell_type": "code",
   "execution_count": 131,
   "metadata": {
    "collapsed": true
   },
   "outputs": [],
   "source": [
    "logs_path = '/Users/Seychelles/Desktop/GoogleTensorflow/finals/tensorboardData/mask_other_local_median/' # for tensorfboard"
   ]
  },
  {
   "cell_type": "code",
   "execution_count": 132,
   "metadata": {
    "collapsed": true
   },
   "outputs": [],
   "source": [
    "##Training Parameters\n",
    "n_iter = len(Target_list)-48  # Train the model. Except the last 24 hrs which we will use for prediction test\n",
    "                              # we could have also used the last 48 hrs as prediction test but lets keep\n",
    "                              # things simple at first\n",
    "\n",
    "actual_output1 = []\n",
    "network_output1 = []\n",
    "inner_iter = 6000\n",
    "\n"
   ]
  },
  {
   "cell_type": "code",
   "execution_count": 133,
   "metadata": {},
   "outputs": [
    {
     "data": {
      "text/plain": [
       "70463"
      ]
     },
     "execution_count": 133,
     "metadata": {},
     "output_type": "execute_result"
    }
   ],
   "source": [
    "len(Target_list)"
   ]
  },
  {
   "cell_type": "markdown",
   "metadata": {},
   "source": [
    "\n",
    "# Feature and Target prediction set "
   ]
  },
  {
   "cell_type": "code",
   "execution_count": 134,
   "metadata": {
    "collapsed": true
   },
   "outputs": [],
   "source": [
    "import copy\n",
    "#new_list = copy.deepcopy(old_list)\n",
    "Test_eval=copy.deepcopy(Target_list[n_iter:]) # copy out data set for validation and testing"
   ]
  },
  {
   "cell_type": "code",
   "execution_count": null,
   "metadata": {
    "collapsed": true
   },
   "outputs": [],
   "source": []
  },
  {
   "cell_type": "code",
   "execution_count": 135,
   "metadata": {
    "collapsed": true
   },
   "outputs": [],
   "source": [
    "n_iter = len(Target_list)-48  # Train the model. Except the last 24 hrs which we will use for prediction test\n",
    "                              # we could have also used the last 48 hrs as prediction test but lets keep\n",
    "                              # things simple at first\n",
    "\n",
    "actual_output1 = []\n",
    "network_output1 = []\n",
    "inner_iter = 6000\n",
    "\n"
   ]
  },
  {
   "cell_type": "code",
   "execution_count": null,
   "metadata": {
    "collapsed": true
   },
   "outputs": [],
   "source": []
  },
  {
   "cell_type": "code",
   "execution_count": null,
   "metadata": {
    "collapsed": true
   },
   "outputs": [],
   "source": []
  },
  {
   "cell_type": "markdown",
   "metadata": {},
   "source": [
    "# Errors Plot"
   ]
  },
  {
   "cell_type": "code",
   "execution_count": null,
   "metadata": {
    "collapsed": true
   },
   "outputs": [],
   "source": []
  },
  {
   "cell_type": "code",
   "execution_count": null,
   "metadata": {
    "collapsed": true
   },
   "outputs": [],
   "source": []
  },
  {
   "cell_type": "code",
   "execution_count": 136,
   "metadata": {
    "collapsed": true
   },
   "outputs": [],
   "source": [
    "writer = tf.train.SummaryWriter(logs_path, graph= tf.get_default_graph())"
   ]
  },
  {
   "cell_type": "code",
   "execution_count": 137,
   "metadata": {
    "collapsed": true
   },
   "outputs": [],
   "source": [
    "init = tf.initialize_all_variables()\n",
    "error_=[]\n",
    "\n",
    "sess.run(init)\n",
    "counter =0 \n",
    "counter_t=0\n",
    "assert counter==0\n",
    "\n",
    "for i in range(n_iter):\n",
    "    input_v ,output_v = get_pair(Target_list,feature_list)\n",
    "    #print(output_v.shape)\n",
    "    \n",
    "        \n",
    "    #print(input_v)\n",
    "    #print (dtype(input_v))\n",
    "    #print(input_mask.shape)\n",
    "    #print(output_mask.shape)\n",
    "    #print(output_v.shape)\n",
    "    _, _, network_output,errors,summary = sess.run([lstm_update_op1,\n",
    "                                     train_step,\n",
    "                                     final_output,error,merged_summary_op],\n",
    "                                    feed_dict = {\n",
    "                                        features:input_v,\n",
    "                                        y_input: output_v})\n",
    "    writer.add_summary(summary)\n",
    "    error_.append(errors)\n",
    "    if i%inner_iter==0 & i!=0:\n",
    "           assert i!=0;\n",
    "           #reset state\n",
    "           sess.run(lstm_state1.assign(tf.zeros([1, lstm_layer1.state_size])))\n",
    "        \n",
    "    actual_output1.append(output_v)\n",
    "        #actual_output2.append(output_v[0][1])\n",
    "    network_output1.append(network_output)\n",
    "        #network_output2.append(network_output[0][1])\n",
    "        #x_axis.append(i)\n",
    "                "
   ]
  },
  {
   "cell_type": "code",
   "execution_count": 138,
   "metadata": {
    "collapsed": true
   },
   "outputs": [],
   "source": [
    "errorplot = np.array(error_)\n",
    "errorplot = errorplot.reshape(len(error_),1)"
   ]
  },
  {
   "cell_type": "code",
   "execution_count": null,
   "metadata": {
    "collapsed": true
   },
   "outputs": [],
   "source": []
  },
  {
   "cell_type": "code",
   "execution_count": 254,
   "metadata": {},
   "outputs": [
    {
     "data": {
      "image/png": "[encoded data removed]",
      "text/plain": [
       "<matplotlib.figure.Figure at 0x12db23208>"
      ]
     },
     "metadata": {},
     "output_type": "display_data"
    }
   ],
   "source": [
    "import matplotlib.mlab as mlab\n",
    "\n",
    "#fig, ax = plt.subplots()\n",
    "n, bins, patches=plt.hist(errorplot,60,normed=1,facecolor='teal',alpha=0.9,label='hostogram plot')\n",
    "mu= np.mean(errorplot);sigma=np.std(errorplot);\n",
    "y = mlab.normpdf( bins,mu,sigma)\n",
    "plt.plot(bins, y, 'r--', linewidth=2,label='pdf for Histogram')\n",
    "#ax.set_yscale('log')\n",
    "#ax.set_xscale('log')\n",
    "plt.title(\"Histogram plot for error\",fontweight='bold')\n",
    "plt.ylabel(\"Frequemcy\",fontweight='bold')\n",
    "plt.xlabel(\"Error Values\",fontweight='bold')\n",
    "plt.legend(bbox_to_anchor=(1.04,1), loc=\"upper left\")\n",
    "plt.show()"
   ]
  },
  {
   "cell_type": "code",
   "execution_count": null,
   "metadata": {
    "collapsed": true
   },
   "outputs": [],
   "source": []
  },
  {
   "cell_type": "code",
   "execution_count": 256,
   "metadata": {},
   "outputs": [
    {
     "data": {
      "image/png": "[encoded data removed]",
      "text/plain": [
       "<matplotlib.figure.Figure at 0x14e450e10>"
      ]
     },
     "metadata": {},
     "output_type": "display_data"
    }
   ],
   "source": [
    "import matplotlib.mlab as mlab\n",
    "\n",
    "fig, ax = plt.subplots()\n",
    "plt.hist(errorplot,bins=100,normed=1,facecolor='teal')\n",
    "\n",
    "#ax.set_yscale('log')\n",
    "#ax.set_xscale('log')\n",
    "plt.title(\"Histogram plot for error\",fontweight='bold')\n",
    "plt.ylabel(\"Frequemcy\",fontweight='bold')\n",
    "plt.xlabel(\"Impurity Values\",fontweight='bold')\n",
    "plt.show()"
   ]
  },
  {
   "cell_type": "code",
   "execution_count": null,
   "metadata": {
    "collapsed": true
   },
   "outputs": [],
   "source": []
  },
  {
   "cell_type": "code",
   "execution_count": null,
   "metadata": {
    "collapsed": true
   },
   "outputs": [],
   "source": []
  },
  {
   "cell_type": "code",
   "execution_count": null,
   "metadata": {
    "collapsed": true
   },
   "outputs": [],
   "source": []
  },
  {
   "cell_type": "markdown",
   "metadata": {},
   "source": [
    "# Extract Date in the series"
   ]
  },
  {
   "cell_type": "code",
   "execution_count": 141,
   "metadata": {
    "collapsed": true
   },
   "outputs": [],
   "source": [
    "from matplotlib.dates  import  date2num\n",
    "Data = pd.read_csv('ItemListWithDummy.csv')"
   ]
  },
  {
   "cell_type": "code",
   "execution_count": 142,
   "metadata": {
    "collapsed": true
   },
   "outputs": [],
   "source": [
    "pd.to_datetime(Data.date);"
   ]
  },
  {
   "cell_type": "code",
   "execution_count": 143,
   "metadata": {
    "collapsed": true
   },
   "outputs": [],
   "source": [
    "x_axis = Data['date']"
   ]
  },
  {
   "cell_type": "code",
   "execution_count": 144,
   "metadata": {
    "collapsed": true
   },
   "outputs": [],
   "source": [
    "x_axis = pd.to_datetime(x_axis)"
   ]
  },
  {
   "cell_type": "code",
   "execution_count": 145,
   "metadata": {
    "collapsed": true
   },
   "outputs": [],
   "source": [
    "#80000-len(network_output1)"
   ]
  },
  {
   "cell_type": "code",
   "execution_count": 146,
   "metadata": {
    "collapsed": true
   },
   "outputs": [],
   "source": [
    "network = np.array(network_output1)"
   ]
  },
  {
   "cell_type": "code",
   "execution_count": 147,
   "metadata": {
    "collapsed": true
   },
   "outputs": [],
   "source": [
    "actual= np.array(actual_output1)"
   ]
  },
  {
   "cell_type": "code",
   "execution_count": 148,
   "metadata": {},
   "outputs": [
    {
     "data": {
      "text/plain": [
       "70415"
      ]
     },
     "execution_count": 148,
     "metadata": {},
     "output_type": "execute_result"
    }
   ],
   "source": [
    "actual.shape[0]"
   ]
  },
  {
   "cell_type": "code",
   "execution_count": 149,
   "metadata": {},
   "outputs": [
    {
     "data": {
      "text/plain": [
       "<matplotlib.figure.Figure at 0x14eff7358>"
      ]
     },
     "metadata": {},
     "output_type": "display_data"
    },
    {
     "data": {
      "image/png": "[encoded data removed]",
      "text/plain": [
       "<matplotlib.figure.Figure at 0x14eff7550>"
      ]
     },
     "metadata": {},
     "output_type": "display_data"
    }
   ],
   "source": [
    "import matplotlib.pyplot \n",
    "import matplotlib.dates\n",
    "\n",
    "\n",
    "\n",
    "\n",
    "fig = plt.figure(figsize=(30, 2))\n",
    "\n",
    "fig, ax = plt.subplots()\n",
    "ax.plot_date(x_axis[0:48], actual.reshape(actual.shape[0],1)[0:48], 'b-')\n",
    "#ax.xaxis.set_minor_locator(dates.MonthLocator())\n",
    "#ax.xaxis.set_minor_formatter(dates.DateFormatter('%H:%M:%S'))\n",
    "#ax.xaxis.set_minor_formatter(dates.DateFormatter('%d\\n%a'))\n",
    "#ax.xaxis.grid(True, which=\"minor\")\n",
    "#ax.yaxis.grid()\n",
    "#ax.xaxis.set_major_locator(dates.DayLocator())\n",
    "#ax.xaxis.set_major_formatter(dates.DateFormatter('\\n\\n%a\\%b\\%Y'))\n",
    "ax.xaxis.set_major_formatter( matplotlib.dates.DateFormatter('%Y-%b-%a %H:%M:%S'))\n",
    "ax.xaxis.grid(True, which=\"minor\")\n",
    "\n",
    "\n",
    "\n",
    "#ax.xaxis.set_minor_formatter(dates.DateFormatter('\\n\\n%a\\%b\\%Y'))\n",
    "\n",
    "\n",
    "plt.xticks( rotation=25 )\n",
    "#plt.tight_layout()\n",
    "plt.ylabel(\"PM10 values\")\n",
    "plt.title(\"PM10  Actual  plot for Small Time Interval\")\n",
    "plt.show()"
   ]
  },
  {
   "cell_type": "code",
   "execution_count": 150,
   "metadata": {},
   "outputs": [
    {
     "data": {
      "text/plain": [
       "<matplotlib.figure.Figure at 0x127c0bc50>"
      ]
     },
     "metadata": {},
     "output_type": "display_data"
    },
    {
     "data": {
      "image/png": "[encoded data removed]",
      "text/plain": [
       "<matplotlib.figure.Figure at 0x127c0beb8>"
      ]
     },
     "metadata": {},
     "output_type": "display_data"
    }
   ],
   "source": [
    "fig = plt.figure(figsize=(30, 2))\n",
    "\n",
    "fig, ax = plt.subplots()\n",
    "ax.plot(x_axis[0:48], network.reshape(actual.shape[0],1)[0:48], 'r-')\n",
    "\n",
    "#ax.xaxis.set_minor_locator(dates.MonthLocator())\n",
    "#ax.xaxis.set_minor_formatter(dates.DateFormatter('%H:%M:%S'))\n",
    "#ax.xaxis.set_minor_formatter(dates.DateFormatter('%d\\n%a'))\n",
    "#ax.xaxis.grid(True, which=\"minor\")\n",
    "#ax.yaxis.grid()\n",
    "#ax.xaxis.set_major_locator(dates.DayLocator())\n",
    "#ax.xaxis.set_major_formatter(dates.DateFormatter('\\n\\n%a\\%b\\%Y'))\n",
    "ax.xaxis.set_major_formatter( matplotlib.dates.DateFormatter('%Y-%b-%a %H:%M:%S'))\n",
    "ax.xaxis.grid(True, which=\"minor\")\n",
    "\n",
    "#ax.xaxis.set_minor_formatter(dates.DateFormatter('\\n\\n%a\\%b\\%Y'))\n",
    "\n",
    "\n",
    "plt.xticks( rotation=25 )\n",
    "plt.tight_layout()\n",
    "plt.ylabel(\"PM10 Values\")\n",
    "plt.title(\"PM10 Prediction for Small Time interval During Training\")\n",
    "plt.show()"
   ]
  },
  {
   "cell_type": "markdown",
   "metadata": {},
   "source": [
    "# Plots predictions during Training"
   ]
  },
  {
   "cell_type": "code",
   "execution_count": 151,
   "metadata": {},
   "outputs": [
    {
     "data": {
      "text/plain": [
       "<matplotlib.figure.Figure at 0x12d6ae7f0>"
      ]
     },
     "metadata": {},
     "output_type": "display_data"
    },
    {
     "data": {
      "image/png": "[encoded data removed]",
      "text/plain": [
       "<matplotlib.figure.Figure at 0x12d6aebe0>"
      ]
     },
     "metadata": {},
     "output_type": "display_data"
    }
   ],
   "source": [
    "fig = plt.figure(figsize=(30, 2))\n",
    "\n",
    "fig, ax = plt.subplots()\n",
    "ax.plot(x_axis[0:actual.shape[0]], network.reshape(actual.shape[0],1)[0:actual.shape[0]], 'r-')\n",
    "ax.plot_date(x_axis[0:actual.shape[0]], actual.reshape(actual.shape[0],1)[0:actual.shape[0]], 'b-')\n",
    "\n",
    "\n",
    "#ax.xaxis.set_minor_locator(dates.MonthLocator())\n",
    "#ax.xaxis.set_minor_formatter(dates.DateFormatter('%H:%M:%S'))\n",
    "#ax.xaxis.set_minor_formatter(dates.DateFormatter('%d\\n%a'))\n",
    "#ax.xaxis.grid(True, which=\"minor\")\n",
    "#ax.yaxis.grid()\n",
    "#ax.xaxis.set_major_locator(dates.DayLocator())\n",
    "#ax.xaxis.set_major_formatter(dates.DateFormatter('\\n\\n%a\\%b\\%Y'))\n",
    "ax.xaxis.set_major_formatter( matplotlib.dates.DateFormatter('%Y-%b-%a %H:%M:%S'))\n",
    "ax.xaxis.grid(True, which=\"minor\")\n",
    "\n",
    "#ax.xaxis.set_minor_formatter(dates.DateFormatter('\\n\\n%a\\%b\\%Y'))\n",
    "\n",
    "\n",
    "plt.xticks( rotation=25 )\n",
    "plt.tight_layout()\n",
    "plt.ylabel(\"PM10 values\")\n",
    "plt.title(\"PM10 Training prediction and Actual Value Plots\")\n",
    "plt.show()"
   ]
  },
  {
   "cell_type": "code",
   "execution_count": 157,
   "metadata": {
    "collapsed": true
   },
   "outputs": [],
   "source": [
    "Feature_eval =Target_list[-48:] # for testing"
   ]
  },
  {
   "cell_type": "code",
   "execution_count": 195,
   "metadata": {},
   "outputs": [],
   "source": [
    "test = feature_list[-48:]; # feature set training"
   ]
  },
  {
   "cell_type": "code",
   "execution_count": 205,
   "metadata": {},
   "outputs": [
    {
     "data": {
      "text/plain": [
       "43"
      ]
     },
     "execution_count": 205,
     "metadata": {},
     "output_type": "execute_result"
    }
   ],
   "source": [
    "column_size"
   ]
  },
  {
   "cell_type": "code",
   "execution_count": null,
   "metadata": {
    "collapsed": true
   },
   "outputs": [],
   "source": []
  },
  {
   "cell_type": "code",
   "execution_count": 225,
   "metadata": {
    "collapsed": true
   },
   "outputs": [],
   "source": [
    "def get_pair_Test(Target):\n",
    "    \"\"\"\n",
    "    Returns an (current, target) \n",
    "    Target is lag steps 24 ahead of current\n",
    "    \"\"\"\n",
    " \n",
    "    \n",
    "    global sliding_window_test\n",
    "    #sliding_window_test.append(dataGetter(Target))\n",
    "    #print(len(sliding_window))\n",
    "    #sliding_window_featureset.append(dataGetter_target(Target2))\n",
    "    \n",
    "    #input_value = sliding_window_test\n",
    "    \n",
    "    \n",
    "    input_value=np.array(sliding_window_test)\n",
    "    print(input_value.shape)\n",
    "    \n",
    "    #print(input_value.shape)\n",
    "    input_value=np.reshape(input_value,(1,len(sliding_window_test)*column_size))\n",
    "    mx = np.ma.masked_invalid(input_value)\n",
    "    \n",
    "    ##print(input_value)\n",
    "    #output_value = sliding_window[-1]\n",
    "    #my = np.ma.masked_invalid(output_value)\n",
    "    ####remove last value from sliding_window\n",
    "    #_ = sliding_window_featureset[-1]\n",
    "    ##print(output_value)\n",
    "   # sliding_window = sliding_window[1:]\n",
    "    #sliding_window_featureset = sliding_window_featureset[1:]\n",
    "    #print(len(sliding_window))\n",
    "    # Process output\n",
    "    mask_x = ~mx.mask # let mask return true for those non-nan values\n",
    "    ## y output\n",
    "    #mask_y =~my.mask\n",
    "    #mask_yfloat = mask_y\n",
    "    return mx.data,mask_x.astype(float)"
   ]
  },
  {
   "cell_type": "markdown",
   "metadata": {
    "collapsed": true
   },
   "source": [
    "# Model Testing Plot"
   ]
  },
  {
   "cell_type": "code",
   "execution_count": 207,
   "metadata": {},
   "outputs": [],
   "source": [
    "#input_value=np.array(sliding_window_test)"
   ]
  },
  {
   "cell_type": "code",
   "execution_count": 226,
   "metadata": {},
   "outputs": [
    {
     "data": {
      "text/plain": [
       "24"
      ]
     },
     "execution_count": 226,
     "metadata": {},
     "output_type": "execute_result"
    }
   ],
   "source": [
    "len(sliding_window_test)#*column_size"
   ]
  },
  {
   "cell_type": "code",
   "execution_count": 182,
   "metadata": {
    "collapsed": true
   },
   "outputs": [],
   "source": [
    "init =  tf.initialize_all_variables()\n"
   ]
  },
  {
   "cell_type": "code",
   "execution_count": null,
   "metadata": {},
   "outputs": [],
   "source": []
  },
  {
   "cell_type": "code",
   "execution_count": 227,
   "metadata": {
    "collapsed": true
   },
   "outputs": [],
   "source": [
    "counter_test=0;\n",
    "def dataGetter_test(datalist):\n",
    "    \"\"\"\n",
    "    Returns a single PM10 value.\n",
    "    Input: PM10 Data list named Target_list above\n",
    "    Output: single PM10 value\n",
    "    \"\"\"\n",
    "    global counter_test;\n",
    "    assert type(datalist) == list;\n",
    "    \n",
    "    \n",
    "    value = datalist[counter_test]\n",
    "    #print(counter)\n",
    "\n",
    "\n",
    "    counter_test = counter_test +1\n",
    "             \n",
    "    return value"
   ]
  },
  {
   "cell_type": "code",
   "execution_count": 228,
   "metadata": {},
   "outputs": [],
   "source": [
    "sliding_window_test = []\n",
    "lag=25 # 24 hours time step from 0 to 24 plus the window_step_move (25) which is to be predicted\n",
    "window_move_step = 1\n",
    "for i in range(lag - window_move_step):\n",
    "    temp=dataGetter_test(test)\n",
    "    \n",
    "    sliding_window_test.append(temp);\n",
    "    "
   ]
  },
  {
   "cell_type": "code",
   "execution_count": 229,
   "metadata": {
    "collapsed": true
   },
   "outputs": [],
   "source": [
    "previous_sliding_window_length=24;\n",
    "time_step_shift = 24;"
   ]
  },
  {
   "cell_type": "code",
   "execution_count": 230,
   "metadata": {},
   "outputs": [
    {
     "data": {
      "text/plain": [
       "43"
      ]
     },
     "execution_count": 230,
     "metadata": {},
     "output_type": "execute_result"
    }
   ],
   "source": [
    "len(sliding_window_test[23])"
   ]
  },
  {
   "cell_type": "code",
   "execution_count": 231,
   "metadata": {},
   "outputs": [
    {
     "data": {
      "text/plain": [
       "24"
      ]
     },
     "execution_count": 231,
     "metadata": {},
     "output_type": "execute_result"
    }
   ],
   "source": [
    "len(sliding_window_test)"
   ]
  },
  {
   "cell_type": "code",
   "execution_count": 257,
   "metadata": {},
   "outputs": [
    {
     "data": {
      "text/plain": [
       "1032"
      ]
     },
     "execution_count": 257,
     "metadata": {},
     "output_type": "execute_result"
    }
   ],
   "source": [
    "43*24"
   ]
  },
  {
   "cell_type": "code",
   "execution_count": 232,
   "metadata": {
    "collapsed": true
   },
   "outputs": [],
   "source": [
    "##Testing\n",
    " \n",
    "\n",
    "#Flush LSTM state\n",
    "sess.run(lstm_state1.assign(tf.zeros([1, lstm_layer1.state_size])));"
   ]
  },
  {
   "cell_type": "code",
   "execution_count": 233,
   "metadata": {},
   "outputs": [
    {
     "data": {
      "text/plain": [
       "43"
      ]
     },
     "execution_count": 233,
     "metadata": {},
     "output_type": "execute_result"
    }
   ],
   "source": [
    "len(sliding_window_test[12])"
   ]
  },
  {
   "cell_type": "code",
   "execution_count": 234,
   "metadata": {},
   "outputs": [
    {
     "name": "stdout",
     "output_type": "stream",
     "text": [
      "(24, 43)\n",
      "(24, 43)\n",
      "(24, 43)\n",
      "(24, 43)\n",
      "(24, 43)\n",
      "(24, 43)\n",
      "(24, 43)\n",
      "(24, 43)\n",
      "(24, 43)\n",
      "(24, 43)\n",
      "(24, 43)\n",
      "(24, 43)\n",
      "(24, 43)\n",
      "(24, 43)\n",
      "(24, 43)\n",
      "(24, 43)\n",
      "(24, 43)\n",
      "(24, 43)\n",
      "(24, 43)\n",
      "(24, 43)\n",
      "(24, 43)\n",
      "(24, 43)\n",
      "(24, 43)\n",
      "(24, 43)\n"
     ]
    }
   ],
   "source": [
    "# Testing plot\n",
    "\n",
    "actual_output_test = []\n",
    "network_output_test = []\n",
    "\n",
    " \n",
    "for i in range(previous_sliding_window_length):\n",
    "   \n",
    "    input_v,input_mask = get_pair_Test(sliding_window_test)\n",
    "    _, network_output = sess.run([lstm_update_op1,\n",
    "                                  final_output],\n",
    "                                 feed_dict = {\n",
    "                                     features:input_v})\n",
    "       \n",
    "    array_store=np.array(test[time_step_shift]) \n",
    "    array_store[[0]] = network_output # replace real PM10 values with predicted values\n",
    "    list_store = array_store.tolist() # conver to list\n",
    "    #print(len(list_store))\n",
    "    sliding_window_test.append( list_store) # append new values for prediction\n",
    "    #print(len(sliding_window_test))\n",
    "    sliding_window_test.pop(0) # remove the first value of the list \n",
    "    #print(len(sliding_window_test))\n",
    "    time_step_shift = time_step_shift + 1; # increae the time step\n",
    "    network_output_test.append(network_output)"
   ]
  },
  {
   "cell_type": "code",
   "execution_count": 219,
   "metadata": {
    "collapsed": true
   },
   "outputs": [],
   "source": [
    "a=np.array([[1,2,3],[4,5,6]])"
   ]
  },
  {
   "cell_type": "code",
   "execution_count": 222,
   "metadata": {
    "collapsed": true
   },
   "outputs": [],
   "source": [
    "a[0][0]=4"
   ]
  },
  {
   "cell_type": "code",
   "execution_count": 223,
   "metadata": {},
   "outputs": [
    {
     "data": {
      "text/plain": [
       "array([[4, 2, 3],\n",
       "       [4, 5, 6]])"
      ]
     },
     "execution_count": 223,
     "metadata": {},
     "output_type": "execute_result"
    }
   ],
   "source": [
    "a"
   ]
  },
  {
   "cell_type": "code",
   "execution_count": 248,
   "metadata": {},
   "outputs": [
    {
     "data": {
      "text/plain": [
       "<matplotlib.figure.Figure at 0x12ebebb00>"
      ]
     },
     "metadata": {},
     "output_type": "display_data"
    },
    {
     "data": {
      "image/png": "[encoded data removed]",
      "text/plain": [
       "<matplotlib.figure.Figure at 0x12ebebb70>"
      ]
     },
     "metadata": {},
     "output_type": "display_data"
    }
   ],
   "source": [
    "import matplotlib.pyplot \n",
    "\n",
    "\n",
    "fig = plt.figure(figsize=(30, 2))\n",
    "\n",
    "fig, ax = plt.subplots()\n",
    "ax.plot( np.array(network_output_test).reshape(len(network_output_test),1), 'r-',color=\"purple\",linestyle='-',marker=\"x\",label=\" Test Prediction\")\n",
    "ax.plot(np.array(Target_list[-24:]).reshape(len(Target_list[-24:]),1), 'b-',color='brown',linestyle='--',label=\"Actual values\")\n",
    "\n",
    "#ax.xaxis.set_minor_locator(dates.MonthLocator())\n",
    "#ax.xaxis.set_minor_formatter(dates.DateFormatter('%H:%M:%S'))\n",
    "#ax.xaxis.set_minor_formatter(dates.DateFormatter('%d\\n%a'))\n",
    "#ax.xaxis.grid(True, which=\"minor\")\n",
    "#ax.yaxis.grid()\n",
    "#ax.xaxis.set_major_locator(dates.DayLocator())\n",
    "#ax.xaxis.set_major_formatter(dates.DateFormatter('\\n\\n%a\\%b\\%Y'))\n",
    "#ax.xaxis.set_major_formatter(dates.DateFormatter('%Y-%b-%a %H:%M:%S'))\n",
    "#ax.xaxis.grid(True, which=\"minor\")\n",
    "\n",
    "plt.ylabel(\"PM10 values\",fontweight='bold')\n",
    "plt.xlabel(\"Time/hr\",fontweight='bold')\n",
    "plt.title(\"Test Prediction\",fontweight='bold')\n",
    "\n",
    "\n",
    "#ax.xaxis.set_minor_formatter(dates.DateFormatter('\\n\\n%a\\%b\\%Y'))\n",
    "plt.legend(bbox_to_anchor=(1.04,1), loc=\"upper left\")\n",
    "\n",
    "#plt.xticks( rotation=25 )\n",
    "#plt.tight_layout()\n",
    "\n",
    "plt.show()"
   ]
  },
  {
   "cell_type": "code",
   "execution_count": 241,
   "metadata": {
    "collapsed": true
   },
   "outputs": [],
   "source": [
    "from sklearn.metrics import mean_squared_error"
   ]
  },
  {
   "cell_type": "code",
   "execution_count": 242,
   "metadata": {},
   "outputs": [
    {
     "data": {
      "text/plain": [
       "0.72791042975371634"
      ]
     },
     "execution_count": 242,
     "metadata": {},
     "output_type": "execute_result"
    }
   ],
   "source": [
    "mean_squared_error(np.array(network_output_test).reshape(len(Target_list[-24:]),1),np.array(Target_list[-24:]).reshape(len(network_output_test),1) )**0.5 "
   ]
  },
  {
   "cell_type": "code",
   "execution_count": 243,
   "metadata": {},
   "outputs": [
    {
     "data": {
      "text/plain": [
       "24"
      ]
     },
     "execution_count": 243,
     "metadata": {},
     "output_type": "execute_result"
    }
   ],
   "source": [
    "len(network_output_test)"
   ]
  },
  {
   "cell_type": "code",
   "execution_count": 244,
   "metadata": {
    "collapsed": true
   },
   "outputs": [],
   "source": [
    "import scipy\n",
    "def rsquared(x, y):\n",
    "    \"\"\" Return R^2 where x and y are array-like.\"\"\"\n",
    "    \n",
    "    slope, intercept, r_value, p_value, std_err = scipy.stats.linregress(x, y)\n",
    "    return r_value**2"
   ]
  },
  {
   "cell_type": "code",
   "execution_count": 245,
   "metadata": {},
   "outputs": [
    {
     "data": {
      "text/plain": [
       "0.10106260160003755"
      ]
     },
     "execution_count": 245,
     "metadata": {},
     "output_type": "execute_result"
    }
   ],
   "source": [
    "rsquared(np.array(network_output_test).reshape(len(Target_list[-24:]),),np.array(Target_list[-24:]).reshape(len(network_output_test),) ) "
   ]
  },
  {
   "cell_type": "markdown",
   "metadata": {
    "collapsed": true
   },
   "source": [
    "# Smooth Plot"
   ]
  },
  {
   "cell_type": "code",
   "execution_count": null,
   "metadata": {
    "collapsed": true
   },
   "outputs": [],
   "source": [
    "from scipy.interpolate import interp1d\n"
   ]
  },
  {
   "cell_type": "code",
   "execution_count": null,
   "metadata": {
    "collapsed": true
   },
   "outputs": [],
   "source": [
    "xn_ax = np.linspace(0,24,24*2)\n",
    "\n"
   ]
  },
  {
   "cell_type": "code",
   "execution_count": null,
   "metadata": {
    "collapsed": true
   },
   "outputs": [],
   "source": [
    "x_ax = np.linspace(0,50,48)\n",
    "y_cor=np.array(network_output_test).reshape"
   ]
  },
  {
   "cell_type": "code",
   "execution_count": null,
   "metadata": {
    "collapsed": true
   },
   "outputs": [],
   "source": [
    "y_cor=np.reshape(y_cor,(48))"
   ]
  },
  {
   "cell_type": "code",
   "execution_count": null,
   "metadata": {
    "collapsed": true
   },
   "outputs": [],
   "source": [
    "# new x values\n",
    "xn_ax = np.linspace(1,48,48*10)\n",
    " \n",
    "# new y values\n",
    "yn_cor = interp1d(x_ax,y_cor, kind='cubic')"
   ]
  },
  {
   "cell_type": "code",
   "execution_count": null,
   "metadata": {},
   "outputs": [],
   "source": [
    "plt.plot(xn_ax, yn_cor(xn_ax))\n",
    "plt.xticks(x_ax, x_axis[-48:], size='small', rotation=70)\n",
    "plt.tight_layout()\n",
    "plt.show"
   ]
  },
  {
   "cell_type": "code",
   "execution_count": null,
   "metadata": {
    "collapsed": true
   },
   "outputs": [],
   "source": []
  },
  {
   "cell_type": "markdown",
   "metadata": {
    "collapsed": true
   },
   "source": [
    "# Prediction "
   ]
  },
  {
   "cell_type": "code",
   "execution_count": null,
   "metadata": {
    "collapsed": true
   },
   "outputs": [],
   "source": [
    "from sklearn.metrics import mean_squared_error"
   ]
  },
  {
   "cell_type": "code",
   "execution_count": null,
   "metadata": {
    "collapsed": true
   },
   "outputs": [],
   "source": [
    "mean_squared_error(real.PM10, pred_)**0.5   # using scikit rmse function"
   ]
  },
  {
   "cell_type": "code",
   "execution_count": null,
   "metadata": {
    "collapsed": true
   },
   "outputs": [],
   "source": [
    "rmse =np.sqrt(np.sum((pred.values-real.PM10)**2)/len(pred))"
   ]
  },
  {
   "cell_type": "code",
   "execution_count": null,
   "metadata": {
    "collapsed": true
   },
   "outputs": [],
   "source": []
  },
  {
   "cell_type": "code",
   "execution_count": null,
   "metadata": {
    "collapsed": true
   },
   "outputs": [],
   "source": []
  },
  {
   "cell_type": "code",
   "execution_count": null,
   "metadata": {
    "collapsed": true
   },
   "outputs": [],
   "source": []
  },
  {
   "cell_type": "code",
   "execution_count": null,
   "metadata": {
    "collapsed": true
   },
   "outputs": [],
   "source": []
  },
  {
   "cell_type": "code",
   "execution_count": null,
   "metadata": {
    "collapsed": true
   },
   "outputs": [],
   "source": []
  },
  {
   "cell_type": "code",
   "execution_count": null,
   "metadata": {
    "collapsed": true
   },
   "outputs": [],
   "source": []
  },
  {
   "cell_type": "code",
   "execution_count": 78,
   "metadata": {
    "collapsed": true
   },
   "outputs": [],
   "source": []
  },
  {
   "cell_type": "code",
   "execution_count": 79,
   "metadata": {
    "collapsed": true
   },
   "outputs": [],
   "source": [
    "\n"
   ]
  },
  {
   "cell_type": "code",
   "execution_count": null,
   "metadata": {
    "collapsed": true
   },
   "outputs": [],
   "source": []
  },
  {
   "cell_type": "code",
   "execution_count": null,
   "metadata": {
    "collapsed": true
   },
   "outputs": [],
   "source": []
  },
  {
   "cell_type": "code",
   "execution_count": null,
   "metadata": {
    "collapsed": true
   },
   "outputs": [],
   "source": []
  },
  {
   "cell_type": "code",
   "execution_count": null,
   "metadata": {
    "collapsed": true
   },
   "outputs": [],
   "source": []
  },
  {
   "cell_type": "code",
   "execution_count": null,
   "metadata": {
    "collapsed": true
   },
   "outputs": [],
   "source": []
  },
  {
   "cell_type": "code",
   "execution_count": null,
   "metadata": {
    "collapsed": true
   },
   "outputs": [],
   "source": []
  },
  {
   "cell_type": "code",
   "execution_count": null,
   "metadata": {
    "collapsed": true
   },
   "outputs": [],
   "source": []
  },
  {
   "cell_type": "code",
   "execution_count": null,
   "metadata": {
    "collapsed": true
   },
   "outputs": [],
   "source": []
  },
  {
   "cell_type": "code",
   "execution_count": null,
   "metadata": {
    "collapsed": true
   },
   "outputs": [],
   "source": []
  },
  {
   "cell_type": "code",
   "execution_count": null,
   "metadata": {
    "collapsed": true
   },
   "outputs": [],
   "source": []
  },
  {
   "cell_type": "code",
   "execution_count": null,
   "metadata": {
    "collapsed": true
   },
   "outputs": [],
   "source": []
  },
  {
   "cell_type": "code",
   "execution_count": null,
   "metadata": {
    "collapsed": true
   },
   "outputs": [],
   "source": []
  },
  {
   "cell_type": "code",
   "execution_count": null,
   "metadata": {
    "collapsed": true
   },
   "outputs": [],
   "source": []
  },
  {
   "cell_type": "code",
   "execution_count": null,
   "metadata": {
    "collapsed": true
   },
   "outputs": [],
   "source": []
  },
  {
   "cell_type": "code",
   "execution_count": null,
   "metadata": {
    "collapsed": true
   },
   "outputs": [],
   "source": []
  },
  {
   "cell_type": "code",
   "execution_count": null,
   "metadata": {
    "collapsed": true
   },
   "outputs": [],
   "source": []
  },
  {
   "cell_type": "code",
   "execution_count": null,
   "metadata": {
    "collapsed": true
   },
   "outputs": [],
   "source": []
  },
  {
   "cell_type": "code",
   "execution_count": null,
   "metadata": {
    "collapsed": true
   },
   "outputs": [],
   "source": []
  }
 ],
 "metadata": {
  "anaconda-cloud": {},
  "kernelspec": {
   "display_name": "Python [conda env:seychelles]",
   "language": "python",
   "name": "conda-env-seychelles-py"
  },
  "language_info": {
   "codemirror_mode": {
    "name": "ipython",
    "version": 3
   },
   "file_extension": ".py",
   "mimetype": "text/x-python",
   "name": "python",
   "nbconvert_exporter": "python",
   "pygments_lexer": "ipython3",
   "version": "3.5.2"
  }
 },
 "nbformat": 4,
 "nbformat_minor": 1
}
