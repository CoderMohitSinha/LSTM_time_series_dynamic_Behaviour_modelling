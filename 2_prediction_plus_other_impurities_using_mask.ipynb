{
 "cells": [
  {
   "cell_type": "code",
   "execution_count": 1,
   "metadata": {},
   "outputs": [
    {
     "name": "stdout",
     "output_type": "stream",
     "text": [
      "0.11.0\n"
     ]
    }
   ],
   "source": [
    "import tensorflow as tf\n",
    "print(tf.__version__)"
   ]
  },
  {
   "cell_type": "code",
   "execution_count": 2,
   "metadata": {
    "collapsed": true
   },
   "outputs": [],
   "source": [
    "%matplotlib inline\n",
    "import numpy.ma as ma\n",
    "from numpy import isfinite\n",
    "\n",
    "\n",
    "\n",
    "import numpy as np\n",
    "from matplotlib import pyplot as plt\n",
    "#from tensorflow.nn.rnn import *\n",
    "from tensorflow.python.ops  import *\n",
    "\n",
    "%load_ext autoreload\n",
    "%autoreload 2"
   ]
  },
  {
   "cell_type": "code",
   "execution_count": 3,
   "metadata": {
    "collapsed": true
   },
   "outputs": [],
   "source": [
    "import numpy as np\n",
    "import pandas as pd\n",
    "import tensorflow as tf\n",
    "from tensorflow.python.framework import dtypes\n",
    "\n",
    "import seaborn as sns"
   ]
  },
  {
   "cell_type": "code",
   "execution_count": 4,
   "metadata": {},
   "outputs": [
    {
     "name": "stdout",
     "output_type": "stream",
     "text": [
      "/\n"
     ]
    }
   ],
   "source": [
    "cd /"
   ]
  },
  {
   "cell_type": "code",
   "execution_count": 5,
   "metadata": {},
   "outputs": [
    {
     "name": "stdout",
     "output_type": "stream",
     "text": [
      "/Users/Seychelles/Desktop/GoogleTensorflow/Data_Collector/CSV_file_from_2007_to_2017\n"
     ]
    }
   ],
   "source": [
    "cd Users/Seychelles/Desktop/GoogleTensorflow/Data_Collector/CSV_file_from_2007_to_2017/"
   ]
  },
  {
   "cell_type": "code",
   "execution_count": 6,
   "metadata": {
    "collapsed": true
   },
   "outputs": [],
   "source": [
    "DataKarpos = pd.read_csv('Target.csv') # Only Karpos Location is used here . Other locations are zero"
   ]
  },
  {
   "cell_type": "code",
   "execution_count": null,
   "metadata": {
    "collapsed": true
   },
   "outputs": [],
   "source": []
  },
  {
   "cell_type": "code",
   "execution_count": 7,
   "metadata": {},
   "outputs": [
    {
     "name": "stdout",
     "output_type": "stream",
     "text": [
      "Number of columns present : \n"
     ]
    },
    {
     "data": {
      "text/plain": [
       "27"
      ]
     },
     "execution_count": 7,
     "metadata": {},
     "output_type": "execute_result"
    }
   ],
   "source": [
    "print (\"Number of columns present : \");DataKarpos.columns.values.size"
   ]
  },
  {
   "cell_type": "code",
   "execution_count": 8,
   "metadata": {},
   "outputs": [
    {
     "data": {
      "text/plain": [
       "Index(['Unnamed: 0', 'date', 'PM10', 'NAME', 'PM10_null_pointers', 'CO',\n",
       "       'CO_null_pointers', 'NO2', 'NO2_null_pointers', 'O3',\n",
       "       'O3_null_pointers', 'PM25', 'PM25_null_pointers', 'time', 'month',\n",
       "       'day', 'hour', 'daysInterval', 'days_interval', 'hour_interval',\n",
       "       'Centar', 'Gazi Baba', 'Karpos', 'Lisice', 'Miladinovci', 'Mrsevci',\n",
       "       'Rektorat'],\n",
       "      dtype='object')"
      ]
     },
     "execution_count": 8,
     "metadata": {},
     "output_type": "execute_result"
    }
   ],
   "source": [
    "DataKarpos.columns"
   ]
  },
  {
   "cell_type": "code",
   "execution_count": 9,
   "metadata": {},
   "outputs": [
    {
     "name": "stderr",
     "output_type": "stream",
     "text": [
      "//anaconda/envs/seychelles/lib/python3.5/site-packages/numpy/lib/function_base.py:3834: RuntimeWarning: Invalid value encountered in percentile\n",
      "  RuntimeWarning)\n"
     ]
    },
    {
     "data": {
      "text/html": [
       "<div>\n",
       "<table border=\"1\" class=\"dataframe\">\n",
       "  <thead>\n",
       "    <tr style=\"text-align: right;\">\n",
       "      <th></th>\n",
       "      <th>Unnamed: 0</th>\n",
       "      <th>PM10</th>\n",
       "      <th>PM10_null_pointers</th>\n",
       "      <th>CO</th>\n",
       "      <th>CO_null_pointers</th>\n",
       "      <th>NO2</th>\n",
       "      <th>NO2_null_pointers</th>\n",
       "      <th>O3</th>\n",
       "      <th>O3_null_pointers</th>\n",
       "      <th>PM25</th>\n",
       "      <th>...</th>\n",
       "      <th>hour</th>\n",
       "      <th>days_interval</th>\n",
       "      <th>hour_interval</th>\n",
       "      <th>Centar</th>\n",
       "      <th>Gazi Baba</th>\n",
       "      <th>Karpos</th>\n",
       "      <th>Lisice</th>\n",
       "      <th>Miladinovci</th>\n",
       "      <th>Mrsevci</th>\n",
       "      <th>Rektorat</th>\n",
       "    </tr>\n",
       "  </thead>\n",
       "  <tbody>\n",
       "    <tr>\n",
       "      <th>count</th>\n",
       "      <td>89500.000000</td>\n",
       "      <td>60629.000000</td>\n",
       "      <td>89500.000000</td>\n",
       "      <td>57342.000000</td>\n",
       "      <td>89500.000000</td>\n",
       "      <td>42360.000000</td>\n",
       "      <td>89500.000000</td>\n",
       "      <td>50553.000000</td>\n",
       "      <td>89500.000000</td>\n",
       "      <td>36143.000000</td>\n",
       "      <td>...</td>\n",
       "      <td>89500.000000</td>\n",
       "      <td>89500.0</td>\n",
       "      <td>89500.000000</td>\n",
       "      <td>89500.0</td>\n",
       "      <td>89500.0</td>\n",
       "      <td>89500.0</td>\n",
       "      <td>89500.0</td>\n",
       "      <td>89500.0</td>\n",
       "      <td>89500.0</td>\n",
       "      <td>89500.0</td>\n",
       "    </tr>\n",
       "    <tr>\n",
       "      <th>mean</th>\n",
       "      <td>313249.476067</td>\n",
       "      <td>-0.078455</td>\n",
       "      <td>0.677419</td>\n",
       "      <td>-0.126302</td>\n",
       "      <td>0.640693</td>\n",
       "      <td>-0.025275</td>\n",
       "      <td>0.473296</td>\n",
       "      <td>0.164331</td>\n",
       "      <td>0.564838</td>\n",
       "      <td>0.066891</td>\n",
       "      <td>...</td>\n",
       "      <td>11.502346</td>\n",
       "      <td>0.0</td>\n",
       "      <td>0.096425</td>\n",
       "      <td>0.0</td>\n",
       "      <td>0.0</td>\n",
       "      <td>1.0</td>\n",
       "      <td>0.0</td>\n",
       "      <td>0.0</td>\n",
       "      <td>0.0</td>\n",
       "      <td>0.0</td>\n",
       "    </tr>\n",
       "    <tr>\n",
       "      <th>std</th>\n",
       "      <td>180855.980629</td>\n",
       "      <td>0.851036</td>\n",
       "      <td>0.467467</td>\n",
       "      <td>0.481382</td>\n",
       "      <td>0.479800</td>\n",
       "      <td>0.601696</td>\n",
       "      <td>0.499289</td>\n",
       "      <td>1.059082</td>\n",
       "      <td>0.495781</td>\n",
       "      <td>1.096480</td>\n",
       "      <td>...</td>\n",
       "      <td>6.921202</td>\n",
       "      <td>0.0</td>\n",
       "      <td>0.295174</td>\n",
       "      <td>0.0</td>\n",
       "      <td>0.0</td>\n",
       "      <td>0.0</td>\n",
       "      <td>0.0</td>\n",
       "      <td>0.0</td>\n",
       "      <td>0.0</td>\n",
       "      <td>0.0</td>\n",
       "    </tr>\n",
       "    <tr>\n",
       "      <th>min</th>\n",
       "      <td>7.000000</td>\n",
       "      <td>-0.875321</td>\n",
       "      <td>0.000000</td>\n",
       "      <td>-0.465316</td>\n",
       "      <td>0.000000</td>\n",
       "      <td>-0.775219</td>\n",
       "      <td>0.000000</td>\n",
       "      <td>-1.071914</td>\n",
       "      <td>0.000000</td>\n",
       "      <td>-0.860290</td>\n",
       "      <td>...</td>\n",
       "      <td>0.000000</td>\n",
       "      <td>0.0</td>\n",
       "      <td>0.000000</td>\n",
       "      <td>0.0</td>\n",
       "      <td>0.0</td>\n",
       "      <td>1.0</td>\n",
       "      <td>0.0</td>\n",
       "      <td>0.0</td>\n",
       "      <td>0.0</td>\n",
       "      <td>0.0</td>\n",
       "    </tr>\n",
       "    <tr>\n",
       "      <th>25%</th>\n",
       "      <td>156623.250000</td>\n",
       "      <td>NaN</td>\n",
       "      <td>0.000000</td>\n",
       "      <td>NaN</td>\n",
       "      <td>0.000000</td>\n",
       "      <td>NaN</td>\n",
       "      <td>0.000000</td>\n",
       "      <td>NaN</td>\n",
       "      <td>0.000000</td>\n",
       "      <td>NaN</td>\n",
       "      <td>...</td>\n",
       "      <td>6.000000</td>\n",
       "      <td>0.0</td>\n",
       "      <td>0.000000</td>\n",
       "      <td>0.0</td>\n",
       "      <td>0.0</td>\n",
       "      <td>1.0</td>\n",
       "      <td>0.0</td>\n",
       "      <td>0.0</td>\n",
       "      <td>0.0</td>\n",
       "      <td>0.0</td>\n",
       "    </tr>\n",
       "    <tr>\n",
       "      <th>50%</th>\n",
       "      <td>313248.000000</td>\n",
       "      <td>NaN</td>\n",
       "      <td>1.000000</td>\n",
       "      <td>NaN</td>\n",
       "      <td>1.000000</td>\n",
       "      <td>NaN</td>\n",
       "      <td>0.000000</td>\n",
       "      <td>NaN</td>\n",
       "      <td>1.000000</td>\n",
       "      <td>NaN</td>\n",
       "      <td>...</td>\n",
       "      <td>12.000000</td>\n",
       "      <td>0.0</td>\n",
       "      <td>0.000000</td>\n",
       "      <td>0.0</td>\n",
       "      <td>0.0</td>\n",
       "      <td>1.0</td>\n",
       "      <td>0.0</td>\n",
       "      <td>0.0</td>\n",
       "      <td>0.0</td>\n",
       "      <td>0.0</td>\n",
       "    </tr>\n",
       "    <tr>\n",
       "      <th>75%</th>\n",
       "      <td>469873.500000</td>\n",
       "      <td>NaN</td>\n",
       "      <td>1.000000</td>\n",
       "      <td>NaN</td>\n",
       "      <td>1.000000</td>\n",
       "      <td>NaN</td>\n",
       "      <td>1.000000</td>\n",
       "      <td>NaN</td>\n",
       "      <td>1.000000</td>\n",
       "      <td>NaN</td>\n",
       "      <td>...</td>\n",
       "      <td>18.000000</td>\n",
       "      <td>0.0</td>\n",
       "      <td>0.000000</td>\n",
       "      <td>0.0</td>\n",
       "      <td>0.0</td>\n",
       "      <td>1.0</td>\n",
       "      <td>0.0</td>\n",
       "      <td>0.0</td>\n",
       "      <td>0.0</td>\n",
       "      <td>0.0</td>\n",
       "    </tr>\n",
       "    <tr>\n",
       "      <th>max</th>\n",
       "      <td>626496.000000</td>\n",
       "      <td>9.045878</td>\n",
       "      <td>1.000000</td>\n",
       "      <td>4.243175</td>\n",
       "      <td>1.000000</td>\n",
       "      <td>9.176899</td>\n",
       "      <td>1.000000</td>\n",
       "      <td>9.258671</td>\n",
       "      <td>1.000000</td>\n",
       "      <td>11.020234</td>\n",
       "      <td>...</td>\n",
       "      <td>23.000000</td>\n",
       "      <td>0.0</td>\n",
       "      <td>1.000000</td>\n",
       "      <td>0.0</td>\n",
       "      <td>0.0</td>\n",
       "      <td>1.0</td>\n",
       "      <td>0.0</td>\n",
       "      <td>0.0</td>\n",
       "      <td>0.0</td>\n",
       "      <td>0.0</td>\n",
       "    </tr>\n",
       "  </tbody>\n",
       "</table>\n",
       "<p>8 rows × 23 columns</p>\n",
       "</div>"
      ],
      "text/plain": [
       "          Unnamed: 0          PM10  PM10_null_pointers            CO  \\\n",
       "count   89500.000000  60629.000000        89500.000000  57342.000000   \n",
       "mean   313249.476067     -0.078455            0.677419     -0.126302   \n",
       "std    180855.980629      0.851036            0.467467      0.481382   \n",
       "min         7.000000     -0.875321            0.000000     -0.465316   \n",
       "25%    156623.250000           NaN            0.000000           NaN   \n",
       "50%    313248.000000           NaN            1.000000           NaN   \n",
       "75%    469873.500000           NaN            1.000000           NaN   \n",
       "max    626496.000000      9.045878            1.000000      4.243175   \n",
       "\n",
       "       CO_null_pointers           NO2  NO2_null_pointers            O3  \\\n",
       "count      89500.000000  42360.000000       89500.000000  50553.000000   \n",
       "mean           0.640693     -0.025275           0.473296      0.164331   \n",
       "std            0.479800      0.601696           0.499289      1.059082   \n",
       "min            0.000000     -0.775219           0.000000     -1.071914   \n",
       "25%            0.000000           NaN           0.000000           NaN   \n",
       "50%            1.000000           NaN           0.000000           NaN   \n",
       "75%            1.000000           NaN           1.000000           NaN   \n",
       "max            1.000000      9.176899           1.000000      9.258671   \n",
       "\n",
       "       O3_null_pointers          PM25    ...             hour  days_interval  \\\n",
       "count      89500.000000  36143.000000    ...     89500.000000        89500.0   \n",
       "mean           0.564838      0.066891    ...        11.502346            0.0   \n",
       "std            0.495781      1.096480    ...         6.921202            0.0   \n",
       "min            0.000000     -0.860290    ...         0.000000            0.0   \n",
       "25%            0.000000           NaN    ...         6.000000            0.0   \n",
       "50%            1.000000           NaN    ...        12.000000            0.0   \n",
       "75%            1.000000           NaN    ...        18.000000            0.0   \n",
       "max            1.000000     11.020234    ...        23.000000            0.0   \n",
       "\n",
       "       hour_interval   Centar  Gazi Baba   Karpos   Lisice  Miladinovci  \\\n",
       "count   89500.000000  89500.0    89500.0  89500.0  89500.0      89500.0   \n",
       "mean        0.096425      0.0        0.0      1.0      0.0          0.0   \n",
       "std         0.295174      0.0        0.0      0.0      0.0          0.0   \n",
       "min         0.000000      0.0        0.0      1.0      0.0          0.0   \n",
       "25%         0.000000      0.0        0.0      1.0      0.0          0.0   \n",
       "50%         0.000000      0.0        0.0      1.0      0.0          0.0   \n",
       "75%         0.000000      0.0        0.0      1.0      0.0          0.0   \n",
       "max         1.000000      0.0        0.0      1.0      0.0          0.0   \n",
       "\n",
       "       Mrsevci  Rektorat  \n",
       "count  89500.0   89500.0  \n",
       "mean       0.0       0.0  \n",
       "std        0.0       0.0  \n",
       "min        0.0       0.0  \n",
       "25%        0.0       0.0  \n",
       "50%        0.0       0.0  \n",
       "75%        0.0       0.0  \n",
       "max        0.0       0.0  \n",
       "\n",
       "[8 rows x 23 columns]"
      ]
     },
     "execution_count": 9,
     "metadata": {},
     "output_type": "execute_result"
    }
   ],
   "source": [
    "DataKarpos.describe() # Describe data input "
   ]
  },
  {
   "cell_type": "code",
   "execution_count": 10,
   "metadata": {},
   "outputs": [
    {
     "name": "stdout",
     "output_type": "stream",
     "text": [
      "<class 'pandas.core.frame.DataFrame'>\n",
      "RangeIndex: 89500 entries, 0 to 89499\n",
      "Data columns (total 27 columns):\n",
      "Unnamed: 0            89500 non-null int64\n",
      "date                  89500 non-null object\n",
      "PM10                  60629 non-null float64\n",
      "NAME                  89500 non-null object\n",
      "PM10_null_pointers    89500 non-null int64\n",
      "CO                    57342 non-null float64\n",
      "CO_null_pointers      89500 non-null int64\n",
      "NO2                   42360 non-null float64\n",
      "NO2_null_pointers     89500 non-null int64\n",
      "O3                    50553 non-null float64\n",
      "O3_null_pointers      89500 non-null int64\n",
      "PM25                  36143 non-null float64\n",
      "PM25_null_pointers    89500 non-null int64\n",
      "time                  89500 non-null object\n",
      "month                 89500 non-null int64\n",
      "day                   89500 non-null int64\n",
      "hour                  89500 non-null int64\n",
      "daysInterval          89500 non-null object\n",
      "days_interval         89500 non-null int64\n",
      "hour_interval         89500 non-null int64\n",
      "Centar                89500 non-null float64\n",
      "Gazi Baba             89500 non-null float64\n",
      "Karpos                89500 non-null float64\n",
      "Lisice                89500 non-null float64\n",
      "Miladinovci           89500 non-null float64\n",
      "Mrsevci               89500 non-null float64\n",
      "Rektorat              89500 non-null float64\n",
      "dtypes: float64(12), int64(11), object(4)\n",
      "memory usage: 18.4+ MB\n"
     ]
    }
   ],
   "source": [
    "DataKarpos.info()"
   ]
  },
  {
   "cell_type": "markdown",
   "metadata": {},
   "source": [
    "## Extract Data And Feature set"
   ]
  },
  {
   "cell_type": "code",
   "execution_count": 11,
   "metadata": {
    "collapsed": true
   },
   "outputs": [],
   "source": [
    "TargetKarpos = DataKarpos[['PM10']].copy(deep=True) # copy PM10 data out from data sets"
   ]
  },
  {
   "cell_type": "code",
   "execution_count": 12,
   "metadata": {
    "collapsed": true
   },
   "outputs": [],
   "source": [
    "features_set = DataKarpos.copy(deep=True)"
   ]
  },
  {
   "cell_type": "code",
   "execution_count": 13,
   "metadata": {
    "collapsed": true
   },
   "outputs": [],
   "source": [
    "#del features_set['PM10'] # delete feature set  from data set"
   ]
  },
  {
   "cell_type": "code",
   "execution_count": 14,
   "metadata": {
    "collapsed": true
   },
   "outputs": [],
   "source": [
    "features_set.drop(['Unnamed: 0','date','day', 'time','Lisice', 'Miladinovci', 'Mrsevci',\n",
    "       'Rektorat','daysInterval','NAME', 'hour_interval', 'days_interval','Centar', 'Gazi Baba'],axis=1,inplace=True)"
   ]
  },
  {
   "cell_type": "code",
   "execution_count": 15,
   "metadata": {},
   "outputs": [
    {
     "name": "stdout",
     "output_type": "stream",
     "text": [
      "Number of columns present in Future set : \n"
     ]
    },
    {
     "data": {
      "text/plain": [
       "13"
      ]
     },
     "execution_count": 15,
     "metadata": {},
     "output_type": "execute_result"
    }
   ],
   "source": [
    "print (\"Number of columns present in Future set : \");features_set.columns.values.size"
   ]
  },
  {
   "cell_type": "code",
   "execution_count": 16,
   "metadata": {},
   "outputs": [
    {
     "data": {
      "text/plain": [
       "Index(['PM10', 'PM10_null_pointers', 'CO', 'CO_null_pointers', 'NO2',\n",
       "       'NO2_null_pointers', 'O3', 'O3_null_pointers', 'PM25',\n",
       "       'PM25_null_pointers', 'month', 'hour', 'Karpos'],\n",
       "      dtype='object')"
      ]
     },
     "execution_count": 16,
     "metadata": {},
     "output_type": "execute_result"
    }
   ],
   "source": [
    "features_set.columns"
   ]
  },
  {
   "cell_type": "code",
   "execution_count": 17,
   "metadata": {},
   "outputs": [
    {
     "data": {
      "text/html": [
       "<div>\n",
       "<table border=\"1\" class=\"dataframe\">\n",
       "  <thead>\n",
       "    <tr style=\"text-align: right;\">\n",
       "      <th></th>\n",
       "      <th>PM10</th>\n",
       "      <th>PM10_null_pointers</th>\n",
       "      <th>CO</th>\n",
       "      <th>CO_null_pointers</th>\n",
       "      <th>NO2</th>\n",
       "      <th>NO2_null_pointers</th>\n",
       "      <th>O3</th>\n",
       "      <th>O3_null_pointers</th>\n",
       "      <th>PM25</th>\n",
       "      <th>PM25_null_pointers</th>\n",
       "      <th>month</th>\n",
       "      <th>hour</th>\n",
       "      <th>Karpos</th>\n",
       "    </tr>\n",
       "  </thead>\n",
       "  <tbody>\n",
       "    <tr>\n",
       "      <th>1</th>\n",
       "      <td>0.950396</td>\n",
       "      <td>1</td>\n",
       "      <td>0.332930</td>\n",
       "      <td>1</td>\n",
       "      <td>NaN</td>\n",
       "      <td>0</td>\n",
       "      <td>-0.094688</td>\n",
       "      <td>1</td>\n",
       "      <td>NaN</td>\n",
       "      <td>0</td>\n",
       "      <td>1</td>\n",
       "      <td>0</td>\n",
       "      <td>1.0</td>\n",
       "    </tr>\n",
       "    <tr>\n",
       "      <th>2</th>\n",
       "      <td>0.470237</td>\n",
       "      <td>1</td>\n",
       "      <td>0.118908</td>\n",
       "      <td>1</td>\n",
       "      <td>NaN</td>\n",
       "      <td>0</td>\n",
       "      <td>-0.076718</td>\n",
       "      <td>1</td>\n",
       "      <td>NaN</td>\n",
       "      <td>0</td>\n",
       "      <td>1</td>\n",
       "      <td>1</td>\n",
       "      <td>1.0</td>\n",
       "    </tr>\n",
       "    <tr>\n",
       "      <th>3</th>\n",
       "      <td>0.470237</td>\n",
       "      <td>1</td>\n",
       "      <td>0.118908</td>\n",
       "      <td>1</td>\n",
       "      <td>NaN</td>\n",
       "      <td>0</td>\n",
       "      <td>-0.076718</td>\n",
       "      <td>1</td>\n",
       "      <td>NaN</td>\n",
       "      <td>0</td>\n",
       "      <td>1</td>\n",
       "      <td>1</td>\n",
       "      <td>1.0</td>\n",
       "    </tr>\n",
       "    <tr>\n",
       "      <th>4</th>\n",
       "      <td>0.270084</td>\n",
       "      <td>1</td>\n",
       "      <td>-0.031487</td>\n",
       "      <td>1</td>\n",
       "      <td>NaN</td>\n",
       "      <td>0</td>\n",
       "      <td>-0.030862</td>\n",
       "      <td>1</td>\n",
       "      <td>NaN</td>\n",
       "      <td>0</td>\n",
       "      <td>1</td>\n",
       "      <td>2</td>\n",
       "      <td>1.0</td>\n",
       "    </tr>\n",
       "  </tbody>\n",
       "</table>\n",
       "</div>"
      ],
      "text/plain": [
       "       PM10  PM10_null_pointers        CO  CO_null_pointers  NO2  \\\n",
       "1  0.950396                   1  0.332930                 1  NaN   \n",
       "2  0.470237                   1  0.118908                 1  NaN   \n",
       "3  0.470237                   1  0.118908                 1  NaN   \n",
       "4  0.270084                   1 -0.031487                 1  NaN   \n",
       "\n",
       "   NO2_null_pointers        O3  O3_null_pointers  PM25  PM25_null_pointers  \\\n",
       "1                  0 -0.094688                 1   NaN                   0   \n",
       "2                  0 -0.076718                 1   NaN                   0   \n",
       "3                  0 -0.076718                 1   NaN                   0   \n",
       "4                  0 -0.030862                 1   NaN                   0   \n",
       "\n",
       "   month  hour  Karpos  \n",
       "1      1     0     1.0  \n",
       "2      1     1     1.0  \n",
       "3      1     1     1.0  \n",
       "4      1     2     1.0  "
      ]
     },
     "execution_count": 17,
     "metadata": {},
     "output_type": "execute_result"
    }
   ],
   "source": [
    "features_set[1:5] # Our feature set now comes out neat.\n",
    "                  # Notice PM10 has been included in feature set."
   ]
  },
  {
   "cell_type": "code",
   "execution_count": null,
   "metadata": {
    "collapsed": true
   },
   "outputs": [],
   "source": []
  },
  {
   "cell_type": "markdown",
   "metadata": {},
   "source": [
    "# Analysis Of Mising Values For PM10"
   ]
  },
  {
   "cell_type": "code",
   "execution_count": 18,
   "metadata": {
    "collapsed": true
   },
   "outputs": [],
   "source": [
    "# Target and TargetKarpos defined above are the same"
   ]
  },
  {
   "cell_type": "code",
   "execution_count": 19,
   "metadata": {
    "collapsed": true
   },
   "outputs": [],
   "source": [
    "Target = DataKarpos[['PM10']].copy(deep=True)"
   ]
  },
  {
   "cell_type": "code",
   "execution_count": 20,
   "metadata": {},
   "outputs": [
    {
     "data": {
      "text/plain": [
       "(89500, 1)"
      ]
     },
     "execution_count": 20,
     "metadata": {},
     "output_type": "execute_result"
    }
   ],
   "source": [
    "Target.shape"
   ]
  },
  {
   "cell_type": "code",
   "execution_count": 21,
   "metadata": {
    "collapsed": true
   },
   "outputs": [],
   "source": [
    "null_data_PM10 = Target[Target.isnull().any(axis=1)] # extract data sets with null values"
   ]
  },
  {
   "cell_type": "code",
   "execution_count": 22,
   "metadata": {},
   "outputs": [
    {
     "name": "stderr",
     "output_type": "stream",
     "text": [
      "//anaconda/envs/seychelles/lib/python3.5/site-packages/numpy/lib/function_base.py:3834: RuntimeWarning: Invalid value encountered in percentile\n",
      "  RuntimeWarning)\n"
     ]
    },
    {
     "data": {
      "text/html": [
       "<div>\n",
       "<table border=\"1\" class=\"dataframe\">\n",
       "  <thead>\n",
       "    <tr style=\"text-align: right;\">\n",
       "      <th></th>\n",
       "      <th>PM10</th>\n",
       "    </tr>\n",
       "  </thead>\n",
       "  <tbody>\n",
       "    <tr>\n",
       "      <th>count</th>\n",
       "      <td>0.0</td>\n",
       "    </tr>\n",
       "    <tr>\n",
       "      <th>mean</th>\n",
       "      <td>NaN</td>\n",
       "    </tr>\n",
       "    <tr>\n",
       "      <th>std</th>\n",
       "      <td>NaN</td>\n",
       "    </tr>\n",
       "    <tr>\n",
       "      <th>min</th>\n",
       "      <td>NaN</td>\n",
       "    </tr>\n",
       "    <tr>\n",
       "      <th>25%</th>\n",
       "      <td>NaN</td>\n",
       "    </tr>\n",
       "    <tr>\n",
       "      <th>50%</th>\n",
       "      <td>NaN</td>\n",
       "    </tr>\n",
       "    <tr>\n",
       "      <th>75%</th>\n",
       "      <td>NaN</td>\n",
       "    </tr>\n",
       "    <tr>\n",
       "      <th>max</th>\n",
       "      <td>NaN</td>\n",
       "    </tr>\n",
       "  </tbody>\n",
       "</table>\n",
       "</div>"
      ],
      "text/plain": [
       "       PM10\n",
       "count   0.0\n",
       "mean    NaN\n",
       "std     NaN\n",
       "min     NaN\n",
       "25%     NaN\n",
       "50%     NaN\n",
       "75%     NaN\n",
       "max     NaN"
      ]
     },
     "execution_count": 22,
     "metadata": {},
     "output_type": "execute_result"
    }
   ],
   "source": [
    "null_data_PM10.describe()"
   ]
  },
  {
   "cell_type": "code",
   "execution_count": 23,
   "metadata": {},
   "outputs": [
    {
     "name": "stdout",
     "output_type": "stream",
     "text": [
      "<class 'pandas.core.frame.DataFrame'>\n",
      "Int64Index: 28871 entries, 168 to 86692\n",
      "Data columns (total 1 columns):\n",
      "PM10    0 non-null float64\n",
      "dtypes: float64(1)\n",
      "memory usage: 451.1 KB\n"
     ]
    }
   ],
   "source": [
    "null_data_PM10.info() # Info about  non-null"
   ]
  },
  {
   "cell_type": "code",
   "execution_count": 24,
   "metadata": {},
   "outputs": [
    {
     "name": "stdout",
     "output_type": "stream",
     "text": [
      "<class 'pandas.core.frame.DataFrame'>\n",
      "RangeIndex: 89500 entries, 0 to 89499\n",
      "Data columns (total 1 columns):\n",
      "PM10    60629 non-null float64\n",
      "dtypes: float64(1)\n",
      "memory usage: 699.3 KB\n"
     ]
    }
   ],
   "source": [
    "Target.info()"
   ]
  },
  {
   "cell_type": "code",
   "execution_count": 25,
   "metadata": {},
   "outputs": [
    {
     "name": "stderr",
     "output_type": "stream",
     "text": [
      "//anaconda/envs/seychelles/lib/python3.5/site-packages/numpy/lib/function_base.py:3834: RuntimeWarning: Invalid value encountered in percentile\n",
      "  RuntimeWarning)\n"
     ]
    },
    {
     "data": {
      "text/html": [
       "<div>\n",
       "<table border=\"1\" class=\"dataframe\">\n",
       "  <thead>\n",
       "    <tr style=\"text-align: right;\">\n",
       "      <th></th>\n",
       "      <th>PM10</th>\n",
       "    </tr>\n",
       "  </thead>\n",
       "  <tbody>\n",
       "    <tr>\n",
       "      <th>count</th>\n",
       "      <td>60629.000000</td>\n",
       "    </tr>\n",
       "    <tr>\n",
       "      <th>mean</th>\n",
       "      <td>-0.078455</td>\n",
       "    </tr>\n",
       "    <tr>\n",
       "      <th>std</th>\n",
       "      <td>0.851036</td>\n",
       "    </tr>\n",
       "    <tr>\n",
       "      <th>min</th>\n",
       "      <td>-0.875321</td>\n",
       "    </tr>\n",
       "    <tr>\n",
       "      <th>25%</th>\n",
       "      <td>NaN</td>\n",
       "    </tr>\n",
       "    <tr>\n",
       "      <th>50%</th>\n",
       "      <td>NaN</td>\n",
       "    </tr>\n",
       "    <tr>\n",
       "      <th>75%</th>\n",
       "      <td>NaN</td>\n",
       "    </tr>\n",
       "    <tr>\n",
       "      <th>max</th>\n",
       "      <td>9.045878</td>\n",
       "    </tr>\n",
       "  </tbody>\n",
       "</table>\n",
       "</div>"
      ],
      "text/plain": [
       "               PM10\n",
       "count  60629.000000\n",
       "mean      -0.078455\n",
       "std        0.851036\n",
       "min       -0.875321\n",
       "25%             NaN\n",
       "50%             NaN\n",
       "75%             NaN\n",
       "max        9.045878"
      ]
     },
     "execution_count": 25,
     "metadata": {},
     "output_type": "execute_result"
    }
   ],
   "source": [
    "Target.describe()"
   ]
  },
  {
   "cell_type": "code",
   "execution_count": 26,
   "metadata": {
    "collapsed": true
   },
   "outputs": [],
   "source": [
    "def getPctMissing(series):\n",
    "    '''\n",
    "    Returns percentage of Missing data in a data set.\n",
    "    Input : Pandas series\n",
    "    Output: Percentage of missing data in data set\n",
    "    '''\n",
    "    num = series.isnull().sum()\n",
    "    Total_data = len(series)\n",
    "    return 100*(num/Total_data)"
   ]
  },
  {
   "cell_type": "code",
   "execution_count": 27,
   "metadata": {},
   "outputs": [
    {
     "name": "stdout",
     "output_type": "stream",
     "text": [
      "Number of null values in PM10 : \n"
     ]
    },
    {
     "data": {
      "text/plain": [
       "PM10    28871\n",
       "dtype: int64"
      ]
     },
     "execution_count": 27,
     "metadata": {},
     "output_type": "execute_result"
    }
   ],
   "source": [
    "print(\"Number of null values in PM10 : \");Target.isnull().sum()"
   ]
  },
  {
   "cell_type": "code",
   "execution_count": 28,
   "metadata": {},
   "outputs": [
    {
     "name": "stdout",
     "output_type": "stream",
     "text": [
      "Number of non null values in PM10 : \n"
     ]
    },
    {
     "data": {
      "text/plain": [
       "PM10    60629\n",
       "dtype: int64"
      ]
     },
     "execution_count": 28,
     "metadata": {},
     "output_type": "execute_result"
    }
   ],
   "source": [
    "print(\"Number of non null values in PM10 : \");Target.count()"
   ]
  },
  {
   "cell_type": "code",
   "execution_count": 29,
   "metadata": {},
   "outputs": [
    {
     "name": "stdout",
     "output_type": "stream",
     "text": [
      "Percentage of Missing Value: \n"
     ]
    },
    {
     "data": {
      "text/plain": [
       "PM10    32.258101\n",
       "dtype: float64"
      ]
     },
     "execution_count": 29,
     "metadata": {},
     "output_type": "execute_result"
    }
   ],
   "source": [
    "print(\"Percentage of Missing Value: \"); getPctMissing(Target)"
   ]
  },
  {
   "cell_type": "markdown",
   "metadata": {},
   "source": [
    "# Data After Cleaning"
   ]
  },
  {
   "cell_type": "code",
   "execution_count": 30,
   "metadata": {},
   "outputs": [
    {
     "name": "stderr",
     "output_type": "stream",
     "text": [
      "//anaconda/envs/seychelles/lib/python3.5/site-packages/numpy/lib/function_base.py:3834: RuntimeWarning: Invalid value encountered in percentile\n",
      "  RuntimeWarning)\n"
     ]
    },
    {
     "data": {
      "text/html": [
       "<div>\n",
       "<table border=\"1\" class=\"dataframe\">\n",
       "  <thead>\n",
       "    <tr style=\"text-align: right;\">\n",
       "      <th></th>\n",
       "      <th>PM10</th>\n",
       "    </tr>\n",
       "  </thead>\n",
       "  <tbody>\n",
       "    <tr>\n",
       "      <th>count</th>\n",
       "      <td>60629.000000</td>\n",
       "    </tr>\n",
       "    <tr>\n",
       "      <th>mean</th>\n",
       "      <td>-0.078455</td>\n",
       "    </tr>\n",
       "    <tr>\n",
       "      <th>std</th>\n",
       "      <td>0.851036</td>\n",
       "    </tr>\n",
       "    <tr>\n",
       "      <th>min</th>\n",
       "      <td>-0.875321</td>\n",
       "    </tr>\n",
       "    <tr>\n",
       "      <th>25%</th>\n",
       "      <td>NaN</td>\n",
       "    </tr>\n",
       "    <tr>\n",
       "      <th>50%</th>\n",
       "      <td>NaN</td>\n",
       "    </tr>\n",
       "    <tr>\n",
       "      <th>75%</th>\n",
       "      <td>NaN</td>\n",
       "    </tr>\n",
       "    <tr>\n",
       "      <th>max</th>\n",
       "      <td>9.045878</td>\n",
       "    </tr>\n",
       "  </tbody>\n",
       "</table>\n",
       "</div>"
      ],
      "text/plain": [
       "               PM10\n",
       "count  60629.000000\n",
       "mean      -0.078455\n",
       "std        0.851036\n",
       "min       -0.875321\n",
       "25%             NaN\n",
       "50%             NaN\n",
       "75%             NaN\n",
       "max        9.045878"
      ]
     },
     "execution_count": 30,
     "metadata": {},
     "output_type": "execute_result"
    }
   ],
   "source": [
    "Target.describe()"
   ]
  },
  {
   "cell_type": "code",
   "execution_count": 31,
   "metadata": {
    "collapsed": true
   },
   "outputs": [],
   "source": [
    "Target = Target.reset_index(drop=True)"
   ]
  },
  {
   "cell_type": "code",
   "execution_count": 32,
   "metadata": {},
   "outputs": [
    {
     "name": "stdout",
     "output_type": "stream",
     "text": [
      "<class 'pandas.core.frame.DataFrame'>\n",
      "RangeIndex: 89500 entries, 0 to 89499\n",
      "Data columns (total 1 columns):\n",
      "PM10    60629 non-null float64\n",
      "dtypes: float64(1)\n",
      "memory usage: 699.3 KB\n"
     ]
    }
   ],
   "source": [
    "Target.info()"
   ]
  },
  {
   "cell_type": "code",
   "execution_count": 33,
   "metadata": {},
   "outputs": [
    {
     "name": "stdout",
     "output_type": "stream",
     "text": [
      "Number of null values in PM10 : \n"
     ]
    },
    {
     "data": {
      "text/plain": [
       "PM10    28871\n",
       "dtype: int64"
      ]
     },
     "execution_count": 33,
     "metadata": {},
     "output_type": "execute_result"
    }
   ],
   "source": [
    "print(\"Number of null values in PM10 : \");Target.isnull().sum()"
   ]
  },
  {
   "cell_type": "code",
   "execution_count": 34,
   "metadata": {},
   "outputs": [
    {
     "name": "stdout",
     "output_type": "stream",
     "text": [
      "Number of non null values in PM10 : \n"
     ]
    },
    {
     "data": {
      "text/plain": [
       "PM10    60629\n",
       "dtype: int64"
      ]
     },
     "execution_count": 34,
     "metadata": {},
     "output_type": "execute_result"
    }
   ],
   "source": [
    "print(\"Number of non null values in PM10 : \");Target.count()"
   ]
  },
  {
   "cell_type": "code",
   "execution_count": 35,
   "metadata": {},
   "outputs": [
    {
     "data": {
      "text/html": [
       "<div>\n",
       "<table border=\"1\" class=\"dataframe\">\n",
       "  <thead>\n",
       "    <tr style=\"text-align: right;\">\n",
       "      <th></th>\n",
       "      <th>PM10</th>\n",
       "    </tr>\n",
       "  </thead>\n",
       "  <tbody>\n",
       "    <tr>\n",
       "      <th>0</th>\n",
       "      <td>0.950396</td>\n",
       "    </tr>\n",
       "    <tr>\n",
       "      <th>1</th>\n",
       "      <td>0.950396</td>\n",
       "    </tr>\n",
       "    <tr>\n",
       "      <th>2</th>\n",
       "      <td>0.470237</td>\n",
       "    </tr>\n",
       "    <tr>\n",
       "      <th>3</th>\n",
       "      <td>0.470237</td>\n",
       "    </tr>\n",
       "    <tr>\n",
       "      <th>4</th>\n",
       "      <td>0.270084</td>\n",
       "    </tr>\n",
       "  </tbody>\n",
       "</table>\n",
       "</div>"
      ],
      "text/plain": [
       "       PM10\n",
       "0  0.950396\n",
       "1  0.950396\n",
       "2  0.470237\n",
       "3  0.470237\n",
       "4  0.270084"
      ]
     },
     "execution_count": 35,
     "metadata": {},
     "output_type": "execute_result"
    }
   ],
   "source": [
    "Target.head()"
   ]
  },
  {
   "cell_type": "markdown",
   "metadata": {
    "collapsed": true
   },
   "source": [
    "# Delete Zero values "
   ]
  },
  {
   "cell_type": "code",
   "execution_count": 36,
   "metadata": {
    "collapsed": true
   },
   "outputs": [],
   "source": [
    "Target.drop(Target.index[168:215],inplace=True);# 16 consecutive entries missing\n",
    "Target.drop(Target.index[337:361],inplace=True);# \n",
    "Target.drop(Target.index[961:984],inplace=True);\n",
    "Target.drop(Target.index[1082:1105],inplace=True)\n",
    "Target.drop(Target.index[1088:1106],inplace=True)\n",
    "Target.drop(Target.index[1569:1593],inplace=True)\n",
    "Target.drop(Target.index[1689:1705],inplace=True)\n",
    "Target.drop(Target.index[2272:2296],inplace=True)\n",
    "Target.drop(Target.index[3470:3592],inplace=True)\n",
    "Target.drop(Target.index[16707:35423],inplace=True)\n",
    "\n"
   ]
  },
  {
   "cell_type": "code",
   "execution_count": 37,
   "metadata": {
    "collapsed": true
   },
   "outputs": [],
   "source": [
    "features_set.drop(features_set.index[168:215],inplace=True);# 16 consecutive entries missin\n",
    "features_set.drop(features_set.index[337:361],inplace=True);# \n",
    "features_set.drop(features_set.index[961:984],inplace=True);\n",
    "features_set.drop(features_set.index[1082:1105],inplace=True)\n",
    "features_set.drop(features_set.index[1088:1106],inplace=True)\n",
    "features_set.drop(features_set.index[1569:1593],inplace=True)\n",
    "features_set.drop(features_set.index[1689:1705],inplace=True)\n",
    "features_set.drop(features_set.index[2272:2296],inplace=True)\n",
    "features_set.drop(features_set.index[3470:3592],inplace=True)\n",
    "features_set.drop(features_set.index[16707:35423],inplace=True)"
   ]
  },
  {
   "cell_type": "code",
   "execution_count": 38,
   "metadata": {},
   "outputs": [
    {
     "data": {
      "text/html": [
       "<div>\n",
       "<table border=\"1\" class=\"dataframe\">\n",
       "  <thead>\n",
       "    <tr style=\"text-align: right;\">\n",
       "      <th></th>\n",
       "      <th>PM10</th>\n",
       "      <th>PM10_null_pointers</th>\n",
       "      <th>CO</th>\n",
       "      <th>CO_null_pointers</th>\n",
       "      <th>NO2</th>\n",
       "      <th>NO2_null_pointers</th>\n",
       "      <th>O3</th>\n",
       "      <th>O3_null_pointers</th>\n",
       "      <th>PM25</th>\n",
       "      <th>PM25_null_pointers</th>\n",
       "      <th>month</th>\n",
       "      <th>hour</th>\n",
       "      <th>Karpos</th>\n",
       "    </tr>\n",
       "  </thead>\n",
       "  <tbody>\n",
       "    <tr>\n",
       "      <th>0</th>\n",
       "      <td>0.950396</td>\n",
       "      <td>1</td>\n",
       "      <td>0.332930</td>\n",
       "      <td>1</td>\n",
       "      <td>NaN</td>\n",
       "      <td>0</td>\n",
       "      <td>-0.094688</td>\n",
       "      <td>1</td>\n",
       "      <td>NaN</td>\n",
       "      <td>0</td>\n",
       "      <td>1</td>\n",
       "      <td>0</td>\n",
       "      <td>1.0</td>\n",
       "    </tr>\n",
       "    <tr>\n",
       "      <th>1</th>\n",
       "      <td>0.950396</td>\n",
       "      <td>1</td>\n",
       "      <td>0.332930</td>\n",
       "      <td>1</td>\n",
       "      <td>NaN</td>\n",
       "      <td>0</td>\n",
       "      <td>-0.094688</td>\n",
       "      <td>1</td>\n",
       "      <td>NaN</td>\n",
       "      <td>0</td>\n",
       "      <td>1</td>\n",
       "      <td>0</td>\n",
       "      <td>1.0</td>\n",
       "    </tr>\n",
       "    <tr>\n",
       "      <th>2</th>\n",
       "      <td>0.470237</td>\n",
       "      <td>1</td>\n",
       "      <td>0.118908</td>\n",
       "      <td>1</td>\n",
       "      <td>NaN</td>\n",
       "      <td>0</td>\n",
       "      <td>-0.076718</td>\n",
       "      <td>1</td>\n",
       "      <td>NaN</td>\n",
       "      <td>0</td>\n",
       "      <td>1</td>\n",
       "      <td>1</td>\n",
       "      <td>1.0</td>\n",
       "    </tr>\n",
       "    <tr>\n",
       "      <th>3</th>\n",
       "      <td>0.470237</td>\n",
       "      <td>1</td>\n",
       "      <td>0.118908</td>\n",
       "      <td>1</td>\n",
       "      <td>NaN</td>\n",
       "      <td>0</td>\n",
       "      <td>-0.076718</td>\n",
       "      <td>1</td>\n",
       "      <td>NaN</td>\n",
       "      <td>0</td>\n",
       "      <td>1</td>\n",
       "      <td>1</td>\n",
       "      <td>1.0</td>\n",
       "    </tr>\n",
       "    <tr>\n",
       "      <th>4</th>\n",
       "      <td>0.270084</td>\n",
       "      <td>1</td>\n",
       "      <td>-0.031487</td>\n",
       "      <td>1</td>\n",
       "      <td>NaN</td>\n",
       "      <td>0</td>\n",
       "      <td>-0.030862</td>\n",
       "      <td>1</td>\n",
       "      <td>NaN</td>\n",
       "      <td>0</td>\n",
       "      <td>1</td>\n",
       "      <td>2</td>\n",
       "      <td>1.0</td>\n",
       "    </tr>\n",
       "  </tbody>\n",
       "</table>\n",
       "</div>"
      ],
      "text/plain": [
       "       PM10  PM10_null_pointers        CO  CO_null_pointers  NO2  \\\n",
       "0  0.950396                   1  0.332930                 1  NaN   \n",
       "1  0.950396                   1  0.332930                 1  NaN   \n",
       "2  0.470237                   1  0.118908                 1  NaN   \n",
       "3  0.470237                   1  0.118908                 1  NaN   \n",
       "4  0.270084                   1 -0.031487                 1  NaN   \n",
       "\n",
       "   NO2_null_pointers        O3  O3_null_pointers  PM25  PM25_null_pointers  \\\n",
       "0                  0 -0.094688                 1   NaN                   0   \n",
       "1                  0 -0.094688                 1   NaN                   0   \n",
       "2                  0 -0.076718                 1   NaN                   0   \n",
       "3                  0 -0.076718                 1   NaN                   0   \n",
       "4                  0 -0.030862                 1   NaN                   0   \n",
       "\n",
       "   month  hour  Karpos  \n",
       "0      1     0     1.0  \n",
       "1      1     0     1.0  \n",
       "2      1     1     1.0  \n",
       "3      1     1     1.0  \n",
       "4      1     2     1.0  "
      ]
     },
     "execution_count": 38,
     "metadata": {},
     "output_type": "execute_result"
    }
   ],
   "source": [
    "features_set.head()"
   ]
  },
  {
   "cell_type": "code",
   "execution_count": 39,
   "metadata": {
    "collapsed": true
   },
   "outputs": [],
   "source": [
    "Target = Target.reset_index(drop=True)\n",
    "features_set = features_set.reset_index(drop=True)"
   ]
  },
  {
   "cell_type": "code",
   "execution_count": 40,
   "metadata": {},
   "outputs": [
    {
     "name": "stdout",
     "output_type": "stream",
     "text": [
      "Number of null values in PM10 : \n"
     ]
    },
    {
     "data": {
      "text/plain": [
       "PM10    10098\n",
       "dtype: int64"
      ]
     },
     "execution_count": 40,
     "metadata": {},
     "output_type": "execute_result"
    }
   ],
   "source": [
    "print(\"Number of null values in PM10 : \");Target.isnull().sum()"
   ]
  },
  {
   "cell_type": "code",
   "execution_count": 41,
   "metadata": {},
   "outputs": [
    {
     "name": "stdout",
     "output_type": "stream",
     "text": [
      "Percentage of Missing Value: \n"
     ]
    },
    {
     "data": {
      "text/plain": [
       "PM10    14.330925\n",
       "dtype: float64"
      ]
     },
     "execution_count": 41,
     "metadata": {},
     "output_type": "execute_result"
    }
   ],
   "source": [
    "print(\"Percentage of Missing Value: \"); getPctMissing(Target)"
   ]
  },
  {
   "cell_type": "code",
   "execution_count": null,
   "metadata": {
    "collapsed": true
   },
   "outputs": [],
   "source": []
  },
  {
   "cell_type": "code",
   "execution_count": 42,
   "metadata": {},
   "outputs": [
    {
     "data": {
      "text/plain": [
       "Index(['PM10', 'PM10_null_pointers', 'CO', 'CO_null_pointers', 'NO2',\n",
       "       'NO2_null_pointers', 'O3', 'O3_null_pointers', 'PM25',\n",
       "       'PM25_null_pointers', 'month', 'hour', 'Karpos'],\n",
       "      dtype='object')"
      ]
     },
     "execution_count": 42,
     "metadata": {},
     "output_type": "execute_result"
    }
   ],
   "source": [
    "features_set.columns"
   ]
  },
  {
   "cell_type": "code",
   "execution_count": null,
   "metadata": {
    "collapsed": true
   },
   "outputs": [],
   "source": []
  },
  {
   "cell_type": "code",
   "execution_count": null,
   "metadata": {
    "collapsed": true
   },
   "outputs": [],
   "source": [
    " "
   ]
  },
  {
   "cell_type": "markdown",
   "metadata": {},
   "source": [
    "# Prepare Data "
   ]
  },
  {
   "cell_type": "code",
   "execution_count": 43,
   "metadata": {
    "collapsed": true
   },
   "outputs": [],
   "source": [
    "column_size = features_set.columns.values.size # this is size of list element size\n",
    "Target_list = Target.values.tolist() # create a list of values for use in data model\n",
    "feature_list= features_set.values.tolist()"
   ]
  },
  {
   "cell_type": "code",
   "execution_count": 44,
   "metadata": {
    "collapsed": true
   },
   "outputs": [],
   "source": [
    "counter=0\n",
    "def dataGetter(datalist):\n",
    "    \"\"\"\n",
    "    Returns a single PM10 value.\n",
    "    Input: PM10 Data list named Target_list above\n",
    "    Output: single PM10 value\n",
    "    \"\"\"\n",
    "    global counter;\n",
    "    assert type(datalist) == list;\n",
    "    \n",
    "    \n",
    "    value = datalist[counter]\n",
    "    #print(counter)\n",
    "\n",
    "\n",
    "    counter = counter +1\n",
    "             \n",
    "    return np.array([value])"
   ]
  },
  {
   "cell_type": "code",
   "execution_count": 45,
   "metadata": {
    "collapsed": true
   },
   "outputs": [],
   "source": [
    "counter_t=0\n",
    "def dataGetter_target(datalist):\n",
    "    \"\"\"\n",
    "    Returns a single PM10 value.\n",
    "    Input: PM10 Data list named Target_list above\n",
    "    Output: single PM10 value\n",
    "    \"\"\"\n",
    "    global counter_t;\n",
    "    assert type(datalist) == list;\n",
    "    \n",
    "    \n",
    "    value = datalist[counter_t]\n",
    "    #print(counter)\n",
    "\n",
    "\n",
    "    counter_t = counter_t +1\n",
    "             \n",
    "    return np.array([value])"
   ]
  },
  {
   "cell_type": "code",
   "execution_count": 46,
   "metadata": {
    "collapsed": true
   },
   "outputs": [],
   "source": [
    "# Define window size or learning\n",
    "sliding_window = []\n",
    "lag=25 # 24 hours time step from 0 to 24 plus the window_step_move (25) which is to be predicted\n",
    "window_move_step = 1\n",
    "for i in range(lag - window_move_step):\n",
    "    sliding_window.append(dataGetter(Target_list))"
   ]
  },
  {
   "cell_type": "code",
   "execution_count": 47,
   "metadata": {
    "collapsed": true
   },
   "outputs": [],
   "source": [
    "sliding_window_featureset = []\n",
    "lag=25 # 24 hours time step from 0 to 24 plus the window_step_move (25) which is to be predicted\n",
    "window_move_step = 1\n",
    "for i in range(lag - window_move_step):\n",
    "    sliding_window_featureset.append(dataGetter_target(feature_list))"
   ]
  },
  {
   "cell_type": "code",
   "execution_count": null,
   "metadata": {
    "collapsed": true
   },
   "outputs": [],
   "source": []
  },
  {
   "cell_type": "code",
   "execution_count": null,
   "metadata": {
    "collapsed": true
   },
   "outputs": [],
   "source": []
  },
  {
   "cell_type": "code",
   "execution_count": 48,
   "metadata": {
    "collapsed": true
   },
   "outputs": [],
   "source": [
    "def get_pair(Target,Target2):\n",
    "    \"\"\"\n",
    "    Returns an (current, target) \n",
    "    Target is lag steps 24 ahead of current\n",
    "    \"\"\"\n",
    " \n",
    "    global sliding_window\n",
    "    global sliding_window_featureset\n",
    "    sliding_window.append(dataGetter(Target))\n",
    "    #print(len(sliding_window))\n",
    "    sliding_window_featureset.append(dataGetter_target(Target2))\n",
    "    \n",
    "    input_value = sliding_window_featureset[0:24]\n",
    "    \n",
    "    \n",
    "    input_value=np.array(input_value)\n",
    "    \n",
    "    #print(input_value.shape)\n",
    "    input_value=np.reshape(input_value,(1,len(input_value)*column_size))\n",
    "    mx = np.ma.masked_invalid(input_value)\n",
    "    \n",
    "    ##print(input_value)\n",
    "    output_value = sliding_window[-1]\n",
    "    my = np.ma.masked_invalid(output_value)\n",
    "    ####remove last value from sliding_window\n",
    "    _ = sliding_window_featureset[-1]\n",
    "    ##print(output_value)\n",
    "    sliding_window = sliding_window[1:]\n",
    "    sliding_window_featureset = sliding_window_featureset[1:]\n",
    "    #print(len(sliding_window))\n",
    "    # Process output\n",
    "    mask_x = ~mx.mask # let mask return true for those non-nan values\n",
    "    ## y output\n",
    "    mask_y =~my.mask\n",
    "    mask_yfloat = mask_y\n",
    "    return mx.data,mask_x.astype(float), my.data,mask_y.astype(float)"
   ]
  },
  {
   "cell_type": "code",
   "execution_count": null,
   "metadata": {
    "collapsed": true
   },
   "outputs": [],
   "source": []
  },
  {
   "cell_type": "code",
   "execution_count": null,
   "metadata": {
    "collapsed": true
   },
   "outputs": [],
   "source": []
  },
  {
   "cell_type": "markdown",
   "metadata": {},
   "source": [
    "# Build Model"
   ]
  },
  {
   "cell_type": "code",
   "execution_count": 49,
   "metadata": {
    "collapsed": true
   },
   "outputs": [],
   "source": [
    "#Imports\n",
    "import tensorflow as tf\n",
    "#from tensorflow.nn.rnn import *\n",
    "from tensorflow.python.ops  import *\n"
   ]
  },
  {
   "cell_type": "code",
   "execution_count": 50,
   "metadata": {
    "collapsed": true
   },
   "outputs": [],
   "source": [
    "#Input Params\n",
    "NUMBER=0; # replacement for nan\n",
    "with tf.name_scope(\"input_target_placeholders\"):    \n",
    "    input_dim = 1\n",
    "    ##The Input Layer as a Placeholder\n",
    "    #Since we will provide data sequentially, the 'batch size'\n",
    "    #is 1.\n",
    "    input_layer = tf.placeholder(tf.float32, [1, input_dim*312],name=\"input_data\")\n",
    "    correct_output = tf.placeholder(tf.float32, [1, input_dim],name=\"target_data\")\n",
    "    mask_x = tf.placeholder(tf.float32, [1, input_dim*312],name=\"inputmask\")\n",
    "    mask_y = tf.placeholder(tf.float32, [1, input_dim],name=\"target_mask\")\n",
    "    features_with_nans = tf.mul(input_layer, mask_x)\n",
    "    y_input_with_nans = tf.mul(mask_y,correct_output)\n",
    "    y_input = tf.select(tf.is_nan(y_input_with_nans), tf.ones_like(y_input_with_nans) * NUMBER, y_input_with_nans);\n",
    "    features = tf.select(tf.is_nan(features_with_nans), tf.ones_like(features_with_nans) * NUMBER, features_with_nans);"
   ]
  },
  {
   "cell_type": "code",
   "execution_count": 51,
   "metadata": {
    "collapsed": true
   },
   "outputs": [],
   "source": [
    "###inistate = tf.Variable(lstm_cell_with_dropout.zero_state(BATCH_SIZE, tf.float32), trainable=False)"
   ]
  },
  {
   "cell_type": "code",
   "execution_count": 52,
   "metadata": {},
   "outputs": [
    {
     "name": "stderr",
     "output_type": "stream",
     "text": [
      "WARNING:tensorflow:<tensorflow.python.ops.rnn_cell.LSTMCell object at 0x10318dfd0>: Using a concatenated state is slower and will soon be deprecated.  Use state_is_tuple=True.\n"
     ]
    }
   ],
   "source": [
    "with tf.name_scope(\"lstmLayer\"):    \n",
    "    lstm_layer1 = rnn_cell.LSTMCell(input_dim*312,state_is_tuple=False,use_peepholes=True,forget_bias=1.0)\n",
    "    #The LSTM state as a Variable initialized to zeroes\n",
    "    lstm_state1 = tf.Variable(tf.zeros([1, lstm_layer1.state_size]),trainable=False,name=\"initial_state\")\n",
    "    #lstm_state1 = tf.Variable(lstm_layer1.zero_state(1,lstm_layer1.state_size[-1] ), trainable=False)\n",
    "    #Connect the input layer and initial LSTM state to the LSTM cell\n",
    "    lstm_output1, lstm_state_output1 = lstm_layer1(features, lstm_state1)\n",
    "    #The LSTM state will get updated\n",
    "    lstm_update_op1 = lstm_state1.assign(lstm_state_output1)"
   ]
  },
  {
   "cell_type": "code",
   "execution_count": 53,
   "metadata": {},
   "outputs": [
    {
     "data": {
      "text/plain": [
       "TensorShape([Dimension(1), Dimension(624)])"
      ]
     },
     "execution_count": 53,
     "metadata": {},
     "output_type": "execute_result"
    }
   ],
   "source": [
    "lstm_state_output1.get_shape() # verify shape"
   ]
  },
  {
   "cell_type": "code",
   "execution_count": null,
   "metadata": {
    "collapsed": true
   },
   "outputs": [],
   "source": []
  },
  {
   "cell_type": "code",
   "execution_count": 158,
   "metadata": {
    "collapsed": true
   },
   "outputs": [],
   "source": [
    "with tf.name_scope(\"weight_Bias_learning_rate\"):\n",
    "    global_step = tf.Variable(0, trainable=False,name=\"global_step\")\n",
    "    starter_learning_rate = 0.07\n",
    "    learning_rate = tf.train.exponential_decay(starter_learning_rate, global_step,\n",
    "                                           1000, 1.0, staircase=False,name =\"Exponential_decay\")\n",
    "    ##The Regression-Output Layer\n",
    "    #The Weights and Biases matrices first\n",
    "    output_W1 = tf.Variable(tf.truncated_normal([input_dim,input_dim*312]),name=\"weight\")\n",
    "    output_b1 = tf.Variable(tf.zeros([input_dim]),name=\"bias\")\n",
    "    selector=tf.mul(mask_x,output_W1)\n",
    "    selector_2 = tf.transpose(selector)\n",
    "    "
   ]
  },
  {
   "cell_type": "code",
   "execution_count": 159,
   "metadata": {
    "collapsed": true
   },
   "outputs": [],
   "source": [
    "with tf.name_scope(\"prediction\"):\n",
    "    #Compute the output\n",
    "    \n",
    "    final_output = tf.matmul(lstm_output1, selector_2) + output_b1"
   ]
  },
  {
   "cell_type": "code",
   "execution_count": 160,
   "metadata": {},
   "outputs": [
    {
     "data": {
      "text/plain": [
       "TensorShape([Dimension(1), Dimension(1)])"
      ]
     },
     "execution_count": 160,
     "metadata": {},
     "output_type": "execute_result"
    }
   ],
   "source": [
    "final_output.get_shape() # verify output shape"
   ]
  },
  {
   "cell_type": "code",
   "execution_count": 161,
   "metadata": {},
   "outputs": [
    {
     "data": {
      "text/plain": [
       "<tensorflow.python.ops.variables.Variable at 0x12a1dc6a0>"
      ]
     },
     "execution_count": 161,
     "metadata": {},
     "output_type": "execute_result"
    }
   ],
   "source": [
    "output_W1 # verify weight shape\n"
   ]
  },
  {
   "cell_type": "code",
   "execution_count": null,
   "metadata": {
    "collapsed": true
   },
   "outputs": [],
   "source": []
  },
  {
   "cell_type": "code",
   "execution_count": 162,
   "metadata": {
    "collapsed": true
   },
   "outputs": [],
   "source": [
    "#loss = your regular output loss\n",
    "lambda_l2_reg=0.5\n",
    "l2 = lambda_l2_reg * sum(\n",
    "    tf.nn.l2_loss(tf_var)\n",
    "        for tf_var in tf.trainable_variables()\n",
    "        if not (\"noreg\" in tf_var.name or \"bias\" in tf_var.name)\n",
    ")\n",
    "#loss += l2"
   ]
  },
  {
   "cell_type": "code",
   "execution_count": 163,
   "metadata": {
    "collapsed": true
   },
   "outputs": [],
   "source": [
    "with tf.name_scope(\"RMS_error\"):\n",
    "    ##Calculate the Sum-of-Squares Error\n",
    "    error=tf.reduce_sum(tf.pow(final_output - y_input, 2)) + l2\n",
    "    #error = tf.pow(tf.sub(final_output,y_input), 2)"
   ]
  },
  {
   "cell_type": "code",
   "execution_count": 164,
   "metadata": {
    "collapsed": true
   },
   "outputs": [],
   "source": [
    "#error = tf.reshape(error,(1,))"
   ]
  },
  {
   "cell_type": "code",
   "execution_count": 165,
   "metadata": {
    "collapsed": true
   },
   "outputs": [],
   "source": [
    "with tf.name_scope(\"optimizer\"):\n",
    "    ##The Optimizer\n",
    "    #Adam works best\n",
    "    train_step = tf.train.AdamOptimizer(learning_rate).minimize(error)"
   ]
  },
  {
   "cell_type": "code",
   "execution_count": 166,
   "metadata": {
    "collapsed": true
   },
   "outputs": [],
   "source": [
    "# Create a summary to monitor MSE\n",
    "mse=tf.summary.tensor_summary(\"errors_Summary\",error)\n",
    "# Create a summary to monitor  predictions\n",
    "prediction=tf.summary.tensor_summary(\"predictions_Summmary\", final_output)\n",
    "# Create a summary to monitor bias\n",
    "bias_vec=tf.summary.tensor_summary(\"bias\", output_b1)\n",
    "# create sumary\n",
    "#rate_vec=tf.summary.scalar(\"rate\", learning_rate)\n",
    "\n",
    "\n",
    "#histogram plot\n",
    "\n",
    "error_stats=tf.histogram_summary(\"errors_Histogram\",error)\n",
    "weight_stats=tf.histogram_summary(\"weights_Histogram\",output_W1)\n",
    "bias_stats=tf.histogram_summary(\"biases_Histogram\",output_b1)\n",
    "#learning_stats=tf.histogram_summary(\"biases_Histogram\",learning_rate)\n",
    "\n",
    "\n",
    "#merged_summary_op =  tf.merge_all_summaries()\n",
    "merged_summary_op =   tf.merge_summary([mse,prediction,bias_vec,error_stats,weight_stats,bias_stats])"
   ]
  },
  {
   "cell_type": "code",
   "execution_count": 167,
   "metadata": {
    "collapsed": true
   },
   "outputs": [],
   "source": [
    "##Session\n",
    "sess = tf.Session()\n",
    "#Initialize all Variables\n",
    "#sess.run(tf.initialize_all_variables())\n"
   ]
  },
  {
   "cell_type": "code",
   "execution_count": 168,
   "metadata": {},
   "outputs": [
    {
     "data": {
      "text/plain": [
       "70463"
      ]
     },
     "execution_count": 168,
     "metadata": {},
     "output_type": "execute_result"
    }
   ],
   "source": [
    "len(Target)"
   ]
  },
  {
   "cell_type": "code",
   "execution_count": null,
   "metadata": {
    "collapsed": true
   },
   "outputs": [],
   "source": []
  },
  {
   "cell_type": "markdown",
   "metadata": {},
   "source": [
    "# Evaluation Data set"
   ]
  },
  {
   "cell_type": "code",
   "execution_count": 169,
   "metadata": {
    "collapsed": true
   },
   "outputs": [],
   "source": [
    "logs_path = '/Users/Seychelles/Desktop/GoogleTensorflow/finals/tensorboardData/maskOtherImpurities/' # for tensorfboard"
   ]
  },
  {
   "cell_type": "code",
   "execution_count": 170,
   "metadata": {
    "collapsed": true
   },
   "outputs": [],
   "source": [
    "##Training Parameters\n",
    "n_iter = len(Target_list)-48  # Train the model. Except the last 24 hrs which we will use for prediction test\n",
    "                              # we could have also used the last 48 hrs as prediction test but lets keep\n",
    "                              # things simple at first\n",
    "\n",
    "actual_output1 = []\n",
    "network_output1 = []\n",
    "inner_iter = 6000\n",
    "\n"
   ]
  },
  {
   "cell_type": "code",
   "execution_count": 171,
   "metadata": {},
   "outputs": [
    {
     "data": {
      "text/plain": [
       "70463"
      ]
     },
     "execution_count": 171,
     "metadata": {},
     "output_type": "execute_result"
    }
   ],
   "source": [
    "len(Target_list)"
   ]
  },
  {
   "cell_type": "markdown",
   "metadata": {},
   "source": [
    "\n",
    "# Feature and Target prediction set "
   ]
  },
  {
   "cell_type": "code",
   "execution_count": 172,
   "metadata": {
    "collapsed": true
   },
   "outputs": [],
   "source": [
    "import copy\n",
    "#new_list = copy.deepcopy(old_list)\n",
    "Test_eval=copy.deepcopy(Target_list[n_iter:]) # copy out data set for validation and testing"
   ]
  },
  {
   "cell_type": "code",
   "execution_count": 173,
   "metadata": {
    "collapsed": true
   },
   "outputs": [],
   "source": [
    "Feature_eval=copy.deepcopy(feature_list[n_iter:]) # copy out feature set for validation"
   ]
  },
  {
   "cell_type": "code",
   "execution_count": 174,
   "metadata": {},
   "outputs": [
    {
     "data": {
      "text/plain": [
       "48"
      ]
     },
     "execution_count": 174,
     "metadata": {},
     "output_type": "execute_result"
    }
   ],
   "source": [
    "len(Feature_eval)"
   ]
  },
  {
   "cell_type": "code",
   "execution_count": null,
   "metadata": {
    "collapsed": true
   },
   "outputs": [],
   "source": []
  },
  {
   "cell_type": "code",
   "execution_count": null,
   "metadata": {
    "collapsed": true
   },
   "outputs": [],
   "source": []
  },
  {
   "cell_type": "markdown",
   "metadata": {},
   "source": [
    "# Errors Plot"
   ]
  },
  {
   "cell_type": "code",
   "execution_count": null,
   "metadata": {
    "collapsed": true
   },
   "outputs": [],
   "source": []
  },
  {
   "cell_type": "code",
   "execution_count": null,
   "metadata": {
    "collapsed": true
   },
   "outputs": [],
   "source": []
  },
  {
   "cell_type": "code",
   "execution_count": 175,
   "metadata": {
    "collapsed": true
   },
   "outputs": [],
   "source": [
    "writer = tf.train.SummaryWriter(logs_path, graph= tf.get_default_graph())"
   ]
  },
  {
   "cell_type": "code",
   "execution_count": 176,
   "metadata": {
    "collapsed": true
   },
   "outputs": [],
   "source": [
    "init = tf.initialize_all_variables()\n",
    "error_=[]\n",
    "\n",
    "sess.run(init)\n",
    "counter =0 \n",
    "counter_t=0\n",
    "assert counter==0\n",
    "\n",
    "for i in range(n_iter):\n",
    "    input_v,input_mask ,output_v,output_mask = get_pair(Target_list,feature_list)\n",
    "    y_inputz = sess.run([y_input],feed_dict={correct_output: output_v,mask_y:output_mask})\n",
    "        \n",
    "    #print(input_v.shape)\n",
    "    #print (dtype(input_v))\n",
    "    #print(input_mask.shape)\n",
    "    #print(output_mask.shape)\n",
    "    #print(output_v.shape)\n",
    "    _, _, network_output,errors,summary = sess.run([lstm_update_op1,\n",
    "                                     train_step,\n",
    "                                     final_output,error,merged_summary_op],\n",
    "                                    feed_dict = {\n",
    "                                        input_layer:input_v,mask_x:input_mask,\n",
    "                                        correct_output: output_v,mask_y:output_mask})\n",
    "    writer.add_summary(summary)\n",
    "    error_.append(errors)\n",
    "    if i%inner_iter==0 & i!=0:\n",
    "           assert i!=0;\n",
    "           #reset state\n",
    "           sess.run(lstm_state1.assign(tf.zeros([1, lstm_layer1.state_size])))\n",
    "        \n",
    "    actual_output1.append(y_inputz)\n",
    "        #actual_output2.append(output_v[0][1])\n",
    "    network_output1.append(network_output)\n",
    "        #network_output2.append(network_output[0][1])\n",
    "        #x_axis.append(i)\n",
    "                "
   ]
  },
  {
   "cell_type": "code",
   "execution_count": 177,
   "metadata": {
    "collapsed": true
   },
   "outputs": [],
   "source": [
    "errorplot = np.array(error_)\n",
    "errorplot = errorplot.reshape(len(error_),1)"
   ]
  },
  {
   "cell_type": "code",
   "execution_count": null,
   "metadata": {
    "collapsed": true
   },
   "outputs": [],
   "source": []
  },
  {
   "cell_type": "code",
   "execution_count": 263,
   "metadata": {},
   "outputs": [
    {
     "data": {
      "image/png": "[encoded data removed]",
      "text/plain": [
       "<matplotlib.figure.Figure at 0x12df4a358>"
      ]
     },
     "metadata": {},
     "output_type": "display_data"
    }
   ],
   "source": [
    "import matplotlib.mlab as mlab\n",
    "\"\"\"\n",
    "Make a histogram of the  errors and plot the\n",
    "analytic PDF over it\n",
    "\"\"\"\n",
    "#fig, ax = plt.subplots()\n",
    "n, bins, patches=plt.hist(errorplot,60,normed=1,facecolor='deepskyblue',alpha=0.9,label=\"Histogram\")\n",
    "mu= np.mean(errorplot);sigma=np.std(errorplot);\n",
    "y = mlab.normpdf( bins,mu,sigma)\n",
    "plt.plot(bins, y, 'r--', linewidth=5,label=\"PDF Over Histogram\")\n",
    "#ax.set_yscale('log')\n",
    "#ax.set_xscale('log')\n",
    "plt.title(\"Histogram plot for error With PDF\",fontweight='bold')\n",
    "plt.ylabel(\"Frequemcy\",fontweight='bold')\n",
    "plt.xlabel(\"Error Evolution during training\",fontweight='bold')\n",
    "plt.legend(bbox_to_anchor=(1.05, 1), loc=2, borderaxespad=0.)\n",
    "plt.show()"
   ]
  },
  {
   "cell_type": "code",
   "execution_count": null,
   "metadata": {
    "collapsed": true
   },
   "outputs": [],
   "source": [
    "\n",
    "\n"
   ]
  },
  {
   "cell_type": "code",
   "execution_count": 264,
   "metadata": {},
   "outputs": [
    {
     "data": {
      "image/png": "[encoded data removed]",
      "text/plain": [
       "<matplotlib.figure.Figure at 0x1328d11d0>"
      ]
     },
     "metadata": {},
     "output_type": "display_data"
    }
   ],
   "source": [
    "import matplotlib.mlab as mlab\n",
    "\n",
    "fig, ax = plt.subplots()\n",
    "plt.hist(errorplot,bins=200,normed=1,facecolor='deepskyblue')\n",
    "\n",
    "ax.set_yscale('log')\n",
    "#ax.set_xscale('log')\n",
    "plt.title(\"RMSE PLOT FOR TRAINING\",fontweight='bold')\n",
    "plt.ylabel(\"Frequemcy\",fontweight='bold')\n",
    "plt.xlabel(\"RMSE\",fontweight='bold')\n",
    "plt.show()"
   ]
  },
  {
   "cell_type": "code",
   "execution_count": null,
   "metadata": {
    "collapsed": true
   },
   "outputs": [],
   "source": []
  },
  {
   "cell_type": "code",
   "execution_count": null,
   "metadata": {
    "collapsed": true
   },
   "outputs": [],
   "source": []
  },
  {
   "cell_type": "code",
   "execution_count": null,
   "metadata": {
    "collapsed": true
   },
   "outputs": [],
   "source": []
  },
  {
   "cell_type": "markdown",
   "metadata": {},
   "source": [
    "# Extract Date in the series"
   ]
  },
  {
   "cell_type": "code",
   "execution_count": 180,
   "metadata": {
    "collapsed": true
   },
   "outputs": [],
   "source": [
    "from matplotlib.dates  import  date2num\n",
    "Data = pd.read_csv('ItemListWithDummy.csv')"
   ]
  },
  {
   "cell_type": "code",
   "execution_count": 181,
   "metadata": {
    "collapsed": true
   },
   "outputs": [],
   "source": [
    "pd.to_datetime(Data.date);"
   ]
  },
  {
   "cell_type": "code",
   "execution_count": 182,
   "metadata": {
    "collapsed": true
   },
   "outputs": [],
   "source": [
    "x_axis = Data['date']"
   ]
  },
  {
   "cell_type": "code",
   "execution_count": 183,
   "metadata": {
    "collapsed": true
   },
   "outputs": [],
   "source": [
    "x_axis = pd.to_datetime(x_axis)"
   ]
  },
  {
   "cell_type": "code",
   "execution_count": 184,
   "metadata": {
    "collapsed": true
   },
   "outputs": [],
   "source": [
    "#80000-len(network_output1)"
   ]
  },
  {
   "cell_type": "code",
   "execution_count": 185,
   "metadata": {
    "collapsed": true
   },
   "outputs": [],
   "source": [
    "network = np.array(network_output1)"
   ]
  },
  {
   "cell_type": "code",
   "execution_count": 186,
   "metadata": {
    "collapsed": true
   },
   "outputs": [],
   "source": [
    "actual= np.array(actual_output1)"
   ]
  },
  {
   "cell_type": "code",
   "execution_count": 187,
   "metadata": {},
   "outputs": [
    {
     "data": {
      "text/plain": [
       "70415"
      ]
     },
     "execution_count": 187,
     "metadata": {},
     "output_type": "execute_result"
    }
   ],
   "source": [
    "actual.shape[0]"
   ]
  },
  {
   "cell_type": "code",
   "execution_count": 269,
   "metadata": {},
   "outputs": [
    {
     "data": {
      "text/plain": [
       "<matplotlib.figure.Figure at 0x126b25c18>"
      ]
     },
     "metadata": {},
     "output_type": "display_data"
    },
    {
     "data": {
      "image/png": "[encoded data removed]",
      "text/plain": [
       "<matplotlib.figure.Figure at 0x126b25a90>"
      ]
     },
     "metadata": {},
     "output_type": "display_data"
    }
   ],
   "source": [
    "import matplotlib.pyplot \n",
    "import matplotlib.dates\n",
    "\n",
    "\n",
    "\n",
    "\n",
    "fig = plt.figure(figsize=(30, 2))\n",
    "\n",
    "fig, ax = plt.subplots()\n",
    "ax.plot_date(x_axis[0:48], actual.reshape(actual.shape[0],1)[0:48], 'b-')\n",
    "#ax.xaxis.set_minor_locator(dates.MonthLocator())\n",
    "#ax.xaxis.set_minor_formatter(dates.DateFormatter('%H:%M:%S'))\n",
    "#ax.xaxis.set_minor_formatter(dates.DateFormatter('%d\\n%a'))\n",
    "#ax.xaxis.grid(True, which=\"minor\")\n",
    "#ax.yaxis.grid()\n",
    "#ax.xaxis.set_major_locator(dates.DayLocator())\n",
    "#ax.xaxis.set_major_formatter(dates.DateFormatter('\\n\\n%a\\%b\\%Y'))\n",
    "ax.xaxis.set_major_formatter( matplotlib.dates.DateFormatter('%Y-%b-%a %H:%M:%S'))\n",
    "ax.xaxis.grid(True,which=\"minor\")\n",
    "\n",
    "\n",
    "\n",
    "#ax.xaxis.set_minor_formatter(dates.DateFormatter('\\n\\n%a\\%b\\%Y'))\n",
    "\n",
    "\n",
    "plt.xticks( rotation=25 )\n",
    "#plt.tight_layout()\n",
    "#plt.xlabel(fontweight='bold')\n",
    "plt.ylabel(\"PM10 values\",fontweight='bold')\n",
    "plt.title(\"PM10  Actual  plot for Small Time Interval\",fontweight='bold')\n",
    "plt.show()"
   ]
  },
  {
   "cell_type": "code",
   "execution_count": 189,
   "metadata": {},
   "outputs": [
    {
     "data": {
      "text/plain": [
       "<matplotlib.figure.Figure at 0x1277ae588>"
      ]
     },
     "metadata": {},
     "output_type": "display_data"
    },
    {
     "data": {
      "image/png": "[encoded data removed]",
      "text/plain": [
       "<matplotlib.figure.Figure at 0x1277ae8d0>"
      ]
     },
     "metadata": {},
     "output_type": "display_data"
    }
   ],
   "source": [
    "fig = plt.figure(figsize=(30, 2))\n",
    "\n",
    "fig, ax = plt.subplots()\n",
    "ax.plot(x_axis[0:48], network.reshape(actual.shape[0],1)[0:48], 'r-')\n",
    "\n",
    "#ax.xaxis.set_minor_locator(dates.MonthLocator())\n",
    "#ax.xaxis.set_minor_formatter(dates.DateFormatter('%H:%M:%S'))\n",
    "#ax.xaxis.set_minor_formatter(dates.DateFormatter('%d\\n%a'))\n",
    "#ax.xaxis.grid(True, which=\"minor\")\n",
    "#ax.yaxis.grid()\n",
    "#ax.xaxis.set_major_locator(dates.DayLocator())\n",
    "#ax.xaxis.set_major_formatter(dates.DateFormatter('\\n\\n%a\\%b\\%Y'))\n",
    "ax.xaxis.set_major_formatter( matplotlib.dates.DateFormatter('%Y-%b-%a %H:%M:%S'))\n",
    "ax.xaxis.grid(True, which=\"minor\")\n",
    "\n",
    "#ax.xaxis.set_minor_formatter(dates.DateFormatter('\\n\\n%a\\%b\\%Y'))\n",
    "\n",
    "\n",
    "plt.xticks( rotation=25 )\n",
    "plt.tight_layout()\n",
    "plt.ylabel(\"PM10 Values\")\n",
    "plt.title(\"PM10 Prediction for Small Time interval During Training\")\n",
    "plt.show()"
   ]
  },
  {
   "cell_type": "markdown",
   "metadata": {},
   "source": [
    "# Plots predictions during Training"
   ]
  },
  {
   "cell_type": "code",
   "execution_count": 332,
   "metadata": {},
   "outputs": [
    {
     "data": {
      "text/plain": [
       "<matplotlib.figure.Figure at 0x12e0a7a90>"
      ]
     },
     "metadata": {},
     "output_type": "display_data"
    },
    {
     "data": {
      "image/png": "[encoded data removed]",
      "text/plain": [
       "<matplotlib.figure.Figure at 0x12e0a7940>"
      ]
     },
     "metadata": {},
     "output_type": "display_data"
    }
   ],
   "source": [
    "import matplotlib.pyplot as plt\n",
    "import matplotlib.patches as patches\n",
    "import matplotlib.colors as colors\n",
    "import math\n",
    "fig = plt.figure(figsize=(30, 2))\n",
    "\n",
    "fig, ax = plt.subplots()\n",
    "ax.plot(x_axis[0:actual.shape[0]], network.reshape(actual.shape[0],1)[0:actual.shape[0]] ,color = 'deepskyblue',linestyle='-',label=\" Training Prediction\")\n",
    "ax.plot_date(x_axis[0:actual.shape[0]], actual.reshape(actual.shape[0],1)[0:actual.shape[0]],color='goldenrod',linestyle='-',label=\"Actual Values\")\n",
    "plt.legend(bbox_to_anchor=(1.05, 1), loc=2, borderaxespad=0.,fontsize='x-large')\n",
    "\n",
    "#ax.xaxis.set_minor_locator(dates.MonthLocator())\n",
    "#ax.xaxis.set_minor_formatter(dates.DateFormatter('%H:%M:%S'))\n",
    "#ax.xaxis.set_minor_formatter(dates.DateFormatter('%d\\n%a'))\n",
    "#ax.xaxis.grid(True, which=\"minor\")\n",
    "#ax.yaxis.grid()\n",
    "#ax.xaxis.set_major_locator(dates.DayLocator())\n",
    "#ax.xaxis.set_major_formatter(dates.DateFormatter('\\n\\n%a\\%b\\%Y'))\n",
    "ax.xaxis.set_major_formatter( matplotlib.dates.DateFormatter('%Y-%b-%a %H:%M:%S'))\n",
    "ax.xaxis.grid(True, which=\"minor\")\n",
    "\n",
    "#ax.xaxis.set_minor_formatter(dates.DateFormatter('\\n\\n%a\\%b\\%Y'))\n",
    "\n",
    "\n",
    "\n",
    "plt.xticks( rotation=25 )\n",
    "plt.tight_layout()\n",
    "plt.ylabel(\"PM10 values\",fontweight='bold')\n",
    "plt.title(\"PM10 Training prediction and Actual Value Plots\",fontweight='bold')\n",
    "plt.show()"
   ]
  },
  {
   "cell_type": "code",
   "execution_count": null,
   "metadata": {
    "collapsed": true
   },
   "outputs": [],
   "source": []
  },
  {
   "cell_type": "code",
   "execution_count": null,
   "metadata": {
    "collapsed": true
   },
   "outputs": [],
   "source": []
  },
  {
   "cell_type": "code",
   "execution_count": 191,
   "metadata": {
    "collapsed": true
   },
   "outputs": [],
   "source": [
    "def get_pair_Test(Target):\n",
    "    \"\"\"\n",
    "    Returns an (current, target) \n",
    "    Target is lag steps 24 ahead of current\n",
    "    \"\"\"\n",
    " \n",
    "    \n",
    "    global sliding_window_test\n",
    "    #sliding_window_test.append(dataGetter(Target))\n",
    "    #print(len(sliding_window))\n",
    "    #sliding_window_featureset.append(dataGetter_target(Target2))\n",
    "    \n",
    "    #input_value = sliding_window_test\n",
    "    \n",
    "    \n",
    "    input_value=np.array(sliding_window_test)\n",
    "    #print(input_value.shape)\n",
    "    \n",
    "    #print(input_value.shape)\n",
    "    input_value=np.reshape(input_value,(1,len(sliding_window_test)*column_size))\n",
    "    mx = np.ma.masked_invalid(input_value)\n",
    "    \n",
    "    ##print(input_value)\n",
    "    #output_value = sliding_window[-1]\n",
    "    #my = np.ma.masked_invalid(output_value)\n",
    "    ####remove last value from sliding_window\n",
    "    #_ = sliding_window_featureset[-1]\n",
    "    ##print(output_value)\n",
    "   # sliding_window = sliding_window[1:]\n",
    "    #sliding_window_featureset = sliding_window_featureset[1:]\n",
    "    #print(len(sliding_window))\n",
    "    # Process output\n",
    "    mask_x = ~mx.mask # let mask return true for those non-nan values\n",
    "    ## y output\n",
    "    #mask_y =~my.mask\n",
    "    #mask_yfloat = mask_y\n",
    "    return mx.data,mask_x.astype(float)"
   ]
  },
  {
   "cell_type": "markdown",
   "metadata": {
    "collapsed": true
   },
   "source": [
    "# Model Testing Plot"
   ]
  },
  {
   "cell_type": "code",
   "execution_count": null,
   "metadata": {
    "collapsed": true
   },
   "outputs": [],
   "source": []
  },
  {
   "cell_type": "code",
   "execution_count": 192,
   "metadata": {
    "collapsed": true
   },
   "outputs": [],
   "source": [
    "counter_test=0;\n",
    "def dataGetter_test(datalist):\n",
    "    \"\"\"\n",
    "    Returns a single PM10 value.\n",
    "    Input: PM10 Data list named Target_list above\n",
    "    Output: single PM10 value\n",
    "    \"\"\"\n",
    "    global counter_test;\n",
    "    assert type(datalist) == list;\n",
    "    \n",
    "    \n",
    "    value = datalist[counter_test]\n",
    "    #print(counter)\n",
    "\n",
    "\n",
    "    counter_test = counter_test +1\n",
    "             \n",
    "    return value"
   ]
  },
  {
   "cell_type": "code",
   "execution_count": 193,
   "metadata": {
    "collapsed": true
   },
   "outputs": [],
   "source": [
    "sliding_window_test = []\n",
    "lag=25 # 24 hours time step from 0 to 24 plus the window_step_move (25) which is to be predicted\n",
    "window_move_step = 1\n",
    "for i in range(lag - window_move_step):\n",
    "    temp=dataGetter_test(Feature_eval)\n",
    "    \n",
    "    sliding_window_test.append(temp);\n",
    "    "
   ]
  },
  {
   "cell_type": "code",
   "execution_count": 194,
   "metadata": {
    "collapsed": true
   },
   "outputs": [],
   "source": [
    "previous_sliding_window_length=24;\n",
    "time_step_shift = 24;"
   ]
  },
  {
   "cell_type": "code",
   "execution_count": 195,
   "metadata": {},
   "outputs": [
    {
     "data": {
      "text/plain": [
       "13"
      ]
     },
     "execution_count": 195,
     "metadata": {},
     "output_type": "execute_result"
    }
   ],
   "source": [
    "len(sliding_window_test[23])"
   ]
  },
  {
   "cell_type": "code",
   "execution_count": 196,
   "metadata": {},
   "outputs": [
    {
     "data": {
      "text/plain": [
       "24"
      ]
     },
     "execution_count": 196,
     "metadata": {},
     "output_type": "execute_result"
    }
   ],
   "source": [
    "len(sliding_window_test)"
   ]
  },
  {
   "cell_type": "code",
   "execution_count": 197,
   "metadata": {},
   "outputs": [
    {
     "data": {
      "text/plain": [
       "13"
      ]
     },
     "execution_count": 197,
     "metadata": {},
     "output_type": "execute_result"
    }
   ],
   "source": [
    "len(Feature_eval[0])"
   ]
  },
  {
   "cell_type": "code",
   "execution_count": 198,
   "metadata": {
    "collapsed": true
   },
   "outputs": [],
   "source": [
    "##Testing\n",
    "init =  tf.initialize_all_variables() # initialise variables because we are now using a different sliding window\n",
    "\n",
    " \n",
    "\n",
    "#Flush LSTM state\n",
    "sess.run(lstm_state1.assign(tf.zeros([1, lstm_layer1.state_size])));"
   ]
  },
  {
   "cell_type": "code",
   "execution_count": 199,
   "metadata": {},
   "outputs": [
    {
     "data": {
      "text/plain": [
       "13"
      ]
     },
     "execution_count": 199,
     "metadata": {},
     "output_type": "execute_result"
    }
   ],
   "source": [
    "len(sliding_window_test[12])"
   ]
  },
  {
   "cell_type": "code",
   "execution_count": 200,
   "metadata": {
    "collapsed": true
   },
   "outputs": [],
   "source": [
    "# Testing plot\n",
    "\n",
    "actual_output_test = []\n",
    "network_output_test = []\n",
    "\n",
    " \n",
    "for i in range(previous_sliding_window_length):\n",
    "   \n",
    "    input_v,input_mask = get_pair_Test(sliding_window_test)\n",
    "    _, network_output = sess.run([lstm_update_op1,\n",
    "                                  final_output],\n",
    "                                 feed_dict = {\n",
    "                                     input_layer:input_v,mask_x:input_mask})\n",
    "       \n",
    "    array_store=np.array(Feature_eval[time_step_shift]) \n",
    "    array_store[[0]] = network_output # replace real PM10 values with predicted values\n",
    "    list_store = array_store.tolist() # conver to list\n",
    "    #print(len(list_store))\n",
    "    sliding_window_test.append( list_store) # append new values for prediction\n",
    "    #print(len(sliding_window_test))\n",
    "    sliding_window_test.pop(0) # remove the first value of the list \n",
    "    #print(len(sliding_window_test))\n",
    "    time_step_shift = time_step_shift + 1; # increae the time step\n",
    "    network_output_test.append(network_output)"
   ]
  },
  {
   "cell_type": "code",
   "execution_count": 201,
   "metadata": {
    "collapsed": true
   },
   "outputs": [],
   "source": [
    "a=np.array([[1,2,3],[4,5,6]])"
   ]
  },
  {
   "cell_type": "code",
   "execution_count": 202,
   "metadata": {
    "collapsed": true
   },
   "outputs": [],
   "source": [
    "a[1][0]=4"
   ]
  },
  {
   "cell_type": "code",
   "execution_count": 203,
   "metadata": {},
   "outputs": [
    {
     "data": {
      "text/plain": [
       "array([[1, 2, 3],\n",
       "       [4, 5, 6]])"
      ]
     },
     "execution_count": 203,
     "metadata": {},
     "output_type": "execute_result"
    }
   ],
   "source": [
    "a"
   ]
  },
  {
   "cell_type": "code",
   "execution_count": 340,
   "metadata": {},
   "outputs": [
    {
     "data": {
      "text/plain": [
       "<matplotlib.figure.Figure at 0x126b3df60>"
      ]
     },
     "metadata": {},
     "output_type": "display_data"
    },
    {
     "data": {
      "image/png": "[encoded data removed]",
      "text/plain": [
       "<matplotlib.figure.Figure at 0x126b3d860>"
      ]
     },
     "metadata": {},
     "output_type": "display_data"
    }
   ],
   "source": [
    "import matplotlib.pyplot \n",
    "\n",
    "\n",
    "fig = plt.figure(figsize=(30, 2))\n",
    "\n",
    "fig, ax = plt.subplots()\n",
    "ax.plot( np.array(network_output_test).reshape(len(network_output_test),1), color='teal',linestyle='-',marker=\"x\",label=\" Test Prediction\")\n",
    "ax.plot(np.array(Target_list[-24:]).reshape(len(Target_list[-24:]),1),color='darkolivegreen' ,linestyle='-',label=\"Actual values\")\n",
    "\n",
    "plt.tight_layout()\n",
    "plt.ylabel(\"PM10 values\",fontweight='bold')\n",
    "plt.xlabel(\"Time/hr\",fontweight='bold')\n",
    "plt.title(\"Test Prediction\",fontweight='bold')\n",
    "\n",
    "#ax.xaxis.set_minor_locator(dates.MonthLocator())\n",
    "#ax.xaxis.set_minor_formatter(dates.DateFormatter('%H:%M:%S'))\n",
    "#ax.xaxis.set_minor_formatter(dates.DateFormatter('%d\\n%a'))\n",
    "#ax.xaxis.grid(True, which=\"minor\")\n",
    "#ax.yaxis.grid()\n",
    "#ax.xaxis.set_major_locator(dates.DayLocator())\n",
    "#ax.xaxis.set_major_formatter(dates.DateFormatter('\\n\\n%a\\%b\\%Y'))\n",
    "#ax.xaxis.set_major_formatter(dates.DateFormatter('%Y-%b-%a %H:%M:%S'))\n",
    "#ax.xaxis.grid(True, which=\"minor\")\n",
    "\n",
    "\n",
    "\n",
    "#ax.xaxis.set_minor_formatter(dates.DateFormatter('\\n\\n%a\\%b\\%Y'))\n",
    "\n",
    "\n",
    "#plt.xticks( rotation=25 )\n",
    "#plt.tight_layout()\n",
    "\n",
    "plt.show()"
   ]
  },
  {
   "cell_type": "code",
   "execution_count": 205,
   "metadata": {
    "collapsed": true
   },
   "outputs": [],
   "source": [
    "from sklearn.metrics import mean_squared_error"
   ]
  },
  {
   "cell_type": "code",
   "execution_count": 206,
   "metadata": {},
   "outputs": [
    {
     "data": {
      "text/plain": [
       "0.99442647350017932"
      ]
     },
     "execution_count": 206,
     "metadata": {},
     "output_type": "execute_result"
    }
   ],
   "source": [
    "mean_squared_error(np.array(network_output_test).reshape(len(Target_list[-24:]),1),np.array(Target_list[-24:]).reshape(len(network_output_test),1) )**0.5 "
   ]
  },
  {
   "cell_type": "code",
   "execution_count": 207,
   "metadata": {},
   "outputs": [
    {
     "data": {
      "text/plain": [
       "24"
      ]
     },
     "execution_count": 207,
     "metadata": {},
     "output_type": "execute_result"
    }
   ],
   "source": [
    "len(network_output_test)"
   ]
  },
  {
   "cell_type": "code",
   "execution_count": 208,
   "metadata": {
    "collapsed": true
   },
   "outputs": [],
   "source": [
    "import scipy\n",
    "def rsquared(x, y):\n",
    "    \"\"\" Return R^2 where x and y are array-like.\"\"\"\n",
    "    \n",
    "    slope, intercept, r_value, p_value, std_err = scipy.stats.linregress(x, y)\n",
    "    return r_value**2"
   ]
  },
  {
   "cell_type": "code",
   "execution_count": 209,
   "metadata": {},
   "outputs": [
    {
     "data": {
      "text/plain": [
       "0.61385066256886556"
      ]
     },
     "execution_count": 209,
     "metadata": {},
     "output_type": "execute_result"
    }
   ],
   "source": [
    "rsquared(np.array(network_output_test).reshape(len(Target_list[-24:]),),np.array(Target_list[-24:]).reshape(len(network_output_test),) ) "
   ]
  },
  {
   "cell_type": "code",
   "execution_count": null,
   "metadata": {
    "collapsed": true
   },
   "outputs": [],
   "source": []
  },
  {
   "cell_type": "code",
   "execution_count": null,
   "metadata": {
    "collapsed": true
   },
   "outputs": [],
   "source": []
  },
  {
   "cell_type": "code",
   "execution_count": null,
   "metadata": {
    "collapsed": true
   },
   "outputs": [],
   "source": []
  },
  {
   "cell_type": "code",
   "execution_count": null,
   "metadata": {
    "collapsed": true
   },
   "outputs": [],
   "source": []
  },
  {
   "cell_type": "code",
   "execution_count": null,
   "metadata": {
    "collapsed": true
   },
   "outputs": [],
   "source": []
  },
  {
   "cell_type": "code",
   "execution_count": null,
   "metadata": {
    "collapsed": true
   },
   "outputs": [],
   "source": []
  },
  {
   "cell_type": "code",
   "execution_count": null,
   "metadata": {
    "collapsed": true
   },
   "outputs": [],
   "source": []
  },
  {
   "cell_type": "code",
   "execution_count": null,
   "metadata": {
    "collapsed": true
   },
   "outputs": [],
   "source": [
    "\n"
   ]
  },
  {
   "cell_type": "code",
   "execution_count": null,
   "metadata": {
    "collapsed": true
   },
   "outputs": [],
   "source": []
  },
  {
   "cell_type": "code",
   "execution_count": null,
   "metadata": {
    "collapsed": true
   },
   "outputs": [],
   "source": []
  },
  {
   "cell_type": "code",
   "execution_count": null,
   "metadata": {
    "collapsed": true
   },
   "outputs": [],
   "source": []
  },
  {
   "cell_type": "code",
   "execution_count": null,
   "metadata": {
    "collapsed": true
   },
   "outputs": [],
   "source": []
  },
  {
   "cell_type": "code",
   "execution_count": null,
   "metadata": {
    "collapsed": true
   },
   "outputs": [],
   "source": []
  },
  {
   "cell_type": "code",
   "execution_count": null,
   "metadata": {
    "collapsed": true
   },
   "outputs": [],
   "source": []
  },
  {
   "cell_type": "code",
   "execution_count": null,
   "metadata": {
    "collapsed": true
   },
   "outputs": [],
   "source": []
  },
  {
   "cell_type": "code",
   "execution_count": null,
   "metadata": {
    "collapsed": true
   },
   "outputs": [],
   "source": []
  },
  {
   "cell_type": "code",
   "execution_count": null,
   "metadata": {
    "collapsed": true
   },
   "outputs": [],
   "source": []
  },
  {
   "cell_type": "code",
   "execution_count": null,
   "metadata": {
    "collapsed": true
   },
   "outputs": [],
   "source": []
  },
  {
   "cell_type": "code",
   "execution_count": null,
   "metadata": {
    "collapsed": true
   },
   "outputs": [],
   "source": []
  },
  {
   "cell_type": "code",
   "execution_count": null,
   "metadata": {
    "collapsed": true
   },
   "outputs": [],
   "source": []
  },
  {
   "cell_type": "code",
   "execution_count": null,
   "metadata": {
    "collapsed": true
   },
   "outputs": [],
   "source": []
  },
  {
   "cell_type": "code",
   "execution_count": null,
   "metadata": {
    "collapsed": true
   },
   "outputs": [],
   "source": []
  },
  {
   "cell_type": "code",
   "execution_count": null,
   "metadata": {
    "collapsed": true
   },
   "outputs": [],
   "source": []
  },
  {
   "cell_type": "code",
   "execution_count": null,
   "metadata": {
    "collapsed": true
   },
   "outputs": [],
   "source": []
  },
  {
   "cell_type": "code",
   "execution_count": null,
   "metadata": {
    "collapsed": true
   },
   "outputs": [],
   "source": []
  },
  {
   "cell_type": "code",
   "execution_count": null,
   "metadata": {
    "collapsed": true
   },
   "outputs": [],
   "source": []
  },
  {
   "cell_type": "code",
   "execution_count": null,
   "metadata": {
    "collapsed": true
   },
   "outputs": [],
   "source": []
  },
  {
   "cell_type": "code",
   "execution_count": null,
   "metadata": {
    "collapsed": true
   },
   "outputs": [],
   "source": []
  },
  {
   "cell_type": "code",
   "execution_count": null,
   "metadata": {
    "collapsed": true
   },
   "outputs": [],
   "source": []
  },
  {
   "cell_type": "code",
   "execution_count": null,
   "metadata": {
    "collapsed": true
   },
   "outputs": [],
   "source": []
  },
  {
   "cell_type": "code",
   "execution_count": null,
   "metadata": {
    "collapsed": true
   },
   "outputs": [],
   "source": []
  },
  {
   "cell_type": "code",
   "execution_count": null,
   "metadata": {
    "collapsed": true
   },
   "outputs": [],
   "source": []
  },
  {
   "cell_type": "code",
   "execution_count": null,
   "metadata": {
    "collapsed": true
   },
   "outputs": [],
   "source": []
  },
  {
   "cell_type": "code",
   "execution_count": null,
   "metadata": {
    "collapsed": true
   },
   "outputs": [],
   "source": []
  },
  {
   "cell_type": "code",
   "execution_count": null,
   "metadata": {
    "collapsed": true
   },
   "outputs": [],
   "source": []
  },
  {
   "cell_type": "code",
   "execution_count": null,
   "metadata": {
    "collapsed": true
   },
   "outputs": [],
   "source": []
  },
  {
   "cell_type": "code",
   "execution_count": null,
   "metadata": {
    "collapsed": true
   },
   "outputs": [],
   "source": []
  },
  {
   "cell_type": "code",
   "execution_count": null,
   "metadata": {
    "collapsed": true
   },
   "outputs": [],
   "source": []
  },
  {
   "cell_type": "code",
   "execution_count": null,
   "metadata": {
    "collapsed": true
   },
   "outputs": [],
   "source": []
  },
  {
   "cell_type": "code",
   "execution_count": null,
   "metadata": {
    "collapsed": true
   },
   "outputs": [],
   "source": []
  }
 ],
 "metadata": {
  "anaconda-cloud": {},
  "kernelspec": {
   "display_name": "Python [conda env:seychelles]",
   "language": "python",
   "name": "conda-env-seychelles-py"
  },
  "language_info": {
   "codemirror_mode": {
    "name": "ipython",
    "version": 3
   },
   "file_extension": ".py",
   "mimetype": "text/x-python",
   "name": "python",
   "nbconvert_exporter": "python",
   "pygments_lexer": "ipython3",
   "version": "3.5.2"
  }
 },
 "nbformat": 4,
 "nbformat_minor": 1
}
